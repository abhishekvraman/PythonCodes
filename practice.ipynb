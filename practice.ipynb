{
 "cells": [
  {
   "cell_type": "markdown",
   "metadata": {},
   "source": [
    "### Step 1: Importing the Relevant Libraries"
   ]
  },
  {
   "cell_type": "code",
   "execution_count": 192,
   "metadata": {},
   "outputs": [],
   "source": [
    "import matplotlib.pyplot as plt\n",
    "import pandas as pd\n",
    "import numpy as np\n",
    "import seaborn as sns\n",
    "\n",
    "from sklearn.preprocessing import LabelEncoder\n",
    "from sklearn.model_selection import train_test_split\n",
    "\n",
    "import math\n",
    "\n",
    "import warnings\n",
    "warnings.filterwarnings('ignore')"
   ]
  },
  {
   "cell_type": "markdown",
   "metadata": {},
   "source": [
    "### Step 2: Data Inspection"
   ]
  },
  {
   "cell_type": "code",
   "execution_count": 193,
   "metadata": {},
   "outputs": [],
   "source": [
    "train = pd.read_csv(\"train.csv\")\n",
    "test = pd.read_csv(\"test.csv\")"
   ]
  },
  {
   "cell_type": "code",
   "execution_count": 194,
   "metadata": {},
   "outputs": [
    {
     "data": {
      "text/plain": [
       "((30000, 24), (20000, 23))"
      ]
     },
     "execution_count": 194,
     "metadata": {},
     "output_type": "execute_result"
    }
   ],
   "source": [
    "train.shape,test.shape"
   ]
  },
  {
   "cell_type": "code",
   "execution_count": 195,
   "metadata": {},
   "outputs": [
    {
     "data": {
      "text/plain": [
       "24000.0"
      ]
     },
     "execution_count": 195,
     "metadata": {},
     "output_type": "execute_result"
    }
   ],
   "source": [
    "0.8*30000"
   ]
  },
  {
   "cell_type": "code",
   "execution_count": 196,
   "metadata": {},
   "outputs": [
    {
     "name": "stdout",
     "output_type": "stream",
     "text": [
      "Index(['Customer ID', 'Name', 'Gender', 'Age', 'Income (USD)',\n",
      "       'Income Stability', 'Profession', 'Type of Employment', 'Location',\n",
      "       'Loan Amount Request (USD)', 'Current Loan Expenses (USD)',\n",
      "       'Expense Type 1', 'Expense Type 2', 'Dependents', 'Credit Score',\n",
      "       'No. of Defaults', 'Has Active Credit Card', 'Property ID',\n",
      "       'Property Age', 'Property Type', 'Property Location', 'Co-Applicant',\n",
      "       'Property Price', 'Loan Sanction Amount (USD)'],\n",
      "      dtype='object')\n",
      "Index(['Customer ID', 'Name', 'Gender', 'Age', 'Income (USD)',\n",
      "       'Income Stability', 'Profession', 'Type of Employment', 'Location',\n",
      "       'Loan Amount Request (USD)', 'Current Loan Expenses (USD)',\n",
      "       'Expense Type 1', 'Expense Type 2', 'Dependents', 'Credit Score',\n",
      "       'No. of Defaults', 'Has Active Credit Card', 'Property ID',\n",
      "       'Property Age', 'Property Type', 'Property Location', 'Co-Applicant',\n",
      "       'Property Price'],\n",
      "      dtype='object')\n"
     ]
    }
   ],
   "source": [
    "#ratio of null values\n",
    "print(train.columns)\n",
    "print(test.columns)"
   ]
  },
  {
   "cell_type": "code",
   "execution_count": 197,
   "metadata": {},
   "outputs": [
    {
     "name": "stdout",
     "output_type": "stream",
     "text": [
      "Categorical Features in Train Set: 11\n",
      "Numerical Features in Train Set: 13\n"
     ]
    }
   ],
   "source": [
    "#categorical features\n",
    "categorical = train.select_dtypes(include =[np.object])\n",
    "print(\"Categorical Features in Train Set:\",categorical.shape[1])\n",
    "\n",
    "#numerical features\n",
    "numerical= train.select_dtypes(include =[np.float64,np.int64])\n",
    "print(\"Numerical Features in Train Set:\",numerical.shape[1])"
   ]
  },
  {
   "cell_type": "code",
   "execution_count": 198,
   "metadata": {},
   "outputs": [
    {
     "name": "stdout",
     "output_type": "stream",
     "text": [
      "Categorical Features in Test Set: 13\n",
      "Numerical Features in Test Set: 10\n"
     ]
    }
   ],
   "source": [
    "#categorical features\n",
    "categorical_ = test.select_dtypes(include =[np.object])\n",
    "print(\"Categorical Features in Test Set:\",categorical_.shape[1])\n",
    "\n",
    "#numerical features\n",
    "numerical_= test.select_dtypes(include =[np.float64,np.int64])\n",
    "print(\"Numerical Features in Test Set:\",numerical_.shape[1])"
   ]
  },
  {
   "cell_type": "code",
   "execution_count": 199,
   "metadata": {},
   "outputs": [
    {
     "name": "stdout",
     "output_type": "stream",
     "text": [
      "Index(['Customer ID', 'Name', 'Gender', 'Income Stability', 'Profession',\n",
      "       'Type of Employment', 'Location', 'Expense Type 1', 'Expense Type 2',\n",
      "       'Has Active Credit Card', 'Property Location'],\n",
      "      dtype='object')\n",
      "Index(['Customer ID', 'Name', 'Gender', 'Income Stability', 'Profession',\n",
      "       'Type of Employment', 'Location', 'Expense Type 1', 'Expense Type 2',\n",
      "       'Has Active Credit Card', 'Property Location', 'Co-Applicant',\n",
      "       'Property Price'],\n",
      "      dtype='object')\n"
     ]
    }
   ],
   "source": [
    "print(categorical.columns)\n",
    "print(categorical_.columns)"
   ]
  },
  {
   "cell_type": "code",
   "execution_count": 200,
   "metadata": {},
   "outputs": [
    {
     "name": "stdout",
     "output_type": "stream",
     "text": [
      " 1      25516\n",
      " 0       4316\n",
      "-999      168\n",
      "Name: Co-Applicant, dtype: int64\n",
      "1    17004\n",
      "0     2919\n",
      "?       77\n",
      "Name: Co-Applicant, dtype: int64\n"
     ]
    }
   ],
   "source": [
    "print(train['Co-Applicant'].value_counts())\n",
    "print(test['Co-Applicant'].value_counts())"
   ]
  },
  {
   "cell_type": "code",
   "execution_count": 201,
   "metadata": {},
   "outputs": [],
   "source": [
    "train['Co-Applicant'] = train['Co-Applicant'].replace(-999,1)\n",
    "test['Co-Applicant'] = test['Co-Applicant'].replace(['?','1','0'],[1,1,0])\n",
    "test['Property Price'] = test['Property Price'].replace('?','-999')\n",
    "test['Property Price'] = test['Property Price'].apply(pd.to_numeric)"
   ]
  },
  {
   "cell_type": "code",
   "execution_count": 202,
   "metadata": {},
   "outputs": [
    {
     "name": "stdout",
     "output_type": "stream",
     "text": [
      "M      15053\n",
      "F      14894\n",
      "NaN       53\n",
      "Name: Gender, dtype: int64\n",
      "F      10142\n",
      "M       9827\n",
      "NaN       31\n",
      "Name: Gender, dtype: int64\n"
     ]
    }
   ],
   "source": [
    "print(train['Gender'].value_counts(dropna=False))\n",
    "print(test['Gender'].value_counts(dropna=False))"
   ]
  },
  {
   "cell_type": "code",
   "execution_count": 203,
   "metadata": {},
   "outputs": [],
   "source": [
    "train['Gender'] = train['Gender'].fillna('M')\n",
    "test['Gender'] = test['Gender'].fillna('F')"
   ]
  },
  {
   "cell_type": "code",
   "execution_count": 204,
   "metadata": {},
   "outputs": [
    {
     "name": "stdout",
     "output_type": "stream",
     "text": [
      "Low     25751\n",
      "High     2566\n",
      "NaN      1683\n",
      "Name: Income Stability, dtype: int64\n",
      "Low     17501\n",
      "High     1686\n",
      "NaN       813\n",
      "Name: Income Stability, dtype: int64\n"
     ]
    }
   ],
   "source": [
    "print(train['Income Stability'].value_counts(dropna=False))\n",
    "print(test['Income Stability'].value_counts(dropna=False))"
   ]
  },
  {
   "cell_type": "code",
   "execution_count": 205,
   "metadata": {},
   "outputs": [],
   "source": [
    "train['Income Stability'] = train['Income Stability'].fillna('Low')\n",
    "test['Income Stability'] = test['Income Stability'].fillna('Low')"
   ]
  },
  {
   "cell_type": "code",
   "execution_count": 206,
   "metadata": {},
   "outputs": [
    {
     "name": "stdout",
     "output_type": "stream",
     "text": [
      "Working                 16926\n",
      "Commercial associate     7962\n",
      "Pensioner                2740\n",
      "State servant            2366\n",
      "Unemployed                  2\n",
      "Businessman                 2\n",
      "Student                     1\n",
      "Maternity leave             1\n",
      "Name: Profession, dtype: int64\n",
      "Working                 11405\n",
      "Commercial associate     5247\n",
      "Pensioner                1764\n",
      "State servant            1577\n",
      "Student                     4\n",
      "Unemployed                  2\n",
      "Maternity leave             1\n",
      "Name: Profession, dtype: int64\n"
     ]
    }
   ],
   "source": [
    "print(train['Profession'].value_counts(dropna=False))\n",
    "print(test['Profession'].value_counts(dropna=False))"
   ]
  },
  {
   "cell_type": "code",
   "execution_count": 207,
   "metadata": {},
   "outputs": [
    {
     "name": "stdout",
     "output_type": "stream",
     "text": [
      "NaN                      7270\n",
      "Laborers                 5578\n",
      "Sales staff              3736\n",
      "Core staff               3230\n",
      "Managers                 2495\n",
      "Drivers                  1606\n",
      "Accountants              1379\n",
      "High skill tech staff    1307\n",
      "Medicine staff            864\n",
      "Security staff            579\n",
      "Cooking staff             566\n",
      "Private service staff     342\n",
      "Cleaning staff            341\n",
      "Low-skill Laborers        162\n",
      "Secretaries               161\n",
      "Waiters/barmen staff      149\n",
      "Realty agents              86\n",
      "IT staff                   77\n",
      "HR staff                   72\n",
      "Name: Type of Employment, dtype: int64\n",
      "NaN                      4689\n",
      "Laborers                 3743\n",
      "Sales staff              2433\n",
      "Core staff               2232\n",
      "Managers                 1719\n",
      "Drivers                  1057\n",
      "Accountants               886\n",
      "High skill tech staff     881\n",
      "Medicine staff            598\n",
      "Cooking staff             405\n",
      "Security staff            377\n",
      "Cleaning staff            230\n",
      "Private service staff     201\n",
      "Low-skill Laborers        141\n",
      "Secretaries               119\n",
      "Waiters/barmen staff      110\n",
      "Realty agents              68\n",
      "HR staff                   60\n",
      "IT staff                   51\n",
      "Name: Type of Employment, dtype: int64\n"
     ]
    }
   ],
   "source": [
    "print(train['Type of Employment'].value_counts(dropna=False))\n",
    "print(test['Type of Employment'].value_counts(dropna=False))"
   ]
  },
  {
   "cell_type": "code",
   "execution_count": 208,
   "metadata": {},
   "outputs": [
    {
     "name": "stdout",
     "output_type": "stream",
     "text": [
      "Pensioner               2740\n",
      "Working                 2661\n",
      "Commercial associate    1438\n",
      "State servant            427\n",
      "Unemployed                 2\n",
      "Maternity leave            1\n",
      "Student                    1\n",
      "Name: Profession, dtype: int64\n",
      "Pensioner               1764\n",
      "Working                 1763\n",
      "Commercial associate     904\n",
      "State servant            256\n",
      "Unemployed                 2\n",
      "Name: Profession, dtype: int64\n"
     ]
    }
   ],
   "source": [
    "print(train[train['Type of Employment'].isna()]['Profession'].value_counts())\n",
    "print(test[test['Type of Employment'].isna()]['Profession'].value_counts())"
   ]
  },
  {
   "cell_type": "markdown",
   "metadata": {},
   "source": [
    "Profession does not seem to be adding value to Type of Employment, hence droping th columns/"
   ]
  },
  {
   "cell_type": "code",
   "execution_count": 209,
   "metadata": {},
   "outputs": [],
   "source": [
    "train = train.drop(['Profession'],axis=1)\n",
    "test = test.drop(['Profession'],axis=1)"
   ]
  },
  {
   "cell_type": "markdown",
   "metadata": {},
   "source": [
    "Ranking Type of Employment based on salary level"
   ]
  },
  {
   "cell_type": "code",
   "execution_count": 210,
   "metadata": {},
   "outputs": [],
   "source": [
    "ranks = {'Laborers':1,\n",
    "        'Sales staff':2,\n",
    "        'Core staff':3,\n",
    "        'Managers':5,\n",
    "        'Drivers':1,\n",
    "        'Accountants':3,\n",
    "        'High skill tech staff':5,\n",
    "        'Medicine staff':4,\n",
    "        'Security staff':2,\n",
    "        'Cooking staff':2,\n",
    "        'Private service staff':3,\n",
    "        'Cleaning staff':1,\n",
    "        'Low-skill Laborers':0,\n",
    "        'Secretaries':3,\n",
    "        'Waiters/barmen staff':1,\n",
    "        'Realty agents':3,\n",
    "        'IT staff':3,\n",
    "        'HR staff':4}\n",
    "train['Type of Employment'] = train['Type of Employment'].replace(ranks)\n",
    "train['Type of Employment'] = train['Type of Employment'].fillna(2)\n",
    "test['Type of Employment'] = test['Type of Employment'].replace(ranks)\n",
    "test['Type of Employment'] = test['Type of Employment'].fillna(2)"
   ]
  },
  {
   "cell_type": "code",
   "execution_count": 211,
   "metadata": {},
   "outputs": [
    {
     "name": "stdout",
     "output_type": "stream",
     "text": [
      "Semi-Urban    21563\n",
      "Rural          5338\n",
      "Urban          3099\n",
      "Name: Location, dtype: int64\n",
      "Semi-Urban    14463\n",
      "Rural          3436\n",
      "Urban          2101\n",
      "Name: Location, dtype: int64\n"
     ]
    }
   ],
   "source": [
    "print(train['Location'].value_counts(dropna=False))\n",
    "print(test['Location'].value_counts(dropna=False))"
   ]
  },
  {
   "cell_type": "code",
   "execution_count": 212,
   "metadata": {},
   "outputs": [
    {
     "name": "stdout",
     "output_type": "stream",
     "text": [
      "N    19214\n",
      "Y    10786\n",
      "Name: Expense Type 1, dtype: int64\n",
      "N    12816\n",
      "Y     7184\n",
      "Name: Expense Type 1, dtype: int64\n",
      "Y    20180\n",
      "N     9820\n",
      "Name: Expense Type 2, dtype: int64\n",
      "Y    13383\n",
      "N     6617\n",
      "Name: Expense Type 2, dtype: int64\n"
     ]
    }
   ],
   "source": [
    "print(train['Expense Type 1'].value_counts(dropna=False))\n",
    "print(test['Expense Type 1'].value_counts(dropna=False))\n",
    "print(train['Expense Type 2'].value_counts(dropna=False))\n",
    "print(test['Expense Type 2'].value_counts(dropna=False))"
   ]
  },
  {
   "cell_type": "code",
   "execution_count": 213,
   "metadata": {},
   "outputs": [
    {
     "name": "stdout",
     "output_type": "stream",
     "text": [
      "Active         9771\n",
      "Inactive       9466\n",
      "Unpossessed    9197\n",
      "NaN            1566\n",
      "Name: Has Active Credit Card, dtype: int64\n",
      "Active         6418\n",
      "Inactive       6376\n",
      "Unpossessed    6130\n",
      "NaN            1076\n",
      "Name: Has Active Credit Card, dtype: int64\n"
     ]
    }
   ],
   "source": [
    "print(train['Has Active Credit Card'].value_counts(dropna=False))\n",
    "print(test['Has Active Credit Card'].value_counts(dropna=False))"
   ]
  },
  {
   "cell_type": "code",
   "execution_count": 214,
   "metadata": {},
   "outputs": [],
   "source": [
    "train['Has Active Credit Card'] = train['Has Active Credit Card'].fillna('Unknown')\n",
    "test['Has Active Credit Card'] = test['Has Active Credit Card'].fillna('Unknown')"
   ]
  },
  {
   "cell_type": "code",
   "execution_count": 215,
   "metadata": {},
   "outputs": [
    {
     "name": "stdout",
     "output_type": "stream",
     "text": [
      "Semi-Urban    10387\n",
      "Rural         10041\n",
      "Urban          9216\n",
      "NaN             356\n",
      "Name: Property Location, dtype: int64\n",
      "Semi-Urban    6839\n",
      "Rural         6768\n",
      "Urban         6233\n",
      "NaN            160\n",
      "Name: Property Location, dtype: int64\n"
     ]
    }
   ],
   "source": [
    "print(train['Property Location'].value_counts(dropna=False))\n",
    "print(test['Property Location'].value_counts(dropna=False))"
   ]
  },
  {
   "cell_type": "code",
   "execution_count": 216,
   "metadata": {},
   "outputs": [],
   "source": [
    "train['Property Location'] = train['Property Location'].fillna('Unknown')\n",
    "test['Property Location'] = test['Property Location'].fillna('Unknown')"
   ]
  },
  {
   "cell_type": "markdown",
   "metadata": {},
   "source": [
    "Changing Dependents to catregorical data"
   ]
  },
  {
   "cell_type": "code",
   "execution_count": 217,
   "metadata": {},
   "outputs": [
    {
     "name": "stdout",
     "output_type": "stream",
     "text": [
      "2.0     13108\n",
      "3.0      5719\n",
      "1.0      5544\n",
      "4.0      2704\n",
      "NaN      2493\n",
      "5.0       372\n",
      "6.0        50\n",
      "7.0         7\n",
      "8.0         1\n",
      "14.0        1\n",
      "10.0        1\n",
      "Name: Dependents, dtype: int64\n",
      "2.0     8951\n",
      "3.0     3874\n",
      "1.0     3843\n",
      "4.0     1915\n",
      "NaN     1142\n",
      "5.0      245\n",
      "6.0       21\n",
      "8.0        4\n",
      "7.0        3\n",
      "10.0       1\n",
      "13.0       1\n",
      "Name: Dependents, dtype: int64\n"
     ]
    }
   ],
   "source": [
    "print(train['Dependents'].value_counts(dropna=False))\n",
    "print(test['Dependents'].value_counts(dropna=False))"
   ]
  },
  {
   "cell_type": "code",
   "execution_count": 218,
   "metadata": {},
   "outputs": [],
   "source": [
    "train['Dependents'] = train['Dependents'].fillna(2)\n",
    "test['Dependents'] = test['Dependents'].fillna(2)\n",
    "train.loc[(train['Dependents']<4),'Dependents'] = 1\n",
    "test.loc[(test['Dependents']<4),'Dependents'] = 1\n",
    "train.loc[(train['Dependents']>3),'Dependents'] = 0\n",
    "test.loc[(test['Dependents']>3),'Dependents'] = 0"
   ]
  },
  {
   "cell_type": "markdown",
   "metadata": {},
   "source": [
    "__Numberical__"
   ]
  },
  {
   "cell_type": "code",
   "execution_count": 219,
   "metadata": {},
   "outputs": [
    {
     "name": "stdout",
     "output_type": "stream",
     "text": [
      "Index(['Age', 'Income (USD)', 'Loan Amount Request (USD)',\n",
      "       'Current Loan Expenses (USD)', 'Dependents', 'Credit Score',\n",
      "       'No. of Defaults', 'Property ID', 'Property Age', 'Property Type',\n",
      "       'Co-Applicant', 'Property Price', 'Loan Sanction Amount (USD)'],\n",
      "      dtype='object')\n",
      "Index(['Age', 'Income (USD)', 'Loan Amount Request (USD)',\n",
      "       'Current Loan Expenses (USD)', 'Dependents', 'Credit Score',\n",
      "       'No. of Defaults', 'Property ID', 'Property Age', 'Property Type'],\n",
      "      dtype='object')\n"
     ]
    }
   ],
   "source": [
    "print(numerical.columns)\n",
    "print(numerical_.columns)"
   ]
  },
  {
   "cell_type": "code",
   "execution_count": 235,
   "metadata": {},
   "outputs": [
    {
     "data": {
      "text/plain": [
       "count    29996.000000\n",
       "mean      2552.511512\n",
       "std       1367.378405\n",
       "min        377.700000\n",
       "25%       1743.252500\n",
       "50%       2349.262834\n",
       "75%       3008.517500\n",
       "max      32726.980000\n",
       "Name: Income (USD), dtype: float64"
      ]
     },
     "execution_count": 235,
     "metadata": {},
     "output_type": "execute_result"
    },
    {
     "data": {
      "image/png": "[encoded data removed]",
      "text/plain": [
       "<Figure size 1296x360 with 1 Axes>"
      ]
     },
     "metadata": {
      "needs_background": "light"
     },
     "output_type": "display_data"
    }
   ],
   "source": [
    "st = 'Income (USD)'\n",
    "plt.figure(figsize=(18,5))\n",
    "sns.boxplot(st,data=train)\n",
    "train[st].describe()"
   ]
  },
  {
   "cell_type": "code",
   "execution_count": 236,
   "metadata": {},
   "outputs": [
    {
     "data": {
      "text/plain": [
       "count    20000.000000\n",
       "mean      2537.057742\n",
       "std       1390.643873\n",
       "min        377.700000\n",
       "25%       1678.365000\n",
       "50%       2275.140000\n",
       "75%       3065.397500\n",
       "max      30427.680000\n",
       "Name: Income (USD), dtype: float64"
      ]
     },
     "execution_count": 236,
     "metadata": {},
     "output_type": "execute_result"
    },
    {
     "data": {
      "image/png": "[encoded data removed]",
      "text/plain": [
       "<Figure size 1296x360 with 1 Axes>"
      ]
     },
     "metadata": {
      "needs_background": "light"
     },
     "output_type": "display_data"
    }
   ],
   "source": [
    "plt.figure(figsize=(18,5))\n",
    "sns.boxplot(st,data=test)\n",
    "test[st].describe()"
   ]
  },
  {
   "cell_type": "code",
   "execution_count": 222,
   "metadata": {},
   "outputs": [
    {
     "name": "stdout",
     "output_type": "stream",
     "text": [
      "NaN        4576\n",
      "2415.70       4\n",
      "1608.43       4\n",
      "1886.46       3\n",
      "1282.74       3\n",
      "           ... \n",
      "3341.96       1\n",
      "3025.24       1\n",
      "1852.56       1\n",
      "1375.78       1\n",
      "4907.72       1\n",
      "Name: Income (USD), Length: 24430, dtype: int64\n",
      "NaN        750\n",
      "2097.78      3\n",
      "2248.35      3\n",
      "1720.04      3\n",
      "1876.05      3\n",
      "          ... \n",
      "2478.40      1\n",
      "3744.63      1\n",
      "1628.89      1\n",
      "2948.91      1\n",
      "3953.43      1\n",
      "Name: Income (USD), Length: 18694, dtype: int64\n"
     ]
    }
   ],
   "source": [
    "print(train[st].value_counts(dropna=False))\n",
    "print(test[st].value_counts(dropna=False))"
   ]
  },
  {
   "cell_type": "code",
   "execution_count": 223,
   "metadata": {},
   "outputs": [
    {
     "name": "stdout",
     "output_type": "stream",
     "text": [
      "-999.00    177\n",
      " NaN       172\n",
      " 333.79      6\n",
      " 366.37      6\n",
      " 323.12      5\n",
      "          ... \n",
      " 159.11      1\n",
      " 733.01      1\n",
      " 429.59      1\n",
      " 548.57      1\n",
      " 170.46      1\n",
      "Name: Current Loan Expenses (USD), Length: 24042, dtype: int64\n",
      "NaN       83\n",
      "417.47     4\n",
      "297.01     4\n",
      "243.54     4\n",
      "273.20     4\n",
      "          ..\n",
      "475.53     1\n",
      "285.04     1\n",
      "239.84     1\n",
      "543.43     1\n",
      "679.33     1\n",
      "Name: Current Loan Expenses (USD), Length: 17248, dtype: int64\n"
     ]
    }
   ],
   "source": [
    "print(train['Current Loan Expenses (USD)'].value_counts(dropna=False))\n",
    "print(test['Current Loan Expenses (USD)'].value_counts(dropna=False))"
   ]
  },
  {
   "cell_type": "code",
   "execution_count": 224,
   "metadata": {},
   "outputs": [],
   "source": [
    "train['Current Loan Expenses (USD)'] = train['Current Loan Expenses (USD)'].replace(-999,np.nan)\n",
    "train['Current Loan Expenses (USD)'] = train['Current Loan Expenses (USD)'].fillna(train['Current Loan Expenses (USD)'].mean())\n",
    "test['Current Loan Expenses (USD)'] = test['Current Loan Expenses (USD)'].fillna(test['Current Loan Expenses (USD)'].mean())\n",
    "train['Credit Score'] = train['Credit Score'].fillna(train['Credit Score'].mean())\n",
    "test['Credit Score'] = test['Credit Score'].fillna(test['Credit Score'].mean())"
   ]
  },
  {
   "cell_type": "markdown",
   "metadata": {},
   "source": [
    "There are some outliers in Property Age and Property Price"
   ]
  },
  {
   "cell_type": "code",
   "execution_count": 225,
   "metadata": {},
   "outputs": [
    {
     "name": "stdout",
     "output_type": "stream",
     "text": [
      "NaN          4850\n",
      "4.406658        4\n",
      "6.618356        4\n",
      "5.042959        3\n",
      "5.793205        3\n",
      "             ... \n",
      "11.501562       1\n",
      "4.453041        1\n",
      "5.551890        1\n",
      "5.164027        1\n",
      "4.682027        1\n",
      "Name: Property Age, Length: 24180, dtype: int64\n",
      "NaN         892\n",
      "5.606932      3\n",
      "5.542274      3\n",
      "5.268822      3\n",
      "3.565123      3\n",
      "           ... \n",
      "6.469616      1\n",
      "8.996466      1\n",
      "3.565863      1\n",
      "1.880630      1\n",
      "6.108301      1\n",
      "Name: Property Age, Length: 18561, dtype: int64\n"
     ]
    }
   ],
   "source": [
    "train['Property Age'] = train['Property Age']/(365)\n",
    "test['Property Age'] = test['Property Age']/(365)\n",
    "print(train['Property Age'].value_counts(dropna=False))\n",
    "print(test['Property Age'].value_counts(dropna=False))"
   ]
  },
  {
   "cell_type": "code",
   "execution_count": 226,
   "metadata": {},
   "outputs": [
    {
     "name": "stdout",
     "output_type": "stream",
     "text": [
      "-999.0    352\n",
      "Name: Property Price, dtype: int64\n",
      "-999.0    168\n",
      "Name: Property Price, dtype: int64\n"
     ]
    }
   ],
   "source": [
    "print(train[train['Property Price']<0]['Property Price'].value_counts(dropna=False))\n",
    "print(test[test['Property Price']<0]['Property Price'].value_counts(dropna=False))"
   ]
  },
  {
   "cell_type": "code",
   "execution_count": 227,
   "metadata": {
    "tags": []
   },
   "outputs": [],
   "source": [
    "df = train[train['Property Age'].isna()][['Property Age']]\n",
    "df2 = train[~train['Property Age'].isna()][['Property Age','Property Location','Property Type']]\n",
    "for i in df.index:\n",
    "    train.loc[i,'Property Age'] = df2[(df2['Property Location']==train.at[i,'Property Location']) & (df2['Property Type'] == train.at[i,'Property Type'])]['Property Age'].mean()"
   ]
  },
  {
   "cell_type": "code",
   "execution_count": 228,
   "metadata": {},
   "outputs": [],
   "source": [
    "df = test[test['Property Age'].isna()][['Property Age']]\n",
    "df2 = test[~test['Property Age'].isna()][['Property Age','Property Location','Property Type']]\n",
    "for i in df.index:\n",
    "    test.loc[i,'Property Age'] = df2[(df2['Property Location']==test.at[i,'Property Location']) & (df2['Property Type'] == test.at[i,'Property Type'])]['Property Age'].mean()"
   ]
  },
  {
   "cell_type": "code",
   "execution_count": 229,
   "metadata": {},
   "outputs": [],
   "source": [
    "train = train[train['Property Age']<90]\n",
    "test = test[test['Property Age']<90]\n",
    "while train['Property Age'].min()>test['Property Age'].min():\n",
    "    test.loc[test['Property Age']==test['Property Age'].min(),'Property Age'] = train['Property Age'].min()"
   ]
  },
  {
   "cell_type": "code",
   "execution_count": 230,
   "metadata": {},
   "outputs": [],
   "source": [
    "df = train[train['Property Price']<0][['Property Price']]\n",
    "df2 = train[train['Property Price']>0][['Property Price','Property Location','Property Type']]\n",
    "for i in df.index:\n",
    "    train.loc[i,'Property Price'] = df2[(df2['Property Location']==train.at[i,'Property Location']) & (df2['Property Type'] == train.at[i,'Property Type'])]['Property Price'].mean()"
   ]
  },
  {
   "cell_type": "code",
   "execution_count": 231,
   "metadata": {},
   "outputs": [],
   "source": [
    "df = test[test['Property Price']<0][['Property Price']]\n",
    "df2 = test[test['Property Price']>0][['Property Price','Property Location','Property Type']]\n",
    "for i in df.index:\n",
    "    test.loc[i,'Property Price'] = df2[(df2['Property Location']==test.at[i,'Property Location']) & (df2['Property Type'] == test.at[i,'Property Type'])]['Property Price'].mean()"
   ]
  },
  {
   "cell_type": "markdown",
   "metadata": {},
   "source": [
    "Income (USD)"
   ]
  },
  {
   "cell_type": "code",
   "execution_count": 232,
   "metadata": {},
   "outputs": [],
   "source": [
    "df = train[train['Income (USD)'].isna()][['Income (USD)']]\n",
    "df2 = train[~train['Income (USD)'].isna()][['Income (USD)','Type of Employment']]\n",
    "for i in df.index:\n",
    "    train.loc[i,'Income (USD)'] = df2[(df2['Type of Employment'] == train.at[i,'Type of Employment'])]['Income (USD)'].mean()"
   ]
  },
  {
   "cell_type": "code",
   "execution_count": 233,
   "metadata": {},
   "outputs": [],
   "source": [
    "df = test[test['Income (USD)'].isna()][['Income (USD)']]\n",
    "df2 = test[~test['Income (USD)'].isna()][['Income (USD)','Type of Employment']]\n",
    "for i in df.index:\n",
    "    test.loc[i,'Income (USD)'] = df2[(df2['Type of Employment'] == test.at[i,'Type of Employment'])]['Income (USD)'].mean()"
   ]
  },
  {
   "cell_type": "code",
   "execution_count": 237,
   "metadata": {},
   "outputs": [],
   "source": [
    "train = train[train['Income (USD)']<40000]\n",
    "test = test[test['Income (USD)']<40000]\n",
    "while train['Income (USD)'].min()>test['Income (USD)'].min():\n",
    "    test.loc[test['Income (USD)']==test['Income (USD)'].min(),'Income (USD)'] = train['Income (USD)'].min()"
   ]
  },
  {
   "cell_type": "code",
   "execution_count": 238,
   "metadata": {},
   "outputs": [
    {
     "data": {
      "text/plain": [
       "Customer ID                      0\n",
       "Name                             0\n",
       "Gender                           0\n",
       "Age                              0\n",
       "Income (USD)                     0\n",
       "Income Stability                 0\n",
       "Type of Employment               0\n",
       "Location                         0\n",
       "Loan Amount Request (USD)        0\n",
       "Current Loan Expenses (USD)      0\n",
       "Expense Type 1                   0\n",
       "Expense Type 2                   0\n",
       "Dependents                       0\n",
       "Credit Score                     0\n",
       "No. of Defaults                  0\n",
       "Has Active Credit Card           0\n",
       "Property ID                      0\n",
       "Property Age                     0\n",
       "Property Type                    0\n",
       "Property Location                0\n",
       "Co-Applicant                     0\n",
       "Property Price                   0\n",
       "Loan Sanction Amount (USD)     340\n",
       "dtype: int64"
      ]
     },
     "execution_count": 238,
     "metadata": {},
     "output_type": "execute_result"
    }
   ],
   "source": [
    "train.isnull().sum()"
   ]
  },
  {
   "cell_type": "code",
   "execution_count": 239,
   "metadata": {},
   "outputs": [
    {
     "data": {
      "text/plain": [
       " 0.00         7863\n",
       " NaN           340\n",
       "-999.00        338\n",
       " 28937.45        3\n",
       " 27767.18        2\n",
       "              ... \n",
       " 126665.42       1\n",
       " 39223.54        1\n",
       " 45498.37        1\n",
       " 64906.87        1\n",
       " 51336.08        1\n",
       "Name: Loan Sanction Amount (USD), Length: 21449, dtype: int64"
      ]
     },
     "execution_count": 239,
     "metadata": {},
     "output_type": "execute_result"
    }
   ],
   "source": [
    "train['Loan Sanction Amount (USD)'].value_counts(dropna=False)"
   ]
  },
  {
   "cell_type": "code",
   "execution_count": 240,
   "metadata": {},
   "outputs": [],
   "source": [
    "train['Loan Sanction Amount (USD)'] = train['Loan Sanction Amount (USD)'].replace(-999,np.nan)\n",
    "train = train.dropna(subset=['Loan Sanction Amount (USD)'])\n",
    "train['Loan Sanction Amount (USD)'] = train['Loan Sanction Amount (USD)']*100"
   ]
  },
  {
   "cell_type": "code",
   "execution_count": 241,
   "metadata": {},
   "outputs": [
    {
     "data": {
      "text/plain": [
       "Customer ID                    0\n",
       "Name                           0\n",
       "Gender                         0\n",
       "Age                            0\n",
       "Income (USD)                   0\n",
       "Income Stability               0\n",
       "Type of Employment             0\n",
       "Location                       0\n",
       "Loan Amount Request (USD)      0\n",
       "Current Loan Expenses (USD)    0\n",
       "Expense Type 1                 0\n",
       "Expense Type 2                 0\n",
       "Dependents                     0\n",
       "Credit Score                   0\n",
       "No. of Defaults                0\n",
       "Has Active Credit Card         0\n",
       "Property ID                    0\n",
       "Property Age                   0\n",
       "Property Type                  0\n",
       "Property Location              0\n",
       "Co-Applicant                   0\n",
       "Property Price                 0\n",
       "dtype: int64"
      ]
     },
     "execution_count": 241,
     "metadata": {},
     "output_type": "execute_result"
    }
   ],
   "source": [
    "test.isnull().sum()"
   ]
  },
  {
   "cell_type": "code",
   "execution_count": 242,
   "metadata": {},
   "outputs": [
    {
     "data": {
      "text/html": [
       "<div>\n",
       "<style scoped>\n",
       "    .dataframe tbody tr th:only-of-type {\n",
       "        vertical-align: middle;\n",
       "    }\n",
       "\n",
       "    .dataframe tbody tr th {\n",
       "        vertical-align: top;\n",
       "    }\n",
       "\n",
       "    .dataframe thead th {\n",
       "        text-align: right;\n",
       "    }\n",
       "</style>\n",
       "<table border=\"1\" class=\"dataframe\">\n",
       "  <thead>\n",
       "    <tr style=\"text-align: right;\">\n",
       "      <th></th>\n",
       "      <th>is loan sactioned</th>\n",
       "      <th>Loan Sanction Amount (USD)</th>\n",
       "    </tr>\n",
       "  </thead>\n",
       "  <tbody>\n",
       "    <tr>\n",
       "      <th>0</th>\n",
       "      <td>1</td>\n",
       "      <td>5460718.0</td>\n",
       "    </tr>\n",
       "    <tr>\n",
       "      <th>1</th>\n",
       "      <td>1</td>\n",
       "      <td>3746998.0</td>\n",
       "    </tr>\n",
       "    <tr>\n",
       "      <th>2</th>\n",
       "      <td>1</td>\n",
       "      <td>3647443.0</td>\n",
       "    </tr>\n",
       "    <tr>\n",
       "      <th>3</th>\n",
       "      <td>1</td>\n",
       "      <td>5604054.0</td>\n",
       "    </tr>\n",
       "    <tr>\n",
       "      <th>4</th>\n",
       "      <td>1</td>\n",
       "      <td>7400828.0</td>\n",
       "    </tr>\n",
       "    <tr>\n",
       "      <th>...</th>\n",
       "      <td>...</td>\n",
       "      <td>...</td>\n",
       "    </tr>\n",
       "    <tr>\n",
       "      <th>29995</th>\n",
       "      <td>1</td>\n",
       "      <td>6899211.0</td>\n",
       "    </tr>\n",
       "    <tr>\n",
       "      <th>29996</th>\n",
       "      <td>1</td>\n",
       "      <td>4661660.0</td>\n",
       "    </tr>\n",
       "    <tr>\n",
       "      <th>29997</th>\n",
       "      <td>1</td>\n",
       "      <td>6105756.0</td>\n",
       "    </tr>\n",
       "    <tr>\n",
       "      <th>29998</th>\n",
       "      <td>1</td>\n",
       "      <td>9976687.0</td>\n",
       "    </tr>\n",
       "    <tr>\n",
       "      <th>29999</th>\n",
       "      <td>1</td>\n",
       "      <td>11721790.0</td>\n",
       "    </tr>\n",
       "  </tbody>\n",
       "</table>\n",
       "<p>29318 rows × 2 columns</p>\n",
       "</div>"
      ],
      "text/plain": [
       "       is loan sactioned  Loan Sanction Amount (USD)\n",
       "0                      1                   5460718.0\n",
       "1                      1                   3746998.0\n",
       "2                      1                   3647443.0\n",
       "3                      1                   5604054.0\n",
       "4                      1                   7400828.0\n",
       "...                  ...                         ...\n",
       "29995                  1                   6899211.0\n",
       "29996                  1                   4661660.0\n",
       "29997                  1                   6105756.0\n",
       "29998                  1                   9976687.0\n",
       "29999                  1                  11721790.0\n",
       "\n",
       "[29318 rows x 2 columns]"
      ]
     },
     "execution_count": 242,
     "metadata": {},
     "output_type": "execute_result"
    }
   ],
   "source": [
    "train['Loan Amount Request (USD)'] = train['Loan Amount Request (USD)'] * 100\n",
    "test['Loan Amount Request (USD)'] = test['Loan Amount Request (USD)'] * 100\n",
    "train['Loan Saction Fraction'] = round(train['Loan Sanction Amount (USD)']/train['Loan Amount Request (USD)'],3)\n",
    "train['is loan sactioned'] = 0\n",
    "train.loc[(train['Loan Sanction Amount (USD)'] > 0), ('is loan sactioned')] = 1\n",
    "train[['is loan sactioned','Loan Sanction Amount (USD)']]"
   ]
  },
  {
   "cell_type": "markdown",
   "metadata": {},
   "source": [
    "### Binning some numerical variables"
   ]
  },
  {
   "cell_type": "code",
   "execution_count": 243,
   "metadata": {},
   "outputs": [],
   "source": [
    "train['Age'],bins = pd.cut(train['Age'],8,retbins=True, labels=False)\n",
    "test['Age'] = pd.cut(test['Age'], bins=bins, labels=False, include_lowest=True)"
   ]
  },
  {
   "cell_type": "code",
   "execution_count": 244,
   "metadata": {},
   "outputs": [],
   "source": [
    "train['Property Age'],bins = pd.qcut(train['Property Age'],8,retbins=True, labels=False)\n",
    "test['Property Age'] = pd.cut(test['Property Age'], bins=bins, labels=False, include_lowest=True)"
   ]
  },
  {
   "cell_type": "code",
   "execution_count": 245,
   "metadata": {},
   "outputs": [],
   "source": [
    "train['Property Price'],bins = pd.qcut(train['Property Price'],20,retbins=True, labels=False)\n",
    "test['Property Price'] = pd.cut(test['Property Price'],bins=bins, labels=False, include_lowest=True)"
   ]
  },
  {
   "cell_type": "code",
   "execution_count": 246,
   "metadata": {},
   "outputs": [],
   "source": [
    "train['Loan Amount Request (USD)'],bins = pd.qcut(train['Loan Amount Request (USD)'],20,retbins=True, labels=False)\n",
    "test['Loan Request (USD)'] = test['Loan Amount Request (USD)']\n",
    "test['Loan Amount Request (USD)'] = pd.cut(test['Loan Amount Request (USD)'],bins=bins, labels=False, include_lowest=True)"
   ]
  },
  {
   "cell_type": "code",
   "execution_count": 247,
   "metadata": {},
   "outputs": [],
   "source": [
    "train['Current Loan Expenses (USD)'],bins = pd.qcut(train['Current Loan Expenses (USD)'],20,retbins=True, labels=False)\n",
    "test['Current Loan Expenses (USD)'] = test['Current Loan Expenses (USD)']\n",
    "test['Current Loan Expenses (USD)'] = pd.cut(test['Current Loan Expenses (USD)'],bins=bins, labels=False, include_lowest=True)"
   ]
  },
  {
   "cell_type": "code",
   "execution_count": 248,
   "metadata": {},
   "outputs": [],
   "source": [
    "train['Credit Score'],bins = pd.qcut(train['Credit Score'],20,retbins=True, labels=False)\n",
    "test['Credit Score'] = test['Credit Score']\n",
    "test['Credit Score'] = pd.cut(test['Credit Score'],bins=bins, labels=False, include_lowest=True)"
   ]
  },
  {
   "cell_type": "code",
   "execution_count": 249,
   "metadata": {},
   "outputs": [],
   "source": [
    "train['Income (USD)'],bins = pd.qcut(train['Income (USD)'],20,retbins=True, labels=False)\n",
    "test['Income (USD)'] = test['Income (USD)']\n",
    "test['Income (USD)'] = pd.cut(test['Income (USD)'],bins=bins, labels=False, include_lowest=True)"
   ]
  },
  {
   "cell_type": "markdown",
   "metadata": {},
   "source": [
    "### Step 5 : Feature Engineering"
   ]
  },
  {
   "cell_type": "markdown",
   "metadata": {},
   "source": [
    "__Numerical and One-Hot Coding of Categorical variables__"
   ]
  },
  {
   "cell_type": "code",
   "execution_count": 250,
   "metadata": {},
   "outputs": [],
   "source": [
    "var_mod = ['Income (USD)','Credit Score','Gender','Current Loan Expenses (USD)', 'Age','Property Age','Property Price','Income Stability','Type of Employment', 'Location', 'Expense Type 1', 'Expense Type 2', 'Has Active Credit Card', 'Property Location','Loan Amount Request (USD)']\n",
    "le = LabelEncoder()\n",
    "for i in var_mod:\n",
    "    train[i] = le.fit_transform(train[i])\n",
    "for i in var_mod:\n",
    "    test[i] = le.fit_transform(test[i])    \n",
    "#One Hot Coding:\n",
    "train = pd.get_dummies(train, columns=var_mod)\n",
    "test = pd.get_dummies(test, columns=var_mod)"
   ]
  },
  {
   "cell_type": "markdown",
   "metadata": {},
   "source": [
    "### Step 6: Building Model"
   ]
  },
  {
   "cell_type": "code",
   "execution_count": 251,
   "metadata": {},
   "outputs": [
    {
     "data": {
      "text/plain": [
       "151"
      ]
     },
     "execution_count": 251,
     "metadata": {},
     "output_type": "execute_result"
    }
   ],
   "source": [
    "len(train.columns)"
   ]
  },
  {
   "cell_type": "code",
   "execution_count": 252,
   "metadata": {},
   "outputs": [
    {
     "data": {
      "text/plain": [
       "149"
      ]
     },
     "execution_count": 252,
     "metadata": {},
     "output_type": "execute_result"
    }
   ],
   "source": [
    "len(test.columns)"
   ]
  },
  {
   "cell_type": "code",
   "execution_count": 253,
   "metadata": {},
   "outputs": [],
   "source": [
    "# a=list(train.columns)\n",
    "# b=list(test.columns)\n",
    "# for i in range(len(a)):\n",
    "#     for j in range(len(b)):\n",
    "#         if a[i]==b[j]:\n",
    "#             a[i]=None\n",
    "#             b[j]=None\n",
    "# for aa in a:\n",
    "#     if aa != None:\n",
    "#         print(aa)\n",
    "# print(\"adsada\")\n",
    "# for aa in b:\n",
    "#     if aa != None:\n",
    "#         print(aa)"
   ]
  },
  {
   "cell_type": "markdown",
   "metadata": {},
   "source": [
    "### Classification Models"
   ]
  },
  {
   "cell_type": "code",
   "execution_count": 254,
   "metadata": {},
   "outputs": [],
   "source": [
    "train = train.select_dtypes(exclude='object')\n",
    "test_customer_ID = test['Customer ID']\n",
    "test = test.select_dtypes(exclude='object')"
   ]
  },
  {
   "cell_type": "code",
   "execution_count": 258,
   "metadata": {},
   "outputs": [],
   "source": [
    "# Seperate Features and Target\n",
    "X= train.drop(columns = ['is loan sactioned','Loan Sanction Amount (USD)','Loan Saction Fraction'], axis=1)\n",
    "y= train['is loan sactioned']\n",
    "# 20% data as validation set\n",
    "X_train,X_valid,y_train,y_valid = train_test_split(X,y,test_size=0.2,random_state=22)"
   ]
  },
  {
   "cell_type": "code",
   "execution_count": 259,
   "metadata": {},
   "outputs": [],
   "source": [
    "# from sklearn.svm import SVC\n",
    "# from sklearn.linear_model import SGDClassifier\n",
    "# from sklearn.tree import DecisionTreeClassifier\n",
    "# from sklearn.neural_network import MLPClassifier\n",
    "# from sklearn import metrics\n",
    "from sklearn.ensemble import RandomForestClassifier\n",
    "# from xgboost import XGBClassifier\n",
    "# algos = [SVC(), SGDClassifier(), DecisionTreeClassifier(),MLPClassifier(),RandomForestClassifier(),XGBClassifier()]\n",
    "\n",
    "# names = ['Support Vector Machine', 'Stochastic Gradient Descent', 'Decision Tree', 'Multi-layer perceptron', 'Random Forest Classifier','XGB Classifier' ]\n",
    "\n",
    "# rmse_list = []\n",
    "# for name in algos:\n",
    "#     model = name\n",
    "#     model.fit(X_train,y_train)\n",
    "#     y_pred = model.predict(X_valid)\n",
    "#     MSE= metrics.mean_squared_error(y_valid,y_pred)\n",
    "#     rmse = np.sqrt(MSE)\n",
    "#     rmse_list.append(rmse)\n",
    "# evaluation = pd.DataFrame({'Algo':algos,'Model': names,'RMSE': rmse_list})\n",
    "# evaluation"
   ]
  },
  {
   "cell_type": "code",
   "execution_count": 260,
   "metadata": {},
   "outputs": [
    {
     "data": {
      "text/plain": [
       "RandomForestClassifier()"
      ]
     },
     "execution_count": 260,
     "metadata": {},
     "output_type": "execute_result"
    }
   ],
   "source": [
    "model = RandomForestClassifier() #algos[evaluation[evaluation['RMSE']==evaluation['RMSE'].min()].index[0]]\n",
    "\n",
    "model.fit(X_train,y_train)\n",
    "X_test = test.drop(columns = ['Loan Request (USD)'], axis=1)\n",
    "test['is loan sactioned'] = model.predict(X_test)\n",
    "model"
   ]
  },
  {
   "cell_type": "markdown",
   "metadata": {},
   "source": [
    "### Regression Models"
   ]
  },
  {
   "cell_type": "code",
   "execution_count": 261,
   "metadata": {},
   "outputs": [],
   "source": [
    "# Seperate Features and Target\n",
    "X= train[train['is loan sactioned']==1].drop(columns = ['is loan sactioned','Loan Sanction Amount (USD)','Loan Saction Fraction'], axis=1)\n",
    "X_test = test[test['is loan sactioned']==1].drop(columns = ['is loan sactioned','Loan Request (USD)'], axis=1)\n",
    "y= train[train['is loan sactioned']==1]['Loan Saction Fraction']"
   ]
  },
  {
   "cell_type": "code",
   "execution_count": 262,
   "metadata": {},
   "outputs": [],
   "source": [
    "# 20% data as validation set\n",
    "X_train,X_valid,y_train,y_valid = train_test_split(X,y,test_size=0.2,random_state=22)"
   ]
  },
  {
   "cell_type": "code",
   "execution_count": 263,
   "metadata": {},
   "outputs": [],
   "source": [
    "# from sklearn.linear_model import Ridge, Lasso, LinearRegression\n",
    "# from sklearn.tree import DecisionTreeRegressor\n",
    "# from sklearn.neighbors import KNeighborsRegressor\n",
    "from sklearn.ensemble import RandomForestRegressor\n",
    "# from xgboost import XGBRegressor\n",
    "\n",
    "# from sklearn import metrics\n",
    "# algos = [LinearRegression(),  Ridge(), Lasso(),\n",
    "#           KNeighborsRegressor(), DecisionTreeRegressor(),RandomForestRegressor(),XGBRegressor()]\n",
    "\n",
    "# names = ['Linear Regression', 'Ridge Regression', 'Lasso Regression',\n",
    "#          'K Neighbors Regressor', 'Decision Tree Regressor','Random Forest Regressor','XG Boost Regressor']\n",
    "\n",
    "# rmse_list = []\n",
    "# for name in algos:\n",
    "#     model = name\n",
    "#     model.fit(X_train,y_train)\n",
    "#     y_pred = model.predict(X_valid)\n",
    "#     MSE= metrics.mean_squared_error(y_valid,y_pred)\n",
    "#     rmse = np.sqrt(MSE)\n",
    "#     rmse_list.append(rmse)\n",
    "# evaluation = pd.DataFrame({'Algo':algos,'Model': names,'RMSE': rmse_list})\n",
    "# evaluation"
   ]
  },
  {
   "cell_type": "code",
   "execution_count": null,
   "metadata": {},
   "outputs": [],
   "source": [
    "model = RandomForestRegressor() #algos[evaluation[evaluation['RMSE']==evaluation['RMSE'].min()].index[0]]\n",
    "model.fit(X_train,y_train)\n",
    "model"
   ]
  },
  {
   "cell_type": "code",
   "execution_count": null,
   "metadata": {},
   "outputs": [],
   "source": [
    "max(0,100*metrics.r2_score(y_valid, model.predict(X_valid)))"
   ]
  },
  {
   "cell_type": "code",
   "execution_count": null,
   "metadata": {},
   "outputs": [],
   "source": [
    "predicted_sanction_fraction = model.predict(X_test)\n",
    "len(test[test['is loan sactioned']==1]['is loan sactioned']),len(predicted_sanction_fraction)"
   ]
  },
  {
   "cell_type": "code",
   "execution_count": null,
   "metadata": {
    "tags": []
   },
   "outputs": [],
   "source": [
    "j=0\n",
    "test['Loan Saction Fraction'] = test['is loan sactioned']\n",
    "for i in test[test['is loan sactioned']==1].index:\n",
    "    test.loc[i,'Loan Saction Fraction'] = predicted_sanction_fraction[j]\n",
    "    j += 1"
   ]
  },
  {
   "cell_type": "code",
   "execution_count": null,
   "metadata": {},
   "outputs": [],
   "source": [
    "submission = pd.DataFrame()#read_csv('sample.csv')\n",
    "submission['Customer ID'] = test_customer_ID\n",
    "submission['Loan Sanction Amount (USD)'] = test['Loan Saction Fraction']\n",
    "\n",
    "submission['Loan Sanction Amount (USD)'] = test['Loan Saction Fraction'] * test['Loan Request (USD)'] / 100\n",
    "submission.to_csv('my_submission.csv', index=False)"
   ]
  }
 ],
 "metadata": {
  "interpreter": {
   "hash": "ffc98276502b517ff6a37fba4ac49b0c9b1089edd339504dfafa40c6c9dd4e74"
  },
  "kernelspec": {
   "display_name": "Python 3",
   "language": "python",
   "name": "python3"
  },
  "language_info": {
   "codemirror_mode": {
    "name": "ipython",
    "version": 3
   },
   "file_extension": ".py",
   "mimetype": "text/x-python",
   "name": "python",
   "nbconvert_exporter": "python",
   "pygments_lexer": "ipython3",
   "version": "3.8.8"
  }
 },
 "nbformat": 4,
 "nbformat_minor": 2
}
