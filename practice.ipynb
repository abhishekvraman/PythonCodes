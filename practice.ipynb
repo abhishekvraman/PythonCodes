{
 "cells": [
  {
   "cell_type": "markdown",
   "metadata": {},
   "source": [
    "### Step 1: Importing the Relevant Libraries"
   ]
  },
  {
   "cell_type": "code",
   "execution_count": 1026,
   "metadata": {},
   "outputs": [],
   "source": [
    "import matplotlib.pyplot as plt\n",
    "import pandas as pd\n",
    "import numpy as np\n",
    "import seaborn as sns\n",
    "\n",
    "from sklearn.preprocessing import LabelEncoder\n",
    "from sklearn.model_selection import train_test_split\n",
    "\n",
    "import math\n",
    "\n",
    "import warnings\n",
    "warnings.filterwarnings('ignore')"
   ]
  },
  {
   "cell_type": "markdown",
   "metadata": {},
   "source": [
    "### Step 2: Data Inspection"
   ]
  },
  {
   "cell_type": "code",
   "execution_count": 1027,
   "metadata": {},
   "outputs": [],
   "source": [
    "train = pd.read_csv(\"train.csv\")\n",
    "test = pd.read_csv(\"test.csv\")"
   ]
  },
  {
   "cell_type": "code",
   "execution_count": 1028,
   "metadata": {},
   "outputs": [
    {
     "output_type": "execute_result",
     "data": {
      "text/plain": [
       "((30000, 24), (20000, 23))"
      ]
     },
     "metadata": {},
     "execution_count": 1028
    }
   ],
   "source": [
    "train.shape,test.shape"
   ]
  },
  {
   "cell_type": "code",
   "execution_count": 1029,
   "metadata": {},
   "outputs": [
    {
     "output_type": "stream",
     "name": "stdout",
     "text": [
      "Index(['Customer ID', 'Name', 'Gender', 'Age', 'Income (USD)',\n       'Income Stability', 'Profession', 'Type of Employment', 'Location',\n       'Loan Amount Request (USD)', 'Current Loan Expenses (USD)',\n       'Expense Type 1', 'Expense Type 2', 'Dependents', 'Credit Score',\n       'No. of Defaults', 'Has Active Credit Card', 'Property ID',\n       'Property Age', 'Property Type', 'Property Location', 'Co-Applicant',\n       'Property Price', 'Loan Sanction Amount (USD)'],\n      dtype='object')\nIndex(['Customer ID', 'Name', 'Gender', 'Age', 'Income (USD)',\n       'Income Stability', 'Profession', 'Type of Employment', 'Location',\n       'Loan Amount Request (USD)', 'Current Loan Expenses (USD)',\n       'Expense Type 1', 'Expense Type 2', 'Dependents', 'Credit Score',\n       'No. of Defaults', 'Has Active Credit Card', 'Property ID',\n       'Property Age', 'Property Type', 'Property Location', 'Co-Applicant',\n       'Property Price'],\n      dtype='object')\n"
     ]
    }
   ],
   "source": [
    "#ratio of null values\n",
    "print(train.columns)\n",
    "print(test.columns)"
   ]
  },
  {
   "cell_type": "code",
   "execution_count": 1030,
   "metadata": {},
   "outputs": [
    {
     "output_type": "stream",
     "name": "stdout",
     "text": [
      "Categorical Features in Train Set: 11\nNumerical Features in Train Set: 13\n"
     ]
    }
   ],
   "source": [
    "#categorical features\n",
    "categorical = train.select_dtypes(include =[np.object])\n",
    "print(\"Categorical Features in Train Set:\",categorical.shape[1])\n",
    "\n",
    "#numerical features\n",
    "numerical= train.select_dtypes(include =[np.float64,np.int64])\n",
    "print(\"Numerical Features in Train Set:\",numerical.shape[1])"
   ]
  },
  {
   "cell_type": "code",
   "execution_count": 1031,
   "metadata": {},
   "outputs": [
    {
     "output_type": "stream",
     "name": "stdout",
     "text": [
      "Categorical Features in Test Set: 13\nNumerical Features in Test Set: 10\n"
     ]
    }
   ],
   "source": [
    "#categorical features\n",
    "categorical_ = test.select_dtypes(include =[np.object])\n",
    "print(\"Categorical Features in Test Set:\",categorical_.shape[1])\n",
    "\n",
    "#numerical features\n",
    "numerical_= test.select_dtypes(include =[np.float64,np.int64])\n",
    "print(\"Numerical Features in Test Set:\",numerical_.shape[1])"
   ]
  },
  {
   "cell_type": "code",
   "execution_count": 1032,
   "metadata": {},
   "outputs": [
    {
     "output_type": "stream",
     "name": "stdout",
     "text": [
      "Index(['Customer ID', 'Name', 'Gender', 'Income Stability', 'Profession',\n       'Type of Employment', 'Location', 'Expense Type 1', 'Expense Type 2',\n       'Has Active Credit Card', 'Property Location'],\n      dtype='object')\nIndex(['Customer ID', 'Name', 'Gender', 'Income Stability', 'Profession',\n       'Type of Employment', 'Location', 'Expense Type 1', 'Expense Type 2',\n       'Has Active Credit Card', 'Property Location', 'Co-Applicant',\n       'Property Price'],\n      dtype='object')\n"
     ]
    }
   ],
   "source": [
    "print(categorical.columns)\n",
    "print(categorical_.columns)"
   ]
  },
  {
   "cell_type": "code",
   "execution_count": 1033,
   "metadata": {},
   "outputs": [
    {
     "output_type": "stream",
     "name": "stdout",
     "text": [
      " 1      25516\n 0       4316\n-999      168\nName: Co-Applicant, dtype: int64\n1    17004\n0     2919\n?       77\nName: Co-Applicant, dtype: int64\n"
     ]
    }
   ],
   "source": [
    "print(train['Co-Applicant'].value_counts())\n",
    "print(test['Co-Applicant'].value_counts())"
   ]
  },
  {
   "cell_type": "code",
   "execution_count": 1034,
   "metadata": {},
   "outputs": [],
   "source": [
    "train['Co-Applicant'] = train['Co-Applicant'].replace(-999,1)\n",
    "test['Co-Applicant'] = test['Co-Applicant'].replace(['?','1','0'],[1,1,0])\n",
    "test['Property Price'] = test['Property Price'].replace('?','-999')\n",
    "test['Property Price'] = test['Property Price'].apply(pd.to_numeric)"
   ]
  },
  {
   "cell_type": "code",
   "execution_count": 1035,
   "metadata": {},
   "outputs": [
    {
     "output_type": "stream",
     "name": "stdout",
     "text": [
      "M      15053\nF      14894\nNaN       53\nName: Gender, dtype: int64\nF      10142\nM       9827\nNaN       31\nName: Gender, dtype: int64\n"
     ]
    }
   ],
   "source": [
    "print(train['Gender'].value_counts(dropna=False))\n",
    "print(test['Gender'].value_counts(dropna=False))"
   ]
  },
  {
   "cell_type": "code",
   "execution_count": 1036,
   "metadata": {},
   "outputs": [],
   "source": [
    "train['Gender'] = train['Gender'].fillna('M')\n",
    "test['Gender'] = test['Gender'].fillna('F')"
   ]
  },
  {
   "cell_type": "code",
   "execution_count": 1037,
   "metadata": {},
   "outputs": [
    {
     "output_type": "stream",
     "name": "stdout",
     "text": [
      "Low     25751\nHigh     2566\nNaN      1683\nName: Income Stability, dtype: int64\nLow     17501\nHigh     1686\nNaN       813\nName: Income Stability, dtype: int64\n"
     ]
    }
   ],
   "source": [
    "print(train['Income Stability'].value_counts(dropna=False))\n",
    "print(test['Income Stability'].value_counts(dropna=False))"
   ]
  },
  {
   "cell_type": "code",
   "execution_count": 1038,
   "metadata": {},
   "outputs": [],
   "source": [
    "train['Income Stability'] = train['Income Stability'].fillna('Low')\n",
    "test['Income Stability'] = test['Income Stability'].fillna('Low')"
   ]
  },
  {
   "cell_type": "code",
   "execution_count": 1039,
   "metadata": {},
   "outputs": [
    {
     "output_type": "stream",
     "name": "stdout",
     "text": [
      "Working                 16926\nCommercial associate     7962\nPensioner                2740\nState servant            2366\nBusinessman                 2\nUnemployed                  2\nStudent                     1\nMaternity leave             1\nName: Profession, dtype: int64\nWorking                 11405\nCommercial associate     5247\nPensioner                1764\nState servant            1577\nStudent                     4\nUnemployed                  2\nMaternity leave             1\nName: Profession, dtype: int64\n"
     ]
    }
   ],
   "source": [
    "print(train['Profession'].value_counts(dropna=False))\n",
    "print(test['Profession'].value_counts(dropna=False))"
   ]
  },
  {
   "cell_type": "code",
   "execution_count": 1040,
   "metadata": {},
   "outputs": [
    {
     "output_type": "stream",
     "name": "stdout",
     "text": [
      "NaN                      7270\nLaborers                 5578\nSales staff              3736\nCore staff               3230\nManagers                 2495\nDrivers                  1606\nAccountants              1379\nHigh skill tech staff    1307\nMedicine staff            864\nSecurity staff            579\nCooking staff             566\nPrivate service staff     342\nCleaning staff            341\nLow-skill Laborers        162\nSecretaries               161\nWaiters/barmen staff      149\nRealty agents              86\nIT staff                   77\nHR staff                   72\nName: Type of Employment, dtype: int64\nNaN                      4689\nLaborers                 3743\nSales staff              2433\nCore staff               2232\nManagers                 1719\nDrivers                  1057\nAccountants               886\nHigh skill tech staff     881\nMedicine staff            598\nCooking staff             405\nSecurity staff            377\nCleaning staff            230\nPrivate service staff     201\nLow-skill Laborers        141\nSecretaries               119\nWaiters/barmen staff      110\nRealty agents              68\nHR staff                   60\nIT staff                   51\nName: Type of Employment, dtype: int64\n"
     ]
    }
   ],
   "source": [
    "print(train['Type of Employment'].value_counts(dropna=False))\n",
    "print(test['Type of Employment'].value_counts(dropna=False))"
   ]
  },
  {
   "cell_type": "code",
   "execution_count": 1041,
   "metadata": {},
   "outputs": [
    {
     "output_type": "stream",
     "name": "stdout",
     "text": [
      "Pensioner               2740\nWorking                 2661\nCommercial associate    1438\nState servant            427\nUnemployed                 2\nStudent                    1\nMaternity leave            1\nName: Profession, dtype: int64\nPensioner               1764\nWorking                 1763\nCommercial associate     904\nState servant            256\nUnemployed                 2\nName: Profession, dtype: int64\n"
     ]
    }
   ],
   "source": [
    "print(train[train['Type of Employment'].isna()]['Profession'].value_counts())\n",
    "print(test[test['Type of Employment'].isna()]['Profession'].value_counts())"
   ]
  },
  {
   "cell_type": "markdown",
   "metadata": {},
   "source": [
    "Profession does not seem to be adding value to Type of Employment, hence droping the columns"
   ]
  },
  {
   "cell_type": "code",
   "execution_count": 1042,
   "metadata": {},
   "outputs": [],
   "source": [
    "train = train.drop(['Profession'],axis=1)\n",
    "test = test.drop(['Profession'],axis=1)"
   ]
  },
  {
   "cell_type": "markdown",
   "metadata": {},
   "source": [
    "Ranking Type of Employment based on salary level"
   ]
  },
  {
   "cell_type": "code",
   "execution_count": 1043,
   "metadata": {},
   "outputs": [],
   "source": [
    "ranks = {'Laborers':1,\n",
    "        'Sales staff':2,\n",
    "        'Core staff':3,\n",
    "        'Managers':5,\n",
    "        'Drivers':1,\n",
    "        'Accountants':3,\n",
    "        'High skill tech staff':5,\n",
    "        'Medicine staff':4,\n",
    "        'Security staff':2,\n",
    "        'Cooking staff':2,\n",
    "        'Private service staff':3,\n",
    "        'Cleaning staff':1,\n",
    "        'Low-skill Laborers':0,\n",
    "        'Secretaries':3,\n",
    "        'Waiters/barmen staff':1,\n",
    "        'Realty agents':3,\n",
    "        'IT staff':3,\n",
    "        'HR staff':4}\n",
    "train['Type of Employment'] = train['Type of Employment'].replace(ranks)\n",
    "train['Type of Employment'] = train['Type of Employment'].fillna(2)\n",
    "test['Type of Employment'] = test['Type of Employment'].replace(ranks)\n",
    "test['Type of Employment'] = test['Type of Employment'].fillna(2)"
   ]
  },
  {
   "cell_type": "code",
   "execution_count": 1044,
   "metadata": {},
   "outputs": [
    {
     "output_type": "stream",
     "name": "stdout",
     "text": [
      "Semi-Urban    21563\nRural          5338\nUrban          3099\nName: Location, dtype: int64\nSemi-Urban    14463\nRural          3436\nUrban          2101\nName: Location, dtype: int64\n"
     ]
    }
   ],
   "source": [
    "print(train['Location'].value_counts(dropna=False))\n",
    "print(test['Location'].value_counts(dropna=False))"
   ]
  },
  {
   "cell_type": "code",
   "execution_count": 1045,
   "metadata": {},
   "outputs": [
    {
     "output_type": "stream",
     "name": "stdout",
     "text": [
      "N    19214\nY    10786\nName: Expense Type 1, dtype: int64\nN    12816\nY     7184\nName: Expense Type 1, dtype: int64\nY    20180\nN     9820\nName: Expense Type 2, dtype: int64\nY    13383\nN     6617\nName: Expense Type 2, dtype: int64\n"
     ]
    }
   ],
   "source": [
    "print(train['Expense Type 1'].value_counts(dropna=False))\n",
    "print(test['Expense Type 1'].value_counts(dropna=False))\n",
    "print(train['Expense Type 2'].value_counts(dropna=False))\n",
    "print(test['Expense Type 2'].value_counts(dropna=False))"
   ]
  },
  {
   "cell_type": "code",
   "execution_count": 1046,
   "metadata": {},
   "outputs": [
    {
     "output_type": "stream",
     "name": "stdout",
     "text": [
      "Active         9771\nInactive       9466\nUnpossessed    9197\nNaN            1566\nName: Has Active Credit Card, dtype: int64\nActive         6418\nInactive       6376\nUnpossessed    6130\nNaN            1076\nName: Has Active Credit Card, dtype: int64\n"
     ]
    }
   ],
   "source": [
    "print(train['Has Active Credit Card'].value_counts(dropna=False))\n",
    "print(test['Has Active Credit Card'].value_counts(dropna=False))"
   ]
  },
  {
   "cell_type": "code",
   "execution_count": 1047,
   "metadata": {},
   "outputs": [],
   "source": [
    "train['Has Active Credit Card'] = train['Has Active Credit Card'].fillna('Unknown')\n",
    "test['Has Active Credit Card'] = test['Has Active Credit Card'].fillna('Unknown')"
   ]
  },
  {
   "cell_type": "code",
   "execution_count": 1048,
   "metadata": {},
   "outputs": [
    {
     "output_type": "stream",
     "name": "stdout",
     "text": [
      "Semi-Urban    10387\nRural         10041\nUrban          9216\nNaN             356\nName: Property Location, dtype: int64\nSemi-Urban    6839\nRural         6768\nUrban         6233\nNaN            160\nName: Property Location, dtype: int64\n"
     ]
    }
   ],
   "source": [
    "print(train['Property Location'].value_counts(dropna=False))\n",
    "print(test['Property Location'].value_counts(dropna=False))"
   ]
  },
  {
   "cell_type": "code",
   "execution_count": 1049,
   "metadata": {},
   "outputs": [],
   "source": [
    "train['Property Location'] = train['Property Location'].fillna('Unknown')\n",
    "test['Property Location'] = test['Property Location'].fillna('Unknown')"
   ]
  },
  {
   "cell_type": "markdown",
   "metadata": {},
   "source": [
    "Changing Dependents to catregorical data"
   ]
  },
  {
   "cell_type": "code",
   "execution_count": 1050,
   "metadata": {},
   "outputs": [
    {
     "output_type": "stream",
     "name": "stdout",
     "text": [
      "2.0     13108\n3.0      5719\n1.0      5544\n4.0      2704\nNaN      2493\n5.0       372\n6.0        50\n7.0         7\n8.0         1\n14.0        1\n10.0        1\nName: Dependents, dtype: int64\n2.0     8951\n3.0     3874\n1.0     3843\n4.0     1915\nNaN     1142\n5.0      245\n6.0       21\n8.0        4\n7.0        3\n10.0       1\n13.0       1\nName: Dependents, dtype: int64\n"
     ]
    }
   ],
   "source": [
    "print(train['Dependents'].value_counts(dropna=False))\n",
    "print(test['Dependents'].value_counts(dropna=False))"
   ]
  },
  {
   "cell_type": "code",
   "execution_count": 1051,
   "metadata": {},
   "outputs": [],
   "source": [
    "train['Dependents'] = train['Dependents'].fillna(2)\n",
    "test['Dependents'] = test['Dependents'].fillna(2)\n",
    "train.loc[(train['Dependents']>4),'Dependents'] = 5\n",
    "test.loc[(test['Dependents']>4),'Dependents'] = 5\n",
    "# train.loc[(train['Dependents']>3),'Dependents'] = 0\n",
    "# test.loc[(test['Dependents']>3),'Dependents'] = 0"
   ]
  },
  {
   "cell_type": "markdown",
   "metadata": {},
   "source": [
    "__Numberical__"
   ]
  },
  {
   "cell_type": "code",
   "execution_count": 1052,
   "metadata": {},
   "outputs": [
    {
     "output_type": "stream",
     "name": "stdout",
     "text": [
      "Index(['Age', 'Income (USD)', 'Loan Amount Request (USD)',\n       'Current Loan Expenses (USD)', 'Dependents', 'Credit Score',\n       'No. of Defaults', 'Property ID', 'Property Age', 'Property Type',\n       'Co-Applicant', 'Property Price', 'Loan Sanction Amount (USD)'],\n      dtype='object')\nIndex(['Age', 'Income (USD)', 'Loan Amount Request (USD)',\n       'Current Loan Expenses (USD)', 'Dependents', 'Credit Score',\n       'No. of Defaults', 'Property ID', 'Property Age', 'Property Type'],\n      dtype='object')\n"
     ]
    }
   ],
   "source": [
    "print(numerical.columns)\n",
    "print(numerical_.columns)"
   ]
  },
  {
   "cell_type": "code",
   "execution_count": 1053,
   "metadata": {},
   "outputs": [
    {
     "output_type": "execute_result",
     "data": {
      "text/plain": [
       "count    29828.000000\n",
       "mean       400.936876\n",
       "std        242.545375\n",
       "min       -999.000000\n",
       "25%        247.667500\n",
       "50%        375.205000\n",
       "75%        521.292500\n",
       "max       3840.880000\n",
       "Name: Current Loan Expenses (USD), dtype: float64"
      ]
     },
     "metadata": {},
     "execution_count": 1053
    },
    {
     "output_type": "display_data",
     "data": {
      "text/plain": "<Figure size 1296x360 with 1 Axes>",
      "image/svg+xml": "<?xml version=\"1.0\" encoding=\"utf-8\" standalone=\"no\"?>\r\n<!DOCTYPE svg PUBLIC \"-//W3C//DTD SVG 1.1//EN\"\r\n  \"http://www.w3.org/Graphics/SVG/1.1/DTD/svg11.dtd\">\r\n<svg height=\"316.55625pt\" version=\"1.1\" viewBox=\"0 0 1022.3 316.55625\" width=\"1022.3pt\" xmlns=\"http://www.w3.org/2000/svg\" xmlns:xlink=\"http://www.w3.org/1999/xlink\">\r\n <metadata>\r\n  <rdf:RDF xmlns:cc=\"http://creativecommons.org/ns#\" xmlns:dc=\"http://purl.org/dc/elements/1.1/\" xmlns:rdf=\"http://www.w3.org/1999/02/22-rdf-syntax-ns#\">\r\n   <cc:Work>\r\n    <dc:type rdf:resource=\"http://purl.org/dc/dcmitype/StillImage\"/>\r\n    <dc:date>2021-06-27T12:36:37.964911</dc:date>\r\n    <dc:format>image/svg+xml</dc:format>\r\n    <dc:creator>\r\n     <cc:Agent>\r\n      <dc:title>Matplotlib v3.4.1, https://matplotlib.org/</dc:title>\r\n     </cc:Agent>\r\n    </dc:creator>\r\n   </cc:Work>\r\n  </rdf:RDF>\r\n </metadata>\r\n <defs>\r\n  <style type=\"text/css\">*{stroke-linecap:butt;stroke-linejoin:round;}</style>\r\n </defs>\r\n <g id=\"figure_1\">\r\n  <g id=\"patch_1\">\r\n   <path d=\"M 0 316.55625 \r\nL 1022.3 316.55625 \r\nL 1022.3 0 \r\nL 0 0 \r\nz\r\n\" style=\"fill:none;\"/>\r\n  </g>\r\n  <g id=\"axes_1\">\r\n   <g id=\"patch_2\">\r\n    <path d=\"M 10.7 279 \r\nL 1015.1 279 \r\nL 1015.1 7.2 \r\nL 10.7 7.2 \r\nz\r\n\" style=\"fill:#ffffff;\"/>\r\n   </g>\r\n   <g id=\"patch_3\">\r\n    <path clip-path=\"url(#p3b1fafd262)\" d=\"M 291.550617 34.38 \r\nL 291.550617 251.82 \r\nL 343.172661 251.82 \r\nL 343.172661 34.38 \r\nL 291.550617 34.38 \r\nz\r\n\" style=\"fill:#3274a1;stroke:#3f3f3f;stroke-linejoin:miter;stroke-width:1.5;\"/>\r\n   </g>\r\n   <g id=\"matplotlib.axis_1\">\r\n    <g id=\"xtick_1\">\r\n     <g id=\"line2d_1\">\r\n      <defs>\r\n       <path d=\"M 0 0 \r\nL 0 3.5 \r\n\" id=\"ma952928e47\" style=\"stroke:#000000;stroke-width:0.8;\"/>\r\n      </defs>\r\n      <g>\r\n       <use style=\"stroke:#000000;stroke-width:0.8;\" x=\"56.165886\" xlink:href=\"#ma952928e47\" y=\"279\"/>\r\n      </g>\r\n     </g>\r\n     <g id=\"text_1\">\r\n      <!-- −1000 -->\r\n      <g transform=\"translate(39.251042 293.598437)scale(0.1 -0.1)\">\r\n       <defs>\r\n        <path d=\"M 678 2272 \r\nL 4684 2272 \r\nL 4684 1741 \r\nL 678 1741 \r\nL 678 2272 \r\nz\r\n\" id=\"DejaVuSans-2212\" transform=\"scale(0.015625)\"/>\r\n        <path d=\"M 794 531 \r\nL 1825 531 \r\nL 1825 4091 \r\nL 703 3866 \r\nL 703 4441 \r\nL 1819 4666 \r\nL 2450 4666 \r\nL 2450 531 \r\nL 3481 531 \r\nL 3481 0 \r\nL 794 0 \r\nL 794 531 \r\nz\r\n\" id=\"DejaVuSans-31\" transform=\"scale(0.015625)\"/>\r\n        <path d=\"M 2034 4250 \r\nQ 1547 4250 1301 3770 \r\nQ 1056 3291 1056 2328 \r\nQ 1056 1369 1301 889 \r\nQ 1547 409 2034 409 \r\nQ 2525 409 2770 889 \r\nQ 3016 1369 3016 2328 \r\nQ 3016 3291 2770 3770 \r\nQ 2525 4250 2034 4250 \r\nz\r\nM 2034 4750 \r\nQ 2819 4750 3233 4129 \r\nQ 3647 3509 3647 2328 \r\nQ 3647 1150 3233 529 \r\nQ 2819 -91 2034 -91 \r\nQ 1250 -91 836 529 \r\nQ 422 1150 422 2328 \r\nQ 422 3509 836 4129 \r\nQ 1250 4750 2034 4750 \r\nz\r\n\" id=\"DejaVuSans-30\" transform=\"scale(0.015625)\"/>\r\n       </defs>\r\n       <use xlink:href=\"#DejaVuSans-2212\"/>\r\n       <use x=\"83.789062\" xlink:href=\"#DejaVuSans-31\"/>\r\n       <use x=\"147.412109\" xlink:href=\"#DejaVuSans-30\"/>\r\n       <use x=\"211.035156\" xlink:href=\"#DejaVuSans-30\"/>\r\n       <use x=\"274.658203\" xlink:href=\"#DejaVuSans-30\"/>\r\n      </g>\r\n     </g>\r\n    </g>\r\n    <g id=\"xtick_2\">\r\n     <g id=\"line2d_2\">\r\n      <g>\r\n       <use style=\"stroke:#000000;stroke-width:0.8;\" x=\"244.82571\" xlink:href=\"#ma952928e47\" y=\"279\"/>\r\n      </g>\r\n     </g>\r\n     <g id=\"text_2\">\r\n      <!-- 0 -->\r\n      <g transform=\"translate(241.64446 293.598437)scale(0.1 -0.1)\">\r\n       <use xlink:href=\"#DejaVuSans-30\"/>\r\n      </g>\r\n     </g>\r\n    </g>\r\n    <g id=\"xtick_3\">\r\n     <g id=\"line2d_3\">\r\n      <g>\r\n       <use style=\"stroke:#000000;stroke-width:0.8;\" x=\"433.485534\" xlink:href=\"#ma952928e47\" y=\"279\"/>\r\n      </g>\r\n     </g>\r\n     <g id=\"text_3\">\r\n      <!-- 1000 -->\r\n      <g transform=\"translate(420.760534 293.598437)scale(0.1 -0.1)\">\r\n       <use xlink:href=\"#DejaVuSans-31\"/>\r\n       <use x=\"63.623047\" xlink:href=\"#DejaVuSans-30\"/>\r\n       <use x=\"127.246094\" xlink:href=\"#DejaVuSans-30\"/>\r\n       <use x=\"190.869141\" xlink:href=\"#DejaVuSans-30\"/>\r\n      </g>\r\n     </g>\r\n    </g>\r\n    <g id=\"xtick_4\">\r\n     <g id=\"line2d_4\">\r\n      <g>\r\n       <use style=\"stroke:#000000;stroke-width:0.8;\" x=\"622.145358\" xlink:href=\"#ma952928e47\" y=\"279\"/>\r\n      </g>\r\n     </g>\r\n     <g id=\"text_4\">\r\n      <!-- 2000 -->\r\n      <g transform=\"translate(609.420358 293.598437)scale(0.1 -0.1)\">\r\n       <defs>\r\n        <path d=\"M 1228 531 \r\nL 3431 531 \r\nL 3431 0 \r\nL 469 0 \r\nL 469 531 \r\nQ 828 903 1448 1529 \r\nQ 2069 2156 2228 2338 \r\nQ 2531 2678 2651 2914 \r\nQ 2772 3150 2772 3378 \r\nQ 2772 3750 2511 3984 \r\nQ 2250 4219 1831 4219 \r\nQ 1534 4219 1204 4116 \r\nQ 875 4013 500 3803 \r\nL 500 4441 \r\nQ 881 4594 1212 4672 \r\nQ 1544 4750 1819 4750 \r\nQ 2544 4750 2975 4387 \r\nQ 3406 4025 3406 3419 \r\nQ 3406 3131 3298 2873 \r\nQ 3191 2616 2906 2266 \r\nQ 2828 2175 2409 1742 \r\nQ 1991 1309 1228 531 \r\nz\r\n\" id=\"DejaVuSans-32\" transform=\"scale(0.015625)\"/>\r\n       </defs>\r\n       <use xlink:href=\"#DejaVuSans-32\"/>\r\n       <use x=\"63.623047\" xlink:href=\"#DejaVuSans-30\"/>\r\n       <use x=\"127.246094\" xlink:href=\"#DejaVuSans-30\"/>\r\n       <use x=\"190.869141\" xlink:href=\"#DejaVuSans-30\"/>\r\n      </g>\r\n     </g>\r\n    </g>\r\n    <g id=\"xtick_5\">\r\n     <g id=\"line2d_5\">\r\n      <g>\r\n       <use style=\"stroke:#000000;stroke-width:0.8;\" x=\"810.805182\" xlink:href=\"#ma952928e47\" y=\"279\"/>\r\n      </g>\r\n     </g>\r\n     <g id=\"text_5\">\r\n      <!-- 3000 -->\r\n      <g transform=\"translate(798.080182 293.598437)scale(0.1 -0.1)\">\r\n       <defs>\r\n        <path d=\"M 2597 2516 \r\nQ 3050 2419 3304 2112 \r\nQ 3559 1806 3559 1356 \r\nQ 3559 666 3084 287 \r\nQ 2609 -91 1734 -91 \r\nQ 1441 -91 1130 -33 \r\nQ 819 25 488 141 \r\nL 488 750 \r\nQ 750 597 1062 519 \r\nQ 1375 441 1716 441 \r\nQ 2309 441 2620 675 \r\nQ 2931 909 2931 1356 \r\nQ 2931 1769 2642 2001 \r\nQ 2353 2234 1838 2234 \r\nL 1294 2234 \r\nL 1294 2753 \r\nL 1863 2753 \r\nQ 2328 2753 2575 2939 \r\nQ 2822 3125 2822 3475 \r\nQ 2822 3834 2567 4026 \r\nQ 2313 4219 1838 4219 \r\nQ 1578 4219 1281 4162 \r\nQ 984 4106 628 3988 \r\nL 628 4550 \r\nQ 988 4650 1302 4700 \r\nQ 1616 4750 1894 4750 \r\nQ 2613 4750 3031 4423 \r\nQ 3450 4097 3450 3541 \r\nQ 3450 3153 3228 2886 \r\nQ 3006 2619 2597 2516 \r\nz\r\n\" id=\"DejaVuSans-33\" transform=\"scale(0.015625)\"/>\r\n       </defs>\r\n       <use xlink:href=\"#DejaVuSans-33\"/>\r\n       <use x=\"63.623047\" xlink:href=\"#DejaVuSans-30\"/>\r\n       <use x=\"127.246094\" xlink:href=\"#DejaVuSans-30\"/>\r\n       <use x=\"190.869141\" xlink:href=\"#DejaVuSans-30\"/>\r\n      </g>\r\n     </g>\r\n    </g>\r\n    <g id=\"xtick_6\">\r\n     <g id=\"line2d_6\">\r\n      <g>\r\n       <use style=\"stroke:#000000;stroke-width:0.8;\" x=\"999.465006\" xlink:href=\"#ma952928e47\" y=\"279\"/>\r\n      </g>\r\n     </g>\r\n     <g id=\"text_6\">\r\n      <!-- 4000 -->\r\n      <g transform=\"translate(986.740006 293.598437)scale(0.1 -0.1)\">\r\n       <defs>\r\n        <path d=\"M 2419 4116 \r\nL 825 1625 \r\nL 2419 1625 \r\nL 2419 4116 \r\nz\r\nM 2253 4666 \r\nL 3047 4666 \r\nL 3047 1625 \r\nL 3713 1625 \r\nL 3713 1100 \r\nL 3047 1100 \r\nL 3047 0 \r\nL 2419 0 \r\nL 2419 1100 \r\nL 313 1100 \r\nL 313 1709 \r\nL 2253 4666 \r\nz\r\n\" id=\"DejaVuSans-34\" transform=\"scale(0.015625)\"/>\r\n       </defs>\r\n       <use xlink:href=\"#DejaVuSans-34\"/>\r\n       <use x=\"63.623047\" xlink:href=\"#DejaVuSans-30\"/>\r\n       <use x=\"127.246094\" xlink:href=\"#DejaVuSans-30\"/>\r\n       <use x=\"190.869141\" xlink:href=\"#DejaVuSans-30\"/>\r\n      </g>\r\n     </g>\r\n    </g>\r\n    <g id=\"text_7\">\r\n     <!-- Current Loan Expenses (USD) -->\r\n     <g transform=\"translate(438.95625 307.276562)scale(0.1 -0.1)\">\r\n      <defs>\r\n       <path d=\"M 4122 4306 \r\nL 4122 3641 \r\nQ 3803 3938 3442 4084 \r\nQ 3081 4231 2675 4231 \r\nQ 1875 4231 1450 3742 \r\nQ 1025 3253 1025 2328 \r\nQ 1025 1406 1450 917 \r\nQ 1875 428 2675 428 \r\nQ 3081 428 3442 575 \r\nQ 3803 722 4122 1019 \r\nL 4122 359 \r\nQ 3791 134 3420 21 \r\nQ 3050 -91 2638 -91 \r\nQ 1578 -91 968 557 \r\nQ 359 1206 359 2328 \r\nQ 359 3453 968 4101 \r\nQ 1578 4750 2638 4750 \r\nQ 3056 4750 3426 4639 \r\nQ 3797 4528 4122 4306 \r\nz\r\n\" id=\"DejaVuSans-43\" transform=\"scale(0.015625)\"/>\r\n       <path d=\"M 544 1381 \r\nL 544 3500 \r\nL 1119 3500 \r\nL 1119 1403 \r\nQ 1119 906 1312 657 \r\nQ 1506 409 1894 409 \r\nQ 2359 409 2629 706 \r\nQ 2900 1003 2900 1516 \r\nL 2900 3500 \r\nL 3475 3500 \r\nL 3475 0 \r\nL 2900 0 \r\nL 2900 538 \r\nQ 2691 219 2414 64 \r\nQ 2138 -91 1772 -91 \r\nQ 1169 -91 856 284 \r\nQ 544 659 544 1381 \r\nz\r\nM 1991 3584 \r\nL 1991 3584 \r\nz\r\n\" id=\"DejaVuSans-75\" transform=\"scale(0.015625)\"/>\r\n       <path d=\"M 2631 2963 \r\nQ 2534 3019 2420 3045 \r\nQ 2306 3072 2169 3072 \r\nQ 1681 3072 1420 2755 \r\nQ 1159 2438 1159 1844 \r\nL 1159 0 \r\nL 581 0 \r\nL 581 3500 \r\nL 1159 3500 \r\nL 1159 2956 \r\nQ 1341 3275 1631 3429 \r\nQ 1922 3584 2338 3584 \r\nQ 2397 3584 2469 3576 \r\nQ 2541 3569 2628 3553 \r\nL 2631 2963 \r\nz\r\n\" id=\"DejaVuSans-72\" transform=\"scale(0.015625)\"/>\r\n       <path d=\"M 3597 1894 \r\nL 3597 1613 \r\nL 953 1613 \r\nQ 991 1019 1311 708 \r\nQ 1631 397 2203 397 \r\nQ 2534 397 2845 478 \r\nQ 3156 559 3463 722 \r\nL 3463 178 \r\nQ 3153 47 2828 -22 \r\nQ 2503 -91 2169 -91 \r\nQ 1331 -91 842 396 \r\nQ 353 884 353 1716 \r\nQ 353 2575 817 3079 \r\nQ 1281 3584 2069 3584 \r\nQ 2775 3584 3186 3129 \r\nQ 3597 2675 3597 1894 \r\nz\r\nM 3022 2063 \r\nQ 3016 2534 2758 2815 \r\nQ 2500 3097 2075 3097 \r\nQ 1594 3097 1305 2825 \r\nQ 1016 2553 972 2059 \r\nL 3022 2063 \r\nz\r\n\" id=\"DejaVuSans-65\" transform=\"scale(0.015625)\"/>\r\n       <path d=\"M 3513 2113 \r\nL 3513 0 \r\nL 2938 0 \r\nL 2938 2094 \r\nQ 2938 2591 2744 2837 \r\nQ 2550 3084 2163 3084 \r\nQ 1697 3084 1428 2787 \r\nQ 1159 2491 1159 1978 \r\nL 1159 0 \r\nL 581 0 \r\nL 581 3500 \r\nL 1159 3500 \r\nL 1159 2956 \r\nQ 1366 3272 1645 3428 \r\nQ 1925 3584 2291 3584 \r\nQ 2894 3584 3203 3211 \r\nQ 3513 2838 3513 2113 \r\nz\r\n\" id=\"DejaVuSans-6e\" transform=\"scale(0.015625)\"/>\r\n       <path d=\"M 1172 4494 \r\nL 1172 3500 \r\nL 2356 3500 \r\nL 2356 3053 \r\nL 1172 3053 \r\nL 1172 1153 \r\nQ 1172 725 1289 603 \r\nQ 1406 481 1766 481 \r\nL 2356 481 \r\nL 2356 0 \r\nL 1766 0 \r\nQ 1100 0 847 248 \r\nQ 594 497 594 1153 \r\nL 594 3053 \r\nL 172 3053 \r\nL 172 3500 \r\nL 594 3500 \r\nL 594 4494 \r\nL 1172 4494 \r\nz\r\n\" id=\"DejaVuSans-74\" transform=\"scale(0.015625)\"/>\r\n       <path id=\"DejaVuSans-20\" transform=\"scale(0.015625)\"/>\r\n       <path d=\"M 628 4666 \r\nL 1259 4666 \r\nL 1259 531 \r\nL 3531 531 \r\nL 3531 0 \r\nL 628 0 \r\nL 628 4666 \r\nz\r\n\" id=\"DejaVuSans-4c\" transform=\"scale(0.015625)\"/>\r\n       <path d=\"M 1959 3097 \r\nQ 1497 3097 1228 2736 \r\nQ 959 2375 959 1747 \r\nQ 959 1119 1226 758 \r\nQ 1494 397 1959 397 \r\nQ 2419 397 2687 759 \r\nQ 2956 1122 2956 1747 \r\nQ 2956 2369 2687 2733 \r\nQ 2419 3097 1959 3097 \r\nz\r\nM 1959 3584 \r\nQ 2709 3584 3137 3096 \r\nQ 3566 2609 3566 1747 \r\nQ 3566 888 3137 398 \r\nQ 2709 -91 1959 -91 \r\nQ 1206 -91 779 398 \r\nQ 353 888 353 1747 \r\nQ 353 2609 779 3096 \r\nQ 1206 3584 1959 3584 \r\nz\r\n\" id=\"DejaVuSans-6f\" transform=\"scale(0.015625)\"/>\r\n       <path d=\"M 2194 1759 \r\nQ 1497 1759 1228 1600 \r\nQ 959 1441 959 1056 \r\nQ 959 750 1161 570 \r\nQ 1363 391 1709 391 \r\nQ 2188 391 2477 730 \r\nQ 2766 1069 2766 1631 \r\nL 2766 1759 \r\nL 2194 1759 \r\nz\r\nM 3341 1997 \r\nL 3341 0 \r\nL 2766 0 \r\nL 2766 531 \r\nQ 2569 213 2275 61 \r\nQ 1981 -91 1556 -91 \r\nQ 1019 -91 701 211 \r\nQ 384 513 384 1019 \r\nQ 384 1609 779 1909 \r\nQ 1175 2209 1959 2209 \r\nL 2766 2209 \r\nL 2766 2266 \r\nQ 2766 2663 2505 2880 \r\nQ 2244 3097 1772 3097 \r\nQ 1472 3097 1187 3025 \r\nQ 903 2953 641 2809 \r\nL 641 3341 \r\nQ 956 3463 1253 3523 \r\nQ 1550 3584 1831 3584 \r\nQ 2591 3584 2966 3190 \r\nQ 3341 2797 3341 1997 \r\nz\r\n\" id=\"DejaVuSans-61\" transform=\"scale(0.015625)\"/>\r\n       <path d=\"M 628 4666 \r\nL 3578 4666 \r\nL 3578 4134 \r\nL 1259 4134 \r\nL 1259 2753 \r\nL 3481 2753 \r\nL 3481 2222 \r\nL 1259 2222 \r\nL 1259 531 \r\nL 3634 531 \r\nL 3634 0 \r\nL 628 0 \r\nL 628 4666 \r\nz\r\n\" id=\"DejaVuSans-45\" transform=\"scale(0.015625)\"/>\r\n       <path d=\"M 3513 3500 \r\nL 2247 1797 \r\nL 3578 0 \r\nL 2900 0 \r\nL 1881 1375 \r\nL 863 0 \r\nL 184 0 \r\nL 1544 1831 \r\nL 300 3500 \r\nL 978 3500 \r\nL 1906 2253 \r\nL 2834 3500 \r\nL 3513 3500 \r\nz\r\n\" id=\"DejaVuSans-78\" transform=\"scale(0.015625)\"/>\r\n       <path d=\"M 1159 525 \r\nL 1159 -1331 \r\nL 581 -1331 \r\nL 581 3500 \r\nL 1159 3500 \r\nL 1159 2969 \r\nQ 1341 3281 1617 3432 \r\nQ 1894 3584 2278 3584 \r\nQ 2916 3584 3314 3078 \r\nQ 3713 2572 3713 1747 \r\nQ 3713 922 3314 415 \r\nQ 2916 -91 2278 -91 \r\nQ 1894 -91 1617 61 \r\nQ 1341 213 1159 525 \r\nz\r\nM 3116 1747 \r\nQ 3116 2381 2855 2742 \r\nQ 2594 3103 2138 3103 \r\nQ 1681 3103 1420 2742 \r\nQ 1159 2381 1159 1747 \r\nQ 1159 1113 1420 752 \r\nQ 1681 391 2138 391 \r\nQ 2594 391 2855 752 \r\nQ 3116 1113 3116 1747 \r\nz\r\n\" id=\"DejaVuSans-70\" transform=\"scale(0.015625)\"/>\r\n       <path d=\"M 2834 3397 \r\nL 2834 2853 \r\nQ 2591 2978 2328 3040 \r\nQ 2066 3103 1784 3103 \r\nQ 1356 3103 1142 2972 \r\nQ 928 2841 928 2578 \r\nQ 928 2378 1081 2264 \r\nQ 1234 2150 1697 2047 \r\nL 1894 2003 \r\nQ 2506 1872 2764 1633 \r\nQ 3022 1394 3022 966 \r\nQ 3022 478 2636 193 \r\nQ 2250 -91 1575 -91 \r\nQ 1294 -91 989 -36 \r\nQ 684 19 347 128 \r\nL 347 722 \r\nQ 666 556 975 473 \r\nQ 1284 391 1588 391 \r\nQ 1994 391 2212 530 \r\nQ 2431 669 2431 922 \r\nQ 2431 1156 2273 1281 \r\nQ 2116 1406 1581 1522 \r\nL 1381 1569 \r\nQ 847 1681 609 1914 \r\nQ 372 2147 372 2553 \r\nQ 372 3047 722 3315 \r\nQ 1072 3584 1716 3584 \r\nQ 2034 3584 2315 3537 \r\nQ 2597 3491 2834 3397 \r\nz\r\n\" id=\"DejaVuSans-73\" transform=\"scale(0.015625)\"/>\r\n       <path d=\"M 1984 4856 \r\nQ 1566 4138 1362 3434 \r\nQ 1159 2731 1159 2009 \r\nQ 1159 1288 1364 580 \r\nQ 1569 -128 1984 -844 \r\nL 1484 -844 \r\nQ 1016 -109 783 600 \r\nQ 550 1309 550 2009 \r\nQ 550 2706 781 3412 \r\nQ 1013 4119 1484 4856 \r\nL 1984 4856 \r\nz\r\n\" id=\"DejaVuSans-28\" transform=\"scale(0.015625)\"/>\r\n       <path d=\"M 556 4666 \r\nL 1191 4666 \r\nL 1191 1831 \r\nQ 1191 1081 1462 751 \r\nQ 1734 422 2344 422 \r\nQ 2950 422 3222 751 \r\nQ 3494 1081 3494 1831 \r\nL 3494 4666 \r\nL 4128 4666 \r\nL 4128 1753 \r\nQ 4128 841 3676 375 \r\nQ 3225 -91 2344 -91 \r\nQ 1459 -91 1007 375 \r\nQ 556 841 556 1753 \r\nL 556 4666 \r\nz\r\n\" id=\"DejaVuSans-55\" transform=\"scale(0.015625)\"/>\r\n       <path d=\"M 3425 4513 \r\nL 3425 3897 \r\nQ 3066 4069 2747 4153 \r\nQ 2428 4238 2131 4238 \r\nQ 1616 4238 1336 4038 \r\nQ 1056 3838 1056 3469 \r\nQ 1056 3159 1242 3001 \r\nQ 1428 2844 1947 2747 \r\nL 2328 2669 \r\nQ 3034 2534 3370 2195 \r\nQ 3706 1856 3706 1288 \r\nQ 3706 609 3251 259 \r\nQ 2797 -91 1919 -91 \r\nQ 1588 -91 1214 -16 \r\nQ 841 59 441 206 \r\nL 441 856 \r\nQ 825 641 1194 531 \r\nQ 1563 422 1919 422 \r\nQ 2459 422 2753 634 \r\nQ 3047 847 3047 1241 \r\nQ 3047 1584 2836 1778 \r\nQ 2625 1972 2144 2069 \r\nL 1759 2144 \r\nQ 1053 2284 737 2584 \r\nQ 422 2884 422 3419 \r\nQ 422 4038 858 4394 \r\nQ 1294 4750 2059 4750 \r\nQ 2388 4750 2728 4690 \r\nQ 3069 4631 3425 4513 \r\nz\r\n\" id=\"DejaVuSans-53\" transform=\"scale(0.015625)\"/>\r\n       <path d=\"M 1259 4147 \r\nL 1259 519 \r\nL 2022 519 \r\nQ 2988 519 3436 956 \r\nQ 3884 1394 3884 2338 \r\nQ 3884 3275 3436 3711 \r\nQ 2988 4147 2022 4147 \r\nL 1259 4147 \r\nz\r\nM 628 4666 \r\nL 1925 4666 \r\nQ 3281 4666 3915 4102 \r\nQ 4550 3538 4550 2338 \r\nQ 4550 1131 3912 565 \r\nQ 3275 0 1925 0 \r\nL 628 0 \r\nL 628 4666 \r\nz\r\n\" id=\"DejaVuSans-44\" transform=\"scale(0.015625)\"/>\r\n       <path d=\"M 513 4856 \r\nL 1013 4856 \r\nQ 1481 4119 1714 3412 \r\nQ 1947 2706 1947 2009 \r\nQ 1947 1309 1714 600 \r\nQ 1481 -109 1013 -844 \r\nL 513 -844 \r\nQ 928 -128 1133 580 \r\nQ 1338 1288 1338 2009 \r\nQ 1338 2731 1133 3434 \r\nQ 928 4138 513 4856 \r\nz\r\n\" id=\"DejaVuSans-29\" transform=\"scale(0.015625)\"/>\r\n      </defs>\r\n      <use xlink:href=\"#DejaVuSans-43\"/>\r\n      <use x=\"69.824219\" xlink:href=\"#DejaVuSans-75\"/>\r\n      <use x=\"133.203125\" xlink:href=\"#DejaVuSans-72\"/>\r\n      <use x=\"172.566406\" xlink:href=\"#DejaVuSans-72\"/>\r\n      <use x=\"211.429688\" xlink:href=\"#DejaVuSans-65\"/>\r\n      <use x=\"272.953125\" xlink:href=\"#DejaVuSans-6e\"/>\r\n      <use x=\"336.332031\" xlink:href=\"#DejaVuSans-74\"/>\r\n      <use x=\"375.541016\" xlink:href=\"#DejaVuSans-20\"/>\r\n      <use x=\"407.328125\" xlink:href=\"#DejaVuSans-4c\"/>\r\n      <use x=\"461.291016\" xlink:href=\"#DejaVuSans-6f\"/>\r\n      <use x=\"522.472656\" xlink:href=\"#DejaVuSans-61\"/>\r\n      <use x=\"583.751953\" xlink:href=\"#DejaVuSans-6e\"/>\r\n      <use x=\"647.130859\" xlink:href=\"#DejaVuSans-20\"/>\r\n      <use x=\"678.917969\" xlink:href=\"#DejaVuSans-45\"/>\r\n      <use x=\"742.101562\" xlink:href=\"#DejaVuSans-78\"/>\r\n      <use x=\"801.28125\" xlink:href=\"#DejaVuSans-70\"/>\r\n      <use x=\"864.757812\" xlink:href=\"#DejaVuSans-65\"/>\r\n      <use x=\"926.28125\" xlink:href=\"#DejaVuSans-6e\"/>\r\n      <use x=\"989.660156\" xlink:href=\"#DejaVuSans-73\"/>\r\n      <use x=\"1041.759766\" xlink:href=\"#DejaVuSans-65\"/>\r\n      <use x=\"1103.283203\" xlink:href=\"#DejaVuSans-73\"/>\r\n      <use x=\"1155.382812\" xlink:href=\"#DejaVuSans-20\"/>\r\n      <use x=\"1187.169922\" xlink:href=\"#DejaVuSans-28\"/>\r\n      <use x=\"1226.183594\" xlink:href=\"#DejaVuSans-55\"/>\r\n      <use x=\"1299.376953\" xlink:href=\"#DejaVuSans-53\"/>\r\n      <use x=\"1362.853516\" xlink:href=\"#DejaVuSans-44\"/>\r\n      <use x=\"1439.855469\" xlink:href=\"#DejaVuSans-29\"/>\r\n     </g>\r\n    </g>\r\n   </g>\r\n   <g id=\"matplotlib.axis_2\">\r\n    <g id=\"ytick_1\">\r\n     <g id=\"line2d_7\">\r\n      <defs>\r\n       <path d=\"M 0 0 \r\nL -3.5 0 \r\n\" id=\"m088c7083f7\" style=\"stroke:#000000;stroke-width:0.8;\"/>\r\n      </defs>\r\n      <g>\r\n       <use style=\"stroke:#000000;stroke-width:0.8;\" x=\"10.7\" xlink:href=\"#m088c7083f7\" y=\"143.1\"/>\r\n      </g>\r\n     </g>\r\n    </g>\r\n   </g>\r\n   <g id=\"line2d_8\">\r\n    <path clip-path=\"url(#p3b1fafd262)\" d=\"M 291.550617 143.1 \r\nL 251.194865 143.1 \r\n\" style=\"fill:none;stroke:#3f3f3f;stroke-linecap:square;stroke-width:1.5;\"/>\r\n   </g>\r\n   <g id=\"line2d_9\">\r\n    <path clip-path=\"url(#p3b1fafd262)\" d=\"M 343.172661 143.1 \r\nL 420.590635 143.1 \r\n\" style=\"fill:none;stroke:#3f3f3f;stroke-linecap:square;stroke-width:1.5;\"/>\r\n   </g>\r\n   <g id=\"line2d_10\">\r\n    <path clip-path=\"url(#p3b1fafd262)\" d=\"M 251.194865 88.74 \r\nL 251.194865 197.46 \r\n\" style=\"fill:none;stroke:#3f3f3f;stroke-linecap:square;stroke-width:1.5;\"/>\r\n   </g>\r\n   <g id=\"line2d_11\">\r\n    <path clip-path=\"url(#p3b1fafd262)\" d=\"M 420.590635 88.74 \r\nL 420.590635 197.46 \r\n\" style=\"fill:none;stroke:#3f3f3f;stroke-linecap:square;stroke-width:1.5;\"/>\r\n   </g>\r\n   <g id=\"line2d_12\">\r\n    <defs>\r\n     <path d=\"M 0 3.535534 \r\nL 2.12132 0 \r\nL 0 -3.535534 \r\nL -2.12132 0 \r\nz\r\n\" id=\"m60c24b87c4\" style=\"stroke:#3f3f3f;stroke-linejoin:miter;\"/>\r\n    </defs>\r\n    <g clip-path=\"url(#p3b1fafd262)\">\r\n     <use style=\"fill:#3f3f3f;stroke:#3f3f3f;stroke-linejoin:miter;\" x=\"56.354545\" xlink:href=\"#m60c24b87c4\" y=\"143.1\"/>\r\n     <use style=\"fill:#3f3f3f;stroke:#3f3f3f;stroke-linejoin:miter;\" x=\"56.354545\" xlink:href=\"#m60c24b87c4\" y=\"143.1\"/>\r\n     <use style=\"fill:#3f3f3f;stroke:#3f3f3f;stroke-linejoin:miter;\" x=\"56.354545\" xlink:href=\"#m60c24b87c4\" y=\"143.1\"/>\r\n     <use style=\"fill:#3f3f3f;stroke:#3f3f3f;stroke-linejoin:miter;\" x=\"56.354545\" xlink:href=\"#m60c24b87c4\" y=\"143.1\"/>\r\n     <use style=\"fill:#3f3f3f;stroke:#3f3f3f;stroke-linejoin:miter;\" x=\"56.354545\" xlink:href=\"#m60c24b87c4\" y=\"143.1\"/>\r\n     <use style=\"fill:#3f3f3f;stroke:#3f3f3f;stroke-linejoin:miter;\" x=\"56.354545\" xlink:href=\"#m60c24b87c4\" y=\"143.1\"/>\r\n     <use style=\"fill:#3f3f3f;stroke:#3f3f3f;stroke-linejoin:miter;\" x=\"56.354545\" xlink:href=\"#m60c24b87c4\" y=\"143.1\"/>\r\n     <use style=\"fill:#3f3f3f;stroke:#3f3f3f;stroke-linejoin:miter;\" x=\"56.354545\" xlink:href=\"#m60c24b87c4\" y=\"143.1\"/>\r\n     <use style=\"fill:#3f3f3f;stroke:#3f3f3f;stroke-linejoin:miter;\" x=\"56.354545\" xlink:href=\"#m60c24b87c4\" y=\"143.1\"/>\r\n     <use style=\"fill:#3f3f3f;stroke:#3f3f3f;stroke-linejoin:miter;\" x=\"56.354545\" xlink:href=\"#m60c24b87c4\" y=\"143.1\"/>\r\n     <use style=\"fill:#3f3f3f;stroke:#3f3f3f;stroke-linejoin:miter;\" x=\"56.354545\" xlink:href=\"#m60c24b87c4\" y=\"143.1\"/>\r\n     <use style=\"fill:#3f3f3f;stroke:#3f3f3f;stroke-linejoin:miter;\" x=\"56.354545\" xlink:href=\"#m60c24b87c4\" y=\"143.1\"/>\r\n     <use style=\"fill:#3f3f3f;stroke:#3f3f3f;stroke-linejoin:miter;\" x=\"56.354545\" xlink:href=\"#m60c24b87c4\" y=\"143.1\"/>\r\n     <use style=\"fill:#3f3f3f;stroke:#3f3f3f;stroke-linejoin:miter;\" x=\"56.354545\" xlink:href=\"#m60c24b87c4\" y=\"143.1\"/>\r\n     <use style=\"fill:#3f3f3f;stroke:#3f3f3f;stroke-linejoin:miter;\" x=\"56.354545\" xlink:href=\"#m60c24b87c4\" y=\"143.1\"/>\r\n     <use style=\"fill:#3f3f3f;stroke:#3f3f3f;stroke-linejoin:miter;\" x=\"56.354545\" xlink:href=\"#m60c24b87c4\" y=\"143.1\"/>\r\n     <use style=\"fill:#3f3f3f;stroke:#3f3f3f;stroke-linejoin:miter;\" x=\"56.354545\" xlink:href=\"#m60c24b87c4\" y=\"143.1\"/>\r\n     <use style=\"fill:#3f3f3f;stroke:#3f3f3f;stroke-linejoin:miter;\" x=\"56.354545\" xlink:href=\"#m60c24b87c4\" y=\"143.1\"/>\r\n     <use style=\"fill:#3f3f3f;stroke:#3f3f3f;stroke-linejoin:miter;\" x=\"56.354545\" xlink:href=\"#m60c24b87c4\" y=\"143.1\"/>\r\n     <use style=\"fill:#3f3f3f;stroke:#3f3f3f;stroke-linejoin:miter;\" x=\"56.354545\" xlink:href=\"#m60c24b87c4\" y=\"143.1\"/>\r\n     <use style=\"fill:#3f3f3f;stroke:#3f3f3f;stroke-linejoin:miter;\" x=\"56.354545\" xlink:href=\"#m60c24b87c4\" y=\"143.1\"/>\r\n     <use style=\"fill:#3f3f3f;stroke:#3f3f3f;stroke-linejoin:miter;\" x=\"56.354545\" xlink:href=\"#m60c24b87c4\" y=\"143.1\"/>\r\n     <use style=\"fill:#3f3f3f;stroke:#3f3f3f;stroke-linejoin:miter;\" x=\"56.354545\" xlink:href=\"#m60c24b87c4\" y=\"143.1\"/>\r\n     <use style=\"fill:#3f3f3f;stroke:#3f3f3f;stroke-linejoin:miter;\" x=\"56.354545\" xlink:href=\"#m60c24b87c4\" y=\"143.1\"/>\r\n     <use style=\"fill:#3f3f3f;stroke:#3f3f3f;stroke-linejoin:miter;\" x=\"56.354545\" xlink:href=\"#m60c24b87c4\" y=\"143.1\"/>\r\n     <use style=\"fill:#3f3f3f;stroke:#3f3f3f;stroke-linejoin:miter;\" x=\"56.354545\" xlink:href=\"#m60c24b87c4\" y=\"143.1\"/>\r\n     <use style=\"fill:#3f3f3f;stroke:#3f3f3f;stroke-linejoin:miter;\" x=\"56.354545\" xlink:href=\"#m60c24b87c4\" y=\"143.1\"/>\r\n     <use style=\"fill:#3f3f3f;stroke:#3f3f3f;stroke-linejoin:miter;\" x=\"56.354545\" xlink:href=\"#m60c24b87c4\" y=\"143.1\"/>\r\n     <use style=\"fill:#3f3f3f;stroke:#3f3f3f;stroke-linejoin:miter;\" x=\"56.354545\" xlink:href=\"#m60c24b87c4\" y=\"143.1\"/>\r\n     <use style=\"fill:#3f3f3f;stroke:#3f3f3f;stroke-linejoin:miter;\" x=\"56.354545\" xlink:href=\"#m60c24b87c4\" y=\"143.1\"/>\r\n     <use style=\"fill:#3f3f3f;stroke:#3f3f3f;stroke-linejoin:miter;\" x=\"56.354545\" xlink:href=\"#m60c24b87c4\" y=\"143.1\"/>\r\n     <use style=\"fill:#3f3f3f;stroke:#3f3f3f;stroke-linejoin:miter;\" x=\"56.354545\" xlink:href=\"#m60c24b87c4\" y=\"143.1\"/>\r\n     <use style=\"fill:#3f3f3f;stroke:#3f3f3f;stroke-linejoin:miter;\" x=\"56.354545\" xlink:href=\"#m60c24b87c4\" y=\"143.1\"/>\r\n     <use style=\"fill:#3f3f3f;stroke:#3f3f3f;stroke-linejoin:miter;\" x=\"56.354545\" xlink:href=\"#m60c24b87c4\" y=\"143.1\"/>\r\n     <use style=\"fill:#3f3f3f;stroke:#3f3f3f;stroke-linejoin:miter;\" x=\"56.354545\" xlink:href=\"#m60c24b87c4\" y=\"143.1\"/>\r\n     <use style=\"fill:#3f3f3f;stroke:#3f3f3f;stroke-linejoin:miter;\" x=\"56.354545\" xlink:href=\"#m60c24b87c4\" y=\"143.1\"/>\r\n     <use style=\"fill:#3f3f3f;stroke:#3f3f3f;stroke-linejoin:miter;\" x=\"56.354545\" xlink:href=\"#m60c24b87c4\" y=\"143.1\"/>\r\n     <use style=\"fill:#3f3f3f;stroke:#3f3f3f;stroke-linejoin:miter;\" x=\"56.354545\" xlink:href=\"#m60c24b87c4\" y=\"143.1\"/>\r\n     <use style=\"fill:#3f3f3f;stroke:#3f3f3f;stroke-linejoin:miter;\" x=\"56.354545\" xlink:href=\"#m60c24b87c4\" y=\"143.1\"/>\r\n     <use style=\"fill:#3f3f3f;stroke:#3f3f3f;stroke-linejoin:miter;\" x=\"56.354545\" xlink:href=\"#m60c24b87c4\" y=\"143.1\"/>\r\n     <use style=\"fill:#3f3f3f;stroke:#3f3f3f;stroke-linejoin:miter;\" x=\"56.354545\" xlink:href=\"#m60c24b87c4\" y=\"143.1\"/>\r\n     <use style=\"fill:#3f3f3f;stroke:#3f3f3f;stroke-linejoin:miter;\" x=\"56.354545\" xlink:href=\"#m60c24b87c4\" y=\"143.1\"/>\r\n     <use style=\"fill:#3f3f3f;stroke:#3f3f3f;stroke-linejoin:miter;\" x=\"56.354545\" xlink:href=\"#m60c24b87c4\" y=\"143.1\"/>\r\n     <use style=\"fill:#3f3f3f;stroke:#3f3f3f;stroke-linejoin:miter;\" x=\"56.354545\" xlink:href=\"#m60c24b87c4\" y=\"143.1\"/>\r\n     <use style=\"fill:#3f3f3f;stroke:#3f3f3f;stroke-linejoin:miter;\" x=\"56.354545\" xlink:href=\"#m60c24b87c4\" y=\"143.1\"/>\r\n     <use style=\"fill:#3f3f3f;stroke:#3f3f3f;stroke-linejoin:miter;\" x=\"56.354545\" xlink:href=\"#m60c24b87c4\" y=\"143.1\"/>\r\n     <use style=\"fill:#3f3f3f;stroke:#3f3f3f;stroke-linejoin:miter;\" x=\"56.354545\" xlink:href=\"#m60c24b87c4\" y=\"143.1\"/>\r\n     <use style=\"fill:#3f3f3f;stroke:#3f3f3f;stroke-linejoin:miter;\" x=\"56.354545\" xlink:href=\"#m60c24b87c4\" y=\"143.1\"/>\r\n     <use style=\"fill:#3f3f3f;stroke:#3f3f3f;stroke-linejoin:miter;\" x=\"56.354545\" xlink:href=\"#m60c24b87c4\" y=\"143.1\"/>\r\n     <use style=\"fill:#3f3f3f;stroke:#3f3f3f;stroke-linejoin:miter;\" x=\"56.354545\" xlink:href=\"#m60c24b87c4\" y=\"143.1\"/>\r\n     <use style=\"fill:#3f3f3f;stroke:#3f3f3f;stroke-linejoin:miter;\" x=\"56.354545\" xlink:href=\"#m60c24b87c4\" y=\"143.1\"/>\r\n     <use style=\"fill:#3f3f3f;stroke:#3f3f3f;stroke-linejoin:miter;\" x=\"56.354545\" xlink:href=\"#m60c24b87c4\" y=\"143.1\"/>\r\n     <use style=\"fill:#3f3f3f;stroke:#3f3f3f;stroke-linejoin:miter;\" x=\"56.354545\" xlink:href=\"#m60c24b87c4\" y=\"143.1\"/>\r\n     <use style=\"fill:#3f3f3f;stroke:#3f3f3f;stroke-linejoin:miter;\" x=\"56.354545\" xlink:href=\"#m60c24b87c4\" y=\"143.1\"/>\r\n     <use style=\"fill:#3f3f3f;stroke:#3f3f3f;stroke-linejoin:miter;\" x=\"56.354545\" xlink:href=\"#m60c24b87c4\" y=\"143.1\"/>\r\n     <use style=\"fill:#3f3f3f;stroke:#3f3f3f;stroke-linejoin:miter;\" x=\"56.354545\" xlink:href=\"#m60c24b87c4\" y=\"143.1\"/>\r\n     <use style=\"fill:#3f3f3f;stroke:#3f3f3f;stroke-linejoin:miter;\" x=\"56.354545\" xlink:href=\"#m60c24b87c4\" y=\"143.1\"/>\r\n     <use style=\"fill:#3f3f3f;stroke:#3f3f3f;stroke-linejoin:miter;\" x=\"56.354545\" xlink:href=\"#m60c24b87c4\" y=\"143.1\"/>\r\n     <use style=\"fill:#3f3f3f;stroke:#3f3f3f;stroke-linejoin:miter;\" x=\"56.354545\" xlink:href=\"#m60c24b87c4\" y=\"143.1\"/>\r\n     <use style=\"fill:#3f3f3f;stroke:#3f3f3f;stroke-linejoin:miter;\" x=\"56.354545\" xlink:href=\"#m60c24b87c4\" y=\"143.1\"/>\r\n     <use style=\"fill:#3f3f3f;stroke:#3f3f3f;stroke-linejoin:miter;\" x=\"56.354545\" xlink:href=\"#m60c24b87c4\" y=\"143.1\"/>\r\n     <use style=\"fill:#3f3f3f;stroke:#3f3f3f;stroke-linejoin:miter;\" x=\"56.354545\" xlink:href=\"#m60c24b87c4\" y=\"143.1\"/>\r\n     <use style=\"fill:#3f3f3f;stroke:#3f3f3f;stroke-linejoin:miter;\" x=\"56.354545\" xlink:href=\"#m60c24b87c4\" y=\"143.1\"/>\r\n     <use style=\"fill:#3f3f3f;stroke:#3f3f3f;stroke-linejoin:miter;\" x=\"56.354545\" xlink:href=\"#m60c24b87c4\" y=\"143.1\"/>\r\n     <use style=\"fill:#3f3f3f;stroke:#3f3f3f;stroke-linejoin:miter;\" x=\"56.354545\" xlink:href=\"#m60c24b87c4\" y=\"143.1\"/>\r\n     <use style=\"fill:#3f3f3f;stroke:#3f3f3f;stroke-linejoin:miter;\" x=\"56.354545\" xlink:href=\"#m60c24b87c4\" y=\"143.1\"/>\r\n     <use style=\"fill:#3f3f3f;stroke:#3f3f3f;stroke-linejoin:miter;\" x=\"56.354545\" xlink:href=\"#m60c24b87c4\" y=\"143.1\"/>\r\n     <use style=\"fill:#3f3f3f;stroke:#3f3f3f;stroke-linejoin:miter;\" x=\"56.354545\" xlink:href=\"#m60c24b87c4\" y=\"143.1\"/>\r\n     <use style=\"fill:#3f3f3f;stroke:#3f3f3f;stroke-linejoin:miter;\" x=\"56.354545\" xlink:href=\"#m60c24b87c4\" y=\"143.1\"/>\r\n     <use style=\"fill:#3f3f3f;stroke:#3f3f3f;stroke-linejoin:miter;\" x=\"56.354545\" xlink:href=\"#m60c24b87c4\" y=\"143.1\"/>\r\n     <use style=\"fill:#3f3f3f;stroke:#3f3f3f;stroke-linejoin:miter;\" x=\"56.354545\" xlink:href=\"#m60c24b87c4\" y=\"143.1\"/>\r\n     <use style=\"fill:#3f3f3f;stroke:#3f3f3f;stroke-linejoin:miter;\" x=\"56.354545\" xlink:href=\"#m60c24b87c4\" y=\"143.1\"/>\r\n     <use style=\"fill:#3f3f3f;stroke:#3f3f3f;stroke-linejoin:miter;\" x=\"56.354545\" xlink:href=\"#m60c24b87c4\" y=\"143.1\"/>\r\n     <use style=\"fill:#3f3f3f;stroke:#3f3f3f;stroke-linejoin:miter;\" x=\"56.354545\" xlink:href=\"#m60c24b87c4\" y=\"143.1\"/>\r\n     <use style=\"fill:#3f3f3f;stroke:#3f3f3f;stroke-linejoin:miter;\" x=\"56.354545\" xlink:href=\"#m60c24b87c4\" y=\"143.1\"/>\r\n     <use style=\"fill:#3f3f3f;stroke:#3f3f3f;stroke-linejoin:miter;\" x=\"56.354545\" xlink:href=\"#m60c24b87c4\" y=\"143.1\"/>\r\n     <use style=\"fill:#3f3f3f;stroke:#3f3f3f;stroke-linejoin:miter;\" x=\"56.354545\" xlink:href=\"#m60c24b87c4\" y=\"143.1\"/>\r\n     <use style=\"fill:#3f3f3f;stroke:#3f3f3f;stroke-linejoin:miter;\" x=\"56.354545\" xlink:href=\"#m60c24b87c4\" y=\"143.1\"/>\r\n     <use style=\"fill:#3f3f3f;stroke:#3f3f3f;stroke-linejoin:miter;\" x=\"56.354545\" xlink:href=\"#m60c24b87c4\" y=\"143.1\"/>\r\n     <use style=\"fill:#3f3f3f;stroke:#3f3f3f;stroke-linejoin:miter;\" x=\"56.354545\" xlink:href=\"#m60c24b87c4\" y=\"143.1\"/>\r\n     <use style=\"fill:#3f3f3f;stroke:#3f3f3f;stroke-linejoin:miter;\" x=\"56.354545\" xlink:href=\"#m60c24b87c4\" y=\"143.1\"/>\r\n     <use style=\"fill:#3f3f3f;stroke:#3f3f3f;stroke-linejoin:miter;\" x=\"56.354545\" xlink:href=\"#m60c24b87c4\" y=\"143.1\"/>\r\n     <use style=\"fill:#3f3f3f;stroke:#3f3f3f;stroke-linejoin:miter;\" x=\"56.354545\" xlink:href=\"#m60c24b87c4\" y=\"143.1\"/>\r\n     <use style=\"fill:#3f3f3f;stroke:#3f3f3f;stroke-linejoin:miter;\" x=\"56.354545\" xlink:href=\"#m60c24b87c4\" y=\"143.1\"/>\r\n     <use style=\"fill:#3f3f3f;stroke:#3f3f3f;stroke-linejoin:miter;\" x=\"56.354545\" xlink:href=\"#m60c24b87c4\" y=\"143.1\"/>\r\n     <use style=\"fill:#3f3f3f;stroke:#3f3f3f;stroke-linejoin:miter;\" x=\"56.354545\" xlink:href=\"#m60c24b87c4\" y=\"143.1\"/>\r\n     <use style=\"fill:#3f3f3f;stroke:#3f3f3f;stroke-linejoin:miter;\" x=\"56.354545\" xlink:href=\"#m60c24b87c4\" y=\"143.1\"/>\r\n     <use style=\"fill:#3f3f3f;stroke:#3f3f3f;stroke-linejoin:miter;\" x=\"56.354545\" xlink:href=\"#m60c24b87c4\" y=\"143.1\"/>\r\n     <use style=\"fill:#3f3f3f;stroke:#3f3f3f;stroke-linejoin:miter;\" x=\"56.354545\" xlink:href=\"#m60c24b87c4\" y=\"143.1\"/>\r\n     <use style=\"fill:#3f3f3f;stroke:#3f3f3f;stroke-linejoin:miter;\" x=\"56.354545\" xlink:href=\"#m60c24b87c4\" y=\"143.1\"/>\r\n     <use style=\"fill:#3f3f3f;stroke:#3f3f3f;stroke-linejoin:miter;\" x=\"56.354545\" xlink:href=\"#m60c24b87c4\" y=\"143.1\"/>\r\n     <use style=\"fill:#3f3f3f;stroke:#3f3f3f;stroke-linejoin:miter;\" x=\"56.354545\" xlink:href=\"#m60c24b87c4\" y=\"143.1\"/>\r\n     <use style=\"fill:#3f3f3f;stroke:#3f3f3f;stroke-linejoin:miter;\" x=\"56.354545\" xlink:href=\"#m60c24b87c4\" y=\"143.1\"/>\r\n     <use style=\"fill:#3f3f3f;stroke:#3f3f3f;stroke-linejoin:miter;\" x=\"56.354545\" xlink:href=\"#m60c24b87c4\" y=\"143.1\"/>\r\n     <use style=\"fill:#3f3f3f;stroke:#3f3f3f;stroke-linejoin:miter;\" x=\"56.354545\" xlink:href=\"#m60c24b87c4\" y=\"143.1\"/>\r\n     <use style=\"fill:#3f3f3f;stroke:#3f3f3f;stroke-linejoin:miter;\" x=\"56.354545\" xlink:href=\"#m60c24b87c4\" y=\"143.1\"/>\r\n     <use style=\"fill:#3f3f3f;stroke:#3f3f3f;stroke-linejoin:miter;\" x=\"56.354545\" xlink:href=\"#m60c24b87c4\" y=\"143.1\"/>\r\n     <use style=\"fill:#3f3f3f;stroke:#3f3f3f;stroke-linejoin:miter;\" x=\"56.354545\" xlink:href=\"#m60c24b87c4\" y=\"143.1\"/>\r\n     <use style=\"fill:#3f3f3f;stroke:#3f3f3f;stroke-linejoin:miter;\" x=\"56.354545\" xlink:href=\"#m60c24b87c4\" y=\"143.1\"/>\r\n     <use style=\"fill:#3f3f3f;stroke:#3f3f3f;stroke-linejoin:miter;\" x=\"56.354545\" xlink:href=\"#m60c24b87c4\" y=\"143.1\"/>\r\n     <use style=\"fill:#3f3f3f;stroke:#3f3f3f;stroke-linejoin:miter;\" x=\"56.354545\" xlink:href=\"#m60c24b87c4\" y=\"143.1\"/>\r\n     <use style=\"fill:#3f3f3f;stroke:#3f3f3f;stroke-linejoin:miter;\" x=\"56.354545\" xlink:href=\"#m60c24b87c4\" y=\"143.1\"/>\r\n     <use style=\"fill:#3f3f3f;stroke:#3f3f3f;stroke-linejoin:miter;\" x=\"56.354545\" xlink:href=\"#m60c24b87c4\" y=\"143.1\"/>\r\n     <use style=\"fill:#3f3f3f;stroke:#3f3f3f;stroke-linejoin:miter;\" x=\"56.354545\" xlink:href=\"#m60c24b87c4\" y=\"143.1\"/>\r\n     <use style=\"fill:#3f3f3f;stroke:#3f3f3f;stroke-linejoin:miter;\" x=\"56.354545\" xlink:href=\"#m60c24b87c4\" y=\"143.1\"/>\r\n     <use style=\"fill:#3f3f3f;stroke:#3f3f3f;stroke-linejoin:miter;\" x=\"56.354545\" xlink:href=\"#m60c24b87c4\" y=\"143.1\"/>\r\n     <use style=\"fill:#3f3f3f;stroke:#3f3f3f;stroke-linejoin:miter;\" x=\"56.354545\" xlink:href=\"#m60c24b87c4\" y=\"143.1\"/>\r\n     <use style=\"fill:#3f3f3f;stroke:#3f3f3f;stroke-linejoin:miter;\" x=\"56.354545\" xlink:href=\"#m60c24b87c4\" y=\"143.1\"/>\r\n     <use style=\"fill:#3f3f3f;stroke:#3f3f3f;stroke-linejoin:miter;\" x=\"56.354545\" xlink:href=\"#m60c24b87c4\" y=\"143.1\"/>\r\n     <use style=\"fill:#3f3f3f;stroke:#3f3f3f;stroke-linejoin:miter;\" x=\"56.354545\" xlink:href=\"#m60c24b87c4\" y=\"143.1\"/>\r\n     <use style=\"fill:#3f3f3f;stroke:#3f3f3f;stroke-linejoin:miter;\" x=\"56.354545\" xlink:href=\"#m60c24b87c4\" y=\"143.1\"/>\r\n     <use style=\"fill:#3f3f3f;stroke:#3f3f3f;stroke-linejoin:miter;\" x=\"56.354545\" xlink:href=\"#m60c24b87c4\" y=\"143.1\"/>\r\n     <use style=\"fill:#3f3f3f;stroke:#3f3f3f;stroke-linejoin:miter;\" x=\"56.354545\" xlink:href=\"#m60c24b87c4\" y=\"143.1\"/>\r\n     <use style=\"fill:#3f3f3f;stroke:#3f3f3f;stroke-linejoin:miter;\" x=\"56.354545\" xlink:href=\"#m60c24b87c4\" y=\"143.1\"/>\r\n     <use style=\"fill:#3f3f3f;stroke:#3f3f3f;stroke-linejoin:miter;\" x=\"56.354545\" xlink:href=\"#m60c24b87c4\" y=\"143.1\"/>\r\n     <use style=\"fill:#3f3f3f;stroke:#3f3f3f;stroke-linejoin:miter;\" x=\"56.354545\" xlink:href=\"#m60c24b87c4\" y=\"143.1\"/>\r\n     <use style=\"fill:#3f3f3f;stroke:#3f3f3f;stroke-linejoin:miter;\" x=\"56.354545\" xlink:href=\"#m60c24b87c4\" y=\"143.1\"/>\r\n     <use style=\"fill:#3f3f3f;stroke:#3f3f3f;stroke-linejoin:miter;\" x=\"56.354545\" xlink:href=\"#m60c24b87c4\" y=\"143.1\"/>\r\n     <use style=\"fill:#3f3f3f;stroke:#3f3f3f;stroke-linejoin:miter;\" x=\"56.354545\" xlink:href=\"#m60c24b87c4\" y=\"143.1\"/>\r\n     <use style=\"fill:#3f3f3f;stroke:#3f3f3f;stroke-linejoin:miter;\" x=\"56.354545\" xlink:href=\"#m60c24b87c4\" y=\"143.1\"/>\r\n     <use style=\"fill:#3f3f3f;stroke:#3f3f3f;stroke-linejoin:miter;\" x=\"56.354545\" xlink:href=\"#m60c24b87c4\" y=\"143.1\"/>\r\n     <use style=\"fill:#3f3f3f;stroke:#3f3f3f;stroke-linejoin:miter;\" x=\"56.354545\" xlink:href=\"#m60c24b87c4\" y=\"143.1\"/>\r\n     <use style=\"fill:#3f3f3f;stroke:#3f3f3f;stroke-linejoin:miter;\" x=\"56.354545\" xlink:href=\"#m60c24b87c4\" y=\"143.1\"/>\r\n     <use style=\"fill:#3f3f3f;stroke:#3f3f3f;stroke-linejoin:miter;\" x=\"56.354545\" xlink:href=\"#m60c24b87c4\" y=\"143.1\"/>\r\n     <use style=\"fill:#3f3f3f;stroke:#3f3f3f;stroke-linejoin:miter;\" x=\"56.354545\" xlink:href=\"#m60c24b87c4\" y=\"143.1\"/>\r\n     <use style=\"fill:#3f3f3f;stroke:#3f3f3f;stroke-linejoin:miter;\" x=\"56.354545\" xlink:href=\"#m60c24b87c4\" y=\"143.1\"/>\r\n     <use style=\"fill:#3f3f3f;stroke:#3f3f3f;stroke-linejoin:miter;\" x=\"56.354545\" xlink:href=\"#m60c24b87c4\" y=\"143.1\"/>\r\n     <use style=\"fill:#3f3f3f;stroke:#3f3f3f;stroke-linejoin:miter;\" x=\"56.354545\" xlink:href=\"#m60c24b87c4\" y=\"143.1\"/>\r\n     <use style=\"fill:#3f3f3f;stroke:#3f3f3f;stroke-linejoin:miter;\" x=\"56.354545\" xlink:href=\"#m60c24b87c4\" y=\"143.1\"/>\r\n     <use style=\"fill:#3f3f3f;stroke:#3f3f3f;stroke-linejoin:miter;\" x=\"56.354545\" xlink:href=\"#m60c24b87c4\" y=\"143.1\"/>\r\n     <use style=\"fill:#3f3f3f;stroke:#3f3f3f;stroke-linejoin:miter;\" x=\"56.354545\" xlink:href=\"#m60c24b87c4\" y=\"143.1\"/>\r\n     <use style=\"fill:#3f3f3f;stroke:#3f3f3f;stroke-linejoin:miter;\" x=\"56.354545\" xlink:href=\"#m60c24b87c4\" y=\"143.1\"/>\r\n     <use style=\"fill:#3f3f3f;stroke:#3f3f3f;stroke-linejoin:miter;\" x=\"56.354545\" xlink:href=\"#m60c24b87c4\" y=\"143.1\"/>\r\n     <use style=\"fill:#3f3f3f;stroke:#3f3f3f;stroke-linejoin:miter;\" x=\"56.354545\" xlink:href=\"#m60c24b87c4\" y=\"143.1\"/>\r\n     <use style=\"fill:#3f3f3f;stroke:#3f3f3f;stroke-linejoin:miter;\" x=\"56.354545\" xlink:href=\"#m60c24b87c4\" y=\"143.1\"/>\r\n     <use style=\"fill:#3f3f3f;stroke:#3f3f3f;stroke-linejoin:miter;\" x=\"56.354545\" xlink:href=\"#m60c24b87c4\" y=\"143.1\"/>\r\n     <use style=\"fill:#3f3f3f;stroke:#3f3f3f;stroke-linejoin:miter;\" x=\"56.354545\" xlink:href=\"#m60c24b87c4\" y=\"143.1\"/>\r\n     <use style=\"fill:#3f3f3f;stroke:#3f3f3f;stroke-linejoin:miter;\" x=\"56.354545\" xlink:href=\"#m60c24b87c4\" y=\"143.1\"/>\r\n     <use style=\"fill:#3f3f3f;stroke:#3f3f3f;stroke-linejoin:miter;\" x=\"56.354545\" xlink:href=\"#m60c24b87c4\" y=\"143.1\"/>\r\n     <use style=\"fill:#3f3f3f;stroke:#3f3f3f;stroke-linejoin:miter;\" x=\"56.354545\" xlink:href=\"#m60c24b87c4\" y=\"143.1\"/>\r\n     <use style=\"fill:#3f3f3f;stroke:#3f3f3f;stroke-linejoin:miter;\" x=\"56.354545\" xlink:href=\"#m60c24b87c4\" y=\"143.1\"/>\r\n     <use style=\"fill:#3f3f3f;stroke:#3f3f3f;stroke-linejoin:miter;\" x=\"56.354545\" xlink:href=\"#m60c24b87c4\" y=\"143.1\"/>\r\n     <use style=\"fill:#3f3f3f;stroke:#3f3f3f;stroke-linejoin:miter;\" x=\"56.354545\" xlink:href=\"#m60c24b87c4\" y=\"143.1\"/>\r\n     <use style=\"fill:#3f3f3f;stroke:#3f3f3f;stroke-linejoin:miter;\" x=\"56.354545\" xlink:href=\"#m60c24b87c4\" y=\"143.1\"/>\r\n     <use style=\"fill:#3f3f3f;stroke:#3f3f3f;stroke-linejoin:miter;\" x=\"56.354545\" xlink:href=\"#m60c24b87c4\" y=\"143.1\"/>\r\n     <use style=\"fill:#3f3f3f;stroke:#3f3f3f;stroke-linejoin:miter;\" x=\"56.354545\" xlink:href=\"#m60c24b87c4\" y=\"143.1\"/>\r\n     <use style=\"fill:#3f3f3f;stroke:#3f3f3f;stroke-linejoin:miter;\" x=\"56.354545\" xlink:href=\"#m60c24b87c4\" y=\"143.1\"/>\r\n     <use style=\"fill:#3f3f3f;stroke:#3f3f3f;stroke-linejoin:miter;\" x=\"56.354545\" xlink:href=\"#m60c24b87c4\" y=\"143.1\"/>\r\n     <use style=\"fill:#3f3f3f;stroke:#3f3f3f;stroke-linejoin:miter;\" x=\"56.354545\" xlink:href=\"#m60c24b87c4\" y=\"143.1\"/>\r\n     <use style=\"fill:#3f3f3f;stroke:#3f3f3f;stroke-linejoin:miter;\" x=\"56.354545\" xlink:href=\"#m60c24b87c4\" y=\"143.1\"/>\r\n     <use style=\"fill:#3f3f3f;stroke:#3f3f3f;stroke-linejoin:miter;\" x=\"56.354545\" xlink:href=\"#m60c24b87c4\" y=\"143.1\"/>\r\n     <use style=\"fill:#3f3f3f;stroke:#3f3f3f;stroke-linejoin:miter;\" x=\"56.354545\" xlink:href=\"#m60c24b87c4\" y=\"143.1\"/>\r\n     <use style=\"fill:#3f3f3f;stroke:#3f3f3f;stroke-linejoin:miter;\" x=\"56.354545\" xlink:href=\"#m60c24b87c4\" y=\"143.1\"/>\r\n     <use style=\"fill:#3f3f3f;stroke:#3f3f3f;stroke-linejoin:miter;\" x=\"56.354545\" xlink:href=\"#m60c24b87c4\" y=\"143.1\"/>\r\n     <use style=\"fill:#3f3f3f;stroke:#3f3f3f;stroke-linejoin:miter;\" x=\"56.354545\" xlink:href=\"#m60c24b87c4\" y=\"143.1\"/>\r\n     <use style=\"fill:#3f3f3f;stroke:#3f3f3f;stroke-linejoin:miter;\" x=\"56.354545\" xlink:href=\"#m60c24b87c4\" y=\"143.1\"/>\r\n     <use style=\"fill:#3f3f3f;stroke:#3f3f3f;stroke-linejoin:miter;\" x=\"56.354545\" xlink:href=\"#m60c24b87c4\" y=\"143.1\"/>\r\n     <use style=\"fill:#3f3f3f;stroke:#3f3f3f;stroke-linejoin:miter;\" x=\"56.354545\" xlink:href=\"#m60c24b87c4\" y=\"143.1\"/>\r\n     <use style=\"fill:#3f3f3f;stroke:#3f3f3f;stroke-linejoin:miter;\" x=\"56.354545\" xlink:href=\"#m60c24b87c4\" y=\"143.1\"/>\r\n     <use style=\"fill:#3f3f3f;stroke:#3f3f3f;stroke-linejoin:miter;\" x=\"56.354545\" xlink:href=\"#m60c24b87c4\" y=\"143.1\"/>\r\n     <use style=\"fill:#3f3f3f;stroke:#3f3f3f;stroke-linejoin:miter;\" x=\"56.354545\" xlink:href=\"#m60c24b87c4\" y=\"143.1\"/>\r\n     <use style=\"fill:#3f3f3f;stroke:#3f3f3f;stroke-linejoin:miter;\" x=\"56.354545\" xlink:href=\"#m60c24b87c4\" y=\"143.1\"/>\r\n     <use style=\"fill:#3f3f3f;stroke:#3f3f3f;stroke-linejoin:miter;\" x=\"56.354545\" xlink:href=\"#m60c24b87c4\" y=\"143.1\"/>\r\n     <use style=\"fill:#3f3f3f;stroke:#3f3f3f;stroke-linejoin:miter;\" x=\"56.354545\" xlink:href=\"#m60c24b87c4\" y=\"143.1\"/>\r\n     <use style=\"fill:#3f3f3f;stroke:#3f3f3f;stroke-linejoin:miter;\" x=\"56.354545\" xlink:href=\"#m60c24b87c4\" y=\"143.1\"/>\r\n     <use style=\"fill:#3f3f3f;stroke:#3f3f3f;stroke-linejoin:miter;\" x=\"56.354545\" xlink:href=\"#m60c24b87c4\" y=\"143.1\"/>\r\n     <use style=\"fill:#3f3f3f;stroke:#3f3f3f;stroke-linejoin:miter;\" x=\"56.354545\" xlink:href=\"#m60c24b87c4\" y=\"143.1\"/>\r\n     <use style=\"fill:#3f3f3f;stroke:#3f3f3f;stroke-linejoin:miter;\" x=\"56.354545\" xlink:href=\"#m60c24b87c4\" y=\"143.1\"/>\r\n     <use style=\"fill:#3f3f3f;stroke:#3f3f3f;stroke-linejoin:miter;\" x=\"56.354545\" xlink:href=\"#m60c24b87c4\" y=\"143.1\"/>\r\n     <use style=\"fill:#3f3f3f;stroke:#3f3f3f;stroke-linejoin:miter;\" x=\"56.354545\" xlink:href=\"#m60c24b87c4\" y=\"143.1\"/>\r\n     <use style=\"fill:#3f3f3f;stroke:#3f3f3f;stroke-linejoin:miter;\" x=\"56.354545\" xlink:href=\"#m60c24b87c4\" y=\"143.1\"/>\r\n     <use style=\"fill:#3f3f3f;stroke:#3f3f3f;stroke-linejoin:miter;\" x=\"56.354545\" xlink:href=\"#m60c24b87c4\" y=\"143.1\"/>\r\n     <use style=\"fill:#3f3f3f;stroke:#3f3f3f;stroke-linejoin:miter;\" x=\"56.354545\" xlink:href=\"#m60c24b87c4\" y=\"143.1\"/>\r\n     <use style=\"fill:#3f3f3f;stroke:#3f3f3f;stroke-linejoin:miter;\" x=\"56.354545\" xlink:href=\"#m60c24b87c4\" y=\"143.1\"/>\r\n     <use style=\"fill:#3f3f3f;stroke:#3f3f3f;stroke-linejoin:miter;\" x=\"56.354545\" xlink:href=\"#m60c24b87c4\" y=\"143.1\"/>\r\n     <use style=\"fill:#3f3f3f;stroke:#3f3f3f;stroke-linejoin:miter;\" x=\"56.354545\" xlink:href=\"#m60c24b87c4\" y=\"143.1\"/>\r\n     <use style=\"fill:#3f3f3f;stroke:#3f3f3f;stroke-linejoin:miter;\" x=\"56.354545\" xlink:href=\"#m60c24b87c4\" y=\"143.1\"/>\r\n     <use style=\"fill:#3f3f3f;stroke:#3f3f3f;stroke-linejoin:miter;\" x=\"421.899934\" xlink:href=\"#m60c24b87c4\" y=\"143.1\"/>\r\n     <use style=\"fill:#3f3f3f;stroke:#3f3f3f;stroke-linejoin:miter;\" x=\"464.116343\" xlink:href=\"#m60c24b87c4\" y=\"143.1\"/>\r\n     <use style=\"fill:#3f3f3f;stroke:#3f3f3f;stroke-linejoin:miter;\" x=\"423.57146\" xlink:href=\"#m60c24b87c4\" y=\"143.1\"/>\r\n     <use style=\"fill:#3f3f3f;stroke:#3f3f3f;stroke-linejoin:miter;\" x=\"455.896434\" xlink:href=\"#m60c24b87c4\" y=\"143.1\"/>\r\n     <use style=\"fill:#3f3f3f;stroke:#3f3f3f;stroke-linejoin:miter;\" x=\"420.692511\" xlink:href=\"#m60c24b87c4\" y=\"143.1\"/>\r\n     <use style=\"fill:#3f3f3f;stroke:#3f3f3f;stroke-linejoin:miter;\" x=\"420.773635\" xlink:href=\"#m60c24b87c4\" y=\"143.1\"/>\r\n     <use style=\"fill:#3f3f3f;stroke:#3f3f3f;stroke-linejoin:miter;\" x=\"428.097409\" xlink:href=\"#m60c24b87c4\" y=\"143.1\"/>\r\n     <use style=\"fill:#3f3f3f;stroke:#3f3f3f;stroke-linejoin:miter;\" x=\"433.389317\" xlink:href=\"#m60c24b87c4\" y=\"143.1\"/>\r\n     <use style=\"fill:#3f3f3f;stroke:#3f3f3f;stroke-linejoin:miter;\" x=\"434.936328\" xlink:href=\"#m60c24b87c4\" y=\"143.1\"/>\r\n     <use style=\"fill:#3f3f3f;stroke:#3f3f3f;stroke-linejoin:miter;\" x=\"437.637936\" xlink:href=\"#m60c24b87c4\" y=\"143.1\"/>\r\n     <use style=\"fill:#3f3f3f;stroke:#3f3f3f;stroke-linejoin:miter;\" x=\"425.880656\" xlink:href=\"#m60c24b87c4\" y=\"143.1\"/>\r\n     <use style=\"fill:#3f3f3f;stroke:#3f3f3f;stroke-linejoin:miter;\" x=\"422.10746\" xlink:href=\"#m60c24b87c4\" y=\"143.1\"/>\r\n     <use style=\"fill:#3f3f3f;stroke:#3f3f3f;stroke-linejoin:miter;\" x=\"427.672924\" xlink:href=\"#m60c24b87c4\" y=\"143.1\"/>\r\n     <use style=\"fill:#3f3f3f;stroke:#3f3f3f;stroke-linejoin:miter;\" x=\"437.470029\" xlink:href=\"#m60c24b87c4\" y=\"143.1\"/>\r\n     <use style=\"fill:#3f3f3f;stroke:#3f3f3f;stroke-linejoin:miter;\" x=\"427.235234\" xlink:href=\"#m60c24b87c4\" y=\"143.1\"/>\r\n     <use style=\"fill:#3f3f3f;stroke:#3f3f3f;stroke-linejoin:miter;\" x=\"422.464027\" xlink:href=\"#m60c24b87c4\" y=\"143.1\"/>\r\n     <use style=\"fill:#3f3f3f;stroke:#3f3f3f;stroke-linejoin:miter;\" x=\"466.018034\" xlink:href=\"#m60c24b87c4\" y=\"143.1\"/>\r\n     <use style=\"fill:#3f3f3f;stroke:#3f3f3f;stroke-linejoin:miter;\" x=\"430.755626\" xlink:href=\"#m60c24b87c4\" y=\"143.1\"/>\r\n     <use style=\"fill:#3f3f3f;stroke:#3f3f3f;stroke-linejoin:miter;\" x=\"436.839905\" xlink:href=\"#m60c24b87c4\" y=\"143.1\"/>\r\n     <use style=\"fill:#3f3f3f;stroke:#3f3f3f;stroke-linejoin:miter;\" x=\"422.058408\" xlink:href=\"#m60c24b87c4\" y=\"143.1\"/>\r\n     <use style=\"fill:#3f3f3f;stroke:#3f3f3f;stroke-linejoin:miter;\" x=\"429.389729\" xlink:href=\"#m60c24b87c4\" y=\"143.1\"/>\r\n     <use style=\"fill:#3f3f3f;stroke:#3f3f3f;stroke-linejoin:miter;\" x=\"426.448522\" xlink:href=\"#m60c24b87c4\" y=\"143.1\"/>\r\n     <use style=\"fill:#3f3f3f;stroke:#3f3f3f;stroke-linejoin:miter;\" x=\"443.141143\" xlink:href=\"#m60c24b87c4\" y=\"143.1\"/>\r\n     <use style=\"fill:#3f3f3f;stroke:#3f3f3f;stroke-linejoin:miter;\" x=\"491.621058\" xlink:href=\"#m60c24b87c4\" y=\"143.1\"/>\r\n     <use style=\"fill:#3f3f3f;stroke:#3f3f3f;stroke-linejoin:miter;\" x=\"429.710451\" xlink:href=\"#m60c24b87c4\" y=\"143.1\"/>\r\n     <use style=\"fill:#3f3f3f;stroke:#3f3f3f;stroke-linejoin:miter;\" x=\"428.206832\" xlink:href=\"#m60c24b87c4\" y=\"143.1\"/>\r\n     <use style=\"fill:#3f3f3f;stroke:#3f3f3f;stroke-linejoin:miter;\" x=\"421.933893\" xlink:href=\"#m60c24b87c4\" y=\"143.1\"/>\r\n     <use style=\"fill:#3f3f3f;stroke:#3f3f3f;stroke-linejoin:miter;\" x=\"461.297765\" xlink:href=\"#m60c24b87c4\" y=\"143.1\"/>\r\n     <use style=\"fill:#3f3f3f;stroke:#3f3f3f;stroke-linejoin:miter;\" x=\"427.476718\" xlink:href=\"#m60c24b87c4\" y=\"143.1\"/>\r\n     <use style=\"fill:#3f3f3f;stroke:#3f3f3f;stroke-linejoin:miter;\" x=\"424.671347\" xlink:href=\"#m60c24b87c4\" y=\"143.1\"/>\r\n     <use style=\"fill:#3f3f3f;stroke:#3f3f3f;stroke-linejoin:miter;\" x=\"481.557943\" xlink:href=\"#m60c24b87c4\" y=\"143.1\"/>\r\n     <use style=\"fill:#3f3f3f;stroke:#3f3f3f;stroke-linejoin:miter;\" x=\"448.551907\" xlink:href=\"#m60c24b87c4\" y=\"143.1\"/>\r\n     <use style=\"fill:#3f3f3f;stroke:#3f3f3f;stroke-linejoin:miter;\" x=\"442.471401\" xlink:href=\"#m60c24b87c4\" y=\"143.1\"/>\r\n     <use style=\"fill:#3f3f3f;stroke:#3f3f3f;stroke-linejoin:miter;\" x=\"486.357449\" xlink:href=\"#m60c24b87c4\" y=\"143.1\"/>\r\n     <use style=\"fill:#3f3f3f;stroke:#3f3f3f;stroke-linejoin:miter;\" x=\"435.253276\" xlink:href=\"#m60c24b87c4\" y=\"143.1\"/>\r\n     <use style=\"fill:#3f3f3f;stroke:#3f3f3f;stroke-linejoin:miter;\" x=\"466.438745\" xlink:href=\"#m60c24b87c4\" y=\"143.1\"/>\r\n     <use style=\"fill:#3f3f3f;stroke:#3f3f3f;stroke-linejoin:miter;\" x=\"436.294678\" xlink:href=\"#m60c24b87c4\" y=\"143.1\"/>\r\n     <use style=\"fill:#3f3f3f;stroke:#3f3f3f;stroke-linejoin:miter;\" x=\"445.131505\" xlink:href=\"#m60c24b87c4\" y=\"143.1\"/>\r\n     <use style=\"fill:#3f3f3f;stroke:#3f3f3f;stroke-linejoin:miter;\" x=\"442.41669\" xlink:href=\"#m60c24b87c4\" y=\"143.1\"/>\r\n     <use style=\"fill:#3f3f3f;stroke:#3f3f3f;stroke-linejoin:miter;\" x=\"421.63581\" xlink:href=\"#m60c24b87c4\" y=\"143.1\"/>\r\n     <use style=\"fill:#3f3f3f;stroke:#3f3f3f;stroke-linejoin:miter;\" x=\"428.953925\" xlink:href=\"#m60c24b87c4\" y=\"143.1\"/>\r\n     <use style=\"fill:#3f3f3f;stroke:#3f3f3f;stroke-linejoin:miter;\" x=\"444.214618\" xlink:href=\"#m60c24b87c4\" y=\"143.1\"/>\r\n     <use style=\"fill:#3f3f3f;stroke:#3f3f3f;stroke-linejoin:miter;\" x=\"426.378718\" xlink:href=\"#m60c24b87c4\" y=\"143.1\"/>\r\n     <use style=\"fill:#3f3f3f;stroke:#3f3f3f;stroke-linejoin:miter;\" x=\"530.971725\" xlink:href=\"#m60c24b87c4\" y=\"143.1\"/>\r\n     <use style=\"fill:#3f3f3f;stroke:#3f3f3f;stroke-linejoin:miter;\" x=\"423.752573\" xlink:href=\"#m60c24b87c4\" y=\"143.1\"/>\r\n     <use style=\"fill:#3f3f3f;stroke:#3f3f3f;stroke-linejoin:miter;\" x=\"442.201618\" xlink:href=\"#m60c24b87c4\" y=\"143.1\"/>\r\n     <use style=\"fill:#3f3f3f;stroke:#3f3f3f;stroke-linejoin:miter;\" x=\"435.336287\" xlink:href=\"#m60c24b87c4\" y=\"143.1\"/>\r\n     <use style=\"fill:#3f3f3f;stroke:#3f3f3f;stroke-linejoin:miter;\" x=\"491.553141\" xlink:href=\"#m60c24b87c4\" y=\"143.1\"/>\r\n     <use style=\"fill:#3f3f3f;stroke:#3f3f3f;stroke-linejoin:miter;\" x=\"431.989461\" xlink:href=\"#m60c24b87c4\" y=\"143.1\"/>\r\n     <use style=\"fill:#3f3f3f;stroke:#3f3f3f;stroke-linejoin:miter;\" x=\"459.682837\" xlink:href=\"#m60c24b87c4\" y=\"143.1\"/>\r\n     <use style=\"fill:#3f3f3f;stroke:#3f3f3f;stroke-linejoin:miter;\" x=\"421.839563\" xlink:href=\"#m60c24b87c4\" y=\"143.1\"/>\r\n     <use style=\"fill:#3f3f3f;stroke:#3f3f3f;stroke-linejoin:miter;\" x=\"422.826254\" xlink:href=\"#m60c24b87c4\" y=\"143.1\"/>\r\n     <use style=\"fill:#3f3f3f;stroke:#3f3f3f;stroke-linejoin:miter;\" x=\"425.656151\" xlink:href=\"#m60c24b87c4\" y=\"143.1\"/>\r\n     <use style=\"fill:#3f3f3f;stroke:#3f3f3f;stroke-linejoin:miter;\" x=\"443.407154\" xlink:href=\"#m60c24b87c4\" y=\"143.1\"/>\r\n     <use style=\"fill:#3f3f3f;stroke:#3f3f3f;stroke-linejoin:miter;\" x=\"431.059368\" xlink:href=\"#m60c24b87c4\" y=\"143.1\"/>\r\n     <use style=\"fill:#3f3f3f;stroke:#3f3f3f;stroke-linejoin:miter;\" x=\"436.481452\" xlink:href=\"#m60c24b87c4\" y=\"143.1\"/>\r\n     <use style=\"fill:#3f3f3f;stroke:#3f3f3f;stroke-linejoin:miter;\" x=\"621.309595\" xlink:href=\"#m60c24b87c4\" y=\"143.1\"/>\r\n     <use style=\"fill:#3f3f3f;stroke:#3f3f3f;stroke-linejoin:miter;\" x=\"430.312275\" xlink:href=\"#m60c24b87c4\" y=\"143.1\"/>\r\n     <use style=\"fill:#3f3f3f;stroke:#3f3f3f;stroke-linejoin:miter;\" x=\"439.141555\" xlink:href=\"#m60c24b87c4\" y=\"143.1\"/>\r\n     <use style=\"fill:#3f3f3f;stroke:#3f3f3f;stroke-linejoin:miter;\" x=\"427.9861\" xlink:href=\"#m60c24b87c4\" y=\"143.1\"/>\r\n     <use style=\"fill:#3f3f3f;stroke:#3f3f3f;stroke-linejoin:miter;\" x=\"499.016524\" xlink:href=\"#m60c24b87c4\" y=\"143.1\"/>\r\n     <use style=\"fill:#3f3f3f;stroke:#3f3f3f;stroke-linejoin:miter;\" x=\"424.76379\" xlink:href=\"#m60c24b87c4\" y=\"143.1\"/>\r\n     <use style=\"fill:#3f3f3f;stroke:#3f3f3f;stroke-linejoin:miter;\" x=\"434.881616\" xlink:href=\"#m60c24b87c4\" y=\"143.1\"/>\r\n     <use style=\"fill:#3f3f3f;stroke:#3f3f3f;stroke-linejoin:miter;\" x=\"523.64795\" xlink:href=\"#m60c24b87c4\" y=\"143.1\"/>\r\n     <use style=\"fill:#3f3f3f;stroke:#3f3f3f;stroke-linejoin:miter;\" x=\"448.970732\" xlink:href=\"#m60c24b87c4\" y=\"143.1\"/>\r\n     <use style=\"fill:#3f3f3f;stroke:#3f3f3f;stroke-linejoin:miter;\" x=\"463.046642\" xlink:href=\"#m60c24b87c4\" y=\"143.1\"/>\r\n     <use style=\"fill:#3f3f3f;stroke:#3f3f3f;stroke-linejoin:miter;\" x=\"446.857742\" xlink:href=\"#m60c24b87c4\" y=\"143.1\"/>\r\n     <use style=\"fill:#3f3f3f;stroke:#3f3f3f;stroke-linejoin:miter;\" x=\"461.637353\" xlink:href=\"#m60c24b87c4\" y=\"143.1\"/>\r\n     <use style=\"fill:#3f3f3f;stroke:#3f3f3f;stroke-linejoin:miter;\" x=\"428.06345\" xlink:href=\"#m60c24b87c4\" y=\"143.1\"/>\r\n     <use style=\"fill:#3f3f3f;stroke:#3f3f3f;stroke-linejoin:miter;\" x=\"436.045647\" xlink:href=\"#m60c24b87c4\" y=\"143.1\"/>\r\n     <use style=\"fill:#3f3f3f;stroke:#3f3f3f;stroke-linejoin:miter;\" x=\"451.381805\" xlink:href=\"#m60c24b87c4\" y=\"143.1\"/>\r\n     <use style=\"fill:#3f3f3f;stroke:#3f3f3f;stroke-linejoin:miter;\" x=\"483.942604\" xlink:href=\"#m60c24b87c4\" y=\"143.1\"/>\r\n     <use style=\"fill:#3f3f3f;stroke:#3f3f3f;stroke-linejoin:miter;\" x=\"438.581236\" xlink:href=\"#m60c24b87c4\" y=\"143.1\"/>\r\n     <use style=\"fill:#3f3f3f;stroke:#3f3f3f;stroke-linejoin:miter;\" x=\"447.246381\" xlink:href=\"#m60c24b87c4\" y=\"143.1\"/>\r\n     <use style=\"fill:#3f3f3f;stroke:#3f3f3f;stroke-linejoin:miter;\" x=\"493.59444\" xlink:href=\"#m60c24b87c4\" y=\"143.1\"/>\r\n     <use style=\"fill:#3f3f3f;stroke:#3f3f3f;stroke-linejoin:miter;\" x=\"470.327024\" xlink:href=\"#m60c24b87c4\" y=\"143.1\"/>\r\n     <use style=\"fill:#3f3f3f;stroke:#3f3f3f;stroke-linejoin:miter;\" x=\"477.373469\" xlink:href=\"#m60c24b87c4\" y=\"143.1\"/>\r\n     <use style=\"fill:#3f3f3f;stroke:#3f3f3f;stroke-linejoin:miter;\" x=\"436.883297\" xlink:href=\"#m60c24b87c4\" y=\"143.1\"/>\r\n     <use style=\"fill:#3f3f3f;stroke:#3f3f3f;stroke-linejoin:miter;\" x=\"492.107801\" xlink:href=\"#m60c24b87c4\" y=\"143.1\"/>\r\n     <use style=\"fill:#3f3f3f;stroke:#3f3f3f;stroke-linejoin:miter;\" x=\"519.269156\" xlink:href=\"#m60c24b87c4\" y=\"143.1\"/>\r\n     <use style=\"fill:#3f3f3f;stroke:#3f3f3f;stroke-linejoin:miter;\" x=\"432.208307\" xlink:href=\"#m60c24b87c4\" y=\"143.1\"/>\r\n     <use style=\"fill:#3f3f3f;stroke:#3f3f3f;stroke-linejoin:miter;\" x=\"448.421732\" xlink:href=\"#m60c24b87c4\" y=\"143.1\"/>\r\n     <use style=\"fill:#3f3f3f;stroke:#3f3f3f;stroke-linejoin:miter;\" x=\"421.230192\" xlink:href=\"#m60c24b87c4\" y=\"143.1\"/>\r\n     <use style=\"fill:#3f3f3f;stroke:#3f3f3f;stroke-linejoin:miter;\" x=\"441.343215\" xlink:href=\"#m60c24b87c4\" y=\"143.1\"/>\r\n     <use style=\"fill:#3f3f3f;stroke:#3f3f3f;stroke-linejoin:miter;\" x=\"524.881785\" xlink:href=\"#m60c24b87c4\" y=\"143.1\"/>\r\n     <use style=\"fill:#3f3f3f;stroke:#3f3f3f;stroke-linejoin:miter;\" x=\"428.018172\" xlink:href=\"#m60c24b87c4\" y=\"143.1\"/>\r\n     <use style=\"fill:#3f3f3f;stroke:#3f3f3f;stroke-linejoin:miter;\" x=\"426.646615\" xlink:href=\"#m60c24b87c4\" y=\"143.1\"/>\r\n     <use style=\"fill:#3f3f3f;stroke:#3f3f3f;stroke-linejoin:miter;\" x=\"433.234616\" xlink:href=\"#m60c24b87c4\" y=\"143.1\"/>\r\n     <use style=\"fill:#3f3f3f;stroke:#3f3f3f;stroke-linejoin:miter;\" x=\"423.905388\" xlink:href=\"#m60c24b87c4\" y=\"143.1\"/>\r\n     <use style=\"fill:#3f3f3f;stroke:#3f3f3f;stroke-linejoin:miter;\" x=\"431.885698\" xlink:href=\"#m60c24b87c4\" y=\"143.1\"/>\r\n     <use style=\"fill:#3f3f3f;stroke:#3f3f3f;stroke-linejoin:miter;\" x=\"424.950563\" xlink:href=\"#m60c24b87c4\" y=\"143.1\"/>\r\n     <use style=\"fill:#3f3f3f;stroke:#3f3f3f;stroke-linejoin:miter;\" x=\"442.1337\" xlink:href=\"#m60c24b87c4\" y=\"143.1\"/>\r\n     <use style=\"fill:#3f3f3f;stroke:#3f3f3f;stroke-linejoin:miter;\" x=\"454.600341\" xlink:href=\"#m60c24b87c4\" y=\"143.1\"/>\r\n     <use style=\"fill:#3f3f3f;stroke:#3f3f3f;stroke-linejoin:miter;\" x=\"456.537878\" xlink:href=\"#m60c24b87c4\" y=\"143.1\"/>\r\n     <use style=\"fill:#3f3f3f;stroke:#3f3f3f;stroke-linejoin:miter;\" x=\"423.367707\" xlink:href=\"#m60c24b87c4\" y=\"143.1\"/>\r\n     <use style=\"fill:#3f3f3f;stroke:#3f3f3f;stroke-linejoin:miter;\" x=\"471.940066\" xlink:href=\"#m60c24b87c4\" y=\"143.1\"/>\r\n     <use style=\"fill:#3f3f3f;stroke:#3f3f3f;stroke-linejoin:miter;\" x=\"443.884463\" xlink:href=\"#m60c24b87c4\" y=\"143.1\"/>\r\n     <use style=\"fill:#3f3f3f;stroke:#3f3f3f;stroke-linejoin:miter;\" x=\"620.179522\" xlink:href=\"#m60c24b87c4\" y=\"143.1\"/>\r\n     <use style=\"fill:#3f3f3f;stroke:#3f3f3f;stroke-linejoin:miter;\" x=\"428.023832\" xlink:href=\"#m60c24b87c4\" y=\"143.1\"/>\r\n     <use style=\"fill:#3f3f3f;stroke:#3f3f3f;stroke-linejoin:miter;\" x=\"434.019441\" xlink:href=\"#m60c24b87c4\" y=\"143.1\"/>\r\n     <use style=\"fill:#3f3f3f;stroke:#3f3f3f;stroke-linejoin:miter;\" x=\"457.705682\" xlink:href=\"#m60c24b87c4\" y=\"143.1\"/>\r\n     <use style=\"fill:#3f3f3f;stroke:#3f3f3f;stroke-linejoin:miter;\" x=\"547.460593\" xlink:href=\"#m60c24b87c4\" y=\"143.1\"/>\r\n     <use style=\"fill:#3f3f3f;stroke:#3f3f3f;stroke-linejoin:miter;\" x=\"435.206111\" xlink:href=\"#m60c24b87c4\" y=\"143.1\"/>\r\n     <use style=\"fill:#3f3f3f;stroke:#3f3f3f;stroke-linejoin:miter;\" x=\"610.688047\" xlink:href=\"#m60c24b87c4\" y=\"143.1\"/>\r\n     <use style=\"fill:#3f3f3f;stroke:#3f3f3f;stroke-linejoin:miter;\" x=\"429.176543\" xlink:href=\"#m60c24b87c4\" y=\"143.1\"/>\r\n     <use style=\"fill:#3f3f3f;stroke:#3f3f3f;stroke-linejoin:miter;\" x=\"428.131368\" xlink:href=\"#m60c24b87c4\" y=\"143.1\"/>\r\n     <use style=\"fill:#3f3f3f;stroke:#3f3f3f;stroke-linejoin:miter;\" x=\"444.597597\" xlink:href=\"#m60c24b87c4\" y=\"143.1\"/>\r\n     <use style=\"fill:#3f3f3f;stroke:#3f3f3f;stroke-linejoin:miter;\" x=\"527.677724\" xlink:href=\"#m60c24b87c4\" y=\"143.1\"/>\r\n     <use style=\"fill:#3f3f3f;stroke:#3f3f3f;stroke-linejoin:miter;\" x=\"496.152667\" xlink:href=\"#m60c24b87c4\" y=\"143.1\"/>\r\n     <use style=\"fill:#3f3f3f;stroke:#3f3f3f;stroke-linejoin:miter;\" x=\"448.676423\" xlink:href=\"#m60c24b87c4\" y=\"143.1\"/>\r\n     <use style=\"fill:#3f3f3f;stroke:#3f3f3f;stroke-linejoin:miter;\" x=\"437.613411\" xlink:href=\"#m60c24b87c4\" y=\"143.1\"/>\r\n     <use style=\"fill:#3f3f3f;stroke:#3f3f3f;stroke-linejoin:miter;\" x=\"423.0168\" xlink:href=\"#m60c24b87c4\" y=\"143.1\"/>\r\n     <use style=\"fill:#3f3f3f;stroke:#3f3f3f;stroke-linejoin:miter;\" x=\"607.739294\" xlink:href=\"#m60c24b87c4\" y=\"143.1\"/>\r\n     <use style=\"fill:#3f3f3f;stroke:#3f3f3f;stroke-linejoin:miter;\" x=\"437.368153\" xlink:href=\"#m60c24b87c4\" y=\"143.1\"/>\r\n     <use style=\"fill:#3f3f3f;stroke:#3f3f3f;stroke-linejoin:miter;\" x=\"438.477473\" xlink:href=\"#m60c24b87c4\" y=\"143.1\"/>\r\n     <use style=\"fill:#3f3f3f;stroke:#3f3f3f;stroke-linejoin:miter;\" x=\"815.597141\" xlink:href=\"#m60c24b87c4\" y=\"143.1\"/>\r\n     <use style=\"fill:#3f3f3f;stroke:#3f3f3f;stroke-linejoin:miter;\" x=\"455.760599\" xlink:href=\"#m60c24b87c4\" y=\"143.1\"/>\r\n     <use style=\"fill:#3f3f3f;stroke:#3f3f3f;stroke-linejoin:miter;\" x=\"447.157711\" xlink:href=\"#m60c24b87c4\" y=\"143.1\"/>\r\n     <use style=\"fill:#3f3f3f;stroke:#3f3f3f;stroke-linejoin:miter;\" x=\"426.554172\" xlink:href=\"#m60c24b87c4\" y=\"143.1\"/>\r\n     <use style=\"fill:#3f3f3f;stroke:#3f3f3f;stroke-linejoin:miter;\" x=\"432.002667\" xlink:href=\"#m60c24b87c4\" y=\"143.1\"/>\r\n     <use style=\"fill:#3f3f3f;stroke:#3f3f3f;stroke-linejoin:miter;\" x=\"431.259348\" xlink:href=\"#m60c24b87c4\" y=\"143.1\"/>\r\n     <use style=\"fill:#3f3f3f;stroke:#3f3f3f;stroke-linejoin:miter;\" x=\"508.95701\" xlink:href=\"#m60c24b87c4\" y=\"143.1\"/>\r\n     <use style=\"fill:#3f3f3f;stroke:#3f3f3f;stroke-linejoin:miter;\" x=\"442.586484\" xlink:href=\"#m60c24b87c4\" y=\"143.1\"/>\r\n     <use style=\"fill:#3f3f3f;stroke:#3f3f3f;stroke-linejoin:miter;\" x=\"431.612142\" xlink:href=\"#m60c24b87c4\" y=\"143.1\"/>\r\n     <use style=\"fill:#3f3f3f;stroke:#3f3f3f;stroke-linejoin:miter;\" x=\"430.102863\" xlink:href=\"#m60c24b87c4\" y=\"143.1\"/>\r\n     <use style=\"fill:#3f3f3f;stroke:#3f3f3f;stroke-linejoin:miter;\" x=\"434.193008\" xlink:href=\"#m60c24b87c4\" y=\"143.1\"/>\r\n     <use style=\"fill:#3f3f3f;stroke:#3f3f3f;stroke-linejoin:miter;\" x=\"456.066228\" xlink:href=\"#m60c24b87c4\" y=\"143.1\"/>\r\n     <use style=\"fill:#3f3f3f;stroke:#3f3f3f;stroke-linejoin:miter;\" x=\"429.006749\" xlink:href=\"#m60c24b87c4\" y=\"143.1\"/>\r\n     <use style=\"fill:#3f3f3f;stroke:#3f3f3f;stroke-linejoin:miter;\" x=\"439.847143\" xlink:href=\"#m60c24b87c4\" y=\"143.1\"/>\r\n     <use style=\"fill:#3f3f3f;stroke:#3f3f3f;stroke-linejoin:miter;\" x=\"449.19901\" xlink:href=\"#m60c24b87c4\" y=\"143.1\"/>\r\n     <use style=\"fill:#3f3f3f;stroke:#3f3f3f;stroke-linejoin:miter;\" x=\"509.551288\" xlink:href=\"#m60c24b87c4\" y=\"143.1\"/>\r\n     <use style=\"fill:#3f3f3f;stroke:#3f3f3f;stroke-linejoin:miter;\" x=\"436.655019\" xlink:href=\"#m60c24b87c4\" y=\"143.1\"/>\r\n     <use style=\"fill:#3f3f3f;stroke:#3f3f3f;stroke-linejoin:miter;\" x=\"449.912145\" xlink:href=\"#m60c24b87c4\" y=\"143.1\"/>\r\n     <use style=\"fill:#3f3f3f;stroke:#3f3f3f;stroke-linejoin:miter;\" x=\"442.154453\" xlink:href=\"#m60c24b87c4\" y=\"143.1\"/>\r\n     <use style=\"fill:#3f3f3f;stroke:#3f3f3f;stroke-linejoin:miter;\" x=\"428.627543\" xlink:href=\"#m60c24b87c4\" y=\"143.1\"/>\r\n     <use style=\"fill:#3f3f3f;stroke:#3f3f3f;stroke-linejoin:miter;\" x=\"449.65934\" xlink:href=\"#m60c24b87c4\" y=\"143.1\"/>\r\n     <use style=\"fill:#3f3f3f;stroke:#3f3f3f;stroke-linejoin:miter;\" x=\"496.641296\" xlink:href=\"#m60c24b87c4\" y=\"143.1\"/>\r\n     <use style=\"fill:#3f3f3f;stroke:#3f3f3f;stroke-linejoin:miter;\" x=\"450.014021\" xlink:href=\"#m60c24b87c4\" y=\"143.1\"/>\r\n     <use style=\"fill:#3f3f3f;stroke:#3f3f3f;stroke-linejoin:miter;\" x=\"461.784507\" xlink:href=\"#m60c24b87c4\" y=\"143.1\"/>\r\n     <use style=\"fill:#3f3f3f;stroke:#3f3f3f;stroke-linejoin:miter;\" x=\"425.920275\" xlink:href=\"#m60c24b87c4\" y=\"143.1\"/>\r\n     <use style=\"fill:#3f3f3f;stroke:#3f3f3f;stroke-linejoin:miter;\" x=\"426.718306\" xlink:href=\"#m60c24b87c4\" y=\"143.1\"/>\r\n     <use style=\"fill:#3f3f3f;stroke:#3f3f3f;stroke-linejoin:miter;\" x=\"454.802207\" xlink:href=\"#m60c24b87c4\" y=\"143.1\"/>\r\n     <use style=\"fill:#3f3f3f;stroke:#3f3f3f;stroke-linejoin:miter;\" x=\"439.605658\" xlink:href=\"#m60c24b87c4\" y=\"143.1\"/>\r\n     <use style=\"fill:#3f3f3f;stroke:#3f3f3f;stroke-linejoin:miter;\" x=\"424.631728\" xlink:href=\"#m60c24b87c4\" y=\"143.1\"/>\r\n     <use style=\"fill:#3f3f3f;stroke:#3f3f3f;stroke-linejoin:miter;\" x=\"423.069625\" xlink:href=\"#m60c24b87c4\" y=\"143.1\"/>\r\n     <use style=\"fill:#3f3f3f;stroke:#3f3f3f;stroke-linejoin:miter;\" x=\"435.598524\" xlink:href=\"#m60c24b87c4\" y=\"143.1\"/>\r\n     <use style=\"fill:#3f3f3f;stroke:#3f3f3f;stroke-linejoin:miter;\" x=\"423.773326\" xlink:href=\"#m60c24b87c4\" y=\"143.1\"/>\r\n     <use style=\"fill:#3f3f3f;stroke:#3f3f3f;stroke-linejoin:miter;\" x=\"426.363625\" xlink:href=\"#m60c24b87c4\" y=\"143.1\"/>\r\n     <use style=\"fill:#3f3f3f;stroke:#3f3f3f;stroke-linejoin:miter;\" x=\"424.463821\" xlink:href=\"#m60c24b87c4\" y=\"143.1\"/>\r\n     <use style=\"fill:#3f3f3f;stroke:#3f3f3f;stroke-linejoin:miter;\" x=\"436.879524\" xlink:href=\"#m60c24b87c4\" y=\"143.1\"/>\r\n     <use style=\"fill:#3f3f3f;stroke:#3f3f3f;stroke-linejoin:miter;\" x=\"454.36263\" xlink:href=\"#m60c24b87c4\" y=\"143.1\"/>\r\n     <use style=\"fill:#3f3f3f;stroke:#3f3f3f;stroke-linejoin:miter;\" x=\"507.347741\" xlink:href=\"#m60c24b87c4\" y=\"143.1\"/>\r\n     <use style=\"fill:#3f3f3f;stroke:#3f3f3f;stroke-linejoin:miter;\" x=\"471.794798\" xlink:href=\"#m60c24b87c4\" y=\"143.1\"/>\r\n     <use style=\"fill:#3f3f3f;stroke:#3f3f3f;stroke-linejoin:miter;\" x=\"461.778847\" xlink:href=\"#m60c24b87c4\" y=\"143.1\"/>\r\n     <use style=\"fill:#3f3f3f;stroke:#3f3f3f;stroke-linejoin:miter;\" x=\"423.184707\" xlink:href=\"#m60c24b87c4\" y=\"143.1\"/>\r\n     <use style=\"fill:#3f3f3f;stroke:#3f3f3f;stroke-linejoin:miter;\" x=\"577.216021\" xlink:href=\"#m60c24b87c4\" y=\"143.1\"/>\r\n     <use style=\"fill:#3f3f3f;stroke:#3f3f3f;stroke-linejoin:miter;\" x=\"434.738235\" xlink:href=\"#m60c24b87c4\" y=\"143.1\"/>\r\n     <use style=\"fill:#3f3f3f;stroke:#3f3f3f;stroke-linejoin:miter;\" x=\"429.9991\" xlink:href=\"#m60c24b87c4\" y=\"143.1\"/>\r\n     <use style=\"fill:#3f3f3f;stroke:#3f3f3f;stroke-linejoin:miter;\" x=\"462.652342\" xlink:href=\"#m60c24b87c4\" y=\"143.1\"/>\r\n     <use style=\"fill:#3f3f3f;stroke:#3f3f3f;stroke-linejoin:miter;\" x=\"620.988873\" xlink:href=\"#m60c24b87c4\" y=\"143.1\"/>\r\n     <use style=\"fill:#3f3f3f;stroke:#3f3f3f;stroke-linejoin:miter;\" x=\"456.622774\" xlink:href=\"#m60c24b87c4\" y=\"143.1\"/>\r\n     <use style=\"fill:#3f3f3f;stroke:#3f3f3f;stroke-linejoin:miter;\" x=\"574.084268\" xlink:href=\"#m60c24b87c4\" y=\"143.1\"/>\r\n     <use style=\"fill:#3f3f3f;stroke:#3f3f3f;stroke-linejoin:miter;\" x=\"433.147833\" xlink:href=\"#m60c24b87c4\" y=\"143.1\"/>\r\n     <use style=\"fill:#3f3f3f;stroke:#3f3f3f;stroke-linejoin:miter;\" x=\"429.99344\" xlink:href=\"#m60c24b87c4\" y=\"143.1\"/>\r\n     <use style=\"fill:#3f3f3f;stroke:#3f3f3f;stroke-linejoin:miter;\" x=\"445.882371\" xlink:href=\"#m60c24b87c4\" y=\"143.1\"/>\r\n     <use style=\"fill:#3f3f3f;stroke:#3f3f3f;stroke-linejoin:miter;\" x=\"437.99639\" xlink:href=\"#m60c24b87c4\" y=\"143.1\"/>\r\n     <use style=\"fill:#3f3f3f;stroke:#3f3f3f;stroke-linejoin:miter;\" x=\"423.735594\" xlink:href=\"#m60c24b87c4\" y=\"143.1\"/>\r\n     <use style=\"fill:#3f3f3f;stroke:#3f3f3f;stroke-linejoin:miter;\" x=\"425.392027\" xlink:href=\"#m60c24b87c4\" y=\"143.1\"/>\r\n     <use style=\"fill:#3f3f3f;stroke:#3f3f3f;stroke-linejoin:miter;\" x=\"440.662153\" xlink:href=\"#m60c24b87c4\" y=\"143.1\"/>\r\n     <use style=\"fill:#3f3f3f;stroke:#3f3f3f;stroke-linejoin:miter;\" x=\"425.808965\" xlink:href=\"#m60c24b87c4\" y=\"143.1\"/>\r\n     <use style=\"fill:#3f3f3f;stroke:#3f3f3f;stroke-linejoin:miter;\" x=\"469.049797\" xlink:href=\"#m60c24b87c4\" y=\"143.1\"/>\r\n     <use style=\"fill:#3f3f3f;stroke:#3f3f3f;stroke-linejoin:miter;\" x=\"461.961848\" xlink:href=\"#m60c24b87c4\" y=\"143.1\"/>\r\n     <use style=\"fill:#3f3f3f;stroke:#3f3f3f;stroke-linejoin:miter;\" x=\"423.816718\" xlink:href=\"#m60c24b87c4\" y=\"143.1\"/>\r\n     <use style=\"fill:#3f3f3f;stroke:#3f3f3f;stroke-linejoin:miter;\" x=\"509.621092\" xlink:href=\"#m60c24b87c4\" y=\"143.1\"/>\r\n     <use style=\"fill:#3f3f3f;stroke:#3f3f3f;stroke-linejoin:miter;\" x=\"578.157433\" xlink:href=\"#m60c24b87c4\" y=\"143.1\"/>\r\n     <use style=\"fill:#3f3f3f;stroke:#3f3f3f;stroke-linejoin:miter;\" x=\"520.70297\" xlink:href=\"#m60c24b87c4\" y=\"143.1\"/>\r\n     <use style=\"fill:#3f3f3f;stroke:#3f3f3f;stroke-linejoin:miter;\" x=\"457.692476\" xlink:href=\"#m60c24b87c4\" y=\"143.1\"/>\r\n     <use style=\"fill:#3f3f3f;stroke:#3f3f3f;stroke-linejoin:miter;\" x=\"506.27804\" xlink:href=\"#m60c24b87c4\" y=\"143.1\"/>\r\n     <use style=\"fill:#3f3f3f;stroke:#3f3f3f;stroke-linejoin:miter;\" x=\"422.156511\" xlink:href=\"#m60c24b87c4\" y=\"143.1\"/>\r\n     <use style=\"fill:#3f3f3f;stroke:#3f3f3f;stroke-linejoin:miter;\" x=\"498.737307\" xlink:href=\"#m60c24b87c4\" y=\"143.1\"/>\r\n     <use style=\"fill:#3f3f3f;stroke:#3f3f3f;stroke-linejoin:miter;\" x=\"537.580478\" xlink:href=\"#m60c24b87c4\" y=\"143.1\"/>\r\n     <use style=\"fill:#3f3f3f;stroke:#3f3f3f;stroke-linejoin:miter;\" x=\"438.030349\" xlink:href=\"#m60c24b87c4\" y=\"143.1\"/>\r\n     <use style=\"fill:#3f3f3f;stroke:#3f3f3f;stroke-linejoin:miter;\" x=\"449.161278\" xlink:href=\"#m60c24b87c4\" y=\"143.1\"/>\r\n     <use style=\"fill:#3f3f3f;stroke:#3f3f3f;stroke-linejoin:miter;\" x=\"465.403003\" xlink:href=\"#m60c24b87c4\" y=\"143.1\"/>\r\n     <use style=\"fill:#3f3f3f;stroke:#3f3f3f;stroke-linejoin:miter;\" x=\"421.669769\" xlink:href=\"#m60c24b87c4\" y=\"143.1\"/>\r\n     <use style=\"fill:#3f3f3f;stroke:#3f3f3f;stroke-linejoin:miter;\" x=\"969.445455\" xlink:href=\"#m60c24b87c4\" y=\"143.1\"/>\r\n     <use style=\"fill:#3f3f3f;stroke:#3f3f3f;stroke-linejoin:miter;\" x=\"452.05532\" xlink:href=\"#m60c24b87c4\" y=\"143.1\"/>\r\n     <use style=\"fill:#3f3f3f;stroke:#3f3f3f;stroke-linejoin:miter;\" x=\"435.949431\" xlink:href=\"#m60c24b87c4\" y=\"143.1\"/>\r\n     <use style=\"fill:#3f3f3f;stroke:#3f3f3f;stroke-linejoin:miter;\" x=\"534.516643\" xlink:href=\"#m60c24b87c4\" y=\"143.1\"/>\r\n     <use style=\"fill:#3f3f3f;stroke:#3f3f3f;stroke-linejoin:miter;\" x=\"485.617903\" xlink:href=\"#m60c24b87c4\" y=\"143.1\"/>\r\n     <use style=\"fill:#3f3f3f;stroke:#3f3f3f;stroke-linejoin:miter;\" x=\"440.839494\" xlink:href=\"#m60c24b87c4\" y=\"143.1\"/>\r\n     <use style=\"fill:#3f3f3f;stroke:#3f3f3f;stroke-linejoin:miter;\" x=\"496.641296\" xlink:href=\"#m60c24b87c4\" y=\"143.1\"/>\r\n     <use style=\"fill:#3f3f3f;stroke:#3f3f3f;stroke-linejoin:miter;\" x=\"439.367947\" xlink:href=\"#m60c24b87c4\" y=\"143.1\"/>\r\n     <use style=\"fill:#3f3f3f;stroke:#3f3f3f;stroke-linejoin:miter;\" x=\"432.989358\" xlink:href=\"#m60c24b87c4\" y=\"143.1\"/>\r\n     <use style=\"fill:#3f3f3f;stroke:#3f3f3f;stroke-linejoin:miter;\" x=\"465.740704\" xlink:href=\"#m60c24b87c4\" y=\"143.1\"/>\r\n     <use style=\"fill:#3f3f3f;stroke:#3f3f3f;stroke-linejoin:miter;\" x=\"426.231563\" xlink:href=\"#m60c24b87c4\" y=\"143.1\"/>\r\n     <use style=\"fill:#3f3f3f;stroke:#3f3f3f;stroke-linejoin:miter;\" x=\"476.750891\" xlink:href=\"#m60c24b87c4\" y=\"143.1\"/>\r\n     <use style=\"fill:#3f3f3f;stroke:#3f3f3f;stroke-linejoin:miter;\" x=\"509.013608\" xlink:href=\"#m60c24b87c4\" y=\"143.1\"/>\r\n     <use style=\"fill:#3f3f3f;stroke:#3f3f3f;stroke-linejoin:miter;\" x=\"422.198016\" xlink:href=\"#m60c24b87c4\" y=\"143.1\"/>\r\n     <use style=\"fill:#3f3f3f;stroke:#3f3f3f;stroke-linejoin:miter;\" x=\"497.17143\" xlink:href=\"#m60c24b87c4\" y=\"143.1\"/>\r\n     <use style=\"fill:#3f3f3f;stroke:#3f3f3f;stroke-linejoin:miter;\" x=\"428.761492\" xlink:href=\"#m60c24b87c4\" y=\"143.1\"/>\r\n     <use style=\"fill:#3f3f3f;stroke:#3f3f3f;stroke-linejoin:miter;\" x=\"423.405439\" xlink:href=\"#m60c24b87c4\" y=\"143.1\"/>\r\n     <use style=\"fill:#3f3f3f;stroke:#3f3f3f;stroke-linejoin:miter;\" x=\"470.176096\" xlink:href=\"#m60c24b87c4\" y=\"143.1\"/>\r\n     <use style=\"fill:#3f3f3f;stroke:#3f3f3f;stroke-linejoin:miter;\" x=\"453.145774\" xlink:href=\"#m60c24b87c4\" y=\"143.1\"/>\r\n     <use style=\"fill:#3f3f3f;stroke:#3f3f3f;stroke-linejoin:miter;\" x=\"438.969875\" xlink:href=\"#m60c24b87c4\" y=\"143.1\"/>\r\n     <use style=\"fill:#3f3f3f;stroke:#3f3f3f;stroke-linejoin:miter;\" x=\"470.902437\" xlink:href=\"#m60c24b87c4\" y=\"143.1\"/>\r\n     <use style=\"fill:#3f3f3f;stroke:#3f3f3f;stroke-linejoin:miter;\" x=\"445.25602\" xlink:href=\"#m60c24b87c4\" y=\"143.1\"/>\r\n     <use style=\"fill:#3f3f3f;stroke:#3f3f3f;stroke-linejoin:miter;\" x=\"429.333131\" xlink:href=\"#m60c24b87c4\" y=\"143.1\"/>\r\n     <use style=\"fill:#3f3f3f;stroke:#3f3f3f;stroke-linejoin:miter;\" x=\"490.115553\" xlink:href=\"#m60c24b87c4\" y=\"143.1\"/>\r\n     <use style=\"fill:#3f3f3f;stroke:#3f3f3f;stroke-linejoin:miter;\" x=\"500.463544\" xlink:href=\"#m60c24b87c4\" y=\"143.1\"/>\r\n     <use style=\"fill:#3f3f3f;stroke:#3f3f3f;stroke-linejoin:miter;\" x=\"424.788316\" xlink:href=\"#m60c24b87c4\" y=\"143.1\"/>\r\n     <use style=\"fill:#3f3f3f;stroke:#3f3f3f;stroke-linejoin:miter;\" x=\"479.144984\" xlink:href=\"#m60c24b87c4\" y=\"143.1\"/>\r\n     <use style=\"fill:#3f3f3f;stroke:#3f3f3f;stroke-linejoin:miter;\" x=\"438.939689\" xlink:href=\"#m60c24b87c4\" y=\"143.1\"/>\r\n     <use style=\"fill:#3f3f3f;stroke:#3f3f3f;stroke-linejoin:miter;\" x=\"462.514621\" xlink:href=\"#m60c24b87c4\" y=\"143.1\"/>\r\n     <use style=\"fill:#3f3f3f;stroke:#3f3f3f;stroke-linejoin:miter;\" x=\"504.804607\" xlink:href=\"#m60c24b87c4\" y=\"143.1\"/>\r\n     <use style=\"fill:#3f3f3f;stroke:#3f3f3f;stroke-linejoin:miter;\" x=\"435.624936\" xlink:href=\"#m60c24b87c4\" y=\"143.1\"/>\r\n     <use style=\"fill:#3f3f3f;stroke:#3f3f3f;stroke-linejoin:miter;\" x=\"434.357142\" xlink:href=\"#m60c24b87c4\" y=\"143.1\"/>\r\n     <use style=\"fill:#3f3f3f;stroke:#3f3f3f;stroke-linejoin:miter;\" x=\"488.095006\" xlink:href=\"#m60c24b87c4\" y=\"143.1\"/>\r\n     <use style=\"fill:#3f3f3f;stroke:#3f3f3f;stroke-linejoin:miter;\" x=\"517.884393\" xlink:href=\"#m60c24b87c4\" y=\"143.1\"/>\r\n     <use style=\"fill:#3f3f3f;stroke:#3f3f3f;stroke-linejoin:miter;\" x=\"448.482103\" xlink:href=\"#m60c24b87c4\" y=\"143.1\"/>\r\n     <use style=\"fill:#3f3f3f;stroke:#3f3f3f;stroke-linejoin:miter;\" x=\"437.179493\" xlink:href=\"#m60c24b87c4\" y=\"143.1\"/>\r\n     <use style=\"fill:#3f3f3f;stroke:#3f3f3f;stroke-linejoin:miter;\" x=\"500.784266\" xlink:href=\"#m60c24b87c4\" y=\"143.1\"/>\r\n     <use style=\"fill:#3f3f3f;stroke:#3f3f3f;stroke-linejoin:miter;\" x=\"462.233518\" xlink:href=\"#m60c24b87c4\" y=\"143.1\"/>\r\n     <use style=\"fill:#3f3f3f;stroke:#3f3f3f;stroke-linejoin:miter;\" x=\"447.899144\" xlink:href=\"#m60c24b87c4\" y=\"143.1\"/>\r\n     <use style=\"fill:#3f3f3f;stroke:#3f3f3f;stroke-linejoin:miter;\" x=\"436.851225\" xlink:href=\"#m60c24b87c4\" y=\"143.1\"/>\r\n     <use style=\"fill:#3f3f3f;stroke:#3f3f3f;stroke-linejoin:miter;\" x=\"425.720295\" xlink:href=\"#m60c24b87c4\" y=\"143.1\"/>\r\n     <use style=\"fill:#3f3f3f;stroke:#3f3f3f;stroke-linejoin:miter;\" x=\"439.020813\" xlink:href=\"#m60c24b87c4\" y=\"143.1\"/>\r\n     <use style=\"fill:#3f3f3f;stroke:#3f3f3f;stroke-linejoin:miter;\" x=\"438.324658\" xlink:href=\"#m60c24b87c4\" y=\"143.1\"/>\r\n     <use style=\"fill:#3f3f3f;stroke:#3f3f3f;stroke-linejoin:miter;\" x=\"463.061734\" xlink:href=\"#m60c24b87c4\" y=\"143.1\"/>\r\n     <use style=\"fill:#3f3f3f;stroke:#3f3f3f;stroke-linejoin:miter;\" x=\"456.005857\" xlink:href=\"#m60c24b87c4\" y=\"143.1\"/>\r\n     <use style=\"fill:#3f3f3f;stroke:#3f3f3f;stroke-linejoin:miter;\" x=\"456.75295\" xlink:href=\"#m60c24b87c4\" y=\"143.1\"/>\r\n     <use style=\"fill:#3f3f3f;stroke:#3f3f3f;stroke-linejoin:miter;\" x=\"432.751647\" xlink:href=\"#m60c24b87c4\" y=\"143.1\"/>\r\n     <use style=\"fill:#3f3f3f;stroke:#3f3f3f;stroke-linejoin:miter;\" x=\"421.135862\" xlink:href=\"#m60c24b87c4\" y=\"143.1\"/>\r\n     <use style=\"fill:#3f3f3f;stroke:#3f3f3f;stroke-linejoin:miter;\" x=\"442.267648\" xlink:href=\"#m60c24b87c4\" y=\"143.1\"/>\r\n     <use style=\"fill:#3f3f3f;stroke:#3f3f3f;stroke-linejoin:miter;\" x=\"422.665893\" xlink:href=\"#m60c24b87c4\" y=\"143.1\"/>\r\n     <use style=\"fill:#3f3f3f;stroke:#3f3f3f;stroke-linejoin:miter;\" x=\"459.158363\" xlink:href=\"#m60c24b87c4\" y=\"143.1\"/>\r\n     <use style=\"fill:#3f3f3f;stroke:#3f3f3f;stroke-linejoin:miter;\" x=\"544.549572\" xlink:href=\"#m60c24b87c4\" y=\"143.1\"/>\r\n     <use style=\"fill:#3f3f3f;stroke:#3f3f3f;stroke-linejoin:miter;\" x=\"457.569847\" xlink:href=\"#m60c24b87c4\" y=\"143.1\"/>\r\n     <use style=\"fill:#3f3f3f;stroke:#3f3f3f;stroke-linejoin:miter;\" x=\"437.543606\" xlink:href=\"#m60c24b87c4\" y=\"143.1\"/>\r\n     <use style=\"fill:#3f3f3f;stroke:#3f3f3f;stroke-linejoin:miter;\" x=\"425.263739\" xlink:href=\"#m60c24b87c4\" y=\"143.1\"/>\r\n     <use style=\"fill:#3f3f3f;stroke:#3f3f3f;stroke-linejoin:miter;\" x=\"430.661296\" xlink:href=\"#m60c24b87c4\" y=\"143.1\"/>\r\n     <use style=\"fill:#3f3f3f;stroke:#3f3f3f;stroke-linejoin:miter;\" x=\"425.614646\" xlink:href=\"#m60c24b87c4\" y=\"143.1\"/>\r\n     <use style=\"fill:#3f3f3f;stroke:#3f3f3f;stroke-linejoin:miter;\" x=\"448.538701\" xlink:href=\"#m60c24b87c4\" y=\"143.1\"/>\r\n     <use style=\"fill:#3f3f3f;stroke:#3f3f3f;stroke-linejoin:miter;\" x=\"439.747153\" xlink:href=\"#m60c24b87c4\" y=\"143.1\"/>\r\n     <use style=\"fill:#3f3f3f;stroke:#3f3f3f;stroke-linejoin:miter;\" x=\"427.365409\" xlink:href=\"#m60c24b87c4\" y=\"143.1\"/>\r\n     <use style=\"fill:#3f3f3f;stroke:#3f3f3f;stroke-linejoin:miter;\" x=\"424.552491\" xlink:href=\"#m60c24b87c4\" y=\"143.1\"/>\r\n     <use style=\"fill:#3f3f3f;stroke:#3f3f3f;stroke-linejoin:miter;\" x=\"431.006544\" xlink:href=\"#m60c24b87c4\" y=\"143.1\"/>\r\n     <use style=\"fill:#3f3f3f;stroke:#3f3f3f;stroke-linejoin:miter;\" x=\"434.766534\" xlink:href=\"#m60c24b87c4\" y=\"143.1\"/>\r\n     <use style=\"fill:#3f3f3f;stroke:#3f3f3f;stroke-linejoin:miter;\" x=\"445.07302\" xlink:href=\"#m60c24b87c4\" y=\"143.1\"/>\r\n     <use style=\"fill:#3f3f3f;stroke:#3f3f3f;stroke-linejoin:miter;\" x=\"519.789857\" xlink:href=\"#m60c24b87c4\" y=\"143.1\"/>\r\n     <use style=\"fill:#3f3f3f;stroke:#3f3f3f;stroke-linejoin:miter;\" x=\"515.514825\" xlink:href=\"#m60c24b87c4\" y=\"143.1\"/>\r\n     <use style=\"fill:#3f3f3f;stroke:#3f3f3f;stroke-linejoin:miter;\" x=\"493.918935\" xlink:href=\"#m60c24b87c4\" y=\"143.1\"/>\r\n     <use style=\"fill:#3f3f3f;stroke:#3f3f3f;stroke-linejoin:miter;\" x=\"421.862202\" xlink:href=\"#m60c24b87c4\" y=\"143.1\"/>\r\n     <use style=\"fill:#3f3f3f;stroke:#3f3f3f;stroke-linejoin:miter;\" x=\"455.562506\" xlink:href=\"#m60c24b87c4\" y=\"143.1\"/>\r\n     <use style=\"fill:#3f3f3f;stroke:#3f3f3f;stroke-linejoin:miter;\" x=\"425.142996\" xlink:href=\"#m60c24b87c4\" y=\"143.1\"/>\r\n     <use style=\"fill:#3f3f3f;stroke:#3f3f3f;stroke-linejoin:miter;\" x=\"509.287164\" xlink:href=\"#m60c24b87c4\" y=\"143.1\"/>\r\n     <use style=\"fill:#3f3f3f;stroke:#3f3f3f;stroke-linejoin:miter;\" x=\"443.124164\" xlink:href=\"#m60c24b87c4\" y=\"143.1\"/>\r\n     <use style=\"fill:#3f3f3f;stroke:#3f3f3f;stroke-linejoin:miter;\" x=\"424.190264\" xlink:href=\"#m60c24b87c4\" y=\"143.1\"/>\r\n     <use style=\"fill:#3f3f3f;stroke:#3f3f3f;stroke-linejoin:miter;\" x=\"487.423377\" xlink:href=\"#m60c24b87c4\" y=\"143.1\"/>\r\n     <use style=\"fill:#3f3f3f;stroke:#3f3f3f;stroke-linejoin:miter;\" x=\"482.967232\" xlink:href=\"#m60c24b87c4\" y=\"143.1\"/>\r\n     <use style=\"fill:#3f3f3f;stroke:#3f3f3f;stroke-linejoin:miter;\" x=\"423.83181\" xlink:href=\"#m60c24b87c4\" y=\"143.1\"/>\r\n     <use style=\"fill:#3f3f3f;stroke:#3f3f3f;stroke-linejoin:miter;\" x=\"436.234307\" xlink:href=\"#m60c24b87c4\" y=\"143.1\"/>\r\n     <use style=\"fill:#3f3f3f;stroke:#3f3f3f;stroke-linejoin:miter;\" x=\"546.90216\" xlink:href=\"#m60c24b87c4\" y=\"143.1\"/>\r\n     <use style=\"fill:#3f3f3f;stroke:#3f3f3f;stroke-linejoin:miter;\" x=\"430.616018\" xlink:href=\"#m60c24b87c4\" y=\"143.1\"/>\r\n     <use style=\"fill:#3f3f3f;stroke:#3f3f3f;stroke-linejoin:miter;\" x=\"445.484298\" xlink:href=\"#m60c24b87c4\" y=\"143.1\"/>\r\n     <use style=\"fill:#3f3f3f;stroke:#3f3f3f;stroke-linejoin:miter;\" x=\"433.291214\" xlink:href=\"#m60c24b87c4\" y=\"143.1\"/>\r\n     <use style=\"fill:#3f3f3f;stroke:#3f3f3f;stroke-linejoin:miter;\" x=\"444.782484\" xlink:href=\"#m60c24b87c4\" y=\"143.1\"/>\r\n     <use style=\"fill:#3f3f3f;stroke:#3f3f3f;stroke-linejoin:miter;\" x=\"512.258557\" xlink:href=\"#m60c24b87c4\" y=\"143.1\"/>\r\n     <use style=\"fill:#3f3f3f;stroke:#3f3f3f;stroke-linejoin:miter;\" x=\"440.288607\" xlink:href=\"#m60c24b87c4\" y=\"143.1\"/>\r\n     <use style=\"fill:#3f3f3f;stroke:#3f3f3f;stroke-linejoin:miter;\" x=\"444.557979\" xlink:href=\"#m60c24b87c4\" y=\"143.1\"/>\r\n     <use style=\"fill:#3f3f3f;stroke:#3f3f3f;stroke-linejoin:miter;\" x=\"428.186079\" xlink:href=\"#m60c24b87c4\" y=\"143.1\"/>\r\n     <use style=\"fill:#3f3f3f;stroke:#3f3f3f;stroke-linejoin:miter;\" x=\"511.566175\" xlink:href=\"#m60c24b87c4\" y=\"143.1\"/>\r\n     <use style=\"fill:#3f3f3f;stroke:#3f3f3f;stroke-linejoin:miter;\" x=\"426.933378\" xlink:href=\"#m60c24b87c4\" y=\"143.1\"/>\r\n     <use style=\"fill:#3f3f3f;stroke:#3f3f3f;stroke-linejoin:miter;\" x=\"450.829031\" xlink:href=\"#m60c24b87c4\" y=\"143.1\"/>\r\n     <use style=\"fill:#3f3f3f;stroke:#3f3f3f;stroke-linejoin:miter;\" x=\"420.630253\" xlink:href=\"#m60c24b87c4\" y=\"143.1\"/>\r\n     <use style=\"fill:#3f3f3f;stroke:#3f3f3f;stroke-linejoin:miter;\" x=\"447.676526\" xlink:href=\"#m60c24b87c4\" y=\"143.1\"/>\r\n     <use style=\"fill:#3f3f3f;stroke:#3f3f3f;stroke-linejoin:miter;\" x=\"422.152738\" xlink:href=\"#m60c24b87c4\" y=\"143.1\"/>\r\n     <use style=\"fill:#3f3f3f;stroke:#3f3f3f;stroke-linejoin:miter;\" x=\"428.34078\" xlink:href=\"#m60c24b87c4\" y=\"143.1\"/>\r\n     <use style=\"fill:#3f3f3f;stroke:#3f3f3f;stroke-linejoin:miter;\" x=\"432.985585\" xlink:href=\"#m60c24b87c4\" y=\"143.1\"/>\r\n     <use style=\"fill:#3f3f3f;stroke:#3f3f3f;stroke-linejoin:miter;\" x=\"484.951934\" xlink:href=\"#m60c24b87c4\" y=\"143.1\"/>\r\n     <use style=\"fill:#3f3f3f;stroke:#3f3f3f;stroke-linejoin:miter;\" x=\"435.243843\" xlink:href=\"#m60c24b87c4\" y=\"143.1\"/>\r\n     <use style=\"fill:#3f3f3f;stroke:#3f3f3f;stroke-linejoin:miter;\" x=\"433.993029\" xlink:href=\"#m60c24b87c4\" y=\"143.1\"/>\r\n     <use style=\"fill:#3f3f3f;stroke:#3f3f3f;stroke-linejoin:miter;\" x=\"438.560483\" xlink:href=\"#m60c24b87c4\" y=\"143.1\"/>\r\n     <use style=\"fill:#3f3f3f;stroke:#3f3f3f;stroke-linejoin:miter;\" x=\"437.941679\" xlink:href=\"#m60c24b87c4\" y=\"143.1\"/>\r\n     <use style=\"fill:#3f3f3f;stroke:#3f3f3f;stroke-linejoin:miter;\" x=\"456.734084\" xlink:href=\"#m60c24b87c4\" y=\"143.1\"/>\r\n     <use style=\"fill:#3f3f3f;stroke:#3f3f3f;stroke-linejoin:miter;\" x=\"438.203916\" xlink:href=\"#m60c24b87c4\" y=\"143.1\"/>\r\n     <use style=\"fill:#3f3f3f;stroke:#3f3f3f;stroke-linejoin:miter;\" x=\"429.704791\" xlink:href=\"#m60c24b87c4\" y=\"143.1\"/>\r\n     <use style=\"fill:#3f3f3f;stroke:#3f3f3f;stroke-linejoin:miter;\" x=\"439.73772\" xlink:href=\"#m60c24b87c4\" y=\"143.1\"/>\r\n     <use style=\"fill:#3f3f3f;stroke:#3f3f3f;stroke-linejoin:miter;\" x=\"451.247856\" xlink:href=\"#m60c24b87c4\" y=\"143.1\"/>\r\n     <use style=\"fill:#3f3f3f;stroke:#3f3f3f;stroke-linejoin:miter;\" x=\"422.835687\" xlink:href=\"#m60c24b87c4\" y=\"143.1\"/>\r\n     <use style=\"fill:#3f3f3f;stroke:#3f3f3f;stroke-linejoin:miter;\" x=\"471.677828\" xlink:href=\"#m60c24b87c4\" y=\"143.1\"/>\r\n     <use style=\"fill:#3f3f3f;stroke:#3f3f3f;stroke-linejoin:miter;\" x=\"437.064411\" xlink:href=\"#m60c24b87c4\" y=\"143.1\"/>\r\n     <use style=\"fill:#3f3f3f;stroke:#3f3f3f;stroke-linejoin:miter;\" x=\"440.184844\" xlink:href=\"#m60c24b87c4\" y=\"143.1\"/>\r\n     <use style=\"fill:#3f3f3f;stroke:#3f3f3f;stroke-linejoin:miter;\" x=\"490.934337\" xlink:href=\"#m60c24b87c4\" y=\"143.1\"/>\r\n     <use style=\"fill:#3f3f3f;stroke:#3f3f3f;stroke-linejoin:miter;\" x=\"420.98682\" xlink:href=\"#m60c24b87c4\" y=\"143.1\"/>\r\n     <use style=\"fill:#3f3f3f;stroke:#3f3f3f;stroke-linejoin:miter;\" x=\"426.573038\" xlink:href=\"#m60c24b87c4\" y=\"143.1\"/>\r\n     <use style=\"fill:#3f3f3f;stroke:#3f3f3f;stroke-linejoin:miter;\" x=\"443.216607\" xlink:href=\"#m60c24b87c4\" y=\"143.1\"/>\r\n     <use style=\"fill:#3f3f3f;stroke:#3f3f3f;stroke-linejoin:miter;\" x=\"429.750069\" xlink:href=\"#m60c24b87c4\" y=\"143.1\"/>\r\n     <use style=\"fill:#3f3f3f;stroke:#3f3f3f;stroke-linejoin:miter;\" x=\"428.853935\" xlink:href=\"#m60c24b87c4\" y=\"143.1\"/>\r\n     <use style=\"fill:#3f3f3f;stroke:#3f3f3f;stroke-linejoin:miter;\" x=\"429.421801\" xlink:href=\"#m60c24b87c4\" y=\"143.1\"/>\r\n     <use style=\"fill:#3f3f3f;stroke:#3f3f3f;stroke-linejoin:miter;\" x=\"423.76578\" xlink:href=\"#m60c24b87c4\" y=\"143.1\"/>\r\n     <use style=\"fill:#3f3f3f;stroke:#3f3f3f;stroke-linejoin:miter;\" x=\"447.306752\" xlink:href=\"#m60c24b87c4\" y=\"143.1\"/>\r\n     <use style=\"fill:#3f3f3f;stroke:#3f3f3f;stroke-linejoin:miter;\" x=\"442.435556\" xlink:href=\"#m60c24b87c4\" y=\"143.1\"/>\r\n     <use style=\"fill:#3f3f3f;stroke:#3f3f3f;stroke-linejoin:miter;\" x=\"449.357485\" xlink:href=\"#m60c24b87c4\" y=\"143.1\"/>\r\n     <use style=\"fill:#3f3f3f;stroke:#3f3f3f;stroke-linejoin:miter;\" x=\"429.004863\" xlink:href=\"#m60c24b87c4\" y=\"143.1\"/>\r\n     <use style=\"fill:#3f3f3f;stroke:#3f3f3f;stroke-linejoin:miter;\" x=\"479.537397\" xlink:href=\"#m60c24b87c4\" y=\"143.1\"/>\r\n     <use style=\"fill:#3f3f3f;stroke:#3f3f3f;stroke-linejoin:miter;\" x=\"421.090583\" xlink:href=\"#m60c24b87c4\" y=\"143.1\"/>\r\n     <use style=\"fill:#3f3f3f;stroke:#3f3f3f;stroke-linejoin:miter;\" x=\"421.890501\" xlink:href=\"#m60c24b87c4\" y=\"143.1\"/>\r\n     <use style=\"fill:#3f3f3f;stroke:#3f3f3f;stroke-linejoin:miter;\" x=\"466.346302\" xlink:href=\"#m60c24b87c4\" y=\"143.1\"/>\r\n     <use style=\"fill:#3f3f3f;stroke:#3f3f3f;stroke-linejoin:miter;\" x=\"430.455657\" xlink:href=\"#m60c24b87c4\" y=\"143.1\"/>\r\n     <use style=\"fill:#3f3f3f;stroke:#3f3f3f;stroke-linejoin:miter;\" x=\"486.297078\" xlink:href=\"#m60c24b87c4\" y=\"143.1\"/>\r\n     <use style=\"fill:#3f3f3f;stroke:#3f3f3f;stroke-linejoin:miter;\" x=\"422.033882\" xlink:href=\"#m60c24b87c4\" y=\"143.1\"/>\r\n     <use style=\"fill:#3f3f3f;stroke:#3f3f3f;stroke-linejoin:miter;\" x=\"429.053914\" xlink:href=\"#m60c24b87c4\" y=\"143.1\"/>\r\n     <use style=\"fill:#3f3f3f;stroke:#3f3f3f;stroke-linejoin:miter;\" x=\"564.747493\" xlink:href=\"#m60c24b87c4\" y=\"143.1\"/>\r\n     <use style=\"fill:#3f3f3f;stroke:#3f3f3f;stroke-linejoin:miter;\" x=\"450.627165\" xlink:href=\"#m60c24b87c4\" y=\"143.1\"/>\r\n     <use style=\"fill:#3f3f3f;stroke:#3f3f3f;stroke-linejoin:miter;\" x=\"431.187657\" xlink:href=\"#m60c24b87c4\" y=\"143.1\"/>\r\n     <use style=\"fill:#3f3f3f;stroke:#3f3f3f;stroke-linejoin:miter;\" x=\"444.871154\" xlink:href=\"#m60c24b87c4\" y=\"143.1\"/>\r\n     <use style=\"fill:#3f3f3f;stroke:#3f3f3f;stroke-linejoin:miter;\" x=\"452.23266\" xlink:href=\"#m60c24b87c4\" y=\"143.1\"/>\r\n     <use style=\"fill:#3f3f3f;stroke:#3f3f3f;stroke-linejoin:miter;\" x=\"444.005205\" xlink:href=\"#m60c24b87c4\" y=\"143.1\"/>\r\n     <use style=\"fill:#3f3f3f;stroke:#3f3f3f;stroke-linejoin:miter;\" x=\"442.088422\" xlink:href=\"#m60c24b87c4\" y=\"143.1\"/>\r\n     <use style=\"fill:#3f3f3f;stroke:#3f3f3f;stroke-linejoin:miter;\" x=\"444.373092\" xlink:href=\"#m60c24b87c4\" y=\"143.1\"/>\r\n     <use style=\"fill:#3f3f3f;stroke:#3f3f3f;stroke-linejoin:miter;\" x=\"429.619894\" xlink:href=\"#m60c24b87c4\" y=\"143.1\"/>\r\n     <use style=\"fill:#3f3f3f;stroke:#3f3f3f;stroke-linejoin:miter;\" x=\"450.879969\" xlink:href=\"#m60c24b87c4\" y=\"143.1\"/>\r\n     <use style=\"fill:#3f3f3f;stroke:#3f3f3f;stroke-linejoin:miter;\" x=\"432.546008\" xlink:href=\"#m60c24b87c4\" y=\"143.1\"/>\r\n     <use style=\"fill:#3f3f3f;stroke:#3f3f3f;stroke-linejoin:miter;\" x=\"437.056864\" xlink:href=\"#m60c24b87c4\" y=\"143.1\"/>\r\n     <use style=\"fill:#3f3f3f;stroke:#3f3f3f;stroke-linejoin:miter;\" x=\"432.491296\" xlink:href=\"#m60c24b87c4\" y=\"143.1\"/>\r\n     <use style=\"fill:#3f3f3f;stroke:#3f3f3f;stroke-linejoin:miter;\" x=\"438.773669\" xlink:href=\"#m60c24b87c4\" y=\"143.1\"/>\r\n     <use style=\"fill:#3f3f3f;stroke:#3f3f3f;stroke-linejoin:miter;\" x=\"436.647472\" xlink:href=\"#m60c24b87c4\" y=\"143.1\"/>\r\n     <use style=\"fill:#3f3f3f;stroke:#3f3f3f;stroke-linejoin:miter;\" x=\"459.622466\" xlink:href=\"#m60c24b87c4\" y=\"143.1\"/>\r\n     <use style=\"fill:#3f3f3f;stroke:#3f3f3f;stroke-linejoin:miter;\" x=\"429.944389\" xlink:href=\"#m60c24b87c4\" y=\"143.1\"/>\r\n     <use style=\"fill:#3f3f3f;stroke:#3f3f3f;stroke-linejoin:miter;\" x=\"500.761627\" xlink:href=\"#m60c24b87c4\" y=\"143.1\"/>\r\n     <use style=\"fill:#3f3f3f;stroke:#3f3f3f;stroke-linejoin:miter;\" x=\"440.29804\" xlink:href=\"#m60c24b87c4\" y=\"143.1\"/>\r\n     <use style=\"fill:#3f3f3f;stroke:#3f3f3f;stroke-linejoin:miter;\" x=\"448.550021\" xlink:href=\"#m60c24b87c4\" y=\"143.1\"/>\r\n     <use style=\"fill:#3f3f3f;stroke:#3f3f3f;stroke-linejoin:miter;\" x=\"421.490542\" xlink:href=\"#m60c24b87c4\" y=\"143.1\"/>\r\n     <use style=\"fill:#3f3f3f;stroke:#3f3f3f;stroke-linejoin:miter;\" x=\"444.507041\" xlink:href=\"#m60c24b87c4\" y=\"143.1\"/>\r\n     <use style=\"fill:#3f3f3f;stroke:#3f3f3f;stroke-linejoin:miter;\" x=\"439.786772\" xlink:href=\"#m60c24b87c4\" y=\"143.1\"/>\r\n     <use style=\"fill:#3f3f3f;stroke:#3f3f3f;stroke-linejoin:miter;\" x=\"422.169717\" xlink:href=\"#m60c24b87c4\" y=\"143.1\"/>\r\n     <use style=\"fill:#3f3f3f;stroke:#3f3f3f;stroke-linejoin:miter;\" x=\"433.406297\" xlink:href=\"#m60c24b87c4\" y=\"143.1\"/>\r\n     <use style=\"fill:#3f3f3f;stroke:#3f3f3f;stroke-linejoin:miter;\" x=\"609.450438\" xlink:href=\"#m60c24b87c4\" y=\"143.1\"/>\r\n     <use style=\"fill:#3f3f3f;stroke:#3f3f3f;stroke-linejoin:miter;\" x=\"444.874927\" xlink:href=\"#m60c24b87c4\" y=\"143.1\"/>\r\n     <use style=\"fill:#3f3f3f;stroke:#3f3f3f;stroke-linejoin:miter;\" x=\"443.407154\" xlink:href=\"#m60c24b87c4\" y=\"143.1\"/>\r\n     <use style=\"fill:#3f3f3f;stroke:#3f3f3f;stroke-linejoin:miter;\" x=\"429.212389\" xlink:href=\"#m60c24b87c4\" y=\"143.1\"/>\r\n     <use style=\"fill:#3f3f3f;stroke:#3f3f3f;stroke-linejoin:miter;\" x=\"438.449174\" xlink:href=\"#m60c24b87c4\" y=\"143.1\"/>\r\n     <use style=\"fill:#3f3f3f;stroke:#3f3f3f;stroke-linejoin:miter;\" x=\"426.450409\" xlink:href=\"#m60c24b87c4\" y=\"143.1\"/>\r\n     <use style=\"fill:#3f3f3f;stroke:#3f3f3f;stroke-linejoin:miter;\" x=\"448.470783\" xlink:href=\"#m60c24b87c4\" y=\"143.1\"/>\r\n     <use style=\"fill:#3f3f3f;stroke:#3f3f3f;stroke-linejoin:miter;\" x=\"426.633409\" xlink:href=\"#m60c24b87c4\" y=\"143.1\"/>\r\n     <use style=\"fill:#3f3f3f;stroke:#3f3f3f;stroke-linejoin:miter;\" x=\"445.150371\" xlink:href=\"#m60c24b87c4\" y=\"143.1\"/>\r\n     <use style=\"fill:#3f3f3f;stroke:#3f3f3f;stroke-linejoin:miter;\" x=\"421.624491\" xlink:href=\"#m60c24b87c4\" y=\"143.1\"/>\r\n     <use style=\"fill:#3f3f3f;stroke:#3f3f3f;stroke-linejoin:miter;\" x=\"444.461762\" xlink:href=\"#m60c24b87c4\" y=\"143.1\"/>\r\n     <use style=\"fill:#3f3f3f;stroke:#3f3f3f;stroke-linejoin:miter;\" x=\"432.185667\" xlink:href=\"#m60c24b87c4\" y=\"143.1\"/>\r\n     <use style=\"fill:#3f3f3f;stroke:#3f3f3f;stroke-linejoin:miter;\" x=\"442.129927\" xlink:href=\"#m60c24b87c4\" y=\"143.1\"/>\r\n     <use style=\"fill:#3f3f3f;stroke:#3f3f3f;stroke-linejoin:miter;\" x=\"532.531941\" xlink:href=\"#m60c24b87c4\" y=\"143.1\"/>\r\n     <use style=\"fill:#3f3f3f;stroke:#3f3f3f;stroke-linejoin:miter;\" x=\"457.086878\" xlink:href=\"#m60c24b87c4\" y=\"143.1\"/>\r\n     <use style=\"fill:#3f3f3f;stroke:#3f3f3f;stroke-linejoin:miter;\" x=\"430.936739\" xlink:href=\"#m60c24b87c4\" y=\"143.1\"/>\r\n     <use style=\"fill:#3f3f3f;stroke:#3f3f3f;stroke-linejoin:miter;\" x=\"447.714258\" xlink:href=\"#m60c24b87c4\" y=\"143.1\"/>\r\n     <use style=\"fill:#3f3f3f;stroke:#3f3f3f;stroke-linejoin:miter;\" x=\"420.950975\" xlink:href=\"#m60c24b87c4\" y=\"143.1\"/>\r\n     <use style=\"fill:#3f3f3f;stroke:#3f3f3f;stroke-linejoin:miter;\" x=\"460.41861\" xlink:href=\"#m60c24b87c4\" y=\"143.1\"/>\r\n     <use style=\"fill:#3f3f3f;stroke:#3f3f3f;stroke-linejoin:miter;\" x=\"613.472666\" xlink:href=\"#m60c24b87c4\" y=\"143.1\"/>\r\n     <use style=\"fill:#3f3f3f;stroke:#3f3f3f;stroke-linejoin:miter;\" x=\"446.887928\" xlink:href=\"#m60c24b87c4\" y=\"143.1\"/>\r\n     <use style=\"fill:#3f3f3f;stroke:#3f3f3f;stroke-linejoin:miter;\" x=\"431.529131\" xlink:href=\"#m60c24b87c4\" y=\"143.1\"/>\r\n     <use style=\"fill:#3f3f3f;stroke:#3f3f3f;stroke-linejoin:miter;\" x=\"436.487111\" xlink:href=\"#m60c24b87c4\" y=\"143.1\"/>\r\n     <use style=\"fill:#3f3f3f;stroke:#3f3f3f;stroke-linejoin:miter;\" x=\"477.690417\" xlink:href=\"#m60c24b87c4\" y=\"143.1\"/>\r\n     <use style=\"fill:#3f3f3f;stroke:#3f3f3f;stroke-linejoin:miter;\" x=\"440.252762\" xlink:href=\"#m60c24b87c4\" y=\"143.1\"/>\r\n     <use style=\"fill:#3f3f3f;stroke:#3f3f3f;stroke-linejoin:miter;\" x=\"458.975362\" xlink:href=\"#m60c24b87c4\" y=\"143.1\"/>\r\n     <use style=\"fill:#3f3f3f;stroke:#3f3f3f;stroke-linejoin:miter;\" x=\"449.442382\" xlink:href=\"#m60c24b87c4\" y=\"143.1\"/>\r\n     <use style=\"fill:#3f3f3f;stroke:#3f3f3f;stroke-linejoin:miter;\" x=\"432.274338\" xlink:href=\"#m60c24b87c4\" y=\"143.1\"/>\r\n     <use style=\"fill:#3f3f3f;stroke:#3f3f3f;stroke-linejoin:miter;\" x=\"455.388939\" xlink:href=\"#m60c24b87c4\" y=\"143.1\"/>\r\n     <use style=\"fill:#3f3f3f;stroke:#3f3f3f;stroke-linejoin:miter;\" x=\"451.642155\" xlink:href=\"#m60c24b87c4\" y=\"143.1\"/>\r\n     <use style=\"fill:#3f3f3f;stroke:#3f3f3f;stroke-linejoin:miter;\" x=\"422.426295\" xlink:href=\"#m60c24b87c4\" y=\"143.1\"/>\r\n     <use style=\"fill:#3f3f3f;stroke:#3f3f3f;stroke-linejoin:miter;\" x=\"426.712646\" xlink:href=\"#m60c24b87c4\" y=\"143.1\"/>\r\n     <use style=\"fill:#3f3f3f;stroke:#3f3f3f;stroke-linejoin:miter;\" x=\"445.182443\" xlink:href=\"#m60c24b87c4\" y=\"143.1\"/>\r\n     <use style=\"fill:#3f3f3f;stroke:#3f3f3f;stroke-linejoin:miter;\" x=\"420.854758\" xlink:href=\"#m60c24b87c4\" y=\"143.1\"/>\r\n     <use style=\"fill:#3f3f3f;stroke:#3f3f3f;stroke-linejoin:miter;\" x=\"449.389557\" xlink:href=\"#m60c24b87c4\" y=\"143.1\"/>\r\n     <use style=\"fill:#3f3f3f;stroke:#3f3f3f;stroke-linejoin:miter;\" x=\"438.915163\" xlink:href=\"#m60c24b87c4\" y=\"143.1\"/>\r\n     <use style=\"fill:#3f3f3f;stroke:#3f3f3f;stroke-linejoin:miter;\" x=\"421.190573\" xlink:href=\"#m60c24b87c4\" y=\"143.1\"/>\r\n     <use style=\"fill:#3f3f3f;stroke:#3f3f3f;stroke-linejoin:miter;\" x=\"422.147078\" xlink:href=\"#m60c24b87c4\" y=\"143.1\"/>\r\n     <use style=\"fill:#3f3f3f;stroke:#3f3f3f;stroke-linejoin:miter;\" x=\"431.498946\" xlink:href=\"#m60c24b87c4\" y=\"143.1\"/>\r\n     <use style=\"fill:#3f3f3f;stroke:#3f3f3f;stroke-linejoin:miter;\" x=\"718.742961\" xlink:href=\"#m60c24b87c4\" y=\"143.1\"/>\r\n     <use style=\"fill:#3f3f3f;stroke:#3f3f3f;stroke-linejoin:miter;\" x=\"425.043007\" xlink:href=\"#m60c24b87c4\" y=\"143.1\"/>\r\n     <use style=\"fill:#3f3f3f;stroke:#3f3f3f;stroke-linejoin:miter;\" x=\"428.697347\" xlink:href=\"#m60c24b87c4\" y=\"143.1\"/>\r\n     <use style=\"fill:#3f3f3f;stroke:#3f3f3f;stroke-linejoin:miter;\" x=\"457.583053\" xlink:href=\"#m60c24b87c4\" y=\"143.1\"/>\r\n     <use style=\"fill:#3f3f3f;stroke:#3f3f3f;stroke-linejoin:miter;\" x=\"423.633718\" xlink:href=\"#m60c24b87c4\" y=\"143.1\"/>\r\n     <use style=\"fill:#3f3f3f;stroke:#3f3f3f;stroke-linejoin:miter;\" x=\"437.747359\" xlink:href=\"#m60c24b87c4\" y=\"143.1\"/>\r\n     <use style=\"fill:#3f3f3f;stroke:#3f3f3f;stroke-linejoin:miter;\" x=\"447.799155\" xlink:href=\"#m60c24b87c4\" y=\"143.1\"/>\r\n     <use style=\"fill:#3f3f3f;stroke:#3f3f3f;stroke-linejoin:miter;\" x=\"422.496099\" xlink:href=\"#m60c24b87c4\" y=\"143.1\"/>\r\n     <use style=\"fill:#3f3f3f;stroke:#3f3f3f;stroke-linejoin:miter;\" x=\"558.757543\" xlink:href=\"#m60c24b87c4\" y=\"143.1\"/>\r\n     <use style=\"fill:#3f3f3f;stroke:#3f3f3f;stroke-linejoin:miter;\" x=\"499.890019\" xlink:href=\"#m60c24b87c4\" y=\"143.1\"/>\r\n     <use style=\"fill:#3f3f3f;stroke:#3f3f3f;stroke-linejoin:miter;\" x=\"436.960648\" xlink:href=\"#m60c24b87c4\" y=\"143.1\"/>\r\n     <use style=\"fill:#3f3f3f;stroke:#3f3f3f;stroke-linejoin:miter;\" x=\"432.647884\" xlink:href=\"#m60c24b87c4\" y=\"143.1\"/>\r\n     <use style=\"fill:#3f3f3f;stroke:#3f3f3f;stroke-linejoin:miter;\" x=\"422.245181\" xlink:href=\"#m60c24b87c4\" y=\"143.1\"/>\r\n     <use style=\"fill:#3f3f3f;stroke:#3f3f3f;stroke-linejoin:miter;\" x=\"430.253791\" xlink:href=\"#m60c24b87c4\" y=\"143.1\"/>\r\n     <use style=\"fill:#3f3f3f;stroke:#3f3f3f;stroke-linejoin:miter;\" x=\"435.500421\" xlink:href=\"#m60c24b87c4\" y=\"143.1\"/>\r\n     <use style=\"fill:#3f3f3f;stroke:#3f3f3f;stroke-linejoin:miter;\" x=\"465.419982\" xlink:href=\"#m60c24b87c4\" y=\"143.1\"/>\r\n     <use style=\"fill:#3f3f3f;stroke:#3f3f3f;stroke-linejoin:miter;\" x=\"500.933307\" xlink:href=\"#m60c24b87c4\" y=\"143.1\"/>\r\n     <use style=\"fill:#3f3f3f;stroke:#3f3f3f;stroke-linejoin:miter;\" x=\"421.526387\" xlink:href=\"#m60c24b87c4\" y=\"143.1\"/>\r\n     <use style=\"fill:#3f3f3f;stroke:#3f3f3f;stroke-linejoin:miter;\" x=\"478.978964\" xlink:href=\"#m60c24b87c4\" y=\"143.1\"/>\r\n     <use style=\"fill:#3f3f3f;stroke:#3f3f3f;stroke-linejoin:miter;\" x=\"430.323595\" xlink:href=\"#m60c24b87c4\" y=\"143.1\"/>\r\n     <use style=\"fill:#3f3f3f;stroke:#3f3f3f;stroke-linejoin:miter;\" x=\"450.487557\" xlink:href=\"#m60c24b87c4\" y=\"143.1\"/>\r\n     <use style=\"fill:#3f3f3f;stroke:#3f3f3f;stroke-linejoin:miter;\" x=\"432.987472\" xlink:href=\"#m60c24b87c4\" y=\"143.1\"/>\r\n     <use style=\"fill:#3f3f3f;stroke:#3f3f3f;stroke-linejoin:miter;\" x=\"454.170197\" xlink:href=\"#m60c24b87c4\" y=\"143.1\"/>\r\n     <use style=\"fill:#3f3f3f;stroke:#3f3f3f;stroke-linejoin:miter;\" x=\"431.253688\" xlink:href=\"#m60c24b87c4\" y=\"143.1\"/>\r\n     <use style=\"fill:#3f3f3f;stroke:#3f3f3f;stroke-linejoin:miter;\" x=\"434.913689\" xlink:href=\"#m60c24b87c4\" y=\"143.1\"/>\r\n     <use style=\"fill:#3f3f3f;stroke:#3f3f3f;stroke-linejoin:miter;\" x=\"510.007845\" xlink:href=\"#m60c24b87c4\" y=\"143.1\"/>\r\n     <use style=\"fill:#3f3f3f;stroke:#3f3f3f;stroke-linejoin:miter;\" x=\"441.069659\" xlink:href=\"#m60c24b87c4\" y=\"143.1\"/>\r\n     <use style=\"fill:#3f3f3f;stroke:#3f3f3f;stroke-linejoin:miter;\" x=\"424.341192\" xlink:href=\"#m60c24b87c4\" y=\"143.1\"/>\r\n     <use style=\"fill:#3f3f3f;stroke:#3f3f3f;stroke-linejoin:miter;\" x=\"444.216504\" xlink:href=\"#m60c24b87c4\" y=\"143.1\"/>\r\n     <use style=\"fill:#3f3f3f;stroke:#3f3f3f;stroke-linejoin:miter;\" x=\"442.580824\" xlink:href=\"#m60c24b87c4\" y=\"143.1\"/>\r\n     <use style=\"fill:#3f3f3f;stroke:#3f3f3f;stroke-linejoin:miter;\" x=\"501.720019\" xlink:href=\"#m60c24b87c4\" y=\"143.1\"/>\r\n     <use style=\"fill:#3f3f3f;stroke:#3f3f3f;stroke-linejoin:miter;\" x=\"814.229358\" xlink:href=\"#m60c24b87c4\" y=\"143.1\"/>\r\n     <use style=\"fill:#3f3f3f;stroke:#3f3f3f;stroke-linejoin:miter;\" x=\"426.22213\" xlink:href=\"#m60c24b87c4\" y=\"143.1\"/>\r\n     <use style=\"fill:#3f3f3f;stroke:#3f3f3f;stroke-linejoin:miter;\" x=\"441.058339\" xlink:href=\"#m60c24b87c4\" y=\"143.1\"/>\r\n     <use style=\"fill:#3f3f3f;stroke:#3f3f3f;stroke-linejoin:miter;\" x=\"475.411406\" xlink:href=\"#m60c24b87c4\" y=\"143.1\"/>\r\n     <use style=\"fill:#3f3f3f;stroke:#3f3f3f;stroke-linejoin:miter;\" x=\"438.977421\" xlink:href=\"#m60c24b87c4\" y=\"143.1\"/>\r\n     <use style=\"fill:#3f3f3f;stroke:#3f3f3f;stroke-linejoin:miter;\" x=\"423.992171\" xlink:href=\"#m60c24b87c4\" y=\"143.1\"/>\r\n     <use style=\"fill:#3f3f3f;stroke:#3f3f3f;stroke-linejoin:miter;\" x=\"431.29142\" xlink:href=\"#m60c24b87c4\" y=\"143.1\"/>\r\n     <use style=\"fill:#3f3f3f;stroke:#3f3f3f;stroke-linejoin:miter;\" x=\"425.195821\" xlink:href=\"#m60c24b87c4\" y=\"143.1\"/>\r\n     <use style=\"fill:#3f3f3f;stroke:#3f3f3f;stroke-linejoin:miter;\" x=\"449.182031\" xlink:href=\"#m60c24b87c4\" y=\"143.1\"/>\r\n     <use style=\"fill:#3f3f3f;stroke:#3f3f3f;stroke-linejoin:miter;\" x=\"422.765882\" xlink:href=\"#m60c24b87c4\" y=\"143.1\"/>\r\n     <use style=\"fill:#3f3f3f;stroke:#3f3f3f;stroke-linejoin:miter;\" x=\"423.554481\" xlink:href=\"#m60c24b87c4\" y=\"143.1\"/>\r\n     <use style=\"fill:#3f3f3f;stroke:#3f3f3f;stroke-linejoin:miter;\" x=\"444.829649\" xlink:href=\"#m60c24b87c4\" y=\"143.1\"/>\r\n     <use style=\"fill:#3f3f3f;stroke:#3f3f3f;stroke-linejoin:miter;\" x=\"428.576605\" xlink:href=\"#m60c24b87c4\" y=\"143.1\"/>\r\n     <use style=\"fill:#3f3f3f;stroke:#3f3f3f;stroke-linejoin:miter;\" x=\"457.843404\" xlink:href=\"#m60c24b87c4\" y=\"143.1\"/>\r\n     <use style=\"fill:#3f3f3f;stroke:#3f3f3f;stroke-linejoin:miter;\" x=\"426.508893\" xlink:href=\"#m60c24b87c4\" y=\"143.1\"/>\r\n     <use style=\"fill:#3f3f3f;stroke:#3f3f3f;stroke-linejoin:miter;\" x=\"431.300853\" xlink:href=\"#m60c24b87c4\" y=\"143.1\"/>\r\n     <use style=\"fill:#3f3f3f;stroke:#3f3f3f;stroke-linejoin:miter;\" x=\"422.905491\" xlink:href=\"#m60c24b87c4\" y=\"143.1\"/>\r\n     <use style=\"fill:#3f3f3f;stroke:#3f3f3f;stroke-linejoin:miter;\" x=\"424.305347\" xlink:href=\"#m60c24b87c4\" y=\"143.1\"/>\r\n     <use style=\"fill:#3f3f3f;stroke:#3f3f3f;stroke-linejoin:miter;\" x=\"424.529852\" xlink:href=\"#m60c24b87c4\" y=\"143.1\"/>\r\n     <use style=\"fill:#3f3f3f;stroke:#3f3f3f;stroke-linejoin:miter;\" x=\"426.012718\" xlink:href=\"#m60c24b87c4\" y=\"143.1\"/>\r\n     <use style=\"fill:#3f3f3f;stroke:#3f3f3f;stroke-linejoin:miter;\" x=\"440.430102\" xlink:href=\"#m60c24b87c4\" y=\"143.1\"/>\r\n     <use style=\"fill:#3f3f3f;stroke:#3f3f3f;stroke-linejoin:miter;\" x=\"549.516985\" xlink:href=\"#m60c24b87c4\" y=\"143.1\"/>\r\n     <use style=\"fill:#3f3f3f;stroke:#3f3f3f;stroke-linejoin:miter;\" x=\"441.320576\" xlink:href=\"#m60c24b87c4\" y=\"143.1\"/>\r\n     <use style=\"fill:#3f3f3f;stroke:#3f3f3f;stroke-linejoin:miter;\" x=\"496.313028\" xlink:href=\"#m60c24b87c4\" y=\"143.1\"/>\r\n     <use style=\"fill:#3f3f3f;stroke:#3f3f3f;stroke-linejoin:miter;\" x=\"434.077926\" xlink:href=\"#m60c24b87c4\" y=\"143.1\"/>\r\n     <use style=\"fill:#3f3f3f;stroke:#3f3f3f;stroke-linejoin:miter;\" x=\"476.960304\" xlink:href=\"#m60c24b87c4\" y=\"143.1\"/>\r\n     <use style=\"fill:#3f3f3f;stroke:#3f3f3f;stroke-linejoin:miter;\" x=\"430.557533\" xlink:href=\"#m60c24b87c4\" y=\"143.1\"/>\r\n     <use style=\"fill:#3f3f3f;stroke:#3f3f3f;stroke-linejoin:miter;\" x=\"420.622707\" xlink:href=\"#m60c24b87c4\" y=\"143.1\"/>\r\n     <use style=\"fill:#3f3f3f;stroke:#3f3f3f;stroke-linejoin:miter;\" x=\"429.101079\" xlink:href=\"#m60c24b87c4\" y=\"143.1\"/>\r\n     <use style=\"fill:#3f3f3f;stroke:#3f3f3f;stroke-linejoin:miter;\" x=\"460.958177\" xlink:href=\"#m60c24b87c4\" y=\"143.1\"/>\r\n     <use style=\"fill:#3f3f3f;stroke:#3f3f3f;stroke-linejoin:miter;\" x=\"453.249537\" xlink:href=\"#m60c24b87c4\" y=\"143.1\"/>\r\n     <use style=\"fill:#3f3f3f;stroke:#3f3f3f;stroke-linejoin:miter;\" x=\"441.40736\" xlink:href=\"#m60c24b87c4\" y=\"143.1\"/>\r\n     <use style=\"fill:#3f3f3f;stroke:#3f3f3f;stroke-linejoin:miter;\" x=\"423.750687\" xlink:href=\"#m60c24b87c4\" y=\"143.1\"/>\r\n     <use style=\"fill:#3f3f3f;stroke:#3f3f3f;stroke-linejoin:miter;\" x=\"430.719781\" xlink:href=\"#m60c24b87c4\" y=\"143.1\"/>\r\n     <use style=\"fill:#3f3f3f;stroke:#3f3f3f;stroke-linejoin:miter;\" x=\"432.113977\" xlink:href=\"#m60c24b87c4\" y=\"143.1\"/>\r\n     <use style=\"fill:#3f3f3f;stroke:#3f3f3f;stroke-linejoin:miter;\" x=\"475.31519\" xlink:href=\"#m60c24b87c4\" y=\"143.1\"/>\r\n     <use style=\"fill:#3f3f3f;stroke:#3f3f3f;stroke-linejoin:miter;\" x=\"422.015016\" xlink:href=\"#m60c24b87c4\" y=\"143.1\"/>\r\n     <use style=\"fill:#3f3f3f;stroke:#3f3f3f;stroke-linejoin:miter;\" x=\"438.036009\" xlink:href=\"#m60c24b87c4\" y=\"143.1\"/>\r\n     <use style=\"fill:#3f3f3f;stroke:#3f3f3f;stroke-linejoin:miter;\" x=\"589.280816\" xlink:href=\"#m60c24b87c4\" y=\"143.1\"/>\r\n     <use style=\"fill:#3f3f3f;stroke:#3f3f3f;stroke-linejoin:miter;\" x=\"423.075285\" xlink:href=\"#m60c24b87c4\" y=\"143.1\"/>\r\n     <use style=\"fill:#3f3f3f;stroke:#3f3f3f;stroke-linejoin:miter;\" x=\"420.786841\" xlink:href=\"#m60c24b87c4\" y=\"143.1\"/>\r\n     <use style=\"fill:#3f3f3f;stroke:#3f3f3f;stroke-linejoin:miter;\" x=\"448.084031\" xlink:href=\"#m60c24b87c4\" y=\"143.1\"/>\r\n     <use style=\"fill:#3f3f3f;stroke:#3f3f3f;stroke-linejoin:miter;\" x=\"426.756038\" xlink:href=\"#m60c24b87c4\" y=\"143.1\"/>\r\n     <use style=\"fill:#3f3f3f;stroke:#3f3f3f;stroke-linejoin:miter;\" x=\"421.277356\" xlink:href=\"#m60c24b87c4\" y=\"143.1\"/>\r\n     <use style=\"fill:#3f3f3f;stroke:#3f3f3f;stroke-linejoin:miter;\" x=\"429.823646\" xlink:href=\"#m60c24b87c4\" y=\"143.1\"/>\r\n     <use style=\"fill:#3f3f3f;stroke:#3f3f3f;stroke-linejoin:miter;\" x=\"512.15102\" xlink:href=\"#m60c24b87c4\" y=\"143.1\"/>\r\n     <use style=\"fill:#3f3f3f;stroke:#3f3f3f;stroke-linejoin:miter;\" x=\"427.88611\" xlink:href=\"#m60c24b87c4\" y=\"143.1\"/>\r\n     <use style=\"fill:#3f3f3f;stroke:#3f3f3f;stroke-linejoin:miter;\" x=\"424.831708\" xlink:href=\"#m60c24b87c4\" y=\"143.1\"/>\r\n     <use style=\"fill:#3f3f3f;stroke:#3f3f3f;stroke-linejoin:miter;\" x=\"436.264493\" xlink:href=\"#m60c24b87c4\" y=\"143.1\"/>\r\n     <use style=\"fill:#3f3f3f;stroke:#3f3f3f;stroke-linejoin:miter;\" x=\"426.50512\" xlink:href=\"#m60c24b87c4\" y=\"143.1\"/>\r\n     <use style=\"fill:#3f3f3f;stroke:#3f3f3f;stroke-linejoin:miter;\" x=\"436.80972\" xlink:href=\"#m60c24b87c4\" y=\"143.1\"/>\r\n     <use style=\"fill:#3f3f3f;stroke:#3f3f3f;stroke-linejoin:miter;\" x=\"450.21966\" xlink:href=\"#m60c24b87c4\" y=\"143.1\"/>\r\n     <use style=\"fill:#3f3f3f;stroke:#3f3f3f;stroke-linejoin:miter;\" x=\"444.33536\" xlink:href=\"#m60c24b87c4\" y=\"143.1\"/>\r\n     <use style=\"fill:#3f3f3f;stroke:#3f3f3f;stroke-linejoin:miter;\" x=\"421.788625\" xlink:href=\"#m60c24b87c4\" y=\"143.1\"/>\r\n     <use style=\"fill:#3f3f3f;stroke:#3f3f3f;stroke-linejoin:miter;\" x=\"517.161825\" xlink:href=\"#m60c24b87c4\" y=\"143.1\"/>\r\n     <use style=\"fill:#3f3f3f;stroke:#3f3f3f;stroke-linejoin:miter;\" x=\"517.437269\" xlink:href=\"#m60c24b87c4\" y=\"143.1\"/>\r\n     <use style=\"fill:#3f3f3f;stroke:#3f3f3f;stroke-linejoin:miter;\" x=\"426.357966\" xlink:href=\"#m60c24b87c4\" y=\"143.1\"/>\r\n     <use style=\"fill:#3f3f3f;stroke:#3f3f3f;stroke-linejoin:miter;\" x=\"425.644831\" xlink:href=\"#m60c24b87c4\" y=\"143.1\"/>\r\n     <use style=\"fill:#3f3f3f;stroke:#3f3f3f;stroke-linejoin:miter;\" x=\"452.553382\" xlink:href=\"#m60c24b87c4\" y=\"143.1\"/>\r\n     <use style=\"fill:#3f3f3f;stroke:#3f3f3f;stroke-linejoin:miter;\" x=\"474.783169\" xlink:href=\"#m60c24b87c4\" y=\"143.1\"/>\r\n     <use style=\"fill:#3f3f3f;stroke:#3f3f3f;stroke-linejoin:miter;\" x=\"434.457132\" xlink:href=\"#m60c24b87c4\" y=\"143.1\"/>\r\n     <use style=\"fill:#3f3f3f;stroke:#3f3f3f;stroke-linejoin:miter;\" x=\"428.07477\" xlink:href=\"#m60c24b87c4\" y=\"143.1\"/>\r\n     <use style=\"fill:#3f3f3f;stroke:#3f3f3f;stroke-linejoin:miter;\" x=\"492.073842\" xlink:href=\"#m60c24b87c4\" y=\"143.1\"/>\r\n     <use style=\"fill:#3f3f3f;stroke:#3f3f3f;stroke-linejoin:miter;\" x=\"493.917049\" xlink:href=\"#m60c24b87c4\" y=\"143.1\"/>\r\n     <use style=\"fill:#3f3f3f;stroke:#3f3f3f;stroke-linejoin:miter;\" x=\"424.060089\" xlink:href=\"#m60c24b87c4\" y=\"143.1\"/>\r\n     <use style=\"fill:#3f3f3f;stroke:#3f3f3f;stroke-linejoin:miter;\" x=\"466.240652\" xlink:href=\"#m60c24b87c4\" y=\"143.1\"/>\r\n     <use style=\"fill:#3f3f3f;stroke:#3f3f3f;stroke-linejoin:miter;\" x=\"438.83404\" xlink:href=\"#m60c24b87c4\" y=\"143.1\"/>\r\n     <use style=\"fill:#3f3f3f;stroke:#3f3f3f;stroke-linejoin:miter;\" x=\"422.794181\" xlink:href=\"#m60c24b87c4\" y=\"143.1\"/>\r\n     <use style=\"fill:#3f3f3f;stroke:#3f3f3f;stroke-linejoin:miter;\" x=\"439.467937\" xlink:href=\"#m60c24b87c4\" y=\"143.1\"/>\r\n     <use style=\"fill:#3f3f3f;stroke:#3f3f3f;stroke-linejoin:miter;\" x=\"438.543504\" xlink:href=\"#m60c24b87c4\" y=\"143.1\"/>\r\n     <use style=\"fill:#3f3f3f;stroke:#3f3f3f;stroke-linejoin:miter;\" x=\"515.535578\" xlink:href=\"#m60c24b87c4\" y=\"143.1\"/>\r\n     <use style=\"fill:#3f3f3f;stroke:#3f3f3f;stroke-linejoin:miter;\" x=\"445.774835\" xlink:href=\"#m60c24b87c4\" y=\"143.1\"/>\r\n     <use style=\"fill:#3f3f3f;stroke:#3f3f3f;stroke-linejoin:miter;\" x=\"421.296222\" xlink:href=\"#m60c24b87c4\" y=\"143.1\"/>\r\n     <use style=\"fill:#3f3f3f;stroke:#3f3f3f;stroke-linejoin:miter;\" x=\"497.561956\" xlink:href=\"#m60c24b87c4\" y=\"143.1\"/>\r\n     <use style=\"fill:#3f3f3f;stroke:#3f3f3f;stroke-linejoin:miter;\" x=\"425.550501\" xlink:href=\"#m60c24b87c4\" y=\"143.1\"/>\r\n     <use style=\"fill:#3f3f3f;stroke:#3f3f3f;stroke-linejoin:miter;\" x=\"425.480697\" xlink:href=\"#m60c24b87c4\" y=\"143.1\"/>\r\n     <use style=\"fill:#3f3f3f;stroke:#3f3f3f;stroke-linejoin:miter;\" x=\"466.40856\" xlink:href=\"#m60c24b87c4\" y=\"143.1\"/>\r\n     <use style=\"fill:#3f3f3f;stroke:#3f3f3f;stroke-linejoin:miter;\" x=\"443.392061\" xlink:href=\"#m60c24b87c4\" y=\"143.1\"/>\r\n     <use style=\"fill:#3f3f3f;stroke:#3f3f3f;stroke-linejoin:miter;\" x=\"430.483956\" xlink:href=\"#m60c24b87c4\" y=\"143.1\"/>\r\n     <use style=\"fill:#3f3f3f;stroke:#3f3f3f;stroke-linejoin:miter;\" x=\"442.205391\" xlink:href=\"#m60c24b87c4\" y=\"143.1\"/>\r\n     <use style=\"fill:#3f3f3f;stroke:#3f3f3f;stroke-linejoin:miter;\" x=\"429.225595\" xlink:href=\"#m60c24b87c4\" y=\"143.1\"/>\r\n     <use style=\"fill:#3f3f3f;stroke:#3f3f3f;stroke-linejoin:miter;\" x=\"431.627234\" xlink:href=\"#m60c24b87c4\" y=\"143.1\"/>\r\n     <use style=\"fill:#3f3f3f;stroke:#3f3f3f;stroke-linejoin:miter;\" x=\"458.856507\" xlink:href=\"#m60c24b87c4\" y=\"143.1\"/>\r\n     <use style=\"fill:#3f3f3f;stroke:#3f3f3f;stroke-linejoin:miter;\" x=\"422.224429\" xlink:href=\"#m60c24b87c4\" y=\"143.1\"/>\r\n     <use style=\"fill:#3f3f3f;stroke:#3f3f3f;stroke-linejoin:miter;\" x=\"437.247411\" xlink:href=\"#m60c24b87c4\" y=\"143.1\"/>\r\n     <use style=\"fill:#3f3f3f;stroke:#3f3f3f;stroke-linejoin:miter;\" x=\"422.575336\" xlink:href=\"#m60c24b87c4\" y=\"143.1\"/>\r\n     <use style=\"fill:#3f3f3f;stroke:#3f3f3f;stroke-linejoin:miter;\" x=\"472.970148\" xlink:href=\"#m60c24b87c4\" y=\"143.1\"/>\r\n     <use style=\"fill:#3f3f3f;stroke:#3f3f3f;stroke-linejoin:miter;\" x=\"450.429072\" xlink:href=\"#m60c24b87c4\" y=\"143.1\"/>\r\n     <use style=\"fill:#3f3f3f;stroke:#3f3f3f;stroke-linejoin:miter;\" x=\"481.761696\" xlink:href=\"#m60c24b87c4\" y=\"143.1\"/>\r\n     <use style=\"fill:#3f3f3f;stroke:#3f3f3f;stroke-linejoin:miter;\" x=\"436.168276\" xlink:href=\"#m60c24b87c4\" y=\"143.1\"/>\r\n     <use style=\"fill:#3f3f3f;stroke:#3f3f3f;stroke-linejoin:miter;\" x=\"448.606619\" xlink:href=\"#m60c24b87c4\" y=\"143.1\"/>\r\n     <use style=\"fill:#3f3f3f;stroke:#3f3f3f;stroke-linejoin:miter;\" x=\"438.37371\" xlink:href=\"#m60c24b87c4\" y=\"143.1\"/>\r\n     <use style=\"fill:#3f3f3f;stroke:#3f3f3f;stroke-linejoin:miter;\" x=\"426.925832\" xlink:href=\"#m60c24b87c4\" y=\"143.1\"/>\r\n     <use style=\"fill:#3f3f3f;stroke:#3f3f3f;stroke-linejoin:miter;\" x=\"591.324002\" xlink:href=\"#m60c24b87c4\" y=\"143.1\"/>\r\n     <use style=\"fill:#3f3f3f;stroke:#3f3f3f;stroke-linejoin:miter;\" x=\"422.652687\" xlink:href=\"#m60c24b87c4\" y=\"143.1\"/>\r\n     <use style=\"fill:#3f3f3f;stroke:#3f3f3f;stroke-linejoin:miter;\" x=\"431.672513\" xlink:href=\"#m60c24b87c4\" y=\"143.1\"/>\r\n     <use style=\"fill:#3f3f3f;stroke:#3f3f3f;stroke-linejoin:miter;\" x=\"441.918628\" xlink:href=\"#m60c24b87c4\" y=\"143.1\"/>\r\n     <use style=\"fill:#3f3f3f;stroke:#3f3f3f;stroke-linejoin:miter;\" x=\"463.508858\" xlink:href=\"#m60c24b87c4\" y=\"143.1\"/>\r\n     <use style=\"fill:#3f3f3f;stroke:#3f3f3f;stroke-linejoin:miter;\" x=\"430.92542\" xlink:href=\"#m60c24b87c4\" y=\"143.1\"/>\r\n     <use style=\"fill:#3f3f3f;stroke:#3f3f3f;stroke-linejoin:miter;\" x=\"471.062797\" xlink:href=\"#m60c24b87c4\" y=\"143.1\"/>\r\n     <use style=\"fill:#3f3f3f;stroke:#3f3f3f;stroke-linejoin:miter;\" x=\"463.525837\" xlink:href=\"#m60c24b87c4\" y=\"143.1\"/>\r\n     <use style=\"fill:#3f3f3f;stroke:#3f3f3f;stroke-linejoin:miter;\" x=\"476.913139\" xlink:href=\"#m60c24b87c4\" y=\"143.1\"/>\r\n     <use style=\"fill:#3f3f3f;stroke:#3f3f3f;stroke-linejoin:miter;\" x=\"422.492326\" xlink:href=\"#m60c24b87c4\" y=\"143.1\"/>\r\n     <use style=\"fill:#3f3f3f;stroke:#3f3f3f;stroke-linejoin:miter;\" x=\"450.849784\" xlink:href=\"#m60c24b87c4\" y=\"143.1\"/>\r\n     <use style=\"fill:#3f3f3f;stroke:#3f3f3f;stroke-linejoin:miter;\" x=\"425.876883\" xlink:href=\"#m60c24b87c4\" y=\"143.1\"/>\r\n     <use style=\"fill:#3f3f3f;stroke:#3f3f3f;stroke-linejoin:miter;\" x=\"440.4867\" xlink:href=\"#m60c24b87c4\" y=\"143.1\"/>\r\n     <use style=\"fill:#3f3f3f;stroke:#3f3f3f;stroke-linejoin:miter;\" x=\"422.322532\" xlink:href=\"#m60c24b87c4\" y=\"143.1\"/>\r\n     <use style=\"fill:#3f3f3f;stroke:#3f3f3f;stroke-linejoin:miter;\" x=\"428.640749\" xlink:href=\"#m60c24b87c4\" y=\"143.1\"/>\r\n     <use style=\"fill:#3f3f3f;stroke:#3f3f3f;stroke-linejoin:miter;\" x=\"424.186491\" xlink:href=\"#m60c24b87c4\" y=\"143.1\"/>\r\n     <use style=\"fill:#3f3f3f;stroke:#3f3f3f;stroke-linejoin:miter;\" x=\"530.732127\" xlink:href=\"#m60c24b87c4\" y=\"143.1\"/>\r\n     <use style=\"fill:#3f3f3f;stroke:#3f3f3f;stroke-linejoin:miter;\" x=\"424.724171\" xlink:href=\"#m60c24b87c4\" y=\"143.1\"/>\r\n     <use style=\"fill:#3f3f3f;stroke:#3f3f3f;stroke-linejoin:miter;\" x=\"450.459258\" xlink:href=\"#m60c24b87c4\" y=\"143.1\"/>\r\n     <use style=\"fill:#3f3f3f;stroke:#3f3f3f;stroke-linejoin:miter;\" x=\"421.850882\" xlink:href=\"#m60c24b87c4\" y=\"143.1\"/>\r\n     <use style=\"fill:#3f3f3f;stroke:#3f3f3f;stroke-linejoin:miter;\" x=\"494.152873\" xlink:href=\"#m60c24b87c4\" y=\"143.1\"/>\r\n     <use style=\"fill:#3f3f3f;stroke:#3f3f3f;stroke-linejoin:miter;\" x=\"422.162171\" xlink:href=\"#m60c24b87c4\" y=\"143.1\"/>\r\n     <use style=\"fill:#3f3f3f;stroke:#3f3f3f;stroke-linejoin:miter;\" x=\"464.540827\" xlink:href=\"#m60c24b87c4\" y=\"143.1\"/>\r\n     <use style=\"fill:#3f3f3f;stroke:#3f3f3f;stroke-linejoin:miter;\" x=\"440.699885\" xlink:href=\"#m60c24b87c4\" y=\"143.1\"/>\r\n     <use style=\"fill:#3f3f3f;stroke:#3f3f3f;stroke-linejoin:miter;\" x=\"423.47713\" xlink:href=\"#m60c24b87c4\" y=\"143.1\"/>\r\n     <use style=\"fill:#3f3f3f;stroke:#3f3f3f;stroke-linejoin:miter;\" x=\"460.088455\" xlink:href=\"#m60c24b87c4\" y=\"143.1\"/>\r\n     <use style=\"fill:#3f3f3f;stroke:#3f3f3f;stroke-linejoin:miter;\" x=\"431.772502\" xlink:href=\"#m60c24b87c4\" y=\"143.1\"/>\r\n     <use style=\"fill:#3f3f3f;stroke:#3f3f3f;stroke-linejoin:miter;\" x=\"613.516057\" xlink:href=\"#m60c24b87c4\" y=\"143.1\"/>\r\n     <use style=\"fill:#3f3f3f;stroke:#3f3f3f;stroke-linejoin:miter;\" x=\"424.069522\" xlink:href=\"#m60c24b87c4\" y=\"143.1\"/>\r\n     <use style=\"fill:#3f3f3f;stroke:#3f3f3f;stroke-linejoin:miter;\" x=\"439.126462\" xlink:href=\"#m60c24b87c4\" y=\"143.1\"/>\r\n     <use style=\"fill:#3f3f3f;stroke:#3f3f3f;stroke-linejoin:miter;\" x=\"544.566551\" xlink:href=\"#m60c24b87c4\" y=\"143.1\"/>\r\n     <use style=\"fill:#3f3f3f;stroke:#3f3f3f;stroke-linejoin:miter;\" x=\"444.212731\" xlink:href=\"#m60c24b87c4\" y=\"143.1\"/>\r\n     <use style=\"fill:#3f3f3f;stroke:#3f3f3f;stroke-linejoin:miter;\" x=\"431.908338\" xlink:href=\"#m60c24b87c4\" y=\"143.1\"/>\r\n     <use style=\"fill:#3f3f3f;stroke:#3f3f3f;stroke-linejoin:miter;\" x=\"592.823848\" xlink:href=\"#m60c24b87c4\" y=\"143.1\"/>\r\n     <use style=\"fill:#3f3f3f;stroke:#3f3f3f;stroke-linejoin:miter;\" x=\"424.667574\" xlink:href=\"#m60c24b87c4\" y=\"143.1\"/>\r\n     <use style=\"fill:#3f3f3f;stroke:#3f3f3f;stroke-linejoin:miter;\" x=\"554.035388\" xlink:href=\"#m60c24b87c4\" y=\"143.1\"/>\r\n     <use style=\"fill:#3f3f3f;stroke:#3f3f3f;stroke-linejoin:miter;\" x=\"569.928092\" xlink:href=\"#m60c24b87c4\" y=\"143.1\"/>\r\n     <use style=\"fill:#3f3f3f;stroke:#3f3f3f;stroke-linejoin:miter;\" x=\"455.717207\" xlink:href=\"#m60c24b87c4\" y=\"143.1\"/>\r\n     <use style=\"fill:#3f3f3f;stroke:#3f3f3f;stroke-linejoin:miter;\" x=\"452.406227\" xlink:href=\"#m60c24b87c4\" y=\"143.1\"/>\r\n     <use style=\"fill:#3f3f3f;stroke:#3f3f3f;stroke-linejoin:miter;\" x=\"439.301916\" xlink:href=\"#m60c24b87c4\" y=\"143.1\"/>\r\n     <use style=\"fill:#3f3f3f;stroke:#3f3f3f;stroke-linejoin:miter;\" x=\"438.934029\" xlink:href=\"#m60c24b87c4\" y=\"143.1\"/>\r\n     <use style=\"fill:#3f3f3f;stroke:#3f3f3f;stroke-linejoin:miter;\" x=\"423.380914\" xlink:href=\"#m60c24b87c4\" y=\"143.1\"/>\r\n     <use style=\"fill:#3f3f3f;stroke:#3f3f3f;stroke-linejoin:miter;\" x=\"429.159564\" xlink:href=\"#m60c24b87c4\" y=\"143.1\"/>\r\n     <use style=\"fill:#3f3f3f;stroke:#3f3f3f;stroke-linejoin:miter;\" x=\"436.023008\" xlink:href=\"#m60c24b87c4\" y=\"143.1\"/>\r\n     <use style=\"fill:#3f3f3f;stroke:#3f3f3f;stroke-linejoin:miter;\" x=\"464.425745\" xlink:href=\"#m60c24b87c4\" y=\"143.1\"/>\r\n     <use style=\"fill:#3f3f3f;stroke:#3f3f3f;stroke-linejoin:miter;\" x=\"632.116029\" xlink:href=\"#m60c24b87c4\" y=\"143.1\"/>\r\n     <use style=\"fill:#3f3f3f;stroke:#3f3f3f;stroke-linejoin:miter;\" x=\"426.320234\" xlink:href=\"#m60c24b87c4\" y=\"143.1\"/>\r\n     <use style=\"fill:#3f3f3f;stroke:#3f3f3f;stroke-linejoin:miter;\" x=\"423.348841\" xlink:href=\"#m60c24b87c4\" y=\"143.1\"/>\r\n     <use style=\"fill:#3f3f3f;stroke:#3f3f3f;stroke-linejoin:miter;\" x=\"427.069213\" xlink:href=\"#m60c24b87c4\" y=\"143.1\"/>\r\n     <use style=\"fill:#3f3f3f;stroke:#3f3f3f;stroke-linejoin:miter;\" x=\"432.40074\" xlink:href=\"#m60c24b87c4\" y=\"143.1\"/>\r\n     <use style=\"fill:#3f3f3f;stroke:#3f3f3f;stroke-linejoin:miter;\" x=\"429.397275\" xlink:href=\"#m60c24b87c4\" y=\"143.1\"/>\r\n     <use style=\"fill:#3f3f3f;stroke:#3f3f3f;stroke-linejoin:miter;\" x=\"445.938969\" xlink:href=\"#m60c24b87c4\" y=\"143.1\"/>\r\n     <use style=\"fill:#3f3f3f;stroke:#3f3f3f;stroke-linejoin:miter;\" x=\"422.348944\" xlink:href=\"#m60c24b87c4\" y=\"143.1\"/>\r\n     <use style=\"fill:#3f3f3f;stroke:#3f3f3f;stroke-linejoin:miter;\" x=\"441.711102\" xlink:href=\"#m60c24b87c4\" y=\"143.1\"/>\r\n     <use style=\"fill:#3f3f3f;stroke:#3f3f3f;stroke-linejoin:miter;\" x=\"509.762587\" xlink:href=\"#m60c24b87c4\" y=\"143.1\"/>\r\n     <use style=\"fill:#3f3f3f;stroke:#3f3f3f;stroke-linejoin:miter;\" x=\"563.777781\" xlink:href=\"#m60c24b87c4\" y=\"143.1\"/>\r\n     <use style=\"fill:#3f3f3f;stroke:#3f3f3f;stroke-linejoin:miter;\" x=\"459.350796\" xlink:href=\"#m60c24b87c4\" y=\"143.1\"/>\r\n     <use style=\"fill:#3f3f3f;stroke:#3f3f3f;stroke-linejoin:miter;\" x=\"425.859904\" xlink:href=\"#m60c24b87c4\" y=\"143.1\"/>\r\n     <use style=\"fill:#3f3f3f;stroke:#3f3f3f;stroke-linejoin:miter;\" x=\"470.010076\" xlink:href=\"#m60c24b87c4\" y=\"143.1\"/>\r\n     <use style=\"fill:#3f3f3f;stroke:#3f3f3f;stroke-linejoin:miter;\" x=\"449.100907\" xlink:href=\"#m60c24b87c4\" y=\"143.1\"/>\r\n     <use style=\"fill:#3f3f3f;stroke:#3f3f3f;stroke-linejoin:miter;\" x=\"451.095042\" xlink:href=\"#m60c24b87c4\" y=\"143.1\"/>\r\n     <use style=\"fill:#3f3f3f;stroke:#3f3f3f;stroke-linejoin:miter;\" x=\"452.676011\" xlink:href=\"#m60c24b87c4\" y=\"143.1\"/>\r\n     <use style=\"fill:#3f3f3f;stroke:#3f3f3f;stroke-linejoin:miter;\" x=\"439.035906\" xlink:href=\"#m60c24b87c4\" y=\"143.1\"/>\r\n     <use style=\"fill:#3f3f3f;stroke:#3f3f3f;stroke-linejoin:miter;\" x=\"444.144814\" xlink:href=\"#m60c24b87c4\" y=\"143.1\"/>\r\n     <use style=\"fill:#3f3f3f;stroke:#3f3f3f;stroke-linejoin:miter;\" x=\"528.304075\" xlink:href=\"#m60c24b87c4\" y=\"143.1\"/>\r\n     <use style=\"fill:#3f3f3f;stroke:#3f3f3f;stroke-linejoin:miter;\" x=\"569.937525\" xlink:href=\"#m60c24b87c4\" y=\"143.1\"/>\r\n     <use style=\"fill:#3f3f3f;stroke:#3f3f3f;stroke-linejoin:miter;\" x=\"420.764202\" xlink:href=\"#m60c24b87c4\" y=\"143.1\"/>\r\n     <use style=\"fill:#3f3f3f;stroke:#3f3f3f;stroke-linejoin:miter;\" x=\"435.14008\" xlink:href=\"#m60c24b87c4\" y=\"143.1\"/>\r\n     <use style=\"fill:#3f3f3f;stroke:#3f3f3f;stroke-linejoin:miter;\" x=\"496.607338\" xlink:href=\"#m60c24b87c4\" y=\"143.1\"/>\r\n     <use style=\"fill:#3f3f3f;stroke:#3f3f3f;stroke-linejoin:miter;\" x=\"437.696421\" xlink:href=\"#m60c24b87c4\" y=\"143.1\"/>\r\n     <use style=\"fill:#3f3f3f;stroke:#3f3f3f;stroke-linejoin:miter;\" x=\"446.710587\" xlink:href=\"#m60c24b87c4\" y=\"143.1\"/>\r\n     <use style=\"fill:#3f3f3f;stroke:#3f3f3f;stroke-linejoin:miter;\" x=\"424.201584\" xlink:href=\"#m60c24b87c4\" y=\"143.1\"/>\r\n     <use style=\"fill:#3f3f3f;stroke:#3f3f3f;stroke-linejoin:miter;\" x=\"441.211153\" xlink:href=\"#m60c24b87c4\" y=\"143.1\"/>\r\n     <use style=\"fill:#3f3f3f;stroke:#3f3f3f;stroke-linejoin:miter;\" x=\"451.745918\" xlink:href=\"#m60c24b87c4\" y=\"143.1\"/>\r\n     <use style=\"fill:#3f3f3f;stroke:#3f3f3f;stroke-linejoin:miter;\" x=\"430.855616\" xlink:href=\"#m60c24b87c4\" y=\"143.1\"/>\r\n     <use style=\"fill:#3f3f3f;stroke:#3f3f3f;stroke-linejoin:miter;\" x=\"606.135685\" xlink:href=\"#m60c24b87c4\" y=\"143.1\"/>\r\n     <use style=\"fill:#3f3f3f;stroke:#3f3f3f;stroke-linejoin:miter;\" x=\"449.368804\" xlink:href=\"#m60c24b87c4\" y=\"143.1\"/>\r\n     <use style=\"fill:#3f3f3f;stroke:#3f3f3f;stroke-linejoin:miter;\" x=\"450.019681\" xlink:href=\"#m60c24b87c4\" y=\"143.1\"/>\r\n     <use style=\"fill:#3f3f3f;stroke:#3f3f3f;stroke-linejoin:miter;\" x=\"492.790749\" xlink:href=\"#m60c24b87c4\" y=\"143.1\"/>\r\n     <use style=\"fill:#3f3f3f;stroke:#3f3f3f;stroke-linejoin:miter;\" x=\"431.37443\" xlink:href=\"#m60c24b87c4\" y=\"143.1\"/>\r\n     <use style=\"fill:#3f3f3f;stroke:#3f3f3f;stroke-linejoin:miter;\" x=\"428.199285\" xlink:href=\"#m60c24b87c4\" y=\"143.1\"/>\r\n     <use style=\"fill:#3f3f3f;stroke:#3f3f3f;stroke-linejoin:miter;\" x=\"438.10204\" xlink:href=\"#m60c24b87c4\" y=\"143.1\"/>\r\n     <use style=\"fill:#3f3f3f;stroke:#3f3f3f;stroke-linejoin:miter;\" x=\"465.857673\" xlink:href=\"#m60c24b87c4\" y=\"143.1\"/>\r\n     <use style=\"fill:#3f3f3f;stroke:#3f3f3f;stroke-linejoin:miter;\" x=\"480.163747\" xlink:href=\"#m60c24b87c4\" y=\"143.1\"/>\r\n     <use style=\"fill:#3f3f3f;stroke:#3f3f3f;stroke-linejoin:miter;\" x=\"422.760223\" xlink:href=\"#m60c24b87c4\" y=\"143.1\"/>\r\n     <use style=\"fill:#3f3f3f;stroke:#3f3f3f;stroke-linejoin:miter;\" x=\"443.405267\" xlink:href=\"#m60c24b87c4\" y=\"143.1\"/>\r\n     <use style=\"fill:#3f3f3f;stroke:#3f3f3f;stroke-linejoin:miter;\" x=\"475.198221\" xlink:href=\"#m60c24b87c4\" y=\"143.1\"/>\r\n     <use style=\"fill:#3f3f3f;stroke:#3f3f3f;stroke-linejoin:miter;\" x=\"478.958211\" xlink:href=\"#m60c24b87c4\" y=\"143.1\"/>\r\n     <use style=\"fill:#3f3f3f;stroke:#3f3f3f;stroke-linejoin:miter;\" x=\"529.226621\" xlink:href=\"#m60c24b87c4\" y=\"143.1\"/>\r\n     <use style=\"fill:#3f3f3f;stroke:#3f3f3f;stroke-linejoin:miter;\" x=\"442.378958\" xlink:href=\"#m60c24b87c4\" y=\"143.1\"/>\r\n     <use style=\"fill:#3f3f3f;stroke:#3f3f3f;stroke-linejoin:miter;\" x=\"426.60511\" xlink:href=\"#m60c24b87c4\" y=\"143.1\"/>\r\n     <use style=\"fill:#3f3f3f;stroke:#3f3f3f;stroke-linejoin:miter;\" x=\"421.926346\" xlink:href=\"#m60c24b87c4\" y=\"143.1\"/>\r\n     <use style=\"fill:#3f3f3f;stroke:#3f3f3f;stroke-linejoin:miter;\" x=\"435.421183\" xlink:href=\"#m60c24b87c4\" y=\"143.1\"/>\r\n     <use style=\"fill:#3f3f3f;stroke:#3f3f3f;stroke-linejoin:miter;\" x=\"460.384651\" xlink:href=\"#m60c24b87c4\" y=\"143.1\"/>\r\n     <use style=\"fill:#3f3f3f;stroke:#3f3f3f;stroke-linejoin:miter;\" x=\"454.921063\" xlink:href=\"#m60c24b87c4\" y=\"143.1\"/>\r\n     <use style=\"fill:#3f3f3f;stroke:#3f3f3f;stroke-linejoin:miter;\" x=\"435.8834\" xlink:href=\"#m60c24b87c4\" y=\"143.1\"/>\r\n     <use style=\"fill:#3f3f3f;stroke:#3f3f3f;stroke-linejoin:miter;\" x=\"425.005275\" xlink:href=\"#m60c24b87c4\" y=\"143.1\"/>\r\n     <use style=\"fill:#3f3f3f;stroke:#3f3f3f;stroke-linejoin:miter;\" x=\"460.337486\" xlink:href=\"#m60c24b87c4\" y=\"143.1\"/>\r\n     <use style=\"fill:#3f3f3f;stroke:#3f3f3f;stroke-linejoin:miter;\" x=\"435.136307\" xlink:href=\"#m60c24b87c4\" y=\"143.1\"/>\r\n     <use style=\"fill:#3f3f3f;stroke:#3f3f3f;stroke-linejoin:miter;\" x=\"450.000815\" xlink:href=\"#m60c24b87c4\" y=\"143.1\"/>\r\n     <use style=\"fill:#3f3f3f;stroke:#3f3f3f;stroke-linejoin:miter;\" x=\"503.263256\" xlink:href=\"#m60c24b87c4\" y=\"143.1\"/>\r\n     <use style=\"fill:#3f3f3f;stroke:#3f3f3f;stroke-linejoin:miter;\" x=\"445.218288\" xlink:href=\"#m60c24b87c4\" y=\"143.1\"/>\r\n     <use style=\"fill:#3f3f3f;stroke:#3f3f3f;stroke-linejoin:miter;\" x=\"426.271182\" xlink:href=\"#m60c24b87c4\" y=\"143.1\"/>\r\n     <use style=\"fill:#3f3f3f;stroke:#3f3f3f;stroke-linejoin:miter;\" x=\"422.411202\" xlink:href=\"#m60c24b87c4\" y=\"143.1\"/>\r\n     <use style=\"fill:#3f3f3f;stroke:#3f3f3f;stroke-linejoin:miter;\" x=\"421.196233\" xlink:href=\"#m60c24b87c4\" y=\"143.1\"/>\r\n     <use style=\"fill:#3f3f3f;stroke:#3f3f3f;stroke-linejoin:miter;\" x=\"438.975535\" xlink:href=\"#m60c24b87c4\" y=\"143.1\"/>\r\n     <use style=\"fill:#3f3f3f;stroke:#3f3f3f;stroke-linejoin:miter;\" x=\"431.661193\" xlink:href=\"#m60c24b87c4\" y=\"143.1\"/>\r\n     <use style=\"fill:#3f3f3f;stroke:#3f3f3f;stroke-linejoin:miter;\" x=\"423.941233\" xlink:href=\"#m60c24b87c4\" y=\"143.1\"/>\r\n     <use style=\"fill:#3f3f3f;stroke:#3f3f3f;stroke-linejoin:miter;\" x=\"447.084134\" xlink:href=\"#m60c24b87c4\" y=\"143.1\"/>\r\n     <use style=\"fill:#3f3f3f;stroke:#3f3f3f;stroke-linejoin:miter;\" x=\"499.522132\" xlink:href=\"#m60c24b87c4\" y=\"143.1\"/>\r\n     <use style=\"fill:#3f3f3f;stroke:#3f3f3f;stroke-linejoin:miter;\" x=\"440.85836\" xlink:href=\"#m60c24b87c4\" y=\"143.1\"/>\r\n     <use style=\"fill:#3f3f3f;stroke:#3f3f3f;stroke-linejoin:miter;\" x=\"466.95756\" xlink:href=\"#m60c24b87c4\" y=\"143.1\"/>\r\n     <use style=\"fill:#3f3f3f;stroke:#3f3f3f;stroke-linejoin:miter;\" x=\"518.367362\" xlink:href=\"#m60c24b87c4\" y=\"143.1\"/>\r\n     <use style=\"fill:#3f3f3f;stroke:#3f3f3f;stroke-linejoin:miter;\" x=\"442.375185\" xlink:href=\"#m60c24b87c4\" y=\"143.1\"/>\r\n     <use style=\"fill:#3f3f3f;stroke:#3f3f3f;stroke-linejoin:miter;\" x=\"440.988535\" xlink:href=\"#m60c24b87c4\" y=\"143.1\"/>\r\n     <use style=\"fill:#3f3f3f;stroke:#3f3f3f;stroke-linejoin:miter;\" x=\"430.766946\" xlink:href=\"#m60c24b87c4\" y=\"143.1\"/>\r\n     <use style=\"fill:#3f3f3f;stroke:#3f3f3f;stroke-linejoin:miter;\" x=\"578.851701\" xlink:href=\"#m60c24b87c4\" y=\"143.1\"/>\r\n     <use style=\"fill:#3f3f3f;stroke:#3f3f3f;stroke-linejoin:miter;\" x=\"429.631213\" xlink:href=\"#m60c24b87c4\" y=\"143.1\"/>\r\n     <use style=\"fill:#3f3f3f;stroke:#3f3f3f;stroke-linejoin:miter;\" x=\"499.371204\" xlink:href=\"#m60c24b87c4\" y=\"143.1\"/>\r\n     <use style=\"fill:#3f3f3f;stroke:#3f3f3f;stroke-linejoin:miter;\" x=\"446.499288\" xlink:href=\"#m60c24b87c4\" y=\"143.1\"/>\r\n     <use style=\"fill:#3f3f3f;stroke:#3f3f3f;stroke-linejoin:miter;\" x=\"462.601404\" xlink:href=\"#m60c24b87c4\" y=\"143.1\"/>\r\n     <use style=\"fill:#3f3f3f;stroke:#3f3f3f;stroke-linejoin:miter;\" x=\"482.20316\" xlink:href=\"#m60c24b87c4\" y=\"143.1\"/>\r\n     <use style=\"fill:#3f3f3f;stroke:#3f3f3f;stroke-linejoin:miter;\" x=\"470.110065\" xlink:href=\"#m60c24b87c4\" y=\"143.1\"/>\r\n     <use style=\"fill:#3f3f3f;stroke:#3f3f3f;stroke-linejoin:miter;\" x=\"427.363522\" xlink:href=\"#m60c24b87c4\" y=\"143.1\"/>\r\n     <use style=\"fill:#3f3f3f;stroke:#3f3f3f;stroke-linejoin:miter;\" x=\"446.35402\" xlink:href=\"#m60c24b87c4\" y=\"143.1\"/>\r\n     <use style=\"fill:#3f3f3f;stroke:#3f3f3f;stroke-linejoin:miter;\" x=\"457.777373\" xlink:href=\"#m60c24b87c4\" y=\"143.1\"/>\r\n     <use style=\"fill:#3f3f3f;stroke:#3f3f3f;stroke-linejoin:miter;\" x=\"442.30538\" xlink:href=\"#m60c24b87c4\" y=\"143.1\"/>\r\n     <use style=\"fill:#3f3f3f;stroke:#3f3f3f;stroke-linejoin:miter;\" x=\"428.208718\" xlink:href=\"#m60c24b87c4\" y=\"143.1\"/>\r\n     <use style=\"fill:#3f3f3f;stroke:#3f3f3f;stroke-linejoin:miter;\" x=\"461.801487\" xlink:href=\"#m60c24b87c4\" y=\"143.1\"/>\r\n     <use style=\"fill:#3f3f3f;stroke:#3f3f3f;stroke-linejoin:miter;\" x=\"429.980234\" xlink:href=\"#m60c24b87c4\" y=\"143.1\"/>\r\n     <use style=\"fill:#3f3f3f;stroke:#3f3f3f;stroke-linejoin:miter;\" x=\"434.500524\" xlink:href=\"#m60c24b87c4\" y=\"143.1\"/>\r\n     <use style=\"fill:#3f3f3f;stroke:#3f3f3f;stroke-linejoin:miter;\" x=\"478.15452\" xlink:href=\"#m60c24b87c4\" y=\"143.1\"/>\r\n     <use style=\"fill:#3f3f3f;stroke:#3f3f3f;stroke-linejoin:miter;\" x=\"444.395731\" xlink:href=\"#m60c24b87c4\" y=\"143.1\"/>\r\n     <use style=\"fill:#3f3f3f;stroke:#3f3f3f;stroke-linejoin:miter;\" x=\"478.573345\" xlink:href=\"#m60c24b87c4\" y=\"143.1\"/>\r\n     <use style=\"fill:#3f3f3f;stroke:#3f3f3f;stroke-linejoin:miter;\" x=\"469.589364\" xlink:href=\"#m60c24b87c4\" y=\"143.1\"/>\r\n     <use style=\"fill:#3f3f3f;stroke:#3f3f3f;stroke-linejoin:miter;\" x=\"428.491708\" xlink:href=\"#m60c24b87c4\" y=\"143.1\"/>\r\n     <use style=\"fill:#3f3f3f;stroke:#3f3f3f;stroke-linejoin:miter;\" x=\"420.890604\" xlink:href=\"#m60c24b87c4\" y=\"143.1\"/>\r\n     <use style=\"fill:#3f3f3f;stroke:#3f3f3f;stroke-linejoin:miter;\" x=\"446.682288\" xlink:href=\"#m60c24b87c4\" y=\"143.1\"/>\r\n     <use style=\"fill:#3f3f3f;stroke:#3f3f3f;stroke-linejoin:miter;\" x=\"429.951935\" xlink:href=\"#m60c24b87c4\" y=\"143.1\"/>\r\n     <use style=\"fill:#3f3f3f;stroke:#3f3f3f;stroke-linejoin:miter;\" x=\"422.716831\" xlink:href=\"#m60c24b87c4\" y=\"143.1\"/>\r\n     <use style=\"fill:#3f3f3f;stroke:#3f3f3f;stroke-linejoin:miter;\" x=\"426.590017\" xlink:href=\"#m60c24b87c4\" y=\"143.1\"/>\r\n     <use style=\"fill:#3f3f3f;stroke:#3f3f3f;stroke-linejoin:miter;\" x=\"628.812596\" xlink:href=\"#m60c24b87c4\" y=\"143.1\"/>\r\n     <use style=\"fill:#3f3f3f;stroke:#3f3f3f;stroke-linejoin:miter;\" x=\"422.343284\" xlink:href=\"#m60c24b87c4\" y=\"143.1\"/>\r\n     <use style=\"fill:#3f3f3f;stroke:#3f3f3f;stroke-linejoin:miter;\" x=\"712.932238\" xlink:href=\"#m60c24b87c4\" y=\"143.1\"/>\r\n     <use style=\"fill:#3f3f3f;stroke:#3f3f3f;stroke-linejoin:miter;\" x=\"889.978163\" xlink:href=\"#m60c24b87c4\" y=\"143.1\"/>\r\n     <use style=\"fill:#3f3f3f;stroke:#3f3f3f;stroke-linejoin:miter;\" x=\"432.229059\" xlink:href=\"#m60c24b87c4\" y=\"143.1\"/>\r\n     <use style=\"fill:#3f3f3f;stroke:#3f3f3f;stroke-linejoin:miter;\" x=\"485.793356\" xlink:href=\"#m60c24b87c4\" y=\"143.1\"/>\r\n     <use style=\"fill:#3f3f3f;stroke:#3f3f3f;stroke-linejoin:miter;\" x=\"466.153869\" xlink:href=\"#m60c24b87c4\" y=\"143.1\"/>\r\n     <use style=\"fill:#3f3f3f;stroke:#3f3f3f;stroke-linejoin:miter;\" x=\"442.946824\" xlink:href=\"#m60c24b87c4\" y=\"143.1\"/>\r\n     <use style=\"fill:#3f3f3f;stroke:#3f3f3f;stroke-linejoin:miter;\" x=\"455.388939\" xlink:href=\"#m60c24b87c4\" y=\"143.1\"/>\r\n     <use style=\"fill:#3f3f3f;stroke:#3f3f3f;stroke-linejoin:miter;\" x=\"494.852801\" xlink:href=\"#m60c24b87c4\" y=\"143.1\"/>\r\n     <use style=\"fill:#3f3f3f;stroke:#3f3f3f;stroke-linejoin:miter;\" x=\"433.8704\" xlink:href=\"#m60c24b87c4\" y=\"143.1\"/>\r\n     <use style=\"fill:#3f3f3f;stroke:#3f3f3f;stroke-linejoin:miter;\" x=\"505.587545\" xlink:href=\"#m60c24b87c4\" y=\"143.1\"/>\r\n     <use style=\"fill:#3f3f3f;stroke:#3f3f3f;stroke-linejoin:miter;\" x=\"435.213658\" xlink:href=\"#m60c24b87c4\" y=\"143.1\"/>\r\n     <use style=\"fill:#3f3f3f;stroke:#3f3f3f;stroke-linejoin:miter;\" x=\"425.980646\" xlink:href=\"#m60c24b87c4\" y=\"143.1\"/>\r\n     <use style=\"fill:#3f3f3f;stroke:#3f3f3f;stroke-linejoin:miter;\" x=\"438.435967\" xlink:href=\"#m60c24b87c4\" y=\"143.1\"/>\r\n     <use style=\"fill:#3f3f3f;stroke:#3f3f3f;stroke-linejoin:miter;\" x=\"420.781181\" xlink:href=\"#m60c24b87c4\" y=\"143.1\"/>\r\n     <use style=\"fill:#3f3f3f;stroke:#3f3f3f;stroke-linejoin:miter;\" x=\"426.012718\" xlink:href=\"#m60c24b87c4\" y=\"143.1\"/>\r\n     <use style=\"fill:#3f3f3f;stroke:#3f3f3f;stroke-linejoin:miter;\" x=\"435.041977\" xlink:href=\"#m60c24b87c4\" y=\"143.1\"/>\r\n     <use style=\"fill:#3f3f3f;stroke:#3f3f3f;stroke-linejoin:miter;\" x=\"426.539079\" xlink:href=\"#m60c24b87c4\" y=\"143.1\"/>\r\n     <use style=\"fill:#3f3f3f;stroke:#3f3f3f;stroke-linejoin:miter;\" x=\"457.432125\" xlink:href=\"#m60c24b87c4\" y=\"143.1\"/>\r\n     <use style=\"fill:#3f3f3f;stroke:#3f3f3f;stroke-linejoin:miter;\" x=\"488.042182\" xlink:href=\"#m60c24b87c4\" y=\"143.1\"/>\r\n     <use style=\"fill:#3f3f3f;stroke:#3f3f3f;stroke-linejoin:miter;\" x=\"427.34277\" xlink:href=\"#m60c24b87c4\" y=\"143.1\"/>\r\n     <use style=\"fill:#3f3f3f;stroke:#3f3f3f;stroke-linejoin:miter;\" x=\"544.445809\" xlink:href=\"#m60c24b87c4\" y=\"143.1\"/>\r\n     <use style=\"fill:#3f3f3f;stroke:#3f3f3f;stroke-linejoin:miter;\" x=\"428.893554\" xlink:href=\"#m60c24b87c4\" y=\"143.1\"/>\r\n     <use style=\"fill:#3f3f3f;stroke:#3f3f3f;stroke-linejoin:miter;\" x=\"430.73676\" xlink:href=\"#m60c24b87c4\" y=\"143.1\"/>\r\n     <use style=\"fill:#3f3f3f;stroke:#3f3f3f;stroke-linejoin:miter;\" x=\"447.616154\" xlink:href=\"#m60c24b87c4\" y=\"143.1\"/>\r\n     <use style=\"fill:#3f3f3f;stroke:#3f3f3f;stroke-linejoin:miter;\" x=\"436.700297\" xlink:href=\"#m60c24b87c4\" y=\"143.1\"/>\r\n     <use style=\"fill:#3f3f3f;stroke:#3f3f3f;stroke-linejoin:miter;\" x=\"485.127387\" xlink:href=\"#m60c24b87c4\" y=\"143.1\"/>\r\n     <use style=\"fill:#3f3f3f;stroke:#3f3f3f;stroke-linejoin:miter;\" x=\"429.64442\" xlink:href=\"#m60c24b87c4\" y=\"143.1\"/>\r\n     <use style=\"fill:#3f3f3f;stroke:#3f3f3f;stroke-linejoin:miter;\" x=\"437.809617\" xlink:href=\"#m60c24b87c4\" y=\"143.1\"/>\r\n     <use style=\"fill:#3f3f3f;stroke:#3f3f3f;stroke-linejoin:miter;\" x=\"511.190742\" xlink:href=\"#m60c24b87c4\" y=\"143.1\"/>\r\n     <use style=\"fill:#3f3f3f;stroke:#3f3f3f;stroke-linejoin:miter;\" x=\"500.644658\" xlink:href=\"#m60c24b87c4\" y=\"143.1\"/>\r\n     <use style=\"fill:#3f3f3f;stroke:#3f3f3f;stroke-linejoin:miter;\" x=\"431.159358\" xlink:href=\"#m60c24b87c4\" y=\"143.1\"/>\r\n     <use style=\"fill:#3f3f3f;stroke:#3f3f3f;stroke-linejoin:miter;\" x=\"421.881068\" xlink:href=\"#m60c24b87c4\" y=\"143.1\"/>\r\n     <use style=\"fill:#3f3f3f;stroke:#3f3f3f;stroke-linejoin:miter;\" x=\"494.403791\" xlink:href=\"#m60c24b87c4\" y=\"143.1\"/>\r\n     <use style=\"fill:#3f3f3f;stroke:#3f3f3f;stroke-linejoin:miter;\" x=\"440.213143\" xlink:href=\"#m60c24b87c4\" y=\"143.1\"/>\r\n     <use style=\"fill:#3f3f3f;stroke:#3f3f3f;stroke-linejoin:miter;\" x=\"425.458058\" xlink:href=\"#m60c24b87c4\" y=\"143.1\"/>\r\n     <use style=\"fill:#3f3f3f;stroke:#3f3f3f;stroke-linejoin:miter;\" x=\"450.904495\" xlink:href=\"#m60c24b87c4\" y=\"143.1\"/>\r\n    </g>\r\n   </g>\r\n   <g id=\"line2d_13\">\r\n    <path clip-path=\"url(#p3b1fafd262)\" d=\"M 315.611819 34.38 \r\nL 315.611819 251.82 \r\n\" style=\"fill:none;stroke:#3f3f3f;stroke-linecap:square;stroke-width:1.5;\"/>\r\n   </g>\r\n   <g id=\"patch_4\">\r\n    <path d=\"M 10.7 279 \r\nL 10.7 7.2 \r\n\" style=\"fill:none;stroke:#000000;stroke-linecap:square;stroke-linejoin:miter;stroke-width:0.8;\"/>\r\n   </g>\r\n   <g id=\"patch_5\">\r\n    <path d=\"M 1015.1 279 \r\nL 1015.1 7.2 \r\n\" style=\"fill:none;stroke:#000000;stroke-linecap:square;stroke-linejoin:miter;stroke-width:0.8;\"/>\r\n   </g>\r\n   <g id=\"patch_6\">\r\n    <path d=\"M 10.7 279 \r\nL 1015.1 279 \r\n\" style=\"fill:none;stroke:#000000;stroke-linecap:square;stroke-linejoin:miter;stroke-width:0.8;\"/>\r\n   </g>\r\n   <g id=\"patch_7\">\r\n    <path d=\"M 10.7 7.2 \r\nL 1015.1 7.2 \r\n\" style=\"fill:none;stroke:#000000;stroke-linecap:square;stroke-linejoin:miter;stroke-width:0.8;\"/>\r\n   </g>\r\n  </g>\r\n </g>\r\n <defs>\r\n  <clipPath id=\"p3b1fafd262\">\r\n   <rect height=\"271.8\" width=\"1004.4\" x=\"10.7\" y=\"7.2\"/>\r\n  </clipPath>\r\n </defs>\r\n</svg>\r\n",
      "image/png": "[encoded data removed]"
     },
     "metadata": {
      "needs_background": "light"
     }
    }
   ],
   "source": [
    "st = 'Current Loan Expenses (USD)'\n",
    "plt.figure(figsize=(18,5))\n",
    "sns.boxplot(st,data=train)\n",
    "train[st].describe()"
   ]
  },
  {
   "cell_type": "code",
   "execution_count": 1054,
   "metadata": {},
   "outputs": [
    {
     "output_type": "execute_result",
     "data": {
      "text/plain": [
       "count    19917.000000\n",
       "mean       408.462359\n",
       "std        215.846532\n",
       "min         41.370000\n",
       "25%        250.890000\n",
       "50%        374.000000\n",
       "75%        519.570000\n",
       "max       3305.970000\n",
       "Name: Current Loan Expenses (USD), dtype: float64"
      ]
     },
     "metadata": {},
     "execution_count": 1054
    },
    {
     "output_type": "display_data",
     "data": {
      "text/plain": "<Figure size 1296x360 with 1 Axes>",
      "image/svg+xml": "<?xml version=\"1.0\" encoding=\"utf-8\" standalone=\"no\"?>\r\n<!DOCTYPE svg PUBLIC \"-//W3C//DTD SVG 1.1//EN\"\r\n  \"http://www.w3.org/Graphics/SVG/1.1/DTD/svg11.dtd\">\r\n<svg height=\"316.55625pt\" version=\"1.1\" viewBox=\"0 0 1022.3 316.55625\" width=\"1022.3pt\" xmlns=\"http://www.w3.org/2000/svg\" xmlns:xlink=\"http://www.w3.org/1999/xlink\">\r\n <metadata>\r\n  <rdf:RDF xmlns:cc=\"http://creativecommons.org/ns#\" xmlns:dc=\"http://purl.org/dc/elements/1.1/\" xmlns:rdf=\"http://www.w3.org/1999/02/22-rdf-syntax-ns#\">\r\n   <cc:Work>\r\n    <dc:type rdf:resource=\"http://purl.org/dc/dcmitype/StillImage\"/>\r\n    <dc:date>2021-06-27T12:36:38.200279</dc:date>\r\n    <dc:format>image/svg+xml</dc:format>\r\n    <dc:creator>\r\n     <cc:Agent>\r\n      <dc:title>Matplotlib v3.4.1, https://matplotlib.org/</dc:title>\r\n     </cc:Agent>\r\n    </dc:creator>\r\n   </cc:Work>\r\n  </rdf:RDF>\r\n </metadata>\r\n <defs>\r\n  <style type=\"text/css\">*{stroke-linecap:butt;stroke-linejoin:round;}</style>\r\n </defs>\r\n <g id=\"figure_1\">\r\n  <g id=\"patch_1\">\r\n   <path d=\"M 0 316.55625 \r\nL 1022.3 316.55625 \r\nL 1022.3 0 \r\nL 0 0 \r\nz\r\n\" style=\"fill:none;\"/>\r\n  </g>\r\n  <g id=\"axes_1\">\r\n   <g id=\"patch_2\">\r\n    <path d=\"M 10.7 279 \r\nL 1015.1 279 \r\nL 1015.1 7.2 \r\nL 10.7 7.2 \r\nz\r\n\" style=\"fill:#ffffff;\"/>\r\n   </g>\r\n   <g id=\"patch_3\">\r\n    <path clip-path=\"url(#p933f7a6998)\" d=\"M 114.956153 34.38 \r\nL 114.956153 251.82 \r\nL 190.104491 251.82 \r\nL 190.104491 34.38 \r\nL 114.956153 34.38 \r\nz\r\n\" style=\"fill:#3274a1;stroke:#3f3f3f;stroke-linejoin:miter;stroke-width:1.5;\"/>\r\n   </g>\r\n   <g id=\"matplotlib.axis_1\">\r\n    <g id=\"xtick_1\">\r\n     <g id=\"line2d_1\">\r\n      <defs>\r\n       <path d=\"M 0 0 \r\nL 0 3.5 \r\n\" id=\"ma691cdede7\" style=\"stroke:#000000;stroke-width:0.8;\"/>\r\n      </defs>\r\n      <g>\r\n       <use style=\"stroke:#000000;stroke-width:0.8;\" x=\"44.783581\" xlink:href=\"#ma691cdede7\" y=\"279\"/>\r\n      </g>\r\n     </g>\r\n     <g id=\"text_1\">\r\n      <!-- 0 -->\r\n      <g transform=\"translate(41.602331 293.598437)scale(0.1 -0.1)\">\r\n       <defs>\r\n        <path d=\"M 2034 4250 \r\nQ 1547 4250 1301 3770 \r\nQ 1056 3291 1056 2328 \r\nQ 1056 1369 1301 889 \r\nQ 1547 409 2034 409 \r\nQ 2525 409 2770 889 \r\nQ 3016 1369 3016 2328 \r\nQ 3016 3291 2770 3770 \r\nQ 2525 4250 2034 4250 \r\nz\r\nM 2034 4750 \r\nQ 2819 4750 3233 4129 \r\nQ 3647 3509 3647 2328 \r\nQ 3647 1150 3233 529 \r\nQ 2819 -91 2034 -91 \r\nQ 1250 -91 836 529 \r\nQ 422 1150 422 2328 \r\nQ 422 3509 836 4129 \r\nQ 1250 4750 2034 4750 \r\nz\r\n\" id=\"DejaVuSans-30\" transform=\"scale(0.015625)\"/>\r\n       </defs>\r\n       <use xlink:href=\"#DejaVuSans-30\"/>\r\n      </g>\r\n     </g>\r\n    </g>\r\n    <g id=\"xtick_2\">\r\n     <g id=\"line2d_2\">\r\n      <g>\r\n       <use style=\"stroke:#000000;stroke-width:0.8;\" x=\"184.630868\" xlink:href=\"#ma691cdede7\" y=\"279\"/>\r\n      </g>\r\n     </g>\r\n     <g id=\"text_2\">\r\n      <!-- 500 -->\r\n      <g transform=\"translate(175.087118 293.598437)scale(0.1 -0.1)\">\r\n       <defs>\r\n        <path d=\"M 691 4666 \r\nL 3169 4666 \r\nL 3169 4134 \r\nL 1269 4134 \r\nL 1269 2991 \r\nQ 1406 3038 1543 3061 \r\nQ 1681 3084 1819 3084 \r\nQ 2600 3084 3056 2656 \r\nQ 3513 2228 3513 1497 \r\nQ 3513 744 3044 326 \r\nQ 2575 -91 1722 -91 \r\nQ 1428 -91 1123 -41 \r\nQ 819 9 494 109 \r\nL 494 744 \r\nQ 775 591 1075 516 \r\nQ 1375 441 1709 441 \r\nQ 2250 441 2565 725 \r\nQ 2881 1009 2881 1497 \r\nQ 2881 1984 2565 2268 \r\nQ 2250 2553 1709 2553 \r\nQ 1456 2553 1204 2497 \r\nQ 953 2441 691 2322 \r\nL 691 4666 \r\nz\r\n\" id=\"DejaVuSans-35\" transform=\"scale(0.015625)\"/>\r\n       </defs>\r\n       <use xlink:href=\"#DejaVuSans-35\"/>\r\n       <use x=\"63.623047\" xlink:href=\"#DejaVuSans-30\"/>\r\n       <use x=\"127.246094\" xlink:href=\"#DejaVuSans-30\"/>\r\n      </g>\r\n     </g>\r\n    </g>\r\n    <g id=\"xtick_3\">\r\n     <g id=\"line2d_3\">\r\n      <g>\r\n       <use style=\"stroke:#000000;stroke-width:0.8;\" x=\"324.478156\" xlink:href=\"#ma691cdede7\" y=\"279\"/>\r\n      </g>\r\n     </g>\r\n     <g id=\"text_3\">\r\n      <!-- 1000 -->\r\n      <g transform=\"translate(311.753156 293.598437)scale(0.1 -0.1)\">\r\n       <defs>\r\n        <path d=\"M 794 531 \r\nL 1825 531 \r\nL 1825 4091 \r\nL 703 3866 \r\nL 703 4441 \r\nL 1819 4666 \r\nL 2450 4666 \r\nL 2450 531 \r\nL 3481 531 \r\nL 3481 0 \r\nL 794 0 \r\nL 794 531 \r\nz\r\n\" id=\"DejaVuSans-31\" transform=\"scale(0.015625)\"/>\r\n       </defs>\r\n       <use xlink:href=\"#DejaVuSans-31\"/>\r\n       <use x=\"63.623047\" xlink:href=\"#DejaVuSans-30\"/>\r\n       <use x=\"127.246094\" xlink:href=\"#DejaVuSans-30\"/>\r\n       <use x=\"190.869141\" xlink:href=\"#DejaVuSans-30\"/>\r\n      </g>\r\n     </g>\r\n    </g>\r\n    <g id=\"xtick_4\">\r\n     <g id=\"line2d_4\">\r\n      <g>\r\n       <use style=\"stroke:#000000;stroke-width:0.8;\" x=\"464.325443\" xlink:href=\"#ma691cdede7\" y=\"279\"/>\r\n      </g>\r\n     </g>\r\n     <g id=\"text_4\">\r\n      <!-- 1500 -->\r\n      <g transform=\"translate(451.600443 293.598437)scale(0.1 -0.1)\">\r\n       <use xlink:href=\"#DejaVuSans-31\"/>\r\n       <use x=\"63.623047\" xlink:href=\"#DejaVuSans-35\"/>\r\n       <use x=\"127.246094\" xlink:href=\"#DejaVuSans-30\"/>\r\n       <use x=\"190.869141\" xlink:href=\"#DejaVuSans-30\"/>\r\n      </g>\r\n     </g>\r\n    </g>\r\n    <g id=\"xtick_5\">\r\n     <g id=\"line2d_5\">\r\n      <g>\r\n       <use style=\"stroke:#000000;stroke-width:0.8;\" x=\"604.172731\" xlink:href=\"#ma691cdede7\" y=\"279\"/>\r\n      </g>\r\n     </g>\r\n     <g id=\"text_5\">\r\n      <!-- 2000 -->\r\n      <g transform=\"translate(591.447731 293.598437)scale(0.1 -0.1)\">\r\n       <defs>\r\n        <path d=\"M 1228 531 \r\nL 3431 531 \r\nL 3431 0 \r\nL 469 0 \r\nL 469 531 \r\nQ 828 903 1448 1529 \r\nQ 2069 2156 2228 2338 \r\nQ 2531 2678 2651 2914 \r\nQ 2772 3150 2772 3378 \r\nQ 2772 3750 2511 3984 \r\nQ 2250 4219 1831 4219 \r\nQ 1534 4219 1204 4116 \r\nQ 875 4013 500 3803 \r\nL 500 4441 \r\nQ 881 4594 1212 4672 \r\nQ 1544 4750 1819 4750 \r\nQ 2544 4750 2975 4387 \r\nQ 3406 4025 3406 3419 \r\nQ 3406 3131 3298 2873 \r\nQ 3191 2616 2906 2266 \r\nQ 2828 2175 2409 1742 \r\nQ 1991 1309 1228 531 \r\nz\r\n\" id=\"DejaVuSans-32\" transform=\"scale(0.015625)\"/>\r\n       </defs>\r\n       <use xlink:href=\"#DejaVuSans-32\"/>\r\n       <use x=\"63.623047\" xlink:href=\"#DejaVuSans-30\"/>\r\n       <use x=\"127.246094\" xlink:href=\"#DejaVuSans-30\"/>\r\n       <use x=\"190.869141\" xlink:href=\"#DejaVuSans-30\"/>\r\n      </g>\r\n     </g>\r\n    </g>\r\n    <g id=\"xtick_6\">\r\n     <g id=\"line2d_6\">\r\n      <g>\r\n       <use style=\"stroke:#000000;stroke-width:0.8;\" x=\"744.020018\" xlink:href=\"#ma691cdede7\" y=\"279\"/>\r\n      </g>\r\n     </g>\r\n     <g id=\"text_6\">\r\n      <!-- 2500 -->\r\n      <g transform=\"translate(731.295018 293.598437)scale(0.1 -0.1)\">\r\n       <use xlink:href=\"#DejaVuSans-32\"/>\r\n       <use x=\"63.623047\" xlink:href=\"#DejaVuSans-35\"/>\r\n       <use x=\"127.246094\" xlink:href=\"#DejaVuSans-30\"/>\r\n       <use x=\"190.869141\" xlink:href=\"#DejaVuSans-30\"/>\r\n      </g>\r\n     </g>\r\n    </g>\r\n    <g id=\"xtick_7\">\r\n     <g id=\"line2d_7\">\r\n      <g>\r\n       <use style=\"stroke:#000000;stroke-width:0.8;\" x=\"883.867305\" xlink:href=\"#ma691cdede7\" y=\"279\"/>\r\n      </g>\r\n     </g>\r\n     <g id=\"text_7\">\r\n      <!-- 3000 -->\r\n      <g transform=\"translate(871.142305 293.598437)scale(0.1 -0.1)\">\r\n       <defs>\r\n        <path d=\"M 2597 2516 \r\nQ 3050 2419 3304 2112 \r\nQ 3559 1806 3559 1356 \r\nQ 3559 666 3084 287 \r\nQ 2609 -91 1734 -91 \r\nQ 1441 -91 1130 -33 \r\nQ 819 25 488 141 \r\nL 488 750 \r\nQ 750 597 1062 519 \r\nQ 1375 441 1716 441 \r\nQ 2309 441 2620 675 \r\nQ 2931 909 2931 1356 \r\nQ 2931 1769 2642 2001 \r\nQ 2353 2234 1838 2234 \r\nL 1294 2234 \r\nL 1294 2753 \r\nL 1863 2753 \r\nQ 2328 2753 2575 2939 \r\nQ 2822 3125 2822 3475 \r\nQ 2822 3834 2567 4026 \r\nQ 2313 4219 1838 4219 \r\nQ 1578 4219 1281 4162 \r\nQ 984 4106 628 3988 \r\nL 628 4550 \r\nQ 988 4650 1302 4700 \r\nQ 1616 4750 1894 4750 \r\nQ 2613 4750 3031 4423 \r\nQ 3450 4097 3450 3541 \r\nQ 3450 3153 3228 2886 \r\nQ 3006 2619 2597 2516 \r\nz\r\n\" id=\"DejaVuSans-33\" transform=\"scale(0.015625)\"/>\r\n       </defs>\r\n       <use xlink:href=\"#DejaVuSans-33\"/>\r\n       <use x=\"63.623047\" xlink:href=\"#DejaVuSans-30\"/>\r\n       <use x=\"127.246094\" xlink:href=\"#DejaVuSans-30\"/>\r\n       <use x=\"190.869141\" xlink:href=\"#DejaVuSans-30\"/>\r\n      </g>\r\n     </g>\r\n    </g>\r\n    <g id=\"text_8\">\r\n     <!-- Current Loan Expenses (USD) -->\r\n     <g transform=\"translate(438.95625 307.276562)scale(0.1 -0.1)\">\r\n      <defs>\r\n       <path d=\"M 4122 4306 \r\nL 4122 3641 \r\nQ 3803 3938 3442 4084 \r\nQ 3081 4231 2675 4231 \r\nQ 1875 4231 1450 3742 \r\nQ 1025 3253 1025 2328 \r\nQ 1025 1406 1450 917 \r\nQ 1875 428 2675 428 \r\nQ 3081 428 3442 575 \r\nQ 3803 722 4122 1019 \r\nL 4122 359 \r\nQ 3791 134 3420 21 \r\nQ 3050 -91 2638 -91 \r\nQ 1578 -91 968 557 \r\nQ 359 1206 359 2328 \r\nQ 359 3453 968 4101 \r\nQ 1578 4750 2638 4750 \r\nQ 3056 4750 3426 4639 \r\nQ 3797 4528 4122 4306 \r\nz\r\n\" id=\"DejaVuSans-43\" transform=\"scale(0.015625)\"/>\r\n       <path d=\"M 544 1381 \r\nL 544 3500 \r\nL 1119 3500 \r\nL 1119 1403 \r\nQ 1119 906 1312 657 \r\nQ 1506 409 1894 409 \r\nQ 2359 409 2629 706 \r\nQ 2900 1003 2900 1516 \r\nL 2900 3500 \r\nL 3475 3500 \r\nL 3475 0 \r\nL 2900 0 \r\nL 2900 538 \r\nQ 2691 219 2414 64 \r\nQ 2138 -91 1772 -91 \r\nQ 1169 -91 856 284 \r\nQ 544 659 544 1381 \r\nz\r\nM 1991 3584 \r\nL 1991 3584 \r\nz\r\n\" id=\"DejaVuSans-75\" transform=\"scale(0.015625)\"/>\r\n       <path d=\"M 2631 2963 \r\nQ 2534 3019 2420 3045 \r\nQ 2306 3072 2169 3072 \r\nQ 1681 3072 1420 2755 \r\nQ 1159 2438 1159 1844 \r\nL 1159 0 \r\nL 581 0 \r\nL 581 3500 \r\nL 1159 3500 \r\nL 1159 2956 \r\nQ 1341 3275 1631 3429 \r\nQ 1922 3584 2338 3584 \r\nQ 2397 3584 2469 3576 \r\nQ 2541 3569 2628 3553 \r\nL 2631 2963 \r\nz\r\n\" id=\"DejaVuSans-72\" transform=\"scale(0.015625)\"/>\r\n       <path d=\"M 3597 1894 \r\nL 3597 1613 \r\nL 953 1613 \r\nQ 991 1019 1311 708 \r\nQ 1631 397 2203 397 \r\nQ 2534 397 2845 478 \r\nQ 3156 559 3463 722 \r\nL 3463 178 \r\nQ 3153 47 2828 -22 \r\nQ 2503 -91 2169 -91 \r\nQ 1331 -91 842 396 \r\nQ 353 884 353 1716 \r\nQ 353 2575 817 3079 \r\nQ 1281 3584 2069 3584 \r\nQ 2775 3584 3186 3129 \r\nQ 3597 2675 3597 1894 \r\nz\r\nM 3022 2063 \r\nQ 3016 2534 2758 2815 \r\nQ 2500 3097 2075 3097 \r\nQ 1594 3097 1305 2825 \r\nQ 1016 2553 972 2059 \r\nL 3022 2063 \r\nz\r\n\" id=\"DejaVuSans-65\" transform=\"scale(0.015625)\"/>\r\n       <path d=\"M 3513 2113 \r\nL 3513 0 \r\nL 2938 0 \r\nL 2938 2094 \r\nQ 2938 2591 2744 2837 \r\nQ 2550 3084 2163 3084 \r\nQ 1697 3084 1428 2787 \r\nQ 1159 2491 1159 1978 \r\nL 1159 0 \r\nL 581 0 \r\nL 581 3500 \r\nL 1159 3500 \r\nL 1159 2956 \r\nQ 1366 3272 1645 3428 \r\nQ 1925 3584 2291 3584 \r\nQ 2894 3584 3203 3211 \r\nQ 3513 2838 3513 2113 \r\nz\r\n\" id=\"DejaVuSans-6e\" transform=\"scale(0.015625)\"/>\r\n       <path d=\"M 1172 4494 \r\nL 1172 3500 \r\nL 2356 3500 \r\nL 2356 3053 \r\nL 1172 3053 \r\nL 1172 1153 \r\nQ 1172 725 1289 603 \r\nQ 1406 481 1766 481 \r\nL 2356 481 \r\nL 2356 0 \r\nL 1766 0 \r\nQ 1100 0 847 248 \r\nQ 594 497 594 1153 \r\nL 594 3053 \r\nL 172 3053 \r\nL 172 3500 \r\nL 594 3500 \r\nL 594 4494 \r\nL 1172 4494 \r\nz\r\n\" id=\"DejaVuSans-74\" transform=\"scale(0.015625)\"/>\r\n       <path id=\"DejaVuSans-20\" transform=\"scale(0.015625)\"/>\r\n       <path d=\"M 628 4666 \r\nL 1259 4666 \r\nL 1259 531 \r\nL 3531 531 \r\nL 3531 0 \r\nL 628 0 \r\nL 628 4666 \r\nz\r\n\" id=\"DejaVuSans-4c\" transform=\"scale(0.015625)\"/>\r\n       <path d=\"M 1959 3097 \r\nQ 1497 3097 1228 2736 \r\nQ 959 2375 959 1747 \r\nQ 959 1119 1226 758 \r\nQ 1494 397 1959 397 \r\nQ 2419 397 2687 759 \r\nQ 2956 1122 2956 1747 \r\nQ 2956 2369 2687 2733 \r\nQ 2419 3097 1959 3097 \r\nz\r\nM 1959 3584 \r\nQ 2709 3584 3137 3096 \r\nQ 3566 2609 3566 1747 \r\nQ 3566 888 3137 398 \r\nQ 2709 -91 1959 -91 \r\nQ 1206 -91 779 398 \r\nQ 353 888 353 1747 \r\nQ 353 2609 779 3096 \r\nQ 1206 3584 1959 3584 \r\nz\r\n\" id=\"DejaVuSans-6f\" transform=\"scale(0.015625)\"/>\r\n       <path d=\"M 2194 1759 \r\nQ 1497 1759 1228 1600 \r\nQ 959 1441 959 1056 \r\nQ 959 750 1161 570 \r\nQ 1363 391 1709 391 \r\nQ 2188 391 2477 730 \r\nQ 2766 1069 2766 1631 \r\nL 2766 1759 \r\nL 2194 1759 \r\nz\r\nM 3341 1997 \r\nL 3341 0 \r\nL 2766 0 \r\nL 2766 531 \r\nQ 2569 213 2275 61 \r\nQ 1981 -91 1556 -91 \r\nQ 1019 -91 701 211 \r\nQ 384 513 384 1019 \r\nQ 384 1609 779 1909 \r\nQ 1175 2209 1959 2209 \r\nL 2766 2209 \r\nL 2766 2266 \r\nQ 2766 2663 2505 2880 \r\nQ 2244 3097 1772 3097 \r\nQ 1472 3097 1187 3025 \r\nQ 903 2953 641 2809 \r\nL 641 3341 \r\nQ 956 3463 1253 3523 \r\nQ 1550 3584 1831 3584 \r\nQ 2591 3584 2966 3190 \r\nQ 3341 2797 3341 1997 \r\nz\r\n\" id=\"DejaVuSans-61\" transform=\"scale(0.015625)\"/>\r\n       <path d=\"M 628 4666 \r\nL 3578 4666 \r\nL 3578 4134 \r\nL 1259 4134 \r\nL 1259 2753 \r\nL 3481 2753 \r\nL 3481 2222 \r\nL 1259 2222 \r\nL 1259 531 \r\nL 3634 531 \r\nL 3634 0 \r\nL 628 0 \r\nL 628 4666 \r\nz\r\n\" id=\"DejaVuSans-45\" transform=\"scale(0.015625)\"/>\r\n       <path d=\"M 3513 3500 \r\nL 2247 1797 \r\nL 3578 0 \r\nL 2900 0 \r\nL 1881 1375 \r\nL 863 0 \r\nL 184 0 \r\nL 1544 1831 \r\nL 300 3500 \r\nL 978 3500 \r\nL 1906 2253 \r\nL 2834 3500 \r\nL 3513 3500 \r\nz\r\n\" id=\"DejaVuSans-78\" transform=\"scale(0.015625)\"/>\r\n       <path d=\"M 1159 525 \r\nL 1159 -1331 \r\nL 581 -1331 \r\nL 581 3500 \r\nL 1159 3500 \r\nL 1159 2969 \r\nQ 1341 3281 1617 3432 \r\nQ 1894 3584 2278 3584 \r\nQ 2916 3584 3314 3078 \r\nQ 3713 2572 3713 1747 \r\nQ 3713 922 3314 415 \r\nQ 2916 -91 2278 -91 \r\nQ 1894 -91 1617 61 \r\nQ 1341 213 1159 525 \r\nz\r\nM 3116 1747 \r\nQ 3116 2381 2855 2742 \r\nQ 2594 3103 2138 3103 \r\nQ 1681 3103 1420 2742 \r\nQ 1159 2381 1159 1747 \r\nQ 1159 1113 1420 752 \r\nQ 1681 391 2138 391 \r\nQ 2594 391 2855 752 \r\nQ 3116 1113 3116 1747 \r\nz\r\n\" id=\"DejaVuSans-70\" transform=\"scale(0.015625)\"/>\r\n       <path d=\"M 2834 3397 \r\nL 2834 2853 \r\nQ 2591 2978 2328 3040 \r\nQ 2066 3103 1784 3103 \r\nQ 1356 3103 1142 2972 \r\nQ 928 2841 928 2578 \r\nQ 928 2378 1081 2264 \r\nQ 1234 2150 1697 2047 \r\nL 1894 2003 \r\nQ 2506 1872 2764 1633 \r\nQ 3022 1394 3022 966 \r\nQ 3022 478 2636 193 \r\nQ 2250 -91 1575 -91 \r\nQ 1294 -91 989 -36 \r\nQ 684 19 347 128 \r\nL 347 722 \r\nQ 666 556 975 473 \r\nQ 1284 391 1588 391 \r\nQ 1994 391 2212 530 \r\nQ 2431 669 2431 922 \r\nQ 2431 1156 2273 1281 \r\nQ 2116 1406 1581 1522 \r\nL 1381 1569 \r\nQ 847 1681 609 1914 \r\nQ 372 2147 372 2553 \r\nQ 372 3047 722 3315 \r\nQ 1072 3584 1716 3584 \r\nQ 2034 3584 2315 3537 \r\nQ 2597 3491 2834 3397 \r\nz\r\n\" id=\"DejaVuSans-73\" transform=\"scale(0.015625)\"/>\r\n       <path d=\"M 1984 4856 \r\nQ 1566 4138 1362 3434 \r\nQ 1159 2731 1159 2009 \r\nQ 1159 1288 1364 580 \r\nQ 1569 -128 1984 -844 \r\nL 1484 -844 \r\nQ 1016 -109 783 600 \r\nQ 550 1309 550 2009 \r\nQ 550 2706 781 3412 \r\nQ 1013 4119 1484 4856 \r\nL 1984 4856 \r\nz\r\n\" id=\"DejaVuSans-28\" transform=\"scale(0.015625)\"/>\r\n       <path d=\"M 556 4666 \r\nL 1191 4666 \r\nL 1191 1831 \r\nQ 1191 1081 1462 751 \r\nQ 1734 422 2344 422 \r\nQ 2950 422 3222 751 \r\nQ 3494 1081 3494 1831 \r\nL 3494 4666 \r\nL 4128 4666 \r\nL 4128 1753 \r\nQ 4128 841 3676 375 \r\nQ 3225 -91 2344 -91 \r\nQ 1459 -91 1007 375 \r\nQ 556 841 556 1753 \r\nL 556 4666 \r\nz\r\n\" id=\"DejaVuSans-55\" transform=\"scale(0.015625)\"/>\r\n       <path d=\"M 3425 4513 \r\nL 3425 3897 \r\nQ 3066 4069 2747 4153 \r\nQ 2428 4238 2131 4238 \r\nQ 1616 4238 1336 4038 \r\nQ 1056 3838 1056 3469 \r\nQ 1056 3159 1242 3001 \r\nQ 1428 2844 1947 2747 \r\nL 2328 2669 \r\nQ 3034 2534 3370 2195 \r\nQ 3706 1856 3706 1288 \r\nQ 3706 609 3251 259 \r\nQ 2797 -91 1919 -91 \r\nQ 1588 -91 1214 -16 \r\nQ 841 59 441 206 \r\nL 441 856 \r\nQ 825 641 1194 531 \r\nQ 1563 422 1919 422 \r\nQ 2459 422 2753 634 \r\nQ 3047 847 3047 1241 \r\nQ 3047 1584 2836 1778 \r\nQ 2625 1972 2144 2069 \r\nL 1759 2144 \r\nQ 1053 2284 737 2584 \r\nQ 422 2884 422 3419 \r\nQ 422 4038 858 4394 \r\nQ 1294 4750 2059 4750 \r\nQ 2388 4750 2728 4690 \r\nQ 3069 4631 3425 4513 \r\nz\r\n\" id=\"DejaVuSans-53\" transform=\"scale(0.015625)\"/>\r\n       <path d=\"M 1259 4147 \r\nL 1259 519 \r\nL 2022 519 \r\nQ 2988 519 3436 956 \r\nQ 3884 1394 3884 2338 \r\nQ 3884 3275 3436 3711 \r\nQ 2988 4147 2022 4147 \r\nL 1259 4147 \r\nz\r\nM 628 4666 \r\nL 1925 4666 \r\nQ 3281 4666 3915 4102 \r\nQ 4550 3538 4550 2338 \r\nQ 4550 1131 3912 565 \r\nQ 3275 0 1925 0 \r\nL 628 0 \r\nL 628 4666 \r\nz\r\n\" id=\"DejaVuSans-44\" transform=\"scale(0.015625)\"/>\r\n       <path d=\"M 513 4856 \r\nL 1013 4856 \r\nQ 1481 4119 1714 3412 \r\nQ 1947 2706 1947 2009 \r\nQ 1947 1309 1714 600 \r\nQ 1481 -109 1013 -844 \r\nL 513 -844 \r\nQ 928 -128 1133 580 \r\nQ 1338 1288 1338 2009 \r\nQ 1338 2731 1133 3434 \r\nQ 928 4138 513 4856 \r\nz\r\n\" id=\"DejaVuSans-29\" transform=\"scale(0.015625)\"/>\r\n      </defs>\r\n      <use xlink:href=\"#DejaVuSans-43\"/>\r\n      <use x=\"69.824219\" xlink:href=\"#DejaVuSans-75\"/>\r\n      <use x=\"133.203125\" xlink:href=\"#DejaVuSans-72\"/>\r\n      <use x=\"172.566406\" xlink:href=\"#DejaVuSans-72\"/>\r\n      <use x=\"211.429688\" xlink:href=\"#DejaVuSans-65\"/>\r\n      <use x=\"272.953125\" xlink:href=\"#DejaVuSans-6e\"/>\r\n      <use x=\"336.332031\" xlink:href=\"#DejaVuSans-74\"/>\r\n      <use x=\"375.541016\" xlink:href=\"#DejaVuSans-20\"/>\r\n      <use x=\"407.328125\" xlink:href=\"#DejaVuSans-4c\"/>\r\n      <use x=\"461.291016\" xlink:href=\"#DejaVuSans-6f\"/>\r\n      <use x=\"522.472656\" xlink:href=\"#DejaVuSans-61\"/>\r\n      <use x=\"583.751953\" xlink:href=\"#DejaVuSans-6e\"/>\r\n      <use x=\"647.130859\" xlink:href=\"#DejaVuSans-20\"/>\r\n      <use x=\"678.917969\" xlink:href=\"#DejaVuSans-45\"/>\r\n      <use x=\"742.101562\" xlink:href=\"#DejaVuSans-78\"/>\r\n      <use x=\"801.28125\" xlink:href=\"#DejaVuSans-70\"/>\r\n      <use x=\"864.757812\" xlink:href=\"#DejaVuSans-65\"/>\r\n      <use x=\"926.28125\" xlink:href=\"#DejaVuSans-6e\"/>\r\n      <use x=\"989.660156\" xlink:href=\"#DejaVuSans-73\"/>\r\n      <use x=\"1041.759766\" xlink:href=\"#DejaVuSans-65\"/>\r\n      <use x=\"1103.283203\" xlink:href=\"#DejaVuSans-73\"/>\r\n      <use x=\"1155.382812\" xlink:href=\"#DejaVuSans-20\"/>\r\n      <use x=\"1187.169922\" xlink:href=\"#DejaVuSans-28\"/>\r\n      <use x=\"1226.183594\" xlink:href=\"#DejaVuSans-55\"/>\r\n      <use x=\"1299.376953\" xlink:href=\"#DejaVuSans-53\"/>\r\n      <use x=\"1362.853516\" xlink:href=\"#DejaVuSans-44\"/>\r\n      <use x=\"1439.855469\" xlink:href=\"#DejaVuSans-29\"/>\r\n     </g>\r\n    </g>\r\n   </g>\r\n   <g id=\"matplotlib.axis_2\">\r\n    <g id=\"ytick_1\">\r\n     <g id=\"line2d_8\">\r\n      <defs>\r\n       <path d=\"M 0 0 \r\nL -3.5 0 \r\n\" id=\"mb8f125e125\" style=\"stroke:#000000;stroke-width:0.8;\"/>\r\n      </defs>\r\n      <g>\r\n       <use style=\"stroke:#000000;stroke-width:0.8;\" x=\"10.7\" xlink:href=\"#mb8f125e125\" y=\"143.1\"/>\r\n      </g>\r\n     </g>\r\n    </g>\r\n   </g>\r\n   <g id=\"line2d_9\">\r\n    <path clip-path=\"url(#p933f7a6998)\" d=\"M 114.956153 143.1 \r\nL 56.354545 143.1 \r\n\" style=\"fill:none;stroke:#3f3f3f;stroke-linecap:square;stroke-width:1.5;\"/>\r\n   </g>\r\n   <g id=\"line2d_10\">\r\n    <path clip-path=\"url(#p933f7a6998)\" d=\"M 190.104491 143.1 \r\nL 302.625619 143.1 \r\n\" style=\"fill:none;stroke:#3f3f3f;stroke-linecap:square;stroke-width:1.5;\"/>\r\n   </g>\r\n   <g id=\"line2d_11\">\r\n    <path clip-path=\"url(#p933f7a6998)\" d=\"M 56.354545 88.74 \r\nL 56.354545 197.46 \r\n\" style=\"fill:none;stroke:#3f3f3f;stroke-linecap:square;stroke-width:1.5;\"/>\r\n   </g>\r\n   <g id=\"line2d_12\">\r\n    <path clip-path=\"url(#p933f7a6998)\" d=\"M 302.625619 88.74 \r\nL 302.625619 197.46 \r\n\" style=\"fill:none;stroke:#3f3f3f;stroke-linecap:square;stroke-width:1.5;\"/>\r\n   </g>\r\n   <g id=\"line2d_13\">\r\n    <defs>\r\n     <path d=\"M 0 3.535534 \r\nL 2.12132 0 \r\nL 0 -3.535534 \r\nL -2.12132 0 \r\nz\r\n\" id=\"mfba9b0726a\" style=\"stroke:#3f3f3f;stroke-linejoin:miter;\"/>\r\n    </defs>\r\n    <g clip-path=\"url(#p933f7a6998)\">\r\n     <use style=\"fill:#3f3f3f;stroke:#3f3f3f;stroke-linejoin:miter;\" x=\"513.361496\" xlink:href=\"#mfba9b0726a\" y=\"143.1\"/>\r\n     <use style=\"fill:#3f3f3f;stroke:#3f3f3f;stroke-linejoin:miter;\" x=\"307.676903\" xlink:href=\"#mfba9b0726a\" y=\"143.1\"/>\r\n     <use style=\"fill:#3f3f3f;stroke:#3f3f3f;stroke-linejoin:miter;\" x=\"314.020376\" xlink:href=\"#mfba9b0726a\" y=\"143.1\"/>\r\n     <use style=\"fill:#3f3f3f;stroke:#3f3f3f;stroke-linejoin:miter;\" x=\"304.516354\" xlink:href=\"#mfba9b0726a\" y=\"143.1\"/>\r\n     <use style=\"fill:#3f3f3f;stroke:#3f3f3f;stroke-linejoin:miter;\" x=\"338.051733\" xlink:href=\"#mfba9b0726a\" y=\"143.1\"/>\r\n     <use style=\"fill:#3f3f3f;stroke:#3f3f3f;stroke-linejoin:miter;\" x=\"313.525316\" xlink:href=\"#mfba9b0726a\" y=\"143.1\"/>\r\n     <use style=\"fill:#3f3f3f;stroke:#3f3f3f;stroke-linejoin:miter;\" x=\"352.081213\" xlink:href=\"#mfba9b0726a\" y=\"143.1\"/>\r\n     <use style=\"fill:#3f3f3f;stroke:#3f3f3f;stroke-linejoin:miter;\" x=\"315.922299\" xlink:href=\"#mfba9b0726a\" y=\"143.1\"/>\r\n     <use style=\"fill:#3f3f3f;stroke:#3f3f3f;stroke-linejoin:miter;\" x=\"311.061207\" xlink:href=\"#mfba9b0726a\" y=\"143.1\"/>\r\n     <use style=\"fill:#3f3f3f;stroke:#3f3f3f;stroke-linejoin:miter;\" x=\"308.700585\" xlink:href=\"#mfba9b0726a\" y=\"143.1\"/>\r\n     <use style=\"fill:#3f3f3f;stroke:#3f3f3f;stroke-linejoin:miter;\" x=\"348.512311\" xlink:href=\"#mfba9b0726a\" y=\"143.1\"/>\r\n     <use style=\"fill:#3f3f3f;stroke:#3f3f3f;stroke-linejoin:miter;\" x=\"353.488077\" xlink:href=\"#mfba9b0726a\" y=\"143.1\"/>\r\n     <use style=\"fill:#3f3f3f;stroke:#3f3f3f;stroke-linejoin:miter;\" x=\"313.55888\" xlink:href=\"#mfba9b0726a\" y=\"143.1\"/>\r\n     <use style=\"fill:#3f3f3f;stroke:#3f3f3f;stroke-linejoin:miter;\" x=\"308.222307\" xlink:href=\"#mfba9b0726a\" y=\"143.1\"/>\r\n     <use style=\"fill:#3f3f3f;stroke:#3f3f3f;stroke-linejoin:miter;\" x=\"322.584623\" xlink:href=\"#mfba9b0726a\" y=\"143.1\"/>\r\n     <use style=\"fill:#3f3f3f;stroke:#3f3f3f;stroke-linejoin:miter;\" x=\"308.653037\" xlink:href=\"#mfba9b0726a\" y=\"143.1\"/>\r\n     <use style=\"fill:#3f3f3f;stroke:#3f3f3f;stroke-linejoin:miter;\" x=\"305.724635\" xlink:href=\"#mfba9b0726a\" y=\"143.1\"/>\r\n     <use style=\"fill:#3f3f3f;stroke:#3f3f3f;stroke-linejoin:miter;\" x=\"357.739435\" xlink:href=\"#mfba9b0726a\" y=\"143.1\"/>\r\n     <use style=\"fill:#3f3f3f;stroke:#3f3f3f;stroke-linejoin:miter;\" x=\"348.901086\" xlink:href=\"#mfba9b0726a\" y=\"143.1\"/>\r\n     <use style=\"fill:#3f3f3f;stroke:#3f3f3f;stroke-linejoin:miter;\" x=\"333.330489\" xlink:href=\"#mfba9b0726a\" y=\"143.1\"/>\r\n     <use style=\"fill:#3f3f3f;stroke:#3f3f3f;stroke-linejoin:miter;\" x=\"325.334021\" xlink:href=\"#mfba9b0726a\" y=\"143.1\"/>\r\n     <use style=\"fill:#3f3f3f;stroke:#3f3f3f;stroke-linejoin:miter;\" x=\"337.142726\" xlink:href=\"#mfba9b0726a\" y=\"143.1\"/>\r\n     <use style=\"fill:#3f3f3f;stroke:#3f3f3f;stroke-linejoin:miter;\" x=\"333.282941\" xlink:href=\"#mfba9b0726a\" y=\"143.1\"/>\r\n     <use style=\"fill:#3f3f3f;stroke:#3f3f3f;stroke-linejoin:miter;\" x=\"312.249909\" xlink:href=\"#mfba9b0726a\" y=\"143.1\"/>\r\n     <use style=\"fill:#3f3f3f;stroke:#3f3f3f;stroke-linejoin:miter;\" x=\"310.294844\" xlink:href=\"#mfba9b0726a\" y=\"143.1\"/>\r\n     <use style=\"fill:#3f3f3f;stroke:#3f3f3f;stroke-linejoin:miter;\" x=\"327.023376\" xlink:href=\"#mfba9b0726a\" y=\"143.1\"/>\r\n     <use style=\"fill:#3f3f3f;stroke:#3f3f3f;stroke-linejoin:miter;\" x=\"303.680067\" xlink:href=\"#mfba9b0726a\" y=\"143.1\"/>\r\n     <use style=\"fill:#3f3f3f;stroke:#3f3f3f;stroke-linejoin:miter;\" x=\"334.183558\" xlink:href=\"#mfba9b0726a\" y=\"143.1\"/>\r\n     <use style=\"fill:#3f3f3f;stroke:#3f3f3f;stroke-linejoin:miter;\" x=\"318.070353\" xlink:href=\"#mfba9b0726a\" y=\"143.1\"/>\r\n     <use style=\"fill:#3f3f3f;stroke:#3f3f3f;stroke-linejoin:miter;\" x=\"315.452412\" xlink:href=\"#mfba9b0726a\" y=\"143.1\"/>\r\n     <use style=\"fill:#3f3f3f;stroke:#3f3f3f;stroke-linejoin:miter;\" x=\"336.960925\" xlink:href=\"#mfba9b0726a\" y=\"143.1\"/>\r\n     <use style=\"fill:#3f3f3f;stroke:#3f3f3f;stroke-linejoin:miter;\" x=\"406.722345\" xlink:href=\"#mfba9b0726a\" y=\"143.1\"/>\r\n     <use style=\"fill:#3f3f3f;stroke:#3f3f3f;stroke-linejoin:miter;\" x=\"341.782859\" xlink:href=\"#mfba9b0726a\" y=\"143.1\"/>\r\n     <use style=\"fill:#3f3f3f;stroke:#3f3f3f;stroke-linejoin:miter;\" x=\"320.050591\" xlink:href=\"#mfba9b0726a\" y=\"143.1\"/>\r\n     <use style=\"fill:#3f3f3f;stroke:#3f3f3f;stroke-linejoin:miter;\" x=\"322.28535\" xlink:href=\"#mfba9b0726a\" y=\"143.1\"/>\r\n     <use style=\"fill:#3f3f3f;stroke:#3f3f3f;stroke-linejoin:miter;\" x=\"311.637378\" xlink:href=\"#mfba9b0726a\" y=\"143.1\"/>\r\n     <use style=\"fill:#3f3f3f;stroke:#3f3f3f;stroke-linejoin:miter;\" x=\"341.519946\" xlink:href=\"#mfba9b0726a\" y=\"143.1\"/>\r\n     <use style=\"fill:#3f3f3f;stroke:#3f3f3f;stroke-linejoin:miter;\" x=\"331.453738\" xlink:href=\"#mfba9b0726a\" y=\"143.1\"/>\r\n     <use style=\"fill:#3f3f3f;stroke:#3f3f3f;stroke-linejoin:miter;\" x=\"333.157078\" xlink:href=\"#mfba9b0726a\" y=\"143.1\"/>\r\n     <use style=\"fill:#3f3f3f;stroke:#3f3f3f;stroke-linejoin:miter;\" x=\"327.912805\" xlink:href=\"#mfba9b0726a\" y=\"143.1\"/>\r\n     <use style=\"fill:#3f3f3f;stroke:#3f3f3f;stroke-linejoin:miter;\" x=\"321.960905\" xlink:href=\"#mfba9b0726a\" y=\"143.1\"/>\r\n     <use style=\"fill:#3f3f3f;stroke:#3f3f3f;stroke-linejoin:miter;\" x=\"470.987768\" xlink:href=\"#mfba9b0726a\" y=\"143.1\"/>\r\n     <use style=\"fill:#3f3f3f;stroke:#3f3f3f;stroke-linejoin:miter;\" x=\"319.127599\" xlink:href=\"#mfba9b0726a\" y=\"143.1\"/>\r\n     <use style=\"fill:#3f3f3f;stroke:#3f3f3f;stroke-linejoin:miter;\" x=\"317.790658\" xlink:href=\"#mfba9b0726a\" y=\"143.1\"/>\r\n     <use style=\"fill:#3f3f3f;stroke:#3f3f3f;stroke-linejoin:miter;\" x=\"321.390328\" xlink:href=\"#mfba9b0726a\" y=\"143.1\"/>\r\n     <use style=\"fill:#3f3f3f;stroke:#3f3f3f;stroke-linejoin:miter;\" x=\"352.81681\" xlink:href=\"#mfba9b0726a\" y=\"143.1\"/>\r\n     <use style=\"fill:#3f3f3f;stroke:#3f3f3f;stroke-linejoin:miter;\" x=\"346.277551\" xlink:href=\"#mfba9b0726a\" y=\"143.1\"/>\r\n     <use style=\"fill:#3f3f3f;stroke:#3f3f3f;stroke-linejoin:miter;\" x=\"430.546729\" xlink:href=\"#mfba9b0726a\" y=\"143.1\"/>\r\n     <use style=\"fill:#3f3f3f;stroke:#3f3f3f;stroke-linejoin:miter;\" x=\"357.759013\" xlink:href=\"#mfba9b0726a\" y=\"143.1\"/>\r\n     <use style=\"fill:#3f3f3f;stroke:#3f3f3f;stroke-linejoin:miter;\" x=\"314.314055\" xlink:href=\"#mfba9b0726a\" y=\"143.1\"/>\r\n     <use style=\"fill:#3f3f3f;stroke:#3f3f3f;stroke-linejoin:miter;\" x=\"315.7377\" xlink:href=\"#mfba9b0726a\" y=\"143.1\"/>\r\n     <use style=\"fill:#3f3f3f;stroke:#3f3f3f;stroke-linejoin:miter;\" x=\"321.709179\" xlink:href=\"#mfba9b0726a\" y=\"143.1\"/>\r\n     <use style=\"fill:#3f3f3f;stroke:#3f3f3f;stroke-linejoin:miter;\" x=\"319.040893\" xlink:href=\"#mfba9b0726a\" y=\"143.1\"/>\r\n     <use style=\"fill:#3f3f3f;stroke:#3f3f3f;stroke-linejoin:miter;\" x=\"326.111572\" xlink:href=\"#mfba9b0726a\" y=\"143.1\"/>\r\n     <use style=\"fill:#3f3f3f;stroke:#3f3f3f;stroke-linejoin:miter;\" x=\"329.006411\" xlink:href=\"#mfba9b0726a\" y=\"143.1\"/>\r\n     <use style=\"fill:#3f3f3f;stroke:#3f3f3f;stroke-linejoin:miter;\" x=\"326.620616\" xlink:href=\"#mfba9b0726a\" y=\"143.1\"/>\r\n     <use style=\"fill:#3f3f3f;stroke:#3f3f3f;stroke-linejoin:miter;\" x=\"329.814728\" xlink:href=\"#mfba9b0726a\" y=\"143.1\"/>\r\n     <use style=\"fill:#3f3f3f;stroke:#3f3f3f;stroke-linejoin:miter;\" x=\"304.765282\" xlink:href=\"#mfba9b0726a\" y=\"143.1\"/>\r\n     <use style=\"fill:#3f3f3f;stroke:#3f3f3f;stroke-linejoin:miter;\" x=\"441.597462\" xlink:href=\"#mfba9b0726a\" y=\"143.1\"/>\r\n     <use style=\"fill:#3f3f3f;stroke:#3f3f3f;stroke-linejoin:miter;\" x=\"315.164326\" xlink:href=\"#mfba9b0726a\" y=\"143.1\"/>\r\n     <use style=\"fill:#3f3f3f;stroke:#3f3f3f;stroke-linejoin:miter;\" x=\"378.386488\" xlink:href=\"#mfba9b0726a\" y=\"143.1\"/>\r\n     <use style=\"fill:#3f3f3f;stroke:#3f3f3f;stroke-linejoin:miter;\" x=\"361.023049\" xlink:href=\"#mfba9b0726a\" y=\"143.1\"/>\r\n     <use style=\"fill:#3f3f3f;stroke:#3f3f3f;stroke-linejoin:miter;\" x=\"368.356641\" xlink:href=\"#mfba9b0726a\" y=\"143.1\"/>\r\n     <use style=\"fill:#3f3f3f;stroke:#3f3f3f;stroke-linejoin:miter;\" x=\"323.499225\" xlink:href=\"#mfba9b0726a\" y=\"143.1\"/>\r\n     <use style=\"fill:#3f3f3f;stroke:#3f3f3f;stroke-linejoin:miter;\" x=\"370.230594\" xlink:href=\"#mfba9b0726a\" y=\"143.1\"/>\r\n     <use style=\"fill:#3f3f3f;stroke:#3f3f3f;stroke-linejoin:miter;\" x=\"510.447079\" xlink:href=\"#mfba9b0726a\" y=\"143.1\"/>\r\n     <use style=\"fill:#3f3f3f;stroke:#3f3f3f;stroke-linejoin:miter;\" x=\"480.749109\" xlink:href=\"#mfba9b0726a\" y=\"143.1\"/>\r\n     <use style=\"fill:#3f3f3f;stroke:#3f3f3f;stroke-linejoin:miter;\" x=\"417.501774\" xlink:href=\"#mfba9b0726a\" y=\"143.1\"/>\r\n     <use style=\"fill:#3f3f3f;stroke:#3f3f3f;stroke-linejoin:miter;\" x=\"377.007594\" xlink:href=\"#mfba9b0726a\" y=\"143.1\"/>\r\n     <use style=\"fill:#3f3f3f;stroke:#3f3f3f;stroke-linejoin:miter;\" x=\"368.706259\" xlink:href=\"#mfba9b0726a\" y=\"143.1\"/>\r\n     <use style=\"fill:#3f3f3f;stroke:#3f3f3f;stroke-linejoin:miter;\" x=\"405.704257\" xlink:href=\"#mfba9b0726a\" y=\"143.1\"/>\r\n     <use style=\"fill:#3f3f3f;stroke:#3f3f3f;stroke-linejoin:miter;\" x=\"331.90125\" xlink:href=\"#mfba9b0726a\" y=\"143.1\"/>\r\n     <use style=\"fill:#3f3f3f;stroke:#3f3f3f;stroke-linejoin:miter;\" x=\"307.000042\" xlink:href=\"#mfba9b0726a\" y=\"143.1\"/>\r\n     <use style=\"fill:#3f3f3f;stroke:#3f3f3f;stroke-linejoin:miter;\" x=\"318.33886\" xlink:href=\"#mfba9b0726a\" y=\"143.1\"/>\r\n     <use style=\"fill:#3f3f3f;stroke:#3f3f3f;stroke-linejoin:miter;\" x=\"325.89341\" xlink:href=\"#mfba9b0726a\" y=\"143.1\"/>\r\n     <use style=\"fill:#3f3f3f;stroke:#3f3f3f;stroke-linejoin:miter;\" x=\"536.041929\" xlink:href=\"#mfba9b0726a\" y=\"143.1\"/>\r\n     <use style=\"fill:#3f3f3f;stroke:#3f3f3f;stroke-linejoin:miter;\" x=\"303.719224\" xlink:href=\"#mfba9b0726a\" y=\"143.1\"/>\r\n     <use style=\"fill:#3f3f3f;stroke:#3f3f3f;stroke-linejoin:miter;\" x=\"339.011086\" xlink:href=\"#mfba9b0726a\" y=\"143.1\"/>\r\n     <use style=\"fill:#3f3f3f;stroke:#3f3f3f;stroke-linejoin:miter;\" x=\"319.127599\" xlink:href=\"#mfba9b0726a\" y=\"143.1\"/>\r\n     <use style=\"fill:#3f3f3f;stroke:#3f3f3f;stroke-linejoin:miter;\" x=\"320.036606\" xlink:href=\"#mfba9b0726a\" y=\"143.1\"/>\r\n     <use style=\"fill:#3f3f3f;stroke:#3f3f3f;stroke-linejoin:miter;\" x=\"313.044242\" xlink:href=\"#mfba9b0726a\" y=\"143.1\"/>\r\n     <use style=\"fill:#3f3f3f;stroke:#3f3f3f;stroke-linejoin:miter;\" x=\"346.330693\" xlink:href=\"#mfba9b0726a\" y=\"143.1\"/>\r\n     <use style=\"fill:#3f3f3f;stroke:#3f3f3f;stroke-linejoin:miter;\" x=\"318.819935\" xlink:href=\"#mfba9b0726a\" y=\"143.1\"/>\r\n     <use style=\"fill:#3f3f3f;stroke:#3f3f3f;stroke-linejoin:miter;\" x=\"330.684578\" xlink:href=\"#mfba9b0726a\" y=\"143.1\"/>\r\n     <use style=\"fill:#3f3f3f;stroke:#3f3f3f;stroke-linejoin:miter;\" x=\"434.621879\" xlink:href=\"#mfba9b0726a\" y=\"143.1\"/>\r\n     <use style=\"fill:#3f3f3f;stroke:#3f3f3f;stroke-linejoin:miter;\" x=\"323.95233\" xlink:href=\"#mfba9b0726a\" y=\"143.1\"/>\r\n     <use style=\"fill:#3f3f3f;stroke:#3f3f3f;stroke-linejoin:miter;\" x=\"334.063289\" xlink:href=\"#mfba9b0726a\" y=\"143.1\"/>\r\n     <use style=\"fill:#3f3f3f;stroke:#3f3f3f;stroke-linejoin:miter;\" x=\"304.320568\" xlink:href=\"#mfba9b0726a\" y=\"143.1\"/>\r\n     <use style=\"fill:#3f3f3f;stroke:#3f3f3f;stroke-linejoin:miter;\" x=\"316.876057\" xlink:href=\"#mfba9b0726a\" y=\"143.1\"/>\r\n     <use style=\"fill:#3f3f3f;stroke:#3f3f3f;stroke-linejoin:miter;\" x=\"308.392921\" xlink:href=\"#mfba9b0726a\" y=\"143.1\"/>\r\n     <use style=\"fill:#3f3f3f;stroke:#3f3f3f;stroke-linejoin:miter;\" x=\"306.706362\" xlink:href=\"#mfba9b0726a\" y=\"143.1\"/>\r\n     <use style=\"fill:#3f3f3f;stroke:#3f3f3f;stroke-linejoin:miter;\" x=\"367.920317\" xlink:href=\"#mfba9b0726a\" y=\"143.1\"/>\r\n     <use style=\"fill:#3f3f3f;stroke:#3f3f3f;stroke-linejoin:miter;\" x=\"315.843984\" xlink:href=\"#mfba9b0726a\" y=\"143.1\"/>\r\n     <use style=\"fill:#3f3f3f;stroke:#3f3f3f;stroke-linejoin:miter;\" x=\"349.30944\" xlink:href=\"#mfba9b0726a\" y=\"143.1\"/>\r\n     <use style=\"fill:#3f3f3f;stroke:#3f3f3f;stroke-linejoin:miter;\" x=\"306.521764\" xlink:href=\"#mfba9b0726a\" y=\"143.1\"/>\r\n     <use style=\"fill:#3f3f3f;stroke:#3f3f3f;stroke-linejoin:miter;\" x=\"314.361603\" xlink:href=\"#mfba9b0726a\" y=\"143.1\"/>\r\n     <use style=\"fill:#3f3f3f;stroke:#3f3f3f;stroke-linejoin:miter;\" x=\"368.174839\" xlink:href=\"#mfba9b0726a\" y=\"143.1\"/>\r\n     <use style=\"fill:#3f3f3f;stroke:#3f3f3f;stroke-linejoin:miter;\" x=\"348.50392\" xlink:href=\"#mfba9b0726a\" y=\"143.1\"/>\r\n     <use style=\"fill:#3f3f3f;stroke:#3f3f3f;stroke-linejoin:miter;\" x=\"367.721734\" xlink:href=\"#mfba9b0726a\" y=\"143.1\"/>\r\n     <use style=\"fill:#3f3f3f;stroke:#3f3f3f;stroke-linejoin:miter;\" x=\"308.471235\" xlink:href=\"#mfba9b0726a\" y=\"143.1\"/>\r\n     <use style=\"fill:#3f3f3f;stroke:#3f3f3f;stroke-linejoin:miter;\" x=\"319.734536\" xlink:href=\"#mfba9b0726a\" y=\"143.1\"/>\r\n     <use style=\"fill:#3f3f3f;stroke:#3f3f3f;stroke-linejoin:miter;\" x=\"407.228593\" xlink:href=\"#mfba9b0726a\" y=\"143.1\"/>\r\n     <use style=\"fill:#3f3f3f;stroke:#3f3f3f;stroke-linejoin:miter;\" x=\"491.285203\" xlink:href=\"#mfba9b0726a\" y=\"143.1\"/>\r\n     <use style=\"fill:#3f3f3f;stroke:#3f3f3f;stroke-linejoin:miter;\" x=\"304.689765\" xlink:href=\"#mfba9b0726a\" y=\"143.1\"/>\r\n     <use style=\"fill:#3f3f3f;stroke:#3f3f3f;stroke-linejoin:miter;\" x=\"318.246561\" xlink:href=\"#mfba9b0726a\" y=\"143.1\"/>\r\n     <use style=\"fill:#3f3f3f;stroke:#3f3f3f;stroke-linejoin:miter;\" x=\"313.66796\" xlink:href=\"#mfba9b0726a\" y=\"143.1\"/>\r\n     <use style=\"fill:#3f3f3f;stroke:#3f3f3f;stroke-linejoin:miter;\" x=\"326.139542\" xlink:href=\"#mfba9b0726a\" y=\"143.1\"/>\r\n     <use style=\"fill:#3f3f3f;stroke:#3f3f3f;stroke-linejoin:miter;\" x=\"308.647443\" xlink:href=\"#mfba9b0726a\" y=\"143.1\"/>\r\n     <use style=\"fill:#3f3f3f;stroke:#3f3f3f;stroke-linejoin:miter;\" x=\"357.879282\" xlink:href=\"#mfba9b0726a\" y=\"143.1\"/>\r\n     <use style=\"fill:#3f3f3f;stroke:#3f3f3f;stroke-linejoin:miter;\" x=\"418.942201\" xlink:href=\"#mfba9b0726a\" y=\"143.1\"/>\r\n     <use style=\"fill:#3f3f3f;stroke:#3f3f3f;stroke-linejoin:miter;\" x=\"308.15518\" xlink:href=\"#mfba9b0726a\" y=\"143.1\"/>\r\n     <use style=\"fill:#3f3f3f;stroke:#3f3f3f;stroke-linejoin:miter;\" x=\"329.848292\" xlink:href=\"#mfba9b0726a\" y=\"143.1\"/>\r\n     <use style=\"fill:#3f3f3f;stroke:#3f3f3f;stroke-linejoin:miter;\" x=\"317.689968\" xlink:href=\"#mfba9b0726a\" y=\"143.1\"/>\r\n     <use style=\"fill:#3f3f3f;stroke:#3f3f3f;stroke-linejoin:miter;\" x=\"337.827978\" xlink:href=\"#mfba9b0726a\" y=\"143.1\"/>\r\n     <use style=\"fill:#3f3f3f;stroke:#3f3f3f;stroke-linejoin:miter;\" x=\"361.999183\" xlink:href=\"#mfba9b0726a\" y=\"143.1\"/>\r\n     <use style=\"fill:#3f3f3f;stroke:#3f3f3f;stroke-linejoin:miter;\" x=\"312.042935\" xlink:href=\"#mfba9b0726a\" y=\"143.1\"/>\r\n     <use style=\"fill:#3f3f3f;stroke:#3f3f3f;stroke-linejoin:miter;\" x=\"343.066657\" xlink:href=\"#mfba9b0726a\" y=\"143.1\"/>\r\n     <use style=\"fill:#3f3f3f;stroke:#3f3f3f;stroke-linejoin:miter;\" x=\"330.455229\" xlink:href=\"#mfba9b0726a\" y=\"143.1\"/>\r\n     <use style=\"fill:#3f3f3f;stroke:#3f3f3f;stroke-linejoin:miter;\" x=\"302.938877\" xlink:href=\"#mfba9b0726a\" y=\"143.1\"/>\r\n     <use style=\"fill:#3f3f3f;stroke:#3f3f3f;stroke-linejoin:miter;\" x=\"318.257748\" xlink:href=\"#mfba9b0726a\" y=\"143.1\"/>\r\n     <use style=\"fill:#3f3f3f;stroke:#3f3f3f;stroke-linejoin:miter;\" x=\"438.571167\" xlink:href=\"#mfba9b0726a\" y=\"143.1\"/>\r\n     <use style=\"fill:#3f3f3f;stroke:#3f3f3f;stroke-linejoin:miter;\" x=\"314.674861\" xlink:href=\"#mfba9b0726a\" y=\"143.1\"/>\r\n     <use style=\"fill:#3f3f3f;stroke:#3f3f3f;stroke-linejoin:miter;\" x=\"385.457167\" xlink:href=\"#mfba9b0726a\" y=\"143.1\"/>\r\n     <use style=\"fill:#3f3f3f;stroke:#3f3f3f;stroke-linejoin:miter;\" x=\"313.774244\" xlink:href=\"#mfba9b0726a\" y=\"143.1\"/>\r\n     <use style=\"fill:#3f3f3f;stroke:#3f3f3f;stroke-linejoin:miter;\" x=\"356.338165\" xlink:href=\"#mfba9b0726a\" y=\"143.1\"/>\r\n     <use style=\"fill:#3f3f3f;stroke:#3f3f3f;stroke-linejoin:miter;\" x=\"305.643523\" xlink:href=\"#mfba9b0726a\" y=\"143.1\"/>\r\n     <use style=\"fill:#3f3f3f;stroke:#3f3f3f;stroke-linejoin:miter;\" x=\"412.14842\" xlink:href=\"#mfba9b0726a\" y=\"143.1\"/>\r\n     <use style=\"fill:#3f3f3f;stroke:#3f3f3f;stroke-linejoin:miter;\" x=\"570.35486\" xlink:href=\"#mfba9b0726a\" y=\"143.1\"/>\r\n     <use style=\"fill:#3f3f3f;stroke:#3f3f3f;stroke-linejoin:miter;\" x=\"314.747581\" xlink:href=\"#mfba9b0726a\" y=\"143.1\"/>\r\n     <use style=\"fill:#3f3f3f;stroke:#3f3f3f;stroke-linejoin:miter;\" x=\"350.386264\" xlink:href=\"#mfba9b0726a\" y=\"143.1\"/>\r\n     <use style=\"fill:#3f3f3f;stroke:#3f3f3f;stroke-linejoin:miter;\" x=\"344.023213\" xlink:href=\"#mfba9b0726a\" y=\"143.1\"/>\r\n     <use style=\"fill:#3f3f3f;stroke:#3f3f3f;stroke-linejoin:miter;\" x=\"344.395206\" xlink:href=\"#mfba9b0726a\" y=\"143.1\"/>\r\n     <use style=\"fill:#3f3f3f;stroke:#3f3f3f;stroke-linejoin:miter;\" x=\"314.132253\" xlink:href=\"#mfba9b0726a\" y=\"143.1\"/>\r\n     <use style=\"fill:#3f3f3f;stroke:#3f3f3f;stroke-linejoin:miter;\" x=\"450.407841\" xlink:href=\"#mfba9b0726a\" y=\"143.1\"/>\r\n     <use style=\"fill:#3f3f3f;stroke:#3f3f3f;stroke-linejoin:miter;\" x=\"333.243784\" xlink:href=\"#mfba9b0726a\" y=\"143.1\"/>\r\n     <use style=\"fill:#3f3f3f;stroke:#3f3f3f;stroke-linejoin:miter;\" x=\"312.613512\" xlink:href=\"#mfba9b0726a\" y=\"143.1\"/>\r\n     <use style=\"fill:#3f3f3f;stroke:#3f3f3f;stroke-linejoin:miter;\" x=\"969.445455\" xlink:href=\"#mfba9b0726a\" y=\"143.1\"/>\r\n     <use style=\"fill:#3f3f3f;stroke:#3f3f3f;stroke-linejoin:miter;\" x=\"419.954696\" xlink:href=\"#mfba9b0726a\" y=\"143.1\"/>\r\n     <use style=\"fill:#3f3f3f;stroke:#3f3f3f;stroke-linejoin:miter;\" x=\"347.399126\" xlink:href=\"#mfba9b0726a\" y=\"143.1\"/>\r\n     <use style=\"fill:#3f3f3f;stroke:#3f3f3f;stroke-linejoin:miter;\" x=\"349.947144\" xlink:href=\"#mfba9b0726a\" y=\"143.1\"/>\r\n     <use style=\"fill:#3f3f3f;stroke:#3f3f3f;stroke-linejoin:miter;\" x=\"315.541914\" xlink:href=\"#mfba9b0726a\" y=\"143.1\"/>\r\n     <use style=\"fill:#3f3f3f;stroke:#3f3f3f;stroke-linejoin:miter;\" x=\"350.210057\" xlink:href=\"#mfba9b0726a\" y=\"143.1\"/>\r\n     <use style=\"fill:#3f3f3f;stroke:#3f3f3f;stroke-linejoin:miter;\" x=\"324.894901\" xlink:href=\"#mfba9b0726a\" y=\"143.1\"/>\r\n     <use style=\"fill:#3f3f3f;stroke:#3f3f3f;stroke-linejoin:miter;\" x=\"307.573416\" xlink:href=\"#mfba9b0726a\" y=\"143.1\"/>\r\n     <use style=\"fill:#3f3f3f;stroke:#3f3f3f;stroke-linejoin:miter;\" x=\"328.827406\" xlink:href=\"#mfba9b0726a\" y=\"143.1\"/>\r\n     <use style=\"fill:#3f3f3f;stroke:#3f3f3f;stroke-linejoin:miter;\" x=\"356.45284\" xlink:href=\"#mfba9b0726a\" y=\"143.1\"/>\r\n     <use style=\"fill:#3f3f3f;stroke:#3f3f3f;stroke-linejoin:miter;\" x=\"313.681945\" xlink:href=\"#mfba9b0726a\" y=\"143.1\"/>\r\n     <use style=\"fill:#3f3f3f;stroke:#3f3f3f;stroke-linejoin:miter;\" x=\"401.198378\" xlink:href=\"#mfba9b0726a\" y=\"143.1\"/>\r\n     <use style=\"fill:#3f3f3f;stroke:#3f3f3f;stroke-linejoin:miter;\" x=\"355.012412\" xlink:href=\"#mfba9b0726a\" y=\"143.1\"/>\r\n     <use style=\"fill:#3f3f3f;stroke:#3f3f3f;stroke-linejoin:miter;\" x=\"306.353947\" xlink:href=\"#mfba9b0726a\" y=\"143.1\"/>\r\n     <use style=\"fill:#3f3f3f;stroke:#3f3f3f;stroke-linejoin:miter;\" x=\"345.19793\" xlink:href=\"#mfba9b0726a\" y=\"143.1\"/>\r\n     <use style=\"fill:#3f3f3f;stroke:#3f3f3f;stroke-linejoin:miter;\" x=\"305.945593\" xlink:href=\"#mfba9b0726a\" y=\"143.1\"/>\r\n     <use style=\"fill:#3f3f3f;stroke:#3f3f3f;stroke-linejoin:miter;\" x=\"306.667205\" xlink:href=\"#mfba9b0726a\" y=\"143.1\"/>\r\n     <use style=\"fill:#3f3f3f;stroke:#3f3f3f;stroke-linejoin:miter;\" x=\"344.870687\" xlink:href=\"#mfba9b0726a\" y=\"143.1\"/>\r\n     <use style=\"fill:#3f3f3f;stroke:#3f3f3f;stroke-linejoin:miter;\" x=\"313.59524\" xlink:href=\"#mfba9b0726a\" y=\"143.1\"/>\r\n     <use style=\"fill:#3f3f3f;stroke:#3f3f3f;stroke-linejoin:miter;\" x=\"306.695175\" xlink:href=\"#mfba9b0726a\" y=\"143.1\"/>\r\n     <use style=\"fill:#3f3f3f;stroke:#3f3f3f;stroke-linejoin:miter;\" x=\"336.463068\" xlink:href=\"#mfba9b0726a\" y=\"143.1\"/>\r\n     <use style=\"fill:#3f3f3f;stroke:#3f3f3f;stroke-linejoin:miter;\" x=\"349.670246\" xlink:href=\"#mfba9b0726a\" y=\"143.1\"/>\r\n     <use style=\"fill:#3f3f3f;stroke:#3f3f3f;stroke-linejoin:miter;\" x=\"330.195113\" xlink:href=\"#mfba9b0726a\" y=\"143.1\"/>\r\n     <use style=\"fill:#3f3f3f;stroke:#3f3f3f;stroke-linejoin:miter;\" x=\"358.030317\" xlink:href=\"#mfba9b0726a\" y=\"143.1\"/>\r\n     <use style=\"fill:#3f3f3f;stroke:#3f3f3f;stroke-linejoin:miter;\" x=\"330.416072\" xlink:href=\"#mfba9b0726a\" y=\"143.1\"/>\r\n     <use style=\"fill:#3f3f3f;stroke:#3f3f3f;stroke-linejoin:miter;\" x=\"337.3497\" xlink:href=\"#mfba9b0726a\" y=\"143.1\"/>\r\n     <use style=\"fill:#3f3f3f;stroke:#3f3f3f;stroke-linejoin:miter;\" x=\"387.952043\" xlink:href=\"#mfba9b0726a\" y=\"143.1\"/>\r\n     <use style=\"fill:#3f3f3f;stroke:#3f3f3f;stroke-linejoin:miter;\" x=\"397.433689\" xlink:href=\"#mfba9b0726a\" y=\"143.1\"/>\r\n     <use style=\"fill:#3f3f3f;stroke:#3f3f3f;stroke-linejoin:miter;\" x=\"327.714222\" xlink:href=\"#mfba9b0726a\" y=\"143.1\"/>\r\n     <use style=\"fill:#3f3f3f;stroke:#3f3f3f;stroke-linejoin:miter;\" x=\"320.070169\" xlink:href=\"#mfba9b0726a\" y=\"143.1\"/>\r\n     <use style=\"fill:#3f3f3f;stroke:#3f3f3f;stroke-linejoin:miter;\" x=\"426.695335\" xlink:href=\"#mfba9b0726a\" y=\"143.1\"/>\r\n     <use style=\"fill:#3f3f3f;stroke:#3f3f3f;stroke-linejoin:miter;\" x=\"325.532604\" xlink:href=\"#mfba9b0726a\" y=\"143.1\"/>\r\n     <use style=\"fill:#3f3f3f;stroke:#3f3f3f;stroke-linejoin:miter;\" x=\"304.751297\" xlink:href=\"#mfba9b0726a\" y=\"143.1\"/>\r\n     <use style=\"fill:#3f3f3f;stroke:#3f3f3f;stroke-linejoin:miter;\" x=\"314.887429\" xlink:href=\"#mfba9b0726a\" y=\"143.1\"/>\r\n     <use style=\"fill:#3f3f3f;stroke:#3f3f3f;stroke-linejoin:miter;\" x=\"304.491181\" xlink:href=\"#mfba9b0726a\" y=\"143.1\"/>\r\n     <use style=\"fill:#3f3f3f;stroke:#3f3f3f;stroke-linejoin:miter;\" x=\"365.182107\" xlink:href=\"#mfba9b0726a\" y=\"143.1\"/>\r\n     <use style=\"fill:#3f3f3f;stroke:#3f3f3f;stroke-linejoin:miter;\" x=\"312.090483\" xlink:href=\"#mfba9b0726a\" y=\"143.1\"/>\r\n     <use style=\"fill:#3f3f3f;stroke:#3f3f3f;stroke-linejoin:miter;\" x=\"407.986565\" xlink:href=\"#mfba9b0726a\" y=\"143.1\"/>\r\n     <use style=\"fill:#3f3f3f;stroke:#3f3f3f;stroke-linejoin:miter;\" x=\"307.606979\" xlink:href=\"#mfba9b0726a\" y=\"143.1\"/>\r\n     <use style=\"fill:#3f3f3f;stroke:#3f3f3f;stroke-linejoin:miter;\" x=\"340.222163\" xlink:href=\"#mfba9b0726a\" y=\"143.1\"/>\r\n     <use style=\"fill:#3f3f3f;stroke:#3f3f3f;stroke-linejoin:miter;\" x=\"320.07856\" xlink:href=\"#mfba9b0726a\" y=\"143.1\"/>\r\n     <use style=\"fill:#3f3f3f;stroke:#3f3f3f;stroke-linejoin:miter;\" x=\"302.880141\" xlink:href=\"#mfba9b0726a\" y=\"143.1\"/>\r\n     <use style=\"fill:#3f3f3f;stroke:#3f3f3f;stroke-linejoin:miter;\" x=\"320.590401\" xlink:href=\"#mfba9b0726a\" y=\"143.1\"/>\r\n     <use style=\"fill:#3f3f3f;stroke:#3f3f3f;stroke-linejoin:miter;\" x=\"317.46901\" xlink:href=\"#mfba9b0726a\" y=\"143.1\"/>\r\n     <use style=\"fill:#3f3f3f;stroke:#3f3f3f;stroke-linejoin:miter;\" x=\"395.526172\" xlink:href=\"#mfba9b0726a\" y=\"143.1\"/>\r\n     <use style=\"fill:#3f3f3f;stroke:#3f3f3f;stroke-linejoin:miter;\" x=\"384.601302\" xlink:href=\"#mfba9b0726a\" y=\"143.1\"/>\r\n     <use style=\"fill:#3f3f3f;stroke:#3f3f3f;stroke-linejoin:miter;\" x=\"341.735311\" xlink:href=\"#mfba9b0726a\" y=\"143.1\"/>\r\n     <use style=\"fill:#3f3f3f;stroke:#3f3f3f;stroke-linejoin:miter;\" x=\"341.366114\" xlink:href=\"#mfba9b0726a\" y=\"143.1\"/>\r\n     <use style=\"fill:#3f3f3f;stroke:#3f3f3f;stroke-linejoin:miter;\" x=\"310.104652\" xlink:href=\"#mfba9b0726a\" y=\"143.1\"/>\r\n     <use style=\"fill:#3f3f3f;stroke:#3f3f3f;stroke-linejoin:miter;\" x=\"335.375056\" xlink:href=\"#mfba9b0726a\" y=\"143.1\"/>\r\n     <use style=\"fill:#3f3f3f;stroke:#3f3f3f;stroke-linejoin:miter;\" x=\"333.755625\" xlink:href=\"#mfba9b0726a\" y=\"143.1\"/>\r\n     <use style=\"fill:#3f3f3f;stroke:#3f3f3f;stroke-linejoin:miter;\" x=\"332.362746\" xlink:href=\"#mfba9b0726a\" y=\"143.1\"/>\r\n     <use style=\"fill:#3f3f3f;stroke:#3f3f3f;stroke-linejoin:miter;\" x=\"330.223082\" xlink:href=\"#mfba9b0726a\" y=\"143.1\"/>\r\n     <use style=\"fill:#3f3f3f;stroke:#3f3f3f;stroke-linejoin:miter;\" x=\"325.437508\" xlink:href=\"#mfba9b0726a\" y=\"143.1\"/>\r\n     <use style=\"fill:#3f3f3f;stroke:#3f3f3f;stroke-linejoin:miter;\" x=\"349.622698\" xlink:href=\"#mfba9b0726a\" y=\"143.1\"/>\r\n     <use style=\"fill:#3f3f3f;stroke:#3f3f3f;stroke-linejoin:miter;\" x=\"324.145319\" xlink:href=\"#mfba9b0726a\" y=\"143.1\"/>\r\n     <use style=\"fill:#3f3f3f;stroke:#3f3f3f;stroke-linejoin:miter;\" x=\"340.940978\" xlink:href=\"#mfba9b0726a\" y=\"143.1\"/>\r\n     <use style=\"fill:#3f3f3f;stroke:#3f3f3f;stroke-linejoin:miter;\" x=\"335.808583\" xlink:href=\"#mfba9b0726a\" y=\"143.1\"/>\r\n     <use style=\"fill:#3f3f3f;stroke:#3f3f3f;stroke-linejoin:miter;\" x=\"330.382508\" xlink:href=\"#mfba9b0726a\" y=\"143.1\"/>\r\n     <use style=\"fill:#3f3f3f;stroke:#3f3f3f;stroke-linejoin:miter;\" x=\"317.225675\" xlink:href=\"#mfba9b0726a\" y=\"143.1\"/>\r\n     <use style=\"fill:#3f3f3f;stroke:#3f3f3f;stroke-linejoin:miter;\" x=\"318.447941\" xlink:href=\"#mfba9b0726a\" y=\"143.1\"/>\r\n     <use style=\"fill:#3f3f3f;stroke:#3f3f3f;stroke-linejoin:miter;\" x=\"305.31628\" xlink:href=\"#mfba9b0726a\" y=\"143.1\"/>\r\n     <use style=\"fill:#3f3f3f;stroke:#3f3f3f;stroke-linejoin:miter;\" x=\"317.894145\" xlink:href=\"#mfba9b0726a\" y=\"143.1\"/>\r\n     <use style=\"fill:#3f3f3f;stroke:#3f3f3f;stroke-linejoin:miter;\" x=\"314.769957\" xlink:href=\"#mfba9b0726a\" y=\"143.1\"/>\r\n     <use style=\"fill:#3f3f3f;stroke:#3f3f3f;stroke-linejoin:miter;\" x=\"367.710546\" xlink:href=\"#mfba9b0726a\" y=\"143.1\"/>\r\n     <use style=\"fill:#3f3f3f;stroke:#3f3f3f;stroke-linejoin:miter;\" x=\"313.930873\" xlink:href=\"#mfba9b0726a\" y=\"143.1\"/>\r\n     <use style=\"fill:#3f3f3f;stroke:#3f3f3f;stroke-linejoin:miter;\" x=\"341.99263\" xlink:href=\"#mfba9b0726a\" y=\"143.1\"/>\r\n     <use style=\"fill:#3f3f3f;stroke:#3f3f3f;stroke-linejoin:miter;\" x=\"324.472562\" xlink:href=\"#mfba9b0726a\" y=\"143.1\"/>\r\n     <use style=\"fill:#3f3f3f;stroke:#3f3f3f;stroke-linejoin:miter;\" x=\"330.315382\" xlink:href=\"#mfba9b0726a\" y=\"143.1\"/>\r\n     <use style=\"fill:#3f3f3f;stroke:#3f3f3f;stroke-linejoin:miter;\" x=\"429.103505\" xlink:href=\"#mfba9b0726a\" y=\"143.1\"/>\r\n     <use style=\"fill:#3f3f3f;stroke:#3f3f3f;stroke-linejoin:miter;\" x=\"358.119819\" xlink:href=\"#mfba9b0726a\" y=\"143.1\"/>\r\n     <use style=\"fill:#3f3f3f;stroke:#3f3f3f;stroke-linejoin:miter;\" x=\"318.489895\" xlink:href=\"#mfba9b0726a\" y=\"143.1\"/>\r\n     <use style=\"fill:#3f3f3f;stroke:#3f3f3f;stroke-linejoin:miter;\" x=\"334.784901\" xlink:href=\"#mfba9b0726a\" y=\"143.1\"/>\r\n     <use style=\"fill:#3f3f3f;stroke:#3f3f3f;stroke-linejoin:miter;\" x=\"325.107469\" xlink:href=\"#mfba9b0726a\" y=\"143.1\"/>\r\n     <use style=\"fill:#3f3f3f;stroke:#3f3f3f;stroke-linejoin:miter;\" x=\"549.623898\" xlink:href=\"#mfba9b0726a\" y=\"143.1\"/>\r\n     <use style=\"fill:#3f3f3f;stroke:#3f3f3f;stroke-linejoin:miter;\" x=\"360.376954\" xlink:href=\"#mfba9b0726a\" y=\"143.1\"/>\r\n     <use style=\"fill:#3f3f3f;stroke:#3f3f3f;stroke-linejoin:miter;\" x=\"429.425154\" xlink:href=\"#mfba9b0726a\" y=\"143.1\"/>\r\n     <use style=\"fill:#3f3f3f;stroke:#3f3f3f;stroke-linejoin:miter;\" x=\"354.618043\" xlink:href=\"#mfba9b0726a\" y=\"143.1\"/>\r\n     <use style=\"fill:#3f3f3f;stroke:#3f3f3f;stroke-linejoin:miter;\" x=\"372.034624\" xlink:href=\"#mfba9b0726a\" y=\"143.1\"/>\r\n     <use style=\"fill:#3f3f3f;stroke:#3f3f3f;stroke-linejoin:miter;\" x=\"340.664081\" xlink:href=\"#mfba9b0726a\" y=\"143.1\"/>\r\n     <use style=\"fill:#3f3f3f;stroke:#3f3f3f;stroke-linejoin:miter;\" x=\"330.692969\" xlink:href=\"#mfba9b0726a\" y=\"143.1\"/>\r\n     <use style=\"fill:#3f3f3f;stroke:#3f3f3f;stroke-linejoin:miter;\" x=\"319.742927\" xlink:href=\"#mfba9b0726a\" y=\"143.1\"/>\r\n     <use style=\"fill:#3f3f3f;stroke:#3f3f3f;stroke-linejoin:miter;\" x=\"342.434547\" xlink:href=\"#mfba9b0726a\" y=\"143.1\"/>\r\n     <use style=\"fill:#3f3f3f;stroke:#3f3f3f;stroke-linejoin:miter;\" x=\"309.522887\" xlink:href=\"#mfba9b0726a\" y=\"143.1\"/>\r\n     <use style=\"fill:#3f3f3f;stroke:#3f3f3f;stroke-linejoin:miter;\" x=\"357.319893\" xlink:href=\"#mfba9b0726a\" y=\"143.1\"/>\r\n     <use style=\"fill:#3f3f3f;stroke:#3f3f3f;stroke-linejoin:miter;\" x=\"431.32428\" xlink:href=\"#mfba9b0726a\" y=\"143.1\"/>\r\n     <use style=\"fill:#3f3f3f;stroke:#3f3f3f;stroke-linejoin:miter;\" x=\"326.150729\" xlink:href=\"#mfba9b0726a\" y=\"143.1\"/>\r\n     <use style=\"fill:#3f3f3f;stroke:#3f3f3f;stroke-linejoin:miter;\" x=\"337.330121\" xlink:href=\"#mfba9b0726a\" y=\"143.1\"/>\r\n     <use style=\"fill:#3f3f3f;stroke:#3f3f3f;stroke-linejoin:miter;\" x=\"359.476338\" xlink:href=\"#mfba9b0726a\" y=\"143.1\"/>\r\n     <use style=\"fill:#3f3f3f;stroke:#3f3f3f;stroke-linejoin:miter;\" x=\"370.848719\" xlink:href=\"#mfba9b0726a\" y=\"143.1\"/>\r\n     <use style=\"fill:#3f3f3f;stroke:#3f3f3f;stroke-linejoin:miter;\" x=\"338.955147\" xlink:href=\"#mfba9b0726a\" y=\"143.1\"/>\r\n     <use style=\"fill:#3f3f3f;stroke:#3f3f3f;stroke-linejoin:miter;\" x=\"311.08638\" xlink:href=\"#mfba9b0726a\" y=\"143.1\"/>\r\n     <use style=\"fill:#3f3f3f;stroke:#3f3f3f;stroke-linejoin:miter;\" x=\"306.04908\" xlink:href=\"#mfba9b0726a\" y=\"143.1\"/>\r\n     <use style=\"fill:#3f3f3f;stroke:#3f3f3f;stroke-linejoin:miter;\" x=\"325.683639\" xlink:href=\"#mfba9b0726a\" y=\"143.1\"/>\r\n     <use style=\"fill:#3f3f3f;stroke:#3f3f3f;stroke-linejoin:miter;\" x=\"313.43022\" xlink:href=\"#mfba9b0726a\" y=\"143.1\"/>\r\n     <use style=\"fill:#3f3f3f;stroke:#3f3f3f;stroke-linejoin:miter;\" x=\"330.835613\" xlink:href=\"#mfba9b0726a\" y=\"143.1\"/>\r\n     <use style=\"fill:#3f3f3f;stroke:#3f3f3f;stroke-linejoin:miter;\" x=\"307.774796\" xlink:href=\"#mfba9b0726a\" y=\"143.1\"/>\r\n     <use style=\"fill:#3f3f3f;stroke:#3f3f3f;stroke-linejoin:miter;\" x=\"359.893083\" xlink:href=\"#mfba9b0726a\" y=\"143.1\"/>\r\n     <use style=\"fill:#3f3f3f;stroke:#3f3f3f;stroke-linejoin:miter;\" x=\"320.772203\" xlink:href=\"#mfba9b0726a\" y=\"143.1\"/>\r\n     <use style=\"fill:#3f3f3f;stroke:#3f3f3f;stroke-linejoin:miter;\" x=\"440.442323\" xlink:href=\"#mfba9b0726a\" y=\"143.1\"/>\r\n     <use style=\"fill:#3f3f3f;stroke:#3f3f3f;stroke-linejoin:miter;\" x=\"321.426688\" xlink:href=\"#mfba9b0726a\" y=\"143.1\"/>\r\n     <use style=\"fill:#3f3f3f;stroke:#3f3f3f;stroke-linejoin:miter;\" x=\"311.131131\" xlink:href=\"#mfba9b0726a\" y=\"143.1\"/>\r\n     <use style=\"fill:#3f3f3f;stroke:#3f3f3f;stroke-linejoin:miter;\" x=\"310.314422\" xlink:href=\"#mfba9b0726a\" y=\"143.1\"/>\r\n     <use style=\"fill:#3f3f3f;stroke:#3f3f3f;stroke-linejoin:miter;\" x=\"342.470908\" xlink:href=\"#mfba9b0726a\" y=\"143.1\"/>\r\n     <use style=\"fill:#3f3f3f;stroke:#3f3f3f;stroke-linejoin:miter;\" x=\"322.218224\" xlink:href=\"#mfba9b0726a\" y=\"143.1\"/>\r\n     <use style=\"fill:#3f3f3f;stroke:#3f3f3f;stroke-linejoin:miter;\" x=\"321.353967\" xlink:href=\"#mfba9b0726a\" y=\"143.1\"/>\r\n     <use style=\"fill:#3f3f3f;stroke:#3f3f3f;stroke-linejoin:miter;\" x=\"347.70679\" xlink:href=\"#mfba9b0726a\" y=\"143.1\"/>\r\n     <use style=\"fill:#3f3f3f;stroke:#3f3f3f;stroke-linejoin:miter;\" x=\"337.47836\" xlink:href=\"#mfba9b0726a\" y=\"143.1\"/>\r\n     <use style=\"fill:#3f3f3f;stroke:#3f3f3f;stroke-linejoin:miter;\" x=\"303.649301\" xlink:href=\"#mfba9b0726a\" y=\"143.1\"/>\r\n     <use style=\"fill:#3f3f3f;stroke:#3f3f3f;stroke-linejoin:miter;\" x=\"333.383631\" xlink:href=\"#mfba9b0726a\" y=\"143.1\"/>\r\n     <use style=\"fill:#3f3f3f;stroke:#3f3f3f;stroke-linejoin:miter;\" x=\"303.092709\" xlink:href=\"#mfba9b0726a\" y=\"143.1\"/>\r\n     <use style=\"fill:#3f3f3f;stroke:#3f3f3f;stroke-linejoin:miter;\" x=\"307.232188\" xlink:href=\"#mfba9b0726a\" y=\"143.1\"/>\r\n     <use style=\"fill:#3f3f3f;stroke:#3f3f3f;stroke-linejoin:miter;\" x=\"325.504635\" xlink:href=\"#mfba9b0726a\" y=\"143.1\"/>\r\n     <use style=\"fill:#3f3f3f;stroke:#3f3f3f;stroke-linejoin:miter;\" x=\"320.361052\" xlink:href=\"#mfba9b0726a\" y=\"143.1\"/>\r\n     <use style=\"fill:#3f3f3f;stroke:#3f3f3f;stroke-linejoin:miter;\" x=\"353.885243\" xlink:href=\"#mfba9b0726a\" y=\"143.1\"/>\r\n     <use style=\"fill:#3f3f3f;stroke:#3f3f3f;stroke-linejoin:miter;\" x=\"315.418848\" xlink:href=\"#mfba9b0726a\" y=\"143.1\"/>\r\n     <use style=\"fill:#3f3f3f;stroke:#3f3f3f;stroke-linejoin:miter;\" x=\"333.131906\" xlink:href=\"#mfba9b0726a\" y=\"143.1\"/>\r\n     <use style=\"fill:#3f3f3f;stroke:#3f3f3f;stroke-linejoin:miter;\" x=\"314.912601\" xlink:href=\"#mfba9b0726a\" y=\"143.1\"/>\r\n     <use style=\"fill:#3f3f3f;stroke:#3f3f3f;stroke-linejoin:miter;\" x=\"464.034561\" xlink:href=\"#mfba9b0726a\" y=\"143.1\"/>\r\n     <use style=\"fill:#3f3f3f;stroke:#3f3f3f;stroke-linejoin:miter;\" x=\"342.462517\" xlink:href=\"#mfba9b0726a\" y=\"143.1\"/>\r\n     <use style=\"fill:#3f3f3f;stroke:#3f3f3f;stroke-linejoin:miter;\" x=\"326.710118\" xlink:href=\"#mfba9b0726a\" y=\"143.1\"/>\r\n     <use style=\"fill:#3f3f3f;stroke:#3f3f3f;stroke-linejoin:miter;\" x=\"456.247864\" xlink:href=\"#mfba9b0726a\" y=\"143.1\"/>\r\n     <use style=\"fill:#3f3f3f;stroke:#3f3f3f;stroke-linejoin:miter;\" x=\"423.16559\" xlink:href=\"#mfba9b0726a\" y=\"143.1\"/>\r\n     <use style=\"fill:#3f3f3f;stroke:#3f3f3f;stroke-linejoin:miter;\" x=\"574.516715\" xlink:href=\"#mfba9b0726a\" y=\"143.1\"/>\r\n     <use style=\"fill:#3f3f3f;stroke:#3f3f3f;stroke-linejoin:miter;\" x=\"322.050407\" xlink:href=\"#mfba9b0726a\" y=\"143.1\"/>\r\n     <use style=\"fill:#3f3f3f;stroke:#3f3f3f;stroke-linejoin:miter;\" x=\"357.574415\" xlink:href=\"#mfba9b0726a\" y=\"143.1\"/>\r\n     <use style=\"fill:#3f3f3f;stroke:#3f3f3f;stroke-linejoin:miter;\" x=\"422.466353\" xlink:href=\"#mfba9b0726a\" y=\"143.1\"/>\r\n     <use style=\"fill:#3f3f3f;stroke:#3f3f3f;stroke-linejoin:miter;\" x=\"312.454086\" xlink:href=\"#mfba9b0726a\" y=\"143.1\"/>\r\n     <use style=\"fill:#3f3f3f;stroke:#3f3f3f;stroke-linejoin:miter;\" x=\"307.01962\" xlink:href=\"#mfba9b0726a\" y=\"143.1\"/>\r\n     <use style=\"fill:#3f3f3f;stroke:#3f3f3f;stroke-linejoin:miter;\" x=\"312.389756\" xlink:href=\"#mfba9b0726a\" y=\"143.1\"/>\r\n     <use style=\"fill:#3f3f3f;stroke:#3f3f3f;stroke-linejoin:miter;\" x=\"316.154445\" xlink:href=\"#mfba9b0726a\" y=\"143.1\"/>\r\n     <use style=\"fill:#3f3f3f;stroke:#3f3f3f;stroke-linejoin:miter;\" x=\"324.948043\" xlink:href=\"#mfba9b0726a\" y=\"143.1\"/>\r\n     <use style=\"fill:#3f3f3f;stroke:#3f3f3f;stroke-linejoin:miter;\" x=\"310.7927\" xlink:href=\"#mfba9b0726a\" y=\"143.1\"/>\r\n     <use style=\"fill:#3f3f3f;stroke:#3f3f3f;stroke-linejoin:miter;\" x=\"320.537259\" xlink:href=\"#mfba9b0726a\" y=\"143.1\"/>\r\n     <use style=\"fill:#3f3f3f;stroke:#3f3f3f;stroke-linejoin:miter;\" x=\"331.63554\" xlink:href=\"#mfba9b0726a\" y=\"143.1\"/>\r\n     <use style=\"fill:#3f3f3f;stroke:#3f3f3f;stroke-linejoin:miter;\" x=\"366.225368\" xlink:href=\"#mfba9b0726a\" y=\"143.1\"/>\r\n     <use style=\"fill:#3f3f3f;stroke:#3f3f3f;stroke-linejoin:miter;\" x=\"315.782451\" xlink:href=\"#mfba9b0726a\" y=\"143.1\"/>\r\n     <use style=\"fill:#3f3f3f;stroke:#3f3f3f;stroke-linejoin:miter;\" x=\"318.271733\" xlink:href=\"#mfba9b0726a\" y=\"143.1\"/>\r\n     <use style=\"fill:#3f3f3f;stroke:#3f3f3f;stroke-linejoin:miter;\" x=\"355.859887\" xlink:href=\"#mfba9b0726a\" y=\"143.1\"/>\r\n     <use style=\"fill:#3f3f3f;stroke:#3f3f3f;stroke-linejoin:miter;\" x=\"363.442407\" xlink:href=\"#mfba9b0726a\" y=\"143.1\"/>\r\n     <use style=\"fill:#3f3f3f;stroke:#3f3f3f;stroke-linejoin:miter;\" x=\"349.709403\" xlink:href=\"#mfba9b0726a\" y=\"143.1\"/>\r\n     <use style=\"fill:#3f3f3f;stroke:#3f3f3f;stroke-linejoin:miter;\" x=\"308.334185\" xlink:href=\"#mfba9b0726a\" y=\"143.1\"/>\r\n     <use style=\"fill:#3f3f3f;stroke:#3f3f3f;stroke-linejoin:miter;\" x=\"338.076906\" xlink:href=\"#mfba9b0726a\" y=\"143.1\"/>\r\n     <use style=\"fill:#3f3f3f;stroke:#3f3f3f;stroke-linejoin:miter;\" x=\"308.999858\" xlink:href=\"#mfba9b0726a\" y=\"143.1\"/>\r\n     <use style=\"fill:#3f3f3f;stroke:#3f3f3f;stroke-linejoin:miter;\" x=\"324.122944\" xlink:href=\"#mfba9b0726a\" y=\"143.1\"/>\r\n     <use style=\"fill:#3f3f3f;stroke:#3f3f3f;stroke-linejoin:miter;\" x=\"347.485831\" xlink:href=\"#mfba9b0726a\" y=\"143.1\"/>\r\n     <use style=\"fill:#3f3f3f;stroke:#3f3f3f;stroke-linejoin:miter;\" x=\"345.139194\" xlink:href=\"#mfba9b0726a\" y=\"143.1\"/>\r\n     <use style=\"fill:#3f3f3f;stroke:#3f3f3f;stroke-linejoin:miter;\" x=\"327.993917\" xlink:href=\"#mfba9b0726a\" y=\"143.1\"/>\r\n     <use style=\"fill:#3f3f3f;stroke:#3f3f3f;stroke-linejoin:miter;\" x=\"313.992406\" xlink:href=\"#mfba9b0726a\" y=\"143.1\"/>\r\n     <use style=\"fill:#3f3f3f;stroke:#3f3f3f;stroke-linejoin:miter;\" x=\"330.670594\" xlink:href=\"#mfba9b0726a\" y=\"143.1\"/>\r\n     <use style=\"fill:#3f3f3f;stroke:#3f3f3f;stroke-linejoin:miter;\" x=\"364.105283\" xlink:href=\"#mfba9b0726a\" y=\"143.1\"/>\r\n     <use style=\"fill:#3f3f3f;stroke:#3f3f3f;stroke-linejoin:miter;\" x=\"306.264445\" xlink:href=\"#mfba9b0726a\" y=\"143.1\"/>\r\n     <use style=\"fill:#3f3f3f;stroke:#3f3f3f;stroke-linejoin:miter;\" x=\"311.894697\" xlink:href=\"#mfba9b0726a\" y=\"143.1\"/>\r\n     <use style=\"fill:#3f3f3f;stroke:#3f3f3f;stroke-linejoin:miter;\" x=\"309.411009\" xlink:href=\"#mfba9b0726a\" y=\"143.1\"/>\r\n     <use style=\"fill:#3f3f3f;stroke:#3f3f3f;stroke-linejoin:miter;\" x=\"362.312441\" xlink:href=\"#mfba9b0726a\" y=\"143.1\"/>\r\n     <use style=\"fill:#3f3f3f;stroke:#3f3f3f;stroke-linejoin:miter;\" x=\"334.821261\" xlink:href=\"#mfba9b0726a\" y=\"143.1\"/>\r\n     <use style=\"fill:#3f3f3f;stroke:#3f3f3f;stroke-linejoin:miter;\" x=\"310.750746\" xlink:href=\"#mfba9b0726a\" y=\"143.1\"/>\r\n     <use style=\"fill:#3f3f3f;stroke:#3f3f3f;stroke-linejoin:miter;\" x=\"310.003962\" xlink:href=\"#mfba9b0726a\" y=\"143.1\"/>\r\n     <use style=\"fill:#3f3f3f;stroke:#3f3f3f;stroke-linejoin:miter;\" x=\"414.324444\" xlink:href=\"#mfba9b0726a\" y=\"143.1\"/>\r\n     <use style=\"fill:#3f3f3f;stroke:#3f3f3f;stroke-linejoin:miter;\" x=\"372.300334\" xlink:href=\"#mfba9b0726a\" y=\"143.1\"/>\r\n     <use style=\"fill:#3f3f3f;stroke:#3f3f3f;stroke-linejoin:miter;\" x=\"611.176283\" xlink:href=\"#mfba9b0726a\" y=\"143.1\"/>\r\n     <use style=\"fill:#3f3f3f;stroke:#3f3f3f;stroke-linejoin:miter;\" x=\"377.930586\" xlink:href=\"#mfba9b0726a\" y=\"143.1\"/>\r\n     <use style=\"fill:#3f3f3f;stroke:#3f3f3f;stroke-linejoin:miter;\" x=\"307.033605\" xlink:href=\"#mfba9b0726a\" y=\"143.1\"/>\r\n     <use style=\"fill:#3f3f3f;stroke:#3f3f3f;stroke-linejoin:miter;\" x=\"311.433201\" xlink:href=\"#mfba9b0726a\" y=\"143.1\"/>\r\n     <use style=\"fill:#3f3f3f;stroke:#3f3f3f;stroke-linejoin:miter;\" x=\"428.490974\" xlink:href=\"#mfba9b0726a\" y=\"143.1\"/>\r\n     <use style=\"fill:#3f3f3f;stroke:#3f3f3f;stroke-linejoin:miter;\" x=\"306.51617\" xlink:href=\"#mfba9b0726a\" y=\"143.1\"/>\r\n     <use style=\"fill:#3f3f3f;stroke:#3f3f3f;stroke-linejoin:miter;\" x=\"378.056449\" xlink:href=\"#mfba9b0726a\" y=\"143.1\"/>\r\n     <use style=\"fill:#3f3f3f;stroke:#3f3f3f;stroke-linejoin:miter;\" x=\"343.374321\" xlink:href=\"#mfba9b0726a\" y=\"143.1\"/>\r\n     <use style=\"fill:#3f3f3f;stroke:#3f3f3f;stroke-linejoin:miter;\" x=\"346.878894\" xlink:href=\"#mfba9b0726a\" y=\"143.1\"/>\r\n     <use style=\"fill:#3f3f3f;stroke:#3f3f3f;stroke-linejoin:miter;\" x=\"317.804643\" xlink:href=\"#mfba9b0726a\" y=\"143.1\"/>\r\n     <use style=\"fill:#3f3f3f;stroke:#3f3f3f;stroke-linejoin:miter;\" x=\"306.046283\" xlink:href=\"#mfba9b0726a\" y=\"143.1\"/>\r\n     <use style=\"fill:#3f3f3f;stroke:#3f3f3f;stroke-linejoin:miter;\" x=\"502.41425\" xlink:href=\"#mfba9b0726a\" y=\"143.1\"/>\r\n     <use style=\"fill:#3f3f3f;stroke:#3f3f3f;stroke-linejoin:miter;\" x=\"324.276776\" xlink:href=\"#mfba9b0726a\" y=\"143.1\"/>\r\n     <use style=\"fill:#3f3f3f;stroke:#3f3f3f;stroke-linejoin:miter;\" x=\"376.618818\" xlink:href=\"#mfba9b0726a\" y=\"143.1\"/>\r\n     <use style=\"fill:#3f3f3f;stroke:#3f3f3f;stroke-linejoin:miter;\" x=\"339.707525\" xlink:href=\"#mfba9b0726a\" y=\"143.1\"/>\r\n     <use style=\"fill:#3f3f3f;stroke:#3f3f3f;stroke-linejoin:miter;\" x=\"336.879813\" xlink:href=\"#mfba9b0726a\" y=\"143.1\"/>\r\n     <use style=\"fill:#3f3f3f;stroke:#3f3f3f;stroke-linejoin:miter;\" x=\"365.503756\" xlink:href=\"#mfba9b0726a\" y=\"143.1\"/>\r\n     <use style=\"fill:#3f3f3f;stroke:#3f3f3f;stroke-linejoin:miter;\" x=\"519.307803\" xlink:href=\"#mfba9b0726a\" y=\"143.1\"/>\r\n     <use style=\"fill:#3f3f3f;stroke:#3f3f3f;stroke-linejoin:miter;\" x=\"361.783818\" xlink:href=\"#mfba9b0726a\" y=\"143.1\"/>\r\n     <use style=\"fill:#3f3f3f;stroke:#3f3f3f;stroke-linejoin:miter;\" x=\"312.269488\" xlink:href=\"#mfba9b0726a\" y=\"143.1\"/>\r\n     <use style=\"fill:#3f3f3f;stroke:#3f3f3f;stroke-linejoin:miter;\" x=\"337.965028\" xlink:href=\"#mfba9b0726a\" y=\"143.1\"/>\r\n     <use style=\"fill:#3f3f3f;stroke:#3f3f3f;stroke-linejoin:miter;\" x=\"334.61149\" xlink:href=\"#mfba9b0726a\" y=\"143.1\"/>\r\n     <use style=\"fill:#3f3f3f;stroke:#3f3f3f;stroke-linejoin:miter;\" x=\"306.423871\" xlink:href=\"#mfba9b0726a\" y=\"143.1\"/>\r\n     <use style=\"fill:#3f3f3f;stroke:#3f3f3f;stroke-linejoin:miter;\" x=\"335.375056\" xlink:href=\"#mfba9b0726a\" y=\"143.1\"/>\r\n     <use style=\"fill:#3f3f3f;stroke:#3f3f3f;stroke-linejoin:miter;\" x=\"322.433588\" xlink:href=\"#mfba9b0726a\" y=\"143.1\"/>\r\n     <use style=\"fill:#3f3f3f;stroke:#3f3f3f;stroke-linejoin:miter;\" x=\"523.072492\" xlink:href=\"#mfba9b0726a\" y=\"143.1\"/>\r\n     <use style=\"fill:#3f3f3f;stroke:#3f3f3f;stroke-linejoin:miter;\" x=\"363.171103\" xlink:href=\"#mfba9b0726a\" y=\"143.1\"/>\r\n     <use style=\"fill:#3f3f3f;stroke:#3f3f3f;stroke-linejoin:miter;\" x=\"319.314994\" xlink:href=\"#mfba9b0726a\" y=\"143.1\"/>\r\n     <use style=\"fill:#3f3f3f;stroke:#3f3f3f;stroke-linejoin:miter;\" x=\"319.303806\" xlink:href=\"#mfba9b0726a\" y=\"143.1\"/>\r\n     <use style=\"fill:#3f3f3f;stroke:#3f3f3f;stroke-linejoin:miter;\" x=\"309.38304\" xlink:href=\"#mfba9b0726a\" y=\"143.1\"/>\r\n     <use style=\"fill:#3f3f3f;stroke:#3f3f3f;stroke-linejoin:miter;\" x=\"414.724407\" xlink:href=\"#mfba9b0726a\" y=\"143.1\"/>\r\n     <use style=\"fill:#3f3f3f;stroke:#3f3f3f;stroke-linejoin:miter;\" x=\"396.21422\" xlink:href=\"#mfba9b0726a\" y=\"143.1\"/>\r\n     <use style=\"fill:#3f3f3f;stroke:#3f3f3f;stroke-linejoin:miter;\" x=\"306.885367\" xlink:href=\"#mfba9b0726a\" y=\"143.1\"/>\r\n     <use style=\"fill:#3f3f3f;stroke:#3f3f3f;stroke-linejoin:miter;\" x=\"369.335572\" xlink:href=\"#mfba9b0726a\" y=\"143.1\"/>\r\n     <use style=\"fill:#3f3f3f;stroke:#3f3f3f;stroke-linejoin:miter;\" x=\"379.784961\" xlink:href=\"#mfba9b0726a\" y=\"143.1\"/>\r\n     <use style=\"fill:#3f3f3f;stroke:#3f3f3f;stroke-linejoin:miter;\" x=\"438.557182\" xlink:href=\"#mfba9b0726a\" y=\"143.1\"/>\r\n     <use style=\"fill:#3f3f3f;stroke:#3f3f3f;stroke-linejoin:miter;\" x=\"358.819056\" xlink:href=\"#mfba9b0726a\" y=\"143.1\"/>\r\n     <use style=\"fill:#3f3f3f;stroke:#3f3f3f;stroke-linejoin:miter;\" x=\"306.765098\" xlink:href=\"#mfba9b0726a\" y=\"143.1\"/>\r\n     <use style=\"fill:#3f3f3f;stroke:#3f3f3f;stroke-linejoin:miter;\" x=\"399.123044\" xlink:href=\"#mfba9b0726a\" y=\"143.1\"/>\r\n     <use style=\"fill:#3f3f3f;stroke:#3f3f3f;stroke-linejoin:miter;\" x=\"315.150342\" xlink:href=\"#mfba9b0726a\" y=\"143.1\"/>\r\n     <use style=\"fill:#3f3f3f;stroke:#3f3f3f;stroke-linejoin:miter;\" x=\"324.640379\" xlink:href=\"#mfba9b0726a\" y=\"143.1\"/>\r\n     <use style=\"fill:#3f3f3f;stroke:#3f3f3f;stroke-linejoin:miter;\" x=\"445.110426\" xlink:href=\"#mfba9b0726a\" y=\"143.1\"/>\r\n     <use style=\"fill:#3f3f3f;stroke:#3f3f3f;stroke-linejoin:miter;\" x=\"341.368911\" xlink:href=\"#mfba9b0726a\" y=\"143.1\"/>\r\n     <use style=\"fill:#3f3f3f;stroke:#3f3f3f;stroke-linejoin:miter;\" x=\"397.064492\" xlink:href=\"#mfba9b0726a\" y=\"143.1\"/>\r\n     <use style=\"fill:#3f3f3f;stroke:#3f3f3f;stroke-linejoin:miter;\" x=\"393.629842\" xlink:href=\"#mfba9b0726a\" y=\"143.1\"/>\r\n     <use style=\"fill:#3f3f3f;stroke:#3f3f3f;stroke-linejoin:miter;\" x=\"318.724838\" xlink:href=\"#mfba9b0726a\" y=\"143.1\"/>\r\n     <use style=\"fill:#3f3f3f;stroke:#3f3f3f;stroke-linejoin:miter;\" x=\"315.374097\" xlink:href=\"#mfba9b0726a\" y=\"143.1\"/>\r\n     <use style=\"fill:#3f3f3f;stroke:#3f3f3f;stroke-linejoin:miter;\" x=\"305.576396\" xlink:href=\"#mfba9b0726a\" y=\"143.1\"/>\r\n     <use style=\"fill:#3f3f3f;stroke:#3f3f3f;stroke-linejoin:miter;\" x=\"340.59136\" xlink:href=\"#mfba9b0726a\" y=\"143.1\"/>\r\n     <use style=\"fill:#3f3f3f;stroke:#3f3f3f;stroke-linejoin:miter;\" x=\"303.10949\" xlink:href=\"#mfba9b0726a\" y=\"143.1\"/>\r\n     <use style=\"fill:#3f3f3f;stroke:#3f3f3f;stroke-linejoin:miter;\" x=\"344.837124\" xlink:href=\"#mfba9b0726a\" y=\"143.1\"/>\r\n     <use style=\"fill:#3f3f3f;stroke:#3f3f3f;stroke-linejoin:miter;\" x=\"440.333243\" xlink:href=\"#mfba9b0726a\" y=\"143.1\"/>\r\n     <use style=\"fill:#3f3f3f;stroke:#3f3f3f;stroke-linejoin:miter;\" x=\"436.624492\" xlink:href=\"#mfba9b0726a\" y=\"143.1\"/>\r\n     <use style=\"fill:#3f3f3f;stroke:#3f3f3f;stroke-linejoin:miter;\" x=\"311.609408\" xlink:href=\"#mfba9b0726a\" y=\"143.1\"/>\r\n     <use style=\"fill:#3f3f3f;stroke:#3f3f3f;stroke-linejoin:miter;\" x=\"348.529092\" xlink:href=\"#mfba9b0726a\" y=\"143.1\"/>\r\n     <use style=\"fill:#3f3f3f;stroke:#3f3f3f;stroke-linejoin:miter;\" x=\"338.398555\" xlink:href=\"#mfba9b0726a\" y=\"143.1\"/>\r\n     <use style=\"fill:#3f3f3f;stroke:#3f3f3f;stroke-linejoin:miter;\" x=\"315.715325\" xlink:href=\"#mfba9b0726a\" y=\"143.1\"/>\r\n     <use style=\"fill:#3f3f3f;stroke:#3f3f3f;stroke-linejoin:miter;\" x=\"318.861889\" xlink:href=\"#mfba9b0726a\" y=\"143.1\"/>\r\n     <use style=\"fill:#3f3f3f;stroke:#3f3f3f;stroke-linejoin:miter;\" x=\"305.182027\" xlink:href=\"#mfba9b0726a\" y=\"143.1\"/>\r\n     <use style=\"fill:#3f3f3f;stroke:#3f3f3f;stroke-linejoin:miter;\" x=\"417.554916\" xlink:href=\"#mfba9b0726a\" y=\"143.1\"/>\r\n     <use style=\"fill:#3f3f3f;stroke:#3f3f3f;stroke-linejoin:miter;\" x=\"313.942061\" xlink:href=\"#mfba9b0726a\" y=\"143.1\"/>\r\n     <use style=\"fill:#3f3f3f;stroke:#3f3f3f;stroke-linejoin:miter;\" x=\"312.800907\" xlink:href=\"#mfba9b0726a\" y=\"143.1\"/>\r\n     <use style=\"fill:#3f3f3f;stroke:#3f3f3f;stroke-linejoin:miter;\" x=\"461.830568\" xlink:href=\"#mfba9b0726a\" y=\"143.1\"/>\r\n     <use style=\"fill:#3f3f3f;stroke:#3f3f3f;stroke-linejoin:miter;\" x=\"305.872873\" xlink:href=\"#mfba9b0726a\" y=\"143.1\"/>\r\n     <use style=\"fill:#3f3f3f;stroke:#3f3f3f;stroke-linejoin:miter;\" x=\"348.587828\" xlink:href=\"#mfba9b0726a\" y=\"143.1\"/>\r\n     <use style=\"fill:#3f3f3f;stroke:#3f3f3f;stroke-linejoin:miter;\" x=\"315.955862\" xlink:href=\"#mfba9b0726a\" y=\"143.1\"/>\r\n     <use style=\"fill:#3f3f3f;stroke:#3f3f3f;stroke-linejoin:miter;\" x=\"306.801459\" xlink:href=\"#mfba9b0726a\" y=\"143.1\"/>\r\n     <use style=\"fill:#3f3f3f;stroke:#3f3f3f;stroke-linejoin:miter;\" x=\"434.507205\" xlink:href=\"#mfba9b0726a\" y=\"143.1\"/>\r\n     <use style=\"fill:#3f3f3f;stroke:#3f3f3f;stroke-linejoin:miter;\" x=\"341.178719\" xlink:href=\"#mfba9b0726a\" y=\"143.1\"/>\r\n     <use style=\"fill:#3f3f3f;stroke:#3f3f3f;stroke-linejoin:miter;\" x=\"319.821241\" xlink:href=\"#mfba9b0726a\" y=\"143.1\"/>\r\n     <use style=\"fill:#3f3f3f;stroke:#3f3f3f;stroke-linejoin:miter;\" x=\"306.711956\" xlink:href=\"#mfba9b0726a\" y=\"143.1\"/>\r\n     <use style=\"fill:#3f3f3f;stroke:#3f3f3f;stroke-linejoin:miter;\" x=\"313.010678\" xlink:href=\"#mfba9b0726a\" y=\"143.1\"/>\r\n     <use style=\"fill:#3f3f3f;stroke:#3f3f3f;stroke-linejoin:miter;\" x=\"303.414357\" xlink:href=\"#mfba9b0726a\" y=\"143.1\"/>\r\n     <use style=\"fill:#3f3f3f;stroke:#3f3f3f;stroke-linejoin:miter;\" x=\"306.751114\" xlink:href=\"#mfba9b0726a\" y=\"143.1\"/>\r\n     <use style=\"fill:#3f3f3f;stroke:#3f3f3f;stroke-linejoin:miter;\" x=\"318.87867\" xlink:href=\"#mfba9b0726a\" y=\"143.1\"/>\r\n     <use style=\"fill:#3f3f3f;stroke:#3f3f3f;stroke-linejoin:miter;\" x=\"331.322282\" xlink:href=\"#mfba9b0726a\" y=\"143.1\"/>\r\n     <use style=\"fill:#3f3f3f;stroke:#3f3f3f;stroke-linejoin:miter;\" x=\"305.856091\" xlink:href=\"#mfba9b0726a\" y=\"143.1\"/>\r\n     <use style=\"fill:#3f3f3f;stroke:#3f3f3f;stroke-linejoin:miter;\" x=\"305.94839\" xlink:href=\"#mfba9b0726a\" y=\"143.1\"/>\r\n     <use style=\"fill:#3f3f3f;stroke:#3f3f3f;stroke-linejoin:miter;\" x=\"333.383631\" xlink:href=\"#mfba9b0726a\" y=\"143.1\"/>\r\n     <use style=\"fill:#3f3f3f;stroke:#3f3f3f;stroke-linejoin:miter;\" x=\"336.728778\" xlink:href=\"#mfba9b0726a\" y=\"143.1\"/>\r\n     <use style=\"fill:#3f3f3f;stroke:#3f3f3f;stroke-linejoin:miter;\" x=\"306.298008\" xlink:href=\"#mfba9b0726a\" y=\"143.1\"/>\r\n     <use style=\"fill:#3f3f3f;stroke:#3f3f3f;stroke-linejoin:miter;\" x=\"327.291883\" xlink:href=\"#mfba9b0726a\" y=\"143.1\"/>\r\n     <use style=\"fill:#3f3f3f;stroke:#3f3f3f;stroke-linejoin:miter;\" x=\"429.232165\" xlink:href=\"#mfba9b0726a\" y=\"143.1\"/>\r\n     <use style=\"fill:#3f3f3f;stroke:#3f3f3f;stroke-linejoin:miter;\" x=\"323.460068\" xlink:href=\"#mfba9b0726a\" y=\"143.1\"/>\r\n     <use style=\"fill:#3f3f3f;stroke:#3f3f3f;stroke-linejoin:miter;\" x=\"375.883222\" xlink:href=\"#mfba9b0726a\" y=\"143.1\"/>\r\n     <use style=\"fill:#3f3f3f;stroke:#3f3f3f;stroke-linejoin:miter;\" x=\"371.710179\" xlink:href=\"#mfba9b0726a\" y=\"143.1\"/>\r\n     <use style=\"fill:#3f3f3f;stroke:#3f3f3f;stroke-linejoin:miter;\" x=\"313.284779\" xlink:href=\"#mfba9b0726a\" y=\"143.1\"/>\r\n     <use style=\"fill:#3f3f3f;stroke:#3f3f3f;stroke-linejoin:miter;\" x=\"429.657301\" xlink:href=\"#mfba9b0726a\" y=\"143.1\"/>\r\n     <use style=\"fill:#3f3f3f;stroke:#3f3f3f;stroke-linejoin:miter;\" x=\"441.256235\" xlink:href=\"#mfba9b0726a\" y=\"143.1\"/>\r\n     <use style=\"fill:#3f3f3f;stroke:#3f3f3f;stroke-linejoin:miter;\" x=\"345.281838\" xlink:href=\"#mfba9b0726a\" y=\"143.1\"/>\r\n     <use style=\"fill:#3f3f3f;stroke:#3f3f3f;stroke-linejoin:miter;\" x=\"900.279783\" xlink:href=\"#mfba9b0726a\" y=\"143.1\"/>\r\n     <use style=\"fill:#3f3f3f;stroke:#3f3f3f;stroke-linejoin:miter;\" x=\"332.852211\" xlink:href=\"#mfba9b0726a\" y=\"143.1\"/>\r\n     <use style=\"fill:#3f3f3f;stroke:#3f3f3f;stroke-linejoin:miter;\" x=\"461.65436\" xlink:href=\"#mfba9b0726a\" y=\"143.1\"/>\r\n     <use style=\"fill:#3f3f3f;stroke:#3f3f3f;stroke-linejoin:miter;\" x=\"386.061307\" xlink:href=\"#mfba9b0726a\" y=\"143.1\"/>\r\n     <use style=\"fill:#3f3f3f;stroke:#3f3f3f;stroke-linejoin:miter;\" x=\"340.686456\" xlink:href=\"#mfba9b0726a\" y=\"143.1\"/>\r\n     <use style=\"fill:#3f3f3f;stroke:#3f3f3f;stroke-linejoin:miter;\" x=\"400.278182\" xlink:href=\"#mfba9b0726a\" y=\"143.1\"/>\r\n     <use style=\"fill:#3f3f3f;stroke:#3f3f3f;stroke-linejoin:miter;\" x=\"751.387173\" xlink:href=\"#mfba9b0726a\" y=\"143.1\"/>\r\n     <use style=\"fill:#3f3f3f;stroke:#3f3f3f;stroke-linejoin:miter;\" x=\"344.342064\" xlink:href=\"#mfba9b0726a\" y=\"143.1\"/>\r\n     <use style=\"fill:#3f3f3f;stroke:#3f3f3f;stroke-linejoin:miter;\" x=\"343.315585\" xlink:href=\"#mfba9b0726a\" y=\"143.1\"/>\r\n     <use style=\"fill:#3f3f3f;stroke:#3f3f3f;stroke-linejoin:miter;\" x=\"401.285083\" xlink:href=\"#mfba9b0726a\" y=\"143.1\"/>\r\n     <use style=\"fill:#3f3f3f;stroke:#3f3f3f;stroke-linejoin:miter;\" x=\"308.191541\" xlink:href=\"#mfba9b0726a\" y=\"143.1\"/>\r\n     <use style=\"fill:#3f3f3f;stroke:#3f3f3f;stroke-linejoin:miter;\" x=\"396.004449\" xlink:href=\"#mfba9b0726a\" y=\"143.1\"/>\r\n     <use style=\"fill:#3f3f3f;stroke:#3f3f3f;stroke-linejoin:miter;\" x=\"317.111001\" xlink:href=\"#mfba9b0726a\" y=\"143.1\"/>\r\n     <use style=\"fill:#3f3f3f;stroke:#3f3f3f;stroke-linejoin:miter;\" x=\"310.59132\" xlink:href=\"#mfba9b0726a\" y=\"143.1\"/>\r\n     <use style=\"fill:#3f3f3f;stroke:#3f3f3f;stroke-linejoin:miter;\" x=\"312.689029\" xlink:href=\"#mfba9b0726a\" y=\"143.1\"/>\r\n     <use style=\"fill:#3f3f3f;stroke:#3f3f3f;stroke-linejoin:miter;\" x=\"318.87867\" xlink:href=\"#mfba9b0726a\" y=\"143.1\"/>\r\n     <use style=\"fill:#3f3f3f;stroke:#3f3f3f;stroke-linejoin:miter;\" x=\"473.194558\" xlink:href=\"#mfba9b0726a\" y=\"143.1\"/>\r\n     <use style=\"fill:#3f3f3f;stroke:#3f3f3f;stroke-linejoin:miter;\" x=\"307.766405\" xlink:href=\"#mfba9b0726a\" y=\"143.1\"/>\r\n     <use style=\"fill:#3f3f3f;stroke:#3f3f3f;stroke-linejoin:miter;\" x=\"341.301784\" xlink:href=\"#mfba9b0726a\" y=\"143.1\"/>\r\n     <use style=\"fill:#3f3f3f;stroke:#3f3f3f;stroke-linejoin:miter;\" x=\"322.836349\" xlink:href=\"#mfba9b0726a\" y=\"143.1\"/>\r\n     <use style=\"fill:#3f3f3f;stroke:#3f3f3f;stroke-linejoin:miter;\" x=\"304.972256\" xlink:href=\"#mfba9b0726a\" y=\"143.1\"/>\r\n     <use style=\"fill:#3f3f3f;stroke:#3f3f3f;stroke-linejoin:miter;\" x=\"307.590197\" xlink:href=\"#mfba9b0726a\" y=\"143.1\"/>\r\n     <use style=\"fill:#3f3f3f;stroke:#3f3f3f;stroke-linejoin:miter;\" x=\"365.830999\" xlink:href=\"#mfba9b0726a\" y=\"143.1\"/>\r\n     <use style=\"fill:#3f3f3f;stroke:#3f3f3f;stroke-linejoin:miter;\" x=\"332.950104\" xlink:href=\"#mfba9b0726a\" y=\"143.1\"/>\r\n     <use style=\"fill:#3f3f3f;stroke:#3f3f3f;stroke-linejoin:miter;\" x=\"304.801642\" xlink:href=\"#mfba9b0726a\" y=\"143.1\"/>\r\n     <use style=\"fill:#3f3f3f;stroke:#3f3f3f;stroke-linejoin:miter;\" x=\"313.175698\" xlink:href=\"#mfba9b0726a\" y=\"143.1\"/>\r\n     <use style=\"fill:#3f3f3f;stroke:#3f3f3f;stroke-linejoin:miter;\" x=\"318.901046\" xlink:href=\"#mfba9b0726a\" y=\"143.1\"/>\r\n     <use style=\"fill:#3f3f3f;stroke:#3f3f3f;stroke-linejoin:miter;\" x=\"345.251072\" xlink:href=\"#mfba9b0726a\" y=\"143.1\"/>\r\n     <use style=\"fill:#3f3f3f;stroke:#3f3f3f;stroke-linejoin:miter;\" x=\"414.741189\" xlink:href=\"#mfba9b0726a\" y=\"143.1\"/>\r\n     <use style=\"fill:#3f3f3f;stroke:#3f3f3f;stroke-linejoin:miter;\" x=\"467.673387\" xlink:href=\"#mfba9b0726a\" y=\"143.1\"/>\r\n     <use style=\"fill:#3f3f3f;stroke:#3f3f3f;stroke-linejoin:miter;\" x=\"525.821889\" xlink:href=\"#mfba9b0726a\" y=\"143.1\"/>\r\n     <use style=\"fill:#3f3f3f;stroke:#3f3f3f;stroke-linejoin:miter;\" x=\"406.479011\" xlink:href=\"#mfba9b0726a\" y=\"143.1\"/>\r\n     <use style=\"fill:#3f3f3f;stroke:#3f3f3f;stroke-linejoin:miter;\" x=\"315.687355\" xlink:href=\"#mfba9b0726a\" y=\"143.1\"/>\r\n     <use style=\"fill:#3f3f3f;stroke:#3f3f3f;stroke-linejoin:miter;\" x=\"306.574906\" xlink:href=\"#mfba9b0726a\" y=\"143.1\"/>\r\n     <use style=\"fill:#3f3f3f;stroke:#3f3f3f;stroke-linejoin:miter;\" x=\"325.499041\" xlink:href=\"#mfba9b0726a\" y=\"143.1\"/>\r\n     <use style=\"fill:#3f3f3f;stroke:#3f3f3f;stroke-linejoin:miter;\" x=\"332.726349\" xlink:href=\"#mfba9b0726a\" y=\"143.1\"/>\r\n     <use style=\"fill:#3f3f3f;stroke:#3f3f3f;stroke-linejoin:miter;\" x=\"321.45186\" xlink:href=\"#mfba9b0726a\" y=\"143.1\"/>\r\n     <use style=\"fill:#3f3f3f;stroke:#3f3f3f;stroke-linejoin:miter;\" x=\"303.548611\" xlink:href=\"#mfba9b0726a\" y=\"143.1\"/>\r\n     <use style=\"fill:#3f3f3f;stroke:#3f3f3f;stroke-linejoin:miter;\" x=\"320.478523\" xlink:href=\"#mfba9b0726a\" y=\"143.1\"/>\r\n     <use style=\"fill:#3f3f3f;stroke:#3f3f3f;stroke-linejoin:miter;\" x=\"312.845658\" xlink:href=\"#mfba9b0726a\" y=\"143.1\"/>\r\n     <use style=\"fill:#3f3f3f;stroke:#3f3f3f;stroke-linejoin:miter;\" x=\"307.976176\" xlink:href=\"#mfba9b0726a\" y=\"143.1\"/>\r\n     <use style=\"fill:#3f3f3f;stroke:#3f3f3f;stroke-linejoin:miter;\" x=\"305.556818\" xlink:href=\"#mfba9b0726a\" y=\"143.1\"/>\r\n     <use style=\"fill:#3f3f3f;stroke:#3f3f3f;stroke-linejoin:miter;\" x=\"368.418173\" xlink:href=\"#mfba9b0726a\" y=\"143.1\"/>\r\n     <use style=\"fill:#3f3f3f;stroke:#3f3f3f;stroke-linejoin:miter;\" x=\"359.456759\" xlink:href=\"#mfba9b0726a\" y=\"143.1\"/>\r\n     <use style=\"fill:#3f3f3f;stroke:#3f3f3f;stroke-linejoin:miter;\" x=\"430.048873\" xlink:href=\"#mfba9b0726a\" y=\"143.1\"/>\r\n     <use style=\"fill:#3f3f3f;stroke:#3f3f3f;stroke-linejoin:miter;\" x=\"333.213017\" xlink:href=\"#mfba9b0726a\" y=\"143.1\"/>\r\n     <use style=\"fill:#3f3f3f;stroke:#3f3f3f;stroke-linejoin:miter;\" x=\"310.314422\" xlink:href=\"#mfba9b0726a\" y=\"143.1\"/>\r\n     <use style=\"fill:#3f3f3f;stroke:#3f3f3f;stroke-linejoin:miter;\" x=\"315.007697\" xlink:href=\"#mfba9b0726a\" y=\"143.1\"/>\r\n     <use style=\"fill:#3f3f3f;stroke:#3f3f3f;stroke-linejoin:miter;\" x=\"422.320912\" xlink:href=\"#mfba9b0726a\" y=\"143.1\"/>\r\n     <use style=\"fill:#3f3f3f;stroke:#3f3f3f;stroke-linejoin:miter;\" x=\"451.526619\" xlink:href=\"#mfba9b0726a\" y=\"143.1\"/>\r\n     <use style=\"fill:#3f3f3f;stroke:#3f3f3f;stroke-linejoin:miter;\" x=\"445.745333\" xlink:href=\"#mfba9b0726a\" y=\"143.1\"/>\r\n     <use style=\"fill:#3f3f3f;stroke:#3f3f3f;stroke-linejoin:miter;\" x=\"340.255727\" xlink:href=\"#mfba9b0726a\" y=\"143.1\"/>\r\n     <use style=\"fill:#3f3f3f;stroke:#3f3f3f;stroke-linejoin:miter;\" x=\"359.425993\" xlink:href=\"#mfba9b0726a\" y=\"143.1\"/>\r\n     <use style=\"fill:#3f3f3f;stroke:#3f3f3f;stroke-linejoin:miter;\" x=\"324.005472\" xlink:href=\"#mfba9b0726a\" y=\"143.1\"/>\r\n     <use style=\"fill:#3f3f3f;stroke:#3f3f3f;stroke-linejoin:miter;\" x=\"325.157814\" xlink:href=\"#mfba9b0726a\" y=\"143.1\"/>\r\n     <use style=\"fill:#3f3f3f;stroke:#3f3f3f;stroke-linejoin:miter;\" x=\"302.910907\" xlink:href=\"#mfba9b0726a\" y=\"143.1\"/>\r\n     <use style=\"fill:#3f3f3f;stroke:#3f3f3f;stroke-linejoin:miter;\" x=\"389.437221\" xlink:href=\"#mfba9b0726a\" y=\"143.1\"/>\r\n     <use style=\"fill:#3f3f3f;stroke:#3f3f3f;stroke-linejoin:miter;\" x=\"345.502797\" xlink:href=\"#mfba9b0726a\" y=\"143.1\"/>\r\n     <use style=\"fill:#3f3f3f;stroke:#3f3f3f;stroke-linejoin:miter;\" x=\"311.592627\" xlink:href=\"#mfba9b0726a\" y=\"143.1\"/>\r\n     <use style=\"fill:#3f3f3f;stroke:#3f3f3f;stroke-linejoin:miter;\" x=\"446.139702\" xlink:href=\"#mfba9b0726a\" y=\"143.1\"/>\r\n     <use style=\"fill:#3f3f3f;stroke:#3f3f3f;stroke-linejoin:miter;\" x=\"319.404496\" xlink:href=\"#mfba9b0726a\" y=\"143.1\"/>\r\n     <use style=\"fill:#3f3f3f;stroke:#3f3f3f;stroke-linejoin:miter;\" x=\"312.101671\" xlink:href=\"#mfba9b0726a\" y=\"143.1\"/>\r\n     <use style=\"fill:#3f3f3f;stroke:#3f3f3f;stroke-linejoin:miter;\" x=\"467.346145\" xlink:href=\"#mfba9b0726a\" y=\"143.1\"/>\r\n     <use style=\"fill:#3f3f3f;stroke:#3f3f3f;stroke-linejoin:miter;\" x=\"305.268732\" xlink:href=\"#mfba9b0726a\" y=\"143.1\"/>\r\n     <use style=\"fill:#3f3f3f;stroke:#3f3f3f;stroke-linejoin:miter;\" x=\"304.108\" xlink:href=\"#mfba9b0726a\" y=\"143.1\"/>\r\n     <use style=\"fill:#3f3f3f;stroke:#3f3f3f;stroke-linejoin:miter;\" x=\"394.748621\" xlink:href=\"#mfba9b0726a\" y=\"143.1\"/>\r\n     <use style=\"fill:#3f3f3f;stroke:#3f3f3f;stroke-linejoin:miter;\" x=\"342.546425\" xlink:href=\"#mfba9b0726a\" y=\"143.1\"/>\r\n     <use style=\"fill:#3f3f3f;stroke:#3f3f3f;stroke-linejoin:miter;\" x=\"346.33349\" xlink:href=\"#mfba9b0726a\" y=\"143.1\"/>\r\n     <use style=\"fill:#3f3f3f;stroke:#3f3f3f;stroke-linejoin:miter;\" x=\"341.824813\" xlink:href=\"#mfba9b0726a\" y=\"143.1\"/>\r\n     <use style=\"fill:#3f3f3f;stroke:#3f3f3f;stroke-linejoin:miter;\" x=\"302.969643\" xlink:href=\"#mfba9b0726a\" y=\"143.1\"/>\r\n     <use style=\"fill:#3f3f3f;stroke:#3f3f3f;stroke-linejoin:miter;\" x=\"436.286062\" xlink:href=\"#mfba9b0726a\" y=\"143.1\"/>\r\n     <use style=\"fill:#3f3f3f;stroke:#3f3f3f;stroke-linejoin:miter;\" x=\"358.726756\" xlink:href=\"#mfba9b0726a\" y=\"143.1\"/>\r\n     <use style=\"fill:#3f3f3f;stroke:#3f3f3f;stroke-linejoin:miter;\" x=\"330.195113\" xlink:href=\"#mfba9b0726a\" y=\"143.1\"/>\r\n     <use style=\"fill:#3f3f3f;stroke:#3f3f3f;stroke-linejoin:miter;\" x=\"310.622087\" xlink:href=\"#mfba9b0726a\" y=\"143.1\"/>\r\n     <use style=\"fill:#3f3f3f;stroke:#3f3f3f;stroke-linejoin:miter;\" x=\"304.247847\" xlink:href=\"#mfba9b0726a\" y=\"143.1\"/>\r\n     <use style=\"fill:#3f3f3f;stroke:#3f3f3f;stroke-linejoin:miter;\" x=\"302.902516\" xlink:href=\"#mfba9b0726a\" y=\"143.1\"/>\r\n     <use style=\"fill:#3f3f3f;stroke:#3f3f3f;stroke-linejoin:miter;\" x=\"429.978949\" xlink:href=\"#mfba9b0726a\" y=\"143.1\"/>\r\n     <use style=\"fill:#3f3f3f;stroke:#3f3f3f;stroke-linejoin:miter;\" x=\"360.690212\" xlink:href=\"#mfba9b0726a\" y=\"143.1\"/>\r\n     <use style=\"fill:#3f3f3f;stroke:#3f3f3f;stroke-linejoin:miter;\" x=\"317.290005\" xlink:href=\"#mfba9b0726a\" y=\"143.1\"/>\r\n     <use style=\"fill:#3f3f3f;stroke:#3f3f3f;stroke-linejoin:miter;\" x=\"366.941386\" xlink:href=\"#mfba9b0726a\" y=\"143.1\"/>\r\n     <use style=\"fill:#3f3f3f;stroke:#3f3f3f;stroke-linejoin:miter;\" x=\"453.856475\" xlink:href=\"#mfba9b0726a\" y=\"143.1\"/>\r\n     <use style=\"fill:#3f3f3f;stroke:#3f3f3f;stroke-linejoin:miter;\" x=\"305.1149\" xlink:href=\"#mfba9b0726a\" y=\"143.1\"/>\r\n     <use style=\"fill:#3f3f3f;stroke:#3f3f3f;stroke-linejoin:miter;\" x=\"330.469214\" xlink:href=\"#mfba9b0726a\" y=\"143.1\"/>\r\n     <use style=\"fill:#3f3f3f;stroke:#3f3f3f;stroke-linejoin:miter;\" x=\"593.530352\" xlink:href=\"#mfba9b0726a\" y=\"143.1\"/>\r\n     <use style=\"fill:#3f3f3f;stroke:#3f3f3f;stroke-linejoin:miter;\" x=\"322.000062\" xlink:href=\"#mfba9b0726a\" y=\"143.1\"/>\r\n     <use style=\"fill:#3f3f3f;stroke:#3f3f3f;stroke-linejoin:miter;\" x=\"392.692866\" xlink:href=\"#mfba9b0726a\" y=\"143.1\"/>\r\n     <use style=\"fill:#3f3f3f;stroke:#3f3f3f;stroke-linejoin:miter;\" x=\"306.454637\" xlink:href=\"#mfba9b0726a\" y=\"143.1\"/>\r\n     <use style=\"fill:#3f3f3f;stroke:#3f3f3f;stroke-linejoin:miter;\" x=\"477.504652\" xlink:href=\"#mfba9b0726a\" y=\"143.1\"/>\r\n     <use style=\"fill:#3f3f3f;stroke:#3f3f3f;stroke-linejoin:miter;\" x=\"349.259095\" xlink:href=\"#mfba9b0726a\" y=\"143.1\"/>\r\n     <use style=\"fill:#3f3f3f;stroke:#3f3f3f;stroke-linejoin:miter;\" x=\"307.139889\" xlink:href=\"#mfba9b0726a\" y=\"143.1\"/>\r\n     <use style=\"fill:#3f3f3f;stroke:#3f3f3f;stroke-linejoin:miter;\" x=\"336.807093\" xlink:href=\"#mfba9b0726a\" y=\"143.1\"/>\r\n     <use style=\"fill:#3f3f3f;stroke:#3f3f3f;stroke-linejoin:miter;\" x=\"336.58054\" xlink:href=\"#mfba9b0726a\" y=\"143.1\"/>\r\n     <use style=\"fill:#3f3f3f;stroke:#3f3f3f;stroke-linejoin:miter;\" x=\"386.592727\" xlink:href=\"#mfba9b0726a\" y=\"143.1\"/>\r\n     <use style=\"fill:#3f3f3f;stroke:#3f3f3f;stroke-linejoin:miter;\" x=\"337.21265\" xlink:href=\"#mfba9b0726a\" y=\"143.1\"/>\r\n     <use style=\"fill:#3f3f3f;stroke:#3f3f3f;stroke-linejoin:miter;\" x=\"405.690273\" xlink:href=\"#mfba9b0726a\" y=\"143.1\"/>\r\n     <use style=\"fill:#3f3f3f;stroke:#3f3f3f;stroke-linejoin:miter;\" x=\"328.153342\" xlink:href=\"#mfba9b0726a\" y=\"143.1\"/>\r\n     <use style=\"fill:#3f3f3f;stroke:#3f3f3f;stroke-linejoin:miter;\" x=\"309.766221\" xlink:href=\"#mfba9b0726a\" y=\"143.1\"/>\r\n     <use style=\"fill:#3f3f3f;stroke:#3f3f3f;stroke-linejoin:miter;\" x=\"336.449084\" xlink:href=\"#mfba9b0726a\" y=\"143.1\"/>\r\n     <use style=\"fill:#3f3f3f;stroke:#3f3f3f;stroke-linejoin:miter;\" x=\"304.695358\" xlink:href=\"#mfba9b0726a\" y=\"143.1\"/>\r\n     <use style=\"fill:#3f3f3f;stroke:#3f3f3f;stroke-linejoin:miter;\" x=\"319.849211\" xlink:href=\"#mfba9b0726a\" y=\"143.1\"/>\r\n    </g>\r\n   </g>\r\n   <g id=\"line2d_14\">\r\n    <path clip-path=\"url(#p933f7a6998)\" d=\"M 149.389352 34.38 \r\nL 149.389352 251.82 \r\n\" style=\"fill:none;stroke:#3f3f3f;stroke-linecap:square;stroke-width:1.5;\"/>\r\n   </g>\r\n   <g id=\"patch_4\">\r\n    <path d=\"M 10.7 279 \r\nL 10.7 7.2 \r\n\" style=\"fill:none;stroke:#000000;stroke-linecap:square;stroke-linejoin:miter;stroke-width:0.8;\"/>\r\n   </g>\r\n   <g id=\"patch_5\">\r\n    <path d=\"M 1015.1 279 \r\nL 1015.1 7.2 \r\n\" style=\"fill:none;stroke:#000000;stroke-linecap:square;stroke-linejoin:miter;stroke-width:0.8;\"/>\r\n   </g>\r\n   <g id=\"patch_6\">\r\n    <path d=\"M 10.7 279 \r\nL 1015.1 279 \r\n\" style=\"fill:none;stroke:#000000;stroke-linecap:square;stroke-linejoin:miter;stroke-width:0.8;\"/>\r\n   </g>\r\n   <g id=\"patch_7\">\r\n    <path d=\"M 10.7 7.2 \r\nL 1015.1 7.2 \r\n\" style=\"fill:none;stroke:#000000;stroke-linecap:square;stroke-linejoin:miter;stroke-width:0.8;\"/>\r\n   </g>\r\n  </g>\r\n </g>\r\n <defs>\r\n  <clipPath id=\"p933f7a6998\">\r\n   <rect height=\"271.8\" width=\"1004.4\" x=\"10.7\" y=\"7.2\"/>\r\n  </clipPath>\r\n </defs>\r\n</svg>\r\n",
      "image/png": "[encoded data removed]"
     },
     "metadata": {
      "needs_background": "light"
     }
    }
   ],
   "source": [
    "plt.figure(figsize=(18,5))\n",
    "sns.boxplot(st,data=test)\n",
    "test[st].describe()"
   ]
  },
  {
   "cell_type": "code",
   "execution_count": 1055,
   "metadata": {},
   "outputs": [
    {
     "output_type": "stream",
     "name": "stdout",
     "text": [
      "-999.00    177\n NaN       172\n 333.79      6\n 366.37      6\n 323.12      5\n          ... \n 159.11      1\n 733.01      1\n 429.59      1\n 548.57      1\n 170.46      1\nName: Current Loan Expenses (USD), Length: 24042, dtype: int64\nNaN       83\n417.47     4\n297.01     4\n243.54     4\n273.20     4\n          ..\n475.53     1\n285.04     1\n239.84     1\n543.43     1\n679.33     1\nName: Current Loan Expenses (USD), Length: 17248, dtype: int64\n"
     ]
    }
   ],
   "source": [
    "print(train[st].value_counts(dropna=False))\n",
    "print(test[st].value_counts(dropna=False))"
   ]
  },
  {
   "cell_type": "code",
   "execution_count": 1056,
   "metadata": {},
   "outputs": [
    {
     "output_type": "stream",
     "name": "stdout",
     "text": [
      "-999.00    177\n NaN       172\n 333.79      6\n 366.37      6\n 323.12      5\n          ... \n 159.11      1\n 733.01      1\n 429.59      1\n 548.57      1\n 170.46      1\nName: Current Loan Expenses (USD), Length: 24042, dtype: int64\nNaN       83\n417.47     4\n297.01     4\n243.54     4\n273.20     4\n          ..\n475.53     1\n285.04     1\n239.84     1\n543.43     1\n679.33     1\nName: Current Loan Expenses (USD), Length: 17248, dtype: int64\n"
     ]
    }
   ],
   "source": [
    "print(train['Current Loan Expenses (USD)'].value_counts(dropna=False))\n",
    "print(test['Current Loan Expenses (USD)'].value_counts(dropna=False))"
   ]
  },
  {
   "cell_type": "code",
   "execution_count": 1057,
   "metadata": {},
   "outputs": [],
   "source": [
    "train['Current Loan Expenses (USD)'] = train['Current Loan Expenses (USD)'].replace(-999,np.nan)\n",
    "train['Current Loan Expenses (USD)'] = 100 * train['Current Loan Expenses (USD)']\n",
    "test['Current Loan Expenses (USD)'] = 100 * test['Current Loan Expenses (USD)']\n",
    "\n",
    "train['Current Loan Expenses (USD)'] = train['Current Loan Expenses (USD)'].fillna(round(train['Current Loan Expenses (USD)'].mean(),0))\n",
    "test['Current Loan Expenses (USD)'] = test['Current Loan Expenses (USD)'].fillna(round(test['Current Loan Expenses (USD)'].mean(),0))\n",
    "train['Credit Score'] = train['Credit Score'].fillna(train['Credit Score'].mean())\n",
    "test['Credit Score'] = test['Credit Score'].fillna(test['Credit Score'].mean())"
   ]
  },
  {
   "cell_type": "markdown",
   "metadata": {},
   "source": [
    "There are some outliers in Property Age and Property Price"
   ]
  },
  {
   "cell_type": "code",
   "execution_count": 1058,
   "metadata": {},
   "outputs": [
    {
     "output_type": "stream",
     "name": "stdout",
     "text": [
      "NaN          4850\n4.406658        4\n6.618356        4\n5.042959        3\n5.793205        3\n             ... \n11.501562       1\n4.453041        1\n5.551890        1\n5.164027        1\n4.682027        1\nName: Property Age, Length: 24180, dtype: int64\nNaN         892\n5.606932      3\n5.542274      3\n5.268822      3\n3.565123      3\n           ... \n6.469616      1\n8.996466      1\n3.565863      1\n1.880630      1\n6.108301      1\nName: Property Age, Length: 18561, dtype: int64\n"
     ]
    }
   ],
   "source": [
    "train['Property Age'] = train['Property Age']/(365)\n",
    "test['Property Age'] = test['Property Age']/(365)\n",
    "print(train['Property Age'].value_counts(dropna=False))\n",
    "print(test['Property Age'].value_counts(dropna=False))"
   ]
  },
  {
   "cell_type": "code",
   "execution_count": 1059,
   "metadata": {},
   "outputs": [
    {
     "output_type": "stream",
     "name": "stdout",
     "text": [
      "-999.0    352\nName: Property Price, dtype: int64\n-999.0    168\nName: Property Price, dtype: int64\n"
     ]
    }
   ],
   "source": [
    "print(train[train['Property Price']<train['Loan Amount Request (USD)']]['Property Price'].value_counts(dropna=False))\n",
    "print(test[test['Property Price']<test['Loan Amount Request (USD)']]['Property Price'].value_counts(dropna=False))"
   ]
  },
  {
   "cell_type": "code",
   "execution_count": 1060,
   "metadata": {
    "tags": []
   },
   "outputs": [],
   "source": [
    "df = train[train['Property Age'].isna()][['Property Age']]\n",
    "df2 = train[~train['Property Age'].isna()][['Property Age','Property Location','Property Type']]\n",
    "for i in df.index:\n",
    "    train.loc[i,'Property Age'] = df2[(df2['Property Location']==train.at[i,'Property Location']) & (df2['Property Type'] == train.at[i,'Property Type'])]['Property Age'].mean()"
   ]
  },
  {
   "cell_type": "code",
   "execution_count": 1061,
   "metadata": {},
   "outputs": [],
   "source": [
    "df = test[test['Property Age'].isna()][['Property Age']]\n",
    "df2 = test[~test['Property Age'].isna()][['Property Age','Property Location','Property Type']]\n",
    "for i in df.index:\n",
    "    test.loc[i,'Property Age'] = df2[(df2['Property Location']==test.at[i,'Property Location']) & (df2['Property Type'] == test.at[i,'Property Type'])]['Property Age'].mean()"
   ]
  },
  {
   "cell_type": "code",
   "execution_count": 1062,
   "metadata": {},
   "outputs": [],
   "source": [
    "train = train[train['Property Age']<90]\n",
    "test = test[test['Property Age']<90]\n",
    "while train['Property Age'].min()>test['Property Age'].min():\n",
    "    test.loc[test['Property Age']==test['Property Age'].min(),'Property Age'] = train['Property Age'].min()"
   ]
  },
  {
   "cell_type": "code",
   "execution_count": 1063,
   "metadata": {},
   "outputs": [],
   "source": [
    "df = train[train['Property Price']<0][['Property Price']]\n",
    "df2 = train[train['Property Price']>0][['Property Price','Property Location','Property Type']]\n",
    "for i in df.index:\n",
    "    train.loc[i,'Property Price'] = df2[(df2['Property Location']==train.at[i,'Property Location']) & (df2['Property Type'] == train.at[i,'Property Type'])]['Property Price'].mean()"
   ]
  },
  {
   "cell_type": "code",
   "execution_count": 1064,
   "metadata": {},
   "outputs": [],
   "source": [
    "df = test[test['Property Price']<0][['Property Price']]\n",
    "df2 = test[test['Property Price']>0][['Property Price','Property Location','Property Type']]\n",
    "for i in df.index:\n",
    "    test.loc[i,'Property Price'] = df2[(df2['Property Location']==test.at[i,'Property Location']) & (df2['Property Type'] == test.at[i,'Property Type'])]['Property Price'].mean()"
   ]
  },
  {
   "cell_type": "code",
   "execution_count": 1065,
   "metadata": {},
   "outputs": [
    {
     "output_type": "stream",
     "name": "stdout",
     "text": [
      "839    51\n944    46\n102    46\n614    45\n870    45\n       ..\n807    18\n346    17\n345    17\n299    16\n629    15\nName: Property ID, Length: 999, dtype: int64\n68     36\n276    35\n168    34\n764    34\n613    33\n       ..\n313    10\n866     9\n8       9\n195     9\n513     9\nName: Property ID, Length: 999, dtype: int64\n"
     ]
    }
   ],
   "source": [
    "print(train['Property ID'].value_counts(dropna=False))\n",
    "print(test['Property ID'].value_counts(dropna=False))"
   ]
  },
  {
   "cell_type": "code",
   "execution_count": 1066,
   "metadata": {},
   "outputs": [],
   "source": [
    "train = train.drop(['Property ID'],axis=1)\n",
    "test = test.drop(['Property ID'],axis=1)"
   ]
  },
  {
   "cell_type": "markdown",
   "metadata": {},
   "source": [
    "Income (USD)"
   ]
  },
  {
   "cell_type": "code",
   "execution_count": 1067,
   "metadata": {},
   "outputs": [],
   "source": [
    "df = train[train['Income (USD)'].isna()][['Income (USD)']]\n",
    "df2 = train[~train['Income (USD)'].isna()][['Income (USD)','Type of Employment']]\n",
    "for i in df.index:\n",
    "    train.loc[i,'Income (USD)'] = df2[(df2['Type of Employment'] == train.at[i,'Type of Employment'])]['Income (USD)'].mean()"
   ]
  },
  {
   "cell_type": "code",
   "execution_count": 1068,
   "metadata": {},
   "outputs": [],
   "source": [
    "df = test[test['Income (USD)'].isna()][['Income (USD)']]\n",
    "df2 = test[~test['Income (USD)'].isna()][['Income (USD)','Type of Employment']]\n",
    "for i in df.index:\n",
    "    test.loc[i,'Income (USD)'] = df2[(df2['Type of Employment'] == test.at[i,'Type of Employment'])]['Income (USD)'].mean()"
   ]
  },
  {
   "cell_type": "code",
   "execution_count": 1069,
   "metadata": {},
   "outputs": [],
   "source": [
    "train = train[train['Income (USD)']<40000]\n",
    "test = test[test['Income (USD)']<40000]\n",
    "while train['Income (USD)'].min()>test['Income (USD)'].min():\n",
    "    test.loc[test['Income (USD)']==test['Income (USD)'].min(),'Income (USD)'] = train['Income (USD)'].min()"
   ]
  },
  {
   "cell_type": "code",
   "execution_count": 1070,
   "metadata": {},
   "outputs": [
    {
     "output_type": "execute_result",
     "data": {
      "text/plain": [
       "Customer ID                      0\n",
       "Name                             0\n",
       "Gender                           0\n",
       "Age                              0\n",
       "Income (USD)                     0\n",
       "Income Stability                 0\n",
       "Type of Employment               0\n",
       "Location                         0\n",
       "Loan Amount Request (USD)        0\n",
       "Current Loan Expenses (USD)      0\n",
       "Expense Type 1                   0\n",
       "Expense Type 2                   0\n",
       "Dependents                       0\n",
       "Credit Score                     0\n",
       "No. of Defaults                  0\n",
       "Has Active Credit Card           0\n",
       "Property Age                     0\n",
       "Property Type                    0\n",
       "Property Location                0\n",
       "Co-Applicant                     0\n",
       "Property Price                   0\n",
       "Loan Sanction Amount (USD)     340\n",
       "dtype: int64"
      ]
     },
     "metadata": {},
     "execution_count": 1070
    }
   ],
   "source": [
    "train.isnull().sum()"
   ]
  },
  {
   "cell_type": "code",
   "execution_count": 1071,
   "metadata": {},
   "outputs": [
    {
     "output_type": "execute_result",
     "data": {
      "text/plain": [
       " 0.00         7863\n",
       " NaN           340\n",
       "-999.00        338\n",
       " 28937.45        3\n",
       " 27767.18        2\n",
       "              ... \n",
       " 126665.42       1\n",
       " 39223.54        1\n",
       " 45498.37        1\n",
       " 64906.87        1\n",
       " 51336.08        1\n",
       "Name: Loan Sanction Amount (USD), Length: 21449, dtype: int64"
      ]
     },
     "metadata": {},
     "execution_count": 1071
    }
   ],
   "source": [
    "train['Loan Sanction Amount (USD)'].value_counts(dropna=False)"
   ]
  },
  {
   "cell_type": "code",
   "execution_count": 1072,
   "metadata": {},
   "outputs": [],
   "source": [
    "train['Loan Sanction Amount (USD)'] = train['Loan Sanction Amount (USD)'].replace(-999,np.nan)\n",
    "train = train.dropna(subset=['Loan Sanction Amount (USD)'])\n",
    "train['Loan Sanction Amount (USD)'] = train['Loan Sanction Amount (USD)']*100"
   ]
  },
  {
   "cell_type": "code",
   "execution_count": 1073,
   "metadata": {},
   "outputs": [
    {
     "output_type": "execute_result",
     "data": {
      "text/plain": [
       "Customer ID                    0\n",
       "Name                           0\n",
       "Gender                         0\n",
       "Age                            0\n",
       "Income (USD)                   0\n",
       "Income Stability               0\n",
       "Type of Employment             0\n",
       "Location                       0\n",
       "Loan Amount Request (USD)      0\n",
       "Current Loan Expenses (USD)    0\n",
       "Expense Type 1                 0\n",
       "Expense Type 2                 0\n",
       "Dependents                     0\n",
       "Credit Score                   0\n",
       "No. of Defaults                0\n",
       "Has Active Credit Card         0\n",
       "Property Age                   0\n",
       "Property Type                  0\n",
       "Property Location              0\n",
       "Co-Applicant                   0\n",
       "Property Price                 0\n",
       "dtype: int64"
      ]
     },
     "metadata": {},
     "execution_count": 1073
    }
   ],
   "source": [
    "test.isnull().sum()"
   ]
  },
  {
   "cell_type": "code",
   "execution_count": 1074,
   "metadata": {},
   "outputs": [
    {
     "output_type": "execute_result",
     "data": {
      "text/plain": [
       "       is loan sactioned  Loan Sanction Amount (USD)\n",
       "0                      1                   5460718.0\n",
       "1                      1                   3746998.0\n",
       "2                      1                   3647443.0\n",
       "3                      1                   5604054.0\n",
       "4                      1                   7400828.0\n",
       "...                  ...                         ...\n",
       "29995                  1                   6899211.0\n",
       "29996                  1                   4661660.0\n",
       "29997                  1                   6105756.0\n",
       "29998                  1                   9976687.0\n",
       "29999                  1                  11721790.0\n",
       "\n",
       "[29318 rows x 2 columns]"
      ],
      "text/html": "<div>\n<style scoped>\n    .dataframe tbody tr th:only-of-type {\n        vertical-align: middle;\n    }\n\n    .dataframe tbody tr th {\n        vertical-align: top;\n    }\n\n    .dataframe thead th {\n        text-align: right;\n    }\n</style>\n<table border=\"1\" class=\"dataframe\">\n  <thead>\n    <tr style=\"text-align: right;\">\n      <th></th>\n      <th>is loan sactioned</th>\n      <th>Loan Sanction Amount (USD)</th>\n    </tr>\n  </thead>\n  <tbody>\n    <tr>\n      <th>0</th>\n      <td>1</td>\n      <td>5460718.0</td>\n    </tr>\n    <tr>\n      <th>1</th>\n      <td>1</td>\n      <td>3746998.0</td>\n    </tr>\n    <tr>\n      <th>2</th>\n      <td>1</td>\n      <td>3647443.0</td>\n    </tr>\n    <tr>\n      <th>3</th>\n      <td>1</td>\n      <td>5604054.0</td>\n    </tr>\n    <tr>\n      <th>4</th>\n      <td>1</td>\n      <td>7400828.0</td>\n    </tr>\n    <tr>\n      <th>...</th>\n      <td>...</td>\n      <td>...</td>\n    </tr>\n    <tr>\n      <th>29995</th>\n      <td>1</td>\n      <td>6899211.0</td>\n    </tr>\n    <tr>\n      <th>29996</th>\n      <td>1</td>\n      <td>4661660.0</td>\n    </tr>\n    <tr>\n      <th>29997</th>\n      <td>1</td>\n      <td>6105756.0</td>\n    </tr>\n    <tr>\n      <th>29998</th>\n      <td>1</td>\n      <td>9976687.0</td>\n    </tr>\n    <tr>\n      <th>29999</th>\n      <td>1</td>\n      <td>11721790.0</td>\n    </tr>\n  </tbody>\n</table>\n<p>29318 rows × 2 columns</p>\n</div>"
     },
     "metadata": {},
     "execution_count": 1074
    }
   ],
   "source": [
    "train['Loan Amount Request (USD)'] = train['Loan Amount Request (USD)'] * 100\n",
    "test['Loan Amount Request (USD)'] = test['Loan Amount Request (USD)'] * 100\n",
    "train['Loan Saction Fraction'] = round(train['Loan Sanction Amount (USD)']/train['Loan Amount Request (USD)'],3)\n",
    "train['is loan sactioned'] = 0\n",
    "train.loc[(train['Loan Sanction Amount (USD)'] > 0), ('is loan sactioned')] = 1\n",
    "train[['is loan sactioned','Loan Sanction Amount (USD)']]"
   ]
  },
  {
   "cell_type": "markdown",
   "metadata": {},
   "source": [
    "### Binning some numerical variables"
   ]
  },
  {
   "cell_type": "code",
   "execution_count": 1075,
   "metadata": {},
   "outputs": [],
   "source": [
    "train['Age'],bins = pd.cut(train['Age'],8,retbins=True, labels=False)\n",
    "test['Age'] = pd.cut(test['Age'], bins=bins, labels=False, include_lowest=True)"
   ]
  },
  {
   "cell_type": "code",
   "execution_count": 1076,
   "metadata": {},
   "outputs": [],
   "source": [
    "train['Property Age'],bins = pd.qcut(train['Property Age'],10,retbins=True, labels=False)\n",
    "test['Property Age'] = pd.cut(test['Property Age'], bins=bins, labels=False, include_lowest=True)"
   ]
  },
  {
   "cell_type": "code",
   "execution_count": 1077,
   "metadata": {},
   "outputs": [],
   "source": [
    "train['Property Price'],bins = pd.qcut(train['Property Price'],20,retbins=True, labels=False)\n",
    "test['Property Price'] = pd.cut(test['Property Price'],bins=bins, labels=False, include_lowest=True)"
   ]
  },
  {
   "cell_type": "code",
   "execution_count": 1078,
   "metadata": {},
   "outputs": [],
   "source": [
    "train['Loan Amount Request (USD)'],bins = pd.qcut(train['Loan Amount Request (USD)'],20,retbins=True, labels=False)\n",
    "test['Loan Request (USD)'] = test['Loan Amount Request (USD)']\n",
    "test['Loan Amount Request (USD)'] = pd.cut(test['Loan Amount Request (USD)'],bins=bins, labels=False, include_lowest=True)"
   ]
  },
  {
   "cell_type": "code",
   "execution_count": 1079,
   "metadata": {},
   "outputs": [],
   "source": [
    "train['Current Loan Expenses (USD)'],bins = pd.qcut(train['Current Loan Expenses (USD)'],20,retbins=True, labels=False)\n",
    "test['Current Loan Expenses (USD)'] = test['Current Loan Expenses (USD)']\n",
    "test['Current Loan Expenses (USD)'] = pd.cut(test['Current Loan Expenses (USD)'],bins=bins, labels=False, include_lowest=True)"
   ]
  },
  {
   "cell_type": "code",
   "execution_count": 1080,
   "metadata": {},
   "outputs": [],
   "source": [
    "train['Credit Score'],bins = pd.qcut(train['Credit Score'],22,retbins=True, labels=False)\n",
    "test['Credit Score'] = test['Credit Score']\n",
    "test['Credit Score'] = pd.cut(test['Credit Score'],bins=bins, labels=False, include_lowest=True)"
   ]
  },
  {
   "cell_type": "code",
   "execution_count": 1081,
   "metadata": {},
   "outputs": [],
   "source": [
    "train['Income (USD)'],bins = pd.qcut(train['Income (USD)'],22,retbins=True, labels=False)\n",
    "test['Income (USD)'] = test['Income (USD)']\n",
    "test['Income (USD)'] = pd.cut(test['Income (USD)'],bins=bins, labels=False, include_lowest=True)"
   ]
  },
  {
   "cell_type": "markdown",
   "metadata": {},
   "source": [
    "### Step 5 : Feature Engineering"
   ]
  },
  {
   "cell_type": "markdown",
   "metadata": {},
   "source": [
    "__Numerical and One-Hot Coding of Categorical variables__"
   ]
  },
  {
   "cell_type": "code",
   "execution_count": 1082,
   "metadata": {},
   "outputs": [],
   "source": [
    "var_mod = ['Income (USD)','Credit Score','Gender','Current Loan Expenses (USD)', 'Age','Property Age','Property Price','Income Stability','Type of Employment', 'Location', 'Expense Type 1', 'Expense Type 2', 'Has Active Credit Card', 'Property Location','Loan Amount Request (USD)']\n",
    "\n",
    "le = LabelEncoder()\n",
    "for i in var_mod:\n",
    "    train[i] = le.fit_transform(train[i])\n",
    "for i in var_mod:\n",
    "    test[i] = le.fit_transform(test[i])    \n",
    "#One Hot Coding:\n",
    "train = pd.get_dummies(train, columns=var_mod)\n",
    "test = pd.get_dummies(test, columns=var_mod)"
   ]
  },
  {
   "cell_type": "markdown",
   "metadata": {},
   "source": [
    "### Step 6: Building Model"
   ]
  },
  {
   "cell_type": "code",
   "execution_count": 1083,
   "metadata": {},
   "outputs": [
    {
     "output_type": "execute_result",
     "data": {
      "text/plain": [
       "156"
      ]
     },
     "metadata": {},
     "execution_count": 1083
    }
   ],
   "source": [
    "len(train.columns)"
   ]
  },
  {
   "cell_type": "code",
   "execution_count": 1084,
   "metadata": {},
   "outputs": [
    {
     "output_type": "execute_result",
     "data": {
      "text/plain": [
       "154"
      ]
     },
     "metadata": {},
     "execution_count": 1084
    }
   ],
   "source": [
    "len(test.columns)"
   ]
  },
  {
   "cell_type": "code",
   "execution_count": 1085,
   "metadata": {},
   "outputs": [],
   "source": [
    "# a=list(train.columns)\n",
    "# b=list(test.columns)\n",
    "# for i in range(len(a)):\n",
    "#     for j in range(len(b)):\n",
    "#         if a[i]==b[j]:\n",
    "#             a[i]=None\n",
    "#             b[j]=None\n",
    "# for aa in a:\n",
    "#     if aa != None:\n",
    "#         print(aa)\n",
    "# print(\"adsada\")\n",
    "# for aa in b:\n",
    "#     if aa != None:\n",
    "#         print(aa)"
   ]
  },
  {
   "cell_type": "markdown",
   "metadata": {},
   "source": [
    "### Classification Models"
   ]
  },
  {
   "cell_type": "code",
   "execution_count": 1086,
   "metadata": {},
   "outputs": [],
   "source": [
    "train = train.select_dtypes(exclude='object')\n",
    "test_customer_ID = test['Customer ID']\n",
    "test = test.select_dtypes(exclude='object')"
   ]
  },
  {
   "cell_type": "code",
   "execution_count": 1087,
   "metadata": {},
   "outputs": [],
   "source": [
    "# Seperate Features and Target\n",
    "X= train.drop(columns = ['is loan sactioned','Loan Sanction Amount (USD)','Loan Saction Fraction'], axis=1)\n",
    "y= train['is loan sactioned']\n",
    "# 20% data as validation set\n",
    "X_train,X_valid,y_train,y_valid = train_test_split(X,y,test_size=0.2,random_state=22)"
   ]
  },
  {
   "cell_type": "code",
   "execution_count": 1088,
   "metadata": {},
   "outputs": [
    {
     "output_type": "stream",
     "name": "stdout",
     "text": [
      "[12:40:48] WARNING: C:/Users/Administrator/workspace/xgboost-win64_release_1.4.0/src/learner.cc:1095: Starting in XGBoost 1.3.0, the default evaluation metric used with the objective 'binary:logistic' was changed from 'error' to 'logloss'. Explicitly set eval_metric if you'd like to restore the old behavior.\n"
     ]
    },
    {
     "output_type": "execute_result",
     "data": {
      "text/plain": [
       "                         Model  accuracy score  rocaucscore\n",
       "0       Support Vector Machine        0.906207     0.841613\n",
       "1  Stochastic Gradient Descent        0.906889     0.842075\n",
       "2                Decision Tree        0.837142     0.797722\n",
       "3       Multi-layer perceptron        0.843452     0.797814\n",
       "4     Random Forest Classifier        0.905355     0.833710\n",
       "5               XGB Classifier        0.905355     0.834756\n",
       "6           LogisticRegression        0.903820     0.837064"
      ],
      "text/html": "<div>\n<style scoped>\n    .dataframe tbody tr th:only-of-type {\n        vertical-align: middle;\n    }\n\n    .dataframe tbody tr th {\n        vertical-align: top;\n    }\n\n    .dataframe thead th {\n        text-align: right;\n    }\n</style>\n<table border=\"1\" class=\"dataframe\">\n  <thead>\n    <tr style=\"text-align: right;\">\n      <th></th>\n      <th>Model</th>\n      <th>accuracy score</th>\n      <th>rocaucscore</th>\n    </tr>\n  </thead>\n  <tbody>\n    <tr>\n      <th>0</th>\n      <td>Support Vector Machine</td>\n      <td>0.906207</td>\n      <td>0.841613</td>\n    </tr>\n    <tr>\n      <th>1</th>\n      <td>Stochastic Gradient Descent</td>\n      <td>0.906889</td>\n      <td>0.842075</td>\n    </tr>\n    <tr>\n      <th>2</th>\n      <td>Decision Tree</td>\n      <td>0.837142</td>\n      <td>0.797722</td>\n    </tr>\n    <tr>\n      <th>3</th>\n      <td>Multi-layer perceptron</td>\n      <td>0.843452</td>\n      <td>0.797814</td>\n    </tr>\n    <tr>\n      <th>4</th>\n      <td>Random Forest Classifier</td>\n      <td>0.905355</td>\n      <td>0.833710</td>\n    </tr>\n    <tr>\n      <th>5</th>\n      <td>XGB Classifier</td>\n      <td>0.905355</td>\n      <td>0.834756</td>\n    </tr>\n    <tr>\n      <th>6</th>\n      <td>LogisticRegression</td>\n      <td>0.903820</td>\n      <td>0.837064</td>\n    </tr>\n  </tbody>\n</table>\n</div>"
     },
     "metadata": {},
     "execution_count": 1088
    }
   ],
   "source": [
    "from sklearn.svm import SVC\n",
    "from sklearn.linear_model import SGDClassifier, LogisticRegression\n",
    "from sklearn.tree import DecisionTreeClassifier\n",
    "from sklearn.neural_network import MLPClassifier\n",
    "from sklearn import metrics\n",
    "from sklearn.ensemble import RandomForestClassifier\n",
    "from xgboost import XGBClassifier\n",
    "algos = [SVC(), SGDClassifier(), DecisionTreeClassifier(),MLPClassifier(),RandomForestClassifier(),XGBClassifier(),LogisticRegression()]\n",
    "\n",
    "names = ['Support Vector Machine', 'Stochastic Gradient Descent', 'Decision Tree', 'Multi-layer perceptron', 'Random Forest Classifier','XGB Classifier', 'LogisticRegression' ]\n",
    "\n",
    "accuracyscore = []\n",
    "rocaucscore = []\n",
    "for name in algos:\n",
    "    model = name\n",
    "    model.fit(X_train,y_train)\n",
    "    y_pred = model.predict(X_valid)\n",
    "    accuracyscore.append(round(metrics.accuracy_score(y_valid,y_pred),2))\n",
    "    rocaucscore.append(round(metrics.roc_auc_score(y_valid,y_pred),2))\n",
    "evaluation = pd.DataFrame({'Model': names,'accuracy score': accuracyscore, 'rocaucscore': rocaucscore})\n",
    "evaluation"
   ]
  },
  {
   "source": [
    "Model\taccuracy score\trocaucscore\n",
    "0\tSupport Vector Machine\t0.737551\t0.500000\n",
    "1\tStochastic Gradient Descent\t0.885402\t0.834833\n",
    "2\tDecision Tree\t0.832196\t0.795625\n",
    "3\tMulti-layer perceptron\t0.882674\t0.831937\n",
    "4\tRandom Forest Classifier\t0.905525\t0.834663\n",
    "5\tXGB Classifier\t0.905866\t0.835522\n",
    "6\tLogisticRegression\t0.902967\t0.835440"
   ],
   "cell_type": "markdown",
   "metadata": {}
  },
  {
   "cell_type": "code",
   "execution_count": 657,
   "metadata": {},
   "outputs": [
    {
     "output_type": "execute_result",
     "data": {
      "text/plain": [
       "RandomForestClassifier()"
      ]
     },
     "metadata": {},
     "execution_count": 657
    }
   ],
   "source": [
    "model = RandomForestClassifier()#algos[evaluation[evaluation['RMSE']==evaluation['RMSE'].min()].index[0]]\n",
    "\n",
    "model.fit(X_train,y_train)\n",
    "X_test = test.drop(columns = ['Loan Request (USD)'], axis=1)\n",
    "test['is loan sactioned'] = model.predict(X_test)\n",
    "model"
   ]
  },
  {
   "cell_type": "markdown",
   "metadata": {},
   "source": [
    "### Regression Models"
   ]
  },
  {
   "cell_type": "code",
   "execution_count": 658,
   "metadata": {},
   "outputs": [],
   "source": [
    "# Seperate Features and Target\n",
    "X= train[train['is loan sactioned']==1].drop(columns = ['is loan sactioned','Loan Sanction Amount (USD)','Loan Saction Fraction'], axis=1)\n",
    "X_test = test[test['is loan sactioned']==1].drop(columns = ['is loan sactioned','Loan Request (USD)'], axis=1)\n",
    "y= train[train['is loan sactioned']==1]['Loan Saction Fraction']"
   ]
  },
  {
   "cell_type": "code",
   "execution_count": 659,
   "metadata": {},
   "outputs": [],
   "source": [
    "# 20% data as validation set\n",
    "X_train,X_valid,y_train,y_valid = train_test_split(X,y,test_size=0.2,random_state=22)"
   ]
  },
  {
   "cell_type": "code",
   "execution_count": 660,
   "metadata": {},
   "outputs": [
    {
     "output_type": "execute_result",
     "data": {
      "text/plain": [
       "                     Model      RMSE   R2 Score\n",
       "0        Linear Regression  0.039439  46.455956\n",
       "1         Ridge Regression  0.039436  46.462838\n",
       "2  Random Forest Regressor  0.040404  43.803391"
      ],
      "text/html": "<div>\n<style scoped>\n    .dataframe tbody tr th:only-of-type {\n        vertical-align: middle;\n    }\n\n    .dataframe tbody tr th {\n        vertical-align: top;\n    }\n\n    .dataframe thead th {\n        text-align: right;\n    }\n</style>\n<table border=\"1\" class=\"dataframe\">\n  <thead>\n    <tr style=\"text-align: right;\">\n      <th></th>\n      <th>Model</th>\n      <th>RMSE</th>\n      <th>R2 Score</th>\n    </tr>\n  </thead>\n  <tbody>\n    <tr>\n      <th>0</th>\n      <td>Linear Regression</td>\n      <td>0.039439</td>\n      <td>46.455956</td>\n    </tr>\n    <tr>\n      <th>1</th>\n      <td>Ridge Regression</td>\n      <td>0.039436</td>\n      <td>46.462838</td>\n    </tr>\n    <tr>\n      <th>2</th>\n      <td>Random Forest Regressor</td>\n      <td>0.040404</td>\n      <td>43.803391</td>\n    </tr>\n  </tbody>\n</table>\n</div>"
     },
     "metadata": {},
     "execution_count": 660
    }
   ],
   "source": [
    "from sklearn.linear_model import Ridge#, Lasso\n",
    "from sklearn.linear_model import LinearRegression\n",
    "# from sklearn.tree import DecisionTreeRegressor\n",
    "\n",
    "from sklearn.ensemble import RandomForestRegressor\n",
    "# from xgboost import XGBRegressor\n",
    "\n",
    "from sklearn import metrics\n",
    "algos = [LinearRegression(),  Ridge(), RandomForestRegressor()]\n",
    "\n",
    "names = ['Linear Regression', 'Ridge Regression', 'Random Forest Regressor']\n",
    "\n",
    "rmse_list = []\n",
    "r2_score_list =[]\n",
    "for name in algos:\n",
    "    model = name\n",
    "    model.fit(X_train,y_train)\n",
    "    y_pred = model.predict(X_valid)\n",
    "    MSE= metrics.mean_squared_error(y_valid,y_pred)\n",
    "    rmse = np.sqrt(MSE)\n",
    "    rmse_list.append(rmse)\n",
    "    r2_score_list.append(100*metrics.r2_score(y_valid, model.predict(X_valid)))\n",
    "evaluation = pd.DataFrame({'Model': names,'RMSE': rmse_list,'R2 Score':r2_score_list})\n",
    "evaluation"
   ]
  },
  {
   "source": [
    "Age 6\n",
    "\tModel\tRMSE\tR2 Score\n",
    "0\tLinear Regression\t0.039775\t45.540434\n",
    "1\tRidge Regression\t0.039440\t46.453982\n",
    "2\tRandom Forest Regressor\t0.040569\t43.344920\n",
    "Age 4\n",
    "Model\tRMSE\tR2 Score\n",
    "0\tLinear Regression\t0.039766\t45.563264\n",
    "1\tRidge Regression\t0.039452\t46.421641\n",
    "2\tRandom Forest Regressor\t0.040652\t43.112408\n"
   ],
   "cell_type": "markdown",
   "metadata": {}
  },
  {
   "cell_type": "code",
   "execution_count": 661,
   "metadata": {},
   "outputs": [
    {
     "output_type": "execute_result",
     "data": {
      "text/plain": [
       "Ridge()"
      ]
     },
     "metadata": {},
     "execution_count": 661
    }
   ],
   "source": [
    "model = algos[evaluation[evaluation['RMSE']==evaluation['RMSE'].min()].index[0]]\n",
    "model.fit(X_train,y_train)\n",
    "model"
   ]
  },
  {
   "cell_type": "code",
   "execution_count": 662,
   "metadata": {},
   "outputs": [
    {
     "output_type": "execute_result",
     "data": {
      "text/plain": [
       "46.46283799043043"
      ]
     },
     "metadata": {},
     "execution_count": 662
    }
   ],
   "source": [
    "max(0,100*metrics.r2_score(y_valid, model.predict(X_valid)))"
   ]
  },
  {
   "cell_type": "code",
   "execution_count": 663,
   "metadata": {},
   "outputs": [
    {
     "output_type": "execute_result",
     "data": {
      "text/plain": [
       "(15952, 15952)"
      ]
     },
     "metadata": {},
     "execution_count": 663
    }
   ],
   "source": [
    "predicted_sanction_fraction = model.predict(X_test)\n",
    "len(test[test['is loan sactioned']==1]['is loan sactioned']),len(predicted_sanction_fraction)"
   ]
  },
  {
   "cell_type": "code",
   "execution_count": 664,
   "metadata": {
    "tags": []
   },
   "outputs": [],
   "source": [
    "j=0\n",
    "test['Loan Saction Fraction'] = test['is loan sactioned']\n",
    "for i in test[test['is loan sactioned']==1].index:\n",
    "    test.loc[i,'Loan Saction Fraction'] = predicted_sanction_fraction[j]\n",
    "    j += 1"
   ]
  },
  {
   "cell_type": "code",
   "execution_count": 665,
   "metadata": {},
   "outputs": [],
   "source": [
    "submission = pd.DataFrame()#read_csv('sample.csv')\n",
    "submission['Customer ID'] = test_customer_ID\n",
    "submission['Loan Sanction Amount (USD)'] = test['Loan Saction Fraction']\n",
    "\n",
    "submission['Loan Sanction Amount (USD)'] = test['Loan Saction Fraction'] * test['Loan Request (USD)'] / 100\n",
    "submission.to_csv('my_submission.csv', index=False)"
   ]
  }
 ],
 "metadata": {
  "interpreter": {
   "hash": "ffc98276502b517ff6a37fba4ac49b0c9b1089edd339504dfafa40c6c9dd4e74"
  },
  "kernelspec": {
   "name": "python3",
   "display_name": "Python 3.9.4 64-bit"
  },
  "language_info": {
   "codemirror_mode": {
    "name": "ipython",
    "version": 3
   },
   "file_extension": ".py",
   "mimetype": "text/x-python",
   "name": "python",
   "nbconvert_exporter": "python",
   "pygments_lexer": "ipython3",
   "version": "3.9.4"
  }
 },
 "nbformat": 4,
 "nbformat_minor": 2
}