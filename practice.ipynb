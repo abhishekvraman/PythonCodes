{
 "cells": [
  {
   "cell_type": "markdown",
   "metadata": {},
   "source": [
    "## Table of Content"
   ]
  },
  {
   "cell_type": "markdown",
   "metadata": {},
   "source": [
    "* __Step 1: Importing the Relevant Libraries__\n",
    "    \n",
    "* __Step 2: Data Inspection__\n",
    "    \n",
    "* __Step 3: Data Cleaning__\n",
    "    \n",
    "* __Step 4: Exploratory Data Analysis__\n",
    "    \n",
    "* __Step 5: Feature Engineering__\n",
    "\n",
    "* __Step 6: Building Model__\n",
    "    "
   ]
  },
  {
   "cell_type": "markdown",
   "metadata": {},
   "source": [
    "### Step 1: Importing the Relevant Libraries"
   ]
  },
  {
   "cell_type": "code",
   "execution_count": 320,
   "metadata": {},
   "outputs": [],
   "source": [
    "import matplotlib.pyplot as plt\n",
    "import pandas as pd\n",
    "import numpy as np\n",
    "import seaborn as sns\n",
    "\n",
    "from sklearn.metrics import roc_auc_score\n",
    "from sklearn.preprocessing import LabelEncoder\n",
    "from sklearn.model_selection import train_test_split\n",
    "\n",
    "import math\n",
    "\n",
    "import warnings\n",
    "warnings.filterwarnings('ignore')"
   ]
  },
  {
   "cell_type": "markdown",
   "metadata": {},
   "source": [
    "### Step 2: Data Inspection"
   ]
  },
  {
   "cell_type": "code",
   "execution_count": 321,
   "metadata": {},
   "outputs": [],
   "source": [
    "train = pd.read_csv(\"train.csv\")\n",
    "test = pd.read_csv(\"test.csv\")"
   ]
  },
  {
   "cell_type": "code",
   "execution_count": 322,
   "metadata": {},
   "outputs": [
    {
     "data": {
      "text/plain": [
       "((30000, 24), (20000, 23))"
      ]
     },
     "execution_count": 322,
     "metadata": {},
     "output_type": "execute_result"
    }
   ],
   "source": [
    "train.shape,test.shape"
   ]
  },
  {
   "cell_type": "code",
   "execution_count": 323,
   "metadata": {},
   "outputs": [
    {
     "name": "stdout",
     "output_type": "stream",
     "text": [
      "Index(['Customer ID', 'Name', 'Gender', 'Age', 'Income (USD)',\n",
      "       'Income Stability', 'Profession', 'Type of Employment', 'Location',\n",
      "       'Loan Amount Request (USD)', 'Current Loan Expenses (USD)',\n",
      "       'Expense Type 1', 'Expense Type 2', 'Dependents', 'Credit Score',\n",
      "       'No. of Defaults', 'Has Active Credit Card', 'Property ID',\n",
      "       'Property Age', 'Property Type', 'Property Location', 'Co-Applicant',\n",
      "       'Property Price', 'Loan Sanction Amount (USD)'],\n",
      "      dtype='object')\n",
      "Index(['Customer ID', 'Name', 'Gender', 'Age', 'Income (USD)',\n",
      "       'Income Stability', 'Profession', 'Type of Employment', 'Location',\n",
      "       'Loan Amount Request (USD)', 'Current Loan Expenses (USD)',\n",
      "       'Expense Type 1', 'Expense Type 2', 'Dependents', 'Credit Score',\n",
      "       'No. of Defaults', 'Has Active Credit Card', 'Property ID',\n",
      "       'Property Age', 'Property Type', 'Property Location', 'Co-Applicant',\n",
      "       'Property Price'],\n",
      "      dtype='object')\n"
     ]
    }
   ],
   "source": [
    "#ratio of null values\n",
    "print(train.columns)\n",
    "print(test.columns)"
   ]
  },
  {
   "cell_type": "code",
   "execution_count": 324,
   "metadata": {},
   "outputs": [
    {
     "name": "stdout",
     "output_type": "stream",
     "text": [
      "Categorical Features in Train Set: 11\n",
      "Numerical Features in Train Set: 13\n"
     ]
    }
   ],
   "source": [
    "#categorical features\n",
    "categorical = train.select_dtypes(include =[np.object])\n",
    "print(\"Categorical Features in Train Set:\",categorical.shape[1])\n",
    "\n",
    "#numerical features\n",
    "numerical= train.select_dtypes(include =[np.float64,np.int64])\n",
    "print(\"Numerical Features in Train Set:\",numerical.shape[1])"
   ]
  },
  {
   "cell_type": "code",
   "execution_count": 325,
   "metadata": {},
   "outputs": [
    {
     "name": "stdout",
     "output_type": "stream",
     "text": [
      "Categorical Features in Test Set: 13\n",
      "Numerical Features in Test Set: 10\n"
     ]
    }
   ],
   "source": [
    "#categorical features\n",
    "categorical_ = test.select_dtypes(include =[np.object])\n",
    "print(\"Categorical Features in Test Set:\",categorical_.shape[1])\n",
    "\n",
    "#numerical features\n",
    "numerical_= test.select_dtypes(include =[np.float64,np.int64])\n",
    "print(\"Numerical Features in Test Set:\",numerical_.shape[1])"
   ]
  },
  {
   "cell_type": "code",
   "execution_count": 326,
   "metadata": {},
   "outputs": [
    {
     "name": "stdout",
     "output_type": "stream",
     "text": [
      "Index(['Customer ID', 'Name', 'Gender', 'Income Stability', 'Profession',\n",
      "       'Type of Employment', 'Location', 'Expense Type 1', 'Expense Type 2',\n",
      "       'Has Active Credit Card', 'Property Location'],\n",
      "      dtype='object')\n",
      "Index(['Customer ID', 'Name', 'Gender', 'Income Stability', 'Profession',\n",
      "       'Type of Employment', 'Location', 'Expense Type 1', 'Expense Type 2',\n",
      "       'Has Active Credit Card', 'Property Location', 'Co-Applicant',\n",
      "       'Property Price'],\n",
      "      dtype='object')\n"
     ]
    }
   ],
   "source": [
    "print(categorical.columns)\n",
    "print(categorical_.columns)"
   ]
  },
  {
   "cell_type": "code",
   "execution_count": 327,
   "metadata": {},
   "outputs": [
    {
     "name": "stdout",
     "output_type": "stream",
     "text": [
      " 1      25516\n",
      " 0       4316\n",
      "-999      168\n",
      "Name: Co-Applicant, dtype: int64\n",
      "1    17004\n",
      "0     2919\n",
      "?       77\n",
      "Name: Co-Applicant, dtype: int64\n"
     ]
    }
   ],
   "source": [
    "print(train['Co-Applicant'].value_counts())\n",
    "print(test['Co-Applicant'].value_counts())"
   ]
  },
  {
   "cell_type": "code",
   "execution_count": 328,
   "metadata": {},
   "outputs": [],
   "source": [
    "train['Co-Applicant'] = train['Co-Applicant'].replace(-999,1)\n",
    "test['Co-Applicant'] = test['Co-Applicant'].replace(['?','1','0'],[1,1,0])\n",
    "test['Property Price'] = test['Property Price'].replace('?','-999')\n",
    "test['Property Price'] = test['Property Price'].apply(pd.to_numeric)"
   ]
  },
  {
   "cell_type": "code",
   "execution_count": 329,
   "metadata": {},
   "outputs": [
    {
     "name": "stdout",
     "output_type": "stream",
     "text": [
      "M      15053\n",
      "F      14894\n",
      "NaN       53\n",
      "Name: Gender, dtype: int64\n",
      "F      10142\n",
      "M       9827\n",
      "NaN       31\n",
      "Name: Gender, dtype: int64\n"
     ]
    }
   ],
   "source": [
    "print(train['Gender'].value_counts(dropna=False))\n",
    "print(test['Gender'].value_counts(dropna=False))"
   ]
  },
  {
   "cell_type": "code",
   "execution_count": 330,
   "metadata": {},
   "outputs": [],
   "source": [
    "train['Gender'] = train['Gender'].dropna()\n",
    "test['Gender'] = test['Gender'].dropna()"
   ]
  },
  {
   "cell_type": "code",
   "execution_count": 331,
   "metadata": {},
   "outputs": [
    {
     "name": "stdout",
     "output_type": "stream",
     "text": [
      "Low     25751\n",
      "High     2566\n",
      "NaN      1683\n",
      "Name: Income Stability, dtype: int64\n",
      "Low     17501\n",
      "High     1686\n",
      "NaN       813\n",
      "Name: Income Stability, dtype: int64\n"
     ]
    }
   ],
   "source": [
    "print(train['Income Stability'].value_counts(dropna=False))\n",
    "print(test['Income Stability'].value_counts(dropna=False))"
   ]
  },
  {
   "cell_type": "code",
   "execution_count": 332,
   "metadata": {},
   "outputs": [],
   "source": [
    "train['Income Stability'] = train['Income Stability'].fillna('Low')\n",
    "test['Income Stability'] = test['Income Stability'].fillna('Low')"
   ]
  },
  {
   "cell_type": "code",
   "execution_count": 333,
   "metadata": {},
   "outputs": [
    {
     "name": "stdout",
     "output_type": "stream",
     "text": [
      "Working                 16926\n",
      "Commercial associate     7962\n",
      "Pensioner                2740\n",
      "State servant            2366\n",
      "Unemployed                  2\n",
      "Businessman                 2\n",
      "Maternity leave             1\n",
      "Student                     1\n",
      "Name: Profession, dtype: int64\n",
      "Working                 11405\n",
      "Commercial associate     5247\n",
      "Pensioner                1764\n",
      "State servant            1577\n",
      "Student                     4\n",
      "Unemployed                  2\n",
      "Maternity leave             1\n",
      "Name: Profession, dtype: int64\n"
     ]
    }
   ],
   "source": [
    "print(train['Profession'].value_counts(dropna=False))\n",
    "print(test['Profession'].value_counts(dropna=False))"
   ]
  },
  {
   "cell_type": "code",
   "execution_count": 334,
   "metadata": {},
   "outputs": [],
   "source": [
    "train['Profession']=train['Profession'].replace(['Businessman','Unemployed','Student','Maternity leave'],['Working','Not working','Not working','Working'])\n",
    "test['Profession']=test['Profession'].replace(['Unemployed','Student','Maternity leave'],['Not working','Not working','Working'])"
   ]
  },
  {
   "cell_type": "code",
   "execution_count": 335,
   "metadata": {},
   "outputs": [
    {
     "name": "stdout",
     "output_type": "stream",
     "text": [
      "NaN                      7270\n",
      "Laborers                 5578\n",
      "Sales staff              3736\n",
      "Core staff               3230\n",
      "Managers                 2495\n",
      "Drivers                  1606\n",
      "Accountants              1379\n",
      "High skill tech staff    1307\n",
      "Medicine staff            864\n",
      "Security staff            579\n",
      "Cooking staff             566\n",
      "Private service staff     342\n",
      "Cleaning staff            341\n",
      "Low-skill Laborers        162\n",
      "Secretaries               161\n",
      "Waiters/barmen staff      149\n",
      "Realty agents              86\n",
      "IT staff                   77\n",
      "HR staff                   72\n",
      "Name: Type of Employment, dtype: int64\n",
      "NaN                      4689\n",
      "Laborers                 3743\n",
      "Sales staff              2433\n",
      "Core staff               2232\n",
      "Managers                 1719\n",
      "Drivers                  1057\n",
      "Accountants               886\n",
      "High skill tech staff     881\n",
      "Medicine staff            598\n",
      "Cooking staff             405\n",
      "Security staff            377\n",
      "Cleaning staff            230\n",
      "Private service staff     201\n",
      "Low-skill Laborers        141\n",
      "Secretaries               119\n",
      "Waiters/barmen staff      110\n",
      "Realty agents              68\n",
      "HR staff                   60\n",
      "IT staff                   51\n",
      "Name: Type of Employment, dtype: int64\n"
     ]
    }
   ],
   "source": [
    "print(train['Type of Employment'].value_counts(dropna=False))\n",
    "print(test['Type of Employment'].value_counts(dropna=False))"
   ]
  },
  {
   "cell_type": "code",
   "execution_count": 336,
   "metadata": {},
   "outputs": [],
   "source": [
    "ranks = {'Laborers':1,\n",
    "        'Sales staff':2,\n",
    "        'Core staff':3,\n",
    "        'Managers':4,\n",
    "        'Drivers':1,\n",
    "        'Accountants':3,\n",
    "        'High skill tech staff':4,\n",
    "        'Medicine staff':4,\n",
    "        'Security staff':2,\n",
    "        'Cooking staff':2,\n",
    "        'Private service staff':3,\n",
    "        'Cleaning staff':1,\n",
    "        'Low-skill Laborers':1,\n",
    "        'Secretaries':3,\n",
    "        'Waiters/barmen staff':1,\n",
    "        'Realty agents':3,\n",
    "        'IT staff':3,\n",
    "        'HR staff':4}\n",
    "train['Type of Employment'] = train['Type of Employment'].replace(ranks)\n",
    "train['Type of Employment'] = train['Type of Employment'].fillna(2)\n",
    "test['Type of Employment'] = test['Type of Employment'].replace(ranks)\n",
    "test['Type of Employment'] = test['Type of Employment'].fillna(2)"
   ]
  },
  {
   "cell_type": "code",
   "execution_count": 337,
   "metadata": {},
   "outputs": [
    {
     "name": "stdout",
     "output_type": "stream",
     "text": [
      "Semi-Urban    21563\n",
      "Rural          5338\n",
      "Urban          3099\n",
      "Name: Location, dtype: int64\n",
      "Semi-Urban    14463\n",
      "Rural          3436\n",
      "Urban          2101\n",
      "Name: Location, dtype: int64\n"
     ]
    }
   ],
   "source": [
    "print(train['Location'].value_counts(dropna=False))\n",
    "print(test['Location'].value_counts(dropna=False))"
   ]
  },
  {
   "cell_type": "code",
   "execution_count": 338,
   "metadata": {},
   "outputs": [
    {
     "name": "stdout",
     "output_type": "stream",
     "text": [
      "N    19214\n",
      "Y    10786\n",
      "Name: Expense Type 1, dtype: int64\n",
      "N    12816\n",
      "Y     7184\n",
      "Name: Expense Type 1, dtype: int64\n",
      "Y    20180\n",
      "N     9820\n",
      "Name: Expense Type 2, dtype: int64\n",
      "Y    13383\n",
      "N     6617\n",
      "Name: Expense Type 2, dtype: int64\n"
     ]
    }
   ],
   "source": [
    "print(train['Expense Type 1'].value_counts(dropna=False))\n",
    "print(test['Expense Type 1'].value_counts(dropna=False))\n",
    "print(train['Expense Type 2'].value_counts(dropna=False))\n",
    "print(test['Expense Type 2'].value_counts(dropna=False))"
   ]
  },
  {
   "cell_type": "code",
   "execution_count": 339,
   "metadata": {},
   "outputs": [
    {
     "name": "stdout",
     "output_type": "stream",
     "text": [
      "Active         9771\n",
      "Inactive       9466\n",
      "Unpossessed    9197\n",
      "NaN            1566\n",
      "Name: Has Active Credit Card, dtype: int64\n",
      "Active         6418\n",
      "Inactive       6376\n",
      "Unpossessed    6130\n",
      "NaN            1076\n",
      "Name: Has Active Credit Card, dtype: int64\n"
     ]
    }
   ],
   "source": [
    "print(train['Has Active Credit Card'].value_counts(dropna=False))\n",
    "print(test['Has Active Credit Card'].value_counts(dropna=False))"
   ]
  },
  {
   "cell_type": "code",
   "execution_count": 340,
   "metadata": {},
   "outputs": [],
   "source": [
    "train['Has Active Credit Card'] = train['Has Active Credit Card'].fillna('Unknown')\n",
    "test['Has Active Credit Card'] = test['Has Active Credit Card'].fillna('Unknown')"
   ]
  },
  {
   "cell_type": "code",
   "execution_count": 341,
   "metadata": {},
   "outputs": [
    {
     "name": "stdout",
     "output_type": "stream",
     "text": [
      "Semi-Urban    10387\n",
      "Rural         10041\n",
      "Urban          9216\n",
      "NaN             356\n",
      "Name: Property Location, dtype: int64\n",
      "Semi-Urban    6839\n",
      "Rural         6768\n",
      "Urban         6233\n",
      "NaN            160\n",
      "Name: Property Location, dtype: int64\n"
     ]
    }
   ],
   "source": [
    "print(train['Property Location'].value_counts(dropna=False))\n",
    "print(test['Property Location'].value_counts(dropna=False))"
   ]
  },
  {
   "cell_type": "code",
   "execution_count": 342,
   "metadata": {},
   "outputs": [],
   "source": [
    "train['Property Location'] = train['Property Location'].fillna('Semi-Urban')\n",
    "test['Property Location'] = test['Property Location'].fillna('Semi-Urban')"
   ]
  },
  {
   "cell_type": "markdown",
   "metadata": {},
   "source": [
    "Changing Dependents to catregorical data"
   ]
  },
  {
   "cell_type": "code",
   "execution_count": 343,
   "metadata": {},
   "outputs": [
    {
     "name": "stdout",
     "output_type": "stream",
     "text": [
      "2.0     13108\n",
      "3.0      5719\n",
      "1.0      5544\n",
      "4.0      2704\n",
      "NaN      2493\n",
      "5.0       372\n",
      "6.0        50\n",
      "7.0         7\n",
      "8.0         1\n",
      "14.0        1\n",
      "10.0        1\n",
      "Name: Dependents, dtype: int64\n",
      "2.0     8951\n",
      "3.0     3874\n",
      "1.0     3843\n",
      "4.0     1915\n",
      "NaN     1142\n",
      "5.0      245\n",
      "6.0       21\n",
      "8.0        4\n",
      "7.0        3\n",
      "10.0       1\n",
      "13.0       1\n",
      "Name: Dependents, dtype: int64\n"
     ]
    }
   ],
   "source": [
    "print(train['Dependents'].value_counts(dropna=False))\n",
    "print(test['Dependents'].value_counts(dropna=False))"
   ]
  },
  {
   "cell_type": "code",
   "execution_count": 344,
   "metadata": {},
   "outputs": [],
   "source": [
    "train['Dependents'] = train['Dependents'].fillna(2)\n",
    "test['Dependents'] = test['Dependents'].fillna(2)\n",
    "# train.loc[(train['Dependents']<4),'Dependents'] = 2\n",
    "# test.loc[(test['Dependents']<4),'Dependents'] = 2\n",
    "# train.loc[(train['Dependents']>2),'Dependents'] = 1\n",
    "# test.loc[(test['Dependents']>2),'Dependents'] = 1"
   ]
  },
  {
   "cell_type": "markdown",
   "metadata": {},
   "source": [
    "__Numberical__"
   ]
  },
  {
   "cell_type": "code",
   "execution_count": 345,
   "metadata": {},
   "outputs": [
    {
     "name": "stdout",
     "output_type": "stream",
     "text": [
      "Index(['Age', 'Income (USD)', 'Loan Amount Request (USD)',\n",
      "       'Current Loan Expenses (USD)', 'Dependents', 'Credit Score',\n",
      "       'No. of Defaults', 'Property ID', 'Property Age', 'Property Type',\n",
      "       'Co-Applicant', 'Property Price', 'Loan Sanction Amount (USD)'],\n",
      "      dtype='object')\n",
      "Index(['Age', 'Income (USD)', 'Loan Amount Request (USD)',\n",
      "       'Current Loan Expenses (USD)', 'Dependents', 'Credit Score',\n",
      "       'No. of Defaults', 'Property ID', 'Property Age', 'Property Type'],\n",
      "      dtype='object')\n"
     ]
    }
   ],
   "source": [
    "print(numerical.columns)\n",
    "print(numerical_.columns)"
   ]
  },
  {
   "cell_type": "code",
   "execution_count": 351,
   "metadata": {},
   "outputs": [
    {
     "data": {
      "text/plain": [
       "count    25146.000000\n",
       "mean         6.991442\n",
       "std          4.042626\n",
       "min          1.034795\n",
       "25%          4.521719\n",
       "50%          6.090644\n",
       "75%          8.468596\n",
       "max         89.662959\n",
       "Name: Property Age, dtype: float64"
      ]
     },
     "execution_count": 351,
     "metadata": {},
     "output_type": "execute_result"
    },
    {
     "data": {
      "image/png": "[encoded data removed]",
      "text/plain": [
       "<Figure size 1296x360 with 1 Axes>"
      ]
     },
     "metadata": {
      "needs_background": "light"
     },
     "output_type": "display_data"
    }
   ],
   "source": [
    "st = 'Property Age'\n",
    "plt.figure(figsize=(18,5))\n",
    "sns.boxplot(st,data=train)\n",
    "train[st].describe()"
   ]
  },
  {
   "cell_type": "code",
   "execution_count": 352,
   "metadata": {},
   "outputs": [
    {
     "data": {
      "text/plain": [
       "count    19108.000000\n",
       "mean         6.942745\n",
       "std          3.858929\n",
       "min          1.009836\n",
       "25%          4.543555\n",
       "50%          6.083849\n",
       "75%          8.444521\n",
       "max         83.363507\n",
       "Name: Property Age, dtype: float64"
      ]
     },
     "execution_count": 352,
     "metadata": {},
     "output_type": "execute_result"
    },
    {
     "data": {
      "image/png": "[encoded data removed]",
      "text/plain": [
       "<Figure size 1296x360 with 1 Axes>"
      ]
     },
     "metadata": {
      "needs_background": "light"
     },
     "output_type": "display_data"
    }
   ],
   "source": [
    "plt.figure(figsize=(18,5))\n",
    "sns.boxplot(st,data=test)\n",
    "test[st].describe()"
   ]
  },
  {
   "cell_type": "code",
   "execution_count": 348,
   "metadata": {},
   "outputs": [
    {
     "name": "stdout",
     "output_type": "stream",
     "text": [
      "NaN        4850\n",
      "2415.70       4\n",
      "1608.43       4\n",
      "1723.73       3\n",
      "1946.61       3\n",
      "           ... \n",
      "1375.78       1\n",
      "2008.72       1\n",
      "2020.11       1\n",
      "2491.88       1\n",
      "4907.72       1\n",
      "Name: Property Age, Length: 24180, dtype: int64\n",
      "NaN        892\n",
      "1923.12      3\n",
      "1720.04      3\n",
      "1876.05      3\n",
      "2248.35      3\n",
      "          ... \n",
      "2515.51      1\n",
      "3185.09      1\n",
      "3396.09      1\n",
      "6650.52      1\n",
      "3953.43      1\n",
      "Name: Property Age, Length: 18561, dtype: int64\n"
     ]
    }
   ],
   "source": [
    "print(train[st].value_counts(dropna=False))\n",
    "print(test[st].value_counts(dropna=False))"
   ]
  },
  {
   "cell_type": "markdown",
   "metadata": {},
   "source": [
    "There are some outliers in Property Age and Property Price"
   ]
  },
  {
   "cell_type": "code",
   "execution_count": 349,
   "metadata": {},
   "outputs": [
    {
     "name": "stdout",
     "output_type": "stream",
     "text": [
      "NaN          4850\n",
      "4.406658        4\n",
      "6.618356        4\n",
      "5.042959        3\n",
      "5.793205        3\n",
      "             ... \n",
      "11.501562       1\n",
      "4.453041        1\n",
      "5.551890        1\n",
      "5.164027        1\n",
      "4.682027        1\n",
      "Name: Property Age, Length: 24180, dtype: int64\n",
      "NaN         892\n",
      "5.606932      3\n",
      "5.542274      3\n",
      "5.268822      3\n",
      "3.565123      3\n",
      "           ... \n",
      "6.469616      1\n",
      "8.996466      1\n",
      "3.565863      1\n",
      "1.880630      1\n",
      "6.108301      1\n",
      "Name: Property Age, Length: 18561, dtype: int64\n"
     ]
    }
   ],
   "source": [
    "train['Property Age'] = train['Property Age']/(365)\n",
    "test['Property Age'] = test['Property Age']/(365)\n",
    "print(train['Property Age'].value_counts(dropna=False))\n",
    "print(test['Property Age'].value_counts(dropna=False))"
   ]
  },
  {
   "cell_type": "code",
   "execution_count": 353,
   "metadata": {},
   "outputs": [],
   "source": [
    "train = train[train['Property Age']<90]\n",
    "# test = test.drop(['Property Age'],axis=1)"
   ]
  },
  {
   "cell_type": "code",
   "execution_count": 354,
   "metadata": {},
   "outputs": [
    {
     "name": "stdout",
     "output_type": "stream",
     "text": [
      "-999.0    261\n",
      "Name: Property Price, dtype: int64\n",
      "-999.0    168\n",
      "Name: Property Price, dtype: int64\n"
     ]
    }
   ],
   "source": [
    "print(train[train['Property Price']<0]['Property Price'].value_counts(dropna=False))\n",
    "print(test[test['Property Price']<0]['Property Price'].value_counts(dropna=False))"
   ]
  },
  {
   "cell_type": "code",
   "execution_count": 355,
   "metadata": {},
   "outputs": [],
   "source": [
    "train['Current Loan Expenses (USD)'] = train['Current Loan Expenses (USD)'].fillna(train['Current Loan Expenses (USD)'].mean())\n",
    "test['Current Loan Expenses (USD)'] = test['Current Loan Expenses (USD)'].fillna(test['Current Loan Expenses (USD)'].mean())\n",
    "train['Credit Score'] = train['Credit Score'].fillna(train['Credit Score'].mean())\n",
    "test['Credit Score'] = test['Credit Score'].fillna(test['Credit Score'].mean())"
   ]
  },
  {
   "cell_type": "code",
   "execution_count": 356,
   "metadata": {
    "tags": []
   },
   "outputs": [],
   "source": [
    "df = train[train['Property Age'].isna()][['Property Age']]\n",
    "df2 = train[~train['Property Age'].isna()][['Property Age','Property Location','Property Type']]\n",
    "for i in df.index:\n",
    "    train.at[i,'Property Age'] = df2[(df2['Property Location']==train.at[i,'Property Location']) & (df2['Property Type'] == train.at[i,'Property Type'])]['Property Age'].mean()"
   ]
  },
  {
   "cell_type": "code",
   "execution_count": 357,
   "metadata": {},
   "outputs": [],
   "source": [
    "df = test[test['Property Age'].isna()][['Property Age']]\n",
    "df2 = test[~test['Property Age'].isna()][['Property Age','Property Location','Property Type']]\n",
    "for i in df.index:\n",
    "    test.at[i,'Property Age'] = df2[(df2['Property Location']==test.at[i,'Property Location']) & (df2['Property Type'] == test.at[i,'Property Type'])]['Property Age'].mean()"
   ]
  },
  {
   "cell_type": "code",
   "execution_count": 358,
   "metadata": {},
   "outputs": [],
   "source": [
    "df = train[train['Property Price']<0][['Property Price']]\n",
    "df2 = train[train['Property Price']>0][['Property Price','Property Location','Property Type']]\n",
    "for i in df.index:\n",
    "    train.at[i,'Property Price'] = df2[(df2['Property Location']==train.at[i,'Property Location']) & (df2['Property Type'] == train.at[i,'Property Type'])]['Property Price'].mean()"
   ]
  },
  {
   "cell_type": "code",
   "execution_count": 359,
   "metadata": {},
   "outputs": [],
   "source": [
    "df = test[test['Property Price']<0][['Property Price']]\n",
    "df2 = test[test['Property Price']>0][['Property Price','Property Location','Property Type']]\n",
    "for i in df.index:\n",
    "    test.at[i,'Property Price'] = df2[(df2['Property Location']==test.at[i,'Property Location']) & (df2['Property Type'] == test.at[i,'Property Type'])]['Property Price'].mean()"
   ]
  },
  {
   "cell_type": "code",
   "execution_count": 360,
   "metadata": {},
   "outputs": [],
   "source": [
    "df = train[train['Income (USD)'].isna()][['Income (USD)']]\n",
    "df2 = train[~train['Income (USD)'].isna()][['Income (USD)','Profession','Type of Employment']]\n",
    "for i in df.index:\n",
    "    train.at[i,'Income (USD)'] = df2[(df2['Profession']==train.at[i,'Profession']) & (df2['Type of Employment'] == train.at[i,'Type of Employment'])]['Income (USD)'].mean()"
   ]
  },
  {
   "cell_type": "code",
   "execution_count": 361,
   "metadata": {},
   "outputs": [],
   "source": [
    "df = test[test['Income (USD)'].isna()][['Income (USD)']]\n",
    "df2 = test[~test['Income (USD)'].isna()][['Income (USD)','Profession','Type of Employment']]\n",
    "for i in df.index:\n",
    "    test.at[i,'Income (USD)'] = df2[(df2['Profession']==test.at[i,'Profession']) & (df2['Type of Employment'] == test.at[i,'Type of Employment'])]['Income (USD)'].mean()"
   ]
  },
  {
   "cell_type": "code",
   "execution_count": 362,
   "metadata": {},
   "outputs": [
    {
     "data": {
      "text/plain": [
       "Customer ID                      0\n",
       "Name                             0\n",
       "Gender                          45\n",
       "Age                              0\n",
       "Income (USD)                     0\n",
       "Income Stability                 0\n",
       "Profession                       0\n",
       "Type of Employment               0\n",
       "Location                         0\n",
       "Loan Amount Request (USD)        0\n",
       "Current Loan Expenses (USD)      0\n",
       "Expense Type 1                   0\n",
       "Expense Type 2                   0\n",
       "Dependents                       0\n",
       "Credit Score                     0\n",
       "No. of Defaults                  0\n",
       "Has Active Credit Card           0\n",
       "Property ID                      0\n",
       "Property Age                     0\n",
       "Property Type                    0\n",
       "Property Location                0\n",
       "Co-Applicant                     0\n",
       "Property Price                   0\n",
       "Loan Sanction Amount (USD)     250\n",
       "dtype: int64"
      ]
     },
     "execution_count": 362,
     "metadata": {},
     "output_type": "execute_result"
    }
   ],
   "source": [
    "train.isnull().sum()"
   ]
  },
  {
   "cell_type": "code",
   "execution_count": 363,
   "metadata": {},
   "outputs": [],
   "source": [
    "train = train.dropna(subset=['Loan Sanction Amount (USD)'])\n",
    "train = train.replace(-999,0)"
   ]
  },
  {
   "cell_type": "code",
   "execution_count": 364,
   "metadata": {},
   "outputs": [
    {
     "data": {
      "text/html": [
       "<div>\n",
       "<style scoped>\n",
       "    .dataframe tbody tr th:only-of-type {\n",
       "        vertical-align: middle;\n",
       "    }\n",
       "\n",
       "    .dataframe tbody tr th {\n",
       "        vertical-align: top;\n",
       "    }\n",
       "\n",
       "    .dataframe thead th {\n",
       "        text-align: right;\n",
       "    }\n",
       "</style>\n",
       "<table border=\"1\" class=\"dataframe\">\n",
       "  <thead>\n",
       "    <tr style=\"text-align: right;\">\n",
       "      <th></th>\n",
       "      <th>is loan sactioned</th>\n",
       "      <th>Loan Sanction Amount (USD)</th>\n",
       "    </tr>\n",
       "  </thead>\n",
       "  <tbody>\n",
       "    <tr>\n",
       "      <th>0</th>\n",
       "      <td>1</td>\n",
       "      <td>54607.18</td>\n",
       "    </tr>\n",
       "    <tr>\n",
       "      <th>1</th>\n",
       "      <td>1</td>\n",
       "      <td>37469.98</td>\n",
       "    </tr>\n",
       "    <tr>\n",
       "      <th>2</th>\n",
       "      <td>1</td>\n",
       "      <td>36474.43</td>\n",
       "    </tr>\n",
       "    <tr>\n",
       "      <th>4</th>\n",
       "      <td>1</td>\n",
       "      <td>74008.28</td>\n",
       "    </tr>\n",
       "    <tr>\n",
       "      <th>5</th>\n",
       "      <td>1</td>\n",
       "      <td>22382.57</td>\n",
       "    </tr>\n",
       "    <tr>\n",
       "      <th>...</th>\n",
       "      <td>...</td>\n",
       "      <td>...</td>\n",
       "    </tr>\n",
       "    <tr>\n",
       "      <th>29994</th>\n",
       "      <td>1</td>\n",
       "      <td>62857.78</td>\n",
       "    </tr>\n",
       "    <tr>\n",
       "      <th>29995</th>\n",
       "      <td>1</td>\n",
       "      <td>68992.11</td>\n",
       "    </tr>\n",
       "    <tr>\n",
       "      <th>29996</th>\n",
       "      <td>1</td>\n",
       "      <td>46616.60</td>\n",
       "    </tr>\n",
       "    <tr>\n",
       "      <th>29998</th>\n",
       "      <td>1</td>\n",
       "      <td>99766.87</td>\n",
       "    </tr>\n",
       "    <tr>\n",
       "      <th>29999</th>\n",
       "      <td>1</td>\n",
       "      <td>117217.90</td>\n",
       "    </tr>\n",
       "  </tbody>\n",
       "</table>\n",
       "<p>24896 rows × 2 columns</p>\n",
       "</div>"
      ],
      "text/plain": [
       "       is loan sactioned  Loan Sanction Amount (USD)\n",
       "0                      1                    54607.18\n",
       "1                      1                    37469.98\n",
       "2                      1                    36474.43\n",
       "4                      1                    74008.28\n",
       "5                      1                    22382.57\n",
       "...                  ...                         ...\n",
       "29994                  1                    62857.78\n",
       "29995                  1                    68992.11\n",
       "29996                  1                    46616.60\n",
       "29998                  1                    99766.87\n",
       "29999                  1                   117217.90\n",
       "\n",
       "[24896 rows x 2 columns]"
      ]
     },
     "execution_count": 364,
     "metadata": {},
     "output_type": "execute_result"
    }
   ],
   "source": [
    "train['Loan Saction Fraction'] = round(train['Loan Sanction Amount (USD)']/train['Loan Amount Request (USD)'],2)\n",
    "train['is loan sactioned'] = 0\n",
    "train.loc[(train['Loan Sanction Amount (USD)'] > 0), ('is loan sactioned')] = 1\n",
    "train[['is loan sactioned','Loan Sanction Amount (USD)']]"
   ]
  },
  {
   "cell_type": "code",
   "execution_count": 365,
   "metadata": {},
   "outputs": [
    {
     "data": {
      "text/plain": [
       "Customer ID                     0\n",
       "Name                            0\n",
       "Gender                         31\n",
       "Age                             0\n",
       "Income (USD)                    0\n",
       "Income Stability                0\n",
       "Profession                      0\n",
       "Type of Employment              0\n",
       "Location                        0\n",
       "Loan Amount Request (USD)       0\n",
       "Current Loan Expenses (USD)     0\n",
       "Expense Type 1                  0\n",
       "Expense Type 2                  0\n",
       "Dependents                      0\n",
       "Credit Score                    0\n",
       "No. of Defaults                 0\n",
       "Has Active Credit Card          0\n",
       "Property ID                     0\n",
       "Property Age                    0\n",
       "Property Type                   0\n",
       "Property Location               0\n",
       "Co-Applicant                    0\n",
       "Property Price                  0\n",
       "dtype: int64"
      ]
     },
     "execution_count": 365,
     "metadata": {},
     "output_type": "execute_result"
    }
   ],
   "source": [
    "test.isnull().sum()"
   ]
  },
  {
   "cell_type": "code",
   "execution_count": 366,
   "metadata": {},
   "outputs": [],
   "source": [
    "train['Age'],bins = pd.cut(train['Age'],8,retbins=True, labels=False)\n",
    "test['Age'] = pd.cut(test['Age'], bins=bins, labels=False, include_lowest=True)"
   ]
  },
  {
   "cell_type": "code",
   "execution_count": 367,
   "metadata": {},
   "outputs": [],
   "source": [
    "train['Property Age'],bins = pd.cut(train['Property Age'],8,retbins=True, labels=False)\n",
    "test['Property Age'] = pd.cut(test['Property Age'], bins=bins, labels=False, include_lowest=True)\n",
    "train['Property Price'],bins = pd.qcut(train['Property Price'],20,retbins=True, labels=False)\n",
    "test['Property Price'] = pd.cut(test['Property Price'],bins=bins, labels=False, include_lowest=True)"
   ]
  },
  {
   "cell_type": "code",
   "execution_count": 368,
   "metadata": {},
   "outputs": [
    {
     "name": "stdout",
     "output_type": "stream",
     "text": [
      "Correlation (Train set):  -0.01407238375905385\n",
      "Correlation (Test set):  0.0258478881519123\n"
     ]
    }
   ],
   "source": [
    "le = LabelEncoder()\n",
    "Income_Stability = pd.Series(le.fit_transform(train['Expense Type 2']))\n",
    "print(\"Correlation (Train set): \", Income_Stability.corr(train['Dependents']))\n",
    "\n",
    "Income_Stability = pd.Series(le.fit_transform(test['Expense Type 2']))\n",
    "print(\"Correlation (Test set): \", Income_Stability.corr(test['Dependents']))\n"
   ]
  },
  {
   "cell_type": "markdown",
   "metadata": {},
   "source": [
    "### Step 5 : Feature Engineering"
   ]
  },
  {
   "cell_type": "markdown",
   "metadata": {},
   "source": [
    "__Numerical and One-Hot Coding of Categorical variables__"
   ]
  },
  {
   "cell_type": "code",
   "execution_count": 369,
   "metadata": {},
   "outputs": [],
   "source": [
    "var_mod = ['Gender', 'Age','Property Age','Property Price','Income Stability', 'Profession','Type of Employment', 'Location', 'Expense Type 1', 'Expense Type 2', 'Has Active Credit Card', 'Property Location']\n",
    "le = LabelEncoder()\n",
    "for i in var_mod:\n",
    "    train[i] = le.fit_transform(train[i])\n",
    "    \n",
    "#One Hot Coding:\n",
    "train = pd.get_dummies(train, columns=var_mod)"
   ]
  },
  {
   "cell_type": "code",
   "execution_count": 370,
   "metadata": {},
   "outputs": [],
   "source": [
    "le = LabelEncoder()\n",
    "for i in var_mod:\n",
    "    test[i] = le.fit_transform(test[i])\n",
    "    \n",
    "#One Hot Coding:\n",
    "test = pd.get_dummies(test, columns=var_mod)"
   ]
  },
  {
   "cell_type": "markdown",
   "metadata": {},
   "source": [
    "### Step 6: Building Model"
   ]
  },
  {
   "cell_type": "code",
   "execution_count": 371,
   "metadata": {},
   "outputs": [
    {
     "data": {
      "text/plain": [
       "71"
      ]
     },
     "execution_count": 371,
     "metadata": {},
     "output_type": "execute_result"
    }
   ],
   "source": [
    "len(train.columns)"
   ]
  },
  {
   "cell_type": "code",
   "execution_count": 372,
   "metadata": {},
   "outputs": [
    {
     "data": {
      "text/plain": [
       "68"
      ]
     },
     "execution_count": 372,
     "metadata": {},
     "output_type": "execute_result"
    }
   ],
   "source": [
    "len(test.columns)"
   ]
  },
  {
   "cell_type": "markdown",
   "metadata": {},
   "source": [
    "Classification Models"
   ]
  },
  {
   "cell_type": "code",
   "execution_count": 373,
   "metadata": {},
   "outputs": [],
   "source": [
    "train = train.select_dtypes(exclude='object')\n",
    "test_customer_ID = test['Customer ID']\n",
    "test = test.select_dtypes(exclude='object')"
   ]
  },
  {
   "cell_type": "code",
   "execution_count": 374,
   "metadata": {},
   "outputs": [],
   "source": [
    "# Seperate Features and Target\n",
    "X= train.drop(columns = ['is loan sactioned','Loan Sanction Amount (USD)','Loan Saction Fraction'], axis=1)\n",
    "y= train['is loan sactioned']\n",
    "# 20% data as validation set\n",
    "X_train,X_valid,y_train,y_valid = train_test_split(X,y,test_size=0.2,random_state=22)"
   ]
  },
  {
   "cell_type": "code",
   "execution_count": 375,
   "metadata": {},
   "outputs": [
    {
     "data": {
      "text/html": [
       "<div>\n",
       "<style scoped>\n",
       "    .dataframe tbody tr th:only-of-type {\n",
       "        vertical-align: middle;\n",
       "    }\n",
       "\n",
       "    .dataframe tbody tr th {\n",
       "        vertical-align: top;\n",
       "    }\n",
       "\n",
       "    .dataframe thead th {\n",
       "        text-align: right;\n",
       "    }\n",
       "</style>\n",
       "<table border=\"1\" class=\"dataframe\">\n",
       "  <thead>\n",
       "    <tr style=\"text-align: right;\">\n",
       "      <th></th>\n",
       "      <th>Algo</th>\n",
       "      <th>Model</th>\n",
       "      <th>RMSE</th>\n",
       "    </tr>\n",
       "  </thead>\n",
       "  <tbody>\n",
       "    <tr>\n",
       "      <th>0</th>\n",
       "      <td>SVC()</td>\n",
       "      <td>Support Vector Machine</td>\n",
       "      <td>0.553013</td>\n",
       "    </tr>\n",
       "    <tr>\n",
       "      <th>1</th>\n",
       "      <td>SGDClassifier()</td>\n",
       "      <td>Stochastic Gradient Descent</td>\n",
       "      <td>0.556993</td>\n",
       "    </tr>\n",
       "    <tr>\n",
       "      <th>2</th>\n",
       "      <td>DecisionTreeClassifier()</td>\n",
       "      <td>Decision Tree</td>\n",
       "      <td>0.429345</td>\n",
       "    </tr>\n",
       "    <tr>\n",
       "      <th>3</th>\n",
       "      <td>MLPClassifier()</td>\n",
       "      <td>Multi-layer perceptron</td>\n",
       "      <td>0.831484</td>\n",
       "    </tr>\n",
       "  </tbody>\n",
       "</table>\n",
       "</div>"
      ],
      "text/plain": [
       "                       Algo                        Model      RMSE\n",
       "0                     SVC()       Support Vector Machine  0.553013\n",
       "1           SGDClassifier()  Stochastic Gradient Descent  0.556993\n",
       "2  DecisionTreeClassifier()                Decision Tree  0.429345\n",
       "3           MLPClassifier()       Multi-layer perceptron  0.831484"
      ]
     },
     "execution_count": 375,
     "metadata": {},
     "output_type": "execute_result"
    }
   ],
   "source": [
    "from sklearn.svm import SVC\n",
    "from sklearn.linear_model import SGDClassifier\n",
    "from sklearn.tree import DecisionTreeClassifier\n",
    "from sklearn.neural_network import MLPClassifier\n",
    "from sklearn import metrics\n",
    "algos = [SVC(), SGDClassifier(), DecisionTreeClassifier(),MLPClassifier()]\n",
    "\n",
    "names = ['Support Vector Machine', 'Stochastic Gradient Descent', 'Decision Tree', 'Multi-layer perceptron' ]\n",
    "\n",
    "rmse_list = []\n",
    "for name in algos:\n",
    "    model = name\n",
    "    model.fit(X_train,y_train)\n",
    "    y_pred = model.predict(X_valid)\n",
    "    MSE= metrics.mean_squared_error(y_valid,y_pred)\n",
    "    rmse = np.sqrt(MSE)\n",
    "    rmse_list.append(rmse)\n",
    "evaluation = pd.DataFrame({'Algo':algos,'Model': names,'RMSE': rmse_list})\n",
    "evaluation"
   ]
  },
  {
   "cell_type": "code",
   "execution_count": 376,
   "metadata": {},
   "outputs": [
    {
     "data": {
      "text/plain": [
       "DecisionTreeClassifier()"
      ]
     },
     "execution_count": 376,
     "metadata": {},
     "output_type": "execute_result"
    }
   ],
   "source": [
    "model = algos[evaluation[evaluation['RMSE']==evaluation['RMSE'].min()].index[0]]\n",
    "model.fit(X_train,y_train)\n",
    "test['is loan sactioned'] = model.predict(test)\n",
    "model"
   ]
  },
  {
   "cell_type": "markdown",
   "metadata": {},
   "source": [
    "Regression Models"
   ]
  },
  {
   "cell_type": "code",
   "execution_count": 377,
   "metadata": {},
   "outputs": [],
   "source": [
    "# Seperate Features and Target\n",
    "X= train[train['is loan sactioned']==1].drop(columns = ['is loan sactioned','Loan Sanction Amount (USD)','Loan Saction Fraction'], axis=1)\n",
    "X_test = test[test['is loan sactioned']==1].drop(columns = ['is loan sactioned'], axis=1)\n",
    "y= train[train['is loan sactioned']==1]['Loan Saction Fraction']"
   ]
  },
  {
   "cell_type": "code",
   "execution_count": 378,
   "metadata": {},
   "outputs": [],
   "source": [
    "# 20% data as validation set\n",
    "X_train,X_valid,y_train,y_valid = train_test_split(X,y,test_size=0.2,random_state=22)"
   ]
  },
  {
   "cell_type": "code",
   "execution_count": 379,
   "metadata": {},
   "outputs": [
    {
     "data": {
      "text/html": [
       "<div>\n",
       "<style scoped>\n",
       "    .dataframe tbody tr th:only-of-type {\n",
       "        vertical-align: middle;\n",
       "    }\n",
       "\n",
       "    .dataframe tbody tr th {\n",
       "        vertical-align: top;\n",
       "    }\n",
       "\n",
       "    .dataframe thead th {\n",
       "        text-align: right;\n",
       "    }\n",
       "</style>\n",
       "<table border=\"1\" class=\"dataframe\">\n",
       "  <thead>\n",
       "    <tr style=\"text-align: right;\">\n",
       "      <th></th>\n",
       "      <th>Algo</th>\n",
       "      <th>Model</th>\n",
       "      <th>RMSE</th>\n",
       "    </tr>\n",
       "  </thead>\n",
       "  <tbody>\n",
       "    <tr>\n",
       "      <th>0</th>\n",
       "      <td>LinearRegression()</td>\n",
       "      <td>Linear Regression</td>\n",
       "      <td>0.043601</td>\n",
       "    </tr>\n",
       "    <tr>\n",
       "      <th>1</th>\n",
       "      <td>Ridge()</td>\n",
       "      <td>Ridge Regression</td>\n",
       "      <td>0.043601</td>\n",
       "    </tr>\n",
       "    <tr>\n",
       "      <th>2</th>\n",
       "      <td>Lasso()</td>\n",
       "      <td>Lasso Regression</td>\n",
       "      <td>0.047231</td>\n",
       "    </tr>\n",
       "    <tr>\n",
       "      <th>3</th>\n",
       "      <td>KNeighborsRegressor()</td>\n",
       "      <td>K Neighbors Regressor</td>\n",
       "      <td>0.059531</td>\n",
       "    </tr>\n",
       "    <tr>\n",
       "      <th>4</th>\n",
       "      <td>DecisionTreeRegressor()</td>\n",
       "      <td>Decision Tree Regressor</td>\n",
       "      <td>0.054947</td>\n",
       "    </tr>\n",
       "  </tbody>\n",
       "</table>\n",
       "</div>"
      ],
      "text/plain": [
       "                      Algo                    Model      RMSE\n",
       "0       LinearRegression()        Linear Regression  0.043601\n",
       "1                  Ridge()         Ridge Regression  0.043601\n",
       "2                  Lasso()         Lasso Regression  0.047231\n",
       "3    KNeighborsRegressor()    K Neighbors Regressor  0.059531\n",
       "4  DecisionTreeRegressor()  Decision Tree Regressor  0.054947"
      ]
     },
     "execution_count": 379,
     "metadata": {},
     "output_type": "execute_result"
    }
   ],
   "source": [
    "from sklearn.linear_model import Ridge, Lasso, LinearRegression\n",
    "from sklearn.tree import DecisionTreeRegressor\n",
    "from sklearn.neighbors import KNeighborsRegressor\n",
    "from sklearn import metrics\n",
    "algos = [LinearRegression(),  Ridge(), Lasso(),\n",
    "          KNeighborsRegressor(), DecisionTreeRegressor()]\n",
    "\n",
    "names = ['Linear Regression', 'Ridge Regression', 'Lasso Regression',\n",
    "         'K Neighbors Regressor', 'Decision Tree Regressor']\n",
    "\n",
    "rmse_list = []\n",
    "for name in algos:\n",
    "    model = name\n",
    "    model.fit(X_train,y_train)\n",
    "    y_pred = model.predict(X_valid)\n",
    "    MSE= metrics.mean_squared_error(y_valid,y_pred)\n",
    "    rmse = np.sqrt(MSE)\n",
    "    rmse_list.append(rmse)\n",
    "evaluation = pd.DataFrame({'Algo':algos,'Model': names,'RMSE': rmse_list})\n",
    "evaluation"
   ]
  },
  {
   "cell_type": "code",
   "execution_count": 380,
   "metadata": {},
   "outputs": [
    {
     "data": {
      "text/plain": [
       "Ridge()"
      ]
     },
     "execution_count": 380,
     "metadata": {},
     "output_type": "execute_result"
    }
   ],
   "source": [
    "model = algos[evaluation[evaluation['RMSE']==evaluation['RMSE'].min()].index[0]]\n",
    "model.fit(X_train,y_train)\n",
    "model"
   ]
  },
  {
   "cell_type": "code",
   "execution_count": 381,
   "metadata": {},
   "outputs": [
    {
     "data": {
      "text/plain": [
       "39.21893420460645"
      ]
     },
     "execution_count": 381,
     "metadata": {},
     "output_type": "execute_result"
    }
   ],
   "source": [
    "max(0,100*metrics.r2_score(y_valid, model.predict(X_valid)))"
   ]
  },
  {
   "cell_type": "code",
   "execution_count": 382,
   "metadata": {},
   "outputs": [
    {
     "data": {
      "text/plain": [
       "(13711, 13711)"
      ]
     },
     "execution_count": 382,
     "metadata": {},
     "output_type": "execute_result"
    }
   ],
   "source": [
    "predicted_sanction_fraction = model.predict(X_test)\n",
    "len(test[test['is loan sactioned']==1]['is loan sactioned']),len(predicted_sanction_fraction)"
   ]
  },
  {
   "cell_type": "code",
   "execution_count": 383,
   "metadata": {
    "tags": []
   },
   "outputs": [],
   "source": [
    "j=0\n",
    "test['Loan Saction Fraction'] = test['is loan sactioned']\n",
    "for i in test[test['is loan sactioned']==1].index:\n",
    "    test.loc[i,'Loan Saction Fraction'] = predicted_sanction_fraction[j]\n",
    "    j += 1"
   ]
  },
  {
   "cell_type": "code",
   "execution_count": 384,
   "metadata": {},
   "outputs": [
    {
     "data": {
      "text/plain": [
       "0.000000    6289\n",
       "0.694932       1\n",
       "0.767210       1\n",
       "0.713023       1\n",
       "0.699945       1\n",
       "            ... \n",
       "0.724003       1\n",
       "0.723181       1\n",
       "0.725433       1\n",
       "0.781472       1\n",
       "0.700523       1\n",
       "Name: Loan Saction Fraction, Length: 13712, dtype: int64"
      ]
     },
     "execution_count": 384,
     "metadata": {},
     "output_type": "execute_result"
    }
   ],
   "source": [
    "test['Loan Saction Fraction'].value_counts()"
   ]
  },
  {
   "cell_type": "code",
   "execution_count": 385,
   "metadata": {},
   "outputs": [
    {
     "data": {
      "text/plain": [
       "array([0.74063658, 0.75723159, 0.70385353, ..., 0.70539767, 0.77630381,\n",
       "       0.78783734])"
      ]
     },
     "execution_count": 385,
     "metadata": {},
     "output_type": "execute_result"
    }
   ],
   "source": [
    "predicted_sanction_fraction"
   ]
  },
  {
   "cell_type": "code",
   "execution_count": 386,
   "metadata": {},
   "outputs": [],
   "source": [
    "submission = pd.DataFrame()#read_csv('sample.csv')\n",
    "submission['Customer ID'] = test_customer_ID\n",
    "submission['Loan Sanction Amount (USD)'] = test['Loan Saction Fraction']\n",
    "# submission['Loan Amount Request (USD)']=test['Loan Amount Request (USD)']\n",
    "submission['Loan Sanction Amount (USD)'] = test['Loan Saction Fraction']*test['Loan Amount Request (USD)']\n",
    "submission.to_csv('my_submission.csv', index=False)"
   ]
  }
 ],
 "metadata": {
  "interpreter": {
   "hash": "ffc98276502b517ff6a37fba4ac49b0c9b1089edd339504dfafa40c6c9dd4e74"
  },
  "kernelspec": {
   "display_name": "Python 3",
   "language": "python",
   "name": "python3"
  },
  "language_info": {
   "codemirror_mode": {
    "name": "ipython",
    "version": 3
   },
   "file_extension": ".py",
   "mimetype": "text/x-python",
   "name": "python",
   "nbconvert_exporter": "python",
   "pygments_lexer": "ipython3",
   "version": "3.8.8"
  }
 },
 "nbformat": 4,
 "nbformat_minor": 2
}
