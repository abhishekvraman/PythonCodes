{
 "cells": [
  {
   "cell_type": "markdown",
   "metadata": {},
   "source": [
    "## Table of Content"
   ]
  },
  {
   "cell_type": "markdown",
   "metadata": {},
   "source": [
    "* __Step 1: Importing the Relevant Libraries__\n",
    "    \n",
    "* __Step 2: Data Inspection__\n",
    "    \n",
    "* __Step 3: Data Cleaning__\n",
    "    \n",
    "* __Step 4: Exploratory Data Analysis__\n",
    "    \n",
    "* __Step 5: Feature Engineering__\n",
    "\n",
    "* __Step 6: Building Model__\n",
    "    "
   ]
  },
  {
   "cell_type": "markdown",
   "metadata": {},
   "source": [
    "### Step 1: Importing the Relevant Libraries"
   ]
  },
  {
   "cell_type": "code",
   "execution_count": 566,
   "metadata": {},
   "outputs": [],
   "source": [
    "import matplotlib.pyplot as plt\n",
    "import pandas as pd\n",
    "import numpy as np\n",
    "import seaborn as sns\n",
    "\n",
    "from sklearn.metrics import roc_auc_score\n",
    "from sklearn.preprocessing import LabelEncoder\n",
    "from sklearn.model_selection import train_test_split\n",
    "\n",
    "\n",
    "import math\n",
    "\n",
    "import warnings\n",
    "warnings.filterwarnings('ignore')"
   ]
  },
  {
   "cell_type": "markdown",
   "metadata": {},
   "source": [
    "### Step 2: Data Inspection"
   ]
  },
  {
   "cell_type": "code",
   "execution_count": 567,
   "metadata": {},
   "outputs": [],
   "source": [
    "train = pd.read_csv(\"train.csv\")\n",
    "test = pd.read_csv(\"test.csv\")"
   ]
  },
  {
   "cell_type": "code",
   "execution_count": 568,
   "metadata": {},
   "outputs": [
    {
     "data": {
      "text/plain": [
       "((30000, 24), (20000, 23))"
      ]
     },
     "execution_count": 568,
     "metadata": {},
     "output_type": "execute_result"
    }
   ],
   "source": [
    "train.shape,test.shape"
   ]
  },
  {
   "cell_type": "code",
   "execution_count": 569,
   "metadata": {},
   "outputs": [
    {
     "name": "stdout",
     "output_type": "stream",
     "text": [
      "Index(['Customer ID', 'Name', 'Gender', 'Age', 'Income (USD)',\n",
      "       'Income Stability', 'Profession', 'Type of Employment', 'Location',\n",
      "       'Loan Amount Request (USD)', 'Current Loan Expenses (USD)',\n",
      "       'Expense Type 1', 'Expense Type 2', 'Dependents', 'Credit Score',\n",
      "       'No. of Defaults', 'Has Active Credit Card', 'Property ID',\n",
      "       'Property Age', 'Property Type', 'Property Location', 'Co-Applicant',\n",
      "       'Property Price', 'Loan Sanction Amount (USD)'],\n",
      "      dtype='object')\n",
      "Index(['Customer ID', 'Name', 'Gender', 'Age', 'Income (USD)',\n",
      "       'Income Stability', 'Profession', 'Type of Employment', 'Location',\n",
      "       'Loan Amount Request (USD)', 'Current Loan Expenses (USD)',\n",
      "       'Expense Type 1', 'Expense Type 2', 'Dependents', 'Credit Score',\n",
      "       'No. of Defaults', 'Has Active Credit Card', 'Property ID',\n",
      "       'Property Age', 'Property Type', 'Property Location', 'Co-Applicant',\n",
      "       'Property Price'],\n",
      "      dtype='object')\n"
     ]
    }
   ],
   "source": [
    "#ratio of null values\n",
    "print(train.columns)\n",
    "print(test.columns)"
   ]
  },
  {
   "cell_type": "code",
   "execution_count": 570,
   "metadata": {},
   "outputs": [
    {
     "name": "stdout",
     "output_type": "stream",
     "text": [
      "Categorical Features in Train Set: 11\n",
      "Numerical Features in Train Set: 13\n"
     ]
    }
   ],
   "source": [
    "#categorical features\n",
    "categorical = train.select_dtypes(include =[np.object])\n",
    "print(\"Categorical Features in Train Set:\",categorical.shape[1])\n",
    "\n",
    "#numerical features\n",
    "numerical= train.select_dtypes(include =[np.float64,np.int64])\n",
    "print(\"Numerical Features in Train Set:\",numerical.shape[1])"
   ]
  },
  {
   "cell_type": "code",
   "execution_count": 571,
   "metadata": {},
   "outputs": [
    {
     "name": "stdout",
     "output_type": "stream",
     "text": [
      "Categorical Features in Test Set: 13\n",
      "Numerical Features in Test Set: 10\n"
     ]
    }
   ],
   "source": [
    "#categorical features\n",
    "categorical_ = test.select_dtypes(include =[np.object])\n",
    "print(\"Categorical Features in Test Set:\",categorical_.shape[1])\n",
    "\n",
    "#numerical features\n",
    "numerical_= test.select_dtypes(include =[np.float64,np.int64])\n",
    "print(\"Numerical Features in Test Set:\",numerical_.shape[1])"
   ]
  },
  {
   "cell_type": "code",
   "execution_count": 572,
   "metadata": {},
   "outputs": [
    {
     "name": "stdout",
     "output_type": "stream",
     "text": [
      "Index(['Customer ID', 'Name', 'Gender', 'Income Stability', 'Profession',\n",
      "       'Type of Employment', 'Location', 'Expense Type 1', 'Expense Type 2',\n",
      "       'Has Active Credit Card', 'Property Location'],\n",
      "      dtype='object')\n",
      "Index(['Customer ID', 'Name', 'Gender', 'Income Stability', 'Profession',\n",
      "       'Type of Employment', 'Location', 'Expense Type 1', 'Expense Type 2',\n",
      "       'Has Active Credit Card', 'Property Location', 'Co-Applicant',\n",
      "       'Property Price'],\n",
      "      dtype='object')\n"
     ]
    }
   ],
   "source": [
    "print(categorical.columns)\n",
    "print(categorical_.columns)"
   ]
  },
  {
   "cell_type": "code",
   "execution_count": 573,
   "metadata": {},
   "outputs": [
    {
     "name": "stdout",
     "output_type": "stream",
     "text": [
      " 1      25516\n",
      " 0       4316\n",
      "-999      168\n",
      "Name: Co-Applicant, dtype: int64\n",
      "1    17004\n",
      "0     2919\n",
      "?       77\n",
      "Name: Co-Applicant, dtype: int64\n"
     ]
    }
   ],
   "source": [
    "print(train['Co-Applicant'].value_counts())\n",
    "print(test['Co-Applicant'].value_counts())"
   ]
  },
  {
   "cell_type": "code",
   "execution_count": 574,
   "metadata": {},
   "outputs": [],
   "source": [
    "train['Co-Applicant'] = train['Co-Applicant'].replace(-999,1)\n",
    "test['Co-Applicant'] = test['Co-Applicant'].replace(['?','1','0'],[1,1,0])\n",
    "test['Property Price'] = test['Property Price'].replace('?','-999')\n",
    "test['Property Price'] = test['Property Price'].apply(pd.to_numeric)"
   ]
  },
  {
   "cell_type": "code",
   "execution_count": 575,
   "metadata": {},
   "outputs": [
    {
     "name": "stdout",
     "output_type": "stream",
     "text": [
      "M      15053\n",
      "F      14894\n",
      "NaN       53\n",
      "Name: Gender, dtype: int64\n",
      "F      10142\n",
      "M       9827\n",
      "NaN       31\n",
      "Name: Gender, dtype: int64\n"
     ]
    }
   ],
   "source": [
    "print(train['Gender'].value_counts(dropna=False))\n",
    "print(test['Gender'].value_counts(dropna=False))"
   ]
  },
  {
   "cell_type": "code",
   "execution_count": 576,
   "metadata": {},
   "outputs": [],
   "source": [
    "train['Gender'] = train['Gender'].fillna('F')\n",
    "test['Gender'] = test['Gender'].fillna('F')"
   ]
  },
  {
   "cell_type": "code",
   "execution_count": 577,
   "metadata": {},
   "outputs": [
    {
     "name": "stdout",
     "output_type": "stream",
     "text": [
      "Low     25751\n",
      "High     2566\n",
      "NaN      1683\n",
      "Name: Income Stability, dtype: int64\n",
      "Low     17501\n",
      "High     1686\n",
      "NaN       813\n",
      "Name: Income Stability, dtype: int64\n"
     ]
    }
   ],
   "source": [
    "print(train['Income Stability'].value_counts(dropna=False))\n",
    "print(test['Income Stability'].value_counts(dropna=False))"
   ]
  },
  {
   "cell_type": "code",
   "execution_count": 578,
   "metadata": {},
   "outputs": [],
   "source": [
    "train['Income Stability'] = train['Income Stability'].fillna('Low')\n",
    "test['Income Stability'] = test['Income Stability'].fillna('Low')"
   ]
  },
  {
   "cell_type": "code",
   "execution_count": 579,
   "metadata": {},
   "outputs": [
    {
     "name": "stdout",
     "output_type": "stream",
     "text": [
      "Working                 16926\n",
      "Commercial associate     7962\n",
      "Pensioner                2740\n",
      "State servant            2366\n",
      "Unemployed                  2\n",
      "Businessman                 2\n",
      "Maternity leave             1\n",
      "Student                     1\n",
      "Name: Profession, dtype: int64\n",
      "Working                 11405\n",
      "Commercial associate     5247\n",
      "Pensioner                1764\n",
      "State servant            1577\n",
      "Student                     4\n",
      "Unemployed                  2\n",
      "Maternity leave             1\n",
      "Name: Profession, dtype: int64\n"
     ]
    }
   ],
   "source": [
    "print(train['Profession'].value_counts(dropna=False))\n",
    "print(test['Profession'].value_counts(dropna=False))"
   ]
  },
  {
   "cell_type": "code",
   "execution_count": 580,
   "metadata": {},
   "outputs": [],
   "source": [
    "train['Profession']=train['Profession'].replace(['Businessman','Unemployed','Student','Maternity leave'],['Working','Not working','Not working','Working'])\n",
    "test['Profession']=test['Profession'].replace(['Unemployed','Student','Maternity leave'],['Not working','Not working','Working'])"
   ]
  },
  {
   "cell_type": "code",
   "execution_count": 581,
   "metadata": {},
   "outputs": [
    {
     "name": "stdout",
     "output_type": "stream",
     "text": [
      "NaN                      7270\n",
      "Laborers                 5578\n",
      "Sales staff              3736\n",
      "Core staff               3230\n",
      "Managers                 2495\n",
      "Drivers                  1606\n",
      "Accountants              1379\n",
      "High skill tech staff    1307\n",
      "Medicine staff            864\n",
      "Security staff            579\n",
      "Cooking staff             566\n",
      "Private service staff     342\n",
      "Cleaning staff            341\n",
      "Low-skill Laborers        162\n",
      "Secretaries               161\n",
      "Waiters/barmen staff      149\n",
      "Realty agents              86\n",
      "IT staff                   77\n",
      "HR staff                   72\n",
      "Name: Type of Employment, dtype: int64\n",
      "NaN                      4689\n",
      "Laborers                 3743\n",
      "Sales staff              2433\n",
      "Core staff               2232\n",
      "Managers                 1719\n",
      "Drivers                  1057\n",
      "Accountants               886\n",
      "High skill tech staff     881\n",
      "Medicine staff            598\n",
      "Cooking staff             405\n",
      "Security staff            377\n",
      "Cleaning staff            230\n",
      "Private service staff     201\n",
      "Low-skill Laborers        141\n",
      "Secretaries               119\n",
      "Waiters/barmen staff      110\n",
      "Realty agents              68\n",
      "HR staff                   60\n",
      "IT staff                   51\n",
      "Name: Type of Employment, dtype: int64\n"
     ]
    }
   ],
   "source": [
    "print(train['Type of Employment'].value_counts(dropna=False))\n",
    "print(test['Type of Employment'].value_counts(dropna=False))"
   ]
  },
  {
   "cell_type": "code",
   "execution_count": 582,
   "metadata": {},
   "outputs": [],
   "source": [
    "ranks = {\n",
    "         'Laborers':1,\n",
    "        'Sales staff':2,\n",
    "        'Core staff':3,\n",
    "        'Managers':4,\n",
    "        'Drivers':1,\n",
    "        'Accountants':3,\n",
    "        'High skill tech staff':4,\n",
    "        'Medicine staff':4,\n",
    "        'Security staff':2,\n",
    "        'Cooking staff':2,\n",
    "        'Private service staff':3,\n",
    "        'Cleaning staff':1,\n",
    "        'Low-skill Laborers':1,\n",
    "        'Secretaries':3,\n",
    "        'Waiters/barmen staff':1,\n",
    "        'Realty agents':3,\n",
    "        'IT staff':3,\n",
    "        'HR staff':4}\n",
    "train['Type of Employment'] = train['Type of Employment'].replace(ranks)\n",
    "train['Type of Employment'] = train['Type of Employment'].fillna(2)\n",
    "test['Type of Employment'] = test['Type of Employment'].replace(ranks)\n",
    "test['Type of Employment'] = test['Type of Employment'].fillna(2)"
   ]
  },
  {
   "cell_type": "code",
   "execution_count": 583,
   "metadata": {},
   "outputs": [
    {
     "name": "stdout",
     "output_type": "stream",
     "text": [
      "Semi-Urban    21563\n",
      "Rural          5338\n",
      "Urban          3099\n",
      "Name: Location, dtype: int64\n",
      "Semi-Urban    14463\n",
      "Rural          3436\n",
      "Urban          2101\n",
      "Name: Location, dtype: int64\n"
     ]
    }
   ],
   "source": [
    "print(train['Location'].value_counts(dropna=False))\n",
    "print(test['Location'].value_counts(dropna=False))"
   ]
  },
  {
   "cell_type": "code",
   "execution_count": 584,
   "metadata": {},
   "outputs": [
    {
     "name": "stdout",
     "output_type": "stream",
     "text": [
      "N    19214\n",
      "Y    10786\n",
      "Name: Expense Type 1, dtype: int64\n",
      "N    12816\n",
      "Y     7184\n",
      "Name: Expense Type 1, dtype: int64\n",
      "Y    20180\n",
      "N     9820\n",
      "Name: Expense Type 2, dtype: int64\n",
      "Y    13383\n",
      "N     6617\n",
      "Name: Expense Type 2, dtype: int64\n"
     ]
    }
   ],
   "source": [
    "print(train['Expense Type 1'].value_counts(dropna=False))\n",
    "print(test['Expense Type 1'].value_counts(dropna=False))\n",
    "print(train['Expense Type 2'].value_counts(dropna=False))\n",
    "print(test['Expense Type 2'].value_counts(dropna=False))"
   ]
  },
  {
   "cell_type": "code",
   "execution_count": 585,
   "metadata": {},
   "outputs": [
    {
     "name": "stdout",
     "output_type": "stream",
     "text": [
      "Active         9771\n",
      "Inactive       9466\n",
      "Unpossessed    9197\n",
      "NaN            1566\n",
      "Name: Has Active Credit Card, dtype: int64\n",
      "Active         6418\n",
      "Inactive       6376\n",
      "Unpossessed    6130\n",
      "NaN            1076\n",
      "Name: Has Active Credit Card, dtype: int64\n"
     ]
    }
   ],
   "source": [
    "print(train['Has Active Credit Card'].value_counts(dropna=False))\n",
    "print(test['Has Active Credit Card'].value_counts(dropna=False))"
   ]
  },
  {
   "cell_type": "code",
   "execution_count": 586,
   "metadata": {},
   "outputs": [],
   "source": [
    "train['Has Active Credit Card'] = train['Has Active Credit Card'].fillna('Unknown')\n",
    "test['Has Active Credit Card'] = test['Has Active Credit Card'].fillna('Unknown')"
   ]
  },
  {
   "cell_type": "code",
   "execution_count": 587,
   "metadata": {},
   "outputs": [
    {
     "name": "stdout",
     "output_type": "stream",
     "text": [
      "Semi-Urban    10387\n",
      "Rural         10041\n",
      "Urban          9216\n",
      "NaN             356\n",
      "Name: Property Location, dtype: int64\n",
      "Semi-Urban    6839\n",
      "Rural         6768\n",
      "Urban         6233\n",
      "NaN            160\n",
      "Name: Property Location, dtype: int64\n"
     ]
    }
   ],
   "source": [
    "print(train['Property Location'].value_counts(dropna=False))\n",
    "print(test['Property Location'].value_counts(dropna=False))"
   ]
  },
  {
   "cell_type": "code",
   "execution_count": 588,
   "metadata": {},
   "outputs": [],
   "source": [
    "train['Property Location'] = train['Property Location'].fillna('Semi-Urban')\n",
    "test['Property Location'] = test['Property Location'].fillna('Semi-Urban')"
   ]
  },
  {
   "cell_type": "markdown",
   "metadata": {},
   "source": [
    "Changing Dependents to catregorical data"
   ]
  },
  {
   "cell_type": "code",
   "execution_count": 589,
   "metadata": {},
   "outputs": [
    {
     "name": "stdout",
     "output_type": "stream",
     "text": [
      "2.0     13108\n",
      "3.0      5719\n",
      "1.0      5544\n",
      "4.0      2704\n",
      "NaN      2493\n",
      "5.0       372\n",
      "6.0        50\n",
      "7.0         7\n",
      "8.0         1\n",
      "14.0        1\n",
      "10.0        1\n",
      "Name: Dependents, dtype: int64\n",
      "2.0     8951\n",
      "3.0     3874\n",
      "1.0     3843\n",
      "4.0     1915\n",
      "NaN     1142\n",
      "5.0      245\n",
      "6.0       21\n",
      "8.0        4\n",
      "7.0        3\n",
      "10.0       1\n",
      "13.0       1\n",
      "Name: Dependents, dtype: int64\n"
     ]
    }
   ],
   "source": [
    "print(train['Dependents'].value_counts(dropna=False))\n",
    "print(test['Dependents'].value_counts(dropna=False))"
   ]
  },
  {
   "cell_type": "code",
   "execution_count": 590,
   "metadata": {},
   "outputs": [],
   "source": [
    "train['Dependents'] = train['Dependents'].fillna(2)\n",
    "test['Dependents'] = test['Dependents'].fillna(2)\n",
    "train.loc[(train['Dependents']<3),'Dependents'] = 2\n",
    "test.loc[(test['Dependents']<3),'Dependents'] = 2\n",
    "train.loc[(train['Dependents']>2),'Dependents'] = 1\n",
    "test.loc[(test['Dependents']>2),'Dependents'] = 1"
   ]
  },
  {
   "cell_type": "markdown",
   "metadata": {},
   "source": [
    "__Numberical__"
   ]
  },
  {
   "cell_type": "code",
   "execution_count": 591,
   "metadata": {},
   "outputs": [
    {
     "name": "stdout",
     "output_type": "stream",
     "text": [
      "Index(['Age', 'Income (USD)', 'Loan Amount Request (USD)',\n",
      "       'Current Loan Expenses (USD)', 'Dependents', 'Credit Score',\n",
      "       'No. of Defaults', 'Property ID', 'Property Age', 'Property Type',\n",
      "       'Co-Applicant', 'Property Price', 'Loan Sanction Amount (USD)'],\n",
      "      dtype='object')\n",
      "Index(['Age', 'Income (USD)', 'Loan Amount Request (USD)',\n",
      "       'Current Loan Expenses (USD)', 'Dependents', 'Credit Score',\n",
      "       'No. of Defaults', 'Property ID', 'Property Age', 'Property Type'],\n",
      "      dtype='object')\n"
     ]
    }
   ],
   "source": [
    "print(numerical.columns)\n",
    "print(numerical_.columns)"
   ]
  },
  {
   "cell_type": "code",
   "execution_count": 592,
   "metadata": {},
   "outputs": [
    {
     "data": {
      "text/plain": [
       "count    2.515000e+04\n",
       "mean     2.631119e+03\n",
       "std      1.132268e+04\n",
       "min      3.777000e+02\n",
       "25%      1.650450e+03\n",
       "50%      2.223250e+03\n",
       "75%      3.091408e+03\n",
       "max      1.777460e+06\n",
       "Name: Property Age, dtype: float64"
      ]
     },
     "execution_count": 592,
     "metadata": {},
     "output_type": "execute_result"
    },
    {
     "data": {
      "image/png": "[encoded data removed]",
      "text/plain": [
       "<Figure size 1296x360 with 1 Axes>"
      ]
     },
     "metadata": {
      "needs_background": "light"
     },
     "output_type": "display_data"
    }
   ],
   "source": [
    "st = 'Property Age'\n",
    "plt.figure(figsize=(18,5))\n",
    "sns.boxplot(st,data=train)\n",
    "train[st].describe()\n"
   ]
  },
  {
   "cell_type": "code",
   "execution_count": 593,
   "metadata": {},
   "outputs": [
    {
     "data": {
      "text/plain": [
       "count    19108.000000\n",
       "mean      2534.102003\n",
       "std       1408.509255\n",
       "min        368.590000\n",
       "25%       1658.397500\n",
       "50%       2220.605000\n",
       "75%       3082.250000\n",
       "max      30427.680000\n",
       "Name: Property Age, dtype: float64"
      ]
     },
     "execution_count": 593,
     "metadata": {},
     "output_type": "execute_result"
    },
    {
     "data": {
      "image/png": "[encoded data removed]",
      "text/plain": [
       "<Figure size 1296x360 with 1 Axes>"
      ]
     },
     "metadata": {
      "needs_background": "light"
     },
     "output_type": "display_data"
    }
   ],
   "source": [
    "plt.figure(figsize=(18,5))\n",
    "sns.boxplot(st,data=test)\n",
    "test[st].describe()"
   ]
  },
  {
   "cell_type": "code",
   "execution_count": 594,
   "metadata": {},
   "outputs": [
    {
     "name": "stdout",
     "output_type": "stream",
     "text": [
      "NaN        4850\n",
      "2415.70       4\n",
      "1608.43       4\n",
      "1723.73       3\n",
      "1946.61       3\n",
      "           ... \n",
      "1375.78       1\n",
      "2008.72       1\n",
      "2020.11       1\n",
      "2491.88       1\n",
      "4907.72       1\n",
      "Name: Property Age, Length: 24180, dtype: int64\n",
      "NaN        892\n",
      "1923.12      3\n",
      "1720.04      3\n",
      "1876.05      3\n",
      "2248.35      3\n",
      "          ... \n",
      "2515.51      1\n",
      "3185.09      1\n",
      "3396.09      1\n",
      "6650.52      1\n",
      "3953.43      1\n",
      "Name: Property Age, Length: 18561, dtype: int64\n"
     ]
    }
   ],
   "source": [
    "print(train[st].value_counts(dropna=False))\n",
    "print(test[st].value_counts(dropna=False))"
   ]
  },
  {
   "cell_type": "markdown",
   "metadata": {},
   "source": [
    "There are some outliers in Property Age and Property Price"
   ]
  },
  {
   "cell_type": "code",
   "execution_count": 595,
   "metadata": {},
   "outputs": [
    {
     "name": "stdout",
     "output_type": "stream",
     "text": [
      "NaN           4850\n",
      "201.308333       4\n",
      "134.035833       4\n",
      "192.067500       3\n",
      "157.205000       3\n",
      "              ... \n",
      "87.103333        1\n",
      "129.224167       1\n",
      "122.079167       1\n",
      "109.068333       1\n",
      "183.555833       1\n",
      "Name: Property Age, Length: 24180, dtype: int64\n",
      "NaN           892\n",
      "160.260000      3\n",
      "187.362500      3\n",
      "170.544167      3\n",
      "174.815000      3\n",
      "             ... \n",
      "203.745000      1\n",
      "295.355000      1\n",
      "128.559167      1\n",
      "126.617500      1\n",
      "149.550833      1\n",
      "Name: Property Age, Length: 18561, dtype: int64\n"
     ]
    }
   ],
   "source": [
    "train['Property Age'] = train['Property Age']/(12)\n",
    "test['Property Age'] = test['Property Age']/(12)\n",
    "print(train['Property Age'].value_counts(dropna=False))\n",
    "print(test['Property Age'].value_counts(dropna=False))"
   ]
  },
  {
   "cell_type": "code",
   "execution_count": 596,
   "metadata": {},
   "outputs": [],
   "source": [
    "train = train.drop(['Property Age'],axis=1)"
   ]
  },
  {
   "cell_type": "code",
   "execution_count": 597,
   "metadata": {},
   "outputs": [
    {
     "name": "stdout",
     "output_type": "stream",
     "text": [
      "-999.0    352\n",
      "Name: Property Price, dtype: int64\n",
      "-999.0    168\n",
      "Name: Property Price, dtype: int64\n"
     ]
    }
   ],
   "source": [
    "print(train[train['Property Price']<0]['Property Price'].value_counts(dropna=False))\n",
    "print(test[test['Property Price']<0]['Property Price'].value_counts(dropna=False))"
   ]
  },
  {
   "cell_type": "code",
   "execution_count": 598,
   "metadata": {},
   "outputs": [],
   "source": [
    "train['Current Loan Expenses (USD)'] = train['Current Loan Expenses (USD)'].fillna(train['Current Loan Expenses (USD)'].mean())\n",
    "test['Current Loan Expenses (USD)'] = test['Current Loan Expenses (USD)'].fillna(test['Current Loan Expenses (USD)'].mean())\n",
    "train['Credit Score'] = train['Credit Score'].fillna(train['Credit Score'].mean())\n",
    "test['Credit Score'] = test['Credit Score'].fillna(test['Credit Score'].mean())"
   ]
  },
  {
   "cell_type": "code",
   "execution_count": 600,
   "metadata": {
    "tags": []
   },
   "outputs": [],
   "source": [
    "# df = train[train['Property Age'].isna()][['Property Age']]\n",
    "# df2 = train[~train['Property Age'].isna()][['Property Age','Property Location','Property Type']]\n",
    "# for i in df.index:\n",
    "#     train.at[i,'Property Age'] = df2[(df2['Property Location']==train.at[i,'Property Location']) & (df2['Property Type'] == train.at[i,'Property Type'])]['Property Age'].mean()"
   ]
  },
  {
   "cell_type": "code",
   "execution_count": 601,
   "metadata": {},
   "outputs": [],
   "source": [
    "df = test[test['Property Age'].isna()][['Property Age']]\n",
    "df2 = test[~test['Property Age'].isna()][['Property Age','Property Location','Property Type']]\n",
    "for i in df.index:\n",
    "    test.at[i,'Property Age'] = df2[(df2['Property Location']==test.at[i,'Property Location']) & (df2['Property Type'] == test.at[i,'Property Type'])]['Property Age'].mean()"
   ]
  },
  {
   "cell_type": "code",
   "execution_count": 602,
   "metadata": {},
   "outputs": [],
   "source": [
    "df = train[train['Property Price']<0][['Property Price']]\n",
    "df2 = train[train['Property Price']>0][['Property Price','Property Location','Property Type']]\n",
    "for i in df.index:\n",
    "    train.at[i,'Property Price'] = df2[(df2['Property Location']==train.at[i,'Property Location']) & (df2['Property Type'] == train.at[i,'Property Type'])]['Property Price'].mean()"
   ]
  },
  {
   "cell_type": "code",
   "execution_count": 603,
   "metadata": {},
   "outputs": [],
   "source": [
    "df = test[test['Property Price']<0][['Property Price']]\n",
    "df2 = test[test['Property Price']>0][['Property Price','Property Location','Property Type']]\n",
    "for i in df.index:\n",
    "    test.at[i,'Property Price'] = df2[(df2['Property Location']==test.at[i,'Property Location']) & (df2['Property Type'] == test.at[i,'Property Type'])]['Property Price'].mean()"
   ]
  },
  {
   "cell_type": "code",
   "execution_count": 604,
   "metadata": {},
   "outputs": [],
   "source": [
    "df = train[train['Income (USD)'].isna()][['Income (USD)']]\n",
    "df2 = train[~train['Income (USD)'].isna()][['Income (USD)','Profession','Type of Employment']]\n",
    "for i in df.index:\n",
    "    train.at[i,'Income (USD)'] = df2[(df2['Profession']==train.at[i,'Profession']) & (df2['Type of Employment'] == train.at[i,'Type of Employment'])]['Income (USD)'].mean()"
   ]
  },
  {
   "cell_type": "code",
   "execution_count": 605,
   "metadata": {},
   "outputs": [],
   "source": [
    "df = test[test['Income (USD)'].isna()][['Income (USD)']]\n",
    "df2 = test[~test['Income (USD)'].isna()][['Income (USD)','Profession','Type of Employment']]\n",
    "for i in df.index:\n",
    "    test.at[i,'Income (USD)'] = df2[(df2['Profession']==test.at[i,'Profession']) & (df2['Type of Employment'] == test.at[i,'Type of Employment'])]['Income (USD)'].mean()"
   ]
  },
  {
   "cell_type": "code",
   "execution_count": 606,
   "metadata": {},
   "outputs": [
    {
     "data": {
      "text/plain": [
       "Customer ID                      0\n",
       "Name                             0\n",
       "Gender                           0\n",
       "Age                              0\n",
       "Income (USD)                     0\n",
       "Income Stability                 0\n",
       "Profession                       0\n",
       "Type of Employment               0\n",
       "Location                         0\n",
       "Loan Amount Request (USD)        0\n",
       "Current Loan Expenses (USD)      0\n",
       "Expense Type 1                   0\n",
       "Expense Type 2                   0\n",
       "Dependents                       0\n",
       "Credit Score                     0\n",
       "No. of Defaults                  0\n",
       "Has Active Credit Card           0\n",
       "Property ID                      0\n",
       "Property Type                    0\n",
       "Property Location                0\n",
       "Co-Applicant                     0\n",
       "Property Price                   0\n",
       "Loan Sanction Amount (USD)     340\n",
       "dtype: int64"
      ]
     },
     "execution_count": 606,
     "metadata": {},
     "output_type": "execute_result"
    }
   ],
   "source": [
    "train.isnull().sum()"
   ]
  },
  {
   "cell_type": "code",
   "execution_count": 607,
   "metadata": {},
   "outputs": [],
   "source": [
    "train = train.dropna(subset=['Loan Sanction Amount (USD)'])\n",
    "train = train.replace(-999,0)"
   ]
  },
  {
   "cell_type": "code",
   "execution_count": 608,
   "metadata": {},
   "outputs": [
    {
     "data": {
      "text/html": [
       "<div>\n",
       "<style scoped>\n",
       "    .dataframe tbody tr th:only-of-type {\n",
       "        vertical-align: middle;\n",
       "    }\n",
       "\n",
       "    .dataframe tbody tr th {\n",
       "        vertical-align: top;\n",
       "    }\n",
       "\n",
       "    .dataframe thead th {\n",
       "        text-align: right;\n",
       "    }\n",
       "</style>\n",
       "<table border=\"1\" class=\"dataframe\">\n",
       "  <thead>\n",
       "    <tr style=\"text-align: right;\">\n",
       "      <th></th>\n",
       "      <th>is loan sactioned</th>\n",
       "      <th>Loan Sanction Amount (USD)</th>\n",
       "    </tr>\n",
       "  </thead>\n",
       "  <tbody>\n",
       "    <tr>\n",
       "      <th>0</th>\n",
       "      <td>1</td>\n",
       "      <td>54607.18</td>\n",
       "    </tr>\n",
       "    <tr>\n",
       "      <th>1</th>\n",
       "      <td>1</td>\n",
       "      <td>37469.98</td>\n",
       "    </tr>\n",
       "    <tr>\n",
       "      <th>2</th>\n",
       "      <td>1</td>\n",
       "      <td>36474.43</td>\n",
       "    </tr>\n",
       "    <tr>\n",
       "      <th>3</th>\n",
       "      <td>1</td>\n",
       "      <td>56040.54</td>\n",
       "    </tr>\n",
       "    <tr>\n",
       "      <th>4</th>\n",
       "      <td>1</td>\n",
       "      <td>74008.28</td>\n",
       "    </tr>\n",
       "    <tr>\n",
       "      <th>...</th>\n",
       "      <td>...</td>\n",
       "      <td>...</td>\n",
       "    </tr>\n",
       "    <tr>\n",
       "      <th>29995</th>\n",
       "      <td>1</td>\n",
       "      <td>68992.11</td>\n",
       "    </tr>\n",
       "    <tr>\n",
       "      <th>29996</th>\n",
       "      <td>1</td>\n",
       "      <td>46616.60</td>\n",
       "    </tr>\n",
       "    <tr>\n",
       "      <th>29997</th>\n",
       "      <td>1</td>\n",
       "      <td>61057.56</td>\n",
       "    </tr>\n",
       "    <tr>\n",
       "      <th>29998</th>\n",
       "      <td>1</td>\n",
       "      <td>99766.87</td>\n",
       "    </tr>\n",
       "    <tr>\n",
       "      <th>29999</th>\n",
       "      <td>1</td>\n",
       "      <td>117217.90</td>\n",
       "    </tr>\n",
       "  </tbody>\n",
       "</table>\n",
       "<p>29660 rows × 2 columns</p>\n",
       "</div>"
      ],
      "text/plain": [
       "       is loan sactioned  Loan Sanction Amount (USD)\n",
       "0                      1                    54607.18\n",
       "1                      1                    37469.98\n",
       "2                      1                    36474.43\n",
       "3                      1                    56040.54\n",
       "4                      1                    74008.28\n",
       "...                  ...                         ...\n",
       "29995                  1                    68992.11\n",
       "29996                  1                    46616.60\n",
       "29997                  1                    61057.56\n",
       "29998                  1                    99766.87\n",
       "29999                  1                   117217.90\n",
       "\n",
       "[29660 rows x 2 columns]"
      ]
     },
     "execution_count": 608,
     "metadata": {},
     "output_type": "execute_result"
    }
   ],
   "source": [
    "train['Loan Saction Fraction'] = round(train['Loan Sanction Amount (USD)']/train['Loan Amount Request (USD)'],2)\n",
    "train['is loan sactioned'] = 0\n",
    "train.loc[(train['Loan Sanction Amount (USD)'] > 0), ('is loan sactioned')] = 1\n",
    "train[['is loan sactioned','Loan Sanction Amount (USD)']]"
   ]
  },
  {
   "cell_type": "code",
   "execution_count": 609,
   "metadata": {},
   "outputs": [
    {
     "data": {
      "text/plain": [
       "Customer ID                    0\n",
       "Name                           0\n",
       "Gender                         0\n",
       "Age                            0\n",
       "Income (USD)                   0\n",
       "Income Stability               0\n",
       "Profession                     0\n",
       "Type of Employment             0\n",
       "Location                       0\n",
       "Loan Amount Request (USD)      0\n",
       "Current Loan Expenses (USD)    0\n",
       "Expense Type 1                 0\n",
       "Expense Type 2                 0\n",
       "Dependents                     0\n",
       "Credit Score                   0\n",
       "No. of Defaults                0\n",
       "Has Active Credit Card         0\n",
       "Property ID                    0\n",
       "Property Age                   0\n",
       "Property Type                  0\n",
       "Property Location              0\n",
       "Co-Applicant                   0\n",
       "Property Price                 0\n",
       "dtype: int64"
      ]
     },
     "execution_count": 609,
     "metadata": {},
     "output_type": "execute_result"
    }
   ],
   "source": [
    "test.isnull().sum()"
   ]
  },
  {
   "cell_type": "code",
   "execution_count": 612,
   "metadata": {},
   "outputs": [],
   "source": [
    "train['Age'],bins = pd.cut(train['Age'],8,retbins=True, labels=False)\n",
    "test['Age'] = pd.cut(test['Age'], bins=bins, labels=False, include_lowest=True)"
   ]
  },
  {
   "cell_type": "code",
   "execution_count": 615,
   "metadata": {},
   "outputs": [],
   "source": [
    "# train['Property Age'],bins = pd.cut(train['Property Age'],8,retbins=True, labels=False)\n",
    "# test['Property Age'] = pd.cut(test['Property Age'], bins=bins, labels=False, include_lowest=True)\n",
    "train['Property Price'],bins = pd.qcut(train['Property Price'],20,retbins=True, labels=False)\n",
    "test['Property Price'] = pd.cut(test['Property Price'],bins=bins, labels=False, include_lowest=True)"
   ]
  },
  {
   "cell_type": "code",
   "execution_count": 618,
   "metadata": {},
   "outputs": [
    {
     "name": "stdout",
     "output_type": "stream",
     "text": [
      "Correlation (Train set):  -0.006169246226522684\n",
      "Correlation (Test set):  -0.01624692480789574\n"
     ]
    }
   ],
   "source": [
    "le = LabelEncoder()\n",
    "Income_Stability = pd.Series(le.fit_transform(train['Expense Type 2']))\n",
    "print(\"Correlation (Train set): \", Income_Stability.corr(train['Dependents']))\n",
    "\n",
    "Income_Stability = pd.Series(le.fit_transform(test['Expense Type 2']))\n",
    "print(\"Correlation (Test set): \", Income_Stability.corr(test['Dependents']))\n"
   ]
  },
  {
   "cell_type": "markdown",
   "metadata": {},
   "source": [
    "### Step 5 : Feature Engineering"
   ]
  },
  {
   "cell_type": "markdown",
   "metadata": {},
   "source": [
    "__Numerical and One-Hot Coding of Categorical variables__"
   ]
  },
  {
   "cell_type": "code",
   "execution_count": 619,
   "metadata": {},
   "outputs": [],
   "source": [
    "var_mod = ['Gender', 'Age','Property Price','Income Stability', 'Profession','Type of Employment', 'Location', 'Expense Type 1', 'Expense Type 2', 'Has Active Credit Card', 'Property Location']\n",
    "le = LabelEncoder()\n",
    "for i in var_mod:\n",
    "    train[i] = le.fit_transform(train[i])\n",
    "    \n",
    "#One Hot Coding:\n",
    "train = pd.get_dummies(train, columns=var_mod)"
   ]
  },
  {
   "cell_type": "code",
   "execution_count": 620,
   "metadata": {},
   "outputs": [],
   "source": [
    "le = LabelEncoder()\n",
    "for i in var_mod:\n",
    "    test[i] = le.fit_transform(test[i])\n",
    "    \n",
    "#One Hot Coding:\n",
    "test = pd.get_dummies(test, columns=var_mod)"
   ]
  },
  {
   "cell_type": "markdown",
   "metadata": {},
   "source": [
    "### Step 6: Building Model"
   ]
  },
  {
   "cell_type": "code",
   "execution_count": 621,
   "metadata": {},
   "outputs": [
    {
     "data": {
      "text/plain": [
       "Index(['Customer ID', 'Name', 'Income (USD)', 'Loan Amount Request (USD)',\n",
       "       'Current Loan Expenses (USD)', 'Dependents', 'Credit Score',\n",
       "       'No. of Defaults', 'Property ID', 'Property Type', 'Co-Applicant',\n",
       "       'Loan Sanction Amount (USD)', 'Loan Saction Fraction',\n",
       "       'is loan sactioned', 'Gender_0', 'Gender_1', 'Age_0', 'Age_1', 'Age_2',\n",
       "       'Age_3', 'Age_4', 'Age_5', 'Age_6', 'Age_7', 'Property Price_0',\n",
       "       'Property Price_1', 'Property Price_2', 'Property Price_3',\n",
       "       'Property Price_4', 'Property Price_5', 'Property Price_6',\n",
       "       'Property Price_7', 'Property Price_8', 'Property Price_9',\n",
       "       'Property Price_10', 'Property Price_11', 'Property Price_12',\n",
       "       'Property Price_13', 'Property Price_14', 'Property Price_15',\n",
       "       'Property Price_16', 'Property Price_17', 'Property Price_18',\n",
       "       'Property Price_19', 'Income Stability_0', 'Income Stability_1',\n",
       "       'Profession_0', 'Profession_1', 'Profession_2', 'Profession_3',\n",
       "       'Profession_4', 'Type of Employment_0', 'Type of Employment_1',\n",
       "       'Type of Employment_2', 'Type of Employment_3', 'Location_0',\n",
       "       'Location_1', 'Location_2', 'Expense Type 1_0', 'Expense Type 1_1',\n",
       "       'Expense Type 2_0', 'Expense Type 2_1', 'Has Active Credit Card_0',\n",
       "       'Has Active Credit Card_1', 'Has Active Credit Card_2',\n",
       "       'Has Active Credit Card_3', 'Property Location_0',\n",
       "       'Property Location_1', 'Property Location_2'],\n",
       "      dtype='object')"
      ]
     },
     "execution_count": 621,
     "metadata": {},
     "output_type": "execute_result"
    }
   ],
   "source": [
    "train.columns"
   ]
  },
  {
   "cell_type": "code",
   "execution_count": 622,
   "metadata": {},
   "outputs": [
    {
     "data": {
      "text/plain": [
       "Index(['Customer ID', 'Name', 'Income (USD)', 'Loan Amount Request (USD)',\n",
       "       'Current Loan Expenses (USD)', 'Dependents', 'Credit Score',\n",
       "       'No. of Defaults', 'Property ID', 'Property Age', 'Property Type',\n",
       "       'Co-Applicant', 'Gender_0', 'Gender_1', 'Age_0', 'Age_1', 'Age_2',\n",
       "       'Age_3', 'Age_4', 'Age_5', 'Age_6', 'Age_7', 'Property Price_0',\n",
       "       'Property Price_1', 'Property Price_2', 'Property Price_3',\n",
       "       'Property Price_4', 'Property Price_5', 'Property Price_6',\n",
       "       'Property Price_7', 'Property Price_8', 'Property Price_9',\n",
       "       'Property Price_10', 'Property Price_11', 'Property Price_12',\n",
       "       'Property Price_13', 'Property Price_14', 'Property Price_15',\n",
       "       'Property Price_16', 'Property Price_17', 'Property Price_18',\n",
       "       'Property Price_19', 'Income Stability_0', 'Income Stability_1',\n",
       "       'Profession_0', 'Profession_1', 'Profession_2', 'Profession_3',\n",
       "       'Profession_4', 'Type of Employment_0', 'Type of Employment_1',\n",
       "       'Type of Employment_2', 'Type of Employment_3', 'Location_0',\n",
       "       'Location_1', 'Location_2', 'Expense Type 1_0', 'Expense Type 1_1',\n",
       "       'Expense Type 2_0', 'Expense Type 2_1', 'Has Active Credit Card_0',\n",
       "       'Has Active Credit Card_1', 'Has Active Credit Card_2',\n",
       "       'Has Active Credit Card_3', 'Property Location_0',\n",
       "       'Property Location_1', 'Property Location_2'],\n",
       "      dtype='object')"
      ]
     },
     "execution_count": 622,
     "metadata": {},
     "output_type": "execute_result"
    }
   ],
   "source": [
    "test.columns"
   ]
  },
  {
   "cell_type": "markdown",
   "metadata": {},
   "source": [
    "Classification Models"
   ]
  },
  {
   "cell_type": "code",
   "execution_count": 623,
   "metadata": {},
   "outputs": [],
   "source": [
    "train = train.select_dtypes(exclude='object')\n",
    "test_customer_ID = test['Customer ID']\n",
    "test = test.select_dtypes(exclude='object')"
   ]
  },
  {
   "cell_type": "code",
   "execution_count": 624,
   "metadata": {},
   "outputs": [],
   "source": [
    "# Seperate Features and Target\n",
    "X= train.drop(columns = ['is loan sactioned','Loan Sanction Amount (USD)','Loan Saction Fraction'], axis=1)\n",
    "y= train['is loan sactioned']\n",
    "# 20% data as validation set\n",
    "X_train,X_valid,y_train,y_valid = train_test_split(X,y,test_size=0.2,random_state=22)"
   ]
  },
  {
   "cell_type": "code",
   "execution_count": null,
   "metadata": {},
   "outputs": [],
   "source": [
    "from sklearn.svm import SVC\n",
    "from sklearn.linear_model import SGDClassifier\n",
    "from sklearn.tree import DecisionTreeClassifier\n",
    "from sklearn.neural_network import MLPClassifier\n",
    "from sklearn import metrics\n",
    "algos = [SVC(), SGDClassifier(), DecisionTreeClassifier(),MLPClassifier()]\n",
    "\n",
    "names = ['Support Vector Machine', 'Stochastic Gradient Descent', 'Decision Tree', 'Multi-layer perceptron' ]\n",
    "\n",
    "rmse_list = []\n",
    "for name in algos:\n",
    "    model = name\n",
    "    model.fit(X_train,y_train)\n",
    "    y_pred = model.predict(X_valid)\n",
    "    MSE= metrics.mean_squared_error(y_valid,y_pred)\n",
    "    rmse = np.sqrt(MSE)\n",
    "    rmse_list.append(rmse)\n",
    "evaluation = pd.DataFrame({'Algo':algos,'Model': names,'RMSE': rmse_list})\n",
    "evaluation"
   ]
  },
  {
   "cell_type": "code",
   "execution_count": null,
   "metadata": {},
   "outputs": [],
   "source": [
    "evaluation = pd.DataFrame({'Algo':algos,'Model': names,'RMSE': rmse_list})\n",
    "model = algos[evaluation[evaluation['Model']==evaluation.min()['Model']]['Algo'].index[0]]\n",
    "model.fit(X_train,y_train)\n",
    "test['is loan sactioned'] = model.predict(test)"
   ]
  },
  {
   "cell_type": "markdown",
   "metadata": {},
   "source": [
    "Regression Models"
   ]
  },
  {
   "cell_type": "code",
   "execution_count": null,
   "metadata": {},
   "outputs": [],
   "source": [
    "# Seperate Features and Target\n",
    "X = train[train['is loan sactioned']==1]\n",
    "X= train.drop(columns = ['is loan sactioned','Loan Sanction Amount (USD)','Loan Saction Fraction'], axis=1)\n",
    "y= train[train['is loan sactioned']==1]['Loan Saction Fraction']"
   ]
  },
  {
   "cell_type": "code",
   "execution_count": null,
   "metadata": {},
   "outputs": [],
   "source": [
    "# 20% data as validation set\n",
    "X_train,X_valid,y_train,y_valid = train_test_split(X,y,test_size=0.2,random_state=22)"
   ]
  },
  {
   "cell_type": "code",
   "execution_count": null,
   "metadata": {},
   "outputs": [],
   "source": [
    "from sklearn.linear_model import Ridge, Lasso, LinearRegression\n",
    "from sklearn.tree import DecisionTreeRegressor\n",
    "from sklearn.neighbors import KNeighborsRegressor\n",
    "from sklearn import metrics\n",
    "algos = [LinearRegression(),  Ridge(), Lasso(),\n",
    "          KNeighborsRegressor(), DecisionTreeRegressor()]\n",
    "\n",
    "names = ['Linear Regression', 'Ridge Regression', 'Lasso Regression',\n",
    "         'K Neighbors Regressor', 'Decision Tree Regressor']\n",
    "\n",
    "rmse_list = []\n",
    "for name in algos:\n",
    "    model = name\n",
    "    model.fit(X_train,y_train)\n",
    "    y_pred = model.predict(X_valid)\n",
    "    MSE= metrics.mean_squared_error(y_valid,y_pred)\n",
    "    rmse = np.sqrt(MSE)\n",
    "    rmse_list.append(rmse)\n",
    "evaluation = pd.DataFrame({'Model': names,'RMSE': rmse_list})\n",
    "evaluation\n"
   ]
  },
  {
   "cell_type": "code",
   "execution_count": null,
   "metadata": {},
   "outputs": [],
   "source": [
    "evaluation = pd.DataFrame({'Algo':algos,'Model': names,'RMSE': rmse_list})\n",
    "model = algos[evaluation[evaluation['Model']==evaluation.min()['Model']]['Algo'].index[0]]\n",
    "model.fit(X_train,y_train)"
   ]
  },
  {
   "cell_type": "code",
   "execution_count": null,
   "metadata": {},
   "outputs": [],
   "source": [
    "max(0,100*metrics.r2_score(y_valid, model.predict(X_valid)))"
   ]
  },
  {
   "cell_type": "code",
   "execution_count": null,
   "metadata": {},
   "outputs": [],
   "source": [
    "test[test['Loan Saction Fraction']==1]"
   ]
  },
  {
   "cell_type": "code",
   "execution_count": null,
   "metadata": {},
   "outputs": [],
   "source": [
    "# model = str(evaluation.tail(1)['Model'][evaluation.tail(1)['Model'].index[0]])\n",
    "# model.fit(X_train,y_train)\n",
    "submission = pd.DataFrame()#read_csv('sample.csv')\n",
    "predict_saction_fraction = model.predict(test[test['Loan Saction Fraction']==1])\n",
    "submission['Customer ID'] = test_customer_ID\n",
    "submission['Loan Sanction Amount (USD)'] = test['Loan Saction Fraction']\n",
    "# submission['Loan Amount Request (USD)']=test['Loan Amount Request (USD)']\n",
    "submission[submission['Loan Saction Amount (USD)']==1]['Loan Sanction Amount (USD)'] = predict_saction_fraction * test[test['Loan Saction Fraction']==1]['Loan Amount Request (USD)']\n",
    "#only positive predictions for the target variable\n",
    "\n",
    "submission.to_csv('my_submission.csv', index=False)"
   ]
  },
  {
   "cell_type": "code",
   "execution_count": null,
   "metadata": {},
   "outputs": [],
   "source": []
  }
 ],
 "metadata": {
  "interpreter": {
   "hash": "ffc98276502b517ff6a37fba4ac49b0c9b1089edd339504dfafa40c6c9dd4e74"
  },
  "kernelspec": {
   "display_name": "Python 3",
   "language": "python",
   "name": "python3"
  },
  "language_info": {
   "codemirror_mode": {
    "name": "ipython",
    "version": 3
   },
   "file_extension": ".py",
   "mimetype": "text/x-python",
   "name": "python",
   "nbconvert_exporter": "python",
   "pygments_lexer": "ipython3",
   "version": "3.8.8"
  }
 },
 "nbformat": 4,
 "nbformat_minor": 2
}
