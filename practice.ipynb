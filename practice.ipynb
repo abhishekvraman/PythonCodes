{
 "cells": [
  {
   "cell_type": "markdown",
   "metadata": {},
   "source": [
    "### Step 1: Importing the Relevant Libraries"
   ]
  },
  {
   "cell_type": "code",
   "execution_count": 351,
   "metadata": {},
   "outputs": [],
   "source": [
    "import matplotlib.pyplot as plt\n",
    "import pandas as pd\n",
    "import numpy as np\n",
    "import seaborn as sns\n",
    "\n",
    "from sklearn.metrics import roc_auc_score\n",
    "from sklearn.preprocessing import LabelEncoder\n",
    "from sklearn.model_selection import train_test_split\n",
    "\n",
    "import math\n",
    "\n",
    "import warnings\n",
    "warnings.filterwarnings('ignore')"
   ]
  },
  {
   "cell_type": "markdown",
   "metadata": {},
   "source": [
    "### Step 2: Data Inspection"
   ]
  },
  {
   "cell_type": "code",
   "execution_count": 352,
   "metadata": {},
   "outputs": [],
   "source": [
    "train = pd.read_csv(\"train.csv\")\n",
    "test = pd.read_csv(\"test.csv\")"
   ]
  },
  {
   "cell_type": "code",
   "execution_count": 353,
   "metadata": {},
   "outputs": [
    {
     "output_type": "execute_result",
     "data": {
      "text/plain": [
       "((30000, 24), (20000, 23))"
      ]
     },
     "metadata": {},
     "execution_count": 353
    }
   ],
   "source": [
    "train.shape,test.shape"
   ]
  },
  {
   "cell_type": "code",
   "execution_count": 354,
   "metadata": {},
   "outputs": [
    {
     "output_type": "execute_result",
     "data": {
      "text/plain": [
       "24000.0"
      ]
     },
     "metadata": {},
     "execution_count": 354
    }
   ],
   "source": [
    "0.8*30000"
   ]
  },
  {
   "cell_type": "code",
   "execution_count": 355,
   "metadata": {},
   "outputs": [
    {
     "output_type": "stream",
     "name": "stdout",
     "text": [
      "Index(['Customer ID', 'Name', 'Gender', 'Age', 'Income (USD)',\n       'Income Stability', 'Profession', 'Type of Employment', 'Location',\n       'Loan Amount Request (USD)', 'Current Loan Expenses (USD)',\n       'Expense Type 1', 'Expense Type 2', 'Dependents', 'Credit Score',\n       'No. of Defaults', 'Has Active Credit Card', 'Property ID',\n       'Property Age', 'Property Type', 'Property Location', 'Co-Applicant',\n       'Property Price', 'Loan Sanction Amount (USD)'],\n      dtype='object')\nIndex(['Customer ID', 'Name', 'Gender', 'Age', 'Income (USD)',\n       'Income Stability', 'Profession', 'Type of Employment', 'Location',\n       'Loan Amount Request (USD)', 'Current Loan Expenses (USD)',\n       'Expense Type 1', 'Expense Type 2', 'Dependents', 'Credit Score',\n       'No. of Defaults', 'Has Active Credit Card', 'Property ID',\n       'Property Age', 'Property Type', 'Property Location', 'Co-Applicant',\n       'Property Price'],\n      dtype='object')\n"
     ]
    }
   ],
   "source": [
    "#ratio of null values\n",
    "print(train.columns)\n",
    "print(test.columns)"
   ]
  },
  {
   "cell_type": "code",
   "execution_count": 356,
   "metadata": {},
   "outputs": [
    {
     "output_type": "stream",
     "name": "stdout",
     "text": [
      "Categorical Features in Train Set: 11\nNumerical Features in Train Set: 13\n"
     ]
    }
   ],
   "source": [
    "#categorical features\n",
    "categorical = train.select_dtypes(include =[np.object])\n",
    "print(\"Categorical Features in Train Set:\",categorical.shape[1])\n",
    "\n",
    "#numerical features\n",
    "numerical= train.select_dtypes(include =[np.float64,np.int64])\n",
    "print(\"Numerical Features in Train Set:\",numerical.shape[1])"
   ]
  },
  {
   "cell_type": "code",
   "execution_count": 357,
   "metadata": {},
   "outputs": [
    {
     "output_type": "stream",
     "name": "stdout",
     "text": [
      "Categorical Features in Test Set: 13\nNumerical Features in Test Set: 10\n"
     ]
    }
   ],
   "source": [
    "#categorical features\n",
    "categorical_ = test.select_dtypes(include =[np.object])\n",
    "print(\"Categorical Features in Test Set:\",categorical_.shape[1])\n",
    "\n",
    "#numerical features\n",
    "numerical_= test.select_dtypes(include =[np.float64,np.int64])\n",
    "print(\"Numerical Features in Test Set:\",numerical_.shape[1])"
   ]
  },
  {
   "cell_type": "code",
   "execution_count": 358,
   "metadata": {},
   "outputs": [
    {
     "output_type": "stream",
     "name": "stdout",
     "text": [
      "Index(['Customer ID', 'Name', 'Gender', 'Income Stability', 'Profession',\n       'Type of Employment', 'Location', 'Expense Type 1', 'Expense Type 2',\n       'Has Active Credit Card', 'Property Location'],\n      dtype='object')\nIndex(['Customer ID', 'Name', 'Gender', 'Income Stability', 'Profession',\n       'Type of Employment', 'Location', 'Expense Type 1', 'Expense Type 2',\n       'Has Active Credit Card', 'Property Location', 'Co-Applicant',\n       'Property Price'],\n      dtype='object')\n"
     ]
    }
   ],
   "source": [
    "print(categorical.columns)\n",
    "print(categorical_.columns)"
   ]
  },
  {
   "cell_type": "code",
   "execution_count": 359,
   "metadata": {},
   "outputs": [
    {
     "output_type": "stream",
     "name": "stdout",
     "text": [
      " 1      25516\n 0       4316\n-999      168\nName: Co-Applicant, dtype: int64\n1    17004\n0     2919\n?       77\nName: Co-Applicant, dtype: int64\n"
     ]
    }
   ],
   "source": [
    "print(train['Co-Applicant'].value_counts())\n",
    "print(test['Co-Applicant'].value_counts())"
   ]
  },
  {
   "cell_type": "code",
   "execution_count": 360,
   "metadata": {},
   "outputs": [],
   "source": [
    "train['Co-Applicant'] = train['Co-Applicant'].replace(-999,1)\n",
    "test['Co-Applicant'] = test['Co-Applicant'].replace(['?','1','0'],[1,1,0])\n",
    "test['Property Price'] = test['Property Price'].replace('?','-999')\n",
    "test['Property Price'] = test['Property Price'].apply(pd.to_numeric)"
   ]
  },
  {
   "cell_type": "code",
   "execution_count": 361,
   "metadata": {},
   "outputs": [
    {
     "output_type": "stream",
     "name": "stdout",
     "text": [
      "M      15053\nF      14894\nNaN       53\nName: Gender, dtype: int64\nF      10142\nM       9827\nNaN       31\nName: Gender, dtype: int64\n"
     ]
    }
   ],
   "source": [
    "print(train['Gender'].value_counts(dropna=False))\n",
    "print(test['Gender'].value_counts(dropna=False))"
   ]
  },
  {
   "cell_type": "code",
   "execution_count": 362,
   "metadata": {},
   "outputs": [],
   "source": [
    "train['Gender'] = train['Gender'].fillna('M')\n",
    "test['Gender'] = test['Gender'].fillna('F')"
   ]
  },
  {
   "cell_type": "code",
   "execution_count": 363,
   "metadata": {},
   "outputs": [
    {
     "output_type": "stream",
     "name": "stdout",
     "text": [
      "Low     25751\nHigh     2566\nNaN      1683\nName: Income Stability, dtype: int64\nLow     17501\nHigh     1686\nNaN       813\nName: Income Stability, dtype: int64\n"
     ]
    }
   ],
   "source": [
    "print(train['Income Stability'].value_counts(dropna=False))\n",
    "print(test['Income Stability'].value_counts(dropna=False))"
   ]
  },
  {
   "cell_type": "code",
   "execution_count": 364,
   "metadata": {},
   "outputs": [],
   "source": [
    "train['Income Stability'] = train['Income Stability'].fillna('Low')\n",
    "test['Income Stability'] = test['Income Stability'].fillna('Low')"
   ]
  },
  {
   "cell_type": "code",
   "execution_count": 365,
   "metadata": {},
   "outputs": [
    {
     "output_type": "stream",
     "name": "stdout",
     "text": [
      "Working                 16926\nCommercial associate     7962\nPensioner                2740\nState servant            2366\nBusinessman                 2\nUnemployed                  2\nMaternity leave             1\nStudent                     1\nName: Profession, dtype: int64\nWorking                 11405\nCommercial associate     5247\nPensioner                1764\nState servant            1577\nStudent                     4\nUnemployed                  2\nMaternity leave             1\nName: Profession, dtype: int64\n"
     ]
    }
   ],
   "source": [
    "print(train['Profession'].value_counts(dropna=False))\n",
    "print(test['Profession'].value_counts(dropna=False))"
   ]
  },
  {
   "cell_type": "code",
   "execution_count": 366,
   "metadata": {},
   "outputs": [
    {
     "output_type": "stream",
     "name": "stdout",
     "text": [
      "NaN                      7270\nLaborers                 5578\nSales staff              3736\nCore staff               3230\nManagers                 2495\nDrivers                  1606\nAccountants              1379\nHigh skill tech staff    1307\nMedicine staff            864\nSecurity staff            579\nCooking staff             566\nPrivate service staff     342\nCleaning staff            341\nLow-skill Laborers        162\nSecretaries               161\nWaiters/barmen staff      149\nRealty agents              86\nIT staff                   77\nHR staff                   72\nName: Type of Employment, dtype: int64\nNaN                      4689\nLaborers                 3743\nSales staff              2433\nCore staff               2232\nManagers                 1719\nDrivers                  1057\nAccountants               886\nHigh skill tech staff     881\nMedicine staff            598\nCooking staff             405\nSecurity staff            377\nCleaning staff            230\nPrivate service staff     201\nLow-skill Laborers        141\nSecretaries               119\nWaiters/barmen staff      110\nRealty agents              68\nHR staff                   60\nIT staff                   51\nName: Type of Employment, dtype: int64\n"
     ]
    }
   ],
   "source": [
    "print(train['Type of Employment'].value_counts(dropna=False))\n",
    "print(test['Type of Employment'].value_counts(dropna=False))"
   ]
  },
  {
   "cell_type": "code",
   "execution_count": 367,
   "metadata": {},
   "outputs": [
    {
     "output_type": "stream",
     "name": "stdout",
     "text": [
      "Pensioner               2740\nWorking                 2661\nCommercial associate    1438\nState servant            427\nUnemployed                 2\nMaternity leave            1\nStudent                    1\nName: Profession, dtype: int64\nPensioner               1764\nWorking                 1763\nCommercial associate     904\nState servant            256\nUnemployed                 2\nName: Profession, dtype: int64\n"
     ]
    }
   ],
   "source": [
    "print(train[train['Type of Employment'].isna()]['Profession'].value_counts())\n",
    "print(test[test['Type of Employment'].isna()]['Profession'].value_counts())"
   ]
  },
  {
   "cell_type": "markdown",
   "metadata": {},
   "source": [
    "Profession does not seem to be adding value to Type of Employment, hence droping th columns/"
   ]
  },
  {
   "cell_type": "code",
   "execution_count": 368,
   "metadata": {},
   "outputs": [],
   "source": [
    "train = train.drop(['Profession'],axis=1)\n",
    "test = test.drop(['Profession'],axis=1)"
   ]
  },
  {
   "cell_type": "markdown",
   "metadata": {},
   "source": [
    "Ranking Type of Employment based on salary level"
   ]
  },
  {
   "cell_type": "code",
   "execution_count": 369,
   "metadata": {},
   "outputs": [],
   "source": [
    "ranks = {'Laborers':1,\n",
    "        'Sales staff':2,\n",
    "        'Core staff':3,\n",
    "        'Managers':5,\n",
    "        'Drivers':1,\n",
    "        'Accountants':3,\n",
    "        'High skill tech staff':5,\n",
    "        'Medicine staff':4,\n",
    "        'Security staff':2,\n",
    "        'Cooking staff':2,\n",
    "        'Private service staff':3,\n",
    "        'Cleaning staff':1,\n",
    "        'Low-skill Laborers':0,\n",
    "        'Secretaries':3,\n",
    "        'Waiters/barmen staff':1,\n",
    "        'Realty agents':3,\n",
    "        'IT staff':3,\n",
    "        'HR staff':4}\n",
    "train['Type of Employment'] = train['Type of Employment'].replace(ranks)\n",
    "train['Type of Employment'] = train['Type of Employment'].fillna(2)\n",
    "test['Type of Employment'] = test['Type of Employment'].replace(ranks)\n",
    "test['Type of Employment'] = test['Type of Employment'].fillna(2)"
   ]
  },
  {
   "cell_type": "code",
   "execution_count": 370,
   "metadata": {},
   "outputs": [
    {
     "output_type": "stream",
     "name": "stdout",
     "text": [
      "Semi-Urban    21563\n",
      "Rural          5338\n",
      "Urban          3099\n",
      "Name: Location, dtype: int64\n",
      "Semi-Urban    14463\n",
      "Rural          3436\n",
      "Urban          2101\n",
      "Name: Location, dtype: int64\n"
     ]
    }
   ],
   "source": [
    "print(train['Location'].value_counts(dropna=False))\n",
    "print(test['Location'].value_counts(dropna=False))"
   ]
  },
  {
   "cell_type": "code",
   "execution_count": 371,
   "metadata": {},
   "outputs": [
    {
     "output_type": "stream",
     "name": "stdout",
     "text": [
      "N    19214\nY    10786\nName: Expense Type 1, dtype: int64\nN    12816\nY     7184\nName: Expense Type 1, dtype: int64\nY    20180\nN     9820\nName: Expense Type 2, dtype: int64\nY    13383\nN     6617\nName: Expense Type 2, dtype: int64\n"
     ]
    }
   ],
   "source": [
    "print(train['Expense Type 1'].value_counts(dropna=False))\n",
    "print(test['Expense Type 1'].value_counts(dropna=False))\n",
    "print(train['Expense Type 2'].value_counts(dropna=False))\n",
    "print(test['Expense Type 2'].value_counts(dropna=False))"
   ]
  },
  {
   "cell_type": "code",
   "execution_count": 372,
   "metadata": {},
   "outputs": [
    {
     "output_type": "stream",
     "name": "stdout",
     "text": [
      "Active         9771\n",
      "Inactive       9466\n",
      "Unpossessed    9197\n",
      "NaN            1566\n",
      "Name: Has Active Credit Card, dtype: int64\n",
      "Active         6418\n",
      "Inactive       6376\n",
      "Unpossessed    6130\n",
      "NaN            1076\n",
      "Name: Has Active Credit Card, dtype: int64\n"
     ]
    }
   ],
   "source": [
    "print(train['Has Active Credit Card'].value_counts(dropna=False))\n",
    "print(test['Has Active Credit Card'].value_counts(dropna=False))"
   ]
  },
  {
   "cell_type": "code",
   "execution_count": 373,
   "metadata": {},
   "outputs": [],
   "source": [
    "train['Has Active Credit Card'] = train['Has Active Credit Card'].fillna('Unknown')\n",
    "test['Has Active Credit Card'] = test['Has Active Credit Card'].fillna('Unknown')"
   ]
  },
  {
   "cell_type": "code",
   "execution_count": 374,
   "metadata": {},
   "outputs": [
    {
     "output_type": "stream",
     "name": "stdout",
     "text": [
      "Semi-Urban    10387\nRural         10041\nUrban          9216\nNaN             356\nName: Property Location, dtype: int64\nSemi-Urban    6839\nRural         6768\nUrban         6233\nNaN            160\nName: Property Location, dtype: int64\n"
     ]
    }
   ],
   "source": [
    "print(train['Property Location'].value_counts(dropna=False))\n",
    "print(test['Property Location'].value_counts(dropna=False))"
   ]
  },
  {
   "cell_type": "code",
   "execution_count": 375,
   "metadata": {},
   "outputs": [],
   "source": [
    "train['Property Location'] = train['Property Location'].fillna('Unknown')\n",
    "test['Property Location'] = test['Property Location'].fillna('Unknown')"
   ]
  },
  {
   "cell_type": "markdown",
   "metadata": {},
   "source": [
    "Changing Dependents to catregorical data"
   ]
  },
  {
   "cell_type": "code",
   "execution_count": 376,
   "metadata": {},
   "outputs": [
    {
     "output_type": "stream",
     "name": "stdout",
     "text": [
      "2.0     13108\n3.0      5719\n1.0      5544\n4.0      2704\nNaN      2493\n5.0       372\n6.0        50\n7.0         7\n8.0         1\n14.0        1\n10.0        1\nName: Dependents, dtype: int64\n2.0     8951\n3.0     3874\n1.0     3843\n4.0     1915\nNaN     1142\n5.0      245\n6.0       21\n8.0        4\n7.0        3\n10.0       1\n13.0       1\nName: Dependents, dtype: int64\n"
     ]
    }
   ],
   "source": [
    "print(train['Dependents'].value_counts(dropna=False))\n",
    "print(test['Dependents'].value_counts(dropna=False))"
   ]
  },
  {
   "cell_type": "code",
   "execution_count": 377,
   "metadata": {},
   "outputs": [],
   "source": [
    "train['Dependents'] = train['Dependents'].fillna(2)\n",
    "test['Dependents'] = test['Dependents'].fillna(2)\n",
    "train.loc[(train['Dependents']<4),'Dependents'] = 1\n",
    "test.loc[(test['Dependents']<4),'Dependents'] = 1\n",
    "train.loc[(train['Dependents']>3),'Dependents'] = 0\n",
    "test.loc[(test['Dependents']>3),'Dependents'] = 0"
   ]
  },
  {
   "cell_type": "markdown",
   "metadata": {},
   "source": [
    "__Numberical__"
   ]
  },
  {
   "cell_type": "code",
   "execution_count": 378,
   "metadata": {},
   "outputs": [
    {
     "output_type": "stream",
     "name": "stdout",
     "text": [
      "Index(['Age', 'Income (USD)', 'Loan Amount Request (USD)',\n       'Current Loan Expenses (USD)', 'Dependents', 'Credit Score',\n       'No. of Defaults', 'Property ID', 'Property Age', 'Property Type',\n       'Co-Applicant', 'Property Price', 'Loan Sanction Amount (USD)'],\n      dtype='object')\nIndex(['Age', 'Income (USD)', 'Loan Amount Request (USD)',\n       'Current Loan Expenses (USD)', 'Dependents', 'Credit Score',\n       'No. of Defaults', 'Property ID', 'Property Age', 'Property Type'],\n      dtype='object')\n"
     ]
    }
   ],
   "source": [
    "print(numerical.columns)\n",
    "print(numerical_.columns)"
   ]
  },
  {
   "cell_type": "code",
   "execution_count": 379,
   "metadata": {},
   "outputs": [
    {
     "output_type": "execute_result",
     "data": {
      "text/plain": [
       "count     30000.000000\n",
       "mean      88826.333855\n",
       "std       59536.949605\n",
       "min        6048.240000\n",
       "25%       41177.755000\n",
       "50%       75128.075000\n",
       "75%      119964.605000\n",
       "max      621497.820000\n",
       "Name: Loan Amount Request (USD), dtype: float64"
      ]
     },
     "metadata": {},
     "execution_count": 379
    },
    {
     "output_type": "display_data",
     "data": {
      "text/plain": "<Figure size 1296x360 with 1 Axes>",
      "image/svg+xml": "<?xml version=\"1.0\" encoding=\"utf-8\" standalone=\"no\"?>\r\n<!DOCTYPE svg PUBLIC \"-//W3C//DTD SVG 1.1//EN\"\r\n  \"http://www.w3.org/Graphics/SVG/1.1/DTD/svg11.dtd\">\r\n<svg height=\"316.55625pt\" version=\"1.1\" viewBox=\"0 0 1022.3 316.55625\" width=\"1022.3pt\" xmlns=\"http://www.w3.org/2000/svg\" xmlns:xlink=\"http://www.w3.org/1999/xlink\">\r\n <metadata>\r\n  <rdf:RDF xmlns:cc=\"http://creativecommons.org/ns#\" xmlns:dc=\"http://purl.org/dc/elements/1.1/\" xmlns:rdf=\"http://www.w3.org/1999/02/22-rdf-syntax-ns#\">\r\n   <cc:Work>\r\n    <dc:type rdf:resource=\"http://purl.org/dc/dcmitype/StillImage\"/>\r\n    <dc:date>2021-06-26T14:20:12.120974</dc:date>\r\n    <dc:format>image/svg+xml</dc:format>\r\n    <dc:creator>\r\n     <cc:Agent>\r\n      <dc:title>Matplotlib v3.4.1, https://matplotlib.org/</dc:title>\r\n     </cc:Agent>\r\n    </dc:creator>\r\n   </cc:Work>\r\n  </rdf:RDF>\r\n </metadata>\r\n <defs>\r\n  <style type=\"text/css\">*{stroke-linecap:butt;stroke-linejoin:round;}</style>\r\n </defs>\r\n <g id=\"figure_1\">\r\n  <g id=\"patch_1\">\r\n   <path d=\"M 0 316.55625 \r\nL 1022.3 316.55625 \r\nL 1022.3 0 \r\nL 0 0 \r\nz\r\n\" style=\"fill:none;\"/>\r\n  </g>\r\n  <g id=\"axes_1\">\r\n   <g id=\"patch_2\">\r\n    <path d=\"M 10.7 279 \r\nL 1015.1 279 \r\nL 1015.1 7.2 \r\nL 10.7 7.2 \r\nz\r\n\" style=\"fill:#ffffff;\"/>\r\n   </g>\r\n   <g id=\"patch_3\">\r\n    <path clip-path=\"url(#p31d11b7817)\" d=\"M 108.47326 34.38 \r\nL 108.47326 251.82 \r\nL 225.362699 251.82 \r\nL 225.362699 34.38 \r\nL 108.47326 34.38 \r\nz\r\n\" style=\"fill:#3274a1;stroke:#3f3f3f;stroke-linejoin:miter;stroke-width:1.5;\"/>\r\n   </g>\r\n   <g id=\"matplotlib.axis_1\">\r\n    <g id=\"xtick_1\">\r\n     <g id=\"line2d_1\">\r\n      <defs>\r\n       <path d=\"M 0 0 \r\nL 0 3.5 \r\n\" id=\"mc15adad1cf\" style=\"stroke:#000000;stroke-width:0.8;\"/>\r\n      </defs>\r\n      <g>\r\n       <use style=\"stroke:#000000;stroke-width:0.8;\" x=\"47.381279\" xlink:href=\"#mc15adad1cf\" y=\"279\"/>\r\n      </g>\r\n     </g>\r\n     <g id=\"text_1\">\r\n      <!-- 0 -->\r\n      <g transform=\"translate(44.200029 293.598437)scale(0.1 -0.1)\">\r\n       <defs>\r\n        <path d=\"M 2034 4250 \r\nQ 1547 4250 1301 3770 \r\nQ 1056 3291 1056 2328 \r\nQ 1056 1369 1301 889 \r\nQ 1547 409 2034 409 \r\nQ 2525 409 2770 889 \r\nQ 3016 1369 3016 2328 \r\nQ 3016 3291 2770 3770 \r\nQ 2525 4250 2034 4250 \r\nz\r\nM 2034 4750 \r\nQ 2819 4750 3233 4129 \r\nQ 3647 3509 3647 2328 \r\nQ 3647 1150 3233 529 \r\nQ 2819 -91 2034 -91 \r\nQ 1250 -91 836 529 \r\nQ 422 1150 422 2328 \r\nQ 422 3509 836 4129 \r\nQ 1250 4750 2034 4750 \r\nz\r\n\" id=\"DejaVuSans-30\" transform=\"scale(0.015625)\"/>\r\n       </defs>\r\n       <use xlink:href=\"#DejaVuSans-30\"/>\r\n      </g>\r\n     </g>\r\n    </g>\r\n    <g id=\"xtick_2\">\r\n     <g id=\"line2d_2\">\r\n      <g>\r\n       <use style=\"stroke:#000000;stroke-width:0.8;\" x=\"195.74289\" xlink:href=\"#mc15adad1cf\" y=\"279\"/>\r\n      </g>\r\n     </g>\r\n     <g id=\"text_2\">\r\n      <!-- 100000 -->\r\n      <g transform=\"translate(176.65539 293.598437)scale(0.1 -0.1)\">\r\n       <defs>\r\n        <path d=\"M 794 531 \r\nL 1825 531 \r\nL 1825 4091 \r\nL 703 3866 \r\nL 703 4441 \r\nL 1819 4666 \r\nL 2450 4666 \r\nL 2450 531 \r\nL 3481 531 \r\nL 3481 0 \r\nL 794 0 \r\nL 794 531 \r\nz\r\n\" id=\"DejaVuSans-31\" transform=\"scale(0.015625)\"/>\r\n       </defs>\r\n       <use xlink:href=\"#DejaVuSans-31\"/>\r\n       <use x=\"63.623047\" xlink:href=\"#DejaVuSans-30\"/>\r\n       <use x=\"127.246094\" xlink:href=\"#DejaVuSans-30\"/>\r\n       <use x=\"190.869141\" xlink:href=\"#DejaVuSans-30\"/>\r\n       <use x=\"254.492188\" xlink:href=\"#DejaVuSans-30\"/>\r\n       <use x=\"318.115234\" xlink:href=\"#DejaVuSans-30\"/>\r\n      </g>\r\n     </g>\r\n    </g>\r\n    <g id=\"xtick_3\">\r\n     <g id=\"line2d_3\">\r\n      <g>\r\n       <use style=\"stroke:#000000;stroke-width:0.8;\" x=\"344.1045\" xlink:href=\"#mc15adad1cf\" y=\"279\"/>\r\n      </g>\r\n     </g>\r\n     <g id=\"text_3\">\r\n      <!-- 200000 -->\r\n      <g transform=\"translate(325.017 293.598437)scale(0.1 -0.1)\">\r\n       <defs>\r\n        <path d=\"M 1228 531 \r\nL 3431 531 \r\nL 3431 0 \r\nL 469 0 \r\nL 469 531 \r\nQ 828 903 1448 1529 \r\nQ 2069 2156 2228 2338 \r\nQ 2531 2678 2651 2914 \r\nQ 2772 3150 2772 3378 \r\nQ 2772 3750 2511 3984 \r\nQ 2250 4219 1831 4219 \r\nQ 1534 4219 1204 4116 \r\nQ 875 4013 500 3803 \r\nL 500 4441 \r\nQ 881 4594 1212 4672 \r\nQ 1544 4750 1819 4750 \r\nQ 2544 4750 2975 4387 \r\nQ 3406 4025 3406 3419 \r\nQ 3406 3131 3298 2873 \r\nQ 3191 2616 2906 2266 \r\nQ 2828 2175 2409 1742 \r\nQ 1991 1309 1228 531 \r\nz\r\n\" id=\"DejaVuSans-32\" transform=\"scale(0.015625)\"/>\r\n       </defs>\r\n       <use xlink:href=\"#DejaVuSans-32\"/>\r\n       <use x=\"63.623047\" xlink:href=\"#DejaVuSans-30\"/>\r\n       <use x=\"127.246094\" xlink:href=\"#DejaVuSans-30\"/>\r\n       <use x=\"190.869141\" xlink:href=\"#DejaVuSans-30\"/>\r\n       <use x=\"254.492188\" xlink:href=\"#DejaVuSans-30\"/>\r\n       <use x=\"318.115234\" xlink:href=\"#DejaVuSans-30\"/>\r\n      </g>\r\n     </g>\r\n    </g>\r\n    <g id=\"xtick_4\">\r\n     <g id=\"line2d_4\">\r\n      <g>\r\n       <use style=\"stroke:#000000;stroke-width:0.8;\" x=\"492.466111\" xlink:href=\"#mc15adad1cf\" y=\"279\"/>\r\n      </g>\r\n     </g>\r\n     <g id=\"text_4\">\r\n      <!-- 300000 -->\r\n      <g transform=\"translate(473.378611 293.598437)scale(0.1 -0.1)\">\r\n       <defs>\r\n        <path d=\"M 2597 2516 \r\nQ 3050 2419 3304 2112 \r\nQ 3559 1806 3559 1356 \r\nQ 3559 666 3084 287 \r\nQ 2609 -91 1734 -91 \r\nQ 1441 -91 1130 -33 \r\nQ 819 25 488 141 \r\nL 488 750 \r\nQ 750 597 1062 519 \r\nQ 1375 441 1716 441 \r\nQ 2309 441 2620 675 \r\nQ 2931 909 2931 1356 \r\nQ 2931 1769 2642 2001 \r\nQ 2353 2234 1838 2234 \r\nL 1294 2234 \r\nL 1294 2753 \r\nL 1863 2753 \r\nQ 2328 2753 2575 2939 \r\nQ 2822 3125 2822 3475 \r\nQ 2822 3834 2567 4026 \r\nQ 2313 4219 1838 4219 \r\nQ 1578 4219 1281 4162 \r\nQ 984 4106 628 3988 \r\nL 628 4550 \r\nQ 988 4650 1302 4700 \r\nQ 1616 4750 1894 4750 \r\nQ 2613 4750 3031 4423 \r\nQ 3450 4097 3450 3541 \r\nQ 3450 3153 3228 2886 \r\nQ 3006 2619 2597 2516 \r\nz\r\n\" id=\"DejaVuSans-33\" transform=\"scale(0.015625)\"/>\r\n       </defs>\r\n       <use xlink:href=\"#DejaVuSans-33\"/>\r\n       <use x=\"63.623047\" xlink:href=\"#DejaVuSans-30\"/>\r\n       <use x=\"127.246094\" xlink:href=\"#DejaVuSans-30\"/>\r\n       <use x=\"190.869141\" xlink:href=\"#DejaVuSans-30\"/>\r\n       <use x=\"254.492188\" xlink:href=\"#DejaVuSans-30\"/>\r\n       <use x=\"318.115234\" xlink:href=\"#DejaVuSans-30\"/>\r\n      </g>\r\n     </g>\r\n    </g>\r\n    <g id=\"xtick_5\">\r\n     <g id=\"line2d_5\">\r\n      <g>\r\n       <use style=\"stroke:#000000;stroke-width:0.8;\" x=\"640.827721\" xlink:href=\"#mc15adad1cf\" y=\"279\"/>\r\n      </g>\r\n     </g>\r\n     <g id=\"text_5\">\r\n      <!-- 400000 -->\r\n      <g transform=\"translate(621.740221 293.598437)scale(0.1 -0.1)\">\r\n       <defs>\r\n        <path d=\"M 2419 4116 \r\nL 825 1625 \r\nL 2419 1625 \r\nL 2419 4116 \r\nz\r\nM 2253 4666 \r\nL 3047 4666 \r\nL 3047 1625 \r\nL 3713 1625 \r\nL 3713 1100 \r\nL 3047 1100 \r\nL 3047 0 \r\nL 2419 0 \r\nL 2419 1100 \r\nL 313 1100 \r\nL 313 1709 \r\nL 2253 4666 \r\nz\r\n\" id=\"DejaVuSans-34\" transform=\"scale(0.015625)\"/>\r\n       </defs>\r\n       <use xlink:href=\"#DejaVuSans-34\"/>\r\n       <use x=\"63.623047\" xlink:href=\"#DejaVuSans-30\"/>\r\n       <use x=\"127.246094\" xlink:href=\"#DejaVuSans-30\"/>\r\n       <use x=\"190.869141\" xlink:href=\"#DejaVuSans-30\"/>\r\n       <use x=\"254.492188\" xlink:href=\"#DejaVuSans-30\"/>\r\n       <use x=\"318.115234\" xlink:href=\"#DejaVuSans-30\"/>\r\n      </g>\r\n     </g>\r\n    </g>\r\n    <g id=\"xtick_6\">\r\n     <g id=\"line2d_6\">\r\n      <g>\r\n       <use style=\"stroke:#000000;stroke-width:0.8;\" x=\"789.189332\" xlink:href=\"#mc15adad1cf\" y=\"279\"/>\r\n      </g>\r\n     </g>\r\n     <g id=\"text_6\">\r\n      <!-- 500000 -->\r\n      <g transform=\"translate(770.101832 293.598437)scale(0.1 -0.1)\">\r\n       <defs>\r\n        <path d=\"M 691 4666 \r\nL 3169 4666 \r\nL 3169 4134 \r\nL 1269 4134 \r\nL 1269 2991 \r\nQ 1406 3038 1543 3061 \r\nQ 1681 3084 1819 3084 \r\nQ 2600 3084 3056 2656 \r\nQ 3513 2228 3513 1497 \r\nQ 3513 744 3044 326 \r\nQ 2575 -91 1722 -91 \r\nQ 1428 -91 1123 -41 \r\nQ 819 9 494 109 \r\nL 494 744 \r\nQ 775 591 1075 516 \r\nQ 1375 441 1709 441 \r\nQ 2250 441 2565 725 \r\nQ 2881 1009 2881 1497 \r\nQ 2881 1984 2565 2268 \r\nQ 2250 2553 1709 2553 \r\nQ 1456 2553 1204 2497 \r\nQ 953 2441 691 2322 \r\nL 691 4666 \r\nz\r\n\" id=\"DejaVuSans-35\" transform=\"scale(0.015625)\"/>\r\n       </defs>\r\n       <use xlink:href=\"#DejaVuSans-35\"/>\r\n       <use x=\"63.623047\" xlink:href=\"#DejaVuSans-30\"/>\r\n       <use x=\"127.246094\" xlink:href=\"#DejaVuSans-30\"/>\r\n       <use x=\"190.869141\" xlink:href=\"#DejaVuSans-30\"/>\r\n       <use x=\"254.492188\" xlink:href=\"#DejaVuSans-30\"/>\r\n       <use x=\"318.115234\" xlink:href=\"#DejaVuSans-30\"/>\r\n      </g>\r\n     </g>\r\n    </g>\r\n    <g id=\"xtick_7\">\r\n     <g id=\"line2d_7\">\r\n      <g>\r\n       <use style=\"stroke:#000000;stroke-width:0.8;\" x=\"937.550943\" xlink:href=\"#mc15adad1cf\" y=\"279\"/>\r\n      </g>\r\n     </g>\r\n     <g id=\"text_7\">\r\n      <!-- 600000 -->\r\n      <g transform=\"translate(918.463443 293.598437)scale(0.1 -0.1)\">\r\n       <defs>\r\n        <path d=\"M 2113 2584 \r\nQ 1688 2584 1439 2293 \r\nQ 1191 2003 1191 1497 \r\nQ 1191 994 1439 701 \r\nQ 1688 409 2113 409 \r\nQ 2538 409 2786 701 \r\nQ 3034 994 3034 1497 \r\nQ 3034 2003 2786 2293 \r\nQ 2538 2584 2113 2584 \r\nz\r\nM 3366 4563 \r\nL 3366 3988 \r\nQ 3128 4100 2886 4159 \r\nQ 2644 4219 2406 4219 \r\nQ 1781 4219 1451 3797 \r\nQ 1122 3375 1075 2522 \r\nQ 1259 2794 1537 2939 \r\nQ 1816 3084 2150 3084 \r\nQ 2853 3084 3261 2657 \r\nQ 3669 2231 3669 1497 \r\nQ 3669 778 3244 343 \r\nQ 2819 -91 2113 -91 \r\nQ 1303 -91 875 529 \r\nQ 447 1150 447 2328 \r\nQ 447 3434 972 4092 \r\nQ 1497 4750 2381 4750 \r\nQ 2619 4750 2861 4703 \r\nQ 3103 4656 3366 4563 \r\nz\r\n\" id=\"DejaVuSans-36\" transform=\"scale(0.015625)\"/>\r\n       </defs>\r\n       <use xlink:href=\"#DejaVuSans-36\"/>\r\n       <use x=\"63.623047\" xlink:href=\"#DejaVuSans-30\"/>\r\n       <use x=\"127.246094\" xlink:href=\"#DejaVuSans-30\"/>\r\n       <use x=\"190.869141\" xlink:href=\"#DejaVuSans-30\"/>\r\n       <use x=\"254.492188\" xlink:href=\"#DejaVuSans-30\"/>\r\n       <use x=\"318.115234\" xlink:href=\"#DejaVuSans-30\"/>\r\n      </g>\r\n     </g>\r\n    </g>\r\n    <g id=\"text_8\">\r\n     <!-- Loan Amount Request (USD) -->\r\n     <g transform=\"translate(441.599219 307.276562)scale(0.1 -0.1)\">\r\n      <defs>\r\n       <path d=\"M 628 4666 \r\nL 1259 4666 \r\nL 1259 531 \r\nL 3531 531 \r\nL 3531 0 \r\nL 628 0 \r\nL 628 4666 \r\nz\r\n\" id=\"DejaVuSans-4c\" transform=\"scale(0.015625)\"/>\r\n       <path d=\"M 1959 3097 \r\nQ 1497 3097 1228 2736 \r\nQ 959 2375 959 1747 \r\nQ 959 1119 1226 758 \r\nQ 1494 397 1959 397 \r\nQ 2419 397 2687 759 \r\nQ 2956 1122 2956 1747 \r\nQ 2956 2369 2687 2733 \r\nQ 2419 3097 1959 3097 \r\nz\r\nM 1959 3584 \r\nQ 2709 3584 3137 3096 \r\nQ 3566 2609 3566 1747 \r\nQ 3566 888 3137 398 \r\nQ 2709 -91 1959 -91 \r\nQ 1206 -91 779 398 \r\nQ 353 888 353 1747 \r\nQ 353 2609 779 3096 \r\nQ 1206 3584 1959 3584 \r\nz\r\n\" id=\"DejaVuSans-6f\" transform=\"scale(0.015625)\"/>\r\n       <path d=\"M 2194 1759 \r\nQ 1497 1759 1228 1600 \r\nQ 959 1441 959 1056 \r\nQ 959 750 1161 570 \r\nQ 1363 391 1709 391 \r\nQ 2188 391 2477 730 \r\nQ 2766 1069 2766 1631 \r\nL 2766 1759 \r\nL 2194 1759 \r\nz\r\nM 3341 1997 \r\nL 3341 0 \r\nL 2766 0 \r\nL 2766 531 \r\nQ 2569 213 2275 61 \r\nQ 1981 -91 1556 -91 \r\nQ 1019 -91 701 211 \r\nQ 384 513 384 1019 \r\nQ 384 1609 779 1909 \r\nQ 1175 2209 1959 2209 \r\nL 2766 2209 \r\nL 2766 2266 \r\nQ 2766 2663 2505 2880 \r\nQ 2244 3097 1772 3097 \r\nQ 1472 3097 1187 3025 \r\nQ 903 2953 641 2809 \r\nL 641 3341 \r\nQ 956 3463 1253 3523 \r\nQ 1550 3584 1831 3584 \r\nQ 2591 3584 2966 3190 \r\nQ 3341 2797 3341 1997 \r\nz\r\n\" id=\"DejaVuSans-61\" transform=\"scale(0.015625)\"/>\r\n       <path d=\"M 3513 2113 \r\nL 3513 0 \r\nL 2938 0 \r\nL 2938 2094 \r\nQ 2938 2591 2744 2837 \r\nQ 2550 3084 2163 3084 \r\nQ 1697 3084 1428 2787 \r\nQ 1159 2491 1159 1978 \r\nL 1159 0 \r\nL 581 0 \r\nL 581 3500 \r\nL 1159 3500 \r\nL 1159 2956 \r\nQ 1366 3272 1645 3428 \r\nQ 1925 3584 2291 3584 \r\nQ 2894 3584 3203 3211 \r\nQ 3513 2838 3513 2113 \r\nz\r\n\" id=\"DejaVuSans-6e\" transform=\"scale(0.015625)\"/>\r\n       <path id=\"DejaVuSans-20\" transform=\"scale(0.015625)\"/>\r\n       <path d=\"M 2188 4044 \r\nL 1331 1722 \r\nL 3047 1722 \r\nL 2188 4044 \r\nz\r\nM 1831 4666 \r\nL 2547 4666 \r\nL 4325 0 \r\nL 3669 0 \r\nL 3244 1197 \r\nL 1141 1197 \r\nL 716 0 \r\nL 50 0 \r\nL 1831 4666 \r\nz\r\n\" id=\"DejaVuSans-41\" transform=\"scale(0.015625)\"/>\r\n       <path d=\"M 3328 2828 \r\nQ 3544 3216 3844 3400 \r\nQ 4144 3584 4550 3584 \r\nQ 5097 3584 5394 3201 \r\nQ 5691 2819 5691 2113 \r\nL 5691 0 \r\nL 5113 0 \r\nL 5113 2094 \r\nQ 5113 2597 4934 2840 \r\nQ 4756 3084 4391 3084 \r\nQ 3944 3084 3684 2787 \r\nQ 3425 2491 3425 1978 \r\nL 3425 0 \r\nL 2847 0 \r\nL 2847 2094 \r\nQ 2847 2600 2669 2842 \r\nQ 2491 3084 2119 3084 \r\nQ 1678 3084 1418 2786 \r\nQ 1159 2488 1159 1978 \r\nL 1159 0 \r\nL 581 0 \r\nL 581 3500 \r\nL 1159 3500 \r\nL 1159 2956 \r\nQ 1356 3278 1631 3431 \r\nQ 1906 3584 2284 3584 \r\nQ 2666 3584 2933 3390 \r\nQ 3200 3197 3328 2828 \r\nz\r\n\" id=\"DejaVuSans-6d\" transform=\"scale(0.015625)\"/>\r\n       <path d=\"M 544 1381 \r\nL 544 3500 \r\nL 1119 3500 \r\nL 1119 1403 \r\nQ 1119 906 1312 657 \r\nQ 1506 409 1894 409 \r\nQ 2359 409 2629 706 \r\nQ 2900 1003 2900 1516 \r\nL 2900 3500 \r\nL 3475 3500 \r\nL 3475 0 \r\nL 2900 0 \r\nL 2900 538 \r\nQ 2691 219 2414 64 \r\nQ 2138 -91 1772 -91 \r\nQ 1169 -91 856 284 \r\nQ 544 659 544 1381 \r\nz\r\nM 1991 3584 \r\nL 1991 3584 \r\nz\r\n\" id=\"DejaVuSans-75\" transform=\"scale(0.015625)\"/>\r\n       <path d=\"M 1172 4494 \r\nL 1172 3500 \r\nL 2356 3500 \r\nL 2356 3053 \r\nL 1172 3053 \r\nL 1172 1153 \r\nQ 1172 725 1289 603 \r\nQ 1406 481 1766 481 \r\nL 2356 481 \r\nL 2356 0 \r\nL 1766 0 \r\nQ 1100 0 847 248 \r\nQ 594 497 594 1153 \r\nL 594 3053 \r\nL 172 3053 \r\nL 172 3500 \r\nL 594 3500 \r\nL 594 4494 \r\nL 1172 4494 \r\nz\r\n\" id=\"DejaVuSans-74\" transform=\"scale(0.015625)\"/>\r\n       <path d=\"M 2841 2188 \r\nQ 3044 2119 3236 1894 \r\nQ 3428 1669 3622 1275 \r\nL 4263 0 \r\nL 3584 0 \r\nL 2988 1197 \r\nQ 2756 1666 2539 1819 \r\nQ 2322 1972 1947 1972 \r\nL 1259 1972 \r\nL 1259 0 \r\nL 628 0 \r\nL 628 4666 \r\nL 2053 4666 \r\nQ 2853 4666 3247 4331 \r\nQ 3641 3997 3641 3322 \r\nQ 3641 2881 3436 2590 \r\nQ 3231 2300 2841 2188 \r\nz\r\nM 1259 4147 \r\nL 1259 2491 \r\nL 2053 2491 \r\nQ 2509 2491 2742 2702 \r\nQ 2975 2913 2975 3322 \r\nQ 2975 3731 2742 3939 \r\nQ 2509 4147 2053 4147 \r\nL 1259 4147 \r\nz\r\n\" id=\"DejaVuSans-52\" transform=\"scale(0.015625)\"/>\r\n       <path d=\"M 3597 1894 \r\nL 3597 1613 \r\nL 953 1613 \r\nQ 991 1019 1311 708 \r\nQ 1631 397 2203 397 \r\nQ 2534 397 2845 478 \r\nQ 3156 559 3463 722 \r\nL 3463 178 \r\nQ 3153 47 2828 -22 \r\nQ 2503 -91 2169 -91 \r\nQ 1331 -91 842 396 \r\nQ 353 884 353 1716 \r\nQ 353 2575 817 3079 \r\nQ 1281 3584 2069 3584 \r\nQ 2775 3584 3186 3129 \r\nQ 3597 2675 3597 1894 \r\nz\r\nM 3022 2063 \r\nQ 3016 2534 2758 2815 \r\nQ 2500 3097 2075 3097 \r\nQ 1594 3097 1305 2825 \r\nQ 1016 2553 972 2059 \r\nL 3022 2063 \r\nz\r\n\" id=\"DejaVuSans-65\" transform=\"scale(0.015625)\"/>\r\n       <path d=\"M 947 1747 \r\nQ 947 1113 1208 752 \r\nQ 1469 391 1925 391 \r\nQ 2381 391 2643 752 \r\nQ 2906 1113 2906 1747 \r\nQ 2906 2381 2643 2742 \r\nQ 2381 3103 1925 3103 \r\nQ 1469 3103 1208 2742 \r\nQ 947 2381 947 1747 \r\nz\r\nM 2906 525 \r\nQ 2725 213 2448 61 \r\nQ 2172 -91 1784 -91 \r\nQ 1150 -91 751 415 \r\nQ 353 922 353 1747 \r\nQ 353 2572 751 3078 \r\nQ 1150 3584 1784 3584 \r\nQ 2172 3584 2448 3432 \r\nQ 2725 3281 2906 2969 \r\nL 2906 3500 \r\nL 3481 3500 \r\nL 3481 -1331 \r\nL 2906 -1331 \r\nL 2906 525 \r\nz\r\n\" id=\"DejaVuSans-71\" transform=\"scale(0.015625)\"/>\r\n       <path d=\"M 2834 3397 \r\nL 2834 2853 \r\nQ 2591 2978 2328 3040 \r\nQ 2066 3103 1784 3103 \r\nQ 1356 3103 1142 2972 \r\nQ 928 2841 928 2578 \r\nQ 928 2378 1081 2264 \r\nQ 1234 2150 1697 2047 \r\nL 1894 2003 \r\nQ 2506 1872 2764 1633 \r\nQ 3022 1394 3022 966 \r\nQ 3022 478 2636 193 \r\nQ 2250 -91 1575 -91 \r\nQ 1294 -91 989 -36 \r\nQ 684 19 347 128 \r\nL 347 722 \r\nQ 666 556 975 473 \r\nQ 1284 391 1588 391 \r\nQ 1994 391 2212 530 \r\nQ 2431 669 2431 922 \r\nQ 2431 1156 2273 1281 \r\nQ 2116 1406 1581 1522 \r\nL 1381 1569 \r\nQ 847 1681 609 1914 \r\nQ 372 2147 372 2553 \r\nQ 372 3047 722 3315 \r\nQ 1072 3584 1716 3584 \r\nQ 2034 3584 2315 3537 \r\nQ 2597 3491 2834 3397 \r\nz\r\n\" id=\"DejaVuSans-73\" transform=\"scale(0.015625)\"/>\r\n       <path d=\"M 1984 4856 \r\nQ 1566 4138 1362 3434 \r\nQ 1159 2731 1159 2009 \r\nQ 1159 1288 1364 580 \r\nQ 1569 -128 1984 -844 \r\nL 1484 -844 \r\nQ 1016 -109 783 600 \r\nQ 550 1309 550 2009 \r\nQ 550 2706 781 3412 \r\nQ 1013 4119 1484 4856 \r\nL 1984 4856 \r\nz\r\n\" id=\"DejaVuSans-28\" transform=\"scale(0.015625)\"/>\r\n       <path d=\"M 556 4666 \r\nL 1191 4666 \r\nL 1191 1831 \r\nQ 1191 1081 1462 751 \r\nQ 1734 422 2344 422 \r\nQ 2950 422 3222 751 \r\nQ 3494 1081 3494 1831 \r\nL 3494 4666 \r\nL 4128 4666 \r\nL 4128 1753 \r\nQ 4128 841 3676 375 \r\nQ 3225 -91 2344 -91 \r\nQ 1459 -91 1007 375 \r\nQ 556 841 556 1753 \r\nL 556 4666 \r\nz\r\n\" id=\"DejaVuSans-55\" transform=\"scale(0.015625)\"/>\r\n       <path d=\"M 3425 4513 \r\nL 3425 3897 \r\nQ 3066 4069 2747 4153 \r\nQ 2428 4238 2131 4238 \r\nQ 1616 4238 1336 4038 \r\nQ 1056 3838 1056 3469 \r\nQ 1056 3159 1242 3001 \r\nQ 1428 2844 1947 2747 \r\nL 2328 2669 \r\nQ 3034 2534 3370 2195 \r\nQ 3706 1856 3706 1288 \r\nQ 3706 609 3251 259 \r\nQ 2797 -91 1919 -91 \r\nQ 1588 -91 1214 -16 \r\nQ 841 59 441 206 \r\nL 441 856 \r\nQ 825 641 1194 531 \r\nQ 1563 422 1919 422 \r\nQ 2459 422 2753 634 \r\nQ 3047 847 3047 1241 \r\nQ 3047 1584 2836 1778 \r\nQ 2625 1972 2144 2069 \r\nL 1759 2144 \r\nQ 1053 2284 737 2584 \r\nQ 422 2884 422 3419 \r\nQ 422 4038 858 4394 \r\nQ 1294 4750 2059 4750 \r\nQ 2388 4750 2728 4690 \r\nQ 3069 4631 3425 4513 \r\nz\r\n\" id=\"DejaVuSans-53\" transform=\"scale(0.015625)\"/>\r\n       <path d=\"M 1259 4147 \r\nL 1259 519 \r\nL 2022 519 \r\nQ 2988 519 3436 956 \r\nQ 3884 1394 3884 2338 \r\nQ 3884 3275 3436 3711 \r\nQ 2988 4147 2022 4147 \r\nL 1259 4147 \r\nz\r\nM 628 4666 \r\nL 1925 4666 \r\nQ 3281 4666 3915 4102 \r\nQ 4550 3538 4550 2338 \r\nQ 4550 1131 3912 565 \r\nQ 3275 0 1925 0 \r\nL 628 0 \r\nL 628 4666 \r\nz\r\n\" id=\"DejaVuSans-44\" transform=\"scale(0.015625)\"/>\r\n       <path d=\"M 513 4856 \r\nL 1013 4856 \r\nQ 1481 4119 1714 3412 \r\nQ 1947 2706 1947 2009 \r\nQ 1947 1309 1714 600 \r\nQ 1481 -109 1013 -844 \r\nL 513 -844 \r\nQ 928 -128 1133 580 \r\nQ 1338 1288 1338 2009 \r\nQ 1338 2731 1133 3434 \r\nQ 928 4138 513 4856 \r\nz\r\n\" id=\"DejaVuSans-29\" transform=\"scale(0.015625)\"/>\r\n      </defs>\r\n      <use xlink:href=\"#DejaVuSans-4c\"/>\r\n      <use x=\"53.962891\" xlink:href=\"#DejaVuSans-6f\"/>\r\n      <use x=\"115.144531\" xlink:href=\"#DejaVuSans-61\"/>\r\n      <use x=\"176.423828\" xlink:href=\"#DejaVuSans-6e\"/>\r\n      <use x=\"239.802734\" xlink:href=\"#DejaVuSans-20\"/>\r\n      <use x=\"271.589844\" xlink:href=\"#DejaVuSans-41\"/>\r\n      <use x=\"339.998047\" xlink:href=\"#DejaVuSans-6d\"/>\r\n      <use x=\"437.410156\" xlink:href=\"#DejaVuSans-6f\"/>\r\n      <use x=\"498.591797\" xlink:href=\"#DejaVuSans-75\"/>\r\n      <use x=\"561.970703\" xlink:href=\"#DejaVuSans-6e\"/>\r\n      <use x=\"625.349609\" xlink:href=\"#DejaVuSans-74\"/>\r\n      <use x=\"664.558594\" xlink:href=\"#DejaVuSans-20\"/>\r\n      <use x=\"696.345703\" xlink:href=\"#DejaVuSans-52\"/>\r\n      <use x=\"761.328125\" xlink:href=\"#DejaVuSans-65\"/>\r\n      <use x=\"822.851562\" xlink:href=\"#DejaVuSans-71\"/>\r\n      <use x=\"886.328125\" xlink:href=\"#DejaVuSans-75\"/>\r\n      <use x=\"949.707031\" xlink:href=\"#DejaVuSans-65\"/>\r\n      <use x=\"1011.230469\" xlink:href=\"#DejaVuSans-73\"/>\r\n      <use x=\"1063.330078\" xlink:href=\"#DejaVuSans-74\"/>\r\n      <use x=\"1102.539062\" xlink:href=\"#DejaVuSans-20\"/>\r\n      <use x=\"1134.326172\" xlink:href=\"#DejaVuSans-28\"/>\r\n      <use x=\"1173.339844\" xlink:href=\"#DejaVuSans-55\"/>\r\n      <use x=\"1246.533203\" xlink:href=\"#DejaVuSans-53\"/>\r\n      <use x=\"1310.009766\" xlink:href=\"#DejaVuSans-44\"/>\r\n      <use x=\"1387.011719\" xlink:href=\"#DejaVuSans-29\"/>\r\n     </g>\r\n    </g>\r\n   </g>\r\n   <g id=\"matplotlib.axis_2\">\r\n    <g id=\"ytick_1\">\r\n     <g id=\"line2d_8\">\r\n      <defs>\r\n       <path d=\"M 0 0 \r\nL -3.5 0 \r\n\" id=\"m782163e9e4\" style=\"stroke:#000000;stroke-width:0.8;\"/>\r\n      </defs>\r\n      <g>\r\n       <use style=\"stroke:#000000;stroke-width:0.8;\" x=\"10.7\" xlink:href=\"#m782163e9e4\" y=\"143.1\"/>\r\n      </g>\r\n     </g>\r\n    </g>\r\n   </g>\r\n   <g id=\"line2d_9\">\r\n    <path clip-path=\"url(#p31d11b7817)\" d=\"M 108.47326 143.1 \r\nL 56.354545 143.1 \r\n\" style=\"fill:none;stroke:#3f3f3f;stroke-linecap:square;stroke-width:1.5;\"/>\r\n   </g>\r\n   <g id=\"line2d_10\">\r\n    <path clip-path=\"url(#p31d11b7817)\" d=\"M 225.362699 143.1 \r\nL 400.680747 143.1 \r\n\" style=\"fill:none;stroke:#3f3f3f;stroke-linecap:square;stroke-width:1.5;\"/>\r\n   </g>\r\n   <g id=\"line2d_11\">\r\n    <path clip-path=\"url(#p31d11b7817)\" d=\"M 56.354545 88.74 \r\nL 56.354545 197.46 \r\n\" style=\"fill:none;stroke:#3f3f3f;stroke-linecap:square;stroke-width:1.5;\"/>\r\n   </g>\r\n   <g id=\"line2d_12\">\r\n    <path clip-path=\"url(#p31d11b7817)\" d=\"M 400.680747 88.74 \r\nL 400.680747 197.46 \r\n\" style=\"fill:none;stroke:#3f3f3f;stroke-linecap:square;stroke-width:1.5;\"/>\r\n   </g>\r\n   <g id=\"line2d_13\">\r\n    <defs>\r\n     <path d=\"M 0 3.535534 \r\nL 2.12132 0 \r\nL 0 -3.535534 \r\nL -2.12132 0 \r\nz\r\n\" id=\"mb2a2870a0d\" style=\"stroke:#3f3f3f;stroke-linejoin:miter;\"/>\r\n    </defs>\r\n    <g clip-path=\"url(#p31d11b7817)\">\r\n     <use style=\"fill:#3f3f3f;stroke:#3f3f3f;stroke-linejoin:miter;\" x=\"403.911692\" xlink:href=\"#mb2a2870a0d\" y=\"143.1\"/>\r\n     <use style=\"fill:#3f3f3f;stroke:#3f3f3f;stroke-linejoin:miter;\" x=\"430.686882\" xlink:href=\"#mb2a2870a0d\" y=\"143.1\"/>\r\n     <use style=\"fill:#3f3f3f;stroke:#3f3f3f;stroke-linejoin:miter;\" x=\"437.156012\" xlink:href=\"#mb2a2870a0d\" y=\"143.1\"/>\r\n     <use style=\"fill:#3f3f3f;stroke:#3f3f3f;stroke-linejoin:miter;\" x=\"464.311513\" xlink:href=\"#mb2a2870a0d\" y=\"143.1\"/>\r\n     <use style=\"fill:#3f3f3f;stroke:#3f3f3f;stroke-linejoin:miter;\" x=\"460.714456\" xlink:href=\"#mb2a2870a0d\" y=\"143.1\"/>\r\n     <use style=\"fill:#3f3f3f;stroke:#3f3f3f;stroke-linejoin:miter;\" x=\"478.90399\" xlink:href=\"#mb2a2870a0d\" y=\"143.1\"/>\r\n     <use style=\"fill:#3f3f3f;stroke:#3f3f3f;stroke-linejoin:miter;\" x=\"475.560543\" xlink:href=\"#mb2a2870a0d\" y=\"143.1\"/>\r\n     <use style=\"fill:#3f3f3f;stroke:#3f3f3f;stroke-linejoin:miter;\" x=\"466.365416\" xlink:href=\"#mb2a2870a0d\" y=\"143.1\"/>\r\n     <use style=\"fill:#3f3f3f;stroke:#3f3f3f;stroke-linejoin:miter;\" x=\"417.889462\" xlink:href=\"#mb2a2870a0d\" y=\"143.1\"/>\r\n     <use style=\"fill:#3f3f3f;stroke:#3f3f3f;stroke-linejoin:miter;\" x=\"498.602021\" xlink:href=\"#mb2a2870a0d\" y=\"143.1\"/>\r\n     <use style=\"fill:#3f3f3f;stroke:#3f3f3f;stroke-linejoin:miter;\" x=\"449.898895\" xlink:href=\"#mb2a2870a0d\" y=\"143.1\"/>\r\n     <use style=\"fill:#3f3f3f;stroke:#3f3f3f;stroke-linejoin:miter;\" x=\"474.012449\" xlink:href=\"#mb2a2870a0d\" y=\"143.1\"/>\r\n     <use style=\"fill:#3f3f3f;stroke:#3f3f3f;stroke-linejoin:miter;\" x=\"611.562622\" xlink:href=\"#mb2a2870a0d\" y=\"143.1\"/>\r\n     <use style=\"fill:#3f3f3f;stroke:#3f3f3f;stroke-linejoin:miter;\" x=\"435.392008\" xlink:href=\"#mb2a2870a0d\" y=\"143.1\"/>\r\n     <use style=\"fill:#3f3f3f;stroke:#3f3f3f;stroke-linejoin:miter;\" x=\"416.936654\" xlink:href=\"#mb2a2870a0d\" y=\"143.1\"/>\r\n     <use style=\"fill:#3f3f3f;stroke:#3f3f3f;stroke-linejoin:miter;\" x=\"437.404681\" xlink:href=\"#mb2a2870a0d\" y=\"143.1\"/>\r\n     <use style=\"fill:#3f3f3f;stroke:#3f3f3f;stroke-linejoin:miter;\" x=\"414.246087\" xlink:href=\"#mb2a2870a0d\" y=\"143.1\"/>\r\n     <use style=\"fill:#3f3f3f;stroke:#3f3f3f;stroke-linejoin:miter;\" x=\"519.125624\" xlink:href=\"#mb2a2870a0d\" y=\"143.1\"/>\r\n     <use style=\"fill:#3f3f3f;stroke:#3f3f3f;stroke-linejoin:miter;\" x=\"452.52899\" xlink:href=\"#mb2a2870a0d\" y=\"143.1\"/>\r\n     <use style=\"fill:#3f3f3f;stroke:#3f3f3f;stroke-linejoin:miter;\" x=\"456.549011\" xlink:href=\"#mb2a2870a0d\" y=\"143.1\"/>\r\n     <use style=\"fill:#3f3f3f;stroke:#3f3f3f;stroke-linejoin:miter;\" x=\"541.867842\" xlink:href=\"#mb2a2870a0d\" y=\"143.1\"/>\r\n     <use style=\"fill:#3f3f3f;stroke:#3f3f3f;stroke-linejoin:miter;\" x=\"404.838254\" xlink:href=\"#mb2a2870a0d\" y=\"143.1\"/>\r\n     <use style=\"fill:#3f3f3f;stroke:#3f3f3f;stroke-linejoin:miter;\" x=\"498.841358\" xlink:href=\"#mb2a2870a0d\" y=\"143.1\"/>\r\n     <use style=\"fill:#3f3f3f;stroke:#3f3f3f;stroke-linejoin:miter;\" x=\"413.607776\" xlink:href=\"#mb2a2870a0d\" y=\"143.1\"/>\r\n     <use style=\"fill:#3f3f3f;stroke:#3f3f3f;stroke-linejoin:miter;\" x=\"407.726454\" xlink:href=\"#mb2a2870a0d\" y=\"143.1\"/>\r\n     <use style=\"fill:#3f3f3f;stroke:#3f3f3f;stroke-linejoin:miter;\" x=\"438.966706\" xlink:href=\"#mb2a2870a0d\" y=\"143.1\"/>\r\n     <use style=\"fill:#3f3f3f;stroke:#3f3f3f;stroke-linejoin:miter;\" x=\"518.05607\" xlink:href=\"#mb2a2870a0d\" y=\"143.1\"/>\r\n     <use style=\"fill:#3f3f3f;stroke:#3f3f3f;stroke-linejoin:miter;\" x=\"427.596718\" xlink:href=\"#mb2a2870a0d\" y=\"143.1\"/>\r\n     <use style=\"fill:#3f3f3f;stroke:#3f3f3f;stroke-linejoin:miter;\" x=\"500.10252\" xlink:href=\"#mb2a2870a0d\" y=\"143.1\"/>\r\n     <use style=\"fill:#3f3f3f;stroke:#3f3f3f;stroke-linejoin:miter;\" x=\"470.508785\" xlink:href=\"#mb2a2870a0d\" y=\"143.1\"/>\r\n     <use style=\"fill:#3f3f3f;stroke:#3f3f3f;stroke-linejoin:miter;\" x=\"416.108366\" xlink:href=\"#mb2a2870a0d\" y=\"143.1\"/>\r\n     <use style=\"fill:#3f3f3f;stroke:#3f3f3f;stroke-linejoin:miter;\" x=\"454.362324\" xlink:href=\"#mb2a2870a0d\" y=\"143.1\"/>\r\n     <use style=\"fill:#3f3f3f;stroke:#3f3f3f;stroke-linejoin:miter;\" x=\"481.618859\" xlink:href=\"#mb2a2870a0d\" y=\"143.1\"/>\r\n     <use style=\"fill:#3f3f3f;stroke:#3f3f3f;stroke-linejoin:miter;\" x=\"560.956447\" xlink:href=\"#mb2a2870a0d\" y=\"143.1\"/>\r\n     <use style=\"fill:#3f3f3f;stroke:#3f3f3f;stroke-linejoin:miter;\" x=\"402.644683\" xlink:href=\"#mb2a2870a0d\" y=\"143.1\"/>\r\n     <use style=\"fill:#3f3f3f;stroke:#3f3f3f;stroke-linejoin:miter;\" x=\"507.093364\" xlink:href=\"#mb2a2870a0d\" y=\"143.1\"/>\r\n     <use style=\"fill:#3f3f3f;stroke:#3f3f3f;stroke-linejoin:miter;\" x=\"404.730054\" xlink:href=\"#mb2a2870a0d\" y=\"143.1\"/>\r\n     <use style=\"fill:#3f3f3f;stroke:#3f3f3f;stroke-linejoin:miter;\" x=\"408.004974\" xlink:href=\"#mb2a2870a0d\" y=\"143.1\"/>\r\n     <use style=\"fill:#3f3f3f;stroke:#3f3f3f;stroke-linejoin:miter;\" x=\"505.403125\" xlink:href=\"#mb2a2870a0d\" y=\"143.1\"/>\r\n     <use style=\"fill:#3f3f3f;stroke:#3f3f3f;stroke-linejoin:miter;\" x=\"454.779962\" xlink:href=\"#mb2a2870a0d\" y=\"143.1\"/>\r\n     <use style=\"fill:#3f3f3f;stroke:#3f3f3f;stroke-linejoin:miter;\" x=\"408.499537\" xlink:href=\"#mb2a2870a0d\" y=\"143.1\"/>\r\n     <use style=\"fill:#3f3f3f;stroke:#3f3f3f;stroke-linejoin:miter;\" x=\"464.085944\" xlink:href=\"#mb2a2870a0d\" y=\"143.1\"/>\r\n     <use style=\"fill:#3f3f3f;stroke:#3f3f3f;stroke-linejoin:miter;\" x=\"404.058629\" xlink:href=\"#mb2a2870a0d\" y=\"143.1\"/>\r\n     <use style=\"fill:#3f3f3f;stroke:#3f3f3f;stroke-linejoin:miter;\" x=\"443.672603\" xlink:href=\"#mb2a2870a0d\" y=\"143.1\"/>\r\n     <use style=\"fill:#3f3f3f;stroke:#3f3f3f;stroke-linejoin:miter;\" x=\"416.732167\" xlink:href=\"#mb2a2870a0d\" y=\"143.1\"/>\r\n     <use style=\"fill:#3f3f3f;stroke:#3f3f3f;stroke-linejoin:miter;\" x=\"638.843964\" xlink:href=\"#mb2a2870a0d\" y=\"143.1\"/>\r\n     <use style=\"fill:#3f3f3f;stroke:#3f3f3f;stroke-linejoin:miter;\" x=\"559.304144\" xlink:href=\"#mb2a2870a0d\" y=\"143.1\"/>\r\n     <use style=\"fill:#3f3f3f;stroke:#3f3f3f;stroke-linejoin:miter;\" x=\"437.031952\" xlink:href=\"#mb2a2870a0d\" y=\"143.1\"/>\r\n     <use style=\"fill:#3f3f3f;stroke:#3f3f3f;stroke-linejoin:miter;\" x=\"528.217016\" xlink:href=\"#mb2a2870a0d\" y=\"143.1\"/>\r\n     <use style=\"fill:#3f3f3f;stroke:#3f3f3f;stroke-linejoin:miter;\" x=\"445.477867\" xlink:href=\"#mb2a2870a0d\" y=\"143.1\"/>\r\n     <use style=\"fill:#3f3f3f;stroke:#3f3f3f;stroke-linejoin:miter;\" x=\"408.617025\" xlink:href=\"#mb2a2870a0d\" y=\"143.1\"/>\r\n     <use style=\"fill:#3f3f3f;stroke:#3f3f3f;stroke-linejoin:miter;\" x=\"969.445455\" xlink:href=\"#mb2a2870a0d\" y=\"143.1\"/>\r\n     <use style=\"fill:#3f3f3f;stroke:#3f3f3f;stroke-linejoin:miter;\" x=\"409.636655\" xlink:href=\"#mb2a2870a0d\" y=\"143.1\"/>\r\n     <use style=\"fill:#3f3f3f;stroke:#3f3f3f;stroke-linejoin:miter;\" x=\"642.437148\" xlink:href=\"#mb2a2870a0d\" y=\"143.1\"/>\r\n     <use style=\"fill:#3f3f3f;stroke:#3f3f3f;stroke-linejoin:miter;\" x=\"409.811899\" xlink:href=\"#mb2a2870a0d\" y=\"143.1\"/>\r\n     <use style=\"fill:#3f3f3f;stroke:#3f3f3f;stroke-linejoin:miter;\" x=\"430.821535\" xlink:href=\"#mb2a2870a0d\" y=\"143.1\"/>\r\n     <use style=\"fill:#3f3f3f;stroke:#3f3f3f;stroke-linejoin:miter;\" x=\"536.96458\" xlink:href=\"#mb2a2870a0d\" y=\"143.1\"/>\r\n     <use style=\"fill:#3f3f3f;stroke:#3f3f3f;stroke-linejoin:miter;\" x=\"423.24134\" xlink:href=\"#mb2a2870a0d\" y=\"143.1\"/>\r\n     <use style=\"fill:#3f3f3f;stroke:#3f3f3f;stroke-linejoin:miter;\" x=\"442.093798\" xlink:href=\"#mb2a2870a0d\" y=\"143.1\"/>\r\n     <use style=\"fill:#3f3f3f;stroke:#3f3f3f;stroke-linejoin:miter;\" x=\"416.513289\" xlink:href=\"#mb2a2870a0d\" y=\"143.1\"/>\r\n     <use style=\"fill:#3f3f3f;stroke:#3f3f3f;stroke-linejoin:miter;\" x=\"460.011267\" xlink:href=\"#mb2a2870a0d\" y=\"143.1\"/>\r\n     <use style=\"fill:#3f3f3f;stroke:#3f3f3f;stroke-linejoin:miter;\" x=\"416.966401\" xlink:href=\"#mb2a2870a0d\" y=\"143.1\"/>\r\n     <use style=\"fill:#3f3f3f;stroke:#3f3f3f;stroke-linejoin:miter;\" x=\"413.912406\" xlink:href=\"#mb2a2870a0d\" y=\"143.1\"/>\r\n     <use style=\"fill:#3f3f3f;stroke:#3f3f3f;stroke-linejoin:miter;\" x=\"498.689999\" xlink:href=\"#mb2a2870a0d\" y=\"143.1\"/>\r\n     <use style=\"fill:#3f3f3f;stroke:#3f3f3f;stroke-linejoin:miter;\" x=\"445.494944\" xlink:href=\"#mb2a2870a0d\" y=\"143.1\"/>\r\n     <use style=\"fill:#3f3f3f;stroke:#3f3f3f;stroke-linejoin:miter;\" x=\"435.346713\" xlink:href=\"#mb2a2870a0d\" y=\"143.1\"/>\r\n     <use style=\"fill:#3f3f3f;stroke:#3f3f3f;stroke-linejoin:miter;\" x=\"436.50736\" xlink:href=\"#mb2a2870a0d\" y=\"143.1\"/>\r\n     <use style=\"fill:#3f3f3f;stroke:#3f3f3f;stroke-linejoin:miter;\" x=\"421.498076\" xlink:href=\"#mb2a2870a0d\" y=\"143.1\"/>\r\n     <use style=\"fill:#3f3f3f;stroke:#3f3f3f;stroke-linejoin:miter;\" x=\"445.021344\" xlink:href=\"#mb2a2870a0d\" y=\"143.1\"/>\r\n     <use style=\"fill:#3f3f3f;stroke:#3f3f3f;stroke-linejoin:miter;\" x=\"482.946963\" xlink:href=\"#mb2a2870a0d\" y=\"143.1\"/>\r\n     <use style=\"fill:#3f3f3f;stroke:#3f3f3f;stroke-linejoin:miter;\" x=\"400.699959\" xlink:href=\"#mb2a2870a0d\" y=\"143.1\"/>\r\n     <use style=\"fill:#3f3f3f;stroke:#3f3f3f;stroke-linejoin:miter;\" x=\"449.419895\" xlink:href=\"#mb2a2870a0d\" y=\"143.1\"/>\r\n     <use style=\"fill:#3f3f3f;stroke:#3f3f3f;stroke-linejoin:miter;\" x=\"489.297507\" xlink:href=\"#mb2a2870a0d\" y=\"143.1\"/>\r\n     <use style=\"fill:#3f3f3f;stroke:#3f3f3f;stroke-linejoin:miter;\" x=\"493.524701\" xlink:href=\"#mb2a2870a0d\" y=\"143.1\"/>\r\n     <use style=\"fill:#3f3f3f;stroke:#3f3f3f;stroke-linejoin:miter;\" x=\"412.97261\" xlink:href=\"#mb2a2870a0d\" y=\"143.1\"/>\r\n     <use style=\"fill:#3f3f3f;stroke:#3f3f3f;stroke-linejoin:miter;\" x=\"479.235771\" xlink:href=\"#mb2a2870a0d\" y=\"143.1\"/>\r\n     <use style=\"fill:#3f3f3f;stroke:#3f3f3f;stroke-linejoin:miter;\" x=\"458.515144\" xlink:href=\"#mb2a2870a0d\" y=\"143.1\"/>\r\n     <use style=\"fill:#3f3f3f;stroke:#3f3f3f;stroke-linejoin:miter;\" x=\"476.550827\" xlink:href=\"#mb2a2870a0d\" y=\"143.1\"/>\r\n     <use style=\"fill:#3f3f3f;stroke:#3f3f3f;stroke-linejoin:miter;\" x=\"477.074291\" xlink:href=\"#mb2a2870a0d\" y=\"143.1\"/>\r\n     <use style=\"fill:#3f3f3f;stroke:#3f3f3f;stroke-linejoin:miter;\" x=\"519.245263\" xlink:href=\"#mb2a2870a0d\" y=\"143.1\"/>\r\n     <use style=\"fill:#3f3f3f;stroke:#3f3f3f;stroke-linejoin:miter;\" x=\"460.719382\" xlink:href=\"#mb2a2870a0d\" y=\"143.1\"/>\r\n     <use style=\"fill:#3f3f3f;stroke:#3f3f3f;stroke-linejoin:miter;\" x=\"413.479873\" xlink:href=\"#mb2a2870a0d\" y=\"143.1\"/>\r\n     <use style=\"fill:#3f3f3f;stroke:#3f3f3f;stroke-linejoin:miter;\" x=\"431.028885\" xlink:href=\"#mb2a2870a0d\" y=\"143.1\"/>\r\n     <use style=\"fill:#3f3f3f;stroke:#3f3f3f;stroke-linejoin:miter;\" x=\"457.531714\" xlink:href=\"#mb2a2870a0d\" y=\"143.1\"/>\r\n     <use style=\"fill:#3f3f3f;stroke:#3f3f3f;stroke-linejoin:miter;\" x=\"461.926585\" xlink:href=\"#mb2a2870a0d\" y=\"143.1\"/>\r\n     <use style=\"fill:#3f3f3f;stroke:#3f3f3f;stroke-linejoin:miter;\" x=\"420.106311\" xlink:href=\"#mb2a2870a0d\" y=\"143.1\"/>\r\n     <use style=\"fill:#3f3f3f;stroke:#3f3f3f;stroke-linejoin:miter;\" x=\"451.898335\" xlink:href=\"#mb2a2870a0d\" y=\"143.1\"/>\r\n     <use style=\"fill:#3f3f3f;stroke:#3f3f3f;stroke-linejoin:miter;\" x=\"418.404143\" xlink:href=\"#mb2a2870a0d\" y=\"143.1\"/>\r\n     <use style=\"fill:#3f3f3f;stroke:#3f3f3f;stroke-linejoin:miter;\" x=\"425.786305\" xlink:href=\"#mb2a2870a0d\" y=\"143.1\"/>\r\n     <use style=\"fill:#3f3f3f;stroke:#3f3f3f;stroke-linejoin:miter;\" x=\"406.138866\" xlink:href=\"#mb2a2870a0d\" y=\"143.1\"/>\r\n     <use style=\"fill:#3f3f3f;stroke:#3f3f3f;stroke-linejoin:miter;\" x=\"483.798455\" xlink:href=\"#mb2a2870a0d\" y=\"143.1\"/>\r\n     <use style=\"fill:#3f3f3f;stroke:#3f3f3f;stroke-linejoin:miter;\" x=\"509.038904\" xlink:href=\"#mb2a2870a0d\" y=\"143.1\"/>\r\n     <use style=\"fill:#3f3f3f;stroke:#3f3f3f;stroke-linejoin:miter;\" x=\"532.313903\" xlink:href=\"#mb2a2870a0d\" y=\"143.1\"/>\r\n     <use style=\"fill:#3f3f3f;stroke:#3f3f3f;stroke-linejoin:miter;\" x=\"462.815657\" xlink:href=\"#mb2a2870a0d\" y=\"143.1\"/>\r\n     <use style=\"fill:#3f3f3f;stroke:#3f3f3f;stroke-linejoin:miter;\" x=\"466.805709\" xlink:href=\"#mb2a2870a0d\" y=\"143.1\"/>\r\n     <use style=\"fill:#3f3f3f;stroke:#3f3f3f;stroke-linejoin:miter;\" x=\"620.028655\" xlink:href=\"#mb2a2870a0d\" y=\"143.1\"/>\r\n     <use style=\"fill:#3f3f3f;stroke:#3f3f3f;stroke-linejoin:miter;\" x=\"440.354051\" xlink:href=\"#mb2a2870a0d\" y=\"143.1\"/>\r\n     <use style=\"fill:#3f3f3f;stroke:#3f3f3f;stroke-linejoin:miter;\" x=\"416.725966\" xlink:href=\"#mb2a2870a0d\" y=\"143.1\"/>\r\n     <use style=\"fill:#3f3f3f;stroke:#3f3f3f;stroke-linejoin:miter;\" x=\"437.899808\" xlink:href=\"#mb2a2870a0d\" y=\"143.1\"/>\r\n     <use style=\"fill:#3f3f3f;stroke:#3f3f3f;stroke-linejoin:miter;\" x=\"456.4436\" xlink:href=\"#mb2a2870a0d\" y=\"143.1\"/>\r\n     <use style=\"fill:#3f3f3f;stroke:#3f3f3f;stroke-linejoin:miter;\" x=\"401.845385\" xlink:href=\"#mb2a2870a0d\" y=\"143.1\"/>\r\n     <use style=\"fill:#3f3f3f;stroke:#3f3f3f;stroke-linejoin:miter;\" x=\"426.50577\" xlink:href=\"#mb2a2870a0d\" y=\"143.1\"/>\r\n     <use style=\"fill:#3f3f3f;stroke:#3f3f3f;stroke-linejoin:miter;\" x=\"438.099785\" xlink:href=\"#mb2a2870a0d\" y=\"143.1\"/>\r\n     <use style=\"fill:#3f3f3f;stroke:#3f3f3f;stroke-linejoin:miter;\" x=\"401.000763\" xlink:href=\"#mb2a2870a0d\" y=\"143.1\"/>\r\n     <use style=\"fill:#3f3f3f;stroke:#3f3f3f;stroke-linejoin:miter;\" x=\"403.357724\" xlink:href=\"#mb2a2870a0d\" y=\"143.1\"/>\r\n     <use style=\"fill:#3f3f3f;stroke:#3f3f3f;stroke-linejoin:miter;\" x=\"541.467518\" xlink:href=\"#mb2a2870a0d\" y=\"143.1\"/>\r\n     <use style=\"fill:#3f3f3f;stroke:#3f3f3f;stroke-linejoin:miter;\" x=\"529.563635\" xlink:href=\"#mb2a2870a0d\" y=\"143.1\"/>\r\n     <use style=\"fill:#3f3f3f;stroke:#3f3f3f;stroke-linejoin:miter;\" x=\"459.579327\" xlink:href=\"#mb2a2870a0d\" y=\"143.1\"/>\r\n     <use style=\"fill:#3f3f3f;stroke:#3f3f3f;stroke-linejoin:miter;\" x=\"478.470819\" xlink:href=\"#mb2a2870a0d\" y=\"143.1\"/>\r\n     <use style=\"fill:#3f3f3f;stroke:#3f3f3f;stroke-linejoin:miter;\" x=\"424.562114\" xlink:href=\"#mb2a2870a0d\" y=\"143.1\"/>\r\n     <use style=\"fill:#3f3f3f;stroke:#3f3f3f;stroke-linejoin:miter;\" x=\"494.628036\" xlink:href=\"#mb2a2870a0d\" y=\"143.1\"/>\r\n     <use style=\"fill:#3f3f3f;stroke:#3f3f3f;stroke-linejoin:miter;\" x=\"418.320823\" xlink:href=\"#mb2a2870a0d\" y=\"143.1\"/>\r\n     <use style=\"fill:#3f3f3f;stroke:#3f3f3f;stroke-linejoin:miter;\" x=\"467.945616\" xlink:href=\"#mb2a2870a0d\" y=\"143.1\"/>\r\n     <use style=\"fill:#3f3f3f;stroke:#3f3f3f;stroke-linejoin:miter;\" x=\"404.475822\" xlink:href=\"#mb2a2870a0d\" y=\"143.1\"/>\r\n     <use style=\"fill:#3f3f3f;stroke:#3f3f3f;stroke-linejoin:miter;\" x=\"421.066018\" xlink:href=\"#mb2a2870a0d\" y=\"143.1\"/>\r\n     <use style=\"fill:#3f3f3f;stroke:#3f3f3f;stroke-linejoin:miter;\" x=\"565.249305\" xlink:href=\"#mb2a2870a0d\" y=\"143.1\"/>\r\n     <use style=\"fill:#3f3f3f;stroke:#3f3f3f;stroke-linejoin:miter;\" x=\"403.580697\" xlink:href=\"#mb2a2870a0d\" y=\"143.1\"/>\r\n     <use style=\"fill:#3f3f3f;stroke:#3f3f3f;stroke-linejoin:miter;\" x=\"410.494244\" xlink:href=\"#mb2a2870a0d\" y=\"143.1\"/>\r\n     <use style=\"fill:#3f3f3f;stroke:#3f3f3f;stroke-linejoin:miter;\" x=\"482.604826\" xlink:href=\"#mb2a2870a0d\" y=\"143.1\"/>\r\n     <use style=\"fill:#3f3f3f;stroke:#3f3f3f;stroke-linejoin:miter;\" x=\"406.647836\" xlink:href=\"#mb2a2870a0d\" y=\"143.1\"/>\r\n     <use style=\"fill:#3f3f3f;stroke:#3f3f3f;stroke-linejoin:miter;\" x=\"442.521184\" xlink:href=\"#mb2a2870a0d\" y=\"143.1\"/>\r\n     <use style=\"fill:#3f3f3f;stroke:#3f3f3f;stroke-linejoin:miter;\" x=\"515.237259\" xlink:href=\"#mb2a2870a0d\" y=\"143.1\"/>\r\n     <use style=\"fill:#3f3f3f;stroke:#3f3f3f;stroke-linejoin:miter;\" x=\"443.667574\" xlink:href=\"#mb2a2870a0d\" y=\"143.1\"/>\r\n     <use style=\"fill:#3f3f3f;stroke:#3f3f3f;stroke-linejoin:miter;\" x=\"444.392825\" xlink:href=\"#mb2a2870a0d\" y=\"143.1\"/>\r\n     <use style=\"fill:#3f3f3f;stroke:#3f3f3f;stroke-linejoin:miter;\" x=\"499.454477\" xlink:href=\"#mb2a2870a0d\" y=\"143.1\"/>\r\n     <use style=\"fill:#3f3f3f;stroke:#3f3f3f;stroke-linejoin:miter;\" x=\"503.821026\" xlink:href=\"#mb2a2870a0d\" y=\"143.1\"/>\r\n     <use style=\"fill:#3f3f3f;stroke:#3f3f3f;stroke-linejoin:miter;\" x=\"412.506858\" xlink:href=\"#mb2a2870a0d\" y=\"143.1\"/>\r\n     <use style=\"fill:#3f3f3f;stroke:#3f3f3f;stroke-linejoin:miter;\" x=\"885.346186\" xlink:href=\"#mb2a2870a0d\" y=\"143.1\"/>\r\n     <use style=\"fill:#3f3f3f;stroke:#3f3f3f;stroke-linejoin:miter;\" x=\"429.239021\" xlink:href=\"#mb2a2870a0d\" y=\"143.1\"/>\r\n     <use style=\"fill:#3f3f3f;stroke:#3f3f3f;stroke-linejoin:miter;\" x=\"461.957029\" xlink:href=\"#mb2a2870a0d\" y=\"143.1\"/>\r\n     <use style=\"fill:#3f3f3f;stroke:#3f3f3f;stroke-linejoin:miter;\" x=\"455.377711\" xlink:href=\"#mb2a2870a0d\" y=\"143.1\"/>\r\n     <use style=\"fill:#3f3f3f;stroke:#3f3f3f;stroke-linejoin:miter;\" x=\"419.442971\" xlink:href=\"#mb2a2870a0d\" y=\"143.1\"/>\r\n     <use style=\"fill:#3f3f3f;stroke:#3f3f3f;stroke-linejoin:miter;\" x=\"618.170292\" xlink:href=\"#mb2a2870a0d\" y=\"143.1\"/>\r\n     <use style=\"fill:#3f3f3f;stroke:#3f3f3f;stroke-linejoin:miter;\" x=\"440.507827\" xlink:href=\"#mb2a2870a0d\" y=\"143.1\"/>\r\n     <use style=\"fill:#3f3f3f;stroke:#3f3f3f;stroke-linejoin:miter;\" x=\"427.011223\" xlink:href=\"#mb2a2870a0d\" y=\"143.1\"/>\r\n     <use style=\"fill:#3f3f3f;stroke:#3f3f3f;stroke-linejoin:miter;\" x=\"406.201401\" xlink:href=\"#mb2a2870a0d\" y=\"143.1\"/>\r\n     <use style=\"fill:#3f3f3f;stroke:#3f3f3f;stroke-linejoin:miter;\" x=\"417.486987\" xlink:href=\"#mb2a2870a0d\" y=\"143.1\"/>\r\n     <use style=\"fill:#3f3f3f;stroke:#3f3f3f;stroke-linejoin:miter;\" x=\"428.791889\" xlink:href=\"#mb2a2870a0d\" y=\"143.1\"/>\r\n     <use style=\"fill:#3f3f3f;stroke:#3f3f3f;stroke-linejoin:miter;\" x=\"407.613106\" xlink:href=\"#mb2a2870a0d\" y=\"143.1\"/>\r\n     <use style=\"fill:#3f3f3f;stroke:#3f3f3f;stroke-linejoin:miter;\" x=\"434.340139\" xlink:href=\"#mb2a2870a0d\" y=\"143.1\"/>\r\n     <use style=\"fill:#3f3f3f;stroke:#3f3f3f;stroke-linejoin:miter;\" x=\"406.806672\" xlink:href=\"#mb2a2870a0d\" y=\"143.1\"/>\r\n     <use style=\"fill:#3f3f3f;stroke:#3f3f3f;stroke-linejoin:miter;\" x=\"436.155506\" xlink:href=\"#mb2a2870a0d\" y=\"143.1\"/>\r\n     <use style=\"fill:#3f3f3f;stroke:#3f3f3f;stroke-linejoin:miter;\" x=\"475.27959\" xlink:href=\"#mb2a2870a0d\" y=\"143.1\"/>\r\n     <use style=\"fill:#3f3f3f;stroke:#3f3f3f;stroke-linejoin:miter;\" x=\"496.322237\" xlink:href=\"#mb2a2870a0d\" y=\"143.1\"/>\r\n     <use style=\"fill:#3f3f3f;stroke:#3f3f3f;stroke-linejoin:miter;\" x=\"405.997671\" xlink:href=\"#mb2a2870a0d\" y=\"143.1\"/>\r\n     <use style=\"fill:#3f3f3f;stroke:#3f3f3f;stroke-linejoin:miter;\" x=\"490.056748\" xlink:href=\"#mb2a2870a0d\" y=\"143.1\"/>\r\n     <use style=\"fill:#3f3f3f;stroke:#3f3f3f;stroke-linejoin:miter;\" x=\"530.271068\" xlink:href=\"#mb2a2870a0d\" y=\"143.1\"/>\r\n     <use style=\"fill:#3f3f3f;stroke:#3f3f3f;stroke-linejoin:miter;\" x=\"493.578838\" xlink:href=\"#mb2a2870a0d\" y=\"143.1\"/>\r\n     <use style=\"fill:#3f3f3f;stroke:#3f3f3f;stroke-linejoin:miter;\" x=\"432.759746\" xlink:href=\"#mb2a2870a0d\" y=\"143.1\"/>\r\n     <use style=\"fill:#3f3f3f;stroke:#3f3f3f;stroke-linejoin:miter;\" x=\"514.284614\" xlink:href=\"#mb2a2870a0d\" y=\"143.1\"/>\r\n     <use style=\"fill:#3f3f3f;stroke:#3f3f3f;stroke-linejoin:miter;\" x=\"431.270923\" xlink:href=\"#mb2a2870a0d\" y=\"143.1\"/>\r\n     <use style=\"fill:#3f3f3f;stroke:#3f3f3f;stroke-linejoin:miter;\" x=\"598.38234\" xlink:href=\"#mb2a2870a0d\" y=\"143.1\"/>\r\n     <use style=\"fill:#3f3f3f;stroke:#3f3f3f;stroke-linejoin:miter;\" x=\"420.72256\" xlink:href=\"#mb2a2870a0d\" y=\"143.1\"/>\r\n     <use style=\"fill:#3f3f3f;stroke:#3f3f3f;stroke-linejoin:miter;\" x=\"483.920868\" xlink:href=\"#mb2a2870a0d\" y=\"143.1\"/>\r\n     <use style=\"fill:#3f3f3f;stroke:#3f3f3f;stroke-linejoin:miter;\" x=\"411.618513\" xlink:href=\"#mb2a2870a0d\" y=\"143.1\"/>\r\n     <use style=\"fill:#3f3f3f;stroke:#3f3f3f;stroke-linejoin:miter;\" x=\"407.434197\" xlink:href=\"#mb2a2870a0d\" y=\"143.1\"/>\r\n     <use style=\"fill:#3f3f3f;stroke:#3f3f3f;stroke-linejoin:miter;\" x=\"422.929024\" xlink:href=\"#mb2a2870a0d\" y=\"143.1\"/>\r\n     <use style=\"fill:#3f3f3f;stroke:#3f3f3f;stroke-linejoin:miter;\" x=\"433.326666\" xlink:href=\"#mb2a2870a0d\" y=\"143.1\"/>\r\n     <use style=\"fill:#3f3f3f;stroke:#3f3f3f;stroke-linejoin:miter;\" x=\"439.733261\" xlink:href=\"#mb2a2870a0d\" y=\"143.1\"/>\r\n     <use style=\"fill:#3f3f3f;stroke:#3f3f3f;stroke-linejoin:miter;\" x=\"455.595165\" xlink:href=\"#mb2a2870a0d\" y=\"143.1\"/>\r\n     <use style=\"fill:#3f3f3f;stroke:#3f3f3f;stroke-linejoin:miter;\" x=\"512.778254\" xlink:href=\"#mb2a2870a0d\" y=\"143.1\"/>\r\n     <use style=\"fill:#3f3f3f;stroke:#3f3f3f;stroke-linejoin:miter;\" x=\"408.740595\" xlink:href=\"#mb2a2870a0d\" y=\"143.1\"/>\r\n     <use style=\"fill:#3f3f3f;stroke:#3f3f3f;stroke-linejoin:miter;\" x=\"402.858873\" xlink:href=\"#mb2a2870a0d\" y=\"143.1\"/>\r\n     <use style=\"fill:#3f3f3f;stroke:#3f3f3f;stroke-linejoin:miter;\" x=\"452.339354\" xlink:href=\"#mb2a2870a0d\" y=\"143.1\"/>\r\n     <use style=\"fill:#3f3f3f;stroke:#3f3f3f;stroke-linejoin:miter;\" x=\"411.704029\" xlink:href=\"#mb2a2870a0d\" y=\"143.1\"/>\r\n     <use style=\"fill:#3f3f3f;stroke:#3f3f3f;stroke-linejoin:miter;\" x=\"488.002325\" xlink:href=\"#mb2a2870a0d\" y=\"143.1\"/>\r\n     <use style=\"fill:#3f3f3f;stroke:#3f3f3f;stroke-linejoin:miter;\" x=\"462.709653\" xlink:href=\"#mb2a2870a0d\" y=\"143.1\"/>\r\n     <use style=\"fill:#3f3f3f;stroke:#3f3f3f;stroke-linejoin:miter;\" x=\"424.316502\" xlink:href=\"#mb2a2870a0d\" y=\"143.1\"/>\r\n     <use style=\"fill:#3f3f3f;stroke:#3f3f3f;stroke-linejoin:miter;\" x=\"405.927199\" xlink:href=\"#mb2a2870a0d\" y=\"143.1\"/>\r\n     <use style=\"fill:#3f3f3f;stroke:#3f3f3f;stroke-linejoin:miter;\" x=\"404.263739\" xlink:href=\"#mb2a2870a0d\" y=\"143.1\"/>\r\n     <use style=\"fill:#3f3f3f;stroke:#3f3f3f;stroke-linejoin:miter;\" x=\"406.573937\" xlink:href=\"#mb2a2870a0d\" y=\"143.1\"/>\r\n     <use style=\"fill:#3f3f3f;stroke:#3f3f3f;stroke-linejoin:miter;\" x=\"444.533145\" xlink:href=\"#mb2a2870a0d\" y=\"143.1\"/>\r\n     <use style=\"fill:#3f3f3f;stroke:#3f3f3f;stroke-linejoin:miter;\" x=\"456.928669\" xlink:href=\"#mb2a2870a0d\" y=\"143.1\"/>\r\n     <use style=\"fill:#3f3f3f;stroke:#3f3f3f;stroke-linejoin:miter;\" x=\"472.566442\" xlink:href=\"#mb2a2870a0d\" y=\"143.1\"/>\r\n     <use style=\"fill:#3f3f3f;stroke:#3f3f3f;stroke-linejoin:miter;\" x=\"405.784638\" xlink:href=\"#mb2a2870a0d\" y=\"143.1\"/>\r\n     <use style=\"fill:#3f3f3f;stroke:#3f3f3f;stroke-linejoin:miter;\" x=\"464.512766\" xlink:href=\"#mb2a2870a0d\" y=\"143.1\"/>\r\n     <use style=\"fill:#3f3f3f;stroke:#3f3f3f;stroke-linejoin:miter;\" x=\"427.554257\" xlink:href=\"#mb2a2870a0d\" y=\"143.1\"/>\r\n     <use style=\"fill:#3f3f3f;stroke:#3f3f3f;stroke-linejoin:miter;\" x=\"405.660786\" xlink:href=\"#mb2a2870a0d\" y=\"143.1\"/>\r\n     <use style=\"fill:#3f3f3f;stroke:#3f3f3f;stroke-linejoin:miter;\" x=\"505.632417\" xlink:href=\"#mb2a2870a0d\" y=\"143.1\"/>\r\n     <use style=\"fill:#3f3f3f;stroke:#3f3f3f;stroke-linejoin:miter;\" x=\"453.972311\" xlink:href=\"#mb2a2870a0d\" y=\"143.1\"/>\r\n     <use style=\"fill:#3f3f3f;stroke:#3f3f3f;stroke-linejoin:miter;\" x=\"628.698596\" xlink:href=\"#mb2a2870a0d\" y=\"143.1\"/>\r\n     <use style=\"fill:#3f3f3f;stroke:#3f3f3f;stroke-linejoin:miter;\" x=\"466.73822\" xlink:href=\"#mb2a2870a0d\" y=\"143.1\"/>\r\n     <use style=\"fill:#3f3f3f;stroke:#3f3f3f;stroke-linejoin:miter;\" x=\"413.111729\" xlink:href=\"#mb2a2870a0d\" y=\"143.1\"/>\r\n     <use style=\"fill:#3f3f3f;stroke:#3f3f3f;stroke-linejoin:miter;\" x=\"416.131421\" xlink:href=\"#mb2a2870a0d\" y=\"143.1\"/>\r\n     <use style=\"fill:#3f3f3f;stroke:#3f3f3f;stroke-linejoin:miter;\" x=\"484.477535\" xlink:href=\"#mb2a2870a0d\" y=\"143.1\"/>\r\n     <use style=\"fill:#3f3f3f;stroke:#3f3f3f;stroke-linejoin:miter;\" x=\"430.238771\" xlink:href=\"#mb2a2870a0d\" y=\"143.1\"/>\r\n     <use style=\"fill:#3f3f3f;stroke:#3f3f3f;stroke-linejoin:miter;\" x=\"423.422742\" xlink:href=\"#mb2a2870a0d\" y=\"143.1\"/>\r\n     <use style=\"fill:#3f3f3f;stroke:#3f3f3f;stroke-linejoin:miter;\" x=\"430.995994\" xlink:href=\"#mb2a2870a0d\" y=\"143.1\"/>\r\n     <use style=\"fill:#3f3f3f;stroke:#3f3f3f;stroke-linejoin:miter;\" x=\"666.910761\" xlink:href=\"#mb2a2870a0d\" y=\"143.1\"/>\r\n     <use style=\"fill:#3f3f3f;stroke:#3f3f3f;stroke-linejoin:miter;\" x=\"451.211613\" xlink:href=\"#mb2a2870a0d\" y=\"143.1\"/>\r\n     <use style=\"fill:#3f3f3f;stroke:#3f3f3f;stroke-linejoin:miter;\" x=\"415.880601\" xlink:href=\"#mb2a2870a0d\" y=\"143.1\"/>\r\n     <use style=\"fill:#3f3f3f;stroke:#3f3f3f;stroke-linejoin:miter;\" x=\"444.908633\" xlink:href=\"#mb2a2870a0d\" y=\"143.1\"/>\r\n     <use style=\"fill:#3f3f3f;stroke:#3f3f3f;stroke-linejoin:miter;\" x=\"408.173839\" xlink:href=\"#mb2a2870a0d\" y=\"143.1\"/>\r\n     <use style=\"fill:#3f3f3f;stroke:#3f3f3f;stroke-linejoin:miter;\" x=\"519.943171\" xlink:href=\"#mb2a2870a0d\" y=\"143.1\"/>\r\n     <use style=\"fill:#3f3f3f;stroke:#3f3f3f;stroke-linejoin:miter;\" x=\"450.054497\" xlink:href=\"#mb2a2870a0d\" y=\"143.1\"/>\r\n     <use style=\"fill:#3f3f3f;stroke:#3f3f3f;stroke-linejoin:miter;\" x=\"432.005298\" xlink:href=\"#mb2a2870a0d\" y=\"143.1\"/>\r\n     <use style=\"fill:#3f3f3f;stroke:#3f3f3f;stroke-linejoin:miter;\" x=\"406.17201\" xlink:href=\"#mb2a2870a0d\" y=\"143.1\"/>\r\n     <use style=\"fill:#3f3f3f;stroke:#3f3f3f;stroke-linejoin:miter;\" x=\"462.872005\" xlink:href=\"#mb2a2870a0d\" y=\"143.1\"/>\r\n     <use style=\"fill:#3f3f3f;stroke:#3f3f3f;stroke-linejoin:miter;\" x=\"555.782262\" xlink:href=\"#mb2a2870a0d\" y=\"143.1\"/>\r\n     <use style=\"fill:#3f3f3f;stroke:#3f3f3f;stroke-linejoin:miter;\" x=\"401.168767\" xlink:href=\"#mb2a2870a0d\" y=\"143.1\"/>\r\n     <use style=\"fill:#3f3f3f;stroke:#3f3f3f;stroke-linejoin:miter;\" x=\"551.399986\" xlink:href=\"#mb2a2870a0d\" y=\"143.1\"/>\r\n     <use style=\"fill:#3f3f3f;stroke:#3f3f3f;stroke-linejoin:miter;\" x=\"504.697769\" xlink:href=\"#mb2a2870a0d\" y=\"143.1\"/>\r\n     <use style=\"fill:#3f3f3f;stroke:#3f3f3f;stroke-linejoin:miter;\" x=\"451.942635\" xlink:href=\"#mb2a2870a0d\" y=\"143.1\"/>\r\n     <use style=\"fill:#3f3f3f;stroke:#3f3f3f;stroke-linejoin:miter;\" x=\"465.170527\" xlink:href=\"#mb2a2870a0d\" y=\"143.1\"/>\r\n     <use style=\"fill:#3f3f3f;stroke:#3f3f3f;stroke-linejoin:miter;\" x=\"941.088106\" xlink:href=\"#mb2a2870a0d\" y=\"143.1\"/>\r\n     <use style=\"fill:#3f3f3f;stroke:#3f3f3f;stroke-linejoin:miter;\" x=\"421.123063\" xlink:href=\"#mb2a2870a0d\" y=\"143.1\"/>\r\n     <use style=\"fill:#3f3f3f;stroke:#3f3f3f;stroke-linejoin:miter;\" x=\"494.189272\" xlink:href=\"#mb2a2870a0d\" y=\"143.1\"/>\r\n     <use style=\"fill:#3f3f3f;stroke:#3f3f3f;stroke-linejoin:miter;\" x=\"417.696429\" xlink:href=\"#mb2a2870a0d\" y=\"143.1\"/>\r\n     <use style=\"fill:#3f3f3f;stroke:#3f3f3f;stroke-linejoin:miter;\" x=\"414.726852\" xlink:href=\"#mb2a2870a0d\" y=\"143.1\"/>\r\n     <use style=\"fill:#3f3f3f;stroke:#3f3f3f;stroke-linejoin:miter;\" x=\"445.711626\" xlink:href=\"#mb2a2870a0d\" y=\"143.1\"/>\r\n     <use style=\"fill:#3f3f3f;stroke:#3f3f3f;stroke-linejoin:miter;\" x=\"446.938146\" xlink:href=\"#mb2a2870a0d\" y=\"143.1\"/>\r\n     <use style=\"fill:#3f3f3f;stroke:#3f3f3f;stroke-linejoin:miter;\" x=\"512.325277\" xlink:href=\"#mb2a2870a0d\" y=\"143.1\"/>\r\n     <use style=\"fill:#3f3f3f;stroke:#3f3f3f;stroke-linejoin:miter;\" x=\"427.459483\" xlink:href=\"#mb2a2870a0d\" y=\"143.1\"/>\r\n     <use style=\"fill:#3f3f3f;stroke:#3f3f3f;stroke-linejoin:miter;\" x=\"414.83026\" xlink:href=\"#mb2a2870a0d\" y=\"143.1\"/>\r\n     <use style=\"fill:#3f3f3f;stroke:#3f3f3f;stroke-linejoin:miter;\" x=\"426.311832\" xlink:href=\"#mb2a2870a0d\" y=\"143.1\"/>\r\n     <use style=\"fill:#3f3f3f;stroke:#3f3f3f;stroke-linejoin:miter;\" x=\"402.264418\" xlink:href=\"#mb2a2870a0d\" y=\"143.1\"/>\r\n     <use style=\"fill:#3f3f3f;stroke:#3f3f3f;stroke-linejoin:miter;\" x=\"541.597868\" xlink:href=\"#mb2a2870a0d\" y=\"143.1\"/>\r\n     <use style=\"fill:#3f3f3f;stroke:#3f3f3f;stroke-linejoin:miter;\" x=\"567.273225\" xlink:href=\"#mb2a2870a0d\" y=\"143.1\"/>\r\n     <use style=\"fill:#3f3f3f;stroke:#3f3f3f;stroke-linejoin:miter;\" x=\"443.24461\" xlink:href=\"#mb2a2870a0d\" y=\"143.1\"/>\r\n     <use style=\"fill:#3f3f3f;stroke:#3f3f3f;stroke-linejoin:miter;\" x=\"454.733614\" xlink:href=\"#mb2a2870a0d\" y=\"143.1\"/>\r\n     <use style=\"fill:#3f3f3f;stroke:#3f3f3f;stroke-linejoin:miter;\" x=\"446.561219\" xlink:href=\"#mb2a2870a0d\" y=\"143.1\"/>\r\n     <use style=\"fill:#3f3f3f;stroke:#3f3f3f;stroke-linejoin:miter;\" x=\"423.409508\" xlink:href=\"#mb2a2870a0d\" y=\"143.1\"/>\r\n     <use style=\"fill:#3f3f3f;stroke:#3f3f3f;stroke-linejoin:miter;\" x=\"436.368242\" xlink:href=\"#mb2a2870a0d\" y=\"143.1\"/>\r\n     <use style=\"fill:#3f3f3f;stroke:#3f3f3f;stroke-linejoin:miter;\" x=\"401.501735\" xlink:href=\"#mb2a2870a0d\" y=\"143.1\"/>\r\n     <use style=\"fill:#3f3f3f;stroke:#3f3f3f;stroke-linejoin:miter;\" x=\"419.577713\" xlink:href=\"#mb2a2870a0d\" y=\"143.1\"/>\r\n     <use style=\"fill:#3f3f3f;stroke:#3f3f3f;stroke-linejoin:miter;\" x=\"488.200626\" xlink:href=\"#mb2a2870a0d\" y=\"143.1\"/>\r\n     <use style=\"fill:#3f3f3f;stroke:#3f3f3f;stroke-linejoin:miter;\" x=\"437.23911\" xlink:href=\"#mb2a2870a0d\" y=\"143.1\"/>\r\n     <use style=\"fill:#3f3f3f;stroke:#3f3f3f;stroke-linejoin:miter;\" x=\"403.425956\" xlink:href=\"#mb2a2870a0d\" y=\"143.1\"/>\r\n     <use style=\"fill:#3f3f3f;stroke:#3f3f3f;stroke-linejoin:miter;\" x=\"462.805331\" xlink:href=\"#mb2a2870a0d\" y=\"143.1\"/>\r\n     <use style=\"fill:#3f3f3f;stroke:#3f3f3f;stroke-linejoin:miter;\" x=\"412.165107\" xlink:href=\"#mb2a2870a0d\" y=\"143.1\"/>\r\n     <use style=\"fill:#3f3f3f;stroke:#3f3f3f;stroke-linejoin:miter;\" x=\"476.909625\" xlink:href=\"#mb2a2870a0d\" y=\"143.1\"/>\r\n     <use style=\"fill:#3f3f3f;stroke:#3f3f3f;stroke-linejoin:miter;\" x=\"567.519431\" xlink:href=\"#mb2a2870a0d\" y=\"143.1\"/>\r\n     <use style=\"fill:#3f3f3f;stroke:#3f3f3f;stroke-linejoin:miter;\" x=\"402.058892\" xlink:href=\"#mb2a2870a0d\" y=\"143.1\"/>\r\n     <use style=\"fill:#3f3f3f;stroke:#3f3f3f;stroke-linejoin:miter;\" x=\"454.024312\" xlink:href=\"#mb2a2870a0d\" y=\"143.1\"/>\r\n     <use style=\"fill:#3f3f3f;stroke:#3f3f3f;stroke-linejoin:miter;\" x=\"450.126674\" xlink:href=\"#mb2a2870a0d\" y=\"143.1\"/>\r\n     <use style=\"fill:#3f3f3f;stroke:#3f3f3f;stroke-linejoin:miter;\" x=\"401.279638\" xlink:href=\"#mb2a2870a0d\" y=\"143.1\"/>\r\n     <use style=\"fill:#3f3f3f;stroke:#3f3f3f;stroke-linejoin:miter;\" x=\"432.499965\" xlink:href=\"#mb2a2870a0d\" y=\"143.1\"/>\r\n     <use style=\"fill:#3f3f3f;stroke:#3f3f3f;stroke-linejoin:miter;\" x=\"438.558445\" xlink:href=\"#mb2a2870a0d\" y=\"143.1\"/>\r\n     <use style=\"fill:#3f3f3f;stroke:#3f3f3f;stroke-linejoin:miter;\" x=\"456.923684\" xlink:href=\"#mb2a2870a0d\" y=\"143.1\"/>\r\n     <use style=\"fill:#3f3f3f;stroke:#3f3f3f;stroke-linejoin:miter;\" x=\"533.512813\" xlink:href=\"#mb2a2870a0d\" y=\"143.1\"/>\r\n     <use style=\"fill:#3f3f3f;stroke:#3f3f3f;stroke-linejoin:miter;\" x=\"543.726501\" xlink:href=\"#mb2a2870a0d\" y=\"143.1\"/>\r\n     <use style=\"fill:#3f3f3f;stroke:#3f3f3f;stroke-linejoin:miter;\" x=\"401.568706\" xlink:href=\"#mb2a2870a0d\" y=\"143.1\"/>\r\n     <use style=\"fill:#3f3f3f;stroke:#3f3f3f;stroke-linejoin:miter;\" x=\"428.826635\" xlink:href=\"#mb2a2870a0d\" y=\"143.1\"/>\r\n     <use style=\"fill:#3f3f3f;stroke:#3f3f3f;stroke-linejoin:miter;\" x=\"409.378965\" xlink:href=\"#mb2a2870a0d\" y=\"143.1\"/>\r\n     <use style=\"fill:#3f3f3f;stroke:#3f3f3f;stroke-linejoin:miter;\" x=\"506.716926\" xlink:href=\"#mb2a2870a0d\" y=\"143.1\"/>\r\n     <use style=\"fill:#3f3f3f;stroke:#3f3f3f;stroke-linejoin:miter;\" x=\"400.965319\" xlink:href=\"#mb2a2870a0d\" y=\"143.1\"/>\r\n     <use style=\"fill:#3f3f3f;stroke:#3f3f3f;stroke-linejoin:miter;\" x=\"419.906082\" xlink:href=\"#mb2a2870a0d\" y=\"143.1\"/>\r\n     <use style=\"fill:#3f3f3f;stroke:#3f3f3f;stroke-linejoin:miter;\" x=\"415.086347\" xlink:href=\"#mb2a2870a0d\" y=\"143.1\"/>\r\n     <use style=\"fill:#3f3f3f;stroke:#3f3f3f;stroke-linejoin:miter;\" x=\"440.413811\" xlink:href=\"#mb2a2870a0d\" y=\"143.1\"/>\r\n     <use style=\"fill:#3f3f3f;stroke:#3f3f3f;stroke-linejoin:miter;\" x=\"507.228892\" xlink:href=\"#mb2a2870a0d\" y=\"143.1\"/>\r\n     <use style=\"fill:#3f3f3f;stroke:#3f3f3f;stroke-linejoin:miter;\" x=\"451.225396\" xlink:href=\"#mb2a2870a0d\" y=\"143.1\"/>\r\n     <use style=\"fill:#3f3f3f;stroke:#3f3f3f;stroke-linejoin:miter;\" x=\"405.291766\" xlink:href=\"#mb2a2870a0d\" y=\"143.1\"/>\r\n     <use style=\"fill:#3f3f3f;stroke:#3f3f3f;stroke-linejoin:miter;\" x=\"411.267089\" xlink:href=\"#mb2a2870a0d\" y=\"143.1\"/>\r\n     <use style=\"fill:#3f3f3f;stroke:#3f3f3f;stroke-linejoin:miter;\" x=\"513.174617\" xlink:href=\"#mb2a2870a0d\" y=\"143.1\"/>\r\n     <use style=\"fill:#3f3f3f;stroke:#3f3f3f;stroke-linejoin:miter;\" x=\"441.153957\" xlink:href=\"#mb2a2870a0d\" y=\"143.1\"/>\r\n     <use style=\"fill:#3f3f3f;stroke:#3f3f3f;stroke-linejoin:miter;\" x=\"459.451884\" xlink:href=\"#mb2a2870a0d\" y=\"143.1\"/>\r\n     <use style=\"fill:#3f3f3f;stroke:#3f3f3f;stroke-linejoin:miter;\" x=\"462.301243\" xlink:href=\"#mb2a2870a0d\" y=\"143.1\"/>\r\n     <use style=\"fill:#3f3f3f;stroke:#3f3f3f;stroke-linejoin:miter;\" x=\"418.611864\" xlink:href=\"#mb2a2870a0d\" y=\"143.1\"/>\r\n     <use style=\"fill:#3f3f3f;stroke:#3f3f3f;stroke-linejoin:miter;\" x=\"578.957577\" xlink:href=\"#mb2a2870a0d\" y=\"143.1\"/>\r\n     <use style=\"fill:#3f3f3f;stroke:#3f3f3f;stroke-linejoin:miter;\" x=\"500.549756\" xlink:href=\"#mb2a2870a0d\" y=\"143.1\"/>\r\n     <use style=\"fill:#3f3f3f;stroke:#3f3f3f;stroke-linejoin:miter;\" x=\"442.863958\" xlink:href=\"#mb2a2870a0d\" y=\"143.1\"/>\r\n     <use style=\"fill:#3f3f3f;stroke:#3f3f3f;stroke-linejoin:miter;\" x=\"616.180051\" xlink:href=\"#mb2a2870a0d\" y=\"143.1\"/>\r\n     <use style=\"fill:#3f3f3f;stroke:#3f3f3f;stroke-linejoin:miter;\" x=\"461.169377\" xlink:href=\"#mb2a2870a0d\" y=\"143.1\"/>\r\n     <use style=\"fill:#3f3f3f;stroke:#3f3f3f;stroke-linejoin:miter;\" x=\"426.576672\" xlink:href=\"#mb2a2870a0d\" y=\"143.1\"/>\r\n     <use style=\"fill:#3f3f3f;stroke:#3f3f3f;stroke-linejoin:miter;\" x=\"429.439235\" xlink:href=\"#mb2a2870a0d\" y=\"143.1\"/>\r\n     <use style=\"fill:#3f3f3f;stroke:#3f3f3f;stroke-linejoin:miter;\" x=\"432.755755\" xlink:href=\"#mb2a2870a0d\" y=\"143.1\"/>\r\n     <use style=\"fill:#3f3f3f;stroke:#3f3f3f;stroke-linejoin:miter;\" x=\"435.597325\" xlink:href=\"#mb2a2870a0d\" y=\"143.1\"/>\r\n     <use style=\"fill:#3f3f3f;stroke:#3f3f3f;stroke-linejoin:miter;\" x=\"452.728522\" xlink:href=\"#mb2a2870a0d\" y=\"143.1\"/>\r\n     <use style=\"fill:#3f3f3f;stroke:#3f3f3f;stroke-linejoin:miter;\" x=\"486.304772\" xlink:href=\"#mb2a2870a0d\" y=\"143.1\"/>\r\n     <use style=\"fill:#3f3f3f;stroke:#3f3f3f;stroke-linejoin:miter;\" x=\"400.880159\" xlink:href=\"#mb2a2870a0d\" y=\"143.1\"/>\r\n     <use style=\"fill:#3f3f3f;stroke:#3f3f3f;stroke-linejoin:miter;\" x=\"611.449704\" xlink:href=\"#mb2a2870a0d\" y=\"143.1\"/>\r\n     <use style=\"fill:#3f3f3f;stroke:#3f3f3f;stroke-linejoin:miter;\" x=\"418.083593\" xlink:href=\"#mb2a2870a0d\" y=\"143.1\"/>\r\n     <use style=\"fill:#3f3f3f;stroke:#3f3f3f;stroke-linejoin:miter;\" x=\"466.032196\" xlink:href=\"#mb2a2870a0d\" y=\"143.1\"/>\r\n     <use style=\"fill:#3f3f3f;stroke:#3f3f3f;stroke-linejoin:miter;\" x=\"487.970561\" xlink:href=\"#mb2a2870a0d\" y=\"143.1\"/>\r\n     <use style=\"fill:#3f3f3f;stroke:#3f3f3f;stroke-linejoin:miter;\" x=\"412.147348\" xlink:href=\"#mb2a2870a0d\" y=\"143.1\"/>\r\n     <use style=\"fill:#3f3f3f;stroke:#3f3f3f;stroke-linejoin:miter;\" x=\"427.290841\" xlink:href=\"#mb2a2870a0d\" y=\"143.1\"/>\r\n     <use style=\"fill:#3f3f3f;stroke:#3f3f3f;stroke-linejoin:miter;\" x=\"426.360272\" xlink:href=\"#mb2a2870a0d\" y=\"143.1\"/>\r\n     <use style=\"fill:#3f3f3f;stroke:#3f3f3f;stroke-linejoin:miter;\" x=\"492.816956\" xlink:href=\"#mb2a2870a0d\" y=\"143.1\"/>\r\n     <use style=\"fill:#3f3f3f;stroke:#3f3f3f;stroke-linejoin:miter;\" x=\"445.729073\" xlink:href=\"#mb2a2870a0d\" y=\"143.1\"/>\r\n     <use style=\"fill:#3f3f3f;stroke:#3f3f3f;stroke-linejoin:miter;\" x=\"444.30317\" xlink:href=\"#mb2a2870a0d\" y=\"143.1\"/>\r\n     <use style=\"fill:#3f3f3f;stroke:#3f3f3f;stroke-linejoin:miter;\" x=\"420.15395\" xlink:href=\"#mb2a2870a0d\" y=\"143.1\"/>\r\n     <use style=\"fill:#3f3f3f;stroke:#3f3f3f;stroke-linejoin:miter;\" x=\"481.86919\" xlink:href=\"#mb2a2870a0d\" y=\"143.1\"/>\r\n     <use style=\"fill:#3f3f3f;stroke:#3f3f3f;stroke-linejoin:miter;\" x=\"440.724228\" xlink:href=\"#mb2a2870a0d\" y=\"143.1\"/>\r\n     <use style=\"fill:#3f3f3f;stroke:#3f3f3f;stroke-linejoin:miter;\" x=\"442.502876\" xlink:href=\"#mb2a2870a0d\" y=\"143.1\"/>\r\n     <use style=\"fill:#3f3f3f;stroke:#3f3f3f;stroke-linejoin:miter;\" x=\"433.306533\" xlink:href=\"#mb2a2870a0d\" y=\"143.1\"/>\r\n     <use style=\"fill:#3f3f3f;stroke:#3f3f3f;stroke-linejoin:miter;\" x=\"408.503276\" xlink:href=\"#mb2a2870a0d\" y=\"143.1\"/>\r\n     <use style=\"fill:#3f3f3f;stroke:#3f3f3f;stroke-linejoin:miter;\" x=\"486.385228\" xlink:href=\"#mb2a2870a0d\" y=\"143.1\"/>\r\n     <use style=\"fill:#3f3f3f;stroke:#3f3f3f;stroke-linejoin:miter;\" x=\"459.031071\" xlink:href=\"#mb2a2870a0d\" y=\"143.1\"/>\r\n     <use style=\"fill:#3f3f3f;stroke:#3f3f3f;stroke-linejoin:miter;\" x=\"428.546009\" xlink:href=\"#mb2a2870a0d\" y=\"143.1\"/>\r\n     <use style=\"fill:#3f3f3f;stroke:#3f3f3f;stroke-linejoin:miter;\" x=\"404.978753\" xlink:href=\"#mb2a2870a0d\" y=\"143.1\"/>\r\n     <use style=\"fill:#3f3f3f;stroke:#3f3f3f;stroke-linejoin:miter;\" x=\"614.375796\" xlink:href=\"#mb2a2870a0d\" y=\"143.1\"/>\r\n     <use style=\"fill:#3f3f3f;stroke:#3f3f3f;stroke-linejoin:miter;\" x=\"456.792117\" xlink:href=\"#mb2a2870a0d\" y=\"143.1\"/>\r\n     <use style=\"fill:#3f3f3f;stroke:#3f3f3f;stroke-linejoin:miter;\" x=\"452.357558\" xlink:href=\"#mb2a2870a0d\" y=\"143.1\"/>\r\n     <use style=\"fill:#3f3f3f;stroke:#3f3f3f;stroke-linejoin:miter;\" x=\"434.411797\" xlink:href=\"#mb2a2870a0d\" y=\"143.1\"/>\r\n     <use style=\"fill:#3f3f3f;stroke:#3f3f3f;stroke-linejoin:miter;\" x=\"590.137396\" xlink:href=\"#mb2a2870a0d\" y=\"143.1\"/>\r\n     <use style=\"fill:#3f3f3f;stroke:#3f3f3f;stroke-linejoin:miter;\" x=\"547.335813\" xlink:href=\"#mb2a2870a0d\" y=\"143.1\"/>\r\n     <use style=\"fill:#3f3f3f;stroke:#3f3f3f;stroke-linejoin:miter;\" x=\"473.794773\" xlink:href=\"#mb2a2870a0d\" y=\"143.1\"/>\r\n     <use style=\"fill:#3f3f3f;stroke:#3f3f3f;stroke-linejoin:miter;\" x=\"417.120652\" xlink:href=\"#mb2a2870a0d\" y=\"143.1\"/>\r\n     <use style=\"fill:#3f3f3f;stroke:#3f3f3f;stroke-linejoin:miter;\" x=\"463.468181\" xlink:href=\"#mb2a2870a0d\" y=\"143.1\"/>\r\n     <use style=\"fill:#3f3f3f;stroke:#3f3f3f;stroke-linejoin:miter;\" x=\"455.359626\" xlink:href=\"#mb2a2870a0d\" y=\"143.1\"/>\r\n     <use style=\"fill:#3f3f3f;stroke:#3f3f3f;stroke-linejoin:miter;\" x=\"414.18643\" xlink:href=\"#mb2a2870a0d\" y=\"143.1\"/>\r\n     <use style=\"fill:#3f3f3f;stroke:#3f3f3f;stroke-linejoin:miter;\" x=\"525.449775\" xlink:href=\"#mb2a2870a0d\" y=\"143.1\"/>\r\n     <use style=\"fill:#3f3f3f;stroke:#3f3f3f;stroke-linejoin:miter;\" x=\"445.91227\" xlink:href=\"#mb2a2870a0d\" y=\"143.1\"/>\r\n     <use style=\"fill:#3f3f3f;stroke:#3f3f3f;stroke-linejoin:miter;\" x=\"469.541186\" xlink:href=\"#mb2a2870a0d\" y=\"143.1\"/>\r\n     <use style=\"fill:#3f3f3f;stroke:#3f3f3f;stroke-linejoin:miter;\" x=\"463.14097\" xlink:href=\"#mb2a2870a0d\" y=\"143.1\"/>\r\n     <use style=\"fill:#3f3f3f;stroke:#3f3f3f;stroke-linejoin:miter;\" x=\"435.498442\" xlink:href=\"#mb2a2870a0d\" y=\"143.1\"/>\r\n     <use style=\"fill:#3f3f3f;stroke:#3f3f3f;stroke-linejoin:miter;\" x=\"410.771769\" xlink:href=\"#mb2a2870a0d\" y=\"143.1\"/>\r\n     <use style=\"fill:#3f3f3f;stroke:#3f3f3f;stroke-linejoin:miter;\" x=\"445.245696\" xlink:href=\"#mb2a2870a0d\" y=\"143.1\"/>\r\n     <use style=\"fill:#3f3f3f;stroke:#3f3f3f;stroke-linejoin:miter;\" x=\"450.119316\" xlink:href=\"#mb2a2870a0d\" y=\"143.1\"/>\r\n     <use style=\"fill:#3f3f3f;stroke:#3f3f3f;stroke-linejoin:miter;\" x=\"419.878798\" xlink:href=\"#mb2a2870a0d\" y=\"143.1\"/>\r\n     <use style=\"fill:#3f3f3f;stroke:#3f3f3f;stroke-linejoin:miter;\" x=\"410.889094\" xlink:href=\"#mb2a2870a0d\" y=\"143.1\"/>\r\n     <use style=\"fill:#3f3f3f;stroke:#3f3f3f;stroke-linejoin:miter;\" x=\"412.594629\" xlink:href=\"#mb2a2870a0d\" y=\"143.1\"/>\r\n     <use style=\"fill:#3f3f3f;stroke:#3f3f3f;stroke-linejoin:miter;\" x=\"478.440256\" xlink:href=\"#mb2a2870a0d\" y=\"143.1\"/>\r\n     <use style=\"fill:#3f3f3f;stroke:#3f3f3f;stroke-linejoin:miter;\" x=\"489.747013\" xlink:href=\"#mb2a2870a0d\" y=\"143.1\"/>\r\n     <use style=\"fill:#3f3f3f;stroke:#3f3f3f;stroke-linejoin:miter;\" x=\"444.908797\" xlink:href=\"#mb2a2870a0d\" y=\"143.1\"/>\r\n     <use style=\"fill:#3f3f3f;stroke:#3f3f3f;stroke-linejoin:miter;\" x=\"403.351404\" xlink:href=\"#mb2a2870a0d\" y=\"143.1\"/>\r\n     <use style=\"fill:#3f3f3f;stroke:#3f3f3f;stroke-linejoin:miter;\" x=\"419.718939\" xlink:href=\"#mb2a2870a0d\" y=\"143.1\"/>\r\n     <use style=\"fill:#3f3f3f;stroke:#3f3f3f;stroke-linejoin:miter;\" x=\"445.080421\" xlink:href=\"#mb2a2870a0d\" y=\"143.1\"/>\r\n     <use style=\"fill:#3f3f3f;stroke:#3f3f3f;stroke-linejoin:miter;\" x=\"508.227618\" xlink:href=\"#mb2a2870a0d\" y=\"143.1\"/>\r\n     <use style=\"fill:#3f3f3f;stroke:#3f3f3f;stroke-linejoin:miter;\" x=\"525.296666\" xlink:href=\"#mb2a2870a0d\" y=\"143.1\"/>\r\n     <use style=\"fill:#3f3f3f;stroke:#3f3f3f;stroke-linejoin:miter;\" x=\"540.819741\" xlink:href=\"#mb2a2870a0d\" y=\"143.1\"/>\r\n     <use style=\"fill:#3f3f3f;stroke:#3f3f3f;stroke-linejoin:miter;\" x=\"405.081063\" xlink:href=\"#mb2a2870a0d\" y=\"143.1\"/>\r\n     <use style=\"fill:#3f3f3f;stroke:#3f3f3f;stroke-linejoin:miter;\" x=\"454.026671\" xlink:href=\"#mb2a2870a0d\" y=\"143.1\"/>\r\n     <use style=\"fill:#3f3f3f;stroke:#3f3f3f;stroke-linejoin:miter;\" x=\"402.158829\" xlink:href=\"#mb2a2870a0d\" y=\"143.1\"/>\r\n     <use style=\"fill:#3f3f3f;stroke:#3f3f3f;stroke-linejoin:miter;\" x=\"411.744517\" xlink:href=\"#mb2a2870a0d\" y=\"143.1\"/>\r\n     <use style=\"fill:#3f3f3f;stroke:#3f3f3f;stroke-linejoin:miter;\" x=\"406.461019\" xlink:href=\"#mb2a2870a0d\" y=\"143.1\"/>\r\n     <use style=\"fill:#3f3f3f;stroke:#3f3f3f;stroke-linejoin:miter;\" x=\"418.040138\" xlink:href=\"#mb2a2870a0d\" y=\"143.1\"/>\r\n     <use style=\"fill:#3f3f3f;stroke:#3f3f3f;stroke-linejoin:miter;\" x=\"427.533249\" xlink:href=\"#mb2a2870a0d\" y=\"143.1\"/>\r\n     <use style=\"fill:#3f3f3f;stroke:#3f3f3f;stroke-linejoin:miter;\" x=\"403.54104\" xlink:href=\"#mb2a2870a0d\" y=\"143.1\"/>\r\n     <use style=\"fill:#3f3f3f;stroke:#3f3f3f;stroke-linejoin:miter;\" x=\"443.402392\" xlink:href=\"#mb2a2870a0d\" y=\"143.1\"/>\r\n     <use style=\"fill:#3f3f3f;stroke:#3f3f3f;stroke-linejoin:miter;\" x=\"415.012597\" xlink:href=\"#mb2a2870a0d\" y=\"143.1\"/>\r\n     <use style=\"fill:#3f3f3f;stroke:#3f3f3f;stroke-linejoin:miter;\" x=\"448.475009\" xlink:href=\"#mb2a2870a0d\" y=\"143.1\"/>\r\n     <use style=\"fill:#3f3f3f;stroke:#3f3f3f;stroke-linejoin:miter;\" x=\"598.237747\" xlink:href=\"#mb2a2870a0d\" y=\"143.1\"/>\r\n     <use style=\"fill:#3f3f3f;stroke:#3f3f3f;stroke-linejoin:miter;\" x=\"530.827201\" xlink:href=\"#mb2a2870a0d\" y=\"143.1\"/>\r\n     <use style=\"fill:#3f3f3f;stroke:#3f3f3f;stroke-linejoin:miter;\" x=\"711.834419\" xlink:href=\"#mb2a2870a0d\" y=\"143.1\"/>\r\n     <use style=\"fill:#3f3f3f;stroke:#3f3f3f;stroke-linejoin:miter;\" x=\"507.897054\" xlink:href=\"#mb2a2870a0d\" y=\"143.1\"/>\r\n     <use style=\"fill:#3f3f3f;stroke:#3f3f3f;stroke-linejoin:miter;\" x=\"442.140859\" xlink:href=\"#mb2a2870a0d\" y=\"143.1\"/>\r\n     <use style=\"fill:#3f3f3f;stroke:#3f3f3f;stroke-linejoin:miter;\" x=\"482.489816\" xlink:href=\"#mb2a2870a0d\" y=\"143.1\"/>\r\n     <use style=\"fill:#3f3f3f;stroke:#3f3f3f;stroke-linejoin:miter;\" x=\"432.982407\" xlink:href=\"#mb2a2870a0d\" y=\"143.1\"/>\r\n     <use style=\"fill:#3f3f3f;stroke:#3f3f3f;stroke-linejoin:miter;\" x=\"444.166588\" xlink:href=\"#mb2a2870a0d\" y=\"143.1\"/>\r\n     <use style=\"fill:#3f3f3f;stroke:#3f3f3f;stroke-linejoin:miter;\" x=\"471.664418\" xlink:href=\"#mb2a2870a0d\" y=\"143.1\"/>\r\n     <use style=\"fill:#3f3f3f;stroke:#3f3f3f;stroke-linejoin:miter;\" x=\"409.167446\" xlink:href=\"#mb2a2870a0d\" y=\"143.1\"/>\r\n     <use style=\"fill:#3f3f3f;stroke:#3f3f3f;stroke-linejoin:miter;\" x=\"443.033536\" xlink:href=\"#mb2a2870a0d\" y=\"143.1\"/>\r\n     <use style=\"fill:#3f3f3f;stroke:#3f3f3f;stroke-linejoin:miter;\" x=\"425.465088\" xlink:href=\"#mb2a2870a0d\" y=\"143.1\"/>\r\n     <use style=\"fill:#3f3f3f;stroke:#3f3f3f;stroke-linejoin:miter;\" x=\"551.967425\" xlink:href=\"#mb2a2870a0d\" y=\"143.1\"/>\r\n     <use style=\"fill:#3f3f3f;stroke:#3f3f3f;stroke-linejoin:miter;\" x=\"440.143896\" xlink:href=\"#mb2a2870a0d\" y=\"143.1\"/>\r\n     <use style=\"fill:#3f3f3f;stroke:#3f3f3f;stroke-linejoin:miter;\" x=\"404.782396\" xlink:href=\"#mb2a2870a0d\" y=\"143.1\"/>\r\n     <use style=\"fill:#3f3f3f;stroke:#3f3f3f;stroke-linejoin:miter;\" x=\"402.013998\" xlink:href=\"#mb2a2870a0d\" y=\"143.1\"/>\r\n     <use style=\"fill:#3f3f3f;stroke:#3f3f3f;stroke-linejoin:miter;\" x=\"408.110933\" xlink:href=\"#mb2a2870a0d\" y=\"143.1\"/>\r\n     <use style=\"fill:#3f3f3f;stroke:#3f3f3f;stroke-linejoin:miter;\" x=\"408.14154\" xlink:href=\"#mb2a2870a0d\" y=\"143.1\"/>\r\n     <use style=\"fill:#3f3f3f;stroke:#3f3f3f;stroke-linejoin:miter;\" x=\"417.996742\" xlink:href=\"#mb2a2870a0d\" y=\"143.1\"/>\r\n     <use style=\"fill:#3f3f3f;stroke:#3f3f3f;stroke-linejoin:miter;\" x=\"515.854354\" xlink:href=\"#mb2a2870a0d\" y=\"143.1\"/>\r\n     <use style=\"fill:#3f3f3f;stroke:#3f3f3f;stroke-linejoin:miter;\" x=\"495.711521\" xlink:href=\"#mb2a2870a0d\" y=\"143.1\"/>\r\n     <use style=\"fill:#3f3f3f;stroke:#3f3f3f;stroke-linejoin:miter;\" x=\"411.970249\" xlink:href=\"#mb2a2870a0d\" y=\"143.1\"/>\r\n     <use style=\"fill:#3f3f3f;stroke:#3f3f3f;stroke-linejoin:miter;\" x=\"518.184997\" xlink:href=\"#mb2a2870a0d\" y=\"143.1\"/>\r\n     <use style=\"fill:#3f3f3f;stroke:#3f3f3f;stroke-linejoin:miter;\" x=\"451.522713\" xlink:href=\"#mb2a2870a0d\" y=\"143.1\"/>\r\n     <use style=\"fill:#3f3f3f;stroke:#3f3f3f;stroke-linejoin:miter;\" x=\"405.665103\" xlink:href=\"#mb2a2870a0d\" y=\"143.1\"/>\r\n     <use style=\"fill:#3f3f3f;stroke:#3f3f3f;stroke-linejoin:miter;\" x=\"447.187675\" xlink:href=\"#mb2a2870a0d\" y=\"143.1\"/>\r\n     <use style=\"fill:#3f3f3f;stroke:#3f3f3f;stroke-linejoin:miter;\" x=\"468.86117\" xlink:href=\"#mb2a2870a0d\" y=\"143.1\"/>\r\n     <use style=\"fill:#3f3f3f;stroke:#3f3f3f;stroke-linejoin:miter;\" x=\"496.900387\" xlink:href=\"#mb2a2870a0d\" y=\"143.1\"/>\r\n     <use style=\"fill:#3f3f3f;stroke:#3f3f3f;stroke-linejoin:miter;\" x=\"407.428336\" xlink:href=\"#mb2a2870a0d\" y=\"143.1\"/>\r\n     <use style=\"fill:#3f3f3f;stroke:#3f3f3f;stroke-linejoin:miter;\" x=\"402.093357\" xlink:href=\"#mb2a2870a0d\" y=\"143.1\"/>\r\n     <use style=\"fill:#3f3f3f;stroke:#3f3f3f;stroke-linejoin:miter;\" x=\"400.963183\" xlink:href=\"#mb2a2870a0d\" y=\"143.1\"/>\r\n     <use style=\"fill:#3f3f3f;stroke:#3f3f3f;stroke-linejoin:miter;\" x=\"514.800764\" xlink:href=\"#mb2a2870a0d\" y=\"143.1\"/>\r\n     <use style=\"fill:#3f3f3f;stroke:#3f3f3f;stroke-linejoin:miter;\" x=\"653.30968\" xlink:href=\"#mb2a2870a0d\" y=\"143.1\"/>\r\n     <use style=\"fill:#3f3f3f;stroke:#3f3f3f;stroke-linejoin:miter;\" x=\"452.189346\" xlink:href=\"#mb2a2870a0d\" y=\"143.1\"/>\r\n     <use style=\"fill:#3f3f3f;stroke:#3f3f3f;stroke-linejoin:miter;\" x=\"434.955854\" xlink:href=\"#mb2a2870a0d\" y=\"143.1\"/>\r\n     <use style=\"fill:#3f3f3f;stroke:#3f3f3f;stroke-linejoin:miter;\" x=\"432.945287\" xlink:href=\"#mb2a2870a0d\" y=\"143.1\"/>\r\n     <use style=\"fill:#3f3f3f;stroke:#3f3f3f;stroke-linejoin:miter;\" x=\"487.649833\" xlink:href=\"#mb2a2870a0d\" y=\"143.1\"/>\r\n     <use style=\"fill:#3f3f3f;stroke:#3f3f3f;stroke-linejoin:miter;\" x=\"467.552858\" xlink:href=\"#mb2a2870a0d\" y=\"143.1\"/>\r\n     <use style=\"fill:#3f3f3f;stroke:#3f3f3f;stroke-linejoin:miter;\" x=\"460.148887\" xlink:href=\"#mb2a2870a0d\" y=\"143.1\"/>\r\n     <use style=\"fill:#3f3f3f;stroke:#3f3f3f;stroke-linejoin:miter;\" x=\"442.262159\" xlink:href=\"#mb2a2870a0d\" y=\"143.1\"/>\r\n     <use style=\"fill:#3f3f3f;stroke:#3f3f3f;stroke-linejoin:miter;\" x=\"428.870239\" xlink:href=\"#mb2a2870a0d\" y=\"143.1\"/>\r\n     <use style=\"fill:#3f3f3f;stroke:#3f3f3f;stroke-linejoin:miter;\" x=\"496.005307\" xlink:href=\"#mb2a2870a0d\" y=\"143.1\"/>\r\n     <use style=\"fill:#3f3f3f;stroke:#3f3f3f;stroke-linejoin:miter;\" x=\"497.325443\" xlink:href=\"#mb2a2870a0d\" y=\"143.1\"/>\r\n     <use style=\"fill:#3f3f3f;stroke:#3f3f3f;stroke-linejoin:miter;\" x=\"507.259188\" xlink:href=\"#mb2a2870a0d\" y=\"143.1\"/>\r\n     <use style=\"fill:#3f3f3f;stroke:#3f3f3f;stroke-linejoin:miter;\" x=\"454.349105\" xlink:href=\"#mb2a2870a0d\" y=\"143.1\"/>\r\n     <use style=\"fill:#3f3f3f;stroke:#3f3f3f;stroke-linejoin:miter;\" x=\"412.395112\" xlink:href=\"#mb2a2870a0d\" y=\"143.1\"/>\r\n     <use style=\"fill:#3f3f3f;stroke:#3f3f3f;stroke-linejoin:miter;\" x=\"556.545137\" xlink:href=\"#mb2a2870a0d\" y=\"143.1\"/>\r\n     <use style=\"fill:#3f3f3f;stroke:#3f3f3f;stroke-linejoin:miter;\" x=\"404.077382\" xlink:href=\"#mb2a2870a0d\" y=\"143.1\"/>\r\n     <use style=\"fill:#3f3f3f;stroke:#3f3f3f;stroke-linejoin:miter;\" x=\"448.231919\" xlink:href=\"#mb2a2870a0d\" y=\"143.1\"/>\r\n     <use style=\"fill:#3f3f3f;stroke:#3f3f3f;stroke-linejoin:miter;\" x=\"402.702589\" xlink:href=\"#mb2a2870a0d\" y=\"143.1\"/>\r\n     <use style=\"fill:#3f3f3f;stroke:#3f3f3f;stroke-linejoin:miter;\" x=\"512.513043\" xlink:href=\"#mb2a2870a0d\" y=\"143.1\"/>\r\n     <use style=\"fill:#3f3f3f;stroke:#3f3f3f;stroke-linejoin:miter;\" x=\"531.419728\" xlink:href=\"#mb2a2870a0d\" y=\"143.1\"/>\r\n     <use style=\"fill:#3f3f3f;stroke:#3f3f3f;stroke-linejoin:miter;\" x=\"442.063369\" xlink:href=\"#mb2a2870a0d\" y=\"143.1\"/>\r\n     <use style=\"fill:#3f3f3f;stroke:#3f3f3f;stroke-linejoin:miter;\" x=\"436.759471\" xlink:href=\"#mb2a2870a0d\" y=\"143.1\"/>\r\n     <use style=\"fill:#3f3f3f;stroke:#3f3f3f;stroke-linejoin:miter;\" x=\"481.832129\" xlink:href=\"#mb2a2870a0d\" y=\"143.1\"/>\r\n     <use style=\"fill:#3f3f3f;stroke:#3f3f3f;stroke-linejoin:miter;\" x=\"427.530311\" xlink:href=\"#mb2a2870a0d\" y=\"143.1\"/>\r\n     <use style=\"fill:#3f3f3f;stroke:#3f3f3f;stroke-linejoin:miter;\" x=\"446.640206\" xlink:href=\"#mb2a2870a0d\" y=\"143.1\"/>\r\n     <use style=\"fill:#3f3f3f;stroke:#3f3f3f;stroke-linejoin:miter;\" x=\"460.915649\" xlink:href=\"#mb2a2870a0d\" y=\"143.1\"/>\r\n     <use style=\"fill:#3f3f3f;stroke:#3f3f3f;stroke-linejoin:miter;\" x=\"453.080999\" xlink:href=\"#mb2a2870a0d\" y=\"143.1\"/>\r\n     <use style=\"fill:#3f3f3f;stroke:#3f3f3f;stroke-linejoin:miter;\" x=\"406.099743\" xlink:href=\"#mb2a2870a0d\" y=\"143.1\"/>\r\n     <use style=\"fill:#3f3f3f;stroke:#3f3f3f;stroke-linejoin:miter;\" x=\"453.304135\" xlink:href=\"#mb2a2870a0d\" y=\"143.1\"/>\r\n     <use style=\"fill:#3f3f3f;stroke:#3f3f3f;stroke-linejoin:miter;\" x=\"404.72639\" xlink:href=\"#mb2a2870a0d\" y=\"143.1\"/>\r\n     <use style=\"fill:#3f3f3f;stroke:#3f3f3f;stroke-linejoin:miter;\" x=\"429.460777\" xlink:href=\"#mb2a2870a0d\" y=\"143.1\"/>\r\n     <use style=\"fill:#3f3f3f;stroke:#3f3f3f;stroke-linejoin:miter;\" x=\"401.964965\" xlink:href=\"#mb2a2870a0d\" y=\"143.1\"/>\r\n     <use style=\"fill:#3f3f3f;stroke:#3f3f3f;stroke-linejoin:miter;\" x=\"475.719394\" xlink:href=\"#mb2a2870a0d\" y=\"143.1\"/>\r\n     <use style=\"fill:#3f3f3f;stroke:#3f3f3f;stroke-linejoin:miter;\" x=\"464.117975\" xlink:href=\"#mb2a2870a0d\" y=\"143.1\"/>\r\n     <use style=\"fill:#3f3f3f;stroke:#3f3f3f;stroke-linejoin:miter;\" x=\"408.321266\" xlink:href=\"#mb2a2870a0d\" y=\"143.1\"/>\r\n     <use style=\"fill:#3f3f3f;stroke:#3f3f3f;stroke-linejoin:miter;\" x=\"468.317247\" xlink:href=\"#mb2a2870a0d\" y=\"143.1\"/>\r\n     <use style=\"fill:#3f3f3f;stroke:#3f3f3f;stroke-linejoin:miter;\" x=\"463.588146\" xlink:href=\"#mb2a2870a0d\" y=\"143.1\"/>\r\n     <use style=\"fill:#3f3f3f;stroke:#3f3f3f;stroke-linejoin:miter;\" x=\"431.895124\" xlink:href=\"#mb2a2870a0d\" y=\"143.1\"/>\r\n     <use style=\"fill:#3f3f3f;stroke:#3f3f3f;stroke-linejoin:miter;\" x=\"429.903845\" xlink:href=\"#mb2a2870a0d\" y=\"143.1\"/>\r\n     <use style=\"fill:#3f3f3f;stroke:#3f3f3f;stroke-linejoin:miter;\" x=\"422.33313\" xlink:href=\"#mb2a2870a0d\" y=\"143.1\"/>\r\n     <use style=\"fill:#3f3f3f;stroke:#3f3f3f;stroke-linejoin:miter;\" x=\"451.88062\" xlink:href=\"#mb2a2870a0d\" y=\"143.1\"/>\r\n     <use style=\"fill:#3f3f3f;stroke:#3f3f3f;stroke-linejoin:miter;\" x=\"433.447951\" xlink:href=\"#mb2a2870a0d\" y=\"143.1\"/>\r\n     <use style=\"fill:#3f3f3f;stroke:#3f3f3f;stroke-linejoin:miter;\" x=\"426.757481\" xlink:href=\"#mb2a2870a0d\" y=\"143.1\"/>\r\n     <use style=\"fill:#3f3f3f;stroke:#3f3f3f;stroke-linejoin:miter;\" x=\"509.853869\" xlink:href=\"#mb2a2870a0d\" y=\"143.1\"/>\r\n     <use style=\"fill:#3f3f3f;stroke:#3f3f3f;stroke-linejoin:miter;\" x=\"498.231829\" xlink:href=\"#mb2a2870a0d\" y=\"143.1\"/>\r\n     <use style=\"fill:#3f3f3f;stroke:#3f3f3f;stroke-linejoin:miter;\" x=\"416.347095\" xlink:href=\"#mb2a2870a0d\" y=\"143.1\"/>\r\n     <use style=\"fill:#3f3f3f;stroke:#3f3f3f;stroke-linejoin:miter;\" x=\"462.390839\" xlink:href=\"#mb2a2870a0d\" y=\"143.1\"/>\r\n     <use style=\"fill:#3f3f3f;stroke:#3f3f3f;stroke-linejoin:miter;\" x=\"432.805768\" xlink:href=\"#mb2a2870a0d\" y=\"143.1\"/>\r\n     <use style=\"fill:#3f3f3f;stroke:#3f3f3f;stroke-linejoin:miter;\" x=\"506.835526\" xlink:href=\"#mb2a2870a0d\" y=\"143.1\"/>\r\n     <use style=\"fill:#3f3f3f;stroke:#3f3f3f;stroke-linejoin:miter;\" x=\"505.857512\" xlink:href=\"#mb2a2870a0d\" y=\"143.1\"/>\r\n     <use style=\"fill:#3f3f3f;stroke:#3f3f3f;stroke-linejoin:miter;\" x=\"495.991583\" xlink:href=\"#mb2a2870a0d\" y=\"143.1\"/>\r\n     <use style=\"fill:#3f3f3f;stroke:#3f3f3f;stroke-linejoin:miter;\" x=\"469.379041\" xlink:href=\"#mb2a2870a0d\" y=\"143.1\"/>\r\n     <use style=\"fill:#3f3f3f;stroke:#3f3f3f;stroke-linejoin:miter;\" x=\"451.637589\" xlink:href=\"#mb2a2870a0d\" y=\"143.1\"/>\r\n     <use style=\"fill:#3f3f3f;stroke:#3f3f3f;stroke-linejoin:miter;\" x=\"438.282893\" xlink:href=\"#mb2a2870a0d\" y=\"143.1\"/>\r\n     <use style=\"fill:#3f3f3f;stroke:#3f3f3f;stroke-linejoin:miter;\" x=\"463.486519\" xlink:href=\"#mb2a2870a0d\" y=\"143.1\"/>\r\n     <use style=\"fill:#3f3f3f;stroke:#3f3f3f;stroke-linejoin:miter;\" x=\"445.876945\" xlink:href=\"#mb2a2870a0d\" y=\"143.1\"/>\r\n     <use style=\"fill:#3f3f3f;stroke:#3f3f3f;stroke-linejoin:miter;\" x=\"442.309531\" xlink:href=\"#mb2a2870a0d\" y=\"143.1\"/>\r\n     <use style=\"fill:#3f3f3f;stroke:#3f3f3f;stroke-linejoin:miter;\" x=\"406.903374\" xlink:href=\"#mb2a2870a0d\" y=\"143.1\"/>\r\n     <use style=\"fill:#3f3f3f;stroke:#3f3f3f;stroke-linejoin:miter;\" x=\"454.595786\" xlink:href=\"#mb2a2870a0d\" y=\"143.1\"/>\r\n     <use style=\"fill:#3f3f3f;stroke:#3f3f3f;stroke-linejoin:miter;\" x=\"422.883922\" xlink:href=\"#mb2a2870a0d\" y=\"143.1\"/>\r\n     <use style=\"fill:#3f3f3f;stroke:#3f3f3f;stroke-linejoin:miter;\" x=\"574.896015\" xlink:href=\"#mb2a2870a0d\" y=\"143.1\"/>\r\n     <use style=\"fill:#3f3f3f;stroke:#3f3f3f;stroke-linejoin:miter;\" x=\"442.807788\" xlink:href=\"#mb2a2870a0d\" y=\"143.1\"/>\r\n     <use style=\"fill:#3f3f3f;stroke:#3f3f3f;stroke-linejoin:miter;\" x=\"579.462466\" xlink:href=\"#mb2a2870a0d\" y=\"143.1\"/>\r\n     <use style=\"fill:#3f3f3f;stroke:#3f3f3f;stroke-linejoin:miter;\" x=\"416.026322\" xlink:href=\"#mb2a2870a0d\" y=\"143.1\"/>\r\n     <use style=\"fill:#3f3f3f;stroke:#3f3f3f;stroke-linejoin:miter;\" x=\"448.866684\" xlink:href=\"#mb2a2870a0d\" y=\"143.1\"/>\r\n     <use style=\"fill:#3f3f3f;stroke:#3f3f3f;stroke-linejoin:miter;\" x=\"586.15448\" xlink:href=\"#mb2a2870a0d\" y=\"143.1\"/>\r\n     <use style=\"fill:#3f3f3f;stroke:#3f3f3f;stroke-linejoin:miter;\" x=\"503.265664\" xlink:href=\"#mb2a2870a0d\" y=\"143.1\"/>\r\n     <use style=\"fill:#3f3f3f;stroke:#3f3f3f;stroke-linejoin:miter;\" x=\"446.860434\" xlink:href=\"#mb2a2870a0d\" y=\"143.1\"/>\r\n     <use style=\"fill:#3f3f3f;stroke:#3f3f3f;stroke-linejoin:miter;\" x=\"419.352026\" xlink:href=\"#mb2a2870a0d\" y=\"143.1\"/>\r\n     <use style=\"fill:#3f3f3f;stroke:#3f3f3f;stroke-linejoin:miter;\" x=\"425.331844\" xlink:href=\"#mb2a2870a0d\" y=\"143.1\"/>\r\n     <use style=\"fill:#3f3f3f;stroke:#3f3f3f;stroke-linejoin:miter;\" x=\"441.411661\" xlink:href=\"#mb2a2870a0d\" y=\"143.1\"/>\r\n     <use style=\"fill:#3f3f3f;stroke:#3f3f3f;stroke-linejoin:miter;\" x=\"461.124587\" xlink:href=\"#mb2a2870a0d\" y=\"143.1\"/>\r\n     <use style=\"fill:#3f3f3f;stroke:#3f3f3f;stroke-linejoin:miter;\" x=\"461.530223\" xlink:href=\"#mb2a2870a0d\" y=\"143.1\"/>\r\n     <use style=\"fill:#3f3f3f;stroke:#3f3f3f;stroke-linejoin:miter;\" x=\"486.884465\" xlink:href=\"#mb2a2870a0d\" y=\"143.1\"/>\r\n     <use style=\"fill:#3f3f3f;stroke:#3f3f3f;stroke-linejoin:miter;\" x=\"436.900474\" xlink:href=\"#mb2a2870a0d\" y=\"143.1\"/>\r\n     <use style=\"fill:#3f3f3f;stroke:#3f3f3f;stroke-linejoin:miter;\" x=\"425.441023\" xlink:href=\"#mb2a2870a0d\" y=\"143.1\"/>\r\n     <use style=\"fill:#3f3f3f;stroke:#3f3f3f;stroke-linejoin:miter;\" x=\"418.627116\" xlink:href=\"#mb2a2870a0d\" y=\"143.1\"/>\r\n     <use style=\"fill:#3f3f3f;stroke:#3f3f3f;stroke-linejoin:miter;\" x=\"468.852328\" xlink:href=\"#mb2a2870a0d\" y=\"143.1\"/>\r\n     <use style=\"fill:#3f3f3f;stroke:#3f3f3f;stroke-linejoin:miter;\" x=\"533.006381\" xlink:href=\"#mb2a2870a0d\" y=\"143.1\"/>\r\n     <use style=\"fill:#3f3f3f;stroke:#3f3f3f;stroke-linejoin:miter;\" x=\"515.505601\" xlink:href=\"#mb2a2870a0d\" y=\"143.1\"/>\r\n     <use style=\"fill:#3f3f3f;stroke:#3f3f3f;stroke-linejoin:miter;\" x=\"562.775999\" xlink:href=\"#mb2a2870a0d\" y=\"143.1\"/>\r\n     <use style=\"fill:#3f3f3f;stroke:#3f3f3f;stroke-linejoin:miter;\" x=\"437.129915\" xlink:href=\"#mb2a2870a0d\" y=\"143.1\"/>\r\n     <use style=\"fill:#3f3f3f;stroke:#3f3f3f;stroke-linejoin:miter;\" x=\"407.852324\" xlink:href=\"#mb2a2870a0d\" y=\"143.1\"/>\r\n     <use style=\"fill:#3f3f3f;stroke:#3f3f3f;stroke-linejoin:miter;\" x=\"433.19087\" xlink:href=\"#mb2a2870a0d\" y=\"143.1\"/>\r\n     <use style=\"fill:#3f3f3f;stroke:#3f3f3f;stroke-linejoin:miter;\" x=\"450.701605\" xlink:href=\"#mb2a2870a0d\" y=\"143.1\"/>\r\n     <use style=\"fill:#3f3f3f;stroke:#3f3f3f;stroke-linejoin:miter;\" x=\"448.606131\" xlink:href=\"#mb2a2870a0d\" y=\"143.1\"/>\r\n     <use style=\"fill:#3f3f3f;stroke:#3f3f3f;stroke-linejoin:miter;\" x=\"432.026944\" xlink:href=\"#mb2a2870a0d\" y=\"143.1\"/>\r\n     <use style=\"fill:#3f3f3f;stroke:#3f3f3f;stroke-linejoin:miter;\" x=\"440.564798\" xlink:href=\"#mb2a2870a0d\" y=\"143.1\"/>\r\n     <use style=\"fill:#3f3f3f;stroke:#3f3f3f;stroke-linejoin:miter;\" x=\"417.866867\" xlink:href=\"#mb2a2870a0d\" y=\"143.1\"/>\r\n     <use style=\"fill:#3f3f3f;stroke:#3f3f3f;stroke-linejoin:miter;\" x=\"455.029595\" xlink:href=\"#mb2a2870a0d\" y=\"143.1\"/>\r\n     <use style=\"fill:#3f3f3f;stroke:#3f3f3f;stroke-linejoin:miter;\" x=\"429.314582\" xlink:href=\"#mb2a2870a0d\" y=\"143.1\"/>\r\n     <use style=\"fill:#3f3f3f;stroke:#3f3f3f;stroke-linejoin:miter;\" x=\"449.58873\" xlink:href=\"#mb2a2870a0d\" y=\"143.1\"/>\r\n     <use style=\"fill:#3f3f3f;stroke:#3f3f3f;stroke-linejoin:miter;\" x=\"414.702936\" xlink:href=\"#mb2a2870a0d\" y=\"143.1\"/>\r\n     <use style=\"fill:#3f3f3f;stroke:#3f3f3f;stroke-linejoin:miter;\" x=\"465.137798\" xlink:href=\"#mb2a2870a0d\" y=\"143.1\"/>\r\n     <use style=\"fill:#3f3f3f;stroke:#3f3f3f;stroke-linejoin:miter;\" x=\"406.585242\" xlink:href=\"#mb2a2870a0d\" y=\"143.1\"/>\r\n     <use style=\"fill:#3f3f3f;stroke:#3f3f3f;stroke-linejoin:miter;\" x=\"489.68172\" xlink:href=\"#mb2a2870a0d\" y=\"143.1\"/>\r\n     <use style=\"fill:#3f3f3f;stroke:#3f3f3f;stroke-linejoin:miter;\" x=\"411.443031\" xlink:href=\"#mb2a2870a0d\" y=\"143.1\"/>\r\n     <use style=\"fill:#3f3f3f;stroke:#3f3f3f;stroke-linejoin:miter;\" x=\"401.509227\" xlink:href=\"#mb2a2870a0d\" y=\"143.1\"/>\r\n     <use style=\"fill:#3f3f3f;stroke:#3f3f3f;stroke-linejoin:miter;\" x=\"535.99974\" xlink:href=\"#mb2a2870a0d\" y=\"143.1\"/>\r\n     <use style=\"fill:#3f3f3f;stroke:#3f3f3f;stroke-linejoin:miter;\" x=\"452.345511\" xlink:href=\"#mb2a2870a0d\" y=\"143.1\"/>\r\n     <use style=\"fill:#3f3f3f;stroke:#3f3f3f;stroke-linejoin:miter;\" x=\"582.576295\" xlink:href=\"#mb2a2870a0d\" y=\"143.1\"/>\r\n     <use style=\"fill:#3f3f3f;stroke:#3f3f3f;stroke-linejoin:miter;\" x=\"434.692364\" xlink:href=\"#mb2a2870a0d\" y=\"143.1\"/>\r\n     <use style=\"fill:#3f3f3f;stroke:#3f3f3f;stroke-linejoin:miter;\" x=\"405.269823\" xlink:href=\"#mb2a2870a0d\" y=\"143.1\"/>\r\n     <use style=\"fill:#3f3f3f;stroke:#3f3f3f;stroke-linejoin:miter;\" x=\"475.046381\" xlink:href=\"#mb2a2870a0d\" y=\"143.1\"/>\r\n     <use style=\"fill:#3f3f3f;stroke:#3f3f3f;stroke-linejoin:miter;\" x=\"423.756837\" xlink:href=\"#mb2a2870a0d\" y=\"143.1\"/>\r\n     <use style=\"fill:#3f3f3f;stroke:#3f3f3f;stroke-linejoin:miter;\" x=\"454.156754\" xlink:href=\"#mb2a2870a0d\" y=\"143.1\"/>\r\n     <use style=\"fill:#3f3f3f;stroke:#3f3f3f;stroke-linejoin:miter;\" x=\"463.14956\" xlink:href=\"#mb2a2870a0d\" y=\"143.1\"/>\r\n     <use style=\"fill:#3f3f3f;stroke:#3f3f3f;stroke-linejoin:miter;\" x=\"400.982499\" xlink:href=\"#mb2a2870a0d\" y=\"143.1\"/>\r\n     <use style=\"fill:#3f3f3f;stroke:#3f3f3f;stroke-linejoin:miter;\" x=\"507.553567\" xlink:href=\"#mb2a2870a0d\" y=\"143.1\"/>\r\n     <use style=\"fill:#3f3f3f;stroke:#3f3f3f;stroke-linejoin:miter;\" x=\"553.046681\" xlink:href=\"#mb2a2870a0d\" y=\"143.1\"/>\r\n     <use style=\"fill:#3f3f3f;stroke:#3f3f3f;stroke-linejoin:miter;\" x=\"434.004218\" xlink:href=\"#mb2a2870a0d\" y=\"143.1\"/>\r\n     <use style=\"fill:#3f3f3f;stroke:#3f3f3f;stroke-linejoin:miter;\" x=\"448.580064\" xlink:href=\"#mb2a2870a0d\" y=\"143.1\"/>\r\n     <use style=\"fill:#3f3f3f;stroke:#3f3f3f;stroke-linejoin:miter;\" x=\"559.689231\" xlink:href=\"#mb2a2870a0d\" y=\"143.1\"/>\r\n     <use style=\"fill:#3f3f3f;stroke:#3f3f3f;stroke-linejoin:miter;\" x=\"440.110025\" xlink:href=\"#mb2a2870a0d\" y=\"143.1\"/>\r\n     <use style=\"fill:#3f3f3f;stroke:#3f3f3f;stroke-linejoin:miter;\" x=\"586.220071\" xlink:href=\"#mb2a2870a0d\" y=\"143.1\"/>\r\n     <use style=\"fill:#3f3f3f;stroke:#3f3f3f;stroke-linejoin:miter;\" x=\"499.910971\" xlink:href=\"#mb2a2870a0d\" y=\"143.1\"/>\r\n     <use style=\"fill:#3f3f3f;stroke:#3f3f3f;stroke-linejoin:miter;\" x=\"430.944735\" xlink:href=\"#mb2a2870a0d\" y=\"143.1\"/>\r\n     <use style=\"fill:#3f3f3f;stroke:#3f3f3f;stroke-linejoin:miter;\" x=\"402.004726\" xlink:href=\"#mb2a2870a0d\" y=\"143.1\"/>\r\n     <use style=\"fill:#3f3f3f;stroke:#3f3f3f;stroke-linejoin:miter;\" x=\"465.998607\" xlink:href=\"#mb2a2870a0d\" y=\"143.1\"/>\r\n     <use style=\"fill:#3f3f3f;stroke:#3f3f3f;stroke-linejoin:miter;\" x=\"406.927037\" xlink:href=\"#mb2a2870a0d\" y=\"143.1\"/>\r\n     <use style=\"fill:#3f3f3f;stroke:#3f3f3f;stroke-linejoin:miter;\" x=\"511.116323\" xlink:href=\"#mb2a2870a0d\" y=\"143.1\"/>\r\n     <use style=\"fill:#3f3f3f;stroke:#3f3f3f;stroke-linejoin:miter;\" x=\"462.593189\" xlink:href=\"#mb2a2870a0d\" y=\"143.1\"/>\r\n     <use style=\"fill:#3f3f3f;stroke:#3f3f3f;stroke-linejoin:miter;\" x=\"415.309008\" xlink:href=\"#mb2a2870a0d\" y=\"143.1\"/>\r\n     <use style=\"fill:#3f3f3f;stroke:#3f3f3f;stroke-linejoin:miter;\" x=\"452.957592\" xlink:href=\"#mb2a2870a0d\" y=\"143.1\"/>\r\n     <use style=\"fill:#3f3f3f;stroke:#3f3f3f;stroke-linejoin:miter;\" x=\"402.050792\" xlink:href=\"#mb2a2870a0d\" y=\"143.1\"/>\r\n     <use style=\"fill:#3f3f3f;stroke:#3f3f3f;stroke-linejoin:miter;\" x=\"474.390311\" xlink:href=\"#mb2a2870a0d\" y=\"143.1\"/>\r\n     <use style=\"fill:#3f3f3f;stroke:#3f3f3f;stroke-linejoin:miter;\" x=\"496.832972\" xlink:href=\"#mb2a2870a0d\" y=\"143.1\"/>\r\n     <use style=\"fill:#3f3f3f;stroke:#3f3f3f;stroke-linejoin:miter;\" x=\"423.707388\" xlink:href=\"#mb2a2870a0d\" y=\"143.1\"/>\r\n     <use style=\"fill:#3f3f3f;stroke:#3f3f3f;stroke-linejoin:miter;\" x=\"467.322631\" xlink:href=\"#mb2a2870a0d\" y=\"143.1\"/>\r\n     <use style=\"fill:#3f3f3f;stroke:#3f3f3f;stroke-linejoin:miter;\" x=\"422.296558\" xlink:href=\"#mb2a2870a0d\" y=\"143.1\"/>\r\n     <use style=\"fill:#3f3f3f;stroke:#3f3f3f;stroke-linejoin:miter;\" x=\"452.616064\" xlink:href=\"#mb2a2870a0d\" y=\"143.1\"/>\r\n     <use style=\"fill:#3f3f3f;stroke:#3f3f3f;stroke-linejoin:miter;\" x=\"408.038162\" xlink:href=\"#mb2a2870a0d\" y=\"143.1\"/>\r\n     <use style=\"fill:#3f3f3f;stroke:#3f3f3f;stroke-linejoin:miter;\" x=\"472.169145\" xlink:href=\"#mb2a2870a0d\" y=\"143.1\"/>\r\n     <use style=\"fill:#3f3f3f;stroke:#3f3f3f;stroke-linejoin:miter;\" x=\"427.09349\" xlink:href=\"#mb2a2870a0d\" y=\"143.1\"/>\r\n     <use style=\"fill:#3f3f3f;stroke:#3f3f3f;stroke-linejoin:miter;\" x=\"429.622061\" xlink:href=\"#mb2a2870a0d\" y=\"143.1\"/>\r\n     <use style=\"fill:#3f3f3f;stroke:#3f3f3f;stroke-linejoin:miter;\" x=\"457.663266\" xlink:href=\"#mb2a2870a0d\" y=\"143.1\"/>\r\n     <use style=\"fill:#3f3f3f;stroke:#3f3f3f;stroke-linejoin:miter;\" x=\"515.636975\" xlink:href=\"#mb2a2870a0d\" y=\"143.1\"/>\r\n     <use style=\"fill:#3f3f3f;stroke:#3f3f3f;stroke-linejoin:miter;\" x=\"461.091384\" xlink:href=\"#mb2a2870a0d\" y=\"143.1\"/>\r\n     <use style=\"fill:#3f3f3f;stroke:#3f3f3f;stroke-linejoin:miter;\" x=\"464.513048\" xlink:href=\"#mb2a2870a0d\" y=\"143.1\"/>\r\n     <use style=\"fill:#3f3f3f;stroke:#3f3f3f;stroke-linejoin:miter;\" x=\"402.033122\" xlink:href=\"#mb2a2870a0d\" y=\"143.1\"/>\r\n     <use style=\"fill:#3f3f3f;stroke:#3f3f3f;stroke-linejoin:miter;\" x=\"451.903987\" xlink:href=\"#mb2a2870a0d\" y=\"143.1\"/>\r\n     <use style=\"fill:#3f3f3f;stroke:#3f3f3f;stroke-linejoin:miter;\" x=\"419.547462\" xlink:href=\"#mb2a2870a0d\" y=\"143.1\"/>\r\n     <use style=\"fill:#3f3f3f;stroke:#3f3f3f;stroke-linejoin:miter;\" x=\"430.63635\" xlink:href=\"#mb2a2870a0d\" y=\"143.1\"/>\r\n     <use style=\"fill:#3f3f3f;stroke:#3f3f3f;stroke-linejoin:miter;\" x=\"427.770998\" xlink:href=\"#mb2a2870a0d\" y=\"143.1\"/>\r\n     <use style=\"fill:#3f3f3f;stroke:#3f3f3f;stroke-linejoin:miter;\" x=\"448.549902\" xlink:href=\"#mb2a2870a0d\" y=\"143.1\"/>\r\n     <use style=\"fill:#3f3f3f;stroke:#3f3f3f;stroke-linejoin:miter;\" x=\"443.374678\" xlink:href=\"#mb2a2870a0d\" y=\"143.1\"/>\r\n     <use style=\"fill:#3f3f3f;stroke:#3f3f3f;stroke-linejoin:miter;\" x=\"469.811234\" xlink:href=\"#mb2a2870a0d\" y=\"143.1\"/>\r\n     <use style=\"fill:#3f3f3f;stroke:#3f3f3f;stroke-linejoin:miter;\" x=\"455.987314\" xlink:href=\"#mb2a2870a0d\" y=\"143.1\"/>\r\n     <use style=\"fill:#3f3f3f;stroke:#3f3f3f;stroke-linejoin:miter;\" x=\"531.630238\" xlink:href=\"#mb2a2870a0d\" y=\"143.1\"/>\r\n     <use style=\"fill:#3f3f3f;stroke:#3f3f3f;stroke-linejoin:miter;\" x=\"465.2264\" xlink:href=\"#mb2a2870a0d\" y=\"143.1\"/>\r\n     <use style=\"fill:#3f3f3f;stroke:#3f3f3f;stroke-linejoin:miter;\" x=\"613.028049\" xlink:href=\"#mb2a2870a0d\" y=\"143.1\"/>\r\n     <use style=\"fill:#3f3f3f;stroke:#3f3f3f;stroke-linejoin:miter;\" x=\"426.02631\" xlink:href=\"#mb2a2870a0d\" y=\"143.1\"/>\r\n     <use style=\"fill:#3f3f3f;stroke:#3f3f3f;stroke-linejoin:miter;\" x=\"404.234986\" xlink:href=\"#mb2a2870a0d\" y=\"143.1\"/>\r\n     <use style=\"fill:#3f3f3f;stroke:#3f3f3f;stroke-linejoin:miter;\" x=\"437.427959\" xlink:href=\"#mb2a2870a0d\" y=\"143.1\"/>\r\n     <use style=\"fill:#3f3f3f;stroke:#3f3f3f;stroke-linejoin:miter;\" x=\"476.821691\" xlink:href=\"#mb2a2870a0d\" y=\"143.1\"/>\r\n     <use style=\"fill:#3f3f3f;stroke:#3f3f3f;stroke-linejoin:miter;\" x=\"441.653402\" xlink:href=\"#mb2a2870a0d\" y=\"143.1\"/>\r\n     <use style=\"fill:#3f3f3f;stroke:#3f3f3f;stroke-linejoin:miter;\" x=\"444.185786\" xlink:href=\"#mb2a2870a0d\" y=\"143.1\"/>\r\n     <use style=\"fill:#3f3f3f;stroke:#3f3f3f;stroke-linejoin:miter;\" x=\"456.705251\" xlink:href=\"#mb2a2870a0d\" y=\"143.1\"/>\r\n     <use style=\"fill:#3f3f3f;stroke:#3f3f3f;stroke-linejoin:miter;\" x=\"450.761158\" xlink:href=\"#mb2a2870a0d\" y=\"143.1\"/>\r\n     <use style=\"fill:#3f3f3f;stroke:#3f3f3f;stroke-linejoin:miter;\" x=\"409.28529\" xlink:href=\"#mb2a2870a0d\" y=\"143.1\"/>\r\n     <use style=\"fill:#3f3f3f;stroke:#3f3f3f;stroke-linejoin:miter;\" x=\"419.736549\" xlink:href=\"#mb2a2870a0d\" y=\"143.1\"/>\r\n     <use style=\"fill:#3f3f3f;stroke:#3f3f3f;stroke-linejoin:miter;\" x=\"416.320983\" xlink:href=\"#mb2a2870a0d\" y=\"143.1\"/>\r\n     <use style=\"fill:#3f3f3f;stroke:#3f3f3f;stroke-linejoin:miter;\" x=\"484.461839\" xlink:href=\"#mb2a2870a0d\" y=\"143.1\"/>\r\n     <use style=\"fill:#3f3f3f;stroke:#3f3f3f;stroke-linejoin:miter;\" x=\"407.373131\" xlink:href=\"#mb2a2870a0d\" y=\"143.1\"/>\r\n     <use style=\"fill:#3f3f3f;stroke:#3f3f3f;stroke-linejoin:miter;\" x=\"465.82627\" xlink:href=\"#mb2a2870a0d\" y=\"143.1\"/>\r\n     <use style=\"fill:#3f3f3f;stroke:#3f3f3f;stroke-linejoin:miter;\" x=\"407.270331\" xlink:href=\"#mb2a2870a0d\" y=\"143.1\"/>\r\n     <use style=\"fill:#3f3f3f;stroke:#3f3f3f;stroke-linejoin:miter;\" x=\"474.629885\" xlink:href=\"#mb2a2870a0d\" y=\"143.1\"/>\r\n     <use style=\"fill:#3f3f3f;stroke:#3f3f3f;stroke-linejoin:miter;\" x=\"425.852757\" xlink:href=\"#mb2a2870a0d\" y=\"143.1\"/>\r\n     <use style=\"fill:#3f3f3f;stroke:#3f3f3f;stroke-linejoin:miter;\" x=\"467.366219\" xlink:href=\"#mb2a2870a0d\" y=\"143.1\"/>\r\n     <use style=\"fill:#3f3f3f;stroke:#3f3f3f;stroke-linejoin:miter;\" x=\"409.267323\" xlink:href=\"#mb2a2870a0d\" y=\"143.1\"/>\r\n     <use style=\"fill:#3f3f3f;stroke:#3f3f3f;stroke-linejoin:miter;\" x=\"410.658317\" xlink:href=\"#mb2a2870a0d\" y=\"143.1\"/>\r\n     <use style=\"fill:#3f3f3f;stroke:#3f3f3f;stroke-linejoin:miter;\" x=\"505.637981\" xlink:href=\"#mb2a2870a0d\" y=\"143.1\"/>\r\n     <use style=\"fill:#3f3f3f;stroke:#3f3f3f;stroke-linejoin:miter;\" x=\"465.183805\" xlink:href=\"#mb2a2870a0d\" y=\"143.1\"/>\r\n     <use style=\"fill:#3f3f3f;stroke:#3f3f3f;stroke-linejoin:miter;\" x=\"407.800635\" xlink:href=\"#mb2a2870a0d\" y=\"143.1\"/>\r\n     <use style=\"fill:#3f3f3f;stroke:#3f3f3f;stroke-linejoin:miter;\" x=\"424.153972\" xlink:href=\"#mb2a2870a0d\" y=\"143.1\"/>\r\n     <use style=\"fill:#3f3f3f;stroke:#3f3f3f;stroke-linejoin:miter;\" x=\"403.088077\" xlink:href=\"#mb2a2870a0d\" y=\"143.1\"/>\r\n     <use style=\"fill:#3f3f3f;stroke:#3f3f3f;stroke-linejoin:miter;\" x=\"447.673545\" xlink:href=\"#mb2a2870a0d\" y=\"143.1\"/>\r\n     <use style=\"fill:#3f3f3f;stroke:#3f3f3f;stroke-linejoin:miter;\" x=\"449.322302\" xlink:href=\"#mb2a2870a0d\" y=\"143.1\"/>\r\n     <use style=\"fill:#3f3f3f;stroke:#3f3f3f;stroke-linejoin:miter;\" x=\"435.89077\" xlink:href=\"#mb2a2870a0d\" y=\"143.1\"/>\r\n     <use style=\"fill:#3f3f3f;stroke:#3f3f3f;stroke-linejoin:miter;\" x=\"464.902541\" xlink:href=\"#mb2a2870a0d\" y=\"143.1\"/>\r\n     <use style=\"fill:#3f3f3f;stroke:#3f3f3f;stroke-linejoin:miter;\" x=\"437.838194\" xlink:href=\"#mb2a2870a0d\" y=\"143.1\"/>\r\n     <use style=\"fill:#3f3f3f;stroke:#3f3f3f;stroke-linejoin:miter;\" x=\"439.265625\" xlink:href=\"#mb2a2870a0d\" y=\"143.1\"/>\r\n     <use style=\"fill:#3f3f3f;stroke:#3f3f3f;stroke-linejoin:miter;\" x=\"442.162045\" xlink:href=\"#mb2a2870a0d\" y=\"143.1\"/>\r\n     <use style=\"fill:#3f3f3f;stroke:#3f3f3f;stroke-linejoin:miter;\" x=\"432.645894\" xlink:href=\"#mb2a2870a0d\" y=\"143.1\"/>\r\n     <use style=\"fill:#3f3f3f;stroke:#3f3f3f;stroke-linejoin:miter;\" x=\"499.754627\" xlink:href=\"#mb2a2870a0d\" y=\"143.1\"/>\r\n     <use style=\"fill:#3f3f3f;stroke:#3f3f3f;stroke-linejoin:miter;\" x=\"412.740261\" xlink:href=\"#mb2a2870a0d\" y=\"143.1\"/>\r\n     <use style=\"fill:#3f3f3f;stroke:#3f3f3f;stroke-linejoin:miter;\" x=\"597.637416\" xlink:href=\"#mb2a2870a0d\" y=\"143.1\"/>\r\n     <use style=\"fill:#3f3f3f;stroke:#3f3f3f;stroke-linejoin:miter;\" x=\"400.79819\" xlink:href=\"#mb2a2870a0d\" y=\"143.1\"/>\r\n     <use style=\"fill:#3f3f3f;stroke:#3f3f3f;stroke-linejoin:miter;\" x=\"407.556447\" xlink:href=\"#mb2a2870a0d\" y=\"143.1\"/>\r\n     <use style=\"fill:#3f3f3f;stroke:#3f3f3f;stroke-linejoin:miter;\" x=\"412.456148\" xlink:href=\"#mb2a2870a0d\" y=\"143.1\"/>\r\n     <use style=\"fill:#3f3f3f;stroke:#3f3f3f;stroke-linejoin:miter;\" x=\"419.892433\" xlink:href=\"#mb2a2870a0d\" y=\"143.1\"/>\r\n     <use style=\"fill:#3f3f3f;stroke:#3f3f3f;stroke-linejoin:miter;\" x=\"429.938546\" xlink:href=\"#mb2a2870a0d\" y=\"143.1\"/>\r\n     <use style=\"fill:#3f3f3f;stroke:#3f3f3f;stroke-linejoin:miter;\" x=\"465.779017\" xlink:href=\"#mb2a2870a0d\" y=\"143.1\"/>\r\n     <use style=\"fill:#3f3f3f;stroke:#3f3f3f;stroke-linejoin:miter;\" x=\"591.034108\" xlink:href=\"#mb2a2870a0d\" y=\"143.1\"/>\r\n     <use style=\"fill:#3f3f3f;stroke:#3f3f3f;stroke-linejoin:miter;\" x=\"422.332714\" xlink:href=\"#mb2a2870a0d\" y=\"143.1\"/>\r\n     <use style=\"fill:#3f3f3f;stroke:#3f3f3f;stroke-linejoin:miter;\" x=\"444.393062\" xlink:href=\"#mb2a2870a0d\" y=\"143.1\"/>\r\n     <use style=\"fill:#3f3f3f;stroke:#3f3f3f;stroke-linejoin:miter;\" x=\"406.093008\" xlink:href=\"#mb2a2870a0d\" y=\"143.1\"/>\r\n     <use style=\"fill:#3f3f3f;stroke:#3f3f3f;stroke-linejoin:miter;\" x=\"459.57001\" xlink:href=\"#mb2a2870a0d\" y=\"143.1\"/>\r\n     <use style=\"fill:#3f3f3f;stroke:#3f3f3f;stroke-linejoin:miter;\" x=\"492.414763\" xlink:href=\"#mb2a2870a0d\" y=\"143.1\"/>\r\n     <use style=\"fill:#3f3f3f;stroke:#3f3f3f;stroke-linejoin:miter;\" x=\"450.892502\" xlink:href=\"#mb2a2870a0d\" y=\"143.1\"/>\r\n     <use style=\"fill:#3f3f3f;stroke:#3f3f3f;stroke-linejoin:miter;\" x=\"414.020117\" xlink:href=\"#mb2a2870a0d\" y=\"143.1\"/>\r\n     <use style=\"fill:#3f3f3f;stroke:#3f3f3f;stroke-linejoin:miter;\" x=\"404.026331\" xlink:href=\"#mb2a2870a0d\" y=\"143.1\"/>\r\n     <use style=\"fill:#3f3f3f;stroke:#3f3f3f;stroke-linejoin:miter;\" x=\"468.751309\" xlink:href=\"#mb2a2870a0d\" y=\"143.1\"/>\r\n     <use style=\"fill:#3f3f3f;stroke:#3f3f3f;stroke-linejoin:miter;\" x=\"437.721344\" xlink:href=\"#mb2a2870a0d\" y=\"143.1\"/>\r\n     <use style=\"fill:#3f3f3f;stroke:#3f3f3f;stroke-linejoin:miter;\" x=\"436.060243\" xlink:href=\"#mb2a2870a0d\" y=\"143.1\"/>\r\n     <use style=\"fill:#3f3f3f;stroke:#3f3f3f;stroke-linejoin:miter;\" x=\"453.054606\" xlink:href=\"#mb2a2870a0d\" y=\"143.1\"/>\r\n     <use style=\"fill:#3f3f3f;stroke:#3f3f3f;stroke-linejoin:miter;\" x=\"422.483939\" xlink:href=\"#mb2a2870a0d\" y=\"143.1\"/>\r\n     <use style=\"fill:#3f3f3f;stroke:#3f3f3f;stroke-linejoin:miter;\" x=\"506.233712\" xlink:href=\"#mb2a2870a0d\" y=\"143.1\"/>\r\n     <use style=\"fill:#3f3f3f;stroke:#3f3f3f;stroke-linejoin:miter;\" x=\"506.424268\" xlink:href=\"#mb2a2870a0d\" y=\"143.1\"/>\r\n     <use style=\"fill:#3f3f3f;stroke:#3f3f3f;stroke-linejoin:miter;\" x=\"547.051864\" xlink:href=\"#mb2a2870a0d\" y=\"143.1\"/>\r\n     <use style=\"fill:#3f3f3f;stroke:#3f3f3f;stroke-linejoin:miter;\" x=\"535.234965\" xlink:href=\"#mb2a2870a0d\" y=\"143.1\"/>\r\n     <use style=\"fill:#3f3f3f;stroke:#3f3f3f;stroke-linejoin:miter;\" x=\"509.848053\" xlink:href=\"#mb2a2870a0d\" y=\"143.1\"/>\r\n     <use style=\"fill:#3f3f3f;stroke:#3f3f3f;stroke-linejoin:miter;\" x=\"498.046733\" xlink:href=\"#mb2a2870a0d\" y=\"143.1\"/>\r\n     <use style=\"fill:#3f3f3f;stroke:#3f3f3f;stroke-linejoin:miter;\" x=\"441.043398\" xlink:href=\"#mb2a2870a0d\" y=\"143.1\"/>\r\n     <use style=\"fill:#3f3f3f;stroke:#3f3f3f;stroke-linejoin:miter;\" x=\"562.567076\" xlink:href=\"#mb2a2870a0d\" y=\"143.1\"/>\r\n     <use style=\"fill:#3f3f3f;stroke:#3f3f3f;stroke-linejoin:miter;\" x=\"444.285188\" xlink:href=\"#mb2a2870a0d\" y=\"143.1\"/>\r\n     <use style=\"fill:#3f3f3f;stroke:#3f3f3f;stroke-linejoin:miter;\" x=\"667.43921\" xlink:href=\"#mb2a2870a0d\" y=\"143.1\"/>\r\n     <use style=\"fill:#3f3f3f;stroke:#3f3f3f;stroke-linejoin:miter;\" x=\"436.827584\" xlink:href=\"#mb2a2870a0d\" y=\"143.1\"/>\r\n     <use style=\"fill:#3f3f3f;stroke:#3f3f3f;stroke-linejoin:miter;\" x=\"526.826408\" xlink:href=\"#mb2a2870a0d\" y=\"143.1\"/>\r\n     <use style=\"fill:#3f3f3f;stroke:#3f3f3f;stroke-linejoin:miter;\" x=\"423.435174\" xlink:href=\"#mb2a2870a0d\" y=\"143.1\"/>\r\n     <use style=\"fill:#3f3f3f;stroke:#3f3f3f;stroke-linejoin:miter;\" x=\"432.261325\" xlink:href=\"#mb2a2870a0d\" y=\"143.1\"/>\r\n     <use style=\"fill:#3f3f3f;stroke:#3f3f3f;stroke-linejoin:miter;\" x=\"621.96924\" xlink:href=\"#mb2a2870a0d\" y=\"143.1\"/>\r\n     <use style=\"fill:#3f3f3f;stroke:#3f3f3f;stroke-linejoin:miter;\" x=\"456.55956\" xlink:href=\"#mb2a2870a0d\" y=\"143.1\"/>\r\n     <use style=\"fill:#3f3f3f;stroke:#3f3f3f;stroke-linejoin:miter;\" x=\"480.679389\" xlink:href=\"#mb2a2870a0d\" y=\"143.1\"/>\r\n     <use style=\"fill:#3f3f3f;stroke:#3f3f3f;stroke-linejoin:miter;\" x=\"540.918728\" xlink:href=\"#mb2a2870a0d\" y=\"143.1\"/>\r\n     <use style=\"fill:#3f3f3f;stroke:#3f3f3f;stroke-linejoin:miter;\" x=\"466.547649\" xlink:href=\"#mb2a2870a0d\" y=\"143.1\"/>\r\n     <use style=\"fill:#3f3f3f;stroke:#3f3f3f;stroke-linejoin:miter;\" x=\"658.971204\" xlink:href=\"#mb2a2870a0d\" y=\"143.1\"/>\r\n     <use style=\"fill:#3f3f3f;stroke:#3f3f3f;stroke-linejoin:miter;\" x=\"463.108345\" xlink:href=\"#mb2a2870a0d\" y=\"143.1\"/>\r\n     <use style=\"fill:#3f3f3f;stroke:#3f3f3f;stroke-linejoin:miter;\" x=\"537.522538\" xlink:href=\"#mb2a2870a0d\" y=\"143.1\"/>\r\n     <use style=\"fill:#3f3f3f;stroke:#3f3f3f;stroke-linejoin:miter;\" x=\"423.958045\" xlink:href=\"#mb2a2870a0d\" y=\"143.1\"/>\r\n     <use style=\"fill:#3f3f3f;stroke:#3f3f3f;stroke-linejoin:miter;\" x=\"402.149215\" xlink:href=\"#mb2a2870a0d\" y=\"143.1\"/>\r\n     <use style=\"fill:#3f3f3f;stroke:#3f3f3f;stroke-linejoin:miter;\" x=\"456.720962\" xlink:href=\"#mb2a2870a0d\" y=\"143.1\"/>\r\n     <use style=\"fill:#3f3f3f;stroke:#3f3f3f;stroke-linejoin:miter;\" x=\"498.465483\" xlink:href=\"#mb2a2870a0d\" y=\"143.1\"/>\r\n     <use style=\"fill:#3f3f3f;stroke:#3f3f3f;stroke-linejoin:miter;\" x=\"579.78269\" xlink:href=\"#mb2a2870a0d\" y=\"143.1\"/>\r\n     <use style=\"fill:#3f3f3f;stroke:#3f3f3f;stroke-linejoin:miter;\" x=\"407.978951\" xlink:href=\"#mb2a2870a0d\" y=\"143.1\"/>\r\n     <use style=\"fill:#3f3f3f;stroke:#3f3f3f;stroke-linejoin:miter;\" x=\"556.952583\" xlink:href=\"#mb2a2870a0d\" y=\"143.1\"/>\r\n     <use style=\"fill:#3f3f3f;stroke:#3f3f3f;stroke-linejoin:miter;\" x=\"482.846997\" xlink:href=\"#mb2a2870a0d\" y=\"143.1\"/>\r\n     <use style=\"fill:#3f3f3f;stroke:#3f3f3f;stroke-linejoin:miter;\" x=\"429.21285\" xlink:href=\"#mb2a2870a0d\" y=\"143.1\"/>\r\n     <use style=\"fill:#3f3f3f;stroke:#3f3f3f;stroke-linejoin:miter;\" x=\"423.793675\" xlink:href=\"#mb2a2870a0d\" y=\"143.1\"/>\r\n     <use style=\"fill:#3f3f3f;stroke:#3f3f3f;stroke-linejoin:miter;\" x=\"532.485914\" xlink:href=\"#mb2a2870a0d\" y=\"143.1\"/>\r\n     <use style=\"fill:#3f3f3f;stroke:#3f3f3f;stroke-linejoin:miter;\" x=\"451.812596\" xlink:href=\"#mb2a2870a0d\" y=\"143.1\"/>\r\n     <use style=\"fill:#3f3f3f;stroke:#3f3f3f;stroke-linejoin:miter;\" x=\"427.590071\" xlink:href=\"#mb2a2870a0d\" y=\"143.1\"/>\r\n     <use style=\"fill:#3f3f3f;stroke:#3f3f3f;stroke-linejoin:miter;\" x=\"441.054763\" xlink:href=\"#mb2a2870a0d\" y=\"143.1\"/>\r\n     <use style=\"fill:#3f3f3f;stroke:#3f3f3f;stroke-linejoin:miter;\" x=\"465.25579\" xlink:href=\"#mb2a2870a0d\" y=\"143.1\"/>\r\n     <use style=\"fill:#3f3f3f;stroke:#3f3f3f;stroke-linejoin:miter;\" x=\"448.054404\" xlink:href=\"#mb2a2870a0d\" y=\"143.1\"/>\r\n     <use style=\"fill:#3f3f3f;stroke:#3f3f3f;stroke-linejoin:miter;\" x=\"429.504084\" xlink:href=\"#mb2a2870a0d\" y=\"143.1\"/>\r\n     <use style=\"fill:#3f3f3f;stroke:#3f3f3f;stroke-linejoin:miter;\" x=\"428.243886\" xlink:href=\"#mb2a2870a0d\" y=\"143.1\"/>\r\n     <use style=\"fill:#3f3f3f;stroke:#3f3f3f;stroke-linejoin:miter;\" x=\"435.792984\" xlink:href=\"#mb2a2870a0d\" y=\"143.1\"/>\r\n     <use style=\"fill:#3f3f3f;stroke:#3f3f3f;stroke-linejoin:miter;\" x=\"584.277824\" xlink:href=\"#mb2a2870a0d\" y=\"143.1\"/>\r\n     <use style=\"fill:#3f3f3f;stroke:#3f3f3f;stroke-linejoin:miter;\" x=\"401.257191\" xlink:href=\"#mb2a2870a0d\" y=\"143.1\"/>\r\n     <use style=\"fill:#3f3f3f;stroke:#3f3f3f;stroke-linejoin:miter;\" x=\"408.506614\" xlink:href=\"#mb2a2870a0d\" y=\"143.1\"/>\r\n     <use style=\"fill:#3f3f3f;stroke:#3f3f3f;stroke-linejoin:miter;\" x=\"479.417574\" xlink:href=\"#mb2a2870a0d\" y=\"143.1\"/>\r\n     <use style=\"fill:#3f3f3f;stroke:#3f3f3f;stroke-linejoin:miter;\" x=\"413.405084\" xlink:href=\"#mb2a2870a0d\" y=\"143.1\"/>\r\n     <use style=\"fill:#3f3f3f;stroke:#3f3f3f;stroke-linejoin:miter;\" x=\"426.921168\" xlink:href=\"#mb2a2870a0d\" y=\"143.1\"/>\r\n     <use style=\"fill:#3f3f3f;stroke:#3f3f3f;stroke-linejoin:miter;\" x=\"412.07072\" xlink:href=\"#mb2a2870a0d\" y=\"143.1\"/>\r\n     <use style=\"fill:#3f3f3f;stroke:#3f3f3f;stroke-linejoin:miter;\" x=\"431.865215\" xlink:href=\"#mb2a2870a0d\" y=\"143.1\"/>\r\n     <use style=\"fill:#3f3f3f;stroke:#3f3f3f;stroke-linejoin:miter;\" x=\"417.175902\" xlink:href=\"#mb2a2870a0d\" y=\"143.1\"/>\r\n     <use style=\"fill:#3f3f3f;stroke:#3f3f3f;stroke-linejoin:miter;\" x=\"409.583066\" xlink:href=\"#mb2a2870a0d\" y=\"143.1\"/>\r\n     <use style=\"fill:#3f3f3f;stroke:#3f3f3f;stroke-linejoin:miter;\" x=\"409.142358\" xlink:href=\"#mb2a2870a0d\" y=\"143.1\"/>\r\n     <use style=\"fill:#3f3f3f;stroke:#3f3f3f;stroke-linejoin:miter;\" x=\"401.195042\" xlink:href=\"#mb2a2870a0d\" y=\"143.1\"/>\r\n     <use style=\"fill:#3f3f3f;stroke:#3f3f3f;stroke-linejoin:miter;\" x=\"502.859658\" xlink:href=\"#mb2a2870a0d\" y=\"143.1\"/>\r\n     <use style=\"fill:#3f3f3f;stroke:#3f3f3f;stroke-linejoin:miter;\" x=\"429.736196\" xlink:href=\"#mb2a2870a0d\" y=\"143.1\"/>\r\n     <use style=\"fill:#3f3f3f;stroke:#3f3f3f;stroke-linejoin:miter;\" x=\"423.537247\" xlink:href=\"#mb2a2870a0d\" y=\"143.1\"/>\r\n     <use style=\"fill:#3f3f3f;stroke:#3f3f3f;stroke-linejoin:miter;\" x=\"439.4436\" xlink:href=\"#mb2a2870a0d\" y=\"143.1\"/>\r\n     <use style=\"fill:#3f3f3f;stroke:#3f3f3f;stroke-linejoin:miter;\" x=\"515.953697\" xlink:href=\"#mb2a2870a0d\" y=\"143.1\"/>\r\n     <use style=\"fill:#3f3f3f;stroke:#3f3f3f;stroke-linejoin:miter;\" x=\"401.944921\" xlink:href=\"#mb2a2870a0d\" y=\"143.1\"/>\r\n     <use style=\"fill:#3f3f3f;stroke:#3f3f3f;stroke-linejoin:miter;\" x=\"416.937307\" xlink:href=\"#mb2a2870a0d\" y=\"143.1\"/>\r\n     <use style=\"fill:#3f3f3f;stroke:#3f3f3f;stroke-linejoin:miter;\" x=\"511.595249\" xlink:href=\"#mb2a2870a0d\" y=\"143.1\"/>\r\n     <use style=\"fill:#3f3f3f;stroke:#3f3f3f;stroke-linejoin:miter;\" x=\"407.137384\" xlink:href=\"#mb2a2870a0d\" y=\"143.1\"/>\r\n     <use style=\"fill:#3f3f3f;stroke:#3f3f3f;stroke-linejoin:miter;\" x=\"410.7341\" xlink:href=\"#mb2a2870a0d\" y=\"143.1\"/>\r\n     <use style=\"fill:#3f3f3f;stroke:#3f3f3f;stroke-linejoin:miter;\" x=\"501.670703\" xlink:href=\"#mb2a2870a0d\" y=\"143.1\"/>\r\n     <use style=\"fill:#3f3f3f;stroke:#3f3f3f;stroke-linejoin:miter;\" x=\"484.501066\" xlink:href=\"#mb2a2870a0d\" y=\"143.1\"/>\r\n     <use style=\"fill:#3f3f3f;stroke:#3f3f3f;stroke-linejoin:miter;\" x=\"428.980976\" xlink:href=\"#mb2a2870a0d\" y=\"143.1\"/>\r\n     <use style=\"fill:#3f3f3f;stroke:#3f3f3f;stroke-linejoin:miter;\" x=\"461.872715\" xlink:href=\"#mb2a2870a0d\" y=\"143.1\"/>\r\n     <use style=\"fill:#3f3f3f;stroke:#3f3f3f;stroke-linejoin:miter;\" x=\"463.619243\" xlink:href=\"#mb2a2870a0d\" y=\"143.1\"/>\r\n     <use style=\"fill:#3f3f3f;stroke:#3f3f3f;stroke-linejoin:miter;\" x=\"545.792466\" xlink:href=\"#mb2a2870a0d\" y=\"143.1\"/>\r\n     <use style=\"fill:#3f3f3f;stroke:#3f3f3f;stroke-linejoin:miter;\" x=\"491.002553\" xlink:href=\"#mb2a2870a0d\" y=\"143.1\"/>\r\n     <use style=\"fill:#3f3f3f;stroke:#3f3f3f;stroke-linejoin:miter;\" x=\"579.12435\" xlink:href=\"#mb2a2870a0d\" y=\"143.1\"/>\r\n     <use style=\"fill:#3f3f3f;stroke:#3f3f3f;stroke-linejoin:miter;\" x=\"460.052541\" xlink:href=\"#mb2a2870a0d\" y=\"143.1\"/>\r\n     <use style=\"fill:#3f3f3f;stroke:#3f3f3f;stroke-linejoin:miter;\" x=\"458.449464\" xlink:href=\"#mb2a2870a0d\" y=\"143.1\"/>\r\n     <use style=\"fill:#3f3f3f;stroke:#3f3f3f;stroke-linejoin:miter;\" x=\"467.197473\" xlink:href=\"#mb2a2870a0d\" y=\"143.1\"/>\r\n     <use style=\"fill:#3f3f3f;stroke:#3f3f3f;stroke-linejoin:miter;\" x=\"464.274052\" xlink:href=\"#mb2a2870a0d\" y=\"143.1\"/>\r\n     <use style=\"fill:#3f3f3f;stroke:#3f3f3f;stroke-linejoin:miter;\" x=\"531.473153\" xlink:href=\"#mb2a2870a0d\" y=\"143.1\"/>\r\n     <use style=\"fill:#3f3f3f;stroke:#3f3f3f;stroke-linejoin:miter;\" x=\"594.575381\" xlink:href=\"#mb2a2870a0d\" y=\"143.1\"/>\r\n     <use style=\"fill:#3f3f3f;stroke:#3f3f3f;stroke-linejoin:miter;\" x=\"518.32094\" xlink:href=\"#mb2a2870a0d\" y=\"143.1\"/>\r\n     <use style=\"fill:#3f3f3f;stroke:#3f3f3f;stroke-linejoin:miter;\" x=\"449.972927\" xlink:href=\"#mb2a2870a0d\" y=\"143.1\"/>\r\n     <use style=\"fill:#3f3f3f;stroke:#3f3f3f;stroke-linejoin:miter;\" x=\"431.169043\" xlink:href=\"#mb2a2870a0d\" y=\"143.1\"/>\r\n     <use style=\"fill:#3f3f3f;stroke:#3f3f3f;stroke-linejoin:miter;\" x=\"446.326258\" xlink:href=\"#mb2a2870a0d\" y=\"143.1\"/>\r\n     <use style=\"fill:#3f3f3f;stroke:#3f3f3f;stroke-linejoin:miter;\" x=\"478.538754\" xlink:href=\"#mb2a2870a0d\" y=\"143.1\"/>\r\n     <use style=\"fill:#3f3f3f;stroke:#3f3f3f;stroke-linejoin:miter;\" x=\"435.187625\" xlink:href=\"#mb2a2870a0d\" y=\"143.1\"/>\r\n     <use style=\"fill:#3f3f3f;stroke:#3f3f3f;stroke-linejoin:miter;\" x=\"430.259912\" xlink:href=\"#mb2a2870a0d\" y=\"143.1\"/>\r\n     <use style=\"fill:#3f3f3f;stroke:#3f3f3f;stroke-linejoin:miter;\" x=\"432.705654\" xlink:href=\"#mb2a2870a0d\" y=\"143.1\"/>\r\n     <use style=\"fill:#3f3f3f;stroke:#3f3f3f;stroke-linejoin:miter;\" x=\"427.798089\" xlink:href=\"#mb2a2870a0d\" y=\"143.1\"/>\r\n     <use style=\"fill:#3f3f3f;stroke:#3f3f3f;stroke-linejoin:miter;\" x=\"479.364594\" xlink:href=\"#mb2a2870a0d\" y=\"143.1\"/>\r\n     <use style=\"fill:#3f3f3f;stroke:#3f3f3f;stroke-linejoin:miter;\" x=\"530.58233\" xlink:href=\"#mb2a2870a0d\" y=\"143.1\"/>\r\n     <use style=\"fill:#3f3f3f;stroke:#3f3f3f;stroke-linejoin:miter;\" x=\"437.553354\" xlink:href=\"#mb2a2870a0d\" y=\"143.1\"/>\r\n     <use style=\"fill:#3f3f3f;stroke:#3f3f3f;stroke-linejoin:miter;\" x=\"425.220395\" xlink:href=\"#mb2a2870a0d\" y=\"143.1\"/>\r\n     <use style=\"fill:#3f3f3f;stroke:#3f3f3f;stroke-linejoin:miter;\" x=\"457.873509\" xlink:href=\"#mb2a2870a0d\" y=\"143.1\"/>\r\n     <use style=\"fill:#3f3f3f;stroke:#3f3f3f;stroke-linejoin:miter;\" x=\"480.739772\" xlink:href=\"#mb2a2870a0d\" y=\"143.1\"/>\r\n     <use style=\"fill:#3f3f3f;stroke:#3f3f3f;stroke-linejoin:miter;\" x=\"444.800478\" xlink:href=\"#mb2a2870a0d\" y=\"143.1\"/>\r\n     <use style=\"fill:#3f3f3f;stroke:#3f3f3f;stroke-linejoin:miter;\" x=\"452.591065\" xlink:href=\"#mb2a2870a0d\" y=\"143.1\"/>\r\n     <use style=\"fill:#3f3f3f;stroke:#3f3f3f;stroke-linejoin:miter;\" x=\"438.243384\" xlink:href=\"#mb2a2870a0d\" y=\"143.1\"/>\r\n     <use style=\"fill:#3f3f3f;stroke:#3f3f3f;stroke-linejoin:miter;\" x=\"458.115695\" xlink:href=\"#mb2a2870a0d\" y=\"143.1\"/>\r\n     <use style=\"fill:#3f3f3f;stroke:#3f3f3f;stroke-linejoin:miter;\" x=\"544.682914\" xlink:href=\"#mb2a2870a0d\" y=\"143.1\"/>\r\n     <use style=\"fill:#3f3f3f;stroke:#3f3f3f;stroke-linejoin:miter;\" x=\"411.397529\" xlink:href=\"#mb2a2870a0d\" y=\"143.1\"/>\r\n     <use style=\"fill:#3f3f3f;stroke:#3f3f3f;stroke-linejoin:miter;\" x=\"438.680873\" xlink:href=\"#mb2a2870a0d\" y=\"143.1\"/>\r\n     <use style=\"fill:#3f3f3f;stroke:#3f3f3f;stroke-linejoin:miter;\" x=\"454.48272\" xlink:href=\"#mb2a2870a0d\" y=\"143.1\"/>\r\n     <use style=\"fill:#3f3f3f;stroke:#3f3f3f;stroke-linejoin:miter;\" x=\"582.367936\" xlink:href=\"#mb2a2870a0d\" y=\"143.1\"/>\r\n     <use style=\"fill:#3f3f3f;stroke:#3f3f3f;stroke-linejoin:miter;\" x=\"505.880671\" xlink:href=\"#mb2a2870a0d\" y=\"143.1\"/>\r\n     <use style=\"fill:#3f3f3f;stroke:#3f3f3f;stroke-linejoin:miter;\" x=\"481.338308\" xlink:href=\"#mb2a2870a0d\" y=\"143.1\"/>\r\n     <use style=\"fill:#3f3f3f;stroke:#3f3f3f;stroke-linejoin:miter;\" x=\"419.798431\" xlink:href=\"#mb2a2870a0d\" y=\"143.1\"/>\r\n     <use style=\"fill:#3f3f3f;stroke:#3f3f3f;stroke-linejoin:miter;\" x=\"481.02117\" xlink:href=\"#mb2a2870a0d\" y=\"143.1\"/>\r\n     <use style=\"fill:#3f3f3f;stroke:#3f3f3f;stroke-linejoin:miter;\" x=\"414.375117\" xlink:href=\"#mb2a2870a0d\" y=\"143.1\"/>\r\n     <use style=\"fill:#3f3f3f;stroke:#3f3f3f;stroke-linejoin:miter;\" x=\"405.630431\" xlink:href=\"#mb2a2870a0d\" y=\"143.1\"/>\r\n     <use style=\"fill:#3f3f3f;stroke:#3f3f3f;stroke-linejoin:miter;\" x=\"404.887377\" xlink:href=\"#mb2a2870a0d\" y=\"143.1\"/>\r\n     <use style=\"fill:#3f3f3f;stroke:#3f3f3f;stroke-linejoin:miter;\" x=\"501.973998\" xlink:href=\"#mb2a2870a0d\" y=\"143.1\"/>\r\n     <use style=\"fill:#3f3f3f;stroke:#3f3f3f;stroke-linejoin:miter;\" x=\"461.226601\" xlink:href=\"#mb2a2870a0d\" y=\"143.1\"/>\r\n     <use style=\"fill:#3f3f3f;stroke:#3f3f3f;stroke-linejoin:miter;\" x=\"555.391388\" xlink:href=\"#mb2a2870a0d\" y=\"143.1\"/>\r\n     <use style=\"fill:#3f3f3f;stroke:#3f3f3f;stroke-linejoin:miter;\" x=\"404.545611\" xlink:href=\"#mb2a2870a0d\" y=\"143.1\"/>\r\n     <use style=\"fill:#3f3f3f;stroke:#3f3f3f;stroke-linejoin:miter;\" x=\"476.51973\" xlink:href=\"#mb2a2870a0d\" y=\"143.1\"/>\r\n     <use style=\"fill:#3f3f3f;stroke:#3f3f3f;stroke-linejoin:miter;\" x=\"454.353823\" xlink:href=\"#mb2a2870a0d\" y=\"143.1\"/>\r\n     <use style=\"fill:#3f3f3f;stroke:#3f3f3f;stroke-linejoin:miter;\" x=\"467.700048\" xlink:href=\"#mb2a2870a0d\" y=\"143.1\"/>\r\n     <use style=\"fill:#3f3f3f;stroke:#3f3f3f;stroke-linejoin:miter;\" x=\"455.201992\" xlink:href=\"#mb2a2870a0d\" y=\"143.1\"/>\r\n     <use style=\"fill:#3f3f3f;stroke:#3f3f3f;stroke-linejoin:miter;\" x=\"404.839575\" xlink:href=\"#mb2a2870a0d\" y=\"143.1\"/>\r\n     <use style=\"fill:#3f3f3f;stroke:#3f3f3f;stroke-linejoin:miter;\" x=\"475.816615\" xlink:href=\"#mb2a2870a0d\" y=\"143.1\"/>\r\n     <use style=\"fill:#3f3f3f;stroke:#3f3f3f;stroke-linejoin:miter;\" x=\"405.707876\" xlink:href=\"#mb2a2870a0d\" y=\"143.1\"/>\r\n     <use style=\"fill:#3f3f3f;stroke:#3f3f3f;stroke-linejoin:miter;\" x=\"533.224903\" xlink:href=\"#mb2a2870a0d\" y=\"143.1\"/>\r\n     <use style=\"fill:#3f3f3f;stroke:#3f3f3f;stroke-linejoin:miter;\" x=\"403.246097\" xlink:href=\"#mb2a2870a0d\" y=\"143.1\"/>\r\n     <use style=\"fill:#3f3f3f;stroke:#3f3f3f;stroke-linejoin:miter;\" x=\"444.276257\" xlink:href=\"#mb2a2870a0d\" y=\"143.1\"/>\r\n     <use style=\"fill:#3f3f3f;stroke:#3f3f3f;stroke-linejoin:miter;\" x=\"487.796978\" xlink:href=\"#mb2a2870a0d\" y=\"143.1\"/>\r\n     <use style=\"fill:#3f3f3f;stroke:#3f3f3f;stroke-linejoin:miter;\" x=\"510.032452\" xlink:href=\"#mb2a2870a0d\" y=\"143.1\"/>\r\n     <use style=\"fill:#3f3f3f;stroke:#3f3f3f;stroke-linejoin:miter;\" x=\"410.119438\" xlink:href=\"#mb2a2870a0d\" y=\"143.1\"/>\r\n     <use style=\"fill:#3f3f3f;stroke:#3f3f3f;stroke-linejoin:miter;\" x=\"623.43345\" xlink:href=\"#mb2a2870a0d\" y=\"143.1\"/>\r\n     <use style=\"fill:#3f3f3f;stroke:#3f3f3f;stroke-linejoin:miter;\" x=\"429.308395\" xlink:href=\"#mb2a2870a0d\" y=\"143.1\"/>\r\n     <use style=\"fill:#3f3f3f;stroke:#3f3f3f;stroke-linejoin:miter;\" x=\"614.867674\" xlink:href=\"#mb2a2870a0d\" y=\"143.1\"/>\r\n     <use style=\"fill:#3f3f3f;stroke:#3f3f3f;stroke-linejoin:miter;\" x=\"402.854763\" xlink:href=\"#mb2a2870a0d\" y=\"143.1\"/>\r\n     <use style=\"fill:#3f3f3f;stroke:#3f3f3f;stroke-linejoin:miter;\" x=\"443.87215\" xlink:href=\"#mb2a2870a0d\" y=\"143.1\"/>\r\n     <use style=\"fill:#3f3f3f;stroke:#3f3f3f;stroke-linejoin:miter;\" x=\"455.205552\" xlink:href=\"#mb2a2870a0d\" y=\"143.1\"/>\r\n     <use style=\"fill:#3f3f3f;stroke:#3f3f3f;stroke-linejoin:miter;\" x=\"503.03287\" xlink:href=\"#mb2a2870a0d\" y=\"143.1\"/>\r\n     <use style=\"fill:#3f3f3f;stroke:#3f3f3f;stroke-linejoin:miter;\" x=\"445.304848\" xlink:href=\"#mb2a2870a0d\" y=\"143.1\"/>\r\n     <use style=\"fill:#3f3f3f;stroke:#3f3f3f;stroke-linejoin:miter;\" x=\"456.351824\" xlink:href=\"#mb2a2870a0d\" y=\"143.1\"/>\r\n     <use style=\"fill:#3f3f3f;stroke:#3f3f3f;stroke-linejoin:miter;\" x=\"419.767943\" xlink:href=\"#mb2a2870a0d\" y=\"143.1\"/>\r\n     <use style=\"fill:#3f3f3f;stroke:#3f3f3f;stroke-linejoin:miter;\" x=\"409.409276\" xlink:href=\"#mb2a2870a0d\" y=\"143.1\"/>\r\n     <use style=\"fill:#3f3f3f;stroke:#3f3f3f;stroke-linejoin:miter;\" x=\"566.068528\" xlink:href=\"#mb2a2870a0d\" y=\"143.1\"/>\r\n     <use style=\"fill:#3f3f3f;stroke:#3f3f3f;stroke-linejoin:miter;\" x=\"513.338438\" xlink:href=\"#mb2a2870a0d\" y=\"143.1\"/>\r\n     <use style=\"fill:#3f3f3f;stroke:#3f3f3f;stroke-linejoin:miter;\" x=\"406.185704\" xlink:href=\"#mb2a2870a0d\" y=\"143.1\"/>\r\n     <use style=\"fill:#3f3f3f;stroke:#3f3f3f;stroke-linejoin:miter;\" x=\"401.661224\" xlink:href=\"#mb2a2870a0d\" y=\"143.1\"/>\r\n     <use style=\"fill:#3f3f3f;stroke:#3f3f3f;stroke-linejoin:miter;\" x=\"474.971132\" xlink:href=\"#mb2a2870a0d\" y=\"143.1\"/>\r\n     <use style=\"fill:#3f3f3f;stroke:#3f3f3f;stroke-linejoin:miter;\" x=\"469.92835\" xlink:href=\"#mb2a2870a0d\" y=\"143.1\"/>\r\n     <use style=\"fill:#3f3f3f;stroke:#3f3f3f;stroke-linejoin:miter;\" x=\"456.900272\" xlink:href=\"#mb2a2870a0d\" y=\"143.1\"/>\r\n     <use style=\"fill:#3f3f3f;stroke:#3f3f3f;stroke-linejoin:miter;\" x=\"458.66174\" xlink:href=\"#mb2a2870a0d\" y=\"143.1\"/>\r\n     <use style=\"fill:#3f3f3f;stroke:#3f3f3f;stroke-linejoin:miter;\" x=\"543.706591\" xlink:href=\"#mb2a2870a0d\" y=\"143.1\"/>\r\n     <use style=\"fill:#3f3f3f;stroke:#3f3f3f;stroke-linejoin:miter;\" x=\"446.649197\" xlink:href=\"#mb2a2870a0d\" y=\"143.1\"/>\r\n     <use style=\"fill:#3f3f3f;stroke:#3f3f3f;stroke-linejoin:miter;\" x=\"453.201409\" xlink:href=\"#mb2a2870a0d\" y=\"143.1\"/>\r\n     <use style=\"fill:#3f3f3f;stroke:#3f3f3f;stroke-linejoin:miter;\" x=\"413.491119\" xlink:href=\"#mb2a2870a0d\" y=\"143.1\"/>\r\n     <use style=\"fill:#3f3f3f;stroke:#3f3f3f;stroke-linejoin:miter;\" x=\"406.73979\" xlink:href=\"#mb2a2870a0d\" y=\"143.1\"/>\r\n     <use style=\"fill:#3f3f3f;stroke:#3f3f3f;stroke-linejoin:miter;\" x=\"406.105351\" xlink:href=\"#mb2a2870a0d\" y=\"143.1\"/>\r\n     <use style=\"fill:#3f3f3f;stroke:#3f3f3f;stroke-linejoin:miter;\" x=\"428.950428\" xlink:href=\"#mb2a2870a0d\" y=\"143.1\"/>\r\n     <use style=\"fill:#3f3f3f;stroke:#3f3f3f;stroke-linejoin:miter;\" x=\"461.631939\" xlink:href=\"#mb2a2870a0d\" y=\"143.1\"/>\r\n     <use style=\"fill:#3f3f3f;stroke:#3f3f3f;stroke-linejoin:miter;\" x=\"435.524079\" xlink:href=\"#mb2a2870a0d\" y=\"143.1\"/>\r\n     <use style=\"fill:#3f3f3f;stroke:#3f3f3f;stroke-linejoin:miter;\" x=\"406.482798\" xlink:href=\"#mb2a2870a0d\" y=\"143.1\"/>\r\n     <use style=\"fill:#3f3f3f;stroke:#3f3f3f;stroke-linejoin:miter;\" x=\"472.153878\" xlink:href=\"#mb2a2870a0d\" y=\"143.1\"/>\r\n     <use style=\"fill:#3f3f3f;stroke:#3f3f3f;stroke-linejoin:miter;\" x=\"410.387097\" xlink:href=\"#mb2a2870a0d\" y=\"143.1\"/>\r\n     <use style=\"fill:#3f3f3f;stroke:#3f3f3f;stroke-linejoin:miter;\" x=\"568.065342\" xlink:href=\"#mb2a2870a0d\" y=\"143.1\"/>\r\n     <use style=\"fill:#3f3f3f;stroke:#3f3f3f;stroke-linejoin:miter;\" x=\"539.829116\" xlink:href=\"#mb2a2870a0d\" y=\"143.1\"/>\r\n     <use style=\"fill:#3f3f3f;stroke:#3f3f3f;stroke-linejoin:miter;\" x=\"401.907667\" xlink:href=\"#mb2a2870a0d\" y=\"143.1\"/>\r\n     <use style=\"fill:#3f3f3f;stroke:#3f3f3f;stroke-linejoin:miter;\" x=\"451.8951\" xlink:href=\"#mb2a2870a0d\" y=\"143.1\"/>\r\n     <use style=\"fill:#3f3f3f;stroke:#3f3f3f;stroke-linejoin:miter;\" x=\"464.967539\" xlink:href=\"#mb2a2870a0d\" y=\"143.1\"/>\r\n     <use style=\"fill:#3f3f3f;stroke:#3f3f3f;stroke-linejoin:miter;\" x=\"432.779478\" xlink:href=\"#mb2a2870a0d\" y=\"143.1\"/>\r\n     <use style=\"fill:#3f3f3f;stroke:#3f3f3f;stroke-linejoin:miter;\" x=\"408.363697\" xlink:href=\"#mb2a2870a0d\" y=\"143.1\"/>\r\n     <use style=\"fill:#3f3f3f;stroke:#3f3f3f;stroke-linejoin:miter;\" x=\"568.413191\" xlink:href=\"#mb2a2870a0d\" y=\"143.1\"/>\r\n     <use style=\"fill:#3f3f3f;stroke:#3f3f3f;stroke-linejoin:miter;\" x=\"411.460449\" xlink:href=\"#mb2a2870a0d\" y=\"143.1\"/>\r\n     <use style=\"fill:#3f3f3f;stroke:#3f3f3f;stroke-linejoin:miter;\" x=\"472.007505\" xlink:href=\"#mb2a2870a0d\" y=\"143.1\"/>\r\n     <use style=\"fill:#3f3f3f;stroke:#3f3f3f;stroke-linejoin:miter;\" x=\"467.893511\" xlink:href=\"#mb2a2870a0d\" y=\"143.1\"/>\r\n     <use style=\"fill:#3f3f3f;stroke:#3f3f3f;stroke-linejoin:miter;\" x=\"405.015279\" xlink:href=\"#mb2a2870a0d\" y=\"143.1\"/>\r\n     <use style=\"fill:#3f3f3f;stroke:#3f3f3f;stroke-linejoin:miter;\" x=\"403.609242\" xlink:href=\"#mb2a2870a0d\" y=\"143.1\"/>\r\n     <use style=\"fill:#3f3f3f;stroke:#3f3f3f;stroke-linejoin:miter;\" x=\"500.057878\" xlink:href=\"#mb2a2870a0d\" y=\"143.1\"/>\r\n     <use style=\"fill:#3f3f3f;stroke:#3f3f3f;stroke-linejoin:miter;\" x=\"443.899656\" xlink:href=\"#mb2a2870a0d\" y=\"143.1\"/>\r\n     <use style=\"fill:#3f3f3f;stroke:#3f3f3f;stroke-linejoin:miter;\" x=\"434.423458\" xlink:href=\"#mb2a2870a0d\" y=\"143.1\"/>\r\n     <use style=\"fill:#3f3f3f;stroke:#3f3f3f;stroke-linejoin:miter;\" x=\"405.476907\" xlink:href=\"#mb2a2870a0d\" y=\"143.1\"/>\r\n     <use style=\"fill:#3f3f3f;stroke:#3f3f3f;stroke-linejoin:miter;\" x=\"452.431442\" xlink:href=\"#mb2a2870a0d\" y=\"143.1\"/>\r\n     <use style=\"fill:#3f3f3f;stroke:#3f3f3f;stroke-linejoin:miter;\" x=\"513.850909\" xlink:href=\"#mb2a2870a0d\" y=\"143.1\"/>\r\n     <use style=\"fill:#3f3f3f;stroke:#3f3f3f;stroke-linejoin:miter;\" x=\"446.414815\" xlink:href=\"#mb2a2870a0d\" y=\"143.1\"/>\r\n     <use style=\"fill:#3f3f3f;stroke:#3f3f3f;stroke-linejoin:miter;\" x=\"406.329496\" xlink:href=\"#mb2a2870a0d\" y=\"143.1\"/>\r\n     <use style=\"fill:#3f3f3f;stroke:#3f3f3f;stroke-linejoin:miter;\" x=\"430.199648\" xlink:href=\"#mb2a2870a0d\" y=\"143.1\"/>\r\n     <use style=\"fill:#3f3f3f;stroke:#3f3f3f;stroke-linejoin:miter;\" x=\"431.356587\" xlink:href=\"#mb2a2870a0d\" y=\"143.1\"/>\r\n     <use style=\"fill:#3f3f3f;stroke:#3f3f3f;stroke-linejoin:miter;\" x=\"464.784134\" xlink:href=\"#mb2a2870a0d\" y=\"143.1\"/>\r\n     <use style=\"fill:#3f3f3f;stroke:#3f3f3f;stroke-linejoin:miter;\" x=\"464.856164\" xlink:href=\"#mb2a2870a0d\" y=\"143.1\"/>\r\n    </g>\r\n   </g>\r\n   <g id=\"line2d_14\">\r\n    <path clip-path=\"url(#p31d11b7817)\" d=\"M 158.842501 34.38 \r\nL 158.842501 251.82 \r\n\" style=\"fill:none;stroke:#3f3f3f;stroke-linecap:square;stroke-width:1.5;\"/>\r\n   </g>\r\n   <g id=\"patch_4\">\r\n    <path d=\"M 10.7 279 \r\nL 10.7 7.2 \r\n\" style=\"fill:none;stroke:#000000;stroke-linecap:square;stroke-linejoin:miter;stroke-width:0.8;\"/>\r\n   </g>\r\n   <g id=\"patch_5\">\r\n    <path d=\"M 1015.1 279 \r\nL 1015.1 7.2 \r\n\" style=\"fill:none;stroke:#000000;stroke-linecap:square;stroke-linejoin:miter;stroke-width:0.8;\"/>\r\n   </g>\r\n   <g id=\"patch_6\">\r\n    <path d=\"M 10.7 279 \r\nL 1015.1 279 \r\n\" style=\"fill:none;stroke:#000000;stroke-linecap:square;stroke-linejoin:miter;stroke-width:0.8;\"/>\r\n   </g>\r\n   <g id=\"patch_7\">\r\n    <path d=\"M 10.7 7.2 \r\nL 1015.1 7.2 \r\n\" style=\"fill:none;stroke:#000000;stroke-linecap:square;stroke-linejoin:miter;stroke-width:0.8;\"/>\r\n   </g>\r\n  </g>\r\n </g>\r\n <defs>\r\n  <clipPath id=\"p31d11b7817\">\r\n   <rect height=\"271.8\" width=\"1004.4\" x=\"10.7\" y=\"7.2\"/>\r\n  </clipPath>\r\n </defs>\r\n</svg>\r\n",
      "image/png": "[encoded data removed]"
     },
     "metadata": {
      "needs_background": "light"
     }
    }
   ],
   "source": [
    "st = 'Loan Amount Request (USD)'\n",
    "plt.figure(figsize=(18,5))\n",
    "sns.boxplot(st,data=train)\n",
    "train[st].describe()"
   ]
  },
  {
   "cell_type": "code",
   "execution_count": 380,
   "metadata": {},
   "outputs": [
    {
     "output_type": "execute_result",
     "data": {
      "text/plain": [
       "count     20000.000000\n",
       "mean      88859.076706\n",
       "std       60007.333673\n",
       "min        6185.480000\n",
       "25%       40889.030000\n",
       "50%       74565.990000\n",
       "75%      120068.852500\n",
       "max      576335.680000\n",
       "Name: Loan Amount Request (USD), dtype: float64"
      ]
     },
     "metadata": {},
     "execution_count": 380
    },
    {
     "output_type": "display_data",
     "data": {
      "text/plain": "<Figure size 1296x360 with 1 Axes>",
      "image/svg+xml": "<?xml version=\"1.0\" encoding=\"utf-8\" standalone=\"no\"?>\r\n<!DOCTYPE svg PUBLIC \"-//W3C//DTD SVG 1.1//EN\"\r\n  \"http://www.w3.org/Graphics/SVG/1.1/DTD/svg11.dtd\">\r\n<svg height=\"316.55625pt\" version=\"1.1\" viewBox=\"0 0 1033.631171 316.55625\" width=\"1033.631171pt\" xmlns=\"http://www.w3.org/2000/svg\" xmlns:xlink=\"http://www.w3.org/1999/xlink\">\r\n <metadata>\r\n  <rdf:RDF xmlns:cc=\"http://creativecommons.org/ns#\" xmlns:dc=\"http://purl.org/dc/elements/1.1/\" xmlns:rdf=\"http://www.w3.org/1999/02/22-rdf-syntax-ns#\">\r\n   <cc:Work>\r\n    <dc:type rdf:resource=\"http://purl.org/dc/dcmitype/StillImage\"/>\r\n    <dc:date>2021-06-26T14:20:12.345375</dc:date>\r\n    <dc:format>image/svg+xml</dc:format>\r\n    <dc:creator>\r\n     <cc:Agent>\r\n      <dc:title>Matplotlib v3.4.1, https://matplotlib.org/</dc:title>\r\n     </cc:Agent>\r\n    </dc:creator>\r\n   </cc:Work>\r\n  </rdf:RDF>\r\n </metadata>\r\n <defs>\r\n  <style type=\"text/css\">*{stroke-linecap:butt;stroke-linejoin:round;}</style>\r\n </defs>\r\n <g id=\"figure_1\">\r\n  <g id=\"patch_1\">\r\n   <path d=\"M 0 316.55625 \r\nL 1033.631171 316.55625 \r\nL 1033.631171 0 \r\nL 0 0 \r\nz\r\n\" style=\"fill:none;\"/>\r\n  </g>\r\n  <g id=\"axes_1\">\r\n   <g id=\"patch_2\">\r\n    <path d=\"M 10.7 279 \r\nL 1015.1 279 \r\nL 1015.1 7.2 \r\nL 10.7 7.2 \r\nz\r\n\" style=\"fill:#ffffff;\"/>\r\n   </g>\r\n   <g id=\"patch_3\">\r\n    <path clip-path=\"url(#pbf8a8a4891)\" d=\"M 111.931999 34.38 \r\nL 111.931999 251.82 \r\nL 238.73784 251.82 \r\nL 238.73784 34.38 \r\nL 111.931999 34.38 \r\nz\r\n\" style=\"fill:#3274a1;stroke:#3f3f3f;stroke-linejoin:miter;stroke-width:1.5;\"/>\r\n   </g>\r\n   <g id=\"matplotlib.axis_1\">\r\n    <g id=\"xtick_1\">\r\n     <g id=\"line2d_1\">\r\n      <defs>\r\n       <path d=\"M 0 0 \r\nL 0 3.5 \r\n\" id=\"m4893be018c\" style=\"stroke:#000000;stroke-width:0.8;\"/>\r\n      </defs>\r\n      <g>\r\n       <use style=\"stroke:#000000;stroke-width:0.8;\" x=\"46.44855\" xlink:href=\"#m4893be018c\" y=\"279\"/>\r\n      </g>\r\n     </g>\r\n     <g id=\"text_1\">\r\n      <!-- 0 -->\r\n      <g transform=\"translate(43.2673 293.598437)scale(0.1 -0.1)\">\r\n       <defs>\r\n        <path d=\"M 2034 4250 \r\nQ 1547 4250 1301 3770 \r\nQ 1056 3291 1056 2328 \r\nQ 1056 1369 1301 889 \r\nQ 1547 409 2034 409 \r\nQ 2525 409 2770 889 \r\nQ 3016 1369 3016 2328 \r\nQ 3016 3291 2770 3770 \r\nQ 2525 4250 2034 4250 \r\nz\r\nM 2034 4750 \r\nQ 2819 4750 3233 4129 \r\nQ 3647 3509 3647 2328 \r\nQ 3647 1150 3233 529 \r\nQ 2819 -91 2034 -91 \r\nQ 1250 -91 836 529 \r\nQ 422 1150 422 2328 \r\nQ 422 3509 836 4129 \r\nQ 1250 4750 2034 4750 \r\nz\r\n\" id=\"DejaVuSans-30\" transform=\"scale(0.015625)\"/>\r\n       </defs>\r\n       <use xlink:href=\"#DejaVuSans-30\"/>\r\n      </g>\r\n     </g>\r\n    </g>\r\n    <g id=\"xtick_2\">\r\n     <g id=\"line2d_2\">\r\n      <g>\r\n       <use style=\"stroke:#000000;stroke-width:0.8;\" x=\"206.597736\" xlink:href=\"#m4893be018c\" y=\"279\"/>\r\n      </g>\r\n     </g>\r\n     <g id=\"text_2\">\r\n      <!-- 100000 -->\r\n      <g transform=\"translate(187.510236 293.598437)scale(0.1 -0.1)\">\r\n       <defs>\r\n        <path d=\"M 794 531 \r\nL 1825 531 \r\nL 1825 4091 \r\nL 703 3866 \r\nL 703 4441 \r\nL 1819 4666 \r\nL 2450 4666 \r\nL 2450 531 \r\nL 3481 531 \r\nL 3481 0 \r\nL 794 0 \r\nL 794 531 \r\nz\r\n\" id=\"DejaVuSans-31\" transform=\"scale(0.015625)\"/>\r\n       </defs>\r\n       <use xlink:href=\"#DejaVuSans-31\"/>\r\n       <use x=\"63.623047\" xlink:href=\"#DejaVuSans-30\"/>\r\n       <use x=\"127.246094\" xlink:href=\"#DejaVuSans-30\"/>\r\n       <use x=\"190.869141\" xlink:href=\"#DejaVuSans-30\"/>\r\n       <use x=\"254.492188\" xlink:href=\"#DejaVuSans-30\"/>\r\n       <use x=\"318.115234\" xlink:href=\"#DejaVuSans-30\"/>\r\n      </g>\r\n     </g>\r\n    </g>\r\n    <g id=\"xtick_3\">\r\n     <g id=\"line2d_3\">\r\n      <g>\r\n       <use style=\"stroke:#000000;stroke-width:0.8;\" x=\"366.746923\" xlink:href=\"#m4893be018c\" y=\"279\"/>\r\n      </g>\r\n     </g>\r\n     <g id=\"text_3\">\r\n      <!-- 200000 -->\r\n      <g transform=\"translate(347.659423 293.598437)scale(0.1 -0.1)\">\r\n       <defs>\r\n        <path d=\"M 1228 531 \r\nL 3431 531 \r\nL 3431 0 \r\nL 469 0 \r\nL 469 531 \r\nQ 828 903 1448 1529 \r\nQ 2069 2156 2228 2338 \r\nQ 2531 2678 2651 2914 \r\nQ 2772 3150 2772 3378 \r\nQ 2772 3750 2511 3984 \r\nQ 2250 4219 1831 4219 \r\nQ 1534 4219 1204 4116 \r\nQ 875 4013 500 3803 \r\nL 500 4441 \r\nQ 881 4594 1212 4672 \r\nQ 1544 4750 1819 4750 \r\nQ 2544 4750 2975 4387 \r\nQ 3406 4025 3406 3419 \r\nQ 3406 3131 3298 2873 \r\nQ 3191 2616 2906 2266 \r\nQ 2828 2175 2409 1742 \r\nQ 1991 1309 1228 531 \r\nz\r\n\" id=\"DejaVuSans-32\" transform=\"scale(0.015625)\"/>\r\n       </defs>\r\n       <use xlink:href=\"#DejaVuSans-32\"/>\r\n       <use x=\"63.623047\" xlink:href=\"#DejaVuSans-30\"/>\r\n       <use x=\"127.246094\" xlink:href=\"#DejaVuSans-30\"/>\r\n       <use x=\"190.869141\" xlink:href=\"#DejaVuSans-30\"/>\r\n       <use x=\"254.492188\" xlink:href=\"#DejaVuSans-30\"/>\r\n       <use x=\"318.115234\" xlink:href=\"#DejaVuSans-30\"/>\r\n      </g>\r\n     </g>\r\n    </g>\r\n    <g id=\"xtick_4\">\r\n     <g id=\"line2d_4\">\r\n      <g>\r\n       <use style=\"stroke:#000000;stroke-width:0.8;\" x=\"526.89611\" xlink:href=\"#m4893be018c\" y=\"279\"/>\r\n      </g>\r\n     </g>\r\n     <g id=\"text_4\">\r\n      <!-- 300000 -->\r\n      <g transform=\"translate(507.80861 293.598437)scale(0.1 -0.1)\">\r\n       <defs>\r\n        <path d=\"M 2597 2516 \r\nQ 3050 2419 3304 2112 \r\nQ 3559 1806 3559 1356 \r\nQ 3559 666 3084 287 \r\nQ 2609 -91 1734 -91 \r\nQ 1441 -91 1130 -33 \r\nQ 819 25 488 141 \r\nL 488 750 \r\nQ 750 597 1062 519 \r\nQ 1375 441 1716 441 \r\nQ 2309 441 2620 675 \r\nQ 2931 909 2931 1356 \r\nQ 2931 1769 2642 2001 \r\nQ 2353 2234 1838 2234 \r\nL 1294 2234 \r\nL 1294 2753 \r\nL 1863 2753 \r\nQ 2328 2753 2575 2939 \r\nQ 2822 3125 2822 3475 \r\nQ 2822 3834 2567 4026 \r\nQ 2313 4219 1838 4219 \r\nQ 1578 4219 1281 4162 \r\nQ 984 4106 628 3988 \r\nL 628 4550 \r\nQ 988 4650 1302 4700 \r\nQ 1616 4750 1894 4750 \r\nQ 2613 4750 3031 4423 \r\nQ 3450 4097 3450 3541 \r\nQ 3450 3153 3228 2886 \r\nQ 3006 2619 2597 2516 \r\nz\r\n\" id=\"DejaVuSans-33\" transform=\"scale(0.015625)\"/>\r\n       </defs>\r\n       <use xlink:href=\"#DejaVuSans-33\"/>\r\n       <use x=\"63.623047\" xlink:href=\"#DejaVuSans-30\"/>\r\n       <use x=\"127.246094\" xlink:href=\"#DejaVuSans-30\"/>\r\n       <use x=\"190.869141\" xlink:href=\"#DejaVuSans-30\"/>\r\n       <use x=\"254.492188\" xlink:href=\"#DejaVuSans-30\"/>\r\n       <use x=\"318.115234\" xlink:href=\"#DejaVuSans-30\"/>\r\n      </g>\r\n     </g>\r\n    </g>\r\n    <g id=\"xtick_5\">\r\n     <g id=\"line2d_5\">\r\n      <g>\r\n       <use style=\"stroke:#000000;stroke-width:0.8;\" x=\"687.045297\" xlink:href=\"#m4893be018c\" y=\"279\"/>\r\n      </g>\r\n     </g>\r\n     <g id=\"text_5\">\r\n      <!-- 400000 -->\r\n      <g transform=\"translate(667.957797 293.598437)scale(0.1 -0.1)\">\r\n       <defs>\r\n        <path d=\"M 2419 4116 \r\nL 825 1625 \r\nL 2419 1625 \r\nL 2419 4116 \r\nz\r\nM 2253 4666 \r\nL 3047 4666 \r\nL 3047 1625 \r\nL 3713 1625 \r\nL 3713 1100 \r\nL 3047 1100 \r\nL 3047 0 \r\nL 2419 0 \r\nL 2419 1100 \r\nL 313 1100 \r\nL 313 1709 \r\nL 2253 4666 \r\nz\r\n\" id=\"DejaVuSans-34\" transform=\"scale(0.015625)\"/>\r\n       </defs>\r\n       <use xlink:href=\"#DejaVuSans-34\"/>\r\n       <use x=\"63.623047\" xlink:href=\"#DejaVuSans-30\"/>\r\n       <use x=\"127.246094\" xlink:href=\"#DejaVuSans-30\"/>\r\n       <use x=\"190.869141\" xlink:href=\"#DejaVuSans-30\"/>\r\n       <use x=\"254.492188\" xlink:href=\"#DejaVuSans-30\"/>\r\n       <use x=\"318.115234\" xlink:href=\"#DejaVuSans-30\"/>\r\n      </g>\r\n     </g>\r\n    </g>\r\n    <g id=\"xtick_6\">\r\n     <g id=\"line2d_6\">\r\n      <g>\r\n       <use style=\"stroke:#000000;stroke-width:0.8;\" x=\"847.194484\" xlink:href=\"#m4893be018c\" y=\"279\"/>\r\n      </g>\r\n     </g>\r\n     <g id=\"text_6\">\r\n      <!-- 500000 -->\r\n      <g transform=\"translate(828.106984 293.598437)scale(0.1 -0.1)\">\r\n       <defs>\r\n        <path d=\"M 691 4666 \r\nL 3169 4666 \r\nL 3169 4134 \r\nL 1269 4134 \r\nL 1269 2991 \r\nQ 1406 3038 1543 3061 \r\nQ 1681 3084 1819 3084 \r\nQ 2600 3084 3056 2656 \r\nQ 3513 2228 3513 1497 \r\nQ 3513 744 3044 326 \r\nQ 2575 -91 1722 -91 \r\nQ 1428 -91 1123 -41 \r\nQ 819 9 494 109 \r\nL 494 744 \r\nQ 775 591 1075 516 \r\nQ 1375 441 1709 441 \r\nQ 2250 441 2565 725 \r\nQ 2881 1009 2881 1497 \r\nQ 2881 1984 2565 2268 \r\nQ 2250 2553 1709 2553 \r\nQ 1456 2553 1204 2497 \r\nQ 953 2441 691 2322 \r\nL 691 4666 \r\nz\r\n\" id=\"DejaVuSans-35\" transform=\"scale(0.015625)\"/>\r\n       </defs>\r\n       <use xlink:href=\"#DejaVuSans-35\"/>\r\n       <use x=\"63.623047\" xlink:href=\"#DejaVuSans-30\"/>\r\n       <use x=\"127.246094\" xlink:href=\"#DejaVuSans-30\"/>\r\n       <use x=\"190.869141\" xlink:href=\"#DejaVuSans-30\"/>\r\n       <use x=\"254.492188\" xlink:href=\"#DejaVuSans-30\"/>\r\n       <use x=\"318.115234\" xlink:href=\"#DejaVuSans-30\"/>\r\n      </g>\r\n     </g>\r\n    </g>\r\n    <g id=\"xtick_7\">\r\n     <g id=\"line2d_7\">\r\n      <g>\r\n       <use style=\"stroke:#000000;stroke-width:0.8;\" x=\"1007.343671\" xlink:href=\"#m4893be018c\" y=\"279\"/>\r\n      </g>\r\n     </g>\r\n     <g id=\"text_7\">\r\n      <!-- 600000 -->\r\n      <g transform=\"translate(988.256171 293.598437)scale(0.1 -0.1)\">\r\n       <defs>\r\n        <path d=\"M 2113 2584 \r\nQ 1688 2584 1439 2293 \r\nQ 1191 2003 1191 1497 \r\nQ 1191 994 1439 701 \r\nQ 1688 409 2113 409 \r\nQ 2538 409 2786 701 \r\nQ 3034 994 3034 1497 \r\nQ 3034 2003 2786 2293 \r\nQ 2538 2584 2113 2584 \r\nz\r\nM 3366 4563 \r\nL 3366 3988 \r\nQ 3128 4100 2886 4159 \r\nQ 2644 4219 2406 4219 \r\nQ 1781 4219 1451 3797 \r\nQ 1122 3375 1075 2522 \r\nQ 1259 2794 1537 2939 \r\nQ 1816 3084 2150 3084 \r\nQ 2853 3084 3261 2657 \r\nQ 3669 2231 3669 1497 \r\nQ 3669 778 3244 343 \r\nQ 2819 -91 2113 -91 \r\nQ 1303 -91 875 529 \r\nQ 447 1150 447 2328 \r\nQ 447 3434 972 4092 \r\nQ 1497 4750 2381 4750 \r\nQ 2619 4750 2861 4703 \r\nQ 3103 4656 3366 4563 \r\nz\r\n\" id=\"DejaVuSans-36\" transform=\"scale(0.015625)\"/>\r\n       </defs>\r\n       <use xlink:href=\"#DejaVuSans-36\"/>\r\n       <use x=\"63.623047\" xlink:href=\"#DejaVuSans-30\"/>\r\n       <use x=\"127.246094\" xlink:href=\"#DejaVuSans-30\"/>\r\n       <use x=\"190.869141\" xlink:href=\"#DejaVuSans-30\"/>\r\n       <use x=\"254.492188\" xlink:href=\"#DejaVuSans-30\"/>\r\n       <use x=\"318.115234\" xlink:href=\"#DejaVuSans-30\"/>\r\n      </g>\r\n     </g>\r\n    </g>\r\n    <g id=\"text_8\">\r\n     <!-- Loan Amount Request (USD) -->\r\n     <g transform=\"translate(441.599219 307.276562)scale(0.1 -0.1)\">\r\n      <defs>\r\n       <path d=\"M 628 4666 \r\nL 1259 4666 \r\nL 1259 531 \r\nL 3531 531 \r\nL 3531 0 \r\nL 628 0 \r\nL 628 4666 \r\nz\r\n\" id=\"DejaVuSans-4c\" transform=\"scale(0.015625)\"/>\r\n       <path d=\"M 1959 3097 \r\nQ 1497 3097 1228 2736 \r\nQ 959 2375 959 1747 \r\nQ 959 1119 1226 758 \r\nQ 1494 397 1959 397 \r\nQ 2419 397 2687 759 \r\nQ 2956 1122 2956 1747 \r\nQ 2956 2369 2687 2733 \r\nQ 2419 3097 1959 3097 \r\nz\r\nM 1959 3584 \r\nQ 2709 3584 3137 3096 \r\nQ 3566 2609 3566 1747 \r\nQ 3566 888 3137 398 \r\nQ 2709 -91 1959 -91 \r\nQ 1206 -91 779 398 \r\nQ 353 888 353 1747 \r\nQ 353 2609 779 3096 \r\nQ 1206 3584 1959 3584 \r\nz\r\n\" id=\"DejaVuSans-6f\" transform=\"scale(0.015625)\"/>\r\n       <path d=\"M 2194 1759 \r\nQ 1497 1759 1228 1600 \r\nQ 959 1441 959 1056 \r\nQ 959 750 1161 570 \r\nQ 1363 391 1709 391 \r\nQ 2188 391 2477 730 \r\nQ 2766 1069 2766 1631 \r\nL 2766 1759 \r\nL 2194 1759 \r\nz\r\nM 3341 1997 \r\nL 3341 0 \r\nL 2766 0 \r\nL 2766 531 \r\nQ 2569 213 2275 61 \r\nQ 1981 -91 1556 -91 \r\nQ 1019 -91 701 211 \r\nQ 384 513 384 1019 \r\nQ 384 1609 779 1909 \r\nQ 1175 2209 1959 2209 \r\nL 2766 2209 \r\nL 2766 2266 \r\nQ 2766 2663 2505 2880 \r\nQ 2244 3097 1772 3097 \r\nQ 1472 3097 1187 3025 \r\nQ 903 2953 641 2809 \r\nL 641 3341 \r\nQ 956 3463 1253 3523 \r\nQ 1550 3584 1831 3584 \r\nQ 2591 3584 2966 3190 \r\nQ 3341 2797 3341 1997 \r\nz\r\n\" id=\"DejaVuSans-61\" transform=\"scale(0.015625)\"/>\r\n       <path d=\"M 3513 2113 \r\nL 3513 0 \r\nL 2938 0 \r\nL 2938 2094 \r\nQ 2938 2591 2744 2837 \r\nQ 2550 3084 2163 3084 \r\nQ 1697 3084 1428 2787 \r\nQ 1159 2491 1159 1978 \r\nL 1159 0 \r\nL 581 0 \r\nL 581 3500 \r\nL 1159 3500 \r\nL 1159 2956 \r\nQ 1366 3272 1645 3428 \r\nQ 1925 3584 2291 3584 \r\nQ 2894 3584 3203 3211 \r\nQ 3513 2838 3513 2113 \r\nz\r\n\" id=\"DejaVuSans-6e\" transform=\"scale(0.015625)\"/>\r\n       <path id=\"DejaVuSans-20\" transform=\"scale(0.015625)\"/>\r\n       <path d=\"M 2188 4044 \r\nL 1331 1722 \r\nL 3047 1722 \r\nL 2188 4044 \r\nz\r\nM 1831 4666 \r\nL 2547 4666 \r\nL 4325 0 \r\nL 3669 0 \r\nL 3244 1197 \r\nL 1141 1197 \r\nL 716 0 \r\nL 50 0 \r\nL 1831 4666 \r\nz\r\n\" id=\"DejaVuSans-41\" transform=\"scale(0.015625)\"/>\r\n       <path d=\"M 3328 2828 \r\nQ 3544 3216 3844 3400 \r\nQ 4144 3584 4550 3584 \r\nQ 5097 3584 5394 3201 \r\nQ 5691 2819 5691 2113 \r\nL 5691 0 \r\nL 5113 0 \r\nL 5113 2094 \r\nQ 5113 2597 4934 2840 \r\nQ 4756 3084 4391 3084 \r\nQ 3944 3084 3684 2787 \r\nQ 3425 2491 3425 1978 \r\nL 3425 0 \r\nL 2847 0 \r\nL 2847 2094 \r\nQ 2847 2600 2669 2842 \r\nQ 2491 3084 2119 3084 \r\nQ 1678 3084 1418 2786 \r\nQ 1159 2488 1159 1978 \r\nL 1159 0 \r\nL 581 0 \r\nL 581 3500 \r\nL 1159 3500 \r\nL 1159 2956 \r\nQ 1356 3278 1631 3431 \r\nQ 1906 3584 2284 3584 \r\nQ 2666 3584 2933 3390 \r\nQ 3200 3197 3328 2828 \r\nz\r\n\" id=\"DejaVuSans-6d\" transform=\"scale(0.015625)\"/>\r\n       <path d=\"M 544 1381 \r\nL 544 3500 \r\nL 1119 3500 \r\nL 1119 1403 \r\nQ 1119 906 1312 657 \r\nQ 1506 409 1894 409 \r\nQ 2359 409 2629 706 \r\nQ 2900 1003 2900 1516 \r\nL 2900 3500 \r\nL 3475 3500 \r\nL 3475 0 \r\nL 2900 0 \r\nL 2900 538 \r\nQ 2691 219 2414 64 \r\nQ 2138 -91 1772 -91 \r\nQ 1169 -91 856 284 \r\nQ 544 659 544 1381 \r\nz\r\nM 1991 3584 \r\nL 1991 3584 \r\nz\r\n\" id=\"DejaVuSans-75\" transform=\"scale(0.015625)\"/>\r\n       <path d=\"M 1172 4494 \r\nL 1172 3500 \r\nL 2356 3500 \r\nL 2356 3053 \r\nL 1172 3053 \r\nL 1172 1153 \r\nQ 1172 725 1289 603 \r\nQ 1406 481 1766 481 \r\nL 2356 481 \r\nL 2356 0 \r\nL 1766 0 \r\nQ 1100 0 847 248 \r\nQ 594 497 594 1153 \r\nL 594 3053 \r\nL 172 3053 \r\nL 172 3500 \r\nL 594 3500 \r\nL 594 4494 \r\nL 1172 4494 \r\nz\r\n\" id=\"DejaVuSans-74\" transform=\"scale(0.015625)\"/>\r\n       <path d=\"M 2841 2188 \r\nQ 3044 2119 3236 1894 \r\nQ 3428 1669 3622 1275 \r\nL 4263 0 \r\nL 3584 0 \r\nL 2988 1197 \r\nQ 2756 1666 2539 1819 \r\nQ 2322 1972 1947 1972 \r\nL 1259 1972 \r\nL 1259 0 \r\nL 628 0 \r\nL 628 4666 \r\nL 2053 4666 \r\nQ 2853 4666 3247 4331 \r\nQ 3641 3997 3641 3322 \r\nQ 3641 2881 3436 2590 \r\nQ 3231 2300 2841 2188 \r\nz\r\nM 1259 4147 \r\nL 1259 2491 \r\nL 2053 2491 \r\nQ 2509 2491 2742 2702 \r\nQ 2975 2913 2975 3322 \r\nQ 2975 3731 2742 3939 \r\nQ 2509 4147 2053 4147 \r\nL 1259 4147 \r\nz\r\n\" id=\"DejaVuSans-52\" transform=\"scale(0.015625)\"/>\r\n       <path d=\"M 3597 1894 \r\nL 3597 1613 \r\nL 953 1613 \r\nQ 991 1019 1311 708 \r\nQ 1631 397 2203 397 \r\nQ 2534 397 2845 478 \r\nQ 3156 559 3463 722 \r\nL 3463 178 \r\nQ 3153 47 2828 -22 \r\nQ 2503 -91 2169 -91 \r\nQ 1331 -91 842 396 \r\nQ 353 884 353 1716 \r\nQ 353 2575 817 3079 \r\nQ 1281 3584 2069 3584 \r\nQ 2775 3584 3186 3129 \r\nQ 3597 2675 3597 1894 \r\nz\r\nM 3022 2063 \r\nQ 3016 2534 2758 2815 \r\nQ 2500 3097 2075 3097 \r\nQ 1594 3097 1305 2825 \r\nQ 1016 2553 972 2059 \r\nL 3022 2063 \r\nz\r\n\" id=\"DejaVuSans-65\" transform=\"scale(0.015625)\"/>\r\n       <path d=\"M 947 1747 \r\nQ 947 1113 1208 752 \r\nQ 1469 391 1925 391 \r\nQ 2381 391 2643 752 \r\nQ 2906 1113 2906 1747 \r\nQ 2906 2381 2643 2742 \r\nQ 2381 3103 1925 3103 \r\nQ 1469 3103 1208 2742 \r\nQ 947 2381 947 1747 \r\nz\r\nM 2906 525 \r\nQ 2725 213 2448 61 \r\nQ 2172 -91 1784 -91 \r\nQ 1150 -91 751 415 \r\nQ 353 922 353 1747 \r\nQ 353 2572 751 3078 \r\nQ 1150 3584 1784 3584 \r\nQ 2172 3584 2448 3432 \r\nQ 2725 3281 2906 2969 \r\nL 2906 3500 \r\nL 3481 3500 \r\nL 3481 -1331 \r\nL 2906 -1331 \r\nL 2906 525 \r\nz\r\n\" id=\"DejaVuSans-71\" transform=\"scale(0.015625)\"/>\r\n       <path d=\"M 2834 3397 \r\nL 2834 2853 \r\nQ 2591 2978 2328 3040 \r\nQ 2066 3103 1784 3103 \r\nQ 1356 3103 1142 2972 \r\nQ 928 2841 928 2578 \r\nQ 928 2378 1081 2264 \r\nQ 1234 2150 1697 2047 \r\nL 1894 2003 \r\nQ 2506 1872 2764 1633 \r\nQ 3022 1394 3022 966 \r\nQ 3022 478 2636 193 \r\nQ 2250 -91 1575 -91 \r\nQ 1294 -91 989 -36 \r\nQ 684 19 347 128 \r\nL 347 722 \r\nQ 666 556 975 473 \r\nQ 1284 391 1588 391 \r\nQ 1994 391 2212 530 \r\nQ 2431 669 2431 922 \r\nQ 2431 1156 2273 1281 \r\nQ 2116 1406 1581 1522 \r\nL 1381 1569 \r\nQ 847 1681 609 1914 \r\nQ 372 2147 372 2553 \r\nQ 372 3047 722 3315 \r\nQ 1072 3584 1716 3584 \r\nQ 2034 3584 2315 3537 \r\nQ 2597 3491 2834 3397 \r\nz\r\n\" id=\"DejaVuSans-73\" transform=\"scale(0.015625)\"/>\r\n       <path d=\"M 1984 4856 \r\nQ 1566 4138 1362 3434 \r\nQ 1159 2731 1159 2009 \r\nQ 1159 1288 1364 580 \r\nQ 1569 -128 1984 -844 \r\nL 1484 -844 \r\nQ 1016 -109 783 600 \r\nQ 550 1309 550 2009 \r\nQ 550 2706 781 3412 \r\nQ 1013 4119 1484 4856 \r\nL 1984 4856 \r\nz\r\n\" id=\"DejaVuSans-28\" transform=\"scale(0.015625)\"/>\r\n       <path d=\"M 556 4666 \r\nL 1191 4666 \r\nL 1191 1831 \r\nQ 1191 1081 1462 751 \r\nQ 1734 422 2344 422 \r\nQ 2950 422 3222 751 \r\nQ 3494 1081 3494 1831 \r\nL 3494 4666 \r\nL 4128 4666 \r\nL 4128 1753 \r\nQ 4128 841 3676 375 \r\nQ 3225 -91 2344 -91 \r\nQ 1459 -91 1007 375 \r\nQ 556 841 556 1753 \r\nL 556 4666 \r\nz\r\n\" id=\"DejaVuSans-55\" transform=\"scale(0.015625)\"/>\r\n       <path d=\"M 3425 4513 \r\nL 3425 3897 \r\nQ 3066 4069 2747 4153 \r\nQ 2428 4238 2131 4238 \r\nQ 1616 4238 1336 4038 \r\nQ 1056 3838 1056 3469 \r\nQ 1056 3159 1242 3001 \r\nQ 1428 2844 1947 2747 \r\nL 2328 2669 \r\nQ 3034 2534 3370 2195 \r\nQ 3706 1856 3706 1288 \r\nQ 3706 609 3251 259 \r\nQ 2797 -91 1919 -91 \r\nQ 1588 -91 1214 -16 \r\nQ 841 59 441 206 \r\nL 441 856 \r\nQ 825 641 1194 531 \r\nQ 1563 422 1919 422 \r\nQ 2459 422 2753 634 \r\nQ 3047 847 3047 1241 \r\nQ 3047 1584 2836 1778 \r\nQ 2625 1972 2144 2069 \r\nL 1759 2144 \r\nQ 1053 2284 737 2584 \r\nQ 422 2884 422 3419 \r\nQ 422 4038 858 4394 \r\nQ 1294 4750 2059 4750 \r\nQ 2388 4750 2728 4690 \r\nQ 3069 4631 3425 4513 \r\nz\r\n\" id=\"DejaVuSans-53\" transform=\"scale(0.015625)\"/>\r\n       <path d=\"M 1259 4147 \r\nL 1259 519 \r\nL 2022 519 \r\nQ 2988 519 3436 956 \r\nQ 3884 1394 3884 2338 \r\nQ 3884 3275 3436 3711 \r\nQ 2988 4147 2022 4147 \r\nL 1259 4147 \r\nz\r\nM 628 4666 \r\nL 1925 4666 \r\nQ 3281 4666 3915 4102 \r\nQ 4550 3538 4550 2338 \r\nQ 4550 1131 3912 565 \r\nQ 3275 0 1925 0 \r\nL 628 0 \r\nL 628 4666 \r\nz\r\n\" id=\"DejaVuSans-44\" transform=\"scale(0.015625)\"/>\r\n       <path d=\"M 513 4856 \r\nL 1013 4856 \r\nQ 1481 4119 1714 3412 \r\nQ 1947 2706 1947 2009 \r\nQ 1947 1309 1714 600 \r\nQ 1481 -109 1013 -844 \r\nL 513 -844 \r\nQ 928 -128 1133 580 \r\nQ 1338 1288 1338 2009 \r\nQ 1338 2731 1133 3434 \r\nQ 928 4138 513 4856 \r\nz\r\n\" id=\"DejaVuSans-29\" transform=\"scale(0.015625)\"/>\r\n      </defs>\r\n      <use xlink:href=\"#DejaVuSans-4c\"/>\r\n      <use x=\"53.962891\" xlink:href=\"#DejaVuSans-6f\"/>\r\n      <use x=\"115.144531\" xlink:href=\"#DejaVuSans-61\"/>\r\n      <use x=\"176.423828\" xlink:href=\"#DejaVuSans-6e\"/>\r\n      <use x=\"239.802734\" xlink:href=\"#DejaVuSans-20\"/>\r\n      <use x=\"271.589844\" xlink:href=\"#DejaVuSans-41\"/>\r\n      <use x=\"339.998047\" xlink:href=\"#DejaVuSans-6d\"/>\r\n      <use x=\"437.410156\" xlink:href=\"#DejaVuSans-6f\"/>\r\n      <use x=\"498.591797\" xlink:href=\"#DejaVuSans-75\"/>\r\n      <use x=\"561.970703\" xlink:href=\"#DejaVuSans-6e\"/>\r\n      <use x=\"625.349609\" xlink:href=\"#DejaVuSans-74\"/>\r\n      <use x=\"664.558594\" xlink:href=\"#DejaVuSans-20\"/>\r\n      <use x=\"696.345703\" xlink:href=\"#DejaVuSans-52\"/>\r\n      <use x=\"761.328125\" xlink:href=\"#DejaVuSans-65\"/>\r\n      <use x=\"822.851562\" xlink:href=\"#DejaVuSans-71\"/>\r\n      <use x=\"886.328125\" xlink:href=\"#DejaVuSans-75\"/>\r\n      <use x=\"949.707031\" xlink:href=\"#DejaVuSans-65\"/>\r\n      <use x=\"1011.230469\" xlink:href=\"#DejaVuSans-73\"/>\r\n      <use x=\"1063.330078\" xlink:href=\"#DejaVuSans-74\"/>\r\n      <use x=\"1102.539062\" xlink:href=\"#DejaVuSans-20\"/>\r\n      <use x=\"1134.326172\" xlink:href=\"#DejaVuSans-28\"/>\r\n      <use x=\"1173.339844\" xlink:href=\"#DejaVuSans-55\"/>\r\n      <use x=\"1246.533203\" xlink:href=\"#DejaVuSans-53\"/>\r\n      <use x=\"1310.009766\" xlink:href=\"#DejaVuSans-44\"/>\r\n      <use x=\"1387.011719\" xlink:href=\"#DejaVuSans-29\"/>\r\n     </g>\r\n    </g>\r\n   </g>\r\n   <g id=\"matplotlib.axis_2\">\r\n    <g id=\"ytick_1\">\r\n     <g id=\"line2d_8\">\r\n      <defs>\r\n       <path d=\"M 0 0 \r\nL -3.5 0 \r\n\" id=\"m7eb90d1ae3\" style=\"stroke:#000000;stroke-width:0.8;\"/>\r\n      </defs>\r\n      <g>\r\n       <use style=\"stroke:#000000;stroke-width:0.8;\" x=\"10.7\" xlink:href=\"#m7eb90d1ae3\" y=\"143.1\"/>\r\n      </g>\r\n     </g>\r\n    </g>\r\n   </g>\r\n   <g id=\"line2d_9\">\r\n    <path clip-path=\"url(#pbf8a8a4891)\" d=\"M 111.931999 143.1 \r\nL 56.354545 143.1 \r\n\" style=\"fill:none;stroke:#3f3f3f;stroke-linecap:square;stroke-width:1.5;\"/>\r\n   </g>\r\n   <g id=\"line2d_10\">\r\n    <path clip-path=\"url(#pbf8a8a4891)\" d=\"M 238.73784 143.1 \r\nL 428.931171 143.1 \r\n\" style=\"fill:none;stroke:#3f3f3f;stroke-linecap:square;stroke-width:1.5;\"/>\r\n   </g>\r\n   <g id=\"line2d_11\">\r\n    <path clip-path=\"url(#pbf8a8a4891)\" d=\"M 56.354545 88.74 \r\nL 56.354545 197.46 \r\n\" style=\"fill:none;stroke:#3f3f3f;stroke-linecap:square;stroke-width:1.5;\"/>\r\n   </g>\r\n   <g id=\"line2d_12\">\r\n    <path clip-path=\"url(#pbf8a8a4891)\" d=\"M 428.931171 88.74 \r\nL 428.931171 197.46 \r\n\" style=\"fill:none;stroke:#3f3f3f;stroke-linecap:square;stroke-width:1.5;\"/>\r\n   </g>\r\n   <g id=\"line2d_13\">\r\n    <defs>\r\n     <path d=\"M 0 3.535534 \r\nL 2.12132 0 \r\nL 0 -3.535534 \r\nL -2.12132 0 \r\nz\r\n\" id=\"m5ef21389c0\" style=\"stroke:#3f3f3f;stroke-linejoin:miter;\"/>\r\n    </defs>\r\n    <g clip-path=\"url(#pbf8a8a4891)\">\r\n     <use style=\"fill:#3f3f3f;stroke:#3f3f3f;stroke-linejoin:miter;\" x=\"449.165828\" xlink:href=\"#m5ef21389c0\" y=\"143.1\"/>\r\n     <use style=\"fill:#3f3f3f;stroke:#3f3f3f;stroke-linejoin:miter;\" x=\"476.881343\" xlink:href=\"#m5ef21389c0\" y=\"143.1\"/>\r\n     <use style=\"fill:#3f3f3f;stroke:#3f3f3f;stroke-linejoin:miter;\" x=\"493.952109\" xlink:href=\"#m5ef21389c0\" y=\"143.1\"/>\r\n     <use style=\"fill:#3f3f3f;stroke:#3f3f3f;stroke-linejoin:miter;\" x=\"454.013144\" xlink:href=\"#m5ef21389c0\" y=\"143.1\"/>\r\n     <use style=\"fill:#3f3f3f;stroke:#3f3f3f;stroke-linejoin:miter;\" x=\"432.680856\" xlink:href=\"#m5ef21389c0\" y=\"143.1\"/>\r\n     <use style=\"fill:#3f3f3f;stroke:#3f3f3f;stroke-linejoin:miter;\" x=\"671.72557\" xlink:href=\"#m5ef21389c0\" y=\"143.1\"/>\r\n     <use style=\"fill:#3f3f3f;stroke:#3f3f3f;stroke-linejoin:miter;\" x=\"465.128458\" xlink:href=\"#m5ef21389c0\" y=\"143.1\"/>\r\n     <use style=\"fill:#3f3f3f;stroke:#3f3f3f;stroke-linejoin:miter;\" x=\"455.897155\" xlink:href=\"#m5ef21389c0\" y=\"143.1\"/>\r\n     <use style=\"fill:#3f3f3f;stroke:#3f3f3f;stroke-linejoin:miter;\" x=\"486.822732\" xlink:href=\"#m5ef21389c0\" y=\"143.1\"/>\r\n     <use style=\"fill:#3f3f3f;stroke:#3f3f3f;stroke-linejoin:miter;\" x=\"464.915876\" xlink:href=\"#m5ef21389c0\" y=\"143.1\"/>\r\n     <use style=\"fill:#3f3f3f;stroke:#3f3f3f;stroke-linejoin:miter;\" x=\"486.034333\" xlink:href=\"#m5ef21389c0\" y=\"143.1\"/>\r\n     <use style=\"fill:#3f3f3f;stroke:#3f3f3f;stroke-linejoin:miter;\" x=\"469.798953\" xlink:href=\"#m5ef21389c0\" y=\"143.1\"/>\r\n     <use style=\"fill:#3f3f3f;stroke:#3f3f3f;stroke-linejoin:miter;\" x=\"471.964154\" xlink:href=\"#m5ef21389c0\" y=\"143.1\"/>\r\n     <use style=\"fill:#3f3f3f;stroke:#3f3f3f;stroke-linejoin:miter;\" x=\"478.130106\" xlink:href=\"#m5ef21389c0\" y=\"143.1\"/>\r\n     <use style=\"fill:#3f3f3f;stroke:#3f3f3f;stroke-linejoin:miter;\" x=\"481.705164\" xlink:href=\"#m5ef21389c0\" y=\"143.1\"/>\r\n     <use style=\"fill:#3f3f3f;stroke:#3f3f3f;stroke-linejoin:miter;\" x=\"608.583406\" xlink:href=\"#m5ef21389c0\" y=\"143.1\"/>\r\n     <use style=\"fill:#3f3f3f;stroke:#3f3f3f;stroke-linejoin:miter;\" x=\"464.336232\" xlink:href=\"#m5ef21389c0\" y=\"143.1\"/>\r\n     <use style=\"fill:#3f3f3f;stroke:#3f3f3f;stroke-linejoin:miter;\" x=\"513.570833\" xlink:href=\"#m5ef21389c0\" y=\"143.1\"/>\r\n     <use style=\"fill:#3f3f3f;stroke:#3f3f3f;stroke-linejoin:miter;\" x=\"458.953426\" xlink:href=\"#m5ef21389c0\" y=\"143.1\"/>\r\n     <use style=\"fill:#3f3f3f;stroke:#3f3f3f;stroke-linejoin:miter;\" x=\"477.012409\" xlink:href=\"#m5ef21389c0\" y=\"143.1\"/>\r\n     <use style=\"fill:#3f3f3f;stroke:#3f3f3f;stroke-linejoin:miter;\" x=\"450.853817\" xlink:href=\"#m5ef21389c0\" y=\"143.1\"/>\r\n     <use style=\"fill:#3f3f3f;stroke:#3f3f3f;stroke-linejoin:miter;\" x=\"438.478625\" xlink:href=\"#m5ef21389c0\" y=\"143.1\"/>\r\n     <use style=\"fill:#3f3f3f;stroke:#3f3f3f;stroke-linejoin:miter;\" x=\"457.862842\" xlink:href=\"#m5ef21389c0\" y=\"143.1\"/>\r\n     <use style=\"fill:#3f3f3f;stroke:#3f3f3f;stroke-linejoin:miter;\" x=\"553.324762\" xlink:href=\"#m5ef21389c0\" y=\"143.1\"/>\r\n     <use style=\"fill:#3f3f3f;stroke:#3f3f3f;stroke-linejoin:miter;\" x=\"488.372992\" xlink:href=\"#m5ef21389c0\" y=\"143.1\"/>\r\n     <use style=\"fill:#3f3f3f;stroke:#3f3f3f;stroke-linejoin:miter;\" x=\"491.234778\" xlink:href=\"#m5ef21389c0\" y=\"143.1\"/>\r\n     <use style=\"fill:#3f3f3f;stroke:#3f3f3f;stroke-linejoin:miter;\" x=\"520.431064\" xlink:href=\"#m5ef21389c0\" y=\"143.1\"/>\r\n     <use style=\"fill:#3f3f3f;stroke:#3f3f3f;stroke-linejoin:miter;\" x=\"541.52332\" xlink:href=\"#m5ef21389c0\" y=\"143.1\"/>\r\n     <use style=\"fill:#3f3f3f;stroke:#3f3f3f;stroke-linejoin:miter;\" x=\"457.630065\" xlink:href=\"#m5ef21389c0\" y=\"143.1\"/>\r\n     <use style=\"fill:#3f3f3f;stroke:#3f3f3f;stroke-linejoin:miter;\" x=\"445.946077\" xlink:href=\"#m5ef21389c0\" y=\"143.1\"/>\r\n     <use style=\"fill:#3f3f3f;stroke:#3f3f3f;stroke-linejoin:miter;\" x=\"512.68335\" xlink:href=\"#m5ef21389c0\" y=\"143.1\"/>\r\n     <use style=\"fill:#3f3f3f;stroke:#3f3f3f;stroke-linejoin:miter;\" x=\"498.651175\" xlink:href=\"#m5ef21389c0\" y=\"143.1\"/>\r\n     <use style=\"fill:#3f3f3f;stroke:#3f3f3f;stroke-linejoin:miter;\" x=\"435.400429\" xlink:href=\"#m5ef21389c0\" y=\"143.1\"/>\r\n     <use style=\"fill:#3f3f3f;stroke:#3f3f3f;stroke-linejoin:miter;\" x=\"472.236136\" xlink:href=\"#m5ef21389c0\" y=\"143.1\"/>\r\n     <use style=\"fill:#3f3f3f;stroke:#3f3f3f;stroke-linejoin:miter;\" x=\"454.645237\" xlink:href=\"#m5ef21389c0\" y=\"143.1\"/>\r\n     <use style=\"fill:#3f3f3f;stroke:#3f3f3f;stroke-linejoin:miter;\" x=\"474.407855\" xlink:href=\"#m5ef21389c0\" y=\"143.1\"/>\r\n     <use style=\"fill:#3f3f3f;stroke:#3f3f3f;stroke-linejoin:miter;\" x=\"522.164326\" xlink:href=\"#m5ef21389c0\" y=\"143.1\"/>\r\n     <use style=\"fill:#3f3f3f;stroke:#3f3f3f;stroke-linejoin:miter;\" x=\"510.23326\" xlink:href=\"#m5ef21389c0\" y=\"143.1\"/>\r\n     <use style=\"fill:#3f3f3f;stroke:#3f3f3f;stroke-linejoin:miter;\" x=\"499.46249\" xlink:href=\"#m5ef21389c0\" y=\"143.1\"/>\r\n     <use style=\"fill:#3f3f3f;stroke:#3f3f3f;stroke-linejoin:miter;\" x=\"439.565926\" xlink:href=\"#m5ef21389c0\" y=\"143.1\"/>\r\n     <use style=\"fill:#3f3f3f;stroke:#3f3f3f;stroke-linejoin:miter;\" x=\"469.679882\" xlink:href=\"#m5ef21389c0\" y=\"143.1\"/>\r\n     <use style=\"fill:#3f3f3f;stroke:#3f3f3f;stroke-linejoin:miter;\" x=\"441.397664\" xlink:href=\"#m5ef21389c0\" y=\"143.1\"/>\r\n     <use style=\"fill:#3f3f3f;stroke:#3f3f3f;stroke-linejoin:miter;\" x=\"467.654636\" xlink:href=\"#m5ef21389c0\" y=\"143.1\"/>\r\n     <use style=\"fill:#3f3f3f;stroke:#3f3f3f;stroke-linejoin:miter;\" x=\"441.831909\" xlink:href=\"#m5ef21389c0\" y=\"143.1\"/>\r\n     <use style=\"fill:#3f3f3f;stroke:#3f3f3f;stroke-linejoin:miter;\" x=\"439.288948\" xlink:href=\"#m5ef21389c0\" y=\"143.1\"/>\r\n     <use style=\"fill:#3f3f3f;stroke:#3f3f3f;stroke-linejoin:miter;\" x=\"478.937674\" xlink:href=\"#m5ef21389c0\" y=\"143.1\"/>\r\n     <use style=\"fill:#3f3f3f;stroke:#3f3f3f;stroke-linejoin:miter;\" x=\"548.803606\" xlink:href=\"#m5ef21389c0\" y=\"143.1\"/>\r\n     <use style=\"fill:#3f3f3f;stroke:#3f3f3f;stroke-linejoin:miter;\" x=\"485.837638\" xlink:href=\"#m5ef21389c0\" y=\"143.1\"/>\r\n     <use style=\"fill:#3f3f3f;stroke:#3f3f3f;stroke-linejoin:miter;\" x=\"455.918439\" xlink:href=\"#m5ef21389c0\" y=\"143.1\"/>\r\n     <use style=\"fill:#3f3f3f;stroke:#3f3f3f;stroke-linejoin:miter;\" x=\"530.960905\" xlink:href=\"#m5ef21389c0\" y=\"143.1\"/>\r\n     <use style=\"fill:#3f3f3f;stroke:#3f3f3f;stroke-linejoin:miter;\" x=\"443.028543\" xlink:href=\"#m5ef21389c0\" y=\"143.1\"/>\r\n     <use style=\"fill:#3f3f3f;stroke:#3f3f3f;stroke-linejoin:miter;\" x=\"480.590398\" xlink:href=\"#m5ef21389c0\" y=\"143.1\"/>\r\n     <use style=\"fill:#3f3f3f;stroke:#3f3f3f;stroke-linejoin:miter;\" x=\"555.384392\" xlink:href=\"#m5ef21389c0\" y=\"143.1\"/>\r\n     <use style=\"fill:#3f3f3f;stroke:#3f3f3f;stroke-linejoin:miter;\" x=\"433.848215\" xlink:href=\"#m5ef21389c0\" y=\"143.1\"/>\r\n     <use style=\"fill:#3f3f3f;stroke:#3f3f3f;stroke-linejoin:miter;\" x=\"564.890496\" xlink:href=\"#m5ef21389c0\" y=\"143.1\"/>\r\n     <use style=\"fill:#3f3f3f;stroke:#3f3f3f;stroke-linejoin:miter;\" x=\"541.817706\" xlink:href=\"#m5ef21389c0\" y=\"143.1\"/>\r\n     <use style=\"fill:#3f3f3f;stroke:#3f3f3f;stroke-linejoin:miter;\" x=\"487.549168\" xlink:href=\"#m5ef21389c0\" y=\"143.1\"/>\r\n     <use style=\"fill:#3f3f3f;stroke:#3f3f3f;stroke-linejoin:miter;\" x=\"439.964137\" xlink:href=\"#m5ef21389c0\" y=\"143.1\"/>\r\n     <use style=\"fill:#3f3f3f;stroke:#3f3f3f;stroke-linejoin:miter;\" x=\"497.526911\" xlink:href=\"#m5ef21389c0\" y=\"143.1\"/>\r\n     <use style=\"fill:#3f3f3f;stroke:#3f3f3f;stroke-linejoin:miter;\" x=\"523.835995\" xlink:href=\"#m5ef21389c0\" y=\"143.1\"/>\r\n     <use style=\"fill:#3f3f3f;stroke:#3f3f3f;stroke-linejoin:miter;\" x=\"504.415825\" xlink:href=\"#m5ef21389c0\" y=\"143.1\"/>\r\n     <use style=\"fill:#3f3f3f;stroke:#3f3f3f;stroke-linejoin:miter;\" x=\"451.747225\" xlink:href=\"#m5ef21389c0\" y=\"143.1\"/>\r\n     <use style=\"fill:#3f3f3f;stroke:#3f3f3f;stroke-linejoin:miter;\" x=\"579.136006\" xlink:href=\"#m5ef21389c0\" y=\"143.1\"/>\r\n     <use style=\"fill:#3f3f3f;stroke:#3f3f3f;stroke-linejoin:miter;\" x=\"483.68179\" xlink:href=\"#m5ef21389c0\" y=\"143.1\"/>\r\n     <use style=\"fill:#3f3f3f;stroke:#3f3f3f;stroke-linejoin:miter;\" x=\"551.320463\" xlink:href=\"#m5ef21389c0\" y=\"143.1\"/>\r\n     <use style=\"fill:#3f3f3f;stroke:#3f3f3f;stroke-linejoin:miter;\" x=\"474.927283\" xlink:href=\"#m5ef21389c0\" y=\"143.1\"/>\r\n     <use style=\"fill:#3f3f3f;stroke:#3f3f3f;stroke-linejoin:miter;\" x=\"429.820479\" xlink:href=\"#m5ef21389c0\" y=\"143.1\"/>\r\n     <use style=\"fill:#3f3f3f;stroke:#3f3f3f;stroke-linejoin:miter;\" x=\"493.713887\" xlink:href=\"#m5ef21389c0\" y=\"143.1\"/>\r\n     <use style=\"fill:#3f3f3f;stroke:#3f3f3f;stroke-linejoin:miter;\" x=\"615.588459\" xlink:href=\"#m5ef21389c0\" y=\"143.1\"/>\r\n     <use style=\"fill:#3f3f3f;stroke:#3f3f3f;stroke-linejoin:miter;\" x=\"435.647988\" xlink:href=\"#m5ef21389c0\" y=\"143.1\"/>\r\n     <use style=\"fill:#3f3f3f;stroke:#3f3f3f;stroke-linejoin:miter;\" x=\"467.108079\" xlink:href=\"#m5ef21389c0\" y=\"143.1\"/>\r\n     <use style=\"fill:#3f3f3f;stroke:#3f3f3f;stroke-linejoin:miter;\" x=\"443.301966\" xlink:href=\"#m5ef21389c0\" y=\"143.1\"/>\r\n     <use style=\"fill:#3f3f3f;stroke:#3f3f3f;stroke-linejoin:miter;\" x=\"510.416839\" xlink:href=\"#m5ef21389c0\" y=\"143.1\"/>\r\n     <use style=\"fill:#3f3f3f;stroke:#3f3f3f;stroke-linejoin:miter;\" x=\"524.263674\" xlink:href=\"#m5ef21389c0\" y=\"143.1\"/>\r\n     <use style=\"fill:#3f3f3f;stroke:#3f3f3f;stroke-linejoin:miter;\" x=\"462.446376\" xlink:href=\"#m5ef21389c0\" y=\"143.1\"/>\r\n     <use style=\"fill:#3f3f3f;stroke:#3f3f3f;stroke-linejoin:miter;\" x=\"475.686662\" xlink:href=\"#m5ef21389c0\" y=\"143.1\"/>\r\n     <use style=\"fill:#3f3f3f;stroke:#3f3f3f;stroke-linejoin:miter;\" x=\"488.860086\" xlink:href=\"#m5ef21389c0\" y=\"143.1\"/>\r\n     <use style=\"fill:#3f3f3f;stroke:#3f3f3f;stroke-linejoin:miter;\" x=\"428.958092\" xlink:href=\"#m5ef21389c0\" y=\"143.1\"/>\r\n     <use style=\"fill:#3f3f3f;stroke:#3f3f3f;stroke-linejoin:miter;\" x=\"469.740659\" xlink:href=\"#m5ef21389c0\" y=\"143.1\"/>\r\n     <use style=\"fill:#3f3f3f;stroke:#3f3f3f;stroke-linejoin:miter;\" x=\"485.035291\" xlink:href=\"#m5ef21389c0\" y=\"143.1\"/>\r\n     <use style=\"fill:#3f3f3f;stroke:#3f3f3f;stroke-linejoin:miter;\" x=\"537.019717\" xlink:href=\"#m5ef21389c0\" y=\"143.1\"/>\r\n     <use style=\"fill:#3f3f3f;stroke:#3f3f3f;stroke-linejoin:miter;\" x=\"563.97156\" xlink:href=\"#m5ef21389c0\" y=\"143.1\"/>\r\n     <use style=\"fill:#3f3f3f;stroke:#3f3f3f;stroke-linejoin:miter;\" x=\"540.955815\" xlink:href=\"#m5ef21389c0\" y=\"143.1\"/>\r\n     <use style=\"fill:#3f3f3f;stroke:#3f3f3f;stroke-linejoin:miter;\" x=\"520.621305\" xlink:href=\"#m5ef21389c0\" y=\"143.1\"/>\r\n     <use style=\"fill:#3f3f3f;stroke:#3f3f3f;stroke-linejoin:miter;\" x=\"493.822324\" xlink:href=\"#m5ef21389c0\" y=\"143.1\"/>\r\n     <use style=\"fill:#3f3f3f;stroke:#3f3f3f;stroke-linejoin:miter;\" x=\"593.981099\" xlink:href=\"#m5ef21389c0\" y=\"143.1\"/>\r\n     <use style=\"fill:#3f3f3f;stroke:#3f3f3f;stroke-linejoin:miter;\" x=\"489.211805\" xlink:href=\"#m5ef21389c0\" y=\"143.1\"/>\r\n     <use style=\"fill:#3f3f3f;stroke:#3f3f3f;stroke-linejoin:miter;\" x=\"513.177955\" xlink:href=\"#m5ef21389c0\" y=\"143.1\"/>\r\n     <use style=\"fill:#3f3f3f;stroke:#3f3f3f;stroke-linejoin:miter;\" x=\"494.570173\" xlink:href=\"#m5ef21389c0\" y=\"143.1\"/>\r\n     <use style=\"fill:#3f3f3f;stroke:#3f3f3f;stroke-linejoin:miter;\" x=\"457.179742\" xlink:href=\"#m5ef21389c0\" y=\"143.1\"/>\r\n     <use style=\"fill:#3f3f3f;stroke:#3f3f3f;stroke-linejoin:miter;\" x=\"529.325013\" xlink:href=\"#m5ef21389c0\" y=\"143.1\"/>\r\n     <use style=\"fill:#3f3f3f;stroke:#3f3f3f;stroke-linejoin:miter;\" x=\"492.925953\" xlink:href=\"#m5ef21389c0\" y=\"143.1\"/>\r\n     <use style=\"fill:#3f3f3f;stroke:#3f3f3f;stroke-linejoin:miter;\" x=\"446.92981\" xlink:href=\"#m5ef21389c0\" y=\"143.1\"/>\r\n     <use style=\"fill:#3f3f3f;stroke:#3f3f3f;stroke-linejoin:miter;\" x=\"468.887416\" xlink:href=\"#m5ef21389c0\" y=\"143.1\"/>\r\n     <use style=\"fill:#3f3f3f;stroke:#3f3f3f;stroke-linejoin:miter;\" x=\"470.61147\" xlink:href=\"#m5ef21389c0\" y=\"143.1\"/>\r\n     <use style=\"fill:#3f3f3f;stroke:#3f3f3f;stroke-linejoin:miter;\" x=\"584.184549\" xlink:href=\"#m5ef21389c0\" y=\"143.1\"/>\r\n     <use style=\"fill:#3f3f3f;stroke:#3f3f3f;stroke-linejoin:miter;\" x=\"466.64821\" xlink:href=\"#m5ef21389c0\" y=\"143.1\"/>\r\n     <use style=\"fill:#3f3f3f;stroke:#3f3f3f;stroke-linejoin:miter;\" x=\"434.467977\" xlink:href=\"#m5ef21389c0\" y=\"143.1\"/>\r\n     <use style=\"fill:#3f3f3f;stroke:#3f3f3f;stroke-linejoin:miter;\" x=\"549.748102\" xlink:href=\"#m5ef21389c0\" y=\"143.1\"/>\r\n     <use style=\"fill:#3f3f3f;stroke:#3f3f3f;stroke-linejoin:miter;\" x=\"466.882108\" xlink:href=\"#m5ef21389c0\" y=\"143.1\"/>\r\n     <use style=\"fill:#3f3f3f;stroke:#3f3f3f;stroke-linejoin:miter;\" x=\"450.696486\" xlink:href=\"#m5ef21389c0\" y=\"143.1\"/>\r\n     <use style=\"fill:#3f3f3f;stroke:#3f3f3f;stroke-linejoin:miter;\" x=\"454.064568\" xlink:href=\"#m5ef21389c0\" y=\"143.1\"/>\r\n     <use style=\"fill:#3f3f3f;stroke:#3f3f3f;stroke-linejoin:miter;\" x=\"490.116696\" xlink:href=\"#m5ef21389c0\" y=\"143.1\"/>\r\n     <use style=\"fill:#3f3f3f;stroke:#3f3f3f;stroke-linejoin:miter;\" x=\"472.420916\" xlink:href=\"#m5ef21389c0\" y=\"143.1\"/>\r\n     <use style=\"fill:#3f3f3f;stroke:#3f3f3f;stroke-linejoin:miter;\" x=\"494.263071\" xlink:href=\"#m5ef21389c0\" y=\"143.1\"/>\r\n     <use style=\"fill:#3f3f3f;stroke:#3f3f3f;stroke-linejoin:miter;\" x=\"454.80308\" xlink:href=\"#m5ef21389c0\" y=\"143.1\"/>\r\n     <use style=\"fill:#3f3f3f;stroke:#3f3f3f;stroke-linejoin:miter;\" x=\"512.32247\" xlink:href=\"#m5ef21389c0\" y=\"143.1\"/>\r\n     <use style=\"fill:#3f3f3f;stroke:#3f3f3f;stroke-linejoin:miter;\" x=\"438.954348\" xlink:href=\"#m5ef21389c0\" y=\"143.1\"/>\r\n     <use style=\"fill:#3f3f3f;stroke:#3f3f3f;stroke-linejoin:miter;\" x=\"543.991555\" xlink:href=\"#m5ef21389c0\" y=\"143.1\"/>\r\n     <use style=\"fill:#3f3f3f;stroke:#3f3f3f;stroke-linejoin:miter;\" x=\"536.950388\" xlink:href=\"#m5ef21389c0\" y=\"143.1\"/>\r\n     <use style=\"fill:#3f3f3f;stroke:#3f3f3f;stroke-linejoin:miter;\" x=\"497.204643\" xlink:href=\"#m5ef21389c0\" y=\"143.1\"/>\r\n     <use style=\"fill:#3f3f3f;stroke:#3f3f3f;stroke-linejoin:miter;\" x=\"442.957549\" xlink:href=\"#m5ef21389c0\" y=\"143.1\"/>\r\n     <use style=\"fill:#3f3f3f;stroke:#3f3f3f;stroke-linejoin:miter;\" x=\"450.175697\" xlink:href=\"#m5ef21389c0\" y=\"143.1\"/>\r\n     <use style=\"fill:#3f3f3f;stroke:#3f3f3f;stroke-linejoin:miter;\" x=\"588.970912\" xlink:href=\"#m5ef21389c0\" y=\"143.1\"/>\r\n     <use style=\"fill:#3f3f3f;stroke:#3f3f3f;stroke-linejoin:miter;\" x=\"465.730796\" xlink:href=\"#m5ef21389c0\" y=\"143.1\"/>\r\n     <use style=\"fill:#3f3f3f;stroke:#3f3f3f;stroke-linejoin:miter;\" x=\"625.793534\" xlink:href=\"#m5ef21389c0\" y=\"143.1\"/>\r\n     <use style=\"fill:#3f3f3f;stroke:#3f3f3f;stroke-linejoin:miter;\" x=\"437.639603\" xlink:href=\"#m5ef21389c0\" y=\"143.1\"/>\r\n     <use style=\"fill:#3f3f3f;stroke:#3f3f3f;stroke-linejoin:miter;\" x=\"510.142583\" xlink:href=\"#m5ef21389c0\" y=\"143.1\"/>\r\n     <use style=\"fill:#3f3f3f;stroke:#3f3f3f;stroke-linejoin:miter;\" x=\"472.190525\" xlink:href=\"#m5ef21389c0\" y=\"143.1\"/>\r\n     <use style=\"fill:#3f3f3f;stroke:#3f3f3f;stroke-linejoin:miter;\" x=\"635.232759\" xlink:href=\"#m5ef21389c0\" y=\"143.1\"/>\r\n     <use style=\"fill:#3f3f3f;stroke:#3f3f3f;stroke-linejoin:miter;\" x=\"587.90656\" xlink:href=\"#m5ef21389c0\" y=\"143.1\"/>\r\n     <use style=\"fill:#3f3f3f;stroke:#3f3f3f;stroke-linejoin:miter;\" x=\"488.554249\" xlink:href=\"#m5ef21389c0\" y=\"143.1\"/>\r\n     <use style=\"fill:#3f3f3f;stroke:#3f3f3f;stroke-linejoin:miter;\" x=\"436.81642\" xlink:href=\"#m5ef21389c0\" y=\"143.1\"/>\r\n     <use style=\"fill:#3f3f3f;stroke:#3f3f3f;stroke-linejoin:miter;\" x=\"502.555035\" xlink:href=\"#m5ef21389c0\" y=\"143.1\"/>\r\n     <use style=\"fill:#3f3f3f;stroke:#3f3f3f;stroke-linejoin:miter;\" x=\"523.260147\" xlink:href=\"#m5ef21389c0\" y=\"143.1\"/>\r\n     <use style=\"fill:#3f3f3f;stroke:#3f3f3f;stroke-linejoin:miter;\" x=\"781.810327\" xlink:href=\"#m5ef21389c0\" y=\"143.1\"/>\r\n     <use style=\"fill:#3f3f3f;stroke:#3f3f3f;stroke-linejoin:miter;\" x=\"488.131967\" xlink:href=\"#m5ef21389c0\" y=\"143.1\"/>\r\n     <use style=\"fill:#3f3f3f;stroke:#3f3f3f;stroke-linejoin:miter;\" x=\"491.811299\" xlink:href=\"#m5ef21389c0\" y=\"143.1\"/>\r\n     <use style=\"fill:#3f3f3f;stroke:#3f3f3f;stroke-linejoin:miter;\" x=\"435.775178\" xlink:href=\"#m5ef21389c0\" y=\"143.1\"/>\r\n     <use style=\"fill:#3f3f3f;stroke:#3f3f3f;stroke-linejoin:miter;\" x=\"535.295214\" xlink:href=\"#m5ef21389c0\" y=\"143.1\"/>\r\n     <use style=\"fill:#3f3f3f;stroke:#3f3f3f;stroke-linejoin:miter;\" x=\"437.137824\" xlink:href=\"#m5ef21389c0\" y=\"143.1\"/>\r\n     <use style=\"fill:#3f3f3f;stroke:#3f3f3f;stroke-linejoin:miter;\" x=\"570.091036\" xlink:href=\"#m5ef21389c0\" y=\"143.1\"/>\r\n     <use style=\"fill:#3f3f3f;stroke:#3f3f3f;stroke-linejoin:miter;\" x=\"473.917045\" xlink:href=\"#m5ef21389c0\" y=\"143.1\"/>\r\n     <use style=\"fill:#3f3f3f;stroke:#3f3f3f;stroke-linejoin:miter;\" x=\"437.626775\" xlink:href=\"#m5ef21389c0\" y=\"143.1\"/>\r\n     <use style=\"fill:#3f3f3f;stroke:#3f3f3f;stroke-linejoin:miter;\" x=\"549.603423\" xlink:href=\"#m5ef21389c0\" y=\"143.1\"/>\r\n     <use style=\"fill:#3f3f3f;stroke:#3f3f3f;stroke-linejoin:miter;\" x=\"471.184308\" xlink:href=\"#m5ef21389c0\" y=\"143.1\"/>\r\n     <use style=\"fill:#3f3f3f;stroke:#3f3f3f;stroke-linejoin:miter;\" x=\"557.643409\" xlink:href=\"#m5ef21389c0\" y=\"143.1\"/>\r\n     <use style=\"fill:#3f3f3f;stroke:#3f3f3f;stroke-linejoin:miter;\" x=\"490.977898\" xlink:href=\"#m5ef21389c0\" y=\"143.1\"/>\r\n     <use style=\"fill:#3f3f3f;stroke:#3f3f3f;stroke-linejoin:miter;\" x=\"519.891697\" xlink:href=\"#m5ef21389c0\" y=\"143.1\"/>\r\n     <use style=\"fill:#3f3f3f;stroke:#3f3f3f;stroke-linejoin:miter;\" x=\"481.655134\" xlink:href=\"#m5ef21389c0\" y=\"143.1\"/>\r\n     <use style=\"fill:#3f3f3f;stroke:#3f3f3f;stroke-linejoin:miter;\" x=\"456.562191\" xlink:href=\"#m5ef21389c0\" y=\"143.1\"/>\r\n     <use style=\"fill:#3f3f3f;stroke:#3f3f3f;stroke-linejoin:miter;\" x=\"492.717567\" xlink:href=\"#m5ef21389c0\" y=\"143.1\"/>\r\n     <use style=\"fill:#3f3f3f;stroke:#3f3f3f;stroke-linejoin:miter;\" x=\"522.178387\" xlink:href=\"#m5ef21389c0\" y=\"143.1\"/>\r\n     <use style=\"fill:#3f3f3f;stroke:#3f3f3f;stroke-linejoin:miter;\" x=\"550.712825\" xlink:href=\"#m5ef21389c0\" y=\"143.1\"/>\r\n     <use style=\"fill:#3f3f3f;stroke:#3f3f3f;stroke-linejoin:miter;\" x=\"577.538198\" xlink:href=\"#m5ef21389c0\" y=\"143.1\"/>\r\n     <use style=\"fill:#3f3f3f;stroke:#3f3f3f;stroke-linejoin:miter;\" x=\"486.95194\" xlink:href=\"#m5ef21389c0\" y=\"143.1\"/>\r\n     <use style=\"fill:#3f3f3f;stroke:#3f3f3f;stroke-linejoin:miter;\" x=\"625.49918\" xlink:href=\"#m5ef21389c0\" y=\"143.1\"/>\r\n     <use style=\"fill:#3f3f3f;stroke:#3f3f3f;stroke-linejoin:miter;\" x=\"494.716037\" xlink:href=\"#m5ef21389c0\" y=\"143.1\"/>\r\n     <use style=\"fill:#3f3f3f;stroke:#3f3f3f;stroke-linejoin:miter;\" x=\"469.448515\" xlink:href=\"#m5ef21389c0\" y=\"143.1\"/>\r\n     <use style=\"fill:#3f3f3f;stroke:#3f3f3f;stroke-linejoin:miter;\" x=\"464.077688\" xlink:href=\"#m5ef21389c0\" y=\"143.1\"/>\r\n     <use style=\"fill:#3f3f3f;stroke:#3f3f3f;stroke-linejoin:miter;\" x=\"500.418277\" xlink:href=\"#m5ef21389c0\" y=\"143.1\"/>\r\n     <use style=\"fill:#3f3f3f;stroke:#3f3f3f;stroke-linejoin:miter;\" x=\"530.603516\" xlink:href=\"#m5ef21389c0\" y=\"143.1\"/>\r\n     <use style=\"fill:#3f3f3f;stroke:#3f3f3f;stroke-linejoin:miter;\" x=\"454.394812\" xlink:href=\"#m5ef21389c0\" y=\"143.1\"/>\r\n     <use style=\"fill:#3f3f3f;stroke:#3f3f3f;stroke-linejoin:miter;\" x=\"539.204632\" xlink:href=\"#m5ef21389c0\" y=\"143.1\"/>\r\n     <use style=\"fill:#3f3f3f;stroke:#3f3f3f;stroke-linejoin:miter;\" x=\"458.098662\" xlink:href=\"#m5ef21389c0\" y=\"143.1\"/>\r\n     <use style=\"fill:#3f3f3f;stroke:#3f3f3f;stroke-linejoin:miter;\" x=\"617.579914\" xlink:href=\"#m5ef21389c0\" y=\"143.1\"/>\r\n     <use style=\"fill:#3f3f3f;stroke:#3f3f3f;stroke-linejoin:miter;\" x=\"503.997931\" xlink:href=\"#m5ef21389c0\" y=\"143.1\"/>\r\n     <use style=\"fill:#3f3f3f;stroke:#3f3f3f;stroke-linejoin:miter;\" x=\"577.471319\" xlink:href=\"#m5ef21389c0\" y=\"143.1\"/>\r\n     <use style=\"fill:#3f3f3f;stroke:#3f3f3f;stroke-linejoin:miter;\" x=\"500.633325\" xlink:href=\"#m5ef21389c0\" y=\"143.1\"/>\r\n     <use style=\"fill:#3f3f3f;stroke:#3f3f3f;stroke-linejoin:miter;\" x=\"451.900488\" xlink:href=\"#m5ef21389c0\" y=\"143.1\"/>\r\n     <use style=\"fill:#3f3f3f;stroke:#3f3f3f;stroke-linejoin:miter;\" x=\"606.499513\" xlink:href=\"#m5ef21389c0\" y=\"143.1\"/>\r\n     <use style=\"fill:#3f3f3f;stroke:#3f3f3f;stroke-linejoin:miter;\" x=\"545.472391\" xlink:href=\"#m5ef21389c0\" y=\"143.1\"/>\r\n     <use style=\"fill:#3f3f3f;stroke:#3f3f3f;stroke-linejoin:miter;\" x=\"433.04132\" xlink:href=\"#m5ef21389c0\" y=\"143.1\"/>\r\n     <use style=\"fill:#3f3f3f;stroke:#3f3f3f;stroke-linejoin:miter;\" x=\"442.857728\" xlink:href=\"#m5ef21389c0\" y=\"143.1\"/>\r\n     <use style=\"fill:#3f3f3f;stroke:#3f3f3f;stroke-linejoin:miter;\" x=\"537.052003\" xlink:href=\"#m5ef21389c0\" y=\"143.1\"/>\r\n     <use style=\"fill:#3f3f3f;stroke:#3f3f3f;stroke-linejoin:miter;\" x=\"482.767706\" xlink:href=\"#m5ef21389c0\" y=\"143.1\"/>\r\n     <use style=\"fill:#3f3f3f;stroke:#3f3f3f;stroke-linejoin:miter;\" x=\"489.057742\" xlink:href=\"#m5ef21389c0\" y=\"143.1\"/>\r\n     <use style=\"fill:#3f3f3f;stroke:#3f3f3f;stroke-linejoin:miter;\" x=\"535.629846\" xlink:href=\"#m5ef21389c0\" y=\"143.1\"/>\r\n     <use style=\"fill:#3f3f3f;stroke:#3f3f3f;stroke-linejoin:miter;\" x=\"457.008719\" xlink:href=\"#m5ef21389c0\" y=\"143.1\"/>\r\n     <use style=\"fill:#3f3f3f;stroke:#3f3f3f;stroke-linejoin:miter;\" x=\"432.434643\" xlink:href=\"#m5ef21389c0\" y=\"143.1\"/>\r\n     <use style=\"fill:#3f3f3f;stroke:#3f3f3f;stroke-linejoin:miter;\" x=\"440.221288\" xlink:href=\"#m5ef21389c0\" y=\"143.1\"/>\r\n     <use style=\"fill:#3f3f3f;stroke:#3f3f3f;stroke-linejoin:miter;\" x=\"480.868673\" xlink:href=\"#m5ef21389c0\" y=\"143.1\"/>\r\n     <use style=\"fill:#3f3f3f;stroke:#3f3f3f;stroke-linejoin:miter;\" x=\"443.082401\" xlink:href=\"#m5ef21389c0\" y=\"143.1\"/>\r\n     <use style=\"fill:#3f3f3f;stroke:#3f3f3f;stroke-linejoin:miter;\" x=\"499.765605\" xlink:href=\"#m5ef21389c0\" y=\"143.1\"/>\r\n     <use style=\"fill:#3f3f3f;stroke:#3f3f3f;stroke-linejoin:miter;\" x=\"434.703156\" xlink:href=\"#m5ef21389c0\" y=\"143.1\"/>\r\n     <use style=\"fill:#3f3f3f;stroke:#3f3f3f;stroke-linejoin:miter;\" x=\"650.9535\" xlink:href=\"#m5ef21389c0\" y=\"143.1\"/>\r\n     <use style=\"fill:#3f3f3f;stroke:#3f3f3f;stroke-linejoin:miter;\" x=\"458.189034\" xlink:href=\"#m5ef21389c0\" y=\"143.1\"/>\r\n     <use style=\"fill:#3f3f3f;stroke:#3f3f3f;stroke-linejoin:miter;\" x=\"467.732805\" xlink:href=\"#m5ef21389c0\" y=\"143.1\"/>\r\n     <use style=\"fill:#3f3f3f;stroke:#3f3f3f;stroke-linejoin:miter;\" x=\"480.283296\" xlink:href=\"#m5ef21389c0\" y=\"143.1\"/>\r\n     <use style=\"fill:#3f3f3f;stroke:#3f3f3f;stroke-linejoin:miter;\" x=\"463.685418\" xlink:href=\"#m5ef21389c0\" y=\"143.1\"/>\r\n     <use style=\"fill:#3f3f3f;stroke:#3f3f3f;stroke-linejoin:miter;\" x=\"465.767886\" xlink:href=\"#m5ef21389c0\" y=\"143.1\"/>\r\n     <use style=\"fill:#3f3f3f;stroke:#3f3f3f;stroke-linejoin:miter;\" x=\"532.56608\" xlink:href=\"#m5ef21389c0\" y=\"143.1\"/>\r\n     <use style=\"fill:#3f3f3f;stroke:#3f3f3f;stroke-linejoin:miter;\" x=\"431.574641\" xlink:href=\"#m5ef21389c0\" y=\"143.1\"/>\r\n     <use style=\"fill:#3f3f3f;stroke:#3f3f3f;stroke-linejoin:miter;\" x=\"447.222947\" xlink:href=\"#m5ef21389c0\" y=\"143.1\"/>\r\n     <use style=\"fill:#3f3f3f;stroke:#3f3f3f;stroke-linejoin:miter;\" x=\"438.046238\" xlink:href=\"#m5ef21389c0\" y=\"143.1\"/>\r\n     <use style=\"fill:#3f3f3f;stroke:#3f3f3f;stroke-linejoin:miter;\" x=\"453.326328\" xlink:href=\"#m5ef21389c0\" y=\"143.1\"/>\r\n     <use style=\"fill:#3f3f3f;stroke:#3f3f3f;stroke-linejoin:miter;\" x=\"589.733318\" xlink:href=\"#m5ef21389c0\" y=\"143.1\"/>\r\n     <use style=\"fill:#3f3f3f;stroke:#3f3f3f;stroke-linejoin:miter;\" x=\"443.245065\" xlink:href=\"#m5ef21389c0\" y=\"143.1\"/>\r\n     <use style=\"fill:#3f3f3f;stroke:#3f3f3f;stroke-linejoin:miter;\" x=\"496.3379\" xlink:href=\"#m5ef21389c0\" y=\"143.1\"/>\r\n     <use style=\"fill:#3f3f3f;stroke:#3f3f3f;stroke-linejoin:miter;\" x=\"442.363187\" xlink:href=\"#m5ef21389c0\" y=\"143.1\"/>\r\n     <use style=\"fill:#3f3f3f;stroke:#3f3f3f;stroke-linejoin:miter;\" x=\"542.344037\" xlink:href=\"#m5ef21389c0\" y=\"143.1\"/>\r\n     <use style=\"fill:#3f3f3f;stroke:#3f3f3f;stroke-linejoin:miter;\" x=\"447.213194\" xlink:href=\"#m5ef21389c0\" y=\"143.1\"/>\r\n     <use style=\"fill:#3f3f3f;stroke:#3f3f3f;stroke-linejoin:miter;\" x=\"432.236074\" xlink:href=\"#m5ef21389c0\" y=\"143.1\"/>\r\n     <use style=\"fill:#3f3f3f;stroke:#3f3f3f;stroke-linejoin:miter;\" x=\"492.296615\" xlink:href=\"#m5ef21389c0\" y=\"143.1\"/>\r\n     <use style=\"fill:#3f3f3f;stroke:#3f3f3f;stroke-linejoin:miter;\" x=\"493.75503\" xlink:href=\"#m5ef21389c0\" y=\"143.1\"/>\r\n     <use style=\"fill:#3f3f3f;stroke:#3f3f3f;stroke-linejoin:miter;\" x=\"481.0691\" xlink:href=\"#m5ef21389c0\" y=\"143.1\"/>\r\n     <use style=\"fill:#3f3f3f;stroke:#3f3f3f;stroke-linejoin:miter;\" x=\"619.799983\" xlink:href=\"#m5ef21389c0\" y=\"143.1\"/>\r\n     <use style=\"fill:#3f3f3f;stroke:#3f3f3f;stroke-linejoin:miter;\" x=\"480.336626\" xlink:href=\"#m5ef21389c0\" y=\"143.1\"/>\r\n     <use style=\"fill:#3f3f3f;stroke:#3f3f3f;stroke-linejoin:miter;\" x=\"497.902525\" xlink:href=\"#m5ef21389c0\" y=\"143.1\"/>\r\n     <use style=\"fill:#3f3f3f;stroke:#3f3f3f;stroke-linejoin:miter;\" x=\"577.366278\" xlink:href=\"#m5ef21389c0\" y=\"143.1\"/>\r\n     <use style=\"fill:#3f3f3f;stroke:#3f3f3f;stroke-linejoin:miter;\" x=\"503.177103\" xlink:href=\"#m5ef21389c0\" y=\"143.1\"/>\r\n     <use style=\"fill:#3f3f3f;stroke:#3f3f3f;stroke-linejoin:miter;\" x=\"453.895178\" xlink:href=\"#m5ef21389c0\" y=\"143.1\"/>\r\n     <use style=\"fill:#3f3f3f;stroke:#3f3f3f;stroke-linejoin:miter;\" x=\"469.927505\" xlink:href=\"#m5ef21389c0\" y=\"143.1\"/>\r\n     <use style=\"fill:#3f3f3f;stroke:#3f3f3f;stroke-linejoin:miter;\" x=\"487.457996\" xlink:href=\"#m5ef21389c0\" y=\"143.1\"/>\r\n     <use style=\"fill:#3f3f3f;stroke:#3f3f3f;stroke-linejoin:miter;\" x=\"473.508024\" xlink:href=\"#m5ef21389c0\" y=\"143.1\"/>\r\n     <use style=\"fill:#3f3f3f;stroke:#3f3f3f;stroke-linejoin:miter;\" x=\"495.828273\" xlink:href=\"#m5ef21389c0\" y=\"143.1\"/>\r\n     <use style=\"fill:#3f3f3f;stroke:#3f3f3f;stroke-linejoin:miter;\" x=\"543.333903\" xlink:href=\"#m5ef21389c0\" y=\"143.1\"/>\r\n     <use style=\"fill:#3f3f3f;stroke:#3f3f3f;stroke-linejoin:miter;\" x=\"492.751759\" xlink:href=\"#m5ef21389c0\" y=\"143.1\"/>\r\n     <use style=\"fill:#3f3f3f;stroke:#3f3f3f;stroke-linejoin:miter;\" x=\"507.883439\" xlink:href=\"#m5ef21389c0\" y=\"143.1\"/>\r\n     <use style=\"fill:#3f3f3f;stroke:#3f3f3f;stroke-linejoin:miter;\" x=\"463.994474\" xlink:href=\"#m5ef21389c0\" y=\"143.1\"/>\r\n     <use style=\"fill:#3f3f3f;stroke:#3f3f3f;stroke-linejoin:miter;\" x=\"587.318701\" xlink:href=\"#m5ef21389c0\" y=\"143.1\"/>\r\n     <use style=\"fill:#3f3f3f;stroke:#3f3f3f;stroke-linejoin:miter;\" x=\"473.045626\" xlink:href=\"#m5ef21389c0\" y=\"143.1\"/>\r\n     <use style=\"fill:#3f3f3f;stroke:#3f3f3f;stroke-linejoin:miter;\" x=\"506.338816\" xlink:href=\"#m5ef21389c0\" y=\"143.1\"/>\r\n     <use style=\"fill:#3f3f3f;stroke:#3f3f3f;stroke-linejoin:miter;\" x=\"439.377302\" xlink:href=\"#m5ef21389c0\" y=\"143.1\"/>\r\n     <use style=\"fill:#3f3f3f;stroke:#3f3f3f;stroke-linejoin:miter;\" x=\"610.592029\" xlink:href=\"#m5ef21389c0\" y=\"143.1\"/>\r\n     <use style=\"fill:#3f3f3f;stroke:#3f3f3f;stroke-linejoin:miter;\" x=\"529.395254\" xlink:href=\"#m5ef21389c0\" y=\"143.1\"/>\r\n     <use style=\"fill:#3f3f3f;stroke:#3f3f3f;stroke-linejoin:miter;\" x=\"453.050327\" xlink:href=\"#m5ef21389c0\" y=\"143.1\"/>\r\n     <use style=\"fill:#3f3f3f;stroke:#3f3f3f;stroke-linejoin:miter;\" x=\"603.247347\" xlink:href=\"#m5ef21389c0\" y=\"143.1\"/>\r\n     <use style=\"fill:#3f3f3f;stroke:#3f3f3f;stroke-linejoin:miter;\" x=\"483.830921\" xlink:href=\"#m5ef21389c0\" y=\"143.1\"/>\r\n     <use style=\"fill:#3f3f3f;stroke:#3f3f3f;stroke-linejoin:miter;\" x=\"547.617109\" xlink:href=\"#m5ef21389c0\" y=\"143.1\"/>\r\n     <use style=\"fill:#3f3f3f;stroke:#3f3f3f;stroke-linejoin:miter;\" x=\"525.035128\" xlink:href=\"#m5ef21389c0\" y=\"143.1\"/>\r\n     <use style=\"fill:#3f3f3f;stroke:#3f3f3f;stroke-linejoin:miter;\" x=\"432.650716\" xlink:href=\"#m5ef21389c0\" y=\"143.1\"/>\r\n     <use style=\"fill:#3f3f3f;stroke:#3f3f3f;stroke-linejoin:miter;\" x=\"517.340376\" xlink:href=\"#m5ef21389c0\" y=\"143.1\"/>\r\n     <use style=\"fill:#3f3f3f;stroke:#3f3f3f;stroke-linejoin:miter;\" x=\"485.848496\" xlink:href=\"#m5ef21389c0\" y=\"143.1\"/>\r\n     <use style=\"fill:#3f3f3f;stroke:#3f3f3f;stroke-linejoin:miter;\" x=\"512.364717\" xlink:href=\"#m5ef21389c0\" y=\"143.1\"/>\r\n     <use style=\"fill:#3f3f3f;stroke:#3f3f3f;stroke-linejoin:miter;\" x=\"451.664364\" xlink:href=\"#m5ef21389c0\" y=\"143.1\"/>\r\n     <use style=\"fill:#3f3f3f;stroke:#3f3f3f;stroke-linejoin:miter;\" x=\"517.588576\" xlink:href=\"#m5ef21389c0\" y=\"143.1\"/>\r\n     <use style=\"fill:#3f3f3f;stroke:#3f3f3f;stroke-linejoin:miter;\" x=\"516.348573\" xlink:href=\"#m5ef21389c0\" y=\"143.1\"/>\r\n     <use style=\"fill:#3f3f3f;stroke:#3f3f3f;stroke-linejoin:miter;\" x=\"541.34903\" xlink:href=\"#m5ef21389c0\" y=\"143.1\"/>\r\n     <use style=\"fill:#3f3f3f;stroke:#3f3f3f;stroke-linejoin:miter;\" x=\"457.360358\" xlink:href=\"#m5ef21389c0\" y=\"143.1\"/>\r\n     <use style=\"fill:#3f3f3f;stroke:#3f3f3f;stroke-linejoin:miter;\" x=\"496.234011\" xlink:href=\"#m5ef21389c0\" y=\"143.1\"/>\r\n     <use style=\"fill:#3f3f3f;stroke:#3f3f3f;stroke-linejoin:miter;\" x=\"655.009646\" xlink:href=\"#m5ef21389c0\" y=\"143.1\"/>\r\n     <use style=\"fill:#3f3f3f;stroke:#3f3f3f;stroke-linejoin:miter;\" x=\"486.606258\" xlink:href=\"#m5ef21389c0\" y=\"143.1\"/>\r\n     <use style=\"fill:#3f3f3f;stroke:#3f3f3f;stroke-linejoin:miter;\" x=\"466.698737\" xlink:href=\"#m5ef21389c0\" y=\"143.1\"/>\r\n     <use style=\"fill:#3f3f3f;stroke:#3f3f3f;stroke-linejoin:miter;\" x=\"494.469984\" xlink:href=\"#m5ef21389c0\" y=\"143.1\"/>\r\n     <use style=\"fill:#3f3f3f;stroke:#3f3f3f;stroke-linejoin:miter;\" x=\"498.209323\" xlink:href=\"#m5ef21389c0\" y=\"143.1\"/>\r\n     <use style=\"fill:#3f3f3f;stroke:#3f3f3f;stroke-linejoin:miter;\" x=\"435.82191\" xlink:href=\"#m5ef21389c0\" y=\"143.1\"/>\r\n     <use style=\"fill:#3f3f3f;stroke:#3f3f3f;stroke-linejoin:miter;\" x=\"497.198237\" xlink:href=\"#m5ef21389c0\" y=\"143.1\"/>\r\n     <use style=\"fill:#3f3f3f;stroke:#3f3f3f;stroke-linejoin:miter;\" x=\"463.047448\" xlink:href=\"#m5ef21389c0\" y=\"143.1\"/>\r\n     <use style=\"fill:#3f3f3f;stroke:#3f3f3f;stroke-linejoin:miter;\" x=\"518.636256\" xlink:href=\"#m5ef21389c0\" y=\"143.1\"/>\r\n     <use style=\"fill:#3f3f3f;stroke:#3f3f3f;stroke-linejoin:miter;\" x=\"546.820334\" xlink:href=\"#m5ef21389c0\" y=\"143.1\"/>\r\n     <use style=\"fill:#3f3f3f;stroke:#3f3f3f;stroke-linejoin:miter;\" x=\"453.627441\" xlink:href=\"#m5ef21389c0\" y=\"143.1\"/>\r\n     <use style=\"fill:#3f3f3f;stroke:#3f3f3f;stroke-linejoin:miter;\" x=\"479.418987\" xlink:href=\"#m5ef21389c0\" y=\"143.1\"/>\r\n     <use style=\"fill:#3f3f3f;stroke:#3f3f3f;stroke-linejoin:miter;\" x=\"542.393266\" xlink:href=\"#m5ef21389c0\" y=\"143.1\"/>\r\n     <use style=\"fill:#3f3f3f;stroke:#3f3f3f;stroke-linejoin:miter;\" x=\"502.384829\" xlink:href=\"#m5ef21389c0\" y=\"143.1\"/>\r\n     <use style=\"fill:#3f3f3f;stroke:#3f3f3f;stroke-linejoin:miter;\" x=\"596.605304\" xlink:href=\"#m5ef21389c0\" y=\"143.1\"/>\r\n     <use style=\"fill:#3f3f3f;stroke:#3f3f3f;stroke-linejoin:miter;\" x=\"430.506206\" xlink:href=\"#m5ef21389c0\" y=\"143.1\"/>\r\n     <use style=\"fill:#3f3f3f;stroke:#3f3f3f;stroke-linejoin:miter;\" x=\"434.819536\" xlink:href=\"#m5ef21389c0\" y=\"143.1\"/>\r\n     <use style=\"fill:#3f3f3f;stroke:#3f3f3f;stroke-linejoin:miter;\" x=\"472.022096\" xlink:href=\"#m5ef21389c0\" y=\"143.1\"/>\r\n     <use style=\"fill:#3f3f3f;stroke:#3f3f3f;stroke-linejoin:miter;\" x=\"443.785585\" xlink:href=\"#m5ef21389c0\" y=\"143.1\"/>\r\n     <use style=\"fill:#3f3f3f;stroke:#3f3f3f;stroke-linejoin:miter;\" x=\"694.502051\" xlink:href=\"#m5ef21389c0\" y=\"143.1\"/>\r\n     <use style=\"fill:#3f3f3f;stroke:#3f3f3f;stroke-linejoin:miter;\" x=\"433.07825\" xlink:href=\"#m5ef21389c0\" y=\"143.1\"/>\r\n     <use style=\"fill:#3f3f3f;stroke:#3f3f3f;stroke-linejoin:miter;\" x=\"486.278881\" xlink:href=\"#m5ef21389c0\" y=\"143.1\"/>\r\n     <use style=\"fill:#3f3f3f;stroke:#3f3f3f;stroke-linejoin:miter;\" x=\"466.189223\" xlink:href=\"#m5ef21389c0\" y=\"143.1\"/>\r\n     <use style=\"fill:#3f3f3f;stroke:#3f3f3f;stroke-linejoin:miter;\" x=\"468.755677\" xlink:href=\"#m5ef21389c0\" y=\"143.1\"/>\r\n     <use style=\"fill:#3f3f3f;stroke:#3f3f3f;stroke-linejoin:miter;\" x=\"437.885528\" xlink:href=\"#m5ef21389c0\" y=\"143.1\"/>\r\n     <use style=\"fill:#3f3f3f;stroke:#3f3f3f;stroke-linejoin:miter;\" x=\"467.004414\" xlink:href=\"#m5ef21389c0\" y=\"143.1\"/>\r\n     <use style=\"fill:#3f3f3f;stroke:#3f3f3f;stroke-linejoin:miter;\" x=\"492.976112\" xlink:href=\"#m5ef21389c0\" y=\"143.1\"/>\r\n     <use style=\"fill:#3f3f3f;stroke:#3f3f3f;stroke-linejoin:miter;\" x=\"502.763966\" xlink:href=\"#m5ef21389c0\" y=\"143.1\"/>\r\n     <use style=\"fill:#3f3f3f;stroke:#3f3f3f;stroke-linejoin:miter;\" x=\"441.790062\" xlink:href=\"#m5ef21389c0\" y=\"143.1\"/>\r\n     <use style=\"fill:#3f3f3f;stroke:#3f3f3f;stroke-linejoin:miter;\" x=\"498.374885\" xlink:href=\"#m5ef21389c0\" y=\"143.1\"/>\r\n     <use style=\"fill:#3f3f3f;stroke:#3f3f3f;stroke-linejoin:miter;\" x=\"491.659734\" xlink:href=\"#m5ef21389c0\" y=\"143.1\"/>\r\n     <use style=\"fill:#3f3f3f;stroke:#3f3f3f;stroke-linejoin:miter;\" x=\"431.739099\" xlink:href=\"#m5ef21389c0\" y=\"143.1\"/>\r\n     <use style=\"fill:#3f3f3f;stroke:#3f3f3f;stroke-linejoin:miter;\" x=\"468.19381\" xlink:href=\"#m5ef21389c0\" y=\"143.1\"/>\r\n     <use style=\"fill:#3f3f3f;stroke:#3f3f3f;stroke-linejoin:miter;\" x=\"575.613301\" xlink:href=\"#m5ef21389c0\" y=\"143.1\"/>\r\n     <use style=\"fill:#3f3f3f;stroke:#3f3f3f;stroke-linejoin:miter;\" x=\"462.054699\" xlink:href=\"#m5ef21389c0\" y=\"143.1\"/>\r\n     <use style=\"fill:#3f3f3f;stroke:#3f3f3f;stroke-linejoin:miter;\" x=\"437.903962\" xlink:href=\"#m5ef21389c0\" y=\"143.1\"/>\r\n     <use style=\"fill:#3f3f3f;stroke:#3f3f3f;stroke-linejoin:miter;\" x=\"479.17311\" xlink:href=\"#m5ef21389c0\" y=\"143.1\"/>\r\n     <use style=\"fill:#3f3f3f;stroke:#3f3f3f;stroke-linejoin:miter;\" x=\"437.428767\" xlink:href=\"#m5ef21389c0\" y=\"143.1\"/>\r\n     <use style=\"fill:#3f3f3f;stroke:#3f3f3f;stroke-linejoin:miter;\" x=\"519.580143\" xlink:href=\"#m5ef21389c0\" y=\"143.1\"/>\r\n     <use style=\"fill:#3f3f3f;stroke:#3f3f3f;stroke-linejoin:miter;\" x=\"533.922992\" xlink:href=\"#m5ef21389c0\" y=\"143.1\"/>\r\n     <use style=\"fill:#3f3f3f;stroke:#3f3f3f;stroke-linejoin:miter;\" x=\"541.588437\" xlink:href=\"#m5ef21389c0\" y=\"143.1\"/>\r\n     <use style=\"fill:#3f3f3f;stroke:#3f3f3f;stroke-linejoin:miter;\" x=\"440.209693\" xlink:href=\"#m5ef21389c0\" y=\"143.1\"/>\r\n     <use style=\"fill:#3f3f3f;stroke:#3f3f3f;stroke-linejoin:miter;\" x=\"475.611184\" xlink:href=\"#m5ef21389c0\" y=\"143.1\"/>\r\n     <use style=\"fill:#3f3f3f;stroke:#3f3f3f;stroke-linejoin:miter;\" x=\"439.501402\" xlink:href=\"#m5ef21389c0\" y=\"143.1\"/>\r\n     <use style=\"fill:#3f3f3f;stroke:#3f3f3f;stroke-linejoin:miter;\" x=\"453.537725\" xlink:href=\"#m5ef21389c0\" y=\"143.1\"/>\r\n     <use style=\"fill:#3f3f3f;stroke:#3f3f3f;stroke-linejoin:miter;\" x=\"437.112072\" xlink:href=\"#m5ef21389c0\" y=\"143.1\"/>\r\n     <use style=\"fill:#3f3f3f;stroke:#3f3f3f;stroke-linejoin:miter;\" x=\"601.363544\" xlink:href=\"#m5ef21389c0\" y=\"143.1\"/>\r\n     <use style=\"fill:#3f3f3f;stroke:#3f3f3f;stroke-linejoin:miter;\" x=\"444.125165\" xlink:href=\"#m5ef21389c0\" y=\"143.1\"/>\r\n     <use style=\"fill:#3f3f3f;stroke:#3f3f3f;stroke-linejoin:miter;\" x=\"431.434479\" xlink:href=\"#m5ef21389c0\" y=\"143.1\"/>\r\n     <use style=\"fill:#3f3f3f;stroke:#3f3f3f;stroke-linejoin:miter;\" x=\"437.969927\" xlink:href=\"#m5ef21389c0\" y=\"143.1\"/>\r\n     <use style=\"fill:#3f3f3f;stroke:#3f3f3f;stroke-linejoin:miter;\" x=\"675.682792\" xlink:href=\"#m5ef21389c0\" y=\"143.1\"/>\r\n     <use style=\"fill:#3f3f3f;stroke:#3f3f3f;stroke-linejoin:miter;\" x=\"521.015672\" xlink:href=\"#m5ef21389c0\" y=\"143.1\"/>\r\n     <use style=\"fill:#3f3f3f;stroke:#3f3f3f;stroke-linejoin:miter;\" x=\"477.266133\" xlink:href=\"#m5ef21389c0\" y=\"143.1\"/>\r\n     <use style=\"fill:#3f3f3f;stroke:#3f3f3f;stroke-linejoin:miter;\" x=\"553.970884\" xlink:href=\"#m5ef21389c0\" y=\"143.1\"/>\r\n     <use style=\"fill:#3f3f3f;stroke:#3f3f3f;stroke-linejoin:miter;\" x=\"502.016934\" xlink:href=\"#m5ef21389c0\" y=\"143.1\"/>\r\n     <use style=\"fill:#3f3f3f;stroke:#3f3f3f;stroke-linejoin:miter;\" x=\"508.527559\" xlink:href=\"#m5ef21389c0\" y=\"143.1\"/>\r\n     <use style=\"fill:#3f3f3f;stroke:#3f3f3f;stroke-linejoin:miter;\" x=\"715.937427\" xlink:href=\"#m5ef21389c0\" y=\"143.1\"/>\r\n     <use style=\"fill:#3f3f3f;stroke:#3f3f3f;stroke-linejoin:miter;\" x=\"473.402534\" xlink:href=\"#m5ef21389c0\" y=\"143.1\"/>\r\n     <use style=\"fill:#3f3f3f;stroke:#3f3f3f;stroke-linejoin:miter;\" x=\"672.955532\" xlink:href=\"#m5ef21389c0\" y=\"143.1\"/>\r\n     <use style=\"fill:#3f3f3f;stroke:#3f3f3f;stroke-linejoin:miter;\" x=\"444.00225\" xlink:href=\"#m5ef21389c0\" y=\"143.1\"/>\r\n     <use style=\"fill:#3f3f3f;stroke:#3f3f3f;stroke-linejoin:miter;\" x=\"540.287144\" xlink:href=\"#m5ef21389c0\" y=\"143.1\"/>\r\n     <use style=\"fill:#3f3f3f;stroke:#3f3f3f;stroke-linejoin:miter;\" x=\"457.119253\" xlink:href=\"#m5ef21389c0\" y=\"143.1\"/>\r\n     <use style=\"fill:#3f3f3f;stroke:#3f3f3f;stroke-linejoin:miter;\" x=\"444.981563\" xlink:href=\"#m5ef21389c0\" y=\"143.1\"/>\r\n     <use style=\"fill:#3f3f3f;stroke:#3f3f3f;stroke-linejoin:miter;\" x=\"462.97293\" xlink:href=\"#m5ef21389c0\" y=\"143.1\"/>\r\n     <use style=\"fill:#3f3f3f;stroke:#3f3f3f;stroke-linejoin:miter;\" x=\"498.117221\" xlink:href=\"#m5ef21389c0\" y=\"143.1\"/>\r\n     <use style=\"fill:#3f3f3f;stroke:#3f3f3f;stroke-linejoin:miter;\" x=\"969.445455\" xlink:href=\"#m5ef21389c0\" y=\"143.1\"/>\r\n     <use style=\"fill:#3f3f3f;stroke:#3f3f3f;stroke-linejoin:miter;\" x=\"433.953834\" xlink:href=\"#m5ef21389c0\" y=\"143.1\"/>\r\n     <use style=\"fill:#3f3f3f;stroke:#3f3f3f;stroke-linejoin:miter;\" x=\"606.528708\" xlink:href=\"#m5ef21389c0\" y=\"143.1\"/>\r\n     <use style=\"fill:#3f3f3f;stroke:#3f3f3f;stroke-linejoin:miter;\" x=\"497.349098\" xlink:href=\"#m5ef21389c0\" y=\"143.1\"/>\r\n     <use style=\"fill:#3f3f3f;stroke:#3f3f3f;stroke-linejoin:miter;\" x=\"523.919529\" xlink:href=\"#m5ef21389c0\" y=\"143.1\"/>\r\n     <use style=\"fill:#3f3f3f;stroke:#3f3f3f;stroke-linejoin:miter;\" x=\"459.337496\" xlink:href=\"#m5ef21389c0\" y=\"143.1\"/>\r\n     <use style=\"fill:#3f3f3f;stroke:#3f3f3f;stroke-linejoin:miter;\" x=\"477.494794\" xlink:href=\"#m5ef21389c0\" y=\"143.1\"/>\r\n     <use style=\"fill:#3f3f3f;stroke:#3f3f3f;stroke-linejoin:miter;\" x=\"449.836774\" xlink:href=\"#m5ef21389c0\" y=\"143.1\"/>\r\n     <use style=\"fill:#3f3f3f;stroke:#3f3f3f;stroke-linejoin:miter;\" x=\"461.392803\" xlink:href=\"#m5ef21389c0\" y=\"143.1\"/>\r\n     <use style=\"fill:#3f3f3f;stroke:#3f3f3f;stroke-linejoin:miter;\" x=\"464.660839\" xlink:href=\"#m5ef21389c0\" y=\"143.1\"/>\r\n     <use style=\"fill:#3f3f3f;stroke:#3f3f3f;stroke-linejoin:miter;\" x=\"529.490719\" xlink:href=\"#m5ef21389c0\" y=\"143.1\"/>\r\n     <use style=\"fill:#3f3f3f;stroke:#3f3f3f;stroke-linejoin:miter;\" x=\"532.484532\" xlink:href=\"#m5ef21389c0\" y=\"143.1\"/>\r\n     <use style=\"fill:#3f3f3f;stroke:#3f3f3f;stroke-linejoin:miter;\" x=\"488.669908\" xlink:href=\"#m5ef21389c0\" y=\"143.1\"/>\r\n     <use style=\"fill:#3f3f3f;stroke:#3f3f3f;stroke-linejoin:miter;\" x=\"520.489822\" xlink:href=\"#m5ef21389c0\" y=\"143.1\"/>\r\n     <use style=\"fill:#3f3f3f;stroke:#3f3f3f;stroke-linejoin:miter;\" x=\"437.024214\" xlink:href=\"#m5ef21389c0\" y=\"143.1\"/>\r\n     <use style=\"fill:#3f3f3f;stroke:#3f3f3f;stroke-linejoin:miter;\" x=\"443.260375\" xlink:href=\"#m5ef21389c0\" y=\"143.1\"/>\r\n     <use style=\"fill:#3f3f3f;stroke:#3f3f3f;stroke-linejoin:miter;\" x=\"521.500428\" xlink:href=\"#m5ef21389c0\" y=\"143.1\"/>\r\n     <use style=\"fill:#3f3f3f;stroke:#3f3f3f;stroke-linejoin:miter;\" x=\"486.817319\" xlink:href=\"#m5ef21389c0\" y=\"143.1\"/>\r\n     <use style=\"fill:#3f3f3f;stroke:#3f3f3f;stroke-linejoin:miter;\" x=\"487.650735\" xlink:href=\"#m5ef21389c0\" y=\"143.1\"/>\r\n     <use style=\"fill:#3f3f3f;stroke:#3f3f3f;stroke-linejoin:miter;\" x=\"568.635921\" xlink:href=\"#m5ef21389c0\" y=\"143.1\"/>\r\n     <use style=\"fill:#3f3f3f;stroke:#3f3f3f;stroke-linejoin:miter;\" x=\"443.487179\" xlink:href=\"#m5ef21389c0\" y=\"143.1\"/>\r\n     <use style=\"fill:#3f3f3f;stroke:#3f3f3f;stroke-linejoin:miter;\" x=\"444.747761\" xlink:href=\"#m5ef21389c0\" y=\"143.1\"/>\r\n     <use style=\"fill:#3f3f3f;stroke:#3f3f3f;stroke-linejoin:miter;\" x=\"458.735655\" xlink:href=\"#m5ef21389c0\" y=\"143.1\"/>\r\n     <use style=\"fill:#3f3f3f;stroke:#3f3f3f;stroke-linejoin:miter;\" x=\"488.302046\" xlink:href=\"#m5ef21389c0\" y=\"143.1\"/>\r\n     <use style=\"fill:#3f3f3f;stroke:#3f3f3f;stroke-linejoin:miter;\" x=\"438.444497\" xlink:href=\"#m5ef21389c0\" y=\"143.1\"/>\r\n     <use style=\"fill:#3f3f3f;stroke:#3f3f3f;stroke-linejoin:miter;\" x=\"562.6232\" xlink:href=\"#m5ef21389c0\" y=\"143.1\"/>\r\n     <use style=\"fill:#3f3f3f;stroke:#3f3f3f;stroke-linejoin:miter;\" x=\"483.867451\" xlink:href=\"#m5ef21389c0\" y=\"143.1\"/>\r\n     <use style=\"fill:#3f3f3f;stroke:#3f3f3f;stroke-linejoin:miter;\" x=\"490.804377\" xlink:href=\"#m5ef21389c0\" y=\"143.1\"/>\r\n     <use style=\"fill:#3f3f3f;stroke:#3f3f3f;stroke-linejoin:miter;\" x=\"608.003105\" xlink:href=\"#m5ef21389c0\" y=\"143.1\"/>\r\n     <use style=\"fill:#3f3f3f;stroke:#3f3f3f;stroke-linejoin:miter;\" x=\"678.815166\" xlink:href=\"#m5ef21389c0\" y=\"143.1\"/>\r\n     <use style=\"fill:#3f3f3f;stroke:#3f3f3f;stroke-linejoin:miter;\" x=\"486.319575\" xlink:href=\"#m5ef21389c0\" y=\"143.1\"/>\r\n     <use style=\"fill:#3f3f3f;stroke:#3f3f3f;stroke-linejoin:miter;\" x=\"450.144388\" xlink:href=\"#m5ef21389c0\" y=\"143.1\"/>\r\n     <use style=\"fill:#3f3f3f;stroke:#3f3f3f;stroke-linejoin:miter;\" x=\"448.016214\" xlink:href=\"#m5ef21389c0\" y=\"143.1\"/>\r\n     <use style=\"fill:#3f3f3f;stroke:#3f3f3f;stroke-linejoin:miter;\" x=\"496.131804\" xlink:href=\"#m5ef21389c0\" y=\"143.1\"/>\r\n     <use style=\"fill:#3f3f3f;stroke:#3f3f3f;stroke-linejoin:miter;\" x=\"508.015834\" xlink:href=\"#m5ef21389c0\" y=\"143.1\"/>\r\n     <use style=\"fill:#3f3f3f;stroke:#3f3f3f;stroke-linejoin:miter;\" x=\"529.491568\" xlink:href=\"#m5ef21389c0\" y=\"143.1\"/>\r\n     <use style=\"fill:#3f3f3f;stroke:#3f3f3f;stroke-linejoin:miter;\" x=\"452.846793\" xlink:href=\"#m5ef21389c0\" y=\"143.1\"/>\r\n     <use style=\"fill:#3f3f3f;stroke:#3f3f3f;stroke-linejoin:miter;\" x=\"571.625794\" xlink:href=\"#m5ef21389c0\" y=\"143.1\"/>\r\n     <use style=\"fill:#3f3f3f;stroke:#3f3f3f;stroke-linejoin:miter;\" x=\"470.478178\" xlink:href=\"#m5ef21389c0\" y=\"143.1\"/>\r\n     <use style=\"fill:#3f3f3f;stroke:#3f3f3f;stroke-linejoin:miter;\" x=\"433.312388\" xlink:href=\"#m5ef21389c0\" y=\"143.1\"/>\r\n     <use style=\"fill:#3f3f3f;stroke:#3f3f3f;stroke-linejoin:miter;\" x=\"433.397636\" xlink:href=\"#m5ef21389c0\" y=\"143.1\"/>\r\n     <use style=\"fill:#3f3f3f;stroke:#3f3f3f;stroke-linejoin:miter;\" x=\"621.062006\" xlink:href=\"#m5ef21389c0\" y=\"143.1\"/>\r\n     <use style=\"fill:#3f3f3f;stroke:#3f3f3f;stroke-linejoin:miter;\" x=\"513.202906\" xlink:href=\"#m5ef21389c0\" y=\"143.1\"/>\r\n     <use style=\"fill:#3f3f3f;stroke:#3f3f3f;stroke-linejoin:miter;\" x=\"545.009656\" xlink:href=\"#m5ef21389c0\" y=\"143.1\"/>\r\n     <use style=\"fill:#3f3f3f;stroke:#3f3f3f;stroke-linejoin:miter;\" x=\"548.636202\" xlink:href=\"#m5ef21389c0\" y=\"143.1\"/>\r\n     <use style=\"fill:#3f3f3f;stroke:#3f3f3f;stroke-linejoin:miter;\" x=\"459.706287\" xlink:href=\"#m5ef21389c0\" y=\"143.1\"/>\r\n     <use style=\"fill:#3f3f3f;stroke:#3f3f3f;stroke-linejoin:miter;\" x=\"480.29787\" xlink:href=\"#m5ef21389c0\" y=\"143.1\"/>\r\n     <use style=\"fill:#3f3f3f;stroke:#3f3f3f;stroke-linejoin:miter;\" x=\"549.502721\" xlink:href=\"#m5ef21389c0\" y=\"143.1\"/>\r\n     <use style=\"fill:#3f3f3f;stroke:#3f3f3f;stroke-linejoin:miter;\" x=\"431.736568\" xlink:href=\"#m5ef21389c0\" y=\"143.1\"/>\r\n     <use style=\"fill:#3f3f3f;stroke:#3f3f3f;stroke-linejoin:miter;\" x=\"455.218042\" xlink:href=\"#m5ef21389c0\" y=\"143.1\"/>\r\n     <use style=\"fill:#3f3f3f;stroke:#3f3f3f;stroke-linejoin:miter;\" x=\"432.767032\" xlink:href=\"#m5ef21389c0\" y=\"143.1\"/>\r\n     <use style=\"fill:#3f3f3f;stroke:#3f3f3f;stroke-linejoin:miter;\" x=\"459.805692\" xlink:href=\"#m5ef21389c0\" y=\"143.1\"/>\r\n     <use style=\"fill:#3f3f3f;stroke:#3f3f3f;stroke-linejoin:miter;\" x=\"526.751303\" xlink:href=\"#m5ef21389c0\" y=\"143.1\"/>\r\n     <use style=\"fill:#3f3f3f;stroke:#3f3f3f;stroke-linejoin:miter;\" x=\"529.023516\" xlink:href=\"#m5ef21389c0\" y=\"143.1\"/>\r\n     <use style=\"fill:#3f3f3f;stroke:#3f3f3f;stroke-linejoin:miter;\" x=\"430.74611\" xlink:href=\"#m5ef21389c0\" y=\"143.1\"/>\r\n     <use style=\"fill:#3f3f3f;stroke:#3f3f3f;stroke-linejoin:miter;\" x=\"455.265062\" xlink:href=\"#m5ef21389c0\" y=\"143.1\"/>\r\n     <use style=\"fill:#3f3f3f;stroke:#3f3f3f;stroke-linejoin:miter;\" x=\"525.010882\" xlink:href=\"#m5ef21389c0\" y=\"143.1\"/>\r\n     <use style=\"fill:#3f3f3f;stroke:#3f3f3f;stroke-linejoin:miter;\" x=\"472.357369\" xlink:href=\"#m5ef21389c0\" y=\"143.1\"/>\r\n     <use style=\"fill:#3f3f3f;stroke:#3f3f3f;stroke-linejoin:miter;\" x=\"490.73657\" xlink:href=\"#m5ef21389c0\" y=\"143.1\"/>\r\n     <use style=\"fill:#3f3f3f;stroke:#3f3f3f;stroke-linejoin:miter;\" x=\"465.627323\" xlink:href=\"#m5ef21389c0\" y=\"143.1\"/>\r\n     <use style=\"fill:#3f3f3f;stroke:#3f3f3f;stroke-linejoin:miter;\" x=\"543.602777\" xlink:href=\"#m5ef21389c0\" y=\"143.1\"/>\r\n     <use style=\"fill:#3f3f3f;stroke:#3f3f3f;stroke-linejoin:miter;\" x=\"537.347366\" xlink:href=\"#m5ef21389c0\" y=\"143.1\"/>\r\n     <use style=\"fill:#3f3f3f;stroke:#3f3f3f;stroke-linejoin:miter;\" x=\"552.912329\" xlink:href=\"#m5ef21389c0\" y=\"143.1\"/>\r\n     <use style=\"fill:#3f3f3f;stroke:#3f3f3f;stroke-linejoin:miter;\" x=\"483.535157\" xlink:href=\"#m5ef21389c0\" y=\"143.1\"/>\r\n     <use style=\"fill:#3f3f3f;stroke:#3f3f3f;stroke-linejoin:miter;\" x=\"495.665193\" xlink:href=\"#m5ef21389c0\" y=\"143.1\"/>\r\n     <use style=\"fill:#3f3f3f;stroke:#3f3f3f;stroke-linejoin:miter;\" x=\"553.040625\" xlink:href=\"#m5ef21389c0\" y=\"143.1\"/>\r\n     <use style=\"fill:#3f3f3f;stroke:#3f3f3f;stroke-linejoin:miter;\" x=\"530.090862\" xlink:href=\"#m5ef21389c0\" y=\"143.1\"/>\r\n     <use style=\"fill:#3f3f3f;stroke:#3f3f3f;stroke-linejoin:miter;\" x=\"453.647716\" xlink:href=\"#m5ef21389c0\" y=\"143.1\"/>\r\n     <use style=\"fill:#3f3f3f;stroke:#3f3f3f;stroke-linejoin:miter;\" x=\"438.292259\" xlink:href=\"#m5ef21389c0\" y=\"143.1\"/>\r\n     <use style=\"fill:#3f3f3f;stroke:#3f3f3f;stroke-linejoin:miter;\" x=\"541.190242\" xlink:href=\"#m5ef21389c0\" y=\"143.1\"/>\r\n     <use style=\"fill:#3f3f3f;stroke:#3f3f3f;stroke-linejoin:miter;\" x=\"499.003599\" xlink:href=\"#m5ef21389c0\" y=\"143.1\"/>\r\n     <use style=\"fill:#3f3f3f;stroke:#3f3f3f;stroke-linejoin:miter;\" x=\"589.603805\" xlink:href=\"#m5ef21389c0\" y=\"143.1\"/>\r\n     <use style=\"fill:#3f3f3f;stroke:#3f3f3f;stroke-linejoin:miter;\" x=\"598.105197\" xlink:href=\"#m5ef21389c0\" y=\"143.1\"/>\r\n     <use style=\"fill:#3f3f3f;stroke:#3f3f3f;stroke-linejoin:miter;\" x=\"502.035639\" xlink:href=\"#m5ef21389c0\" y=\"143.1\"/>\r\n     <use style=\"fill:#3f3f3f;stroke:#3f3f3f;stroke-linejoin:miter;\" x=\"432.473751\" xlink:href=\"#m5ef21389c0\" y=\"143.1\"/>\r\n     <use style=\"fill:#3f3f3f;stroke:#3f3f3f;stroke-linejoin:miter;\" x=\"500.864789\" xlink:href=\"#m5ef21389c0\" y=\"143.1\"/>\r\n     <use style=\"fill:#3f3f3f;stroke:#3f3f3f;stroke-linejoin:miter;\" x=\"462.471263\" xlink:href=\"#m5ef21389c0\" y=\"143.1\"/>\r\n     <use style=\"fill:#3f3f3f;stroke:#3f3f3f;stroke-linejoin:miter;\" x=\"452.190502\" xlink:href=\"#m5ef21389c0\" y=\"143.1\"/>\r\n     <use style=\"fill:#3f3f3f;stroke:#3f3f3f;stroke-linejoin:miter;\" x=\"571.78487\" xlink:href=\"#m5ef21389c0\" y=\"143.1\"/>\r\n     <use style=\"fill:#3f3f3f;stroke:#3f3f3f;stroke-linejoin:miter;\" x=\"441.158465\" xlink:href=\"#m5ef21389c0\" y=\"143.1\"/>\r\n     <use style=\"fill:#3f3f3f;stroke:#3f3f3f;stroke-linejoin:miter;\" x=\"445.457654\" xlink:href=\"#m5ef21389c0\" y=\"143.1\"/>\r\n     <use style=\"fill:#3f3f3f;stroke:#3f3f3f;stroke-linejoin:miter;\" x=\"494.882384\" xlink:href=\"#m5ef21389c0\" y=\"143.1\"/>\r\n     <use style=\"fill:#3f3f3f;stroke:#3f3f3f;stroke-linejoin:miter;\" x=\"593.302339\" xlink:href=\"#m5ef21389c0\" y=\"143.1\"/>\r\n     <use style=\"fill:#3f3f3f;stroke:#3f3f3f;stroke-linejoin:miter;\" x=\"443.227929\" xlink:href=\"#m5ef21389c0\" y=\"143.1\"/>\r\n     <use style=\"fill:#3f3f3f;stroke:#3f3f3f;stroke-linejoin:miter;\" x=\"472.71125\" xlink:href=\"#m5ef21389c0\" y=\"143.1\"/>\r\n     <use style=\"fill:#3f3f3f;stroke:#3f3f3f;stroke-linejoin:miter;\" x=\"456.600642\" xlink:href=\"#m5ef21389c0\" y=\"143.1\"/>\r\n     <use style=\"fill:#3f3f3f;stroke:#3f3f3f;stroke-linejoin:miter;\" x=\"437.790848\" xlink:href=\"#m5ef21389c0\" y=\"143.1\"/>\r\n     <use style=\"fill:#3f3f3f;stroke:#3f3f3f;stroke-linejoin:miter;\" x=\"433.61491\" xlink:href=\"#m5ef21389c0\" y=\"143.1\"/>\r\n     <use style=\"fill:#3f3f3f;stroke:#3f3f3f;stroke-linejoin:miter;\" x=\"493.327095\" xlink:href=\"#m5ef21389c0\" y=\"143.1\"/>\r\n     <use style=\"fill:#3f3f3f;stroke:#3f3f3f;stroke-linejoin:miter;\" x=\"498.221558\" xlink:href=\"#m5ef21389c0\" y=\"143.1\"/>\r\n     <use style=\"fill:#3f3f3f;stroke:#3f3f3f;stroke-linejoin:miter;\" x=\"486.27949\" xlink:href=\"#m5ef21389c0\" y=\"143.1\"/>\r\n     <use style=\"fill:#3f3f3f;stroke:#3f3f3f;stroke-linejoin:miter;\" x=\"435.737095\" xlink:href=\"#m5ef21389c0\" y=\"143.1\"/>\r\n     <use style=\"fill:#3f3f3f;stroke:#3f3f3f;stroke-linejoin:miter;\" x=\"431.506754\" xlink:href=\"#m5ef21389c0\" y=\"143.1\"/>\r\n     <use style=\"fill:#3f3f3f;stroke:#3f3f3f;stroke-linejoin:miter;\" x=\"514.305629\" xlink:href=\"#m5ef21389c0\" y=\"143.1\"/>\r\n     <use style=\"fill:#3f3f3f;stroke:#3f3f3f;stroke-linejoin:miter;\" x=\"453.530534\" xlink:href=\"#m5ef21389c0\" y=\"143.1\"/>\r\n     <use style=\"fill:#3f3f3f;stroke:#3f3f3f;stroke-linejoin:miter;\" x=\"477.850149\" xlink:href=\"#m5ef21389c0\" y=\"143.1\"/>\r\n     <use style=\"fill:#3f3f3f;stroke:#3f3f3f;stroke-linejoin:miter;\" x=\"527.844962\" xlink:href=\"#m5ef21389c0\" y=\"143.1\"/>\r\n     <use style=\"fill:#3f3f3f;stroke:#3f3f3f;stroke-linejoin:miter;\" x=\"432.258478\" xlink:href=\"#m5ef21389c0\" y=\"143.1\"/>\r\n     <use style=\"fill:#3f3f3f;stroke:#3f3f3f;stroke-linejoin:miter;\" x=\"526.666072\" xlink:href=\"#m5ef21389c0\" y=\"143.1\"/>\r\n     <use style=\"fill:#3f3f3f;stroke:#3f3f3f;stroke-linejoin:miter;\" x=\"551.475455\" xlink:href=\"#m5ef21389c0\" y=\"143.1\"/>\r\n     <use style=\"fill:#3f3f3f;stroke:#3f3f3f;stroke-linejoin:miter;\" x=\"658.712167\" xlink:href=\"#m5ef21389c0\" y=\"143.1\"/>\r\n     <use style=\"fill:#3f3f3f;stroke:#3f3f3f;stroke-linejoin:miter;\" x=\"502.956849\" xlink:href=\"#m5ef21389c0\" y=\"143.1\"/>\r\n     <use style=\"fill:#3f3f3f;stroke:#3f3f3f;stroke-linejoin:miter;\" x=\"455.929105\" xlink:href=\"#m5ef21389c0\" y=\"143.1\"/>\r\n     <use style=\"fill:#3f3f3f;stroke:#3f3f3f;stroke-linejoin:miter;\" x=\"487.457451\" xlink:href=\"#m5ef21389c0\" y=\"143.1\"/>\r\n     <use style=\"fill:#3f3f3f;stroke:#3f3f3f;stroke-linejoin:miter;\" x=\"446.768459\" xlink:href=\"#m5ef21389c0\" y=\"143.1\"/>\r\n     <use style=\"fill:#3f3f3f;stroke:#3f3f3f;stroke-linejoin:miter;\" x=\"550.835611\" xlink:href=\"#m5ef21389c0\" y=\"143.1\"/>\r\n     <use style=\"fill:#3f3f3f;stroke:#3f3f3f;stroke-linejoin:miter;\" x=\"506.698783\" xlink:href=\"#m5ef21389c0\" y=\"143.1\"/>\r\n     <use style=\"fill:#3f3f3f;stroke:#3f3f3f;stroke-linejoin:miter;\" x=\"476.094322\" xlink:href=\"#m5ef21389c0\" y=\"143.1\"/>\r\n     <use style=\"fill:#3f3f3f;stroke:#3f3f3f;stroke-linejoin:miter;\" x=\"565.770211\" xlink:href=\"#m5ef21389c0\" y=\"143.1\"/>\r\n     <use style=\"fill:#3f3f3f;stroke:#3f3f3f;stroke-linejoin:miter;\" x=\"503.477478\" xlink:href=\"#m5ef21389c0\" y=\"143.1\"/>\r\n     <use style=\"fill:#3f3f3f;stroke:#3f3f3f;stroke-linejoin:miter;\" x=\"502.113312\" xlink:href=\"#m5ef21389c0\" y=\"143.1\"/>\r\n     <use style=\"fill:#3f3f3f;stroke:#3f3f3f;stroke-linejoin:miter;\" x=\"564.56866\" xlink:href=\"#m5ef21389c0\" y=\"143.1\"/>\r\n     <use style=\"fill:#3f3f3f;stroke:#3f3f3f;stroke-linejoin:miter;\" x=\"464.437367\" xlink:href=\"#m5ef21389c0\" y=\"143.1\"/>\r\n     <use style=\"fill:#3f3f3f;stroke:#3f3f3f;stroke-linejoin:miter;\" x=\"488.068564\" xlink:href=\"#m5ef21389c0\" y=\"143.1\"/>\r\n     <use style=\"fill:#3f3f3f;stroke:#3f3f3f;stroke-linejoin:miter;\" x=\"452.817166\" xlink:href=\"#m5ef21389c0\" y=\"143.1\"/>\r\n     <use style=\"fill:#3f3f3f;stroke:#3f3f3f;stroke-linejoin:miter;\" x=\"458.159631\" xlink:href=\"#m5ef21389c0\" y=\"143.1\"/>\r\n     <use style=\"fill:#3f3f3f;stroke:#3f3f3f;stroke-linejoin:miter;\" x=\"531.522692\" xlink:href=\"#m5ef21389c0\" y=\"143.1\"/>\r\n     <use style=\"fill:#3f3f3f;stroke:#3f3f3f;stroke-linejoin:miter;\" x=\"484.882044\" xlink:href=\"#m5ef21389c0\" y=\"143.1\"/>\r\n     <use style=\"fill:#3f3f3f;stroke:#3f3f3f;stroke-linejoin:miter;\" x=\"545.883414\" xlink:href=\"#m5ef21389c0\" y=\"143.1\"/>\r\n     <use style=\"fill:#3f3f3f;stroke:#3f3f3f;stroke-linejoin:miter;\" x=\"658.208594\" xlink:href=\"#m5ef21389c0\" y=\"143.1\"/>\r\n     <use style=\"fill:#3f3f3f;stroke:#3f3f3f;stroke-linejoin:miter;\" x=\"435.606718\" xlink:href=\"#m5ef21389c0\" y=\"143.1\"/>\r\n     <use style=\"fill:#3f3f3f;stroke:#3f3f3f;stroke-linejoin:miter;\" x=\"513.119244\" xlink:href=\"#m5ef21389c0\" y=\"143.1\"/>\r\n     <use style=\"fill:#3f3f3f;stroke:#3f3f3f;stroke-linejoin:miter;\" x=\"464.543946\" xlink:href=\"#m5ef21389c0\" y=\"143.1\"/>\r\n     <use style=\"fill:#3f3f3f;stroke:#3f3f3f;stroke-linejoin:miter;\" x=\"471.526659\" xlink:href=\"#m5ef21389c0\" y=\"143.1\"/>\r\n     <use style=\"fill:#3f3f3f;stroke:#3f3f3f;stroke-linejoin:miter;\" x=\"563.136238\" xlink:href=\"#m5ef21389c0\" y=\"143.1\"/>\r\n     <use style=\"fill:#3f3f3f;stroke:#3f3f3f;stroke-linejoin:miter;\" x=\"484.789958\" xlink:href=\"#m5ef21389c0\" y=\"143.1\"/>\r\n     <use style=\"fill:#3f3f3f;stroke:#3f3f3f;stroke-linejoin:miter;\" x=\"454.465822\" xlink:href=\"#m5ef21389c0\" y=\"143.1\"/>\r\n     <use style=\"fill:#3f3f3f;stroke:#3f3f3f;stroke-linejoin:miter;\" x=\"430.130272\" xlink:href=\"#m5ef21389c0\" y=\"143.1\"/>\r\n     <use style=\"fill:#3f3f3f;stroke:#3f3f3f;stroke-linejoin:miter;\" x=\"459.542311\" xlink:href=\"#m5ef21389c0\" y=\"143.1\"/>\r\n     <use style=\"fill:#3f3f3f;stroke:#3f3f3f;stroke-linejoin:miter;\" x=\"547.491199\" xlink:href=\"#m5ef21389c0\" y=\"143.1\"/>\r\n     <use style=\"fill:#3f3f3f;stroke:#3f3f3f;stroke-linejoin:miter;\" x=\"440.636027\" xlink:href=\"#m5ef21389c0\" y=\"143.1\"/>\r\n     <use style=\"fill:#3f3f3f;stroke:#3f3f3f;stroke-linejoin:miter;\" x=\"539.767941\" xlink:href=\"#m5ef21389c0\" y=\"143.1\"/>\r\n     <use style=\"fill:#3f3f3f;stroke:#3f3f3f;stroke-linejoin:miter;\" x=\"434.020103\" xlink:href=\"#m5ef21389c0\" y=\"143.1\"/>\r\n     <use style=\"fill:#3f3f3f;stroke:#3f3f3f;stroke-linejoin:miter;\" x=\"514.516706\" xlink:href=\"#m5ef21389c0\" y=\"143.1\"/>\r\n     <use style=\"fill:#3f3f3f;stroke:#3f3f3f;stroke-linejoin:miter;\" x=\"474.355406\" xlink:href=\"#m5ef21389c0\" y=\"143.1\"/>\r\n     <use style=\"fill:#3f3f3f;stroke:#3f3f3f;stroke-linejoin:miter;\" x=\"517.029319\" xlink:href=\"#m5ef21389c0\" y=\"143.1\"/>\r\n     <use style=\"fill:#3f3f3f;stroke:#3f3f3f;stroke-linejoin:miter;\" x=\"485.855495\" xlink:href=\"#m5ef21389c0\" y=\"143.1\"/>\r\n     <use style=\"fill:#3f3f3f;stroke:#3f3f3f;stroke-linejoin:miter;\" x=\"492.380517\" xlink:href=\"#m5ef21389c0\" y=\"143.1\"/>\r\n     <use style=\"fill:#3f3f3f;stroke:#3f3f3f;stroke-linejoin:miter;\" x=\"541.388058\" xlink:href=\"#m5ef21389c0\" y=\"143.1\"/>\r\n     <use style=\"fill:#3f3f3f;stroke:#3f3f3f;stroke-linejoin:miter;\" x=\"490.299939\" xlink:href=\"#m5ef21389c0\" y=\"143.1\"/>\r\n     <use style=\"fill:#3f3f3f;stroke:#3f3f3f;stroke-linejoin:miter;\" x=\"520.998248\" xlink:href=\"#m5ef21389c0\" y=\"143.1\"/>\r\n     <use style=\"fill:#3f3f3f;stroke:#3f3f3f;stroke-linejoin:miter;\" x=\"538.897754\" xlink:href=\"#m5ef21389c0\" y=\"143.1\"/>\r\n     <use style=\"fill:#3f3f3f;stroke:#3f3f3f;stroke-linejoin:miter;\" x=\"442.174996\" xlink:href=\"#m5ef21389c0\" y=\"143.1\"/>\r\n     <use style=\"fill:#3f3f3f;stroke:#3f3f3f;stroke-linejoin:miter;\" x=\"497.757574\" xlink:href=\"#m5ef21389c0\" y=\"143.1\"/>\r\n     <use style=\"fill:#3f3f3f;stroke:#3f3f3f;stroke-linejoin:miter;\" x=\"549.752826\" xlink:href=\"#m5ef21389c0\" y=\"143.1\"/>\r\n     <use style=\"fill:#3f3f3f;stroke:#3f3f3f;stroke-linejoin:miter;\" x=\"435.083126\" xlink:href=\"#m5ef21389c0\" y=\"143.1\"/>\r\n     <use style=\"fill:#3f3f3f;stroke:#3f3f3f;stroke-linejoin:miter;\" x=\"499.647014\" xlink:href=\"#m5ef21389c0\" y=\"143.1\"/>\r\n     <use style=\"fill:#3f3f3f;stroke:#3f3f3f;stroke-linejoin:miter;\" x=\"598.868548\" xlink:href=\"#m5ef21389c0\" y=\"143.1\"/>\r\n     <use style=\"fill:#3f3f3f;stroke:#3f3f3f;stroke-linejoin:miter;\" x=\"441.100171\" xlink:href=\"#m5ef21389c0\" y=\"143.1\"/>\r\n     <use style=\"fill:#3f3f3f;stroke:#3f3f3f;stroke-linejoin:miter;\" x=\"451.83015\" xlink:href=\"#m5ef21389c0\" y=\"143.1\"/>\r\n     <use style=\"fill:#3f3f3f;stroke:#3f3f3f;stroke-linejoin:miter;\" x=\"508.446043\" xlink:href=\"#m5ef21389c0\" y=\"143.1\"/>\r\n     <use style=\"fill:#3f3f3f;stroke:#3f3f3f;stroke-linejoin:miter;\" x=\"431.773467\" xlink:href=\"#m5ef21389c0\" y=\"143.1\"/>\r\n     <use style=\"fill:#3f3f3f;stroke:#3f3f3f;stroke-linejoin:miter;\" x=\"442.183692\" xlink:href=\"#m5ef21389c0\" y=\"143.1\"/>\r\n     <use style=\"fill:#3f3f3f;stroke:#3f3f3f;stroke-linejoin:miter;\" x=\"528.279463\" xlink:href=\"#m5ef21389c0\" y=\"143.1\"/>\r\n     <use style=\"fill:#3f3f3f;stroke:#3f3f3f;stroke-linejoin:miter;\" x=\"442.196889\" xlink:href=\"#m5ef21389c0\" y=\"143.1\"/>\r\n     <use style=\"fill:#3f3f3f;stroke:#3f3f3f;stroke-linejoin:miter;\" x=\"560.48279\" xlink:href=\"#m5ef21389c0\" y=\"143.1\"/>\r\n     <use style=\"fill:#3f3f3f;stroke:#3f3f3f;stroke-linejoin:miter;\" x=\"484.487308\" xlink:href=\"#m5ef21389c0\" y=\"143.1\"/>\r\n     <use style=\"fill:#3f3f3f;stroke:#3f3f3f;stroke-linejoin:miter;\" x=\"432.197878\" xlink:href=\"#m5ef21389c0\" y=\"143.1\"/>\r\n     <use style=\"fill:#3f3f3f;stroke:#3f3f3f;stroke-linejoin:miter;\" x=\"446.760196\" xlink:href=\"#m5ef21389c0\" y=\"143.1\"/>\r\n     <use style=\"fill:#3f3f3f;stroke:#3f3f3f;stroke-linejoin:miter;\" x=\"466.148721\" xlink:href=\"#m5ef21389c0\" y=\"143.1\"/>\r\n     <use style=\"fill:#3f3f3f;stroke:#3f3f3f;stroke-linejoin:miter;\" x=\"496.441852\" xlink:href=\"#m5ef21389c0\" y=\"143.1\"/>\r\n     <use style=\"fill:#3f3f3f;stroke:#3f3f3f;stroke-linejoin:miter;\" x=\"559.679882\" xlink:href=\"#m5ef21389c0\" y=\"143.1\"/>\r\n     <use style=\"fill:#3f3f3f;stroke:#3f3f3f;stroke-linejoin:miter;\" x=\"530.395754\" xlink:href=\"#m5ef21389c0\" y=\"143.1\"/>\r\n     <use style=\"fill:#3f3f3f;stroke:#3f3f3f;stroke-linejoin:miter;\" x=\"477.055617\" xlink:href=\"#m5ef21389c0\" y=\"143.1\"/>\r\n     <use style=\"fill:#3f3f3f;stroke:#3f3f3f;stroke-linejoin:miter;\" x=\"480.240072\" xlink:href=\"#m5ef21389c0\" y=\"143.1\"/>\r\n     <use style=\"fill:#3f3f3f;stroke:#3f3f3f;stroke-linejoin:miter;\" x=\"656.561892\" xlink:href=\"#m5ef21389c0\" y=\"143.1\"/>\r\n     <use style=\"fill:#3f3f3f;stroke:#3f3f3f;stroke-linejoin:miter;\" x=\"575.210557\" xlink:href=\"#m5ef21389c0\" y=\"143.1\"/>\r\n     <use style=\"fill:#3f3f3f;stroke:#3f3f3f;stroke-linejoin:miter;\" x=\"484.043054\" xlink:href=\"#m5ef21389c0\" y=\"143.1\"/>\r\n     <use style=\"fill:#3f3f3f;stroke:#3f3f3f;stroke-linejoin:miter;\" x=\"462.397739\" xlink:href=\"#m5ef21389c0\" y=\"143.1\"/>\r\n     <use style=\"fill:#3f3f3f;stroke:#3f3f3f;stroke-linejoin:miter;\" x=\"465.250092\" xlink:href=\"#m5ef21389c0\" y=\"143.1\"/>\r\n     <use style=\"fill:#3f3f3f;stroke:#3f3f3f;stroke-linejoin:miter;\" x=\"465.552277\" xlink:href=\"#m5ef21389c0\" y=\"143.1\"/>\r\n     <use style=\"fill:#3f3f3f;stroke:#3f3f3f;stroke-linejoin:miter;\" x=\"450.085181\" xlink:href=\"#m5ef21389c0\" y=\"143.1\"/>\r\n     <use style=\"fill:#3f3f3f;stroke:#3f3f3f;stroke-linejoin:miter;\" x=\"459.86831\" xlink:href=\"#m5ef21389c0\" y=\"143.1\"/>\r\n     <use style=\"fill:#3f3f3f;stroke:#3f3f3f;stroke-linejoin:miter;\" x=\"451.978945\" xlink:href=\"#m5ef21389c0\" y=\"143.1\"/>\r\n     <use style=\"fill:#3f3f3f;stroke:#3f3f3f;stroke-linejoin:miter;\" x=\"494.183973\" xlink:href=\"#m5ef21389c0\" y=\"143.1\"/>\r\n     <use style=\"fill:#3f3f3f;stroke:#3f3f3f;stroke-linejoin:miter;\" x=\"515.208022\" xlink:href=\"#m5ef21389c0\" y=\"143.1\"/>\r\n     <use style=\"fill:#3f3f3f;stroke:#3f3f3f;stroke-linejoin:miter;\" x=\"484.330138\" xlink:href=\"#m5ef21389c0\" y=\"143.1\"/>\r\n     <use style=\"fill:#3f3f3f;stroke:#3f3f3f;stroke-linejoin:miter;\" x=\"458.58779\" xlink:href=\"#m5ef21389c0\" y=\"143.1\"/>\r\n     <use style=\"fill:#3f3f3f;stroke:#3f3f3f;stroke-linejoin:miter;\" x=\"447.183646\" xlink:href=\"#m5ef21389c0\" y=\"143.1\"/>\r\n     <use style=\"fill:#3f3f3f;stroke:#3f3f3f;stroke-linejoin:miter;\" x=\"545.160132\" xlink:href=\"#m5ef21389c0\" y=\"143.1\"/>\r\n     <use style=\"fill:#3f3f3f;stroke:#3f3f3f;stroke-linejoin:miter;\" x=\"578.722693\" xlink:href=\"#m5ef21389c0\" y=\"143.1\"/>\r\n     <use style=\"fill:#3f3f3f;stroke:#3f3f3f;stroke-linejoin:miter;\" x=\"488.318317\" xlink:href=\"#m5ef21389c0\" y=\"143.1\"/>\r\n     <use style=\"fill:#3f3f3f;stroke:#3f3f3f;stroke-linejoin:miter;\" x=\"468.654095\" xlink:href=\"#m5ef21389c0\" y=\"143.1\"/>\r\n     <use style=\"fill:#3f3f3f;stroke:#3f3f3f;stroke-linejoin:miter;\" x=\"437.726052\" xlink:href=\"#m5ef21389c0\" y=\"143.1\"/>\r\n     <use style=\"fill:#3f3f3f;stroke:#3f3f3f;stroke-linejoin:miter;\" x=\"541.491755\" xlink:href=\"#m5ef21389c0\" y=\"143.1\"/>\r\n     <use style=\"fill:#3f3f3f;stroke:#3f3f3f;stroke-linejoin:miter;\" x=\"443.980838\" xlink:href=\"#m5ef21389c0\" y=\"143.1\"/>\r\n     <use style=\"fill:#3f3f3f;stroke:#3f3f3f;stroke-linejoin:miter;\" x=\"525.348012\" xlink:href=\"#m5ef21389c0\" y=\"143.1\"/>\r\n     <use style=\"fill:#3f3f3f;stroke:#3f3f3f;stroke-linejoin:miter;\" x=\"501.703282\" xlink:href=\"#m5ef21389c0\" y=\"143.1\"/>\r\n     <use style=\"fill:#3f3f3f;stroke:#3f3f3f;stroke-linejoin:miter;\" x=\"492.593612\" xlink:href=\"#m5ef21389c0\" y=\"143.1\"/>\r\n     <use style=\"fill:#3f3f3f;stroke:#3f3f3f;stroke-linejoin:miter;\" x=\"548.529495\" xlink:href=\"#m5ef21389c0\" y=\"143.1\"/>\r\n     <use style=\"fill:#3f3f3f;stroke:#3f3f3f;stroke-linejoin:miter;\" x=\"532.429585\" xlink:href=\"#m5ef21389c0\" y=\"143.1\"/>\r\n     <use style=\"fill:#3f3f3f;stroke:#3f3f3f;stroke-linejoin:miter;\" x=\"485.009282\" xlink:href=\"#m5ef21389c0\" y=\"143.1\"/>\r\n     <use style=\"fill:#3f3f3f;stroke:#3f3f3f;stroke-linejoin:miter;\" x=\"554.625365\" xlink:href=\"#m5ef21389c0\" y=\"143.1\"/>\r\n     <use style=\"fill:#3f3f3f;stroke:#3f3f3f;stroke-linejoin:miter;\" x=\"533.221811\" xlink:href=\"#m5ef21389c0\" y=\"143.1\"/>\r\n     <use style=\"fill:#3f3f3f;stroke:#3f3f3f;stroke-linejoin:miter;\" x=\"531.466255\" xlink:href=\"#m5ef21389c0\" y=\"143.1\"/>\r\n     <use style=\"fill:#3f3f3f;stroke:#3f3f3f;stroke-linejoin:miter;\" x=\"528.276436\" xlink:href=\"#m5ef21389c0\" y=\"143.1\"/>\r\n     <use style=\"fill:#3f3f3f;stroke:#3f3f3f;stroke-linejoin:miter;\" x=\"459.389368\" xlink:href=\"#m5ef21389c0\" y=\"143.1\"/>\r\n     <use style=\"fill:#3f3f3f;stroke:#3f3f3f;stroke-linejoin:miter;\" x=\"600.039639\" xlink:href=\"#m5ef21389c0\" y=\"143.1\"/>\r\n     <use style=\"fill:#3f3f3f;stroke:#3f3f3f;stroke-linejoin:miter;\" x=\"612.41214\" xlink:href=\"#m5ef21389c0\" y=\"143.1\"/>\r\n     <use style=\"fill:#3f3f3f;stroke:#3f3f3f;stroke-linejoin:miter;\" x=\"440.726991\" xlink:href=\"#m5ef21389c0\" y=\"143.1\"/>\r\n     <use style=\"fill:#3f3f3f;stroke:#3f3f3f;stroke-linejoin:miter;\" x=\"431.860684\" xlink:href=\"#m5ef21389c0\" y=\"143.1\"/>\r\n     <use style=\"fill:#3f3f3f;stroke:#3f3f3f;stroke-linejoin:miter;\" x=\"440.796993\" xlink:href=\"#m5ef21389c0\" y=\"143.1\"/>\r\n     <use style=\"fill:#3f3f3f;stroke:#3f3f3f;stroke-linejoin:miter;\" x=\"463.116296\" xlink:href=\"#m5ef21389c0\" y=\"143.1\"/>\r\n     <use style=\"fill:#3f3f3f;stroke:#3f3f3f;stroke-linejoin:miter;\" x=\"527.235626\" xlink:href=\"#m5ef21389c0\" y=\"143.1\"/>\r\n     <use style=\"fill:#3f3f3f;stroke:#3f3f3f;stroke-linejoin:miter;\" x=\"505.037476\" xlink:href=\"#m5ef21389c0\" y=\"143.1\"/>\r\n     <use style=\"fill:#3f3f3f;stroke:#3f3f3f;stroke-linejoin:miter;\" x=\"440.995738\" xlink:href=\"#m5ef21389c0\" y=\"143.1\"/>\r\n     <use style=\"fill:#3f3f3f;stroke:#3f3f3f;stroke-linejoin:miter;\" x=\"510.231963\" xlink:href=\"#m5ef21389c0\" y=\"143.1\"/>\r\n     <use style=\"fill:#3f3f3f;stroke:#3f3f3f;stroke-linejoin:miter;\" x=\"691.193641\" xlink:href=\"#m5ef21389c0\" y=\"143.1\"/>\r\n     <use style=\"fill:#3f3f3f;stroke:#3f3f3f;stroke-linejoin:miter;\" x=\"457.590028\" xlink:href=\"#m5ef21389c0\" y=\"143.1\"/>\r\n     <use style=\"fill:#3f3f3f;stroke:#3f3f3f;stroke-linejoin:miter;\" x=\"678.326391\" xlink:href=\"#m5ef21389c0\" y=\"143.1\"/>\r\n     <use style=\"fill:#3f3f3f;stroke:#3f3f3f;stroke-linejoin:miter;\" x=\"445.562712\" xlink:href=\"#m5ef21389c0\" y=\"143.1\"/>\r\n     <use style=\"fill:#3f3f3f;stroke:#3f3f3f;stroke-linejoin:miter;\" x=\"488.606297\" xlink:href=\"#m5ef21389c0\" y=\"143.1\"/>\r\n     <use style=\"fill:#3f3f3f;stroke:#3f3f3f;stroke-linejoin:miter;\" x=\"430.622154\" xlink:href=\"#m5ef21389c0\" y=\"143.1\"/>\r\n     <use style=\"fill:#3f3f3f;stroke:#3f3f3f;stroke-linejoin:miter;\" x=\"496.900984\" xlink:href=\"#m5ef21389c0\" y=\"143.1\"/>\r\n     <use style=\"fill:#3f3f3f;stroke:#3f3f3f;stroke-linejoin:miter;\" x=\"499.311646\" xlink:href=\"#m5ef21389c0\" y=\"143.1\"/>\r\n    </g>\r\n   </g>\r\n   <g id=\"line2d_14\">\r\n    <path clip-path=\"url(#pbf8a8a4891)\" d=\"M 165.865376 34.38 \r\nL 165.865376 251.82 \r\n\" style=\"fill:none;stroke:#3f3f3f;stroke-linecap:square;stroke-width:1.5;\"/>\r\n   </g>\r\n   <g id=\"patch_4\">\r\n    <path d=\"M 10.7 279 \r\nL 10.7 7.2 \r\n\" style=\"fill:none;stroke:#000000;stroke-linecap:square;stroke-linejoin:miter;stroke-width:0.8;\"/>\r\n   </g>\r\n   <g id=\"patch_5\">\r\n    <path d=\"M 1015.1 279 \r\nL 1015.1 7.2 \r\n\" style=\"fill:none;stroke:#000000;stroke-linecap:square;stroke-linejoin:miter;stroke-width:0.8;\"/>\r\n   </g>\r\n   <g id=\"patch_6\">\r\n    <path d=\"M 10.7 279 \r\nL 1015.1 279 \r\n\" style=\"fill:none;stroke:#000000;stroke-linecap:square;stroke-linejoin:miter;stroke-width:0.8;\"/>\r\n   </g>\r\n   <g id=\"patch_7\">\r\n    <path d=\"M 10.7 7.2 \r\nL 1015.1 7.2 \r\n\" style=\"fill:none;stroke:#000000;stroke-linecap:square;stroke-linejoin:miter;stroke-width:0.8;\"/>\r\n   </g>\r\n  </g>\r\n </g>\r\n <defs>\r\n  <clipPath id=\"pbf8a8a4891\">\r\n   <rect height=\"271.8\" width=\"1004.4\" x=\"10.7\" y=\"7.2\"/>\r\n  </clipPath>\r\n </defs>\r\n</svg>\r\n",
      "image/png": "[encoded data removed]"
     },
     "metadata": {
      "needs_background": "light"
     }
    }
   ],
   "source": [
    "plt.figure(figsize=(18,5))\n",
    "sns.boxplot(st,data=test)\n",
    "test[st].describe()"
   ]
  },
  {
   "cell_type": "code",
   "execution_count": 381,
   "metadata": {},
   "outputs": [
    {
     "output_type": "stream",
     "name": "stdout",
     "text": [
      "41514.07     2\n54256.33     2\n20323.29     2\n33784.63     2\n43921.71     2\n            ..\n147284.51    1\n275896.15    1\n178529.74    1\n34045.40     1\n173181.60    1\nName: Loan Amount Request (USD), Length: 29982, dtype: int64\n26124.91     2\n70270.27     2\n38409.95     2\n91228.98     2\n74866.17     2\n            ..\n75450.77     1\n54511.59     1\n147414.99    1\n99328.98     1\n90090.53     1\nName: Loan Amount Request (USD), Length: 19988, dtype: int64\n"
     ]
    }
   ],
   "source": [
    "print(train[st].value_counts(dropna=False))\n",
    "print(test[st].value_counts(dropna=False))"
   ]
  },
  {
   "cell_type": "code",
   "execution_count": 382,
   "metadata": {},
   "outputs": [
    {
     "output_type": "stream",
     "name": "stdout",
     "text": [
      "-999.00    177\n NaN       172\n 333.79      6\n 366.37      6\n 323.12      5\n          ... \n 159.11      1\n 733.01      1\n 429.59      1\n 548.57      1\n 170.46      1\nName: Current Loan Expenses (USD), Length: 24042, dtype: int64\nNaN       83\n417.47     4\n297.01     4\n243.54     4\n273.20     4\n          ..\n475.53     1\n285.04     1\n239.84     1\n543.43     1\n679.33     1\nName: Current Loan Expenses (USD), Length: 17248, dtype: int64\n"
     ]
    }
   ],
   "source": [
    "print(train['Current Loan Expenses (USD)'].value_counts(dropna=False))\n",
    "print(test['Current Loan Expenses (USD)'].value_counts(dropna=False))"
   ]
  },
  {
   "cell_type": "code",
   "execution_count": 383,
   "metadata": {},
   "outputs": [],
   "source": [
    "train['Current Loan Expenses (USD)'] = train['Current Loan Expenses (USD)'].replace(-999,np.nan)\n",
    "train['Current Loan Expenses (USD)'] = train['Current Loan Expenses (USD)'].fillna(train['Current Loan Expenses (USD)'].mean())\n",
    "test['Current Loan Expenses (USD)'] = test['Current Loan Expenses (USD)'].fillna(test['Current Loan Expenses (USD)'].mean())\n",
    "train['Credit Score'] = train['Credit Score'].fillna(train['Credit Score'].mean())\n",
    "test['Credit Score'] = test['Credit Score'].fillna(test['Credit Score'].mean())"
   ]
  },
  {
   "cell_type": "markdown",
   "metadata": {},
   "source": [
    "There are some outliers in Property Age and Property Price"
   ]
  },
  {
   "cell_type": "code",
   "execution_count": 384,
   "metadata": {},
   "outputs": [
    {
     "output_type": "stream",
     "name": "stdout",
     "text": [
      "NaN          4850\n4.406658        4\n6.618356        4\n5.042959        3\n5.793205        3\n             ... \n11.501562       1\n4.453041        1\n5.551890        1\n5.164027        1\n4.682027        1\nName: Property Age, Length: 24180, dtype: int64\nNaN         892\n5.606932      3\n5.542274      3\n5.268822      3\n3.565123      3\n           ... \n6.469616      1\n8.996466      1\n3.565863      1\n1.880630      1\n6.108301      1\nName: Property Age, Length: 18561, dtype: int64\n"
     ]
    }
   ],
   "source": [
    "train['Property Age'] = train['Property Age']/(365)\n",
    "test['Property Age'] = test['Property Age']/(365)\n",
    "print(train['Property Age'].value_counts(dropna=False))\n",
    "print(test['Property Age'].value_counts(dropna=False))"
   ]
  },
  {
   "cell_type": "code",
   "execution_count": 385,
   "metadata": {},
   "outputs": [
    {
     "output_type": "stream",
     "name": "stdout",
     "text": [
      "-999.0    352\nName: Property Price, dtype: int64\n-999.0    168\nName: Property Price, dtype: int64\n"
     ]
    }
   ],
   "source": [
    "print(train[train['Property Price']<0]['Property Price'].value_counts(dropna=False))\n",
    "print(test[test['Property Price']<0]['Property Price'].value_counts(dropna=False))"
   ]
  },
  {
   "cell_type": "code",
   "execution_count": 386,
   "metadata": {
    "tags": []
   },
   "outputs": [],
   "source": [
    "df = train[train['Property Age'].isna()][['Property Age']]\n",
    "df2 = train[~train['Property Age'].isna()][['Property Age','Property Location','Property Type']]\n",
    "for i in df.index:\n",
    "    train.loc[i,'Property Age'] = df2[(df2['Property Location']==train.at[i,'Property Location']) & (df2['Property Type'] == train.at[i,'Property Type'])]['Property Age'].mean()"
   ]
  },
  {
   "cell_type": "code",
   "execution_count": 387,
   "metadata": {},
   "outputs": [],
   "source": [
    "df = test[test['Property Age'].isna()][['Property Age']]\n",
    "df2 = test[~test['Property Age'].isna()][['Property Age','Property Location','Property Type']]\n",
    "for i in df.index:\n",
    "    test.loc[i,'Property Age'] = df2[(df2['Property Location']==test.at[i,'Property Location']) & (df2['Property Type'] == test.at[i,'Property Type'])]['Property Age'].mean()"
   ]
  },
  {
   "cell_type": "code",
   "execution_count": 388,
   "metadata": {},
   "outputs": [],
   "source": [
    "train = train[train['Property Age']<90]\n",
    "test = test[test['Property Age']<90]\n",
    "while train['Property Age'].min()>test['Property Age'].min():\n",
    "    test.loc[test['Property Age']==test['Property Age'].min(),'Property Age'] = train['Property Age'].min()"
   ]
  },
  {
   "cell_type": "code",
   "execution_count": 389,
   "metadata": {},
   "outputs": [],
   "source": [
    "df = train[train['Property Price']<0][['Property Price']]\n",
    "df2 = train[train['Property Price']>0][['Property Price','Property Location','Property Type']]\n",
    "for i in df.index:\n",
    "    train.loc[i,'Property Price'] = df2[(df2['Property Location']==train.at[i,'Property Location']) & (df2['Property Type'] == train.at[i,'Property Type'])]['Property Price'].mean()"
   ]
  },
  {
   "cell_type": "code",
   "execution_count": 390,
   "metadata": {},
   "outputs": [],
   "source": [
    "df = test[test['Property Price']<0][['Property Price']]\n",
    "df2 = test[test['Property Price']>0][['Property Price','Property Location','Property Type']]\n",
    "for i in df.index:\n",
    "    test.loc[i,'Property Price'] = df2[(df2['Property Location']==test.at[i,'Property Location']) & (df2['Property Type'] == test.at[i,'Property Type'])]['Property Price'].mean()"
   ]
  },
  {
   "cell_type": "markdown",
   "metadata": {},
   "source": [
    "Income (USD)"
   ]
  },
  {
   "cell_type": "code",
   "execution_count": 391,
   "metadata": {},
   "outputs": [],
   "source": [
    "df = train[train['Income (USD)'].isna()][['Income (USD)']]\n",
    "df2 = train[~train['Income (USD)'].isna()][['Income (USD)','Type of Employment']]\n",
    "for i in df.index:\n",
    "    train.loc[i,'Income (USD)'] = df2[(df2['Type of Employment'] == train.at[i,'Type of Employment'])]['Income (USD)'].mean()"
   ]
  },
  {
   "cell_type": "code",
   "execution_count": 392,
   "metadata": {},
   "outputs": [],
   "source": [
    "df = test[test['Income (USD)'].isna()][['Income (USD)']]\n",
    "df2 = test[~test['Income (USD)'].isna()][['Income (USD)','Type of Employment']]\n",
    "for i in df.index:\n",
    "    test.loc[i,'Income (USD)'] = df2[(df2['Type of Employment'] == test.at[i,'Type of Employment'])]['Income (USD)'].mean()"
   ]
  },
  {
   "cell_type": "code",
   "execution_count": 393,
   "metadata": {},
   "outputs": [
    {
     "output_type": "execute_result",
     "data": {
      "text/plain": [
       "Customer ID                      0\n",
       "Name                             0\n",
       "Gender                           0\n",
       "Age                              0\n",
       "Income (USD)                     0\n",
       "Income Stability                 0\n",
       "Type of Employment               0\n",
       "Location                         0\n",
       "Loan Amount Request (USD)        0\n",
       "Current Loan Expenses (USD)      0\n",
       "Expense Type 1                   0\n",
       "Expense Type 2                   0\n",
       "Dependents                       0\n",
       "Credit Score                     0\n",
       "No. of Defaults                  0\n",
       "Has Active Credit Card           0\n",
       "Property ID                      0\n",
       "Property Age                     0\n",
       "Property Type                    0\n",
       "Property Location                0\n",
       "Co-Applicant                     0\n",
       "Property Price                   0\n",
       "Loan Sanction Amount (USD)     340\n",
       "dtype: int64"
      ]
     },
     "metadata": {},
     "execution_count": 393
    }
   ],
   "source": [
    "train.isnull().sum()"
   ]
  },
  {
   "cell_type": "code",
   "execution_count": 394,
   "metadata": {},
   "outputs": [
    {
     "output_type": "execute_result",
     "data": {
      "text/plain": [
       " 0.00         7863\n",
       " NaN           340\n",
       "-999.00        338\n",
       " 28937.45        3\n",
       " 27767.18        2\n",
       "              ... \n",
       " 126665.42       1\n",
       " 39223.54        1\n",
       " 45498.37        1\n",
       " 64906.87        1\n",
       " 51336.08        1\n",
       "Name: Loan Sanction Amount (USD), Length: 21449, dtype: int64"
      ]
     },
     "metadata": {},
     "execution_count": 394
    }
   ],
   "source": [
    "train['Loan Sanction Amount (USD)'].value_counts(dropna=False)"
   ]
  },
  {
   "cell_type": "code",
   "execution_count": 395,
   "metadata": {},
   "outputs": [],
   "source": [
    "train['Loan Sanction Amount (USD)'] = train['Loan Sanction Amount (USD)'].replace(-999,np.nan)\n",
    "train = train.dropna(subset=['Loan Sanction Amount (USD)'])\n"
   ]
  },
  {
   "cell_type": "code",
   "execution_count": 396,
   "metadata": {},
   "outputs": [
    {
     "output_type": "execute_result",
     "data": {
      "text/plain": [
       "Customer ID                    0\n",
       "Name                           0\n",
       "Gender                         0\n",
       "Age                            0\n",
       "Income (USD)                   0\n",
       "Income Stability               0\n",
       "Type of Employment             0\n",
       "Location                       0\n",
       "Loan Amount Request (USD)      0\n",
       "Current Loan Expenses (USD)    0\n",
       "Expense Type 1                 0\n",
       "Expense Type 2                 0\n",
       "Dependents                     0\n",
       "Credit Score                   0\n",
       "No. of Defaults                0\n",
       "Has Active Credit Card         0\n",
       "Property ID                    0\n",
       "Property Age                   0\n",
       "Property Type                  0\n",
       "Property Location              0\n",
       "Co-Applicant                   0\n",
       "Property Price                 0\n",
       "dtype: int64"
      ]
     },
     "metadata": {},
     "execution_count": 396
    }
   ],
   "source": [
    "test.isnull().sum()"
   ]
  },
  {
   "cell_type": "code",
   "execution_count": 397,
   "metadata": {},
   "outputs": [
    {
     "output_type": "execute_result",
     "data": {
      "text/plain": [
       "       is loan sactioned  Loan Sanction Amount (USD)\n",
       "0                      1                    54607.18\n",
       "1                      1                    37469.98\n",
       "2                      1                    36474.43\n",
       "3                      1                    56040.54\n",
       "4                      1                    74008.28\n",
       "...                  ...                         ...\n",
       "29995                  1                    68992.11\n",
       "29996                  1                    46616.60\n",
       "29997                  1                    61057.56\n",
       "29998                  1                    99766.87\n",
       "29999                  1                   117217.90\n",
       "\n",
       "[29318 rows x 2 columns]"
      ],
      "text/html": "<div>\n<style scoped>\n    .dataframe tbody tr th:only-of-type {\n        vertical-align: middle;\n    }\n\n    .dataframe tbody tr th {\n        vertical-align: top;\n    }\n\n    .dataframe thead th {\n        text-align: right;\n    }\n</style>\n<table border=\"1\" class=\"dataframe\">\n  <thead>\n    <tr style=\"text-align: right;\">\n      <th></th>\n      <th>is loan sactioned</th>\n      <th>Loan Sanction Amount (USD)</th>\n    </tr>\n  </thead>\n  <tbody>\n    <tr>\n      <th>0</th>\n      <td>1</td>\n      <td>54607.18</td>\n    </tr>\n    <tr>\n      <th>1</th>\n      <td>1</td>\n      <td>37469.98</td>\n    </tr>\n    <tr>\n      <th>2</th>\n      <td>1</td>\n      <td>36474.43</td>\n    </tr>\n    <tr>\n      <th>3</th>\n      <td>1</td>\n      <td>56040.54</td>\n    </tr>\n    <tr>\n      <th>4</th>\n      <td>1</td>\n      <td>74008.28</td>\n    </tr>\n    <tr>\n      <th>...</th>\n      <td>...</td>\n      <td>...</td>\n    </tr>\n    <tr>\n      <th>29995</th>\n      <td>1</td>\n      <td>68992.11</td>\n    </tr>\n    <tr>\n      <th>29996</th>\n      <td>1</td>\n      <td>46616.60</td>\n    </tr>\n    <tr>\n      <th>29997</th>\n      <td>1</td>\n      <td>61057.56</td>\n    </tr>\n    <tr>\n      <th>29998</th>\n      <td>1</td>\n      <td>99766.87</td>\n    </tr>\n    <tr>\n      <th>29999</th>\n      <td>1</td>\n      <td>117217.90</td>\n    </tr>\n  </tbody>\n</table>\n<p>29318 rows × 2 columns</p>\n</div>"
     },
     "metadata": {},
     "execution_count": 397
    }
   ],
   "source": [
    "train['Loan Saction Fraction'] = round(train['Loan Sanction Amount (USD)']/train['Loan Amount Request (USD)'],3)\n",
    "train['is loan sactioned'] = 0\n",
    "train.loc[(train['Loan Sanction Amount (USD)'] > 0), ('is loan sactioned')] = 1\n",
    "train[['is loan sactioned','Loan Sanction Amount (USD)']]"
   ]
  },
  {
   "source": [
    "### Binning some numerical variables"
   ],
   "cell_type": "markdown",
   "metadata": {}
  },
  {
   "cell_type": "code",
   "execution_count": 398,
   "metadata": {},
   "outputs": [],
   "source": [
    "train['Age'],bins = pd.cut(train['Age'],8,retbins=True, labels=False)\n",
    "test['Age'] = pd.cut(test['Age'], bins=bins, labels=False, include_lowest=True)"
   ]
  },
  {
   "cell_type": "code",
   "execution_count": 399,
   "metadata": {},
   "outputs": [],
   "source": [
    "train['Property Age'],bins = pd.qcut(train['Property Age'],8,retbins=True, labels=False)\n",
    "test['Property Age'] = pd.cut(test['Property Age'], bins=bins, labels=False, include_lowest=True)"
   ]
  },
  {
   "cell_type": "code",
   "execution_count": 400,
   "metadata": {},
   "outputs": [],
   "source": [
    "train['Property Price'],bins = pd.qcut(train['Property Price'],20,retbins=True, labels=False)\n",
    "test['Property Price'] = pd.cut(test['Property Price'],bins=bins, labels=False, include_lowest=True)"
   ]
  },
  {
   "cell_type": "code",
   "execution_count": 401,
   "metadata": {},
   "outputs": [],
   "source": [
    "train['Loan Amount Request (USD)'],bins = pd.qcut(train['Loan Amount Request (USD)'],20,retbins=True, labels=False)\n",
    "test['Loan Request (USD)'] = test['Loan Amount Request (USD)']\n",
    "test['Loan Amount Request (USD)'] = pd.cut(test['Loan Amount Request (USD)'],bins=bins, labels=False, include_lowest=True)"
   ]
  },
  {
   "cell_type": "markdown",
   "metadata": {},
   "source": [
    "### Step 5 : Feature Engineering"
   ]
  },
  {
   "cell_type": "markdown",
   "metadata": {},
   "source": [
    "__Numerical and One-Hot Coding of Categorical variables__"
   ]
  },
  {
   "cell_type": "code",
   "execution_count": 402,
   "metadata": {},
   "outputs": [],
   "source": [
    "var_mod = ['Gender', 'Age','Property Age','Property Price','Income Stability','Type of Employment', 'Location', 'Expense Type 1', 'Expense Type 2', 'Has Active Credit Card', 'Property Location','Loan Amount Request (USD)']\n",
    "le = LabelEncoder()\n",
    "for i in var_mod:\n",
    "    train[i] = le.fit_transform(train[i])\n",
    "for i in var_mod:\n",
    "    test[i] = le.fit_transform(test[i])    \n",
    "#One Hot Coding:\n",
    "train = pd.get_dummies(train, columns=var_mod)\n",
    "test = pd.get_dummies(test, columns=var_mod)"
   ]
  },
  {
   "cell_type": "markdown",
   "metadata": {},
   "source": [
    "### Step 6: Building Model"
   ]
  },
  {
   "cell_type": "code",
   "execution_count": 403,
   "metadata": {},
   "outputs": [
    {
     "output_type": "execute_result",
     "data": {
      "text/plain": [
       "94"
      ]
     },
     "metadata": {},
     "execution_count": 403
    }
   ],
   "source": [
    "len(train.columns)"
   ]
  },
  {
   "cell_type": "code",
   "execution_count": 404,
   "metadata": {},
   "outputs": [
    {
     "output_type": "execute_result",
     "data": {
      "text/plain": [
       "92"
      ]
     },
     "metadata": {},
     "execution_count": 404
    }
   ],
   "source": [
    "len(test.columns)"
   ]
  },
  {
   "cell_type": "code",
   "execution_count": 405,
   "metadata": {},
   "outputs": [],
   "source": [
    "# a=list(train.columns)\n",
    "# b=list(test.columns)\n",
    "# for i in range(len(a)):\n",
    "#     for j in range(len(b)):\n",
    "#         if a[i]==b[j]:\n",
    "#             a[i]=None\n",
    "#             b[j]=None\n",
    "# for aa in a:\n",
    "#     if aa != None:\n",
    "#         print(aa)\n",
    "# print(\"adsada\")\n",
    "# for aa in b:\n",
    "#     if aa != None:\n",
    "#         print(aa)"
   ]
  },
  {
   "cell_type": "markdown",
   "metadata": {},
   "source": [
    "### Classification Models"
   ]
  },
  {
   "cell_type": "code",
   "execution_count": 406,
   "metadata": {},
   "outputs": [],
   "source": [
    "train = train.select_dtypes(exclude='object')\n",
    "test_customer_ID = test['Customer ID']\n",
    "test = test.select_dtypes(exclude='object')"
   ]
  },
  {
   "cell_type": "code",
   "execution_count": 407,
   "metadata": {},
   "outputs": [],
   "source": [
    "# Seperate Features and Target\n",
    "X= train.drop(columns = ['is loan sactioned','Loan Sanction Amount (USD)','Loan Saction Fraction'], axis=1)\n",
    "y= train['is loan sactioned']\n",
    "# 20% data as validation set\n",
    "X_train,X_valid,y_train,y_valid = train_test_split(X,y,test_size=0.2,random_state=22)"
   ]
  },
  {
   "cell_type": "code",
   "execution_count": 408,
   "metadata": {},
   "outputs": [
    {
     "output_type": "stream",
     "name": "stdout",
     "text": [
      "[14:21:59] WARNING: C:/Users/Administrator/workspace/xgboost-win64_release_1.4.0/src/learner.cc:1095: Starting in XGBoost 1.3.0, the default evaluation metric used with the objective 'binary:logistic' was changed from 'error' to 'logloss'. Explicitly set eval_metric if you'd like to restore the old behavior.\n"
     ]
    },
    {
     "output_type": "execute_result",
     "data": {
      "text/plain": [
       "                                                Algo  \\\n",
       "0                                              SVC()   \n",
       "1                                    SGDClassifier()   \n",
       "2                           DecisionTreeClassifier()   \n",
       "3                                    MLPClassifier()   \n",
       "4  (DecisionTreeClassifier(max_features='auto', r...   \n",
       "5  XGBClassifier(base_score=0.5, booster='gbtree'...   \n",
       "\n",
       "                         Model      RMSE  \n",
       "0       Support Vector Machine  0.512298  \n",
       "1  Stochastic Gradient Descent  0.512963  \n",
       "2                Decision Tree  0.392199  \n",
       "3       Multi-layer perceptron  0.400375  \n",
       "4     Random Forest Classifier  0.284310  \n",
       "5               XGB Classifier  0.287590  "
      ],
      "text/html": "<div>\n<style scoped>\n    .dataframe tbody tr th:only-of-type {\n        vertical-align: middle;\n    }\n\n    .dataframe tbody tr th {\n        vertical-align: top;\n    }\n\n    .dataframe thead th {\n        text-align: right;\n    }\n</style>\n<table border=\"1\" class=\"dataframe\">\n  <thead>\n    <tr style=\"text-align: right;\">\n      <th></th>\n      <th>Algo</th>\n      <th>Model</th>\n      <th>RMSE</th>\n    </tr>\n  </thead>\n  <tbody>\n    <tr>\n      <th>0</th>\n      <td>SVC()</td>\n      <td>Support Vector Machine</td>\n      <td>0.512298</td>\n    </tr>\n    <tr>\n      <th>1</th>\n      <td>SGDClassifier()</td>\n      <td>Stochastic Gradient Descent</td>\n      <td>0.512963</td>\n    </tr>\n    <tr>\n      <th>2</th>\n      <td>DecisionTreeClassifier()</td>\n      <td>Decision Tree</td>\n      <td>0.392199</td>\n    </tr>\n    <tr>\n      <th>3</th>\n      <td>MLPClassifier()</td>\n      <td>Multi-layer perceptron</td>\n      <td>0.400375</td>\n    </tr>\n    <tr>\n      <th>4</th>\n      <td>(DecisionTreeClassifier(max_features='auto', r...</td>\n      <td>Random Forest Classifier</td>\n      <td>0.284310</td>\n    </tr>\n    <tr>\n      <th>5</th>\n      <td>XGBClassifier(base_score=0.5, booster='gbtree'...</td>\n      <td>XGB Classifier</td>\n      <td>0.287590</td>\n    </tr>\n  </tbody>\n</table>\n</div>"
     },
     "metadata": {},
     "execution_count": 408
    }
   ],
   "source": [
    "# from sklearn.svm import SVC\n",
    "# from sklearn.linear_model import SGDClassifier\n",
    "# from sklearn.tree import DecisionTreeClassifier\n",
    "# from sklearn.neural_network import MLPClassifier\n",
    "# from sklearn import metrics\n",
    "# from sklearn.ensemble import RandomForestClassifier\n",
    "# from xgboost import XGBClassifier\n",
    "# algos = [SVC(), SGDClassifier(), DecisionTreeClassifier(),MLPClassifier(),RandomForestClassifier(),XGBClassifier()]\n",
    "\n",
    "# names = ['Support Vector Machine', 'Stochastic Gradient Descent', 'Decision Tree', 'Multi-layer perceptron', 'Random Forest Classifier','XGB Classifier' ]\n",
    "\n",
    "# rmse_list = []\n",
    "# for name in algos:\n",
    "#     model = name\n",
    "#     model.fit(X_train,y_train)\n",
    "#     y_pred = model.predict(X_valid)\n",
    "#     MSE= metrics.mean_squared_error(y_valid,y_pred)\n",
    "#     rmse = np.sqrt(MSE)\n",
    "#     rmse_list.append(rmse)\n",
    "# evaluation = pd.DataFrame({'Algo':algos,'Model': names,'RMSE': rmse_list})\n",
    "# evaluation"
   ]
  },
  {
   "cell_type": "code",
   "execution_count": 409,
   "metadata": {},
   "outputs": [
    {
     "output_type": "execute_result",
     "data": {
      "text/plain": [
       "RandomForestClassifier()"
      ]
     },
     "metadata": {},
     "execution_count": 409
    }
   ],
   "source": [
    "model = RandomForestClassifier() #algos[evaluation[evaluation['RMSE']==evaluation['RMSE'].min()].index[0]]\n",
    "\n",
    "model.fit(X_train,y_train)\n",
    "X_test = test.drop(columns = ['Loan Request (USD)'], axis=1)\n",
    "test['is loan sactioned'] = model.predict(X_test)\n",
    "model"
   ]
  },
  {
   "cell_type": "markdown",
   "metadata": {},
   "source": [
    "### Regression Models"
   ]
  },
  {
   "cell_type": "code",
   "execution_count": 410,
   "metadata": {},
   "outputs": [],
   "source": [
    "# Seperate Features and Target\n",
    "X= train[train['is loan sactioned']==1].drop(columns = ['is loan sactioned','Loan Sanction Amount (USD)','Loan Saction Fraction'], axis=1)\n",
    "X_test = test[test['is loan sactioned']==1].drop(columns = ['is loan sactioned','Loan Request (USD)'], axis=1)\n",
    "y= train[train['is loan sactioned']==1]['Loan Saction Fraction']"
   ]
  },
  {
   "cell_type": "code",
   "execution_count": 411,
   "metadata": {},
   "outputs": [],
   "source": [
    "# 20% data as validation set\n",
    "X_train,X_valid,y_train,y_valid = train_test_split(X,y,test_size=0.2,random_state=22)"
   ]
  },
  {
   "cell_type": "code",
   "execution_count": 412,
   "metadata": {},
   "outputs": [
    {
     "output_type": "execute_result",
     "data": {
      "text/plain": [
       "                                                Algo                    Model  \\\n",
       "0                                 LinearRegression()        Linear Regression   \n",
       "1                                            Ridge()         Ridge Regression   \n",
       "2                                            Lasso()         Lasso Regression   \n",
       "3                              KNeighborsRegressor()    K Neighbors Regressor   \n",
       "4                            DecisionTreeRegressor()  Decision Tree Regressor   \n",
       "5  (DecisionTreeRegressor(max_features='auto', ra...  Random Forest Regressor   \n",
       "6  XGBRegressor(base_score=0.5, booster='gbtree',...       XG Boost Regressor   \n",
       "\n",
       "       RMSE  \n",
       "0  0.042585  \n",
       "1  0.042585  \n",
       "2  0.045326  \n",
       "3  0.046677  \n",
       "4  0.054941  \n",
       "5  0.038797  \n",
       "6  0.039921  "
      ],
      "text/html": "<div>\n<style scoped>\n    .dataframe tbody tr th:only-of-type {\n        vertical-align: middle;\n    }\n\n    .dataframe tbody tr th {\n        vertical-align: top;\n    }\n\n    .dataframe thead th {\n        text-align: right;\n    }\n</style>\n<table border=\"1\" class=\"dataframe\">\n  <thead>\n    <tr style=\"text-align: right;\">\n      <th></th>\n      <th>Algo</th>\n      <th>Model</th>\n      <th>RMSE</th>\n    </tr>\n  </thead>\n  <tbody>\n    <tr>\n      <th>0</th>\n      <td>LinearRegression()</td>\n      <td>Linear Regression</td>\n      <td>0.042585</td>\n    </tr>\n    <tr>\n      <th>1</th>\n      <td>Ridge()</td>\n      <td>Ridge Regression</td>\n      <td>0.042585</td>\n    </tr>\n    <tr>\n      <th>2</th>\n      <td>Lasso()</td>\n      <td>Lasso Regression</td>\n      <td>0.045326</td>\n    </tr>\n    <tr>\n      <th>3</th>\n      <td>KNeighborsRegressor()</td>\n      <td>K Neighbors Regressor</td>\n      <td>0.046677</td>\n    </tr>\n    <tr>\n      <th>4</th>\n      <td>DecisionTreeRegressor()</td>\n      <td>Decision Tree Regressor</td>\n      <td>0.054941</td>\n    </tr>\n    <tr>\n      <th>5</th>\n      <td>(DecisionTreeRegressor(max_features='auto', ra...</td>\n      <td>Random Forest Regressor</td>\n      <td>0.038797</td>\n    </tr>\n    <tr>\n      <th>6</th>\n      <td>XGBRegressor(base_score=0.5, booster='gbtree',...</td>\n      <td>XG Boost Regressor</td>\n      <td>0.039921</td>\n    </tr>\n  </tbody>\n</table>\n</div>"
     },
     "metadata": {},
     "execution_count": 412
    }
   ],
   "source": [
    "# from sklearn.linear_model import Ridge, Lasso, LinearRegression\n",
    "# from sklearn.tree import DecisionTreeRegressor\n",
    "# from sklearn.neighbors import KNeighborsRegressor\n",
    "# from sklearn.ensemble import RandomForestRegressor\n",
    "# from xgboost import XGBRegressor\n",
    "\n",
    "# from sklearn import metrics\n",
    "# algos = [LinearRegression(),  Ridge(), Lasso(),\n",
    "#           KNeighborsRegressor(), DecisionTreeRegressor(),RandomForestRegressor(),XGBRegressor()]\n",
    "\n",
    "# names = ['Linear Regression', 'Ridge Regression', 'Lasso Regression',\n",
    "#          'K Neighbors Regressor', 'Decision Tree Regressor','Random Forest Regressor','XG Boost Regressor']\n",
    "\n",
    "# rmse_list = []\n",
    "# for name in algos:\n",
    "#     model = name\n",
    "#     model.fit(X_train,y_train)\n",
    "#     y_pred = model.predict(X_valid)\n",
    "#     MSE= metrics.mean_squared_error(y_valid,y_pred)\n",
    "#     rmse = np.sqrt(MSE)\n",
    "#     rmse_list.append(rmse)\n",
    "# evaluation = pd.DataFrame({'Algo':algos,'Model': names,'RMSE': rmse_list})\n",
    "# evaluation"
   ]
  },
  {
   "cell_type": "code",
   "execution_count": 413,
   "metadata": {},
   "outputs": [
    {
     "output_type": "execute_result",
     "data": {
      "text/plain": [
       "RandomForestRegressor()"
      ]
     },
     "metadata": {},
     "execution_count": 413
    }
   ],
   "source": [
    "model = RandomForestRegressor() #algos[evaluation[evaluation['RMSE']==evaluation['RMSE'].min()].index[0]]\n",
    "model.fit(X_train,y_train)\n",
    "model"
   ]
  },
  {
   "cell_type": "code",
   "execution_count": 414,
   "metadata": {},
   "outputs": [
    {
     "output_type": "execute_result",
     "data": {
      "text/plain": [
       "47.923882767063475"
      ]
     },
     "metadata": {},
     "execution_count": 414
    }
   ],
   "source": [
    "max(0,100*metrics.r2_score(y_valid, model.predict(X_valid)))"
   ]
  },
  {
   "cell_type": "code",
   "execution_count": 415,
   "metadata": {},
   "outputs": [
    {
     "output_type": "execute_result",
     "data": {
      "text/plain": [
       "(16069, 16069)"
      ]
     },
     "metadata": {},
     "execution_count": 415
    }
   ],
   "source": [
    "predicted_sanction_fraction = model.predict(X_test)\n",
    "len(test[test['is loan sactioned']==1]['is loan sactioned']),len(predicted_sanction_fraction)"
   ]
  },
  {
   "cell_type": "code",
   "execution_count": 416,
   "metadata": {
    "tags": []
   },
   "outputs": [],
   "source": [
    "j=0\n",
    "test['Loan Saction Fraction'] = test['is loan sactioned']\n",
    "for i in test[test['is loan sactioned']==1].index:\n",
    "    test.loc[i,'Loan Saction Fraction'] = predicted_sanction_fraction[j]\n",
    "    j += 1"
   ]
  },
  {
   "cell_type": "code",
   "execution_count": 417,
   "metadata": {},
   "outputs": [],
   "source": [
    "submission = pd.DataFrame()#read_csv('sample.csv')\n",
    "submission['Customer ID'] = test_customer_ID\n",
    "submission['Loan Sanction Amount (USD)'] = test['Loan Saction Fraction']\n",
    "# submission['Loan Amount Request (USD)']=test['Loan Amount Request (USD)']\n",
    "submission['Loan Sanction Amount (USD)'] = test['Loan Saction Fraction'] * test['Loan Request (USD)']\n",
    "submission.to_csv('my_submission.csv', index=False)"
   ]
  }
 ],
 "metadata": {
  "interpreter": {
   "hash": "ffc98276502b517ff6a37fba4ac49b0c9b1089edd339504dfafa40c6c9dd4e74"
  },
  "kernelspec": {
   "name": "python3",
   "display_name": "Python 3.9.4 64-bit"
  },
  "language_info": {
   "codemirror_mode": {
    "name": "ipython",
    "version": 3
   },
   "file_extension": ".py",
   "mimetype": "text/x-python",
   "name": "python",
   "nbconvert_exporter": "python",
   "pygments_lexer": "ipython3",
   "version": "3.9.4"
  }
 },
 "nbformat": 4,
 "nbformat_minor": 2
}